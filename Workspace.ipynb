{
 "cells": [
  {
   "cell_type": "markdown",
   "metadata": {},
   "source": [
    "## Main Library"
   ]
  },
  {
   "cell_type": "code",
   "execution_count": 149,
   "metadata": {},
   "outputs": [],
   "source": [
    "import pandas as pd"
   ]
  },
  {
   "cell_type": "markdown",
   "metadata": {},
   "source": [
    "## OkCupid Example csv"
   ]
  },
  {
   "cell_type": "code",
   "execution_count": 150,
   "metadata": {},
   "outputs": [],
   "source": [
    "okcupid_df = pd.read_csv('okcupid_profiles_1.csv')"
   ]
  },
  {
   "cell_type": "code",
   "execution_count": 151,
   "metadata": {},
   "outputs": [
    {
     "data": {
      "text/plain": [
       "(19999, 31)"
      ]
     },
     "execution_count": 151,
     "metadata": {},
     "output_type": "execute_result"
    }
   ],
   "source": [
    "okcupid_df.shape"
   ]
  },
  {
   "cell_type": "code",
   "execution_count": 152,
   "metadata": {},
   "outputs": [
    {
     "data": {
      "text/plain": [
       "Index(['age', 'status', 'sex', 'orientation', 'body_type', 'diet', 'drinks',\n",
       "       'drugs', 'education', 'ethnicity', 'height', 'income', 'job',\n",
       "       'last_online', 'location', 'offspring', 'pets', 'religion', 'sign',\n",
       "       'smokes', 'speaks', 'essay0', 'essay1', 'essay2', 'essay3', 'essay4',\n",
       "       'essay5', 'essay6', 'essay7', 'essay8', 'essay9'],\n",
       "      dtype='object')"
      ]
     },
     "execution_count": 152,
     "metadata": {},
     "output_type": "execute_result"
    }
   ],
   "source": [
    "okcupid_df.columns"
   ]
  },
  {
   "cell_type": "code",
   "execution_count": 153,
   "metadata": {},
   "outputs": [
    {
     "data": {
      "text/html": [
       "<div>\n",
       "<style scoped>\n",
       "    .dataframe tbody tr th:only-of-type {\n",
       "        vertical-align: middle;\n",
       "    }\n",
       "\n",
       "    .dataframe tbody tr th {\n",
       "        vertical-align: top;\n",
       "    }\n",
       "\n",
       "    .dataframe thead th {\n",
       "        text-align: right;\n",
       "    }\n",
       "</style>\n",
       "<table border=\"1\" class=\"dataframe\">\n",
       "  <thead>\n",
       "    <tr style=\"text-align: right;\">\n",
       "      <th></th>\n",
       "      <th>age</th>\n",
       "      <th>status</th>\n",
       "      <th>sex</th>\n",
       "      <th>orientation</th>\n",
       "      <th>body_type</th>\n",
       "      <th>diet</th>\n",
       "      <th>drinks</th>\n",
       "      <th>drugs</th>\n",
       "      <th>education</th>\n",
       "      <th>ethnicity</th>\n",
       "      <th>...</th>\n",
       "      <th>essay0</th>\n",
       "      <th>essay1</th>\n",
       "      <th>essay2</th>\n",
       "      <th>essay3</th>\n",
       "      <th>essay4</th>\n",
       "      <th>essay5</th>\n",
       "      <th>essay6</th>\n",
       "      <th>essay7</th>\n",
       "      <th>essay8</th>\n",
       "      <th>essay9</th>\n",
       "    </tr>\n",
       "  </thead>\n",
       "  <tbody>\n",
       "    <tr>\n",
       "      <th>0</th>\n",
       "      <td>22</td>\n",
       "      <td>single</td>\n",
       "      <td>m</td>\n",
       "      <td>straight</td>\n",
       "      <td>a little extra</td>\n",
       "      <td>strictly anything</td>\n",
       "      <td>socially</td>\n",
       "      <td>never</td>\n",
       "      <td>working on college/university</td>\n",
       "      <td>asian, white</td>\n",
       "      <td>...</td>\n",
       "      <td>about me:  i would love to think that i was so...</td>\n",
       "      <td>currently working as an international agent fo...</td>\n",
       "      <td>making people laugh. ranting about a good salt...</td>\n",
       "      <td>the way i look. i am a six foot half asian, ha...</td>\n",
       "      <td>books: absurdistan, the republic, of mice and ...</td>\n",
       "      <td>food. water. cell phone. shelter.</td>\n",
       "      <td>duality and humorous things</td>\n",
       "      <td>trying to find someone to hang out with. i am ...</td>\n",
       "      <td>i am new to california and looking for someone...</td>\n",
       "      <td>you want to be swept off your feet! you are ti...</td>\n",
       "    </tr>\n",
       "    <tr>\n",
       "      <th>1</th>\n",
       "      <td>35</td>\n",
       "      <td>single</td>\n",
       "      <td>m</td>\n",
       "      <td>straight</td>\n",
       "      <td>average</td>\n",
       "      <td>mostly other</td>\n",
       "      <td>often</td>\n",
       "      <td>sometimes</td>\n",
       "      <td>working on space camp</td>\n",
       "      <td>white</td>\n",
       "      <td>...</td>\n",
       "      <td>i am a chef: this is what that means. 1. i am ...</td>\n",
       "      <td>dedicating everyday to being an unbelievable b...</td>\n",
       "      <td>being silly. having ridiculous amonts of fun w...</td>\n",
       "      <td>NaN</td>\n",
       "      <td>i am die hard christopher moore fan. i don't r...</td>\n",
       "      <td>delicious porkness in all of its glories. my b...</td>\n",
       "      <td>NaN</td>\n",
       "      <td>NaN</td>\n",
       "      <td>i am very open and will share just about anyth...</td>\n",
       "      <td>NaN</td>\n",
       "    </tr>\n",
       "    <tr>\n",
       "      <th>2</th>\n",
       "      <td>38</td>\n",
       "      <td>available</td>\n",
       "      <td>m</td>\n",
       "      <td>straight</td>\n",
       "      <td>thin</td>\n",
       "      <td>anything</td>\n",
       "      <td>socially</td>\n",
       "      <td>NaN</td>\n",
       "      <td>graduated from masters program</td>\n",
       "      <td>NaN</td>\n",
       "      <td>...</td>\n",
       "      <td>i'm not ashamed of much, but writing public te...</td>\n",
       "      <td>i make nerdy software for musicians, artists, ...</td>\n",
       "      <td>improvising in different contexts. alternating...</td>\n",
       "      <td>my large jaw and large glasses are the physica...</td>\n",
       "      <td>okay this is where the cultural matrix gets so...</td>\n",
       "      <td>movement conversation creation contemplation t...</td>\n",
       "      <td>NaN</td>\n",
       "      <td>viewing. listening. dancing. talking. drinking...</td>\n",
       "      <td>when i was five years old, i was known as \"the...</td>\n",
       "      <td>you are bright, open, intense, silly, ironic, ...</td>\n",
       "    </tr>\n",
       "    <tr>\n",
       "      <th>3</th>\n",
       "      <td>23</td>\n",
       "      <td>single</td>\n",
       "      <td>m</td>\n",
       "      <td>straight</td>\n",
       "      <td>thin</td>\n",
       "      <td>vegetarian</td>\n",
       "      <td>socially</td>\n",
       "      <td>NaN</td>\n",
       "      <td>working on college/university</td>\n",
       "      <td>white</td>\n",
       "      <td>...</td>\n",
       "      <td>i work in a library and go to school. . .</td>\n",
       "      <td>reading things written by old dead people</td>\n",
       "      <td>playing synthesizers and organizing books acco...</td>\n",
       "      <td>socially awkward but i do my best</td>\n",
       "      <td>bataille, celine, beckett. . . lynch, jarmusch...</td>\n",
       "      <td>NaN</td>\n",
       "      <td>cats and german philosophy</td>\n",
       "      <td>NaN</td>\n",
       "      <td>NaN</td>\n",
       "      <td>you feel so inclined.</td>\n",
       "    </tr>\n",
       "    <tr>\n",
       "      <th>4</th>\n",
       "      <td>29</td>\n",
       "      <td>single</td>\n",
       "      <td>m</td>\n",
       "      <td>straight</td>\n",
       "      <td>athletic</td>\n",
       "      <td>NaN</td>\n",
       "      <td>socially</td>\n",
       "      <td>never</td>\n",
       "      <td>graduated from college/university</td>\n",
       "      <td>asian, black, other</td>\n",
       "      <td>...</td>\n",
       "      <td>hey how's it going? currently vague on the pro...</td>\n",
       "      <td>work work work work + play</td>\n",
       "      <td>creating imagery to look at: http://bagsbrown....</td>\n",
       "      <td>i smile a lot and my inquisitive nature</td>\n",
       "      <td>music: bands, rappers, musicians at the moment...</td>\n",
       "      <td>NaN</td>\n",
       "      <td>NaN</td>\n",
       "      <td>NaN</td>\n",
       "      <td>NaN</td>\n",
       "      <td>NaN</td>\n",
       "    </tr>\n",
       "  </tbody>\n",
       "</table>\n",
       "<p>5 rows × 31 columns</p>\n",
       "</div>"
      ],
      "text/plain": [
       "   age     status sex orientation       body_type               diet  \\\n",
       "0   22     single   m    straight  a little extra  strictly anything   \n",
       "1   35     single   m    straight         average       mostly other   \n",
       "2   38  available   m    straight            thin           anything   \n",
       "3   23     single   m    straight            thin         vegetarian   \n",
       "4   29     single   m    straight        athletic                NaN   \n",
       "\n",
       "     drinks      drugs                          education  \\\n",
       "0  socially      never      working on college/university   \n",
       "1     often  sometimes              working on space camp   \n",
       "2  socially        NaN     graduated from masters program   \n",
       "3  socially        NaN      working on college/university   \n",
       "4  socially      never  graduated from college/university   \n",
       "\n",
       "             ethnicity  ...  \\\n",
       "0         asian, white  ...   \n",
       "1                white  ...   \n",
       "2                  NaN  ...   \n",
       "3                white  ...   \n",
       "4  asian, black, other  ...   \n",
       "\n",
       "                                              essay0  \\\n",
       "0  about me:  i would love to think that i was so...   \n",
       "1  i am a chef: this is what that means. 1. i am ...   \n",
       "2  i'm not ashamed of much, but writing public te...   \n",
       "3          i work in a library and go to school. . .   \n",
       "4  hey how's it going? currently vague on the pro...   \n",
       "\n",
       "                                              essay1  \\\n",
       "0  currently working as an international agent fo...   \n",
       "1  dedicating everyday to being an unbelievable b...   \n",
       "2  i make nerdy software for musicians, artists, ...   \n",
       "3          reading things written by old dead people   \n",
       "4                         work work work work + play   \n",
       "\n",
       "                                              essay2  \\\n",
       "0  making people laugh. ranting about a good salt...   \n",
       "1  being silly. having ridiculous amonts of fun w...   \n",
       "2  improvising in different contexts. alternating...   \n",
       "3  playing synthesizers and organizing books acco...   \n",
       "4  creating imagery to look at: http://bagsbrown....   \n",
       "\n",
       "                                              essay3  \\\n",
       "0  the way i look. i am a six foot half asian, ha...   \n",
       "1                                                NaN   \n",
       "2  my large jaw and large glasses are the physica...   \n",
       "3                  socially awkward but i do my best   \n",
       "4            i smile a lot and my inquisitive nature   \n",
       "\n",
       "                                              essay4  \\\n",
       "0  books: absurdistan, the republic, of mice and ...   \n",
       "1  i am die hard christopher moore fan. i don't r...   \n",
       "2  okay this is where the cultural matrix gets so...   \n",
       "3  bataille, celine, beckett. . . lynch, jarmusch...   \n",
       "4  music: bands, rappers, musicians at the moment...   \n",
       "\n",
       "                                              essay5  \\\n",
       "0                  food. water. cell phone. shelter.   \n",
       "1  delicious porkness in all of its glories. my b...   \n",
       "2  movement conversation creation contemplation t...   \n",
       "3                                                NaN   \n",
       "4                                                NaN   \n",
       "\n",
       "                        essay6  \\\n",
       "0  duality and humorous things   \n",
       "1                          NaN   \n",
       "2                          NaN   \n",
       "3   cats and german philosophy   \n",
       "4                          NaN   \n",
       "\n",
       "                                              essay7  \\\n",
       "0  trying to find someone to hang out with. i am ...   \n",
       "1                                                NaN   \n",
       "2  viewing. listening. dancing. talking. drinking...   \n",
       "3                                                NaN   \n",
       "4                                                NaN   \n",
       "\n",
       "                                              essay8  \\\n",
       "0  i am new to california and looking for someone...   \n",
       "1  i am very open and will share just about anyth...   \n",
       "2  when i was five years old, i was known as \"the...   \n",
       "3                                                NaN   \n",
       "4                                                NaN   \n",
       "\n",
       "                                              essay9  \n",
       "0  you want to be swept off your feet! you are ti...  \n",
       "1                                                NaN  \n",
       "2  you are bright, open, intense, silly, ironic, ...  \n",
       "3                              you feel so inclined.  \n",
       "4                                                NaN  \n",
       "\n",
       "[5 rows x 31 columns]"
      ]
     },
     "execution_count": 153,
     "metadata": {},
     "output_type": "execute_result"
    }
   ],
   "source": [
    "okcupid_df.head()"
   ]
  },
  {
   "cell_type": "code",
   "execution_count": 154,
   "metadata": {},
   "outputs": [],
   "source": [
    "okcupid_df.head().to_csv('okcupid_profiles_1_head.csv', index=False)"
   ]
  },
  {
   "cell_type": "markdown",
   "metadata": {},
   "source": [
    "## Use ChatGPT to help Generate Fake Profiles."
   ]
  },
  {
   "cell_type": "code",
   "execution_count": 155,
   "metadata": {},
   "outputs": [],
   "source": [
    "import random\n",
    "from faker import Faker\n",
    "\n",
    "# Initialize Faker instance\n",
    "fake = Faker()\n",
    "\n",
    "# Function to generate a dating app bio\n",
    "def generate_dating_bio():\n",
    "    fun_facts = [\n",
    "        \"I once met a celebrity on a hiking trip.\",\n",
    "        \"I can cook a mean spaghetti carbonara.\",\n",
    "        \"I’ve visited 10 countries in the past 5 years.\",\n",
    "        \"I can speak three languages, and one of them is sarcasm.\",\n",
    "        \"My cat thinks she's the queen of the house.\",\n",
    "        \"I’ve got a collection of 90’s comic books.\",\n",
    "        \"I make the best coffee in town. Don't @ me.\"\n",
    "    ]\n",
    "    \n",
    "    relationship_goals = [\n",
    "        \"Looking for someone who can make me laugh and is up for adventures.\",\n",
    "        \"I'm ready for something serious, but I’m open to seeing where things go.\",\n",
    "        \"Not just looking for a date, but someone to share memories with.\",\n",
    "        \"I’m searching for a genuine connection and deep conversations.\",\n",
    "        \"Casual fun, but always open to something deeper if we click.\",\n",
    "        \"I enjoy spontaneous weekends away, and I need someone who’s up for the ride.\"\n",
    "    ]\n",
    "    \n",
    "    personality_traits = [\n",
    "        \"I'm adventurous, spontaneous, and love trying new things.\",\n",
    "        \"I'm a bit introverted, but once I open up, you'll find I'm a total nerd.\",\n",
    "        \"A good sense of humor is key, and I’m always up for a good laugh.\",\n",
    "        \"I’m thoughtful and love making meaningful connections with people.\",\n",
    "        \"My friends say I’m loyal, easygoing, and always down for an impromptu road trip.\"\n",
    "    ]\n",
    "    \n",
    "    interests = [\n",
    "        \"In my free time, you’ll probably find me reading a good book or binge-watching my favorite shows.\",\n",
    "        \"I love hiking, playing sports, and spending time outdoors.\",\n",
    "        \"On weekends, I’m either trying out new recipes or exploring a new city.\",\n",
    "        \"I’m a tech geek who loves coding, gaming, and anything digital.\",\n",
    "        \"If I’m not working out, I’m catching up on the latest movies and podcasts.\"\n",
    "    ]\n",
    "    \n",
    "    values = [\n",
    "        \"Honesty and trust are the cornerstones of any relationship for me.\",\n",
    "        \"I value open communication and believe it’s key to a lasting relationship.\",\n",
    "        \"I’m all about loyalty, and I believe in supporting each other’s growth.\",\n",
    "        \"Mutual respect and shared goals make for the best relationships.\",\n",
    "        \"I’m into personal growth and want a partner who values that too.\"\n",
    "    ]\n",
    "\n",
    "    # Construct the bio by combining parts randomly\n",
    "    bio = f\"{random.choice(fun_facts)} {random.choice(relationship_goals)} {random.choice(personality_traits)} {random.choice(interests)} {random.choice(values)}\"\n",
    "    \n",
    "    return bio"
   ]
  },
  {
   "cell_type": "code",
   "execution_count": 156,
   "metadata": {},
   "outputs": [],
   "source": [
    "# Function to generate random profiles\n",
    "def generate_random_profile():\n",
    "    # Random profile data\n",
    "    birth_date = fake.date_of_birth(minimum_age=18, maximum_age=30)\n",
    "    gender = random.choice(['m', 'f', 'others'])\n",
    "    preferred_gender = random.choice(['m', 'f', 'others', 'any'])\n",
    "    looking_for = random.choice([\n",
    "        'long-term partner', 'long-term but short-term OK', 'short-term but long-term OK', 'casual fun', 'new friends', 'still figuring it out'\n",
    "    ])\n",
    "    faculty = random.choice([\n",
    "        'Engineering', 'Business', 'Architecture', 'Law', 'Science', 'Medicine', 'Arts'\n",
    "    ])\n",
    "    personal_traits = random.sample([\n",
    "        'outgoing', 'shy', 'funny', 'adventurous', 'thoughtful', 'introverted', 'creative', 'ambitious', 'curious'\n",
    "    ], k=random.randint(1, 3))\n",
    "    interests = random.sample([\n",
    "        'reading', 'traveling', 'sports', 'music', 'cooking', 'hiking', 'gaming', 'photography', 'technology', 'fashion'\n",
    "    ], k=random.randint(1, 3))\n",
    "    values = random.sample([\n",
    "        'honesty', 'loyalty', 'creativity', 'responsibility', 'empathy', 'respect', 'independence', 'spirituality'\n",
    "    ], k=random.randint(1, 3))\n",
    "    \n",
    "    # Generate a dating-related bio\n",
    "    bio = generate_dating_bio()\n",
    "\n",
    "    # Return profile\n",
    "    return {\n",
    "        'BirthDate': birth_date,\n",
    "        'Gender': gender,\n",
    "        'PreferredGender': preferred_gender,\n",
    "        'LookingFor': looking_for,\n",
    "        'Faculty': faculty,\n",
    "        'PersonalTraits': ', '.join(personal_traits),\n",
    "        'Interests': ', '.join(interests),\n",
    "        'Values': ', '.join(values),\n",
    "        'Bio': bio\n",
    "    }\n",
    "\n",
    "# Generate random profiles\n",
    "num_profiles = 2000  # Generate 2000 profiles\n",
    "profiles = [generate_random_profile() for _ in range(num_profiles)]\n",
    "\n",
    "# Convert to DataFrame\n",
    "import pandas as pd\n",
    "df_profiles = pd.DataFrame(profiles)"
   ]
  },
  {
   "cell_type": "code",
   "execution_count": 157,
   "metadata": {},
   "outputs": [],
   "source": [
    "# Save to CSV\n",
    "df_profiles.to_csv('random_chulalongkorn_profiles.csv', index=False)\n",
    "df_profiles.head().to_csv('random_chulalongkorn_profiles_head.csv', index=False)\n",
    "\n",
    "# Save to .pkl\n",
    "df_profiles.to_pickle('random_chulalongkorn_profiles.pkl')"
   ]
  },
  {
   "cell_type": "code",
   "execution_count": 158,
   "metadata": {},
   "outputs": [
    {
     "data": {
      "text/html": [
       "<div>\n",
       "<style scoped>\n",
       "    .dataframe tbody tr th:only-of-type {\n",
       "        vertical-align: middle;\n",
       "    }\n",
       "\n",
       "    .dataframe tbody tr th {\n",
       "        vertical-align: top;\n",
       "    }\n",
       "\n",
       "    .dataframe thead th {\n",
       "        text-align: right;\n",
       "    }\n",
       "</style>\n",
       "<table border=\"1\" class=\"dataframe\">\n",
       "  <thead>\n",
       "    <tr style=\"text-align: right;\">\n",
       "      <th></th>\n",
       "      <th>BirthDate</th>\n",
       "      <th>Gender</th>\n",
       "      <th>PreferredGender</th>\n",
       "      <th>LookingFor</th>\n",
       "      <th>Faculty</th>\n",
       "      <th>PersonalTraits</th>\n",
       "      <th>Interests</th>\n",
       "      <th>Values</th>\n",
       "      <th>Bio</th>\n",
       "    </tr>\n",
       "  </thead>\n",
       "  <tbody>\n",
       "    <tr>\n",
       "      <th>0</th>\n",
       "      <td>2006-02-18</td>\n",
       "      <td>f</td>\n",
       "      <td>others</td>\n",
       "      <td>new friends</td>\n",
       "      <td>Engineering</td>\n",
       "      <td>adventurous, shy</td>\n",
       "      <td>traveling, technology</td>\n",
       "      <td>spirituality, empathy, responsibility</td>\n",
       "      <td>I make the best coffee in town. Don't @ me. No...</td>\n",
       "    </tr>\n",
       "    <tr>\n",
       "      <th>1</th>\n",
       "      <td>2002-08-29</td>\n",
       "      <td>m</td>\n",
       "      <td>m</td>\n",
       "      <td>still figuring it out</td>\n",
       "      <td>Arts</td>\n",
       "      <td>curious, shy, ambitious</td>\n",
       "      <td>technology, photography</td>\n",
       "      <td>respect, independence</td>\n",
       "      <td>I’ve got a collection of 90’s comic books. I'm...</td>\n",
       "    </tr>\n",
       "    <tr>\n",
       "      <th>2</th>\n",
       "      <td>1999-08-11</td>\n",
       "      <td>others</td>\n",
       "      <td>f</td>\n",
       "      <td>new friends</td>\n",
       "      <td>Business</td>\n",
       "      <td>shy, creative, thoughtful</td>\n",
       "      <td>sports, cooking, technology</td>\n",
       "      <td>independence, loyalty</td>\n",
       "      <td>I can speak three languages, and one of them i...</td>\n",
       "    </tr>\n",
       "    <tr>\n",
       "      <th>3</th>\n",
       "      <td>1995-06-21</td>\n",
       "      <td>m</td>\n",
       "      <td>any</td>\n",
       "      <td>long-term partner</td>\n",
       "      <td>Law</td>\n",
       "      <td>outgoing, ambitious, adventurous</td>\n",
       "      <td>fashion, photography</td>\n",
       "      <td>loyalty, respect, spirituality</td>\n",
       "      <td>I’ve got a collection of 90’s comic books. I e...</td>\n",
       "    </tr>\n",
       "    <tr>\n",
       "      <th>4</th>\n",
       "      <td>1995-05-05</td>\n",
       "      <td>f</td>\n",
       "      <td>f</td>\n",
       "      <td>short-term but long-term OK</td>\n",
       "      <td>Architecture</td>\n",
       "      <td>creative</td>\n",
       "      <td>reading, fashion, traveling</td>\n",
       "      <td>responsibility, loyalty</td>\n",
       "      <td>I’ve got a collection of 90’s comic books. I'm...</td>\n",
       "    </tr>\n",
       "    <tr>\n",
       "      <th>...</th>\n",
       "      <td>...</td>\n",
       "      <td>...</td>\n",
       "      <td>...</td>\n",
       "      <td>...</td>\n",
       "      <td>...</td>\n",
       "      <td>...</td>\n",
       "      <td>...</td>\n",
       "      <td>...</td>\n",
       "      <td>...</td>\n",
       "    </tr>\n",
       "    <tr>\n",
       "      <th>1995</th>\n",
       "      <td>2000-08-08</td>\n",
       "      <td>others</td>\n",
       "      <td>m</td>\n",
       "      <td>short-term but long-term OK</td>\n",
       "      <td>Arts</td>\n",
       "      <td>funny, creative</td>\n",
       "      <td>fashion</td>\n",
       "      <td>creativity, empathy</td>\n",
       "      <td>I’ve visited 10 countries in the past 5 years....</td>\n",
       "    </tr>\n",
       "    <tr>\n",
       "      <th>1996</th>\n",
       "      <td>2005-07-09</td>\n",
       "      <td>others</td>\n",
       "      <td>f</td>\n",
       "      <td>long-term partner</td>\n",
       "      <td>Engineering</td>\n",
       "      <td>curious, outgoing, adventurous</td>\n",
       "      <td>music, reading</td>\n",
       "      <td>respect, responsibility</td>\n",
       "      <td>I’ve visited 10 countries in the past 5 years....</td>\n",
       "    </tr>\n",
       "    <tr>\n",
       "      <th>1997</th>\n",
       "      <td>1998-02-20</td>\n",
       "      <td>m</td>\n",
       "      <td>others</td>\n",
       "      <td>short-term but long-term OK</td>\n",
       "      <td>Arts</td>\n",
       "      <td>introverted, shy, funny</td>\n",
       "      <td>photography, technology, cooking</td>\n",
       "      <td>spirituality</td>\n",
       "      <td>I’ve visited 10 countries in the past 5 years....</td>\n",
       "    </tr>\n",
       "    <tr>\n",
       "      <th>1998</th>\n",
       "      <td>1999-03-06</td>\n",
       "      <td>others</td>\n",
       "      <td>others</td>\n",
       "      <td>long-term partner</td>\n",
       "      <td>Medicine</td>\n",
       "      <td>adventurous, thoughtful, curious</td>\n",
       "      <td>music, hiking</td>\n",
       "      <td>honesty, responsibility</td>\n",
       "      <td>I make the best coffee in town. Don't @ me. Ca...</td>\n",
       "    </tr>\n",
       "    <tr>\n",
       "      <th>1999</th>\n",
       "      <td>2003-04-03</td>\n",
       "      <td>f</td>\n",
       "      <td>others</td>\n",
       "      <td>casual fun</td>\n",
       "      <td>Science</td>\n",
       "      <td>outgoing, shy, introverted</td>\n",
       "      <td>cooking, sports</td>\n",
       "      <td>independence</td>\n",
       "      <td>I once met a celebrity on a hiking trip. Not j...</td>\n",
       "    </tr>\n",
       "  </tbody>\n",
       "</table>\n",
       "<p>2000 rows × 9 columns</p>\n",
       "</div>"
      ],
      "text/plain": [
       "       BirthDate  Gender PreferredGender                   LookingFor  \\\n",
       "0     2006-02-18       f          others                  new friends   \n",
       "1     2002-08-29       m               m        still figuring it out   \n",
       "2     1999-08-11  others               f                  new friends   \n",
       "3     1995-06-21       m             any            long-term partner   \n",
       "4     1995-05-05       f               f  short-term but long-term OK   \n",
       "...          ...     ...             ...                          ...   \n",
       "1995  2000-08-08  others               m  short-term but long-term OK   \n",
       "1996  2005-07-09  others               f            long-term partner   \n",
       "1997  1998-02-20       m          others  short-term but long-term OK   \n",
       "1998  1999-03-06  others          others            long-term partner   \n",
       "1999  2003-04-03       f          others                   casual fun   \n",
       "\n",
       "           Faculty                    PersonalTraits  \\\n",
       "0      Engineering                  adventurous, shy   \n",
       "1             Arts           curious, shy, ambitious   \n",
       "2         Business         shy, creative, thoughtful   \n",
       "3              Law  outgoing, ambitious, adventurous   \n",
       "4     Architecture                          creative   \n",
       "...            ...                               ...   \n",
       "1995          Arts                   funny, creative   \n",
       "1996   Engineering    curious, outgoing, adventurous   \n",
       "1997          Arts           introverted, shy, funny   \n",
       "1998      Medicine  adventurous, thoughtful, curious   \n",
       "1999       Science        outgoing, shy, introverted   \n",
       "\n",
       "                             Interests                                 Values  \\\n",
       "0                traveling, technology  spirituality, empathy, responsibility   \n",
       "1              technology, photography                  respect, independence   \n",
       "2          sports, cooking, technology                  independence, loyalty   \n",
       "3                 fashion, photography         loyalty, respect, spirituality   \n",
       "4          reading, fashion, traveling                responsibility, loyalty   \n",
       "...                                ...                                    ...   \n",
       "1995                           fashion                    creativity, empathy   \n",
       "1996                    music, reading                respect, responsibility   \n",
       "1997  photography, technology, cooking                           spirituality   \n",
       "1998                     music, hiking                honesty, responsibility   \n",
       "1999                   cooking, sports                           independence   \n",
       "\n",
       "                                                    Bio  \n",
       "0     I make the best coffee in town. Don't @ me. No...  \n",
       "1     I’ve got a collection of 90’s comic books. I'm...  \n",
       "2     I can speak three languages, and one of them i...  \n",
       "3     I’ve got a collection of 90’s comic books. I e...  \n",
       "4     I’ve got a collection of 90’s comic books. I'm...  \n",
       "...                                                 ...  \n",
       "1995  I’ve visited 10 countries in the past 5 years....  \n",
       "1996  I’ve visited 10 countries in the past 5 years....  \n",
       "1997  I’ve visited 10 countries in the past 5 years....  \n",
       "1998  I make the best coffee in town. Don't @ me. Ca...  \n",
       "1999  I once met a celebrity on a hiking trip. Not j...  \n",
       "\n",
       "[2000 rows x 9 columns]"
      ]
     },
     "execution_count": 158,
     "metadata": {},
     "output_type": "execute_result"
    }
   ],
   "source": [
    "df_profiles"
   ]
  },
  {
   "cell_type": "markdown",
   "metadata": {},
   "source": [
    "## NLP Data Exploration and Analysis on Dating Profile Bio"
   ]
  },
  {
   "cell_type": "markdown",
   "metadata": {},
   "source": [
    "### Importing Libraries"
   ]
  },
  {
   "cell_type": "code",
   "execution_count": 159,
   "metadata": {},
   "outputs": [],
   "source": [
    "import pandas as pd\n",
    "# pd.set_option('display.max_colwidth', 500)\n",
    "import numpy as np\n",
    "import plotly.express as px\n",
    "import _pickle as pickle\n",
    "from nltk.stem import WordNetLemmatizer\n",
    "from nltk import FreqDist\n",
    "from nltk.corpus import stopwords\n",
    "from nltk.collocations import BigramAssocMeasures, BigramCollocationFinder\n",
    "\n",
    "# Also, in terminals: python -m nltk.downloader all\n",
    "# May take a while\n"
   ]
  },
  {
   "cell_type": "markdown",
   "metadata": {},
   "source": [
    "### Loading .pkl file"
   ]
  },
  {
   "cell_type": "code",
   "execution_count": 160,
   "metadata": {},
   "outputs": [],
   "source": [
    "with open(\"random_chulalongkorn_profiles.pkl\",'rb') as file: # rb is read binary, to read as binary\n",
    "    df_pkl = pickle.load(file)"
   ]
  },
  {
   "cell_type": "code",
   "execution_count": 161,
   "metadata": {},
   "outputs": [
    {
     "data": {
      "text/html": [
       "<div>\n",
       "<style scoped>\n",
       "    .dataframe tbody tr th:only-of-type {\n",
       "        vertical-align: middle;\n",
       "    }\n",
       "\n",
       "    .dataframe tbody tr th {\n",
       "        vertical-align: top;\n",
       "    }\n",
       "\n",
       "    .dataframe thead th {\n",
       "        text-align: right;\n",
       "    }\n",
       "</style>\n",
       "<table border=\"1\" class=\"dataframe\">\n",
       "  <thead>\n",
       "    <tr style=\"text-align: right;\">\n",
       "      <th></th>\n",
       "      <th>BirthDate</th>\n",
       "      <th>Gender</th>\n",
       "      <th>PreferredGender</th>\n",
       "      <th>LookingFor</th>\n",
       "      <th>Faculty</th>\n",
       "      <th>PersonalTraits</th>\n",
       "      <th>Interests</th>\n",
       "      <th>Values</th>\n",
       "      <th>Bio</th>\n",
       "    </tr>\n",
       "  </thead>\n",
       "  <tbody>\n",
       "    <tr>\n",
       "      <th>0</th>\n",
       "      <td>2006-02-18</td>\n",
       "      <td>f</td>\n",
       "      <td>others</td>\n",
       "      <td>new friends</td>\n",
       "      <td>Engineering</td>\n",
       "      <td>adventurous, shy</td>\n",
       "      <td>traveling, technology</td>\n",
       "      <td>spirituality, empathy, responsibility</td>\n",
       "      <td>I make the best coffee in town. Don't @ me. No...</td>\n",
       "    </tr>\n",
       "    <tr>\n",
       "      <th>1</th>\n",
       "      <td>2002-08-29</td>\n",
       "      <td>m</td>\n",
       "      <td>m</td>\n",
       "      <td>still figuring it out</td>\n",
       "      <td>Arts</td>\n",
       "      <td>curious, shy, ambitious</td>\n",
       "      <td>technology, photography</td>\n",
       "      <td>respect, independence</td>\n",
       "      <td>I’ve got a collection of 90’s comic books. I'm...</td>\n",
       "    </tr>\n",
       "    <tr>\n",
       "      <th>2</th>\n",
       "      <td>1999-08-11</td>\n",
       "      <td>others</td>\n",
       "      <td>f</td>\n",
       "      <td>new friends</td>\n",
       "      <td>Business</td>\n",
       "      <td>shy, creative, thoughtful</td>\n",
       "      <td>sports, cooking, technology</td>\n",
       "      <td>independence, loyalty</td>\n",
       "      <td>I can speak three languages, and one of them i...</td>\n",
       "    </tr>\n",
       "    <tr>\n",
       "      <th>3</th>\n",
       "      <td>1995-06-21</td>\n",
       "      <td>m</td>\n",
       "      <td>any</td>\n",
       "      <td>long-term partner</td>\n",
       "      <td>Law</td>\n",
       "      <td>outgoing, ambitious, adventurous</td>\n",
       "      <td>fashion, photography</td>\n",
       "      <td>loyalty, respect, spirituality</td>\n",
       "      <td>I’ve got a collection of 90’s comic books. I e...</td>\n",
       "    </tr>\n",
       "    <tr>\n",
       "      <th>4</th>\n",
       "      <td>1995-05-05</td>\n",
       "      <td>f</td>\n",
       "      <td>f</td>\n",
       "      <td>short-term but long-term OK</td>\n",
       "      <td>Architecture</td>\n",
       "      <td>creative</td>\n",
       "      <td>reading, fashion, traveling</td>\n",
       "      <td>responsibility, loyalty</td>\n",
       "      <td>I’ve got a collection of 90’s comic books. I'm...</td>\n",
       "    </tr>\n",
       "  </tbody>\n",
       "</table>\n",
       "</div>"
      ],
      "text/plain": [
       "    BirthDate  Gender PreferredGender                   LookingFor  \\\n",
       "0  2006-02-18       f          others                  new friends   \n",
       "1  2002-08-29       m               m        still figuring it out   \n",
       "2  1999-08-11  others               f                  new friends   \n",
       "3  1995-06-21       m             any            long-term partner   \n",
       "4  1995-05-05       f               f  short-term but long-term OK   \n",
       "\n",
       "        Faculty                    PersonalTraits  \\\n",
       "0   Engineering                  adventurous, shy   \n",
       "1          Arts           curious, shy, ambitious   \n",
       "2      Business         shy, creative, thoughtful   \n",
       "3           Law  outgoing, ambitious, adventurous   \n",
       "4  Architecture                          creative   \n",
       "\n",
       "                     Interests                                 Values  \\\n",
       "0        traveling, technology  spirituality, empathy, responsibility   \n",
       "1      technology, photography                  respect, independence   \n",
       "2  sports, cooking, technology                  independence, loyalty   \n",
       "3         fashion, photography         loyalty, respect, spirituality   \n",
       "4  reading, fashion, traveling                responsibility, loyalty   \n",
       "\n",
       "                                                 Bio  \n",
       "0  I make the best coffee in town. Don't @ me. No...  \n",
       "1  I’ve got a collection of 90’s comic books. I'm...  \n",
       "2  I can speak three languages, and one of them i...  \n",
       "3  I’ve got a collection of 90’s comic books. I e...  \n",
       "4  I’ve got a collection of 90’s comic books. I'm...  "
      ]
     },
     "execution_count": 161,
     "metadata": {},
     "output_type": "execute_result"
    }
   ],
   "source": [
    "df_pkl.head()"
   ]
  },
  {
   "cell_type": "markdown",
   "metadata": {},
   "source": [
    "### Tokenization"
   ]
  },
  {
   "cell_type": "markdown",
   "metadata": {},
   "source": [
    "the process of splitting up sentences into individual tokens.\n",
    "\n",
    "i.e. “Take this sentence for an example of tokenization.”\n",
    "\n",
    "Tokenization: [‘Take’, ‘this’, ‘sentence’, ‘for’, ‘an’, ‘example’, ‘of’, ‘tokenization.’]"
   ]
  },
  {
   "cell_type": "markdown",
   "metadata": {},
   "source": [
    "### Stemming vs Lemmatization"
   ]
  },
  {
   "cell_type": "markdown",
   "metadata": {},
   "source": [
    "Both are the act of breaking down a word to its most basic components."
   ]
  },
  {
   "cell_type": "markdown",
   "metadata": {},
   "source": [
    "i.e. “tokenization”\n",
    "* Stemming: “tokeniza” by simply removing -tion\n",
    "* Lemmatizing: “tokenize” by returning the base form of the word."
   ]
  },
  {
   "cell_type": "markdown",
   "metadata": {},
   "source": [
    "### Tokenization and Lemmatization"
   ]
  },
  {
   "cell_type": "code",
   "execution_count": 162,
   "metadata": {},
   "outputs": [],
   "source": [
    "# Instantiating the lemmatizer\n",
    "lemmatizer = WordNetLemmatizer()\n",
    "\n",
    "# Tokenizing Function\n",
    "def tokenizeAndLemmatize(text):\n",
    "    \"\"\"\n",
    "    Tokenizing the bios of users, then lemmatizing them\n",
    "    \"\"\"\n",
    "    \n",
    "    # Creating a library of stopwords\n",
    "    # stops = stopwords.words('english')\n",
    "    stops = [\n",
    "    'i', 'me', 'my', 'myself', 'we', 'our', 'ours', 'ourselves', 'you', 'your', 'yours', 'yourself', 'yourselves', \n",
    "    'he', 'him', 'his', 'himself', 'she', 'her', 'hers', 'herself', 'it', 'its', 'itself', 'they', 'them', 'their', \n",
    "    'theirs', 'themselves', 'what', 'which', 'who', 'whom', 'this', 'that', 'these', 'those', 'am', 'is', 'are', 'was', \n",
    "    'were', 'be', 'been', 'being', 'have', 'has', 'had', 'having', 'do', 'does', 'did', 'doing', 'a', 'an', 'the', 'and', \n",
    "    'but', 'if', 'or', 'because', 'as', 'until', 'while', 'of', 'at', 'by', 'for', 'with', 'about', 'against', 'between', \n",
    "    'into', 'through', 'during', 'before', 'after', 'above', 'below', 'to', 'from', 'up', 'down', 'in', 'out', 'on', 'off', \n",
    "    'over', 'under', 'again', 'further', 'then', 'once', 'here', 'there', 'when', 'where', 'why', 'how', 'all', 'any', \n",
    "    'both', 'each', 'few', 'more', 'most', 'other', 'some', 'such', 'no', 'nor', 'not', 'only', 'own', 'same', 'so', \n",
    "    'than', 'too', 'very', 's', 't', 'can', 'will', 'just', 'don', 'should', 'now', 'd', 'll', 'm', 'o', 're', 've', 'y', \n",
    "    'ain', 'aren', 'couldn', 'didn', 'doesn', 'hadn', 'hasn', 'haven', 'isn', 'ma', 'mightn', 'mustn', 'needn', 'shan', \n",
    "    'shouldn', 'wasn', 'weren', 'won', 'wouldn', 'mr', \"i'm\", \"i've\", \"i’m\", \"i’ve\", \"you'll\", \"you’ll\", \"who's\", \"who’s\"\n",
    "    ]\n",
    "\n",
    "    \n",
    "    # Lowercasing the words\n",
    "    text = text.lower()\n",
    "    \n",
    "    # Removing the punctuations (periods)\n",
    "    text = text.replace('.', '')\n",
    "    text = text.replace(',', '')\n",
    "\n",
    "    # Removing the \\n\n",
    "    text = text.replace('\\n', ' ')\n",
    "    \n",
    "    # Splitting on spaces between words\n",
    "    text = text.split(' ')\n",
    "    \n",
    "    # Lemmatizing the words and removing stop words\n",
    "    text = [lemmatizer.lemmatize(i) for i in text if i not in stops]\n",
    "    \n",
    "    return text"
   ]
  },
  {
   "cell_type": "code",
   "execution_count": 163,
   "metadata": {},
   "outputs": [],
   "source": [
    "# Applying the function to each user bio\n",
    "df_pkl.loc[:,'Bio_processed'] = df_pkl.loc[:, 'Bio'].apply(tokenizeAndLemmatize)"
   ]
  },
  {
   "cell_type": "code",
   "execution_count": 164,
   "metadata": {},
   "outputs": [
    {
     "data": {
      "text/html": [
       "<div>\n",
       "<style scoped>\n",
       "    .dataframe tbody tr th:only-of-type {\n",
       "        vertical-align: middle;\n",
       "    }\n",
       "\n",
       "    .dataframe tbody tr th {\n",
       "        vertical-align: top;\n",
       "    }\n",
       "\n",
       "    .dataframe thead th {\n",
       "        text-align: right;\n",
       "    }\n",
       "</style>\n",
       "<table border=\"1\" class=\"dataframe\">\n",
       "  <thead>\n",
       "    <tr style=\"text-align: right;\">\n",
       "      <th></th>\n",
       "      <th>BirthDate</th>\n",
       "      <th>Gender</th>\n",
       "      <th>PreferredGender</th>\n",
       "      <th>LookingFor</th>\n",
       "      <th>Faculty</th>\n",
       "      <th>PersonalTraits</th>\n",
       "      <th>Interests</th>\n",
       "      <th>Values</th>\n",
       "      <th>Bio</th>\n",
       "      <th>Bio_processed</th>\n",
       "    </tr>\n",
       "  </thead>\n",
       "  <tbody>\n",
       "    <tr>\n",
       "      <th>0</th>\n",
       "      <td>2006-02-18</td>\n",
       "      <td>f</td>\n",
       "      <td>others</td>\n",
       "      <td>new friends</td>\n",
       "      <td>Engineering</td>\n",
       "      <td>adventurous, shy</td>\n",
       "      <td>traveling, technology</td>\n",
       "      <td>spirituality, empathy, responsibility</td>\n",
       "      <td>I make the best coffee in town. Don't @ me. No...</td>\n",
       "      <td>[make, best, coffee, town, don't, @, looking, ...</td>\n",
       "    </tr>\n",
       "    <tr>\n",
       "      <th>1</th>\n",
       "      <td>2002-08-29</td>\n",
       "      <td>m</td>\n",
       "      <td>m</td>\n",
       "      <td>still figuring it out</td>\n",
       "      <td>Arts</td>\n",
       "      <td>curious, shy, ambitious</td>\n",
       "      <td>technology, photography</td>\n",
       "      <td>respect, independence</td>\n",
       "      <td>I’ve got a collection of 90’s comic books. I'm...</td>\n",
       "      <td>[got, collection, 90’s, comic, book, ready, so...</td>\n",
       "    </tr>\n",
       "    <tr>\n",
       "      <th>2</th>\n",
       "      <td>1999-08-11</td>\n",
       "      <td>others</td>\n",
       "      <td>f</td>\n",
       "      <td>new friends</td>\n",
       "      <td>Business</td>\n",
       "      <td>shy, creative, thoughtful</td>\n",
       "      <td>sports, cooking, technology</td>\n",
       "      <td>independence, loyalty</td>\n",
       "      <td>I can speak three languages, and one of them i...</td>\n",
       "      <td>[speak, three, language, one, sarcasm, looking...</td>\n",
       "    </tr>\n",
       "    <tr>\n",
       "      <th>3</th>\n",
       "      <td>1995-06-21</td>\n",
       "      <td>m</td>\n",
       "      <td>any</td>\n",
       "      <td>long-term partner</td>\n",
       "      <td>Law</td>\n",
       "      <td>outgoing, ambitious, adventurous</td>\n",
       "      <td>fashion, photography</td>\n",
       "      <td>loyalty, respect, spirituality</td>\n",
       "      <td>I’ve got a collection of 90’s comic books. I e...</td>\n",
       "      <td>[got, collection, 90’s, comic, book, enjoy, sp...</td>\n",
       "    </tr>\n",
       "    <tr>\n",
       "      <th>4</th>\n",
       "      <td>1995-05-05</td>\n",
       "      <td>f</td>\n",
       "      <td>f</td>\n",
       "      <td>short-term but long-term OK</td>\n",
       "      <td>Architecture</td>\n",
       "      <td>creative</td>\n",
       "      <td>reading, fashion, traveling</td>\n",
       "      <td>responsibility, loyalty</td>\n",
       "      <td>I’ve got a collection of 90’s comic books. I'm...</td>\n",
       "      <td>[got, collection, 90’s, comic, book, ready, so...</td>\n",
       "    </tr>\n",
       "    <tr>\n",
       "      <th>...</th>\n",
       "      <td>...</td>\n",
       "      <td>...</td>\n",
       "      <td>...</td>\n",
       "      <td>...</td>\n",
       "      <td>...</td>\n",
       "      <td>...</td>\n",
       "      <td>...</td>\n",
       "      <td>...</td>\n",
       "      <td>...</td>\n",
       "      <td>...</td>\n",
       "    </tr>\n",
       "    <tr>\n",
       "      <th>1995</th>\n",
       "      <td>2000-08-08</td>\n",
       "      <td>others</td>\n",
       "      <td>m</td>\n",
       "      <td>short-term but long-term OK</td>\n",
       "      <td>Arts</td>\n",
       "      <td>funny, creative</td>\n",
       "      <td>fashion</td>\n",
       "      <td>creativity, empathy</td>\n",
       "      <td>I’ve visited 10 countries in the past 5 years....</td>\n",
       "      <td>[visited, 10, country, past, 5, year, ready, s...</td>\n",
       "    </tr>\n",
       "    <tr>\n",
       "      <th>1996</th>\n",
       "      <td>2005-07-09</td>\n",
       "      <td>others</td>\n",
       "      <td>f</td>\n",
       "      <td>long-term partner</td>\n",
       "      <td>Engineering</td>\n",
       "      <td>curious, outgoing, adventurous</td>\n",
       "      <td>music, reading</td>\n",
       "      <td>respect, responsibility</td>\n",
       "      <td>I’ve visited 10 countries in the past 5 years....</td>\n",
       "      <td>[visited, 10, country, past, 5, year, looking,...</td>\n",
       "    </tr>\n",
       "    <tr>\n",
       "      <th>1997</th>\n",
       "      <td>1998-02-20</td>\n",
       "      <td>m</td>\n",
       "      <td>others</td>\n",
       "      <td>short-term but long-term OK</td>\n",
       "      <td>Arts</td>\n",
       "      <td>introverted, shy, funny</td>\n",
       "      <td>photography, technology, cooking</td>\n",
       "      <td>spirituality</td>\n",
       "      <td>I’ve visited 10 countries in the past 5 years....</td>\n",
       "      <td>[visited, 10, country, past, 5, year, looking,...</td>\n",
       "    </tr>\n",
       "    <tr>\n",
       "      <th>1998</th>\n",
       "      <td>1999-03-06</td>\n",
       "      <td>others</td>\n",
       "      <td>others</td>\n",
       "      <td>long-term partner</td>\n",
       "      <td>Medicine</td>\n",
       "      <td>adventurous, thoughtful, curious</td>\n",
       "      <td>music, hiking</td>\n",
       "      <td>honesty, responsibility</td>\n",
       "      <td>I make the best coffee in town. Don't @ me. Ca...</td>\n",
       "      <td>[make, best, coffee, town, don't, @, casual, f...</td>\n",
       "    </tr>\n",
       "    <tr>\n",
       "      <th>1999</th>\n",
       "      <td>2003-04-03</td>\n",
       "      <td>f</td>\n",
       "      <td>others</td>\n",
       "      <td>casual fun</td>\n",
       "      <td>Science</td>\n",
       "      <td>outgoing, shy, introverted</td>\n",
       "      <td>cooking, sports</td>\n",
       "      <td>independence</td>\n",
       "      <td>I once met a celebrity on a hiking trip. Not j...</td>\n",
       "      <td>[met, celebrity, hiking, trip, looking, date, ...</td>\n",
       "    </tr>\n",
       "  </tbody>\n",
       "</table>\n",
       "<p>2000 rows × 10 columns</p>\n",
       "</div>"
      ],
      "text/plain": [
       "       BirthDate  Gender PreferredGender                   LookingFor  \\\n",
       "0     2006-02-18       f          others                  new friends   \n",
       "1     2002-08-29       m               m        still figuring it out   \n",
       "2     1999-08-11  others               f                  new friends   \n",
       "3     1995-06-21       m             any            long-term partner   \n",
       "4     1995-05-05       f               f  short-term but long-term OK   \n",
       "...          ...     ...             ...                          ...   \n",
       "1995  2000-08-08  others               m  short-term but long-term OK   \n",
       "1996  2005-07-09  others               f            long-term partner   \n",
       "1997  1998-02-20       m          others  short-term but long-term OK   \n",
       "1998  1999-03-06  others          others            long-term partner   \n",
       "1999  2003-04-03       f          others                   casual fun   \n",
       "\n",
       "           Faculty                    PersonalTraits  \\\n",
       "0      Engineering                  adventurous, shy   \n",
       "1             Arts           curious, shy, ambitious   \n",
       "2         Business         shy, creative, thoughtful   \n",
       "3              Law  outgoing, ambitious, adventurous   \n",
       "4     Architecture                          creative   \n",
       "...            ...                               ...   \n",
       "1995          Arts                   funny, creative   \n",
       "1996   Engineering    curious, outgoing, adventurous   \n",
       "1997          Arts           introverted, shy, funny   \n",
       "1998      Medicine  adventurous, thoughtful, curious   \n",
       "1999       Science        outgoing, shy, introverted   \n",
       "\n",
       "                             Interests                                 Values  \\\n",
       "0                traveling, technology  spirituality, empathy, responsibility   \n",
       "1              technology, photography                  respect, independence   \n",
       "2          sports, cooking, technology                  independence, loyalty   \n",
       "3                 fashion, photography         loyalty, respect, spirituality   \n",
       "4          reading, fashion, traveling                responsibility, loyalty   \n",
       "...                                ...                                    ...   \n",
       "1995                           fashion                    creativity, empathy   \n",
       "1996                    music, reading                respect, responsibility   \n",
       "1997  photography, technology, cooking                           spirituality   \n",
       "1998                     music, hiking                honesty, responsibility   \n",
       "1999                   cooking, sports                           independence   \n",
       "\n",
       "                                                    Bio  \\\n",
       "0     I make the best coffee in town. Don't @ me. No...   \n",
       "1     I’ve got a collection of 90’s comic books. I'm...   \n",
       "2     I can speak three languages, and one of them i...   \n",
       "3     I’ve got a collection of 90’s comic books. I e...   \n",
       "4     I’ve got a collection of 90’s comic books. I'm...   \n",
       "...                                                 ...   \n",
       "1995  I’ve visited 10 countries in the past 5 years....   \n",
       "1996  I’ve visited 10 countries in the past 5 years....   \n",
       "1997  I’ve visited 10 countries in the past 5 years....   \n",
       "1998  I make the best coffee in town. Don't @ me. Ca...   \n",
       "1999  I once met a celebrity on a hiking trip. Not j...   \n",
       "\n",
       "                                          Bio_processed  \n",
       "0     [make, best, coffee, town, don't, @, looking, ...  \n",
       "1     [got, collection, 90’s, comic, book, ready, so...  \n",
       "2     [speak, three, language, one, sarcasm, looking...  \n",
       "3     [got, collection, 90’s, comic, book, enjoy, sp...  \n",
       "4     [got, collection, 90’s, comic, book, ready, so...  \n",
       "...                                                 ...  \n",
       "1995  [visited, 10, country, past, 5, year, ready, s...  \n",
       "1996  [visited, 10, country, past, 5, year, looking,...  \n",
       "1997  [visited, 10, country, past, 5, year, looking,...  \n",
       "1998  [make, best, coffee, town, don't, @, casual, f...  \n",
       "1999  [met, celebrity, hiking, trip, looking, date, ...  \n",
       "\n",
       "[2000 rows x 10 columns]"
      ]
     },
     "execution_count": 164,
     "metadata": {},
     "output_type": "execute_result"
    }
   ],
   "source": [
    "df_pkl"
   ]
  },
  {
   "cell_type": "code",
   "execution_count": 165,
   "metadata": {},
   "outputs": [],
   "source": [
    "df_pkl.to_csv('random_chulalongkorn_profiles_bioTokenized.csv', index=False)"
   ]
  },
  {
   "cell_type": "markdown",
   "metadata": {},
   "source": [
    "### Most Frequent Words"
   ]
  },
  {
   "cell_type": "markdown",
   "metadata": {},
   "source": [
    "#### Word by itself"
   ]
  },
  {
   "cell_type": "code",
   "execution_count": 166,
   "metadata": {},
   "outputs": [],
   "source": [
    "words = []\n",
    "\n",
    "for bio in df_pkl['Bio_processed']:\n",
    "    words.extend(bio)\n",
    "\n",
    "df_words = pd.DataFrame({'word':words})"
   ]
  },
  {
   "cell_type": "code",
   "execution_count": 167,
   "metadata": {},
   "outputs": [
    {
     "data": {
      "text/html": [
       "<div>\n",
       "<style scoped>\n",
       "    .dataframe tbody tr th:only-of-type {\n",
       "        vertical-align: middle;\n",
       "    }\n",
       "\n",
       "    .dataframe tbody tr th {\n",
       "        vertical-align: top;\n",
       "    }\n",
       "\n",
       "    .dataframe thead th {\n",
       "        text-align: right;\n",
       "    }\n",
       "</style>\n",
       "<table border=\"1\" class=\"dataframe\">\n",
       "  <thead>\n",
       "    <tr style=\"text-align: right;\">\n",
       "      <th></th>\n",
       "      <th>word</th>\n",
       "    </tr>\n",
       "  </thead>\n",
       "  <tbody>\n",
       "    <tr>\n",
       "      <th>0</th>\n",
       "      <td>make</td>\n",
       "    </tr>\n",
       "    <tr>\n",
       "      <th>1</th>\n",
       "      <td>best</td>\n",
       "    </tr>\n",
       "    <tr>\n",
       "      <th>2</th>\n",
       "      <td>coffee</td>\n",
       "    </tr>\n",
       "    <tr>\n",
       "      <th>3</th>\n",
       "      <td>town</td>\n",
       "    </tr>\n",
       "    <tr>\n",
       "      <th>4</th>\n",
       "      <td>don't</td>\n",
       "    </tr>\n",
       "    <tr>\n",
       "      <th>...</th>\n",
       "      <td>...</td>\n",
       "    </tr>\n",
       "    <tr>\n",
       "      <th>61390</th>\n",
       "      <td>shared</td>\n",
       "    </tr>\n",
       "    <tr>\n",
       "      <th>61391</th>\n",
       "      <td>goal</td>\n",
       "    </tr>\n",
       "    <tr>\n",
       "      <th>61392</th>\n",
       "      <td>make</td>\n",
       "    </tr>\n",
       "    <tr>\n",
       "      <th>61393</th>\n",
       "      <td>best</td>\n",
       "    </tr>\n",
       "    <tr>\n",
       "      <th>61394</th>\n",
       "      <td>relationship</td>\n",
       "    </tr>\n",
       "  </tbody>\n",
       "</table>\n",
       "<p>61395 rows × 1 columns</p>\n",
       "</div>"
      ],
      "text/plain": [
       "               word\n",
       "0              make\n",
       "1              best\n",
       "2            coffee\n",
       "3              town\n",
       "4             don't\n",
       "...             ...\n",
       "61390        shared\n",
       "61391          goal\n",
       "61392          make\n",
       "61393          best\n",
       "61394  relationship\n",
       "\n",
       "[61395 rows x 1 columns]"
      ]
     },
     "execution_count": 167,
     "metadata": {},
     "output_type": "execute_result"
    }
   ],
   "source": [
    "df_words"
   ]
  },
  {
   "cell_type": "code",
   "execution_count": 168,
   "metadata": {},
   "outputs": [],
   "source": [
    "df_words_count = df_words.value_counts().reset_index()"
   ]
  },
  {
   "cell_type": "code",
   "execution_count": 169,
   "metadata": {},
   "outputs": [
    {
     "data": {
      "text/html": [
       "<div>\n",
       "<style scoped>\n",
       "    .dataframe tbody tr th:only-of-type {\n",
       "        vertical-align: middle;\n",
       "    }\n",
       "\n",
       "    .dataframe tbody tr th {\n",
       "        vertical-align: top;\n",
       "    }\n",
       "\n",
       "    .dataframe thead th {\n",
       "        text-align: right;\n",
       "    }\n",
       "</style>\n",
       "<table border=\"1\" class=\"dataframe\">\n",
       "  <thead>\n",
       "    <tr style=\"text-align: right;\">\n",
       "      <th></th>\n",
       "      <th>word</th>\n",
       "      <th>count</th>\n",
       "    </tr>\n",
       "  </thead>\n",
       "  <tbody>\n",
       "    <tr>\n",
       "      <th>0</th>\n",
       "      <td>love</td>\n",
       "      <td>1539</td>\n",
       "    </tr>\n",
       "    <tr>\n",
       "      <th>1</th>\n",
       "      <td>open</td>\n",
       "      <td>1418</td>\n",
       "    </tr>\n",
       "    <tr>\n",
       "      <th>2</th>\n",
       "      <td>good</td>\n",
       "      <td>1242</td>\n",
       "    </tr>\n",
       "    <tr>\n",
       "      <th>3</th>\n",
       "      <td>relationship</td>\n",
       "      <td>1209</td>\n",
       "    </tr>\n",
       "    <tr>\n",
       "      <th>4</th>\n",
       "      <td>new</td>\n",
       "      <td>1196</td>\n",
       "    </tr>\n",
       "    <tr>\n",
       "      <th>...</th>\n",
       "      <td>...</td>\n",
       "      <td>...</td>\n",
       "    </tr>\n",
       "    <tr>\n",
       "      <th>129</th>\n",
       "      <td>5</td>\n",
       "      <td>273</td>\n",
       "    </tr>\n",
       "    <tr>\n",
       "      <th>130</th>\n",
       "      <td>country</td>\n",
       "      <td>273</td>\n",
       "    </tr>\n",
       "    <tr>\n",
       "      <th>131</th>\n",
       "      <td>year</td>\n",
       "      <td>273</td>\n",
       "    </tr>\n",
       "    <tr>\n",
       "      <th>132</th>\n",
       "      <td>met</td>\n",
       "      <td>252</td>\n",
       "    </tr>\n",
       "    <tr>\n",
       "      <th>133</th>\n",
       "      <td>celebrity</td>\n",
       "      <td>252</td>\n",
       "    </tr>\n",
       "  </tbody>\n",
       "</table>\n",
       "<p>134 rows × 2 columns</p>\n",
       "</div>"
      ],
      "text/plain": [
       "             word  count\n",
       "0            love   1539\n",
       "1            open   1418\n",
       "2            good   1242\n",
       "3    relationship   1209\n",
       "4             new   1196\n",
       "..            ...    ...\n",
       "129             5    273\n",
       "130       country    273\n",
       "131          year    273\n",
       "132           met    252\n",
       "133     celebrity    252\n",
       "\n",
       "[134 rows x 2 columns]"
      ]
     },
     "execution_count": 169,
     "metadata": {},
     "output_type": "execute_result"
    }
   ],
   "source": [
    "df_words_count"
   ]
  },
  {
   "cell_type": "code",
   "execution_count": 170,
   "metadata": {},
   "outputs": [
    {
     "data": {
      "application/vnd.plotly.v1+json": {
       "config": {
        "plotlyServerURL": "https://plot.ly"
       },
       "data": [
        {
         "alignmentgroup": "True",
         "hovertemplate": "word=%{x}<br>count=%{y}<extra></extra>",
         "legendgroup": "",
         "marker": {
          "color": "#636efa",
          "pattern": {
           "shape": ""
          }
         },
         "name": "",
         "offsetgroup": "",
         "orientation": "v",
         "showlegend": false,
         "textposition": "auto",
         "type": "bar",
         "x": [
          "love",
          "open",
          "good",
          "relationship",
          "new",
          "always",
          "someone",
          "make",
          "find",
          "growth",
          "key",
          "believe",
          "time",
          "trying",
          "weekend",
          "connection",
          "laugh",
          "value",
          "book",
          "spontaneous",
          "looking",
          "thing",
          "best",
          "trip",
          "something"
         ],
         "xaxis": "x",
         "y": [
          1539,
          1418,
          1242,
          1209,
          1196,
          1141,
          1023,
          1002,
          813,
          791,
          790,
          787,
          786,
          777,
          762,
          756,
          753,
          744,
          709,
          701,
          680,
          669,
          669,
          647,
          637
         ],
         "yaxis": "y"
        }
       ],
       "layout": {
        "barmode": "relative",
        "legend": {
         "tracegroupgap": 0
        },
        "template": {
         "data": {
          "bar": [
           {
            "error_x": {
             "color": "#2a3f5f"
            },
            "error_y": {
             "color": "#2a3f5f"
            },
            "marker": {
             "line": {
              "color": "#E5ECF6",
              "width": 0.5
             },
             "pattern": {
              "fillmode": "overlay",
              "size": 10,
              "solidity": 0.2
             }
            },
            "type": "bar"
           }
          ],
          "barpolar": [
           {
            "marker": {
             "line": {
              "color": "#E5ECF6",
              "width": 0.5
             },
             "pattern": {
              "fillmode": "overlay",
              "size": 10,
              "solidity": 0.2
             }
            },
            "type": "barpolar"
           }
          ],
          "carpet": [
           {
            "aaxis": {
             "endlinecolor": "#2a3f5f",
             "gridcolor": "white",
             "linecolor": "white",
             "minorgridcolor": "white",
             "startlinecolor": "#2a3f5f"
            },
            "baxis": {
             "endlinecolor": "#2a3f5f",
             "gridcolor": "white",
             "linecolor": "white",
             "minorgridcolor": "white",
             "startlinecolor": "#2a3f5f"
            },
            "type": "carpet"
           }
          ],
          "choropleth": [
           {
            "colorbar": {
             "outlinewidth": 0,
             "ticks": ""
            },
            "type": "choropleth"
           }
          ],
          "contour": [
           {
            "colorbar": {
             "outlinewidth": 0,
             "ticks": ""
            },
            "colorscale": [
             [
              0,
              "#0d0887"
             ],
             [
              0.1111111111111111,
              "#46039f"
             ],
             [
              0.2222222222222222,
              "#7201a8"
             ],
             [
              0.3333333333333333,
              "#9c179e"
             ],
             [
              0.4444444444444444,
              "#bd3786"
             ],
             [
              0.5555555555555556,
              "#d8576b"
             ],
             [
              0.6666666666666666,
              "#ed7953"
             ],
             [
              0.7777777777777778,
              "#fb9f3a"
             ],
             [
              0.8888888888888888,
              "#fdca26"
             ],
             [
              1,
              "#f0f921"
             ]
            ],
            "type": "contour"
           }
          ],
          "contourcarpet": [
           {
            "colorbar": {
             "outlinewidth": 0,
             "ticks": ""
            },
            "type": "contourcarpet"
           }
          ],
          "heatmap": [
           {
            "colorbar": {
             "outlinewidth": 0,
             "ticks": ""
            },
            "colorscale": [
             [
              0,
              "#0d0887"
             ],
             [
              0.1111111111111111,
              "#46039f"
             ],
             [
              0.2222222222222222,
              "#7201a8"
             ],
             [
              0.3333333333333333,
              "#9c179e"
             ],
             [
              0.4444444444444444,
              "#bd3786"
             ],
             [
              0.5555555555555556,
              "#d8576b"
             ],
             [
              0.6666666666666666,
              "#ed7953"
             ],
             [
              0.7777777777777778,
              "#fb9f3a"
             ],
             [
              0.8888888888888888,
              "#fdca26"
             ],
             [
              1,
              "#f0f921"
             ]
            ],
            "type": "heatmap"
           }
          ],
          "heatmapgl": [
           {
            "colorbar": {
             "outlinewidth": 0,
             "ticks": ""
            },
            "colorscale": [
             [
              0,
              "#0d0887"
             ],
             [
              0.1111111111111111,
              "#46039f"
             ],
             [
              0.2222222222222222,
              "#7201a8"
             ],
             [
              0.3333333333333333,
              "#9c179e"
             ],
             [
              0.4444444444444444,
              "#bd3786"
             ],
             [
              0.5555555555555556,
              "#d8576b"
             ],
             [
              0.6666666666666666,
              "#ed7953"
             ],
             [
              0.7777777777777778,
              "#fb9f3a"
             ],
             [
              0.8888888888888888,
              "#fdca26"
             ],
             [
              1,
              "#f0f921"
             ]
            ],
            "type": "heatmapgl"
           }
          ],
          "histogram": [
           {
            "marker": {
             "pattern": {
              "fillmode": "overlay",
              "size": 10,
              "solidity": 0.2
             }
            },
            "type": "histogram"
           }
          ],
          "histogram2d": [
           {
            "colorbar": {
             "outlinewidth": 0,
             "ticks": ""
            },
            "colorscale": [
             [
              0,
              "#0d0887"
             ],
             [
              0.1111111111111111,
              "#46039f"
             ],
             [
              0.2222222222222222,
              "#7201a8"
             ],
             [
              0.3333333333333333,
              "#9c179e"
             ],
             [
              0.4444444444444444,
              "#bd3786"
             ],
             [
              0.5555555555555556,
              "#d8576b"
             ],
             [
              0.6666666666666666,
              "#ed7953"
             ],
             [
              0.7777777777777778,
              "#fb9f3a"
             ],
             [
              0.8888888888888888,
              "#fdca26"
             ],
             [
              1,
              "#f0f921"
             ]
            ],
            "type": "histogram2d"
           }
          ],
          "histogram2dcontour": [
           {
            "colorbar": {
             "outlinewidth": 0,
             "ticks": ""
            },
            "colorscale": [
             [
              0,
              "#0d0887"
             ],
             [
              0.1111111111111111,
              "#46039f"
             ],
             [
              0.2222222222222222,
              "#7201a8"
             ],
             [
              0.3333333333333333,
              "#9c179e"
             ],
             [
              0.4444444444444444,
              "#bd3786"
             ],
             [
              0.5555555555555556,
              "#d8576b"
             ],
             [
              0.6666666666666666,
              "#ed7953"
             ],
             [
              0.7777777777777778,
              "#fb9f3a"
             ],
             [
              0.8888888888888888,
              "#fdca26"
             ],
             [
              1,
              "#f0f921"
             ]
            ],
            "type": "histogram2dcontour"
           }
          ],
          "mesh3d": [
           {
            "colorbar": {
             "outlinewidth": 0,
             "ticks": ""
            },
            "type": "mesh3d"
           }
          ],
          "parcoords": [
           {
            "line": {
             "colorbar": {
              "outlinewidth": 0,
              "ticks": ""
             }
            },
            "type": "parcoords"
           }
          ],
          "pie": [
           {
            "automargin": true,
            "type": "pie"
           }
          ],
          "scatter": [
           {
            "fillpattern": {
             "fillmode": "overlay",
             "size": 10,
             "solidity": 0.2
            },
            "type": "scatter"
           }
          ],
          "scatter3d": [
           {
            "line": {
             "colorbar": {
              "outlinewidth": 0,
              "ticks": ""
             }
            },
            "marker": {
             "colorbar": {
              "outlinewidth": 0,
              "ticks": ""
             }
            },
            "type": "scatter3d"
           }
          ],
          "scattercarpet": [
           {
            "marker": {
             "colorbar": {
              "outlinewidth": 0,
              "ticks": ""
             }
            },
            "type": "scattercarpet"
           }
          ],
          "scattergeo": [
           {
            "marker": {
             "colorbar": {
              "outlinewidth": 0,
              "ticks": ""
             }
            },
            "type": "scattergeo"
           }
          ],
          "scattergl": [
           {
            "marker": {
             "colorbar": {
              "outlinewidth": 0,
              "ticks": ""
             }
            },
            "type": "scattergl"
           }
          ],
          "scattermapbox": [
           {
            "marker": {
             "colorbar": {
              "outlinewidth": 0,
              "ticks": ""
             }
            },
            "type": "scattermapbox"
           }
          ],
          "scatterpolar": [
           {
            "marker": {
             "colorbar": {
              "outlinewidth": 0,
              "ticks": ""
             }
            },
            "type": "scatterpolar"
           }
          ],
          "scatterpolargl": [
           {
            "marker": {
             "colorbar": {
              "outlinewidth": 0,
              "ticks": ""
             }
            },
            "type": "scatterpolargl"
           }
          ],
          "scatterternary": [
           {
            "marker": {
             "colorbar": {
              "outlinewidth": 0,
              "ticks": ""
             }
            },
            "type": "scatterternary"
           }
          ],
          "surface": [
           {
            "colorbar": {
             "outlinewidth": 0,
             "ticks": ""
            },
            "colorscale": [
             [
              0,
              "#0d0887"
             ],
             [
              0.1111111111111111,
              "#46039f"
             ],
             [
              0.2222222222222222,
              "#7201a8"
             ],
             [
              0.3333333333333333,
              "#9c179e"
             ],
             [
              0.4444444444444444,
              "#bd3786"
             ],
             [
              0.5555555555555556,
              "#d8576b"
             ],
             [
              0.6666666666666666,
              "#ed7953"
             ],
             [
              0.7777777777777778,
              "#fb9f3a"
             ],
             [
              0.8888888888888888,
              "#fdca26"
             ],
             [
              1,
              "#f0f921"
             ]
            ],
            "type": "surface"
           }
          ],
          "table": [
           {
            "cells": {
             "fill": {
              "color": "#EBF0F8"
             },
             "line": {
              "color": "white"
             }
            },
            "header": {
             "fill": {
              "color": "#C8D4E3"
             },
             "line": {
              "color": "white"
             }
            },
            "type": "table"
           }
          ]
         },
         "layout": {
          "annotationdefaults": {
           "arrowcolor": "#2a3f5f",
           "arrowhead": 0,
           "arrowwidth": 1
          },
          "autotypenumbers": "strict",
          "coloraxis": {
           "colorbar": {
            "outlinewidth": 0,
            "ticks": ""
           }
          },
          "colorscale": {
           "diverging": [
            [
             0,
             "#8e0152"
            ],
            [
             0.1,
             "#c51b7d"
            ],
            [
             0.2,
             "#de77ae"
            ],
            [
             0.3,
             "#f1b6da"
            ],
            [
             0.4,
             "#fde0ef"
            ],
            [
             0.5,
             "#f7f7f7"
            ],
            [
             0.6,
             "#e6f5d0"
            ],
            [
             0.7,
             "#b8e186"
            ],
            [
             0.8,
             "#7fbc41"
            ],
            [
             0.9,
             "#4d9221"
            ],
            [
             1,
             "#276419"
            ]
           ],
           "sequential": [
            [
             0,
             "#0d0887"
            ],
            [
             0.1111111111111111,
             "#46039f"
            ],
            [
             0.2222222222222222,
             "#7201a8"
            ],
            [
             0.3333333333333333,
             "#9c179e"
            ],
            [
             0.4444444444444444,
             "#bd3786"
            ],
            [
             0.5555555555555556,
             "#d8576b"
            ],
            [
             0.6666666666666666,
             "#ed7953"
            ],
            [
             0.7777777777777778,
             "#fb9f3a"
            ],
            [
             0.8888888888888888,
             "#fdca26"
            ],
            [
             1,
             "#f0f921"
            ]
           ],
           "sequentialminus": [
            [
             0,
             "#0d0887"
            ],
            [
             0.1111111111111111,
             "#46039f"
            ],
            [
             0.2222222222222222,
             "#7201a8"
            ],
            [
             0.3333333333333333,
             "#9c179e"
            ],
            [
             0.4444444444444444,
             "#bd3786"
            ],
            [
             0.5555555555555556,
             "#d8576b"
            ],
            [
             0.6666666666666666,
             "#ed7953"
            ],
            [
             0.7777777777777778,
             "#fb9f3a"
            ],
            [
             0.8888888888888888,
             "#fdca26"
            ],
            [
             1,
             "#f0f921"
            ]
           ]
          },
          "colorway": [
           "#636efa",
           "#EF553B",
           "#00cc96",
           "#ab63fa",
           "#FFA15A",
           "#19d3f3",
           "#FF6692",
           "#B6E880",
           "#FF97FF",
           "#FECB52"
          ],
          "font": {
           "color": "#2a3f5f"
          },
          "geo": {
           "bgcolor": "white",
           "lakecolor": "white",
           "landcolor": "#E5ECF6",
           "showlakes": true,
           "showland": true,
           "subunitcolor": "white"
          },
          "hoverlabel": {
           "align": "left"
          },
          "hovermode": "closest",
          "mapbox": {
           "style": "light"
          },
          "paper_bgcolor": "white",
          "plot_bgcolor": "#E5ECF6",
          "polar": {
           "angularaxis": {
            "gridcolor": "white",
            "linecolor": "white",
            "ticks": ""
           },
           "bgcolor": "#E5ECF6",
           "radialaxis": {
            "gridcolor": "white",
            "linecolor": "white",
            "ticks": ""
           }
          },
          "scene": {
           "xaxis": {
            "backgroundcolor": "#E5ECF6",
            "gridcolor": "white",
            "gridwidth": 2,
            "linecolor": "white",
            "showbackground": true,
            "ticks": "",
            "zerolinecolor": "white"
           },
           "yaxis": {
            "backgroundcolor": "#E5ECF6",
            "gridcolor": "white",
            "gridwidth": 2,
            "linecolor": "white",
            "showbackground": true,
            "ticks": "",
            "zerolinecolor": "white"
           },
           "zaxis": {
            "backgroundcolor": "#E5ECF6",
            "gridcolor": "white",
            "gridwidth": 2,
            "linecolor": "white",
            "showbackground": true,
            "ticks": "",
            "zerolinecolor": "white"
           }
          },
          "shapedefaults": {
           "line": {
            "color": "#2a3f5f"
           }
          },
          "ternary": {
           "aaxis": {
            "gridcolor": "white",
            "linecolor": "white",
            "ticks": ""
           },
           "baxis": {
            "gridcolor": "white",
            "linecolor": "white",
            "ticks": ""
           },
           "bgcolor": "#E5ECF6",
           "caxis": {
            "gridcolor": "white",
            "linecolor": "white",
            "ticks": ""
           }
          },
          "title": {
           "x": 0.05
          },
          "xaxis": {
           "automargin": true,
           "gridcolor": "white",
           "linecolor": "white",
           "ticks": "",
           "title": {
            "standoff": 15
           },
           "zerolinecolor": "white",
           "zerolinewidth": 2
          },
          "yaxis": {
           "automargin": true,
           "gridcolor": "white",
           "linecolor": "white",
           "ticks": "",
           "title": {
            "standoff": 15
           },
           "zerolinecolor": "white",
           "zerolinewidth": 2
          }
         }
        },
        "title": {
         "text": "25 Most Frequently Used Words in User Bios"
        },
        "xaxis": {
         "anchor": "y",
         "domain": [
          0,
          1
         ],
         "title": {
          "text": "word"
         }
        },
        "yaxis": {
         "anchor": "x",
         "domain": [
          0,
          1
         ],
         "title": {
          "text": "count"
         }
        }
       }
      }
     },
     "metadata": {},
     "output_type": "display_data"
    }
   ],
   "source": [
    "fig = px.bar(df_words_count.iloc[0:25, :], x='word', y='count', title='25 Most Frequently Used Words in User Bios')\n",
    "fig.show()"
   ]
  },
  {
   "cell_type": "markdown",
   "metadata": {},
   "source": [
    "#### Bigram"
   ]
  },
  {
   "cell_type": "markdown",
   "metadata": {},
   "source": [
    "Examining words in pairs may give better insights."
   ]
  },
  {
   "cell_type": "code",
   "execution_count": 171,
   "metadata": {},
   "outputs": [],
   "source": [
    "# Instantiating the score of each bigram\n",
    "bigram_meas = BigramAssocMeasures()\n",
    "\n",
    "# Finding and ranking the Bigrams in each bio\n",
    "bio_finder = BigramCollocationFinder.from_words(words)\n",
    "\n",
    "# Finding the frequency scores of each bigram \n",
    "bio_scored = bio_finder.score_ngrams(bigram_meas.raw_freq)\n",
    "\n",
    "# Top 50 most common bigrams\n",
    "bio_scored[:50]\n",
    "\n",
    "# Creating a list of the bigrams\n",
    "bg = list(map(lambda x: x[0][0] + ' ' + x[0][1], bio_scored[:50]))\n",
    "\n",
    "# Creating a list of the frequency scores\n",
    "bio_scores = list(map(lambda x: x[1], bio_scored[:50]))\n",
    "\n",
    "# Combining both the scores and the bigrams\n",
    "bigrams = list(zip(bg, bio_scores))"
   ]
  },
  {
   "cell_type": "code",
   "execution_count": 172,
   "metadata": {},
   "outputs": [
    {
     "data": {
      "text/plain": [
       "[('trying new', 0.012655753725873442),\n",
       " ('make best', 0.010896652821891034),\n",
       " ('cornerstone relationship', 0.0075087547845915795),\n",
       " ('honesty trust', 0.0075087547845915795),\n",
       " ('trust cornerstone', 0.0075087547845915795),\n",
       " ('always good', 0.006840947959931591),\n",
       " ('good laugh', 0.006840947959931591),\n",
       " ('good sense', 0.006840947959931591),\n",
       " ('humor key', 0.006840947959931591),\n",
       " ('key always', 0.006840947959931591),\n",
       " ('sense humor', 0.006840947959931591),\n",
       " ('either trying', 0.00682465998859842),\n",
       " ('exploring new', 0.00682465998859842),\n",
       " ('new city', 0.00682465998859842),\n",
       " ('new recipe', 0.00682465998859842),\n",
       " ('recipe exploring', 0.00682465998859842),\n",
       " ('weekend either', 0.00682465998859842),\n",
       " ('believe supporting', 0.006792084045932079),\n",
       " ('loyalty believe', 0.006792084045932079),\n",
       " ('other’s growth', 0.006792084045932079),\n",
       " ('supporting other’s', 0.006792084045932079),\n",
       " ('connection people', 0.006775796074598908),\n",
       " ('love making', 0.006775796074598908),\n",
       " ('making meaningful', 0.006775796074598908),\n",
       " ('meaningful connection', 0.006775796074598908),\n",
       " ('thoughtful love', 0.006775796074598908),\n",
       " ('catching latest', 0.006743220131932568),\n",
       " ('latest movie', 0.006743220131932568),\n",
       " ('movie podcasts', 0.006743220131932568),\n",
       " ('working catching', 0.006743220131932568),\n",
       " ('bit introverted', 0.006694356217933056),\n",
       " ('find total', 0.006694356217933056),\n",
       " ('introverted open', 0.006694356217933056),\n",
       " ('open find', 0.006694356217933056),\n",
       " ('total nerd', 0.006694356217933056),\n",
       " ('binge-watching favorite', 0.006547764475934522),\n",
       " ('book binge-watching', 0.006547764475934522),\n",
       " ('favorite show', 0.006547764475934522),\n",
       " ('find reading', 0.006547764475934522),\n",
       " ('free time', 0.006547764475934522),\n",
       " ('good book', 0.006547764475934522),\n",
       " ('probably find', 0.006547764475934522),\n",
       " ('reading good', 0.006547764475934522),\n",
       " ('time probably', 0.006547764475934522),\n",
       " ('always impromptu', 0.006433748676602329),\n",
       " ('easygoing always', 0.006433748676602329),\n",
       " ('friend say', 0.006433748676602329),\n",
       " ('impromptu road', 0.006433748676602329),\n",
       " ('loyal easygoing', 0.006433748676602329),\n",
       " ('road trip', 0.006433748676602329)]"
      ]
     },
     "execution_count": 172,
     "metadata": {},
     "output_type": "execute_result"
    }
   ],
   "source": [
    "bigrams"
   ]
  },
  {
   "cell_type": "code",
   "execution_count": 173,
   "metadata": {},
   "outputs": [
    {
     "data": {
      "application/vnd.plotly.v1+json": {
       "config": {
        "plotlyServerURL": "https://plot.ly"
       },
       "data": [
        {
         "alignmentgroup": "True",
         "hovertemplate": "Bigram=%{x}<br>Frequency=%{y}<extra></extra>",
         "legendgroup": "",
         "marker": {
          "color": "#636efa",
          "pattern": {
           "shape": ""
          }
         },
         "name": "",
         "offsetgroup": "",
         "orientation": "v",
         "showlegend": false,
         "textposition": "auto",
         "type": "bar",
         "x": [
          "trying new",
          "make best",
          "cornerstone relationship",
          "honesty trust",
          "trust cornerstone",
          "always good",
          "good laugh",
          "good sense",
          "humor key",
          "key always",
          "sense humor",
          "either trying",
          "exploring new",
          "new city",
          "new recipe",
          "recipe exploring",
          "weekend either",
          "believe supporting",
          "loyalty believe",
          "other’s growth",
          "supporting other’s",
          "connection people",
          "love making",
          "making meaningful",
          "meaningful connection",
          "thoughtful love",
          "catching latest",
          "latest movie",
          "movie podcasts",
          "working catching",
          "bit introverted",
          "find total",
          "introverted open",
          "open find",
          "total nerd",
          "binge-watching favorite",
          "book binge-watching",
          "favorite show",
          "find reading",
          "free time",
          "good book",
          "probably find",
          "reading good",
          "time probably",
          "always impromptu",
          "easygoing always",
          "friend say",
          "impromptu road",
          "loyal easygoing",
          "road trip"
         ],
         "xaxis": "x",
         "y": [
          0.012655753725873442,
          0.010896652821891034,
          0.0075087547845915795,
          0.0075087547845915795,
          0.0075087547845915795,
          0.006840947959931591,
          0.006840947959931591,
          0.006840947959931591,
          0.006840947959931591,
          0.006840947959931591,
          0.006840947959931591,
          0.00682465998859842,
          0.00682465998859842,
          0.00682465998859842,
          0.00682465998859842,
          0.00682465998859842,
          0.00682465998859842,
          0.006792084045932079,
          0.006792084045932079,
          0.006792084045932079,
          0.006792084045932079,
          0.006775796074598908,
          0.006775796074598908,
          0.006775796074598908,
          0.006775796074598908,
          0.006775796074598908,
          0.006743220131932568,
          0.006743220131932568,
          0.006743220131932568,
          0.006743220131932568,
          0.006694356217933056,
          0.006694356217933056,
          0.006694356217933056,
          0.006694356217933056,
          0.006694356217933056,
          0.006547764475934522,
          0.006547764475934522,
          0.006547764475934522,
          0.006547764475934522,
          0.006547764475934522,
          0.006547764475934522,
          0.006547764475934522,
          0.006547764475934522,
          0.006547764475934522,
          0.006433748676602329,
          0.006433748676602329,
          0.006433748676602329,
          0.006433748676602329,
          0.006433748676602329,
          0.006433748676602329
         ],
         "yaxis": "y"
        }
       ],
       "layout": {
        "barmode": "relative",
        "height": 800,
        "legend": {
         "tracegroupgap": 0
        },
        "template": {
         "data": {
          "bar": [
           {
            "error_x": {
             "color": "#2a3f5f"
            },
            "error_y": {
             "color": "#2a3f5f"
            },
            "marker": {
             "line": {
              "color": "#E5ECF6",
              "width": 0.5
             },
             "pattern": {
              "fillmode": "overlay",
              "size": 10,
              "solidity": 0.2
             }
            },
            "type": "bar"
           }
          ],
          "barpolar": [
           {
            "marker": {
             "line": {
              "color": "#E5ECF6",
              "width": 0.5
             },
             "pattern": {
              "fillmode": "overlay",
              "size": 10,
              "solidity": 0.2
             }
            },
            "type": "barpolar"
           }
          ],
          "carpet": [
           {
            "aaxis": {
             "endlinecolor": "#2a3f5f",
             "gridcolor": "white",
             "linecolor": "white",
             "minorgridcolor": "white",
             "startlinecolor": "#2a3f5f"
            },
            "baxis": {
             "endlinecolor": "#2a3f5f",
             "gridcolor": "white",
             "linecolor": "white",
             "minorgridcolor": "white",
             "startlinecolor": "#2a3f5f"
            },
            "type": "carpet"
           }
          ],
          "choropleth": [
           {
            "colorbar": {
             "outlinewidth": 0,
             "ticks": ""
            },
            "type": "choropleth"
           }
          ],
          "contour": [
           {
            "colorbar": {
             "outlinewidth": 0,
             "ticks": ""
            },
            "colorscale": [
             [
              0,
              "#0d0887"
             ],
             [
              0.1111111111111111,
              "#46039f"
             ],
             [
              0.2222222222222222,
              "#7201a8"
             ],
             [
              0.3333333333333333,
              "#9c179e"
             ],
             [
              0.4444444444444444,
              "#bd3786"
             ],
             [
              0.5555555555555556,
              "#d8576b"
             ],
             [
              0.6666666666666666,
              "#ed7953"
             ],
             [
              0.7777777777777778,
              "#fb9f3a"
             ],
             [
              0.8888888888888888,
              "#fdca26"
             ],
             [
              1,
              "#f0f921"
             ]
            ],
            "type": "contour"
           }
          ],
          "contourcarpet": [
           {
            "colorbar": {
             "outlinewidth": 0,
             "ticks": ""
            },
            "type": "contourcarpet"
           }
          ],
          "heatmap": [
           {
            "colorbar": {
             "outlinewidth": 0,
             "ticks": ""
            },
            "colorscale": [
             [
              0,
              "#0d0887"
             ],
             [
              0.1111111111111111,
              "#46039f"
             ],
             [
              0.2222222222222222,
              "#7201a8"
             ],
             [
              0.3333333333333333,
              "#9c179e"
             ],
             [
              0.4444444444444444,
              "#bd3786"
             ],
             [
              0.5555555555555556,
              "#d8576b"
             ],
             [
              0.6666666666666666,
              "#ed7953"
             ],
             [
              0.7777777777777778,
              "#fb9f3a"
             ],
             [
              0.8888888888888888,
              "#fdca26"
             ],
             [
              1,
              "#f0f921"
             ]
            ],
            "type": "heatmap"
           }
          ],
          "heatmapgl": [
           {
            "colorbar": {
             "outlinewidth": 0,
             "ticks": ""
            },
            "colorscale": [
             [
              0,
              "#0d0887"
             ],
             [
              0.1111111111111111,
              "#46039f"
             ],
             [
              0.2222222222222222,
              "#7201a8"
             ],
             [
              0.3333333333333333,
              "#9c179e"
             ],
             [
              0.4444444444444444,
              "#bd3786"
             ],
             [
              0.5555555555555556,
              "#d8576b"
             ],
             [
              0.6666666666666666,
              "#ed7953"
             ],
             [
              0.7777777777777778,
              "#fb9f3a"
             ],
             [
              0.8888888888888888,
              "#fdca26"
             ],
             [
              1,
              "#f0f921"
             ]
            ],
            "type": "heatmapgl"
           }
          ],
          "histogram": [
           {
            "marker": {
             "pattern": {
              "fillmode": "overlay",
              "size": 10,
              "solidity": 0.2
             }
            },
            "type": "histogram"
           }
          ],
          "histogram2d": [
           {
            "colorbar": {
             "outlinewidth": 0,
             "ticks": ""
            },
            "colorscale": [
             [
              0,
              "#0d0887"
             ],
             [
              0.1111111111111111,
              "#46039f"
             ],
             [
              0.2222222222222222,
              "#7201a8"
             ],
             [
              0.3333333333333333,
              "#9c179e"
             ],
             [
              0.4444444444444444,
              "#bd3786"
             ],
             [
              0.5555555555555556,
              "#d8576b"
             ],
             [
              0.6666666666666666,
              "#ed7953"
             ],
             [
              0.7777777777777778,
              "#fb9f3a"
             ],
             [
              0.8888888888888888,
              "#fdca26"
             ],
             [
              1,
              "#f0f921"
             ]
            ],
            "type": "histogram2d"
           }
          ],
          "histogram2dcontour": [
           {
            "colorbar": {
             "outlinewidth": 0,
             "ticks": ""
            },
            "colorscale": [
             [
              0,
              "#0d0887"
             ],
             [
              0.1111111111111111,
              "#46039f"
             ],
             [
              0.2222222222222222,
              "#7201a8"
             ],
             [
              0.3333333333333333,
              "#9c179e"
             ],
             [
              0.4444444444444444,
              "#bd3786"
             ],
             [
              0.5555555555555556,
              "#d8576b"
             ],
             [
              0.6666666666666666,
              "#ed7953"
             ],
             [
              0.7777777777777778,
              "#fb9f3a"
             ],
             [
              0.8888888888888888,
              "#fdca26"
             ],
             [
              1,
              "#f0f921"
             ]
            ],
            "type": "histogram2dcontour"
           }
          ],
          "mesh3d": [
           {
            "colorbar": {
             "outlinewidth": 0,
             "ticks": ""
            },
            "type": "mesh3d"
           }
          ],
          "parcoords": [
           {
            "line": {
             "colorbar": {
              "outlinewidth": 0,
              "ticks": ""
             }
            },
            "type": "parcoords"
           }
          ],
          "pie": [
           {
            "automargin": true,
            "type": "pie"
           }
          ],
          "scatter": [
           {
            "fillpattern": {
             "fillmode": "overlay",
             "size": 10,
             "solidity": 0.2
            },
            "type": "scatter"
           }
          ],
          "scatter3d": [
           {
            "line": {
             "colorbar": {
              "outlinewidth": 0,
              "ticks": ""
             }
            },
            "marker": {
             "colorbar": {
              "outlinewidth": 0,
              "ticks": ""
             }
            },
            "type": "scatter3d"
           }
          ],
          "scattercarpet": [
           {
            "marker": {
             "colorbar": {
              "outlinewidth": 0,
              "ticks": ""
             }
            },
            "type": "scattercarpet"
           }
          ],
          "scattergeo": [
           {
            "marker": {
             "colorbar": {
              "outlinewidth": 0,
              "ticks": ""
             }
            },
            "type": "scattergeo"
           }
          ],
          "scattergl": [
           {
            "marker": {
             "colorbar": {
              "outlinewidth": 0,
              "ticks": ""
             }
            },
            "type": "scattergl"
           }
          ],
          "scattermapbox": [
           {
            "marker": {
             "colorbar": {
              "outlinewidth": 0,
              "ticks": ""
             }
            },
            "type": "scattermapbox"
           }
          ],
          "scatterpolar": [
           {
            "marker": {
             "colorbar": {
              "outlinewidth": 0,
              "ticks": ""
             }
            },
            "type": "scatterpolar"
           }
          ],
          "scatterpolargl": [
           {
            "marker": {
             "colorbar": {
              "outlinewidth": 0,
              "ticks": ""
             }
            },
            "type": "scatterpolargl"
           }
          ],
          "scatterternary": [
           {
            "marker": {
             "colorbar": {
              "outlinewidth": 0,
              "ticks": ""
             }
            },
            "type": "scatterternary"
           }
          ],
          "surface": [
           {
            "colorbar": {
             "outlinewidth": 0,
             "ticks": ""
            },
            "colorscale": [
             [
              0,
              "#0d0887"
             ],
             [
              0.1111111111111111,
              "#46039f"
             ],
             [
              0.2222222222222222,
              "#7201a8"
             ],
             [
              0.3333333333333333,
              "#9c179e"
             ],
             [
              0.4444444444444444,
              "#bd3786"
             ],
             [
              0.5555555555555556,
              "#d8576b"
             ],
             [
              0.6666666666666666,
              "#ed7953"
             ],
             [
              0.7777777777777778,
              "#fb9f3a"
             ],
             [
              0.8888888888888888,
              "#fdca26"
             ],
             [
              1,
              "#f0f921"
             ]
            ],
            "type": "surface"
           }
          ],
          "table": [
           {
            "cells": {
             "fill": {
              "color": "#EBF0F8"
             },
             "line": {
              "color": "white"
             }
            },
            "header": {
             "fill": {
              "color": "#C8D4E3"
             },
             "line": {
              "color": "white"
             }
            },
            "type": "table"
           }
          ]
         },
         "layout": {
          "annotationdefaults": {
           "arrowcolor": "#2a3f5f",
           "arrowhead": 0,
           "arrowwidth": 1
          },
          "autotypenumbers": "strict",
          "coloraxis": {
           "colorbar": {
            "outlinewidth": 0,
            "ticks": ""
           }
          },
          "colorscale": {
           "diverging": [
            [
             0,
             "#8e0152"
            ],
            [
             0.1,
             "#c51b7d"
            ],
            [
             0.2,
             "#de77ae"
            ],
            [
             0.3,
             "#f1b6da"
            ],
            [
             0.4,
             "#fde0ef"
            ],
            [
             0.5,
             "#f7f7f7"
            ],
            [
             0.6,
             "#e6f5d0"
            ],
            [
             0.7,
             "#b8e186"
            ],
            [
             0.8,
             "#7fbc41"
            ],
            [
             0.9,
             "#4d9221"
            ],
            [
             1,
             "#276419"
            ]
           ],
           "sequential": [
            [
             0,
             "#0d0887"
            ],
            [
             0.1111111111111111,
             "#46039f"
            ],
            [
             0.2222222222222222,
             "#7201a8"
            ],
            [
             0.3333333333333333,
             "#9c179e"
            ],
            [
             0.4444444444444444,
             "#bd3786"
            ],
            [
             0.5555555555555556,
             "#d8576b"
            ],
            [
             0.6666666666666666,
             "#ed7953"
            ],
            [
             0.7777777777777778,
             "#fb9f3a"
            ],
            [
             0.8888888888888888,
             "#fdca26"
            ],
            [
             1,
             "#f0f921"
            ]
           ],
           "sequentialminus": [
            [
             0,
             "#0d0887"
            ],
            [
             0.1111111111111111,
             "#46039f"
            ],
            [
             0.2222222222222222,
             "#7201a8"
            ],
            [
             0.3333333333333333,
             "#9c179e"
            ],
            [
             0.4444444444444444,
             "#bd3786"
            ],
            [
             0.5555555555555556,
             "#d8576b"
            ],
            [
             0.6666666666666666,
             "#ed7953"
            ],
            [
             0.7777777777777778,
             "#fb9f3a"
            ],
            [
             0.8888888888888888,
             "#fdca26"
            ],
            [
             1,
             "#f0f921"
            ]
           ]
          },
          "colorway": [
           "#636efa",
           "#EF553B",
           "#00cc96",
           "#ab63fa",
           "#FFA15A",
           "#19d3f3",
           "#FF6692",
           "#B6E880",
           "#FF97FF",
           "#FECB52"
          ],
          "font": {
           "color": "#2a3f5f"
          },
          "geo": {
           "bgcolor": "white",
           "lakecolor": "white",
           "landcolor": "#E5ECF6",
           "showlakes": true,
           "showland": true,
           "subunitcolor": "white"
          },
          "hoverlabel": {
           "align": "left"
          },
          "hovermode": "closest",
          "mapbox": {
           "style": "light"
          },
          "paper_bgcolor": "white",
          "plot_bgcolor": "#E5ECF6",
          "polar": {
           "angularaxis": {
            "gridcolor": "white",
            "linecolor": "white",
            "ticks": ""
           },
           "bgcolor": "#E5ECF6",
           "radialaxis": {
            "gridcolor": "white",
            "linecolor": "white",
            "ticks": ""
           }
          },
          "scene": {
           "xaxis": {
            "backgroundcolor": "#E5ECF6",
            "gridcolor": "white",
            "gridwidth": 2,
            "linecolor": "white",
            "showbackground": true,
            "ticks": "",
            "zerolinecolor": "white"
           },
           "yaxis": {
            "backgroundcolor": "#E5ECF6",
            "gridcolor": "white",
            "gridwidth": 2,
            "linecolor": "white",
            "showbackground": true,
            "ticks": "",
            "zerolinecolor": "white"
           },
           "zaxis": {
            "backgroundcolor": "#E5ECF6",
            "gridcolor": "white",
            "gridwidth": 2,
            "linecolor": "white",
            "showbackground": true,
            "ticks": "",
            "zerolinecolor": "white"
           }
          },
          "shapedefaults": {
           "line": {
            "color": "#2a3f5f"
           }
          },
          "ternary": {
           "aaxis": {
            "gridcolor": "white",
            "linecolor": "white",
            "ticks": ""
           },
           "baxis": {
            "gridcolor": "white",
            "linecolor": "white",
            "ticks": ""
           },
           "bgcolor": "#E5ECF6",
           "caxis": {
            "gridcolor": "white",
            "linecolor": "white",
            "ticks": ""
           }
          },
          "title": {
           "x": 0.05
          },
          "xaxis": {
           "automargin": true,
           "gridcolor": "white",
           "linecolor": "white",
           "ticks": "",
           "title": {
            "standoff": 15
           },
           "zerolinecolor": "white",
           "zerolinewidth": 2
          },
          "yaxis": {
           "automargin": true,
           "gridcolor": "white",
           "linecolor": "white",
           "ticks": "",
           "title": {
            "standoff": 15
           },
           "zerolinecolor": "white",
           "zerolinewidth": 2
          }
         }
        },
        "title": {
         "text": "Bigram Frequency"
        },
        "xaxis": {
         "anchor": "y",
         "domain": [
          0,
          1
         ],
         "title": {
          "text": "Bigram"
         }
        },
        "yaxis": {
         "anchor": "x",
         "domain": [
          0,
          1
         ],
         "title": {
          "text": "Frequency"
         }
        }
       }
      }
     },
     "metadata": {},
     "output_type": "display_data"
    }
   ],
   "source": [
    "# Create DataFrame\n",
    "df_bigrams = pd.DataFrame(bigrams, columns=['Bigram', 'Frequency'])\n",
    "\n",
    "# Create the bar chart\n",
    "fig = px.bar(df_bigrams, x='Bigram', y='Frequency', title=\"Bigram Frequency\", labels={'Bigram': 'Bigram', 'Frequency': 'Frequency'}, height=800)\n",
    "\n",
    "# Display the chart\n",
    "fig.show()"
   ]
  },
  {
   "cell_type": "markdown",
   "metadata": {},
   "source": [
    "## Dating Algorithms using ML"
   ]
  },
  {
   "cell_type": "markdown",
   "metadata": {},
   "source": [
    "### More Data Preparation"
   ]
  },
  {
   "cell_type": "code",
   "execution_count": 174,
   "metadata": {},
   "outputs": [],
   "source": [
    "df_profiles_2 = pd.read_csv('random_chulalongkorn_profiles_bioTokenized.csv')"
   ]
  },
  {
   "cell_type": "markdown",
   "metadata": {},
   "source": [
    "gotta try to make these column like the one in the medium. But use only some columns like looking for, personal traits etc so gotta also create a new df."
   ]
  },
  {
   "cell_type": "code",
   "execution_count": 175,
   "metadata": {},
   "outputs": [
    {
     "data": {
      "text/html": [
       "<div>\n",
       "<style scoped>\n",
       "    .dataframe tbody tr th:only-of-type {\n",
       "        vertical-align: middle;\n",
       "    }\n",
       "\n",
       "    .dataframe tbody tr th {\n",
       "        vertical-align: top;\n",
       "    }\n",
       "\n",
       "    .dataframe thead th {\n",
       "        text-align: right;\n",
       "    }\n",
       "</style>\n",
       "<table border=\"1\" class=\"dataframe\">\n",
       "  <thead>\n",
       "    <tr style=\"text-align: right;\">\n",
       "      <th></th>\n",
       "      <th>BirthDate</th>\n",
       "      <th>Gender</th>\n",
       "      <th>PreferredGender</th>\n",
       "      <th>LookingFor</th>\n",
       "      <th>Faculty</th>\n",
       "      <th>PersonalTraits</th>\n",
       "      <th>Interests</th>\n",
       "      <th>Values</th>\n",
       "      <th>Bio</th>\n",
       "      <th>Bio_processed</th>\n",
       "    </tr>\n",
       "  </thead>\n",
       "  <tbody>\n",
       "    <tr>\n",
       "      <th>0</th>\n",
       "      <td>2006-02-18</td>\n",
       "      <td>f</td>\n",
       "      <td>others</td>\n",
       "      <td>new friends</td>\n",
       "      <td>Engineering</td>\n",
       "      <td>adventurous, shy</td>\n",
       "      <td>traveling, technology</td>\n",
       "      <td>spirituality, empathy, responsibility</td>\n",
       "      <td>I make the best coffee in town. Don't @ me. No...</td>\n",
       "      <td>['make', 'best', 'coffee', 'town', \"don't\", '@...</td>\n",
       "    </tr>\n",
       "    <tr>\n",
       "      <th>1</th>\n",
       "      <td>2002-08-29</td>\n",
       "      <td>m</td>\n",
       "      <td>m</td>\n",
       "      <td>still figuring it out</td>\n",
       "      <td>Arts</td>\n",
       "      <td>curious, shy, ambitious</td>\n",
       "      <td>technology, photography</td>\n",
       "      <td>respect, independence</td>\n",
       "      <td>I’ve got a collection of 90’s comic books. I'm...</td>\n",
       "      <td>['got', 'collection', '90’s', 'comic', 'book',...</td>\n",
       "    </tr>\n",
       "    <tr>\n",
       "      <th>2</th>\n",
       "      <td>1999-08-11</td>\n",
       "      <td>others</td>\n",
       "      <td>f</td>\n",
       "      <td>new friends</td>\n",
       "      <td>Business</td>\n",
       "      <td>shy, creative, thoughtful</td>\n",
       "      <td>sports, cooking, technology</td>\n",
       "      <td>independence, loyalty</td>\n",
       "      <td>I can speak three languages, and one of them i...</td>\n",
       "      <td>['speak', 'three', 'language', 'one', 'sarcasm...</td>\n",
       "    </tr>\n",
       "    <tr>\n",
       "      <th>3</th>\n",
       "      <td>1995-06-21</td>\n",
       "      <td>m</td>\n",
       "      <td>any</td>\n",
       "      <td>long-term partner</td>\n",
       "      <td>Law</td>\n",
       "      <td>outgoing, ambitious, adventurous</td>\n",
       "      <td>fashion, photography</td>\n",
       "      <td>loyalty, respect, spirituality</td>\n",
       "      <td>I’ve got a collection of 90’s comic books. I e...</td>\n",
       "      <td>['got', 'collection', '90’s', 'comic', 'book',...</td>\n",
       "    </tr>\n",
       "    <tr>\n",
       "      <th>4</th>\n",
       "      <td>1995-05-05</td>\n",
       "      <td>f</td>\n",
       "      <td>f</td>\n",
       "      <td>short-term but long-term OK</td>\n",
       "      <td>Architecture</td>\n",
       "      <td>creative</td>\n",
       "      <td>reading, fashion, traveling</td>\n",
       "      <td>responsibility, loyalty</td>\n",
       "      <td>I’ve got a collection of 90’s comic books. I'm...</td>\n",
       "      <td>['got', 'collection', '90’s', 'comic', 'book',...</td>\n",
       "    </tr>\n",
       "    <tr>\n",
       "      <th>...</th>\n",
       "      <td>...</td>\n",
       "      <td>...</td>\n",
       "      <td>...</td>\n",
       "      <td>...</td>\n",
       "      <td>...</td>\n",
       "      <td>...</td>\n",
       "      <td>...</td>\n",
       "      <td>...</td>\n",
       "      <td>...</td>\n",
       "      <td>...</td>\n",
       "    </tr>\n",
       "    <tr>\n",
       "      <th>1995</th>\n",
       "      <td>2000-08-08</td>\n",
       "      <td>others</td>\n",
       "      <td>m</td>\n",
       "      <td>short-term but long-term OK</td>\n",
       "      <td>Arts</td>\n",
       "      <td>funny, creative</td>\n",
       "      <td>fashion</td>\n",
       "      <td>creativity, empathy</td>\n",
       "      <td>I’ve visited 10 countries in the past 5 years....</td>\n",
       "      <td>['visited', '10', 'country', 'past', '5', 'yea...</td>\n",
       "    </tr>\n",
       "    <tr>\n",
       "      <th>1996</th>\n",
       "      <td>2005-07-09</td>\n",
       "      <td>others</td>\n",
       "      <td>f</td>\n",
       "      <td>long-term partner</td>\n",
       "      <td>Engineering</td>\n",
       "      <td>curious, outgoing, adventurous</td>\n",
       "      <td>music, reading</td>\n",
       "      <td>respect, responsibility</td>\n",
       "      <td>I’ve visited 10 countries in the past 5 years....</td>\n",
       "      <td>['visited', '10', 'country', 'past', '5', 'yea...</td>\n",
       "    </tr>\n",
       "    <tr>\n",
       "      <th>1997</th>\n",
       "      <td>1998-02-20</td>\n",
       "      <td>m</td>\n",
       "      <td>others</td>\n",
       "      <td>short-term but long-term OK</td>\n",
       "      <td>Arts</td>\n",
       "      <td>introverted, shy, funny</td>\n",
       "      <td>photography, technology, cooking</td>\n",
       "      <td>spirituality</td>\n",
       "      <td>I’ve visited 10 countries in the past 5 years....</td>\n",
       "      <td>['visited', '10', 'country', 'past', '5', 'yea...</td>\n",
       "    </tr>\n",
       "    <tr>\n",
       "      <th>1998</th>\n",
       "      <td>1999-03-06</td>\n",
       "      <td>others</td>\n",
       "      <td>others</td>\n",
       "      <td>long-term partner</td>\n",
       "      <td>Medicine</td>\n",
       "      <td>adventurous, thoughtful, curious</td>\n",
       "      <td>music, hiking</td>\n",
       "      <td>honesty, responsibility</td>\n",
       "      <td>I make the best coffee in town. Don't @ me. Ca...</td>\n",
       "      <td>['make', 'best', 'coffee', 'town', \"don't\", '@...</td>\n",
       "    </tr>\n",
       "    <tr>\n",
       "      <th>1999</th>\n",
       "      <td>2003-04-03</td>\n",
       "      <td>f</td>\n",
       "      <td>others</td>\n",
       "      <td>casual fun</td>\n",
       "      <td>Science</td>\n",
       "      <td>outgoing, shy, introverted</td>\n",
       "      <td>cooking, sports</td>\n",
       "      <td>independence</td>\n",
       "      <td>I once met a celebrity on a hiking trip. Not j...</td>\n",
       "      <td>['met', 'celebrity', 'hiking', 'trip', 'lookin...</td>\n",
       "    </tr>\n",
       "  </tbody>\n",
       "</table>\n",
       "<p>2000 rows × 10 columns</p>\n",
       "</div>"
      ],
      "text/plain": [
       "       BirthDate  Gender PreferredGender                   LookingFor  \\\n",
       "0     2006-02-18       f          others                  new friends   \n",
       "1     2002-08-29       m               m        still figuring it out   \n",
       "2     1999-08-11  others               f                  new friends   \n",
       "3     1995-06-21       m             any            long-term partner   \n",
       "4     1995-05-05       f               f  short-term but long-term OK   \n",
       "...          ...     ...             ...                          ...   \n",
       "1995  2000-08-08  others               m  short-term but long-term OK   \n",
       "1996  2005-07-09  others               f            long-term partner   \n",
       "1997  1998-02-20       m          others  short-term but long-term OK   \n",
       "1998  1999-03-06  others          others            long-term partner   \n",
       "1999  2003-04-03       f          others                   casual fun   \n",
       "\n",
       "           Faculty                    PersonalTraits  \\\n",
       "0      Engineering                  adventurous, shy   \n",
       "1             Arts           curious, shy, ambitious   \n",
       "2         Business         shy, creative, thoughtful   \n",
       "3              Law  outgoing, ambitious, adventurous   \n",
       "4     Architecture                          creative   \n",
       "...            ...                               ...   \n",
       "1995          Arts                   funny, creative   \n",
       "1996   Engineering    curious, outgoing, adventurous   \n",
       "1997          Arts           introverted, shy, funny   \n",
       "1998      Medicine  adventurous, thoughtful, curious   \n",
       "1999       Science        outgoing, shy, introverted   \n",
       "\n",
       "                             Interests                                 Values  \\\n",
       "0                traveling, technology  spirituality, empathy, responsibility   \n",
       "1              technology, photography                  respect, independence   \n",
       "2          sports, cooking, technology                  independence, loyalty   \n",
       "3                 fashion, photography         loyalty, respect, spirituality   \n",
       "4          reading, fashion, traveling                responsibility, loyalty   \n",
       "...                                ...                                    ...   \n",
       "1995                           fashion                    creativity, empathy   \n",
       "1996                    music, reading                respect, responsibility   \n",
       "1997  photography, technology, cooking                           spirituality   \n",
       "1998                     music, hiking                honesty, responsibility   \n",
       "1999                   cooking, sports                           independence   \n",
       "\n",
       "                                                    Bio  \\\n",
       "0     I make the best coffee in town. Don't @ me. No...   \n",
       "1     I’ve got a collection of 90’s comic books. I'm...   \n",
       "2     I can speak three languages, and one of them i...   \n",
       "3     I’ve got a collection of 90’s comic books. I e...   \n",
       "4     I’ve got a collection of 90’s comic books. I'm...   \n",
       "...                                                 ...   \n",
       "1995  I’ve visited 10 countries in the past 5 years....   \n",
       "1996  I’ve visited 10 countries in the past 5 years....   \n",
       "1997  I’ve visited 10 countries in the past 5 years....   \n",
       "1998  I make the best coffee in town. Don't @ me. Ca...   \n",
       "1999  I once met a celebrity on a hiking trip. Not j...   \n",
       "\n",
       "                                          Bio_processed  \n",
       "0     ['make', 'best', 'coffee', 'town', \"don't\", '@...  \n",
       "1     ['got', 'collection', '90’s', 'comic', 'book',...  \n",
       "2     ['speak', 'three', 'language', 'one', 'sarcasm...  \n",
       "3     ['got', 'collection', '90’s', 'comic', 'book',...  \n",
       "4     ['got', 'collection', '90’s', 'comic', 'book',...  \n",
       "...                                                 ...  \n",
       "1995  ['visited', '10', 'country', 'past', '5', 'yea...  \n",
       "1996  ['visited', '10', 'country', 'past', '5', 'yea...  \n",
       "1997  ['visited', '10', 'country', 'past', '5', 'yea...  \n",
       "1998  ['make', 'best', 'coffee', 'town', \"don't\", '@...  \n",
       "1999  ['met', 'celebrity', 'hiking', 'trip', 'lookin...  \n",
       "\n",
       "[2000 rows x 10 columns]"
      ]
     },
     "execution_count": 175,
     "metadata": {},
     "output_type": "execute_result"
    }
   ],
   "source": [
    "df_profiles_2"
   ]
  },
  {
   "cell_type": "markdown",
   "metadata": {},
   "source": [
    "Checking the head of the DataFrame"
   ]
  },
  {
   "cell_type": "code",
   "execution_count": 176,
   "metadata": {},
   "outputs": [],
   "source": [
    "df_profiles_2.head().to_csv('random_chulalongkorn_profiles_bioTokenized_head.csv', index=False)"
   ]
  },
  {
   "cell_type": "code",
   "execution_count": 177,
   "metadata": {},
   "outputs": [],
   "source": [
    "df_profiles_2['PersonalTraits'] = df_profiles_2['PersonalTraits'].apply(lambda x: x.split(', '))\n",
    "df_profiles_2['Interests'] = df_profiles_2['Interests'].apply(lambda x: x.split(', '))\n",
    "df_profiles_2['Values'] = df_profiles_2['Values'].apply(lambda x: x.split(', '))"
   ]
  },
  {
   "cell_type": "code",
   "execution_count": 178,
   "metadata": {},
   "outputs": [
    {
     "data": {
      "text/html": [
       "<div>\n",
       "<style scoped>\n",
       "    .dataframe tbody tr th:only-of-type {\n",
       "        vertical-align: middle;\n",
       "    }\n",
       "\n",
       "    .dataframe tbody tr th {\n",
       "        vertical-align: top;\n",
       "    }\n",
       "\n",
       "    .dataframe thead th {\n",
       "        text-align: right;\n",
       "    }\n",
       "</style>\n",
       "<table border=\"1\" class=\"dataframe\">\n",
       "  <thead>\n",
       "    <tr style=\"text-align: right;\">\n",
       "      <th></th>\n",
       "      <th>BirthDate</th>\n",
       "      <th>Gender</th>\n",
       "      <th>PreferredGender</th>\n",
       "      <th>LookingFor</th>\n",
       "      <th>Faculty</th>\n",
       "      <th>PersonalTraits</th>\n",
       "      <th>Interests</th>\n",
       "      <th>Values</th>\n",
       "      <th>Bio</th>\n",
       "      <th>Bio_processed</th>\n",
       "    </tr>\n",
       "  </thead>\n",
       "  <tbody>\n",
       "    <tr>\n",
       "      <th>0</th>\n",
       "      <td>2006-02-18</td>\n",
       "      <td>f</td>\n",
       "      <td>others</td>\n",
       "      <td>new friends</td>\n",
       "      <td>Engineering</td>\n",
       "      <td>[adventurous, shy]</td>\n",
       "      <td>[traveling, technology]</td>\n",
       "      <td>[spirituality, empathy, responsibility]</td>\n",
       "      <td>I make the best coffee in town. Don't @ me. No...</td>\n",
       "      <td>['make', 'best', 'coffee', 'town', \"don't\", '@...</td>\n",
       "    </tr>\n",
       "    <tr>\n",
       "      <th>1</th>\n",
       "      <td>2002-08-29</td>\n",
       "      <td>m</td>\n",
       "      <td>m</td>\n",
       "      <td>still figuring it out</td>\n",
       "      <td>Arts</td>\n",
       "      <td>[curious, shy, ambitious]</td>\n",
       "      <td>[technology, photography]</td>\n",
       "      <td>[respect, independence]</td>\n",
       "      <td>I’ve got a collection of 90’s comic books. I'm...</td>\n",
       "      <td>['got', 'collection', '90’s', 'comic', 'book',...</td>\n",
       "    </tr>\n",
       "    <tr>\n",
       "      <th>2</th>\n",
       "      <td>1999-08-11</td>\n",
       "      <td>others</td>\n",
       "      <td>f</td>\n",
       "      <td>new friends</td>\n",
       "      <td>Business</td>\n",
       "      <td>[shy, creative, thoughtful]</td>\n",
       "      <td>[sports, cooking, technology]</td>\n",
       "      <td>[independence, loyalty]</td>\n",
       "      <td>I can speak three languages, and one of them i...</td>\n",
       "      <td>['speak', 'three', 'language', 'one', 'sarcasm...</td>\n",
       "    </tr>\n",
       "    <tr>\n",
       "      <th>3</th>\n",
       "      <td>1995-06-21</td>\n",
       "      <td>m</td>\n",
       "      <td>any</td>\n",
       "      <td>long-term partner</td>\n",
       "      <td>Law</td>\n",
       "      <td>[outgoing, ambitious, adventurous]</td>\n",
       "      <td>[fashion, photography]</td>\n",
       "      <td>[loyalty, respect, spirituality]</td>\n",
       "      <td>I’ve got a collection of 90’s comic books. I e...</td>\n",
       "      <td>['got', 'collection', '90’s', 'comic', 'book',...</td>\n",
       "    </tr>\n",
       "    <tr>\n",
       "      <th>4</th>\n",
       "      <td>1995-05-05</td>\n",
       "      <td>f</td>\n",
       "      <td>f</td>\n",
       "      <td>short-term but long-term OK</td>\n",
       "      <td>Architecture</td>\n",
       "      <td>[creative]</td>\n",
       "      <td>[reading, fashion, traveling]</td>\n",
       "      <td>[responsibility, loyalty]</td>\n",
       "      <td>I’ve got a collection of 90’s comic books. I'm...</td>\n",
       "      <td>['got', 'collection', '90’s', 'comic', 'book',...</td>\n",
       "    </tr>\n",
       "  </tbody>\n",
       "</table>\n",
       "</div>"
      ],
      "text/plain": [
       "    BirthDate  Gender PreferredGender                   LookingFor  \\\n",
       "0  2006-02-18       f          others                  new friends   \n",
       "1  2002-08-29       m               m        still figuring it out   \n",
       "2  1999-08-11  others               f                  new friends   \n",
       "3  1995-06-21       m             any            long-term partner   \n",
       "4  1995-05-05       f               f  short-term but long-term OK   \n",
       "\n",
       "        Faculty                      PersonalTraits  \\\n",
       "0   Engineering                  [adventurous, shy]   \n",
       "1          Arts           [curious, shy, ambitious]   \n",
       "2      Business         [shy, creative, thoughtful]   \n",
       "3           Law  [outgoing, ambitious, adventurous]   \n",
       "4  Architecture                          [creative]   \n",
       "\n",
       "                       Interests                                   Values  \\\n",
       "0        [traveling, technology]  [spirituality, empathy, responsibility]   \n",
       "1      [technology, photography]                  [respect, independence]   \n",
       "2  [sports, cooking, technology]                  [independence, loyalty]   \n",
       "3         [fashion, photography]         [loyalty, respect, spirituality]   \n",
       "4  [reading, fashion, traveling]                [responsibility, loyalty]   \n",
       "\n",
       "                                                 Bio  \\\n",
       "0  I make the best coffee in town. Don't @ me. No...   \n",
       "1  I’ve got a collection of 90’s comic books. I'm...   \n",
       "2  I can speak three languages, and one of them i...   \n",
       "3  I’ve got a collection of 90’s comic books. I e...   \n",
       "4  I’ve got a collection of 90’s comic books. I'm...   \n",
       "\n",
       "                                       Bio_processed  \n",
       "0  ['make', 'best', 'coffee', 'town', \"don't\", '@...  \n",
       "1  ['got', 'collection', '90’s', 'comic', 'book',...  \n",
       "2  ['speak', 'three', 'language', 'one', 'sarcasm...  \n",
       "3  ['got', 'collection', '90’s', 'comic', 'book',...  \n",
       "4  ['got', 'collection', '90’s', 'comic', 'book',...  "
      ]
     },
     "execution_count": 178,
     "metadata": {},
     "output_type": "execute_result"
    }
   ],
   "source": [
    "df_profiles_2.head()"
   ]
  },
  {
   "cell_type": "markdown",
   "metadata": {},
   "source": [
    "### Binarization of PersonalTraits, Interests and Values."
   ]
  },
  {
   "cell_type": "markdown",
   "metadata": {},
   "source": [
    "Use binzarization because these three columns have discrete categories, e.g. creative, adventurous."
   ]
  },
  {
   "cell_type": "code",
   "execution_count": 179,
   "metadata": {},
   "outputs": [],
   "source": [
    "from sklearn.preprocessing import MultiLabelBinarizer"
   ]
  },
  {
   "cell_type": "code",
   "execution_count": 180,
   "metadata": {},
   "outputs": [],
   "source": [
    "mlbPersonalTraits = MultiLabelBinarizer()\n",
    "mlbInterests = MultiLabelBinarizer()\n",
    "mlbValues = MultiLabelBinarizer()"
   ]
  },
  {
   "cell_type": "code",
   "execution_count": 181,
   "metadata": {},
   "outputs": [],
   "source": [
    "personal_traits_binarized = pd.DataFrame(mlbPersonalTraits.fit_transform(df_profiles_2['PersonalTraits']),\n",
    "                                         columns=mlbPersonalTraits.classes_,\n",
    "                                         index=df_profiles_2.index)\n",
    "\n",
    "interests_binarized = pd.DataFrame(mlbInterests.fit_transform(df_profiles_2['Interests']),\n",
    "                                   columns=mlbInterests.classes_,\n",
    "                                   index=df_profiles_2.index)\n",
    "\n",
    "values_binarized = pd.DataFrame(mlbValues.fit_transform(df_profiles_2['Values']),\n",
    "                                columns=mlbValues.classes_,\n",
    "                                index=df_profiles_2.index)"
   ]
  },
  {
   "cell_type": "code",
   "execution_count": 182,
   "metadata": {},
   "outputs": [
    {
     "data": {
      "text/html": [
       "<div>\n",
       "<style scoped>\n",
       "    .dataframe tbody tr th:only-of-type {\n",
       "        vertical-align: middle;\n",
       "    }\n",
       "\n",
       "    .dataframe tbody tr th {\n",
       "        vertical-align: top;\n",
       "    }\n",
       "\n",
       "    .dataframe thead th {\n",
       "        text-align: right;\n",
       "    }\n",
       "</style>\n",
       "<table border=\"1\" class=\"dataframe\">\n",
       "  <thead>\n",
       "    <tr style=\"text-align: right;\">\n",
       "      <th></th>\n",
       "      <th>adventurous</th>\n",
       "      <th>ambitious</th>\n",
       "      <th>creative</th>\n",
       "      <th>curious</th>\n",
       "      <th>funny</th>\n",
       "      <th>introverted</th>\n",
       "      <th>outgoing</th>\n",
       "      <th>shy</th>\n",
       "      <th>thoughtful</th>\n",
       "    </tr>\n",
       "  </thead>\n",
       "  <tbody>\n",
       "    <tr>\n",
       "      <th>0</th>\n",
       "      <td>1</td>\n",
       "      <td>0</td>\n",
       "      <td>0</td>\n",
       "      <td>0</td>\n",
       "      <td>0</td>\n",
       "      <td>0</td>\n",
       "      <td>0</td>\n",
       "      <td>1</td>\n",
       "      <td>0</td>\n",
       "    </tr>\n",
       "    <tr>\n",
       "      <th>1</th>\n",
       "      <td>0</td>\n",
       "      <td>1</td>\n",
       "      <td>0</td>\n",
       "      <td>1</td>\n",
       "      <td>0</td>\n",
       "      <td>0</td>\n",
       "      <td>0</td>\n",
       "      <td>1</td>\n",
       "      <td>0</td>\n",
       "    </tr>\n",
       "    <tr>\n",
       "      <th>2</th>\n",
       "      <td>0</td>\n",
       "      <td>0</td>\n",
       "      <td>1</td>\n",
       "      <td>0</td>\n",
       "      <td>0</td>\n",
       "      <td>0</td>\n",
       "      <td>0</td>\n",
       "      <td>1</td>\n",
       "      <td>1</td>\n",
       "    </tr>\n",
       "    <tr>\n",
       "      <th>3</th>\n",
       "      <td>1</td>\n",
       "      <td>1</td>\n",
       "      <td>0</td>\n",
       "      <td>0</td>\n",
       "      <td>0</td>\n",
       "      <td>0</td>\n",
       "      <td>1</td>\n",
       "      <td>0</td>\n",
       "      <td>0</td>\n",
       "    </tr>\n",
       "    <tr>\n",
       "      <th>4</th>\n",
       "      <td>0</td>\n",
       "      <td>0</td>\n",
       "      <td>1</td>\n",
       "      <td>0</td>\n",
       "      <td>0</td>\n",
       "      <td>0</td>\n",
       "      <td>0</td>\n",
       "      <td>0</td>\n",
       "      <td>0</td>\n",
       "    </tr>\n",
       "    <tr>\n",
       "      <th>...</th>\n",
       "      <td>...</td>\n",
       "      <td>...</td>\n",
       "      <td>...</td>\n",
       "      <td>...</td>\n",
       "      <td>...</td>\n",
       "      <td>...</td>\n",
       "      <td>...</td>\n",
       "      <td>...</td>\n",
       "      <td>...</td>\n",
       "    </tr>\n",
       "    <tr>\n",
       "      <th>1995</th>\n",
       "      <td>0</td>\n",
       "      <td>0</td>\n",
       "      <td>1</td>\n",
       "      <td>0</td>\n",
       "      <td>1</td>\n",
       "      <td>0</td>\n",
       "      <td>0</td>\n",
       "      <td>0</td>\n",
       "      <td>0</td>\n",
       "    </tr>\n",
       "    <tr>\n",
       "      <th>1996</th>\n",
       "      <td>1</td>\n",
       "      <td>0</td>\n",
       "      <td>0</td>\n",
       "      <td>1</td>\n",
       "      <td>0</td>\n",
       "      <td>0</td>\n",
       "      <td>1</td>\n",
       "      <td>0</td>\n",
       "      <td>0</td>\n",
       "    </tr>\n",
       "    <tr>\n",
       "      <th>1997</th>\n",
       "      <td>0</td>\n",
       "      <td>0</td>\n",
       "      <td>0</td>\n",
       "      <td>0</td>\n",
       "      <td>1</td>\n",
       "      <td>1</td>\n",
       "      <td>0</td>\n",
       "      <td>1</td>\n",
       "      <td>0</td>\n",
       "    </tr>\n",
       "    <tr>\n",
       "      <th>1998</th>\n",
       "      <td>1</td>\n",
       "      <td>0</td>\n",
       "      <td>0</td>\n",
       "      <td>1</td>\n",
       "      <td>0</td>\n",
       "      <td>0</td>\n",
       "      <td>0</td>\n",
       "      <td>0</td>\n",
       "      <td>1</td>\n",
       "    </tr>\n",
       "    <tr>\n",
       "      <th>1999</th>\n",
       "      <td>0</td>\n",
       "      <td>0</td>\n",
       "      <td>0</td>\n",
       "      <td>0</td>\n",
       "      <td>0</td>\n",
       "      <td>1</td>\n",
       "      <td>1</td>\n",
       "      <td>1</td>\n",
       "      <td>0</td>\n",
       "    </tr>\n",
       "  </tbody>\n",
       "</table>\n",
       "<p>2000 rows × 9 columns</p>\n",
       "</div>"
      ],
      "text/plain": [
       "      adventurous  ambitious  creative  curious  funny  introverted  outgoing  \\\n",
       "0               1          0         0        0      0            0         0   \n",
       "1               0          1         0        1      0            0         0   \n",
       "2               0          0         1        0      0            0         0   \n",
       "3               1          1         0        0      0            0         1   \n",
       "4               0          0         1        0      0            0         0   \n",
       "...           ...        ...       ...      ...    ...          ...       ...   \n",
       "1995            0          0         1        0      1            0         0   \n",
       "1996            1          0         0        1      0            0         1   \n",
       "1997            0          0         0        0      1            1         0   \n",
       "1998            1          0         0        1      0            0         0   \n",
       "1999            0          0         0        0      0            1         1   \n",
       "\n",
       "      shy  thoughtful  \n",
       "0       1           0  \n",
       "1       1           0  \n",
       "2       1           1  \n",
       "3       0           0  \n",
       "4       0           0  \n",
       "...   ...         ...  \n",
       "1995    0           0  \n",
       "1996    0           0  \n",
       "1997    1           0  \n",
       "1998    0           1  \n",
       "1999    1           0  \n",
       "\n",
       "[2000 rows x 9 columns]"
      ]
     },
     "execution_count": 182,
     "metadata": {},
     "output_type": "execute_result"
    }
   ],
   "source": [
    "personal_traits_binarized"
   ]
  },
  {
   "cell_type": "code",
   "execution_count": 183,
   "metadata": {},
   "outputs": [],
   "source": [
    "df_profiles_2_binarized = pd.concat([df_profiles_2, personal_traits_binarized, interests_binarized, values_binarized], axis=1)"
   ]
  },
  {
   "cell_type": "code",
   "execution_count": 184,
   "metadata": {},
   "outputs": [
    {
     "data": {
      "text/html": [
       "<div>\n",
       "<style scoped>\n",
       "    .dataframe tbody tr th:only-of-type {\n",
       "        vertical-align: middle;\n",
       "    }\n",
       "\n",
       "    .dataframe tbody tr th {\n",
       "        vertical-align: top;\n",
       "    }\n",
       "\n",
       "    .dataframe thead th {\n",
       "        text-align: right;\n",
       "    }\n",
       "</style>\n",
       "<table border=\"1\" class=\"dataframe\">\n",
       "  <thead>\n",
       "    <tr style=\"text-align: right;\">\n",
       "      <th></th>\n",
       "      <th>BirthDate</th>\n",
       "      <th>Gender</th>\n",
       "      <th>PreferredGender</th>\n",
       "      <th>LookingFor</th>\n",
       "      <th>Faculty</th>\n",
       "      <th>PersonalTraits</th>\n",
       "      <th>Interests</th>\n",
       "      <th>Values</th>\n",
       "      <th>Bio</th>\n",
       "      <th>Bio_processed</th>\n",
       "      <th>...</th>\n",
       "      <th>technology</th>\n",
       "      <th>traveling</th>\n",
       "      <th>creativity</th>\n",
       "      <th>empathy</th>\n",
       "      <th>honesty</th>\n",
       "      <th>independence</th>\n",
       "      <th>loyalty</th>\n",
       "      <th>respect</th>\n",
       "      <th>responsibility</th>\n",
       "      <th>spirituality</th>\n",
       "    </tr>\n",
       "  </thead>\n",
       "  <tbody>\n",
       "    <tr>\n",
       "      <th>0</th>\n",
       "      <td>2006-02-18</td>\n",
       "      <td>f</td>\n",
       "      <td>others</td>\n",
       "      <td>new friends</td>\n",
       "      <td>Engineering</td>\n",
       "      <td>[adventurous, shy]</td>\n",
       "      <td>[traveling, technology]</td>\n",
       "      <td>[spirituality, empathy, responsibility]</td>\n",
       "      <td>I make the best coffee in town. Don't @ me. No...</td>\n",
       "      <td>['make', 'best', 'coffee', 'town', \"don't\", '@...</td>\n",
       "      <td>...</td>\n",
       "      <td>1</td>\n",
       "      <td>1</td>\n",
       "      <td>0</td>\n",
       "      <td>1</td>\n",
       "      <td>0</td>\n",
       "      <td>0</td>\n",
       "      <td>0</td>\n",
       "      <td>0</td>\n",
       "      <td>1</td>\n",
       "      <td>1</td>\n",
       "    </tr>\n",
       "    <tr>\n",
       "      <th>1</th>\n",
       "      <td>2002-08-29</td>\n",
       "      <td>m</td>\n",
       "      <td>m</td>\n",
       "      <td>still figuring it out</td>\n",
       "      <td>Arts</td>\n",
       "      <td>[curious, shy, ambitious]</td>\n",
       "      <td>[technology, photography]</td>\n",
       "      <td>[respect, independence]</td>\n",
       "      <td>I’ve got a collection of 90’s comic books. I'm...</td>\n",
       "      <td>['got', 'collection', '90’s', 'comic', 'book',...</td>\n",
       "      <td>...</td>\n",
       "      <td>1</td>\n",
       "      <td>0</td>\n",
       "      <td>0</td>\n",
       "      <td>0</td>\n",
       "      <td>0</td>\n",
       "      <td>1</td>\n",
       "      <td>0</td>\n",
       "      <td>1</td>\n",
       "      <td>0</td>\n",
       "      <td>0</td>\n",
       "    </tr>\n",
       "    <tr>\n",
       "      <th>2</th>\n",
       "      <td>1999-08-11</td>\n",
       "      <td>others</td>\n",
       "      <td>f</td>\n",
       "      <td>new friends</td>\n",
       "      <td>Business</td>\n",
       "      <td>[shy, creative, thoughtful]</td>\n",
       "      <td>[sports, cooking, technology]</td>\n",
       "      <td>[independence, loyalty]</td>\n",
       "      <td>I can speak three languages, and one of them i...</td>\n",
       "      <td>['speak', 'three', 'language', 'one', 'sarcasm...</td>\n",
       "      <td>...</td>\n",
       "      <td>1</td>\n",
       "      <td>0</td>\n",
       "      <td>0</td>\n",
       "      <td>0</td>\n",
       "      <td>0</td>\n",
       "      <td>1</td>\n",
       "      <td>1</td>\n",
       "      <td>0</td>\n",
       "      <td>0</td>\n",
       "      <td>0</td>\n",
       "    </tr>\n",
       "    <tr>\n",
       "      <th>3</th>\n",
       "      <td>1995-06-21</td>\n",
       "      <td>m</td>\n",
       "      <td>any</td>\n",
       "      <td>long-term partner</td>\n",
       "      <td>Law</td>\n",
       "      <td>[outgoing, ambitious, adventurous]</td>\n",
       "      <td>[fashion, photography]</td>\n",
       "      <td>[loyalty, respect, spirituality]</td>\n",
       "      <td>I’ve got a collection of 90’s comic books. I e...</td>\n",
       "      <td>['got', 'collection', '90’s', 'comic', 'book',...</td>\n",
       "      <td>...</td>\n",
       "      <td>0</td>\n",
       "      <td>0</td>\n",
       "      <td>0</td>\n",
       "      <td>0</td>\n",
       "      <td>0</td>\n",
       "      <td>0</td>\n",
       "      <td>1</td>\n",
       "      <td>1</td>\n",
       "      <td>0</td>\n",
       "      <td>1</td>\n",
       "    </tr>\n",
       "    <tr>\n",
       "      <th>4</th>\n",
       "      <td>1995-05-05</td>\n",
       "      <td>f</td>\n",
       "      <td>f</td>\n",
       "      <td>short-term but long-term OK</td>\n",
       "      <td>Architecture</td>\n",
       "      <td>[creative]</td>\n",
       "      <td>[reading, fashion, traveling]</td>\n",
       "      <td>[responsibility, loyalty]</td>\n",
       "      <td>I’ve got a collection of 90’s comic books. I'm...</td>\n",
       "      <td>['got', 'collection', '90’s', 'comic', 'book',...</td>\n",
       "      <td>...</td>\n",
       "      <td>0</td>\n",
       "      <td>1</td>\n",
       "      <td>0</td>\n",
       "      <td>0</td>\n",
       "      <td>0</td>\n",
       "      <td>0</td>\n",
       "      <td>1</td>\n",
       "      <td>0</td>\n",
       "      <td>1</td>\n",
       "      <td>0</td>\n",
       "    </tr>\n",
       "  </tbody>\n",
       "</table>\n",
       "<p>5 rows × 37 columns</p>\n",
       "</div>"
      ],
      "text/plain": [
       "    BirthDate  Gender PreferredGender                   LookingFor  \\\n",
       "0  2006-02-18       f          others                  new friends   \n",
       "1  2002-08-29       m               m        still figuring it out   \n",
       "2  1999-08-11  others               f                  new friends   \n",
       "3  1995-06-21       m             any            long-term partner   \n",
       "4  1995-05-05       f               f  short-term but long-term OK   \n",
       "\n",
       "        Faculty                      PersonalTraits  \\\n",
       "0   Engineering                  [adventurous, shy]   \n",
       "1          Arts           [curious, shy, ambitious]   \n",
       "2      Business         [shy, creative, thoughtful]   \n",
       "3           Law  [outgoing, ambitious, adventurous]   \n",
       "4  Architecture                          [creative]   \n",
       "\n",
       "                       Interests                                   Values  \\\n",
       "0        [traveling, technology]  [spirituality, empathy, responsibility]   \n",
       "1      [technology, photography]                  [respect, independence]   \n",
       "2  [sports, cooking, technology]                  [independence, loyalty]   \n",
       "3         [fashion, photography]         [loyalty, respect, spirituality]   \n",
       "4  [reading, fashion, traveling]                [responsibility, loyalty]   \n",
       "\n",
       "                                                 Bio  \\\n",
       "0  I make the best coffee in town. Don't @ me. No...   \n",
       "1  I’ve got a collection of 90’s comic books. I'm...   \n",
       "2  I can speak three languages, and one of them i...   \n",
       "3  I’ve got a collection of 90’s comic books. I e...   \n",
       "4  I’ve got a collection of 90’s comic books. I'm...   \n",
       "\n",
       "                                       Bio_processed  ...  technology  \\\n",
       "0  ['make', 'best', 'coffee', 'town', \"don't\", '@...  ...           1   \n",
       "1  ['got', 'collection', '90’s', 'comic', 'book',...  ...           1   \n",
       "2  ['speak', 'three', 'language', 'one', 'sarcasm...  ...           1   \n",
       "3  ['got', 'collection', '90’s', 'comic', 'book',...  ...           0   \n",
       "4  ['got', 'collection', '90’s', 'comic', 'book',...  ...           0   \n",
       "\n",
       "   traveling  creativity  empathy  honesty  independence  loyalty  respect  \\\n",
       "0          1           0        1        0             0        0        0   \n",
       "1          0           0        0        0             1        0        1   \n",
       "2          0           0        0        0             1        1        0   \n",
       "3          0           0        0        0             0        1        1   \n",
       "4          1           0        0        0             0        1        0   \n",
       "\n",
       "   responsibility  spirituality  \n",
       "0               1             1  \n",
       "1               0             0  \n",
       "2               0             0  \n",
       "3               0             1  \n",
       "4               1             0  \n",
       "\n",
       "[5 rows x 37 columns]"
      ]
     },
     "execution_count": 184,
     "metadata": {},
     "output_type": "execute_result"
    }
   ],
   "source": [
    "df_profiles_2_binarized.head()"
   ]
  },
  {
   "cell_type": "markdown",
   "metadata": {},
   "source": [
    "### Vectorization"
   ]
  },
  {
   "cell_type": "markdown",
   "metadata": {},
   "source": [
    "Use vectorization for Bio_processed because the column contains collections of words from free-text data."
   ]
  },
  {
   "cell_type": "code",
   "execution_count": 185,
   "metadata": {},
   "outputs": [],
   "source": [
    "from sklearn.feature_extraction.text import CountVectorizer"
   ]
  },
  {
   "cell_type": "code",
   "execution_count": 186,
   "metadata": {},
   "outputs": [],
   "source": [
    "# Convert the 'Bio_processed' column from string list format to actual list of words for vectorization\n",
    "df_profiles_2_binarized['Bio_processed'] = df_profiles_2_binarized['Bio_processed'].apply(eval)"
   ]
  },
  {
   "cell_type": "code",
   "execution_count": 187,
   "metadata": {},
   "outputs": [
    {
     "name": "stderr",
     "output_type": "stream",
     "text": [
      "/Library/Frameworks/Python.framework/Versions/3.12/lib/python3.12/site-packages/sklearn/feature_extraction/text.py:521: UserWarning:\n",
      "\n",
      "The parameter 'token_pattern' will not be used since 'tokenizer' is not None'\n",
      "\n"
     ]
    }
   ],
   "source": [
    "# Apply CountVectorizer to the 'Bio_processed' column\n",
    "vectorizer = CountVectorizer(tokenizer=lambda x: x, lowercase=False)  # use tokenizer that doesn't alter the list\n",
    "bio_matrix = vectorizer.fit_transform(df_profiles_2_binarized['Bio_processed'])"
   ]
  },
  {
   "cell_type": "code",
   "execution_count": 188,
   "metadata": {},
   "outputs": [],
   "source": [
    "# Convert the result into a DataFrame with the words as columns\n",
    "df_bio_vectorized = pd.DataFrame(bio_matrix.toarray(), columns=vectorizer.get_feature_names_out(), index=df_profiles_2_binarized.index)"
   ]
  },
  {
   "cell_type": "code",
   "execution_count": 189,
   "metadata": {},
   "outputs": [],
   "source": [
    "df_profiles_2_binarized_vectorized = pd.concat([df_profiles_2_binarized, df_bio_vectorized], axis=1)"
   ]
  },
  {
   "cell_type": "code",
   "execution_count": 190,
   "metadata": {},
   "outputs": [
    {
     "data": {
      "text/html": [
       "<div>\n",
       "<style scoped>\n",
       "    .dataframe tbody tr th:only-of-type {\n",
       "        vertical-align: middle;\n",
       "    }\n",
       "\n",
       "    .dataframe tbody tr th {\n",
       "        vertical-align: top;\n",
       "    }\n",
       "\n",
       "    .dataframe thead th {\n",
       "        text-align: right;\n",
       "    }\n",
       "</style>\n",
       "<table border=\"1\" class=\"dataframe\">\n",
       "  <thead>\n",
       "    <tr style=\"text-align: right;\">\n",
       "      <th></th>\n",
       "      <th>BirthDate</th>\n",
       "      <th>Gender</th>\n",
       "      <th>PreferredGender</th>\n",
       "      <th>LookingFor</th>\n",
       "      <th>Faculty</th>\n",
       "      <th>PersonalTraits</th>\n",
       "      <th>Interests</th>\n",
       "      <th>Values</th>\n",
       "      <th>Bio</th>\n",
       "      <th>Bio_processed</th>\n",
       "      <th>...</th>\n",
       "      <th>town</th>\n",
       "      <th>trip</th>\n",
       "      <th>trust</th>\n",
       "      <th>trying</th>\n",
       "      <th>value</th>\n",
       "      <th>visited</th>\n",
       "      <th>want</th>\n",
       "      <th>weekend</th>\n",
       "      <th>working</th>\n",
       "      <th>year</th>\n",
       "    </tr>\n",
       "  </thead>\n",
       "  <tbody>\n",
       "    <tr>\n",
       "      <th>0</th>\n",
       "      <td>2006-02-18</td>\n",
       "      <td>f</td>\n",
       "      <td>others</td>\n",
       "      <td>new friends</td>\n",
       "      <td>Engineering</td>\n",
       "      <td>[adventurous, shy]</td>\n",
       "      <td>[traveling, technology]</td>\n",
       "      <td>[spirituality, empathy, responsibility]</td>\n",
       "      <td>I make the best coffee in town. Don't @ me. No...</td>\n",
       "      <td>[make, best, coffee, town, don't, @, looking, ...</td>\n",
       "      <td>...</td>\n",
       "      <td>1</td>\n",
       "      <td>1</td>\n",
       "      <td>1</td>\n",
       "      <td>0</td>\n",
       "      <td>0</td>\n",
       "      <td>0</td>\n",
       "      <td>0</td>\n",
       "      <td>0</td>\n",
       "      <td>0</td>\n",
       "      <td>0</td>\n",
       "    </tr>\n",
       "    <tr>\n",
       "      <th>1</th>\n",
       "      <td>2002-08-29</td>\n",
       "      <td>m</td>\n",
       "      <td>m</td>\n",
       "      <td>still figuring it out</td>\n",
       "      <td>Arts</td>\n",
       "      <td>[curious, shy, ambitious]</td>\n",
       "      <td>[technology, photography]</td>\n",
       "      <td>[respect, independence]</td>\n",
       "      <td>I’ve got a collection of 90’s comic books. I'm...</td>\n",
       "      <td>[got, collection, 90’s, comic, book, ready, so...</td>\n",
       "      <td>...</td>\n",
       "      <td>0</td>\n",
       "      <td>0</td>\n",
       "      <td>1</td>\n",
       "      <td>0</td>\n",
       "      <td>0</td>\n",
       "      <td>0</td>\n",
       "      <td>0</td>\n",
       "      <td>0</td>\n",
       "      <td>0</td>\n",
       "      <td>0</td>\n",
       "    </tr>\n",
       "    <tr>\n",
       "      <th>2</th>\n",
       "      <td>1999-08-11</td>\n",
       "      <td>others</td>\n",
       "      <td>f</td>\n",
       "      <td>new friends</td>\n",
       "      <td>Business</td>\n",
       "      <td>[shy, creative, thoughtful]</td>\n",
       "      <td>[sports, cooking, technology]</td>\n",
       "      <td>[independence, loyalty]</td>\n",
       "      <td>I can speak three languages, and one of them i...</td>\n",
       "      <td>[speak, three, language, one, sarcasm, looking...</td>\n",
       "      <td>...</td>\n",
       "      <td>0</td>\n",
       "      <td>0</td>\n",
       "      <td>1</td>\n",
       "      <td>0</td>\n",
       "      <td>0</td>\n",
       "      <td>0</td>\n",
       "      <td>0</td>\n",
       "      <td>0</td>\n",
       "      <td>1</td>\n",
       "      <td>0</td>\n",
       "    </tr>\n",
       "    <tr>\n",
       "      <th>3</th>\n",
       "      <td>1995-06-21</td>\n",
       "      <td>m</td>\n",
       "      <td>any</td>\n",
       "      <td>long-term partner</td>\n",
       "      <td>Law</td>\n",
       "      <td>[outgoing, ambitious, adventurous]</td>\n",
       "      <td>[fashion, photography]</td>\n",
       "      <td>[loyalty, respect, spirituality]</td>\n",
       "      <td>I’ve got a collection of 90’s comic books. I e...</td>\n",
       "      <td>[got, collection, 90’s, comic, book, enjoy, sp...</td>\n",
       "      <td>...</td>\n",
       "      <td>0</td>\n",
       "      <td>0</td>\n",
       "      <td>0</td>\n",
       "      <td>1</td>\n",
       "      <td>0</td>\n",
       "      <td>0</td>\n",
       "      <td>0</td>\n",
       "      <td>1</td>\n",
       "      <td>1</td>\n",
       "      <td>0</td>\n",
       "    </tr>\n",
       "    <tr>\n",
       "      <th>4</th>\n",
       "      <td>1995-05-05</td>\n",
       "      <td>f</td>\n",
       "      <td>f</td>\n",
       "      <td>short-term but long-term OK</td>\n",
       "      <td>Architecture</td>\n",
       "      <td>[creative]</td>\n",
       "      <td>[reading, fashion, traveling]</td>\n",
       "      <td>[responsibility, loyalty]</td>\n",
       "      <td>I’ve got a collection of 90’s comic books. I'm...</td>\n",
       "      <td>[got, collection, 90’s, comic, book, ready, so...</td>\n",
       "      <td>...</td>\n",
       "      <td>0</td>\n",
       "      <td>0</td>\n",
       "      <td>0</td>\n",
       "      <td>0</td>\n",
       "      <td>1</td>\n",
       "      <td>0</td>\n",
       "      <td>0</td>\n",
       "      <td>0</td>\n",
       "      <td>0</td>\n",
       "      <td>0</td>\n",
       "    </tr>\n",
       "  </tbody>\n",
       "</table>\n",
       "<p>5 rows × 171 columns</p>\n",
       "</div>"
      ],
      "text/plain": [
       "    BirthDate  Gender PreferredGender                   LookingFor  \\\n",
       "0  2006-02-18       f          others                  new friends   \n",
       "1  2002-08-29       m               m        still figuring it out   \n",
       "2  1999-08-11  others               f                  new friends   \n",
       "3  1995-06-21       m             any            long-term partner   \n",
       "4  1995-05-05       f               f  short-term but long-term OK   \n",
       "\n",
       "        Faculty                      PersonalTraits  \\\n",
       "0   Engineering                  [adventurous, shy]   \n",
       "1          Arts           [curious, shy, ambitious]   \n",
       "2      Business         [shy, creative, thoughtful]   \n",
       "3           Law  [outgoing, ambitious, adventurous]   \n",
       "4  Architecture                          [creative]   \n",
       "\n",
       "                       Interests                                   Values  \\\n",
       "0        [traveling, technology]  [spirituality, empathy, responsibility]   \n",
       "1      [technology, photography]                  [respect, independence]   \n",
       "2  [sports, cooking, technology]                  [independence, loyalty]   \n",
       "3         [fashion, photography]         [loyalty, respect, spirituality]   \n",
       "4  [reading, fashion, traveling]                [responsibility, loyalty]   \n",
       "\n",
       "                                                 Bio  \\\n",
       "0  I make the best coffee in town. Don't @ me. No...   \n",
       "1  I’ve got a collection of 90’s comic books. I'm...   \n",
       "2  I can speak three languages, and one of them i...   \n",
       "3  I’ve got a collection of 90’s comic books. I e...   \n",
       "4  I’ve got a collection of 90’s comic books. I'm...   \n",
       "\n",
       "                                       Bio_processed  ...  town  trip  trust  \\\n",
       "0  [make, best, coffee, town, don't, @, looking, ...  ...     1     1      1   \n",
       "1  [got, collection, 90’s, comic, book, ready, so...  ...     0     0      1   \n",
       "2  [speak, three, language, one, sarcasm, looking...  ...     0     0      1   \n",
       "3  [got, collection, 90’s, comic, book, enjoy, sp...  ...     0     0      0   \n",
       "4  [got, collection, 90’s, comic, book, ready, so...  ...     0     0      0   \n",
       "\n",
       "   trying  value  visited  want  weekend  working  year  \n",
       "0       0      0        0     0        0        0     0  \n",
       "1       0      0        0     0        0        0     0  \n",
       "2       0      0        0     0        0        1     0  \n",
       "3       1      0        0     0        1        1     0  \n",
       "4       0      1        0     0        0        0     0  \n",
       "\n",
       "[5 rows x 171 columns]"
      ]
     },
     "execution_count": 190,
     "metadata": {},
     "output_type": "execute_result"
    }
   ],
   "source": [
    "df_profiles_2_binarized_vectorized.head()"
   ]
  },
  {
   "cell_type": "code",
   "execution_count": 191,
   "metadata": {},
   "outputs": [],
   "source": [
    "df_profiles_2_binarized_vectorized.head().to_csv('random_chulalongkorn_profiles_bioTokenized_binarized_vectorized_head.csv', index=False)"
   ]
  },
  {
   "cell_type": "code",
   "execution_count": 192,
   "metadata": {},
   "outputs": [],
   "source": [
    "df_profiles_2_binarized_vectorized.to_csv('random_chulalongkorn_profiles_bioTokenized_binarized_vectorized.csv', index=False)"
   ]
  },
  {
   "cell_type": "markdown",
   "metadata": {},
   "source": [
    "### Principal Component Analysis (PCA)"
   ]
  },
  {
   "cell_type": "markdown",
   "metadata": {},
   "source": [
    "To reduce the dimensionality of the dataset but still retain much of the variability or valuable statistical information."
   ]
  },
  {
   "cell_type": "code",
   "execution_count": 201,
   "metadata": {},
   "outputs": [],
   "source": [
    "df_profiles_3 = pd.read_csv('random_chulalongkorn_profiles_bioTokenized_binarized_vectorized.csv')"
   ]
  },
  {
   "cell_type": "code",
   "execution_count": 202,
   "metadata": {},
   "outputs": [],
   "source": [
    "from sklearn.decomposition import PCA\n",
    "from sklearn.preprocessing import StandardScaler\n",
    "import tools\n",
    "\n",
    "# Standardize the data before applying PCA\n",
    "scaler = StandardScaler()\n",
    "df_scaled = scaler.fit_transform(df_profiles_3.drop(columns=['BirthDate', 'Gender', 'PreferredGender', 'LookingFor', 'Faculty', 'PersonalTraits', 'Interests', 'Values', 'Bio', 'Bio_processed']))\n",
    "\n",
    "# Apply PCA\n",
    "pca = PCA(n_components=2)  # Reduce to 2 components for easy visualization\n",
    "pca_result = pca.fit_transform(df_scaled)\n",
    "\n",
    "# Create a DataFrame with the PCA result\n",
    "df_pca_2 = pd.DataFrame(pca_result, columns=['PCA1', 'PCA2'])"
   ]
  },
  {
   "cell_type": "code",
   "execution_count": 203,
   "metadata": {},
   "outputs": [
    {
     "data": {
      "text/html": [
       "<div>\n",
       "<style scoped>\n",
       "    .dataframe tbody tr th:only-of-type {\n",
       "        vertical-align: middle;\n",
       "    }\n",
       "\n",
       "    .dataframe tbody tr th {\n",
       "        vertical-align: top;\n",
       "    }\n",
       "\n",
       "    .dataframe thead th {\n",
       "        text-align: right;\n",
       "    }\n",
       "</style>\n",
       "<table border=\"1\" class=\"dataframe\">\n",
       "  <thead>\n",
       "    <tr style=\"text-align: right;\">\n",
       "      <th></th>\n",
       "      <th>PCA1</th>\n",
       "      <th>PCA2</th>\n",
       "    </tr>\n",
       "  </thead>\n",
       "  <tbody>\n",
       "    <tr>\n",
       "      <th>0</th>\n",
       "      <td>5.187192</td>\n",
       "      <td>3.659082</td>\n",
       "    </tr>\n",
       "    <tr>\n",
       "      <th>1</th>\n",
       "      <td>7.138440</td>\n",
       "      <td>-1.890079</td>\n",
       "    </tr>\n",
       "    <tr>\n",
       "      <th>2</th>\n",
       "      <td>-1.407393</td>\n",
       "      <td>-3.386726</td>\n",
       "    </tr>\n",
       "    <tr>\n",
       "      <th>3</th>\n",
       "      <td>-2.407946</td>\n",
       "      <td>-1.868902</td>\n",
       "    </tr>\n",
       "    <tr>\n",
       "      <th>4</th>\n",
       "      <td>2.064395</td>\n",
       "      <td>-0.157107</td>\n",
       "    </tr>\n",
       "  </tbody>\n",
       "</table>\n",
       "</div>"
      ],
      "text/plain": [
       "       PCA1      PCA2\n",
       "0  5.187192  3.659082\n",
       "1  7.138440 -1.890079\n",
       "2 -1.407393 -3.386726\n",
       "3 -2.407946 -1.868902\n",
       "4  2.064395 -0.157107"
      ]
     },
     "execution_count": 203,
     "metadata": {},
     "output_type": "execute_result"
    }
   ],
   "source": [
    "df_pca_2.head()"
   ]
  },
  {
   "cell_type": "markdown",
   "metadata": {},
   "source": [
    "Visualizing the PCA results in 2 components to get a quick overview of the main trends in the data. "
   ]
  },
  {
   "cell_type": "code",
   "execution_count": 204,
   "metadata": {},
   "outputs": [
    {
     "data": {
      "application/vnd.plotly.v1+json": {
       "config": {
        "plotlyServerURL": "https://plot.ly"
       },
       "data": [
        {
         "hovertemplate": "Principal Component 1=%{x}<br>Principal Component 2=%{y}<extra></extra>",
         "legendgroup": "",
         "marker": {
          "color": "#636efa",
          "symbol": "circle"
         },
         "mode": "markers",
         "name": "",
         "showlegend": false,
         "type": "scattergl",
         "x": [
          5.187191770324133,
          7.138440171391827,
          -1.407393427608764,
          -2.407945851648155,
          2.0643947876418176,
          -1.528385178274516,
          -1.9121130733995608,
          -2.1845924489088566,
          -3.69310536224472,
          -3.1184274985866502,
          5.151307160741555,
          -0.9195638271361256,
          -2.812802646302801,
          2.031819297312921,
          5.985256330252022,
          -3.5507664490679955,
          6.205022873181073,
          -1.9380928517980562,
          -2.4069910172159976,
          6.482117165349404,
          4.9988719617348,
          4.683753025995702,
          1.8652950295742134,
          4.530662902618179,
          -2.886280149621469,
          6.040434820729235,
          -1.3046855230604464,
          -0.15624758163726282,
          -0.3846201366099191,
          0.6796843645870981,
          0.057387546790622794,
          -2.711603804245485,
          5.521586573555887,
          5.386239220453101,
          -1.2496241375448733,
          5.206883990591306,
          -3.0795383956888287,
          7.535495339375231,
          -1.261082532945009,
          -1.2570744362701138,
          -2.769211183883131,
          -2.4572581489601157,
          -1.2809149587288853,
          -1.5047476569745022,
          6.066299672660953,
          5.8450201675538995,
          5.416898030202344,
          -0.9789571815344631,
          -0.6891799352857152,
          1.4480851731423603,
          0.017336624880695508,
          -2.7061654200071814,
          5.421852384465535,
          -2.7891578580785015,
          -1.2351748086933874,
          -2.3995050344882625,
          0.16819011589115093,
          -3.7558280244586295,
          1.7323942581021154,
          -3.5774844378363007,
          5.65935037668018,
          0.8276206130441706,
          4.682571779450702,
          -0.5259342377195447,
          -0.2757823663849529,
          4.732662394909581,
          0.5842881067646999,
          -1.227533504593152,
          -1.1102204288189825,
          5.8576948780897045,
          -1.6043249932377095,
          -1.5130378555215933,
          -1.0936528294350856,
          5.918876914475777,
          -1.2692797892585306,
          -2.6492257398475134,
          3.877949154359166,
          4.668890687592519,
          -0.5576399053268056,
          -2.6999214578778994,
          -1.0940851324031564,
          -2.182352997069282,
          5.036864957370604,
          0.8204145069683122,
          -0.0646133326108312,
          6.639774394886546,
          -1.7226930401586278,
          6.558078337474831,
          0.9356999190539859,
          -1.8752125229398744,
          -1.7444081841503494,
          -0.7160250729016254,
          -1.08056337498883,
          -2.0693950353687973,
          -1.5598469105367656,
          -1.196782079695223,
          -0.1781046225028275,
          -1.8499050031637405,
          -2.531341307508839,
          6.2451716053757105,
          -1.9336332769655051,
          0.08977038792022962,
          3.816783252185814,
          -0.6092619337925376,
          -0.8311770489803123,
          5.5097758921606514,
          -2.8927463690470026,
          7.062887636223134,
          -3.5707528786224714,
          1.336563160183957,
          -2.6946128839955645,
          4.267069744183029,
          -1.3953311433919622,
          0.996245645770958,
          -0.32527355124932583,
          -2.2577696979109314,
          -0.7379451891633456,
          1.0953212594262167,
          -2.4247078548282293,
          3.577184263937347,
          -2.5493558854004497,
          -3.1324321917405347,
          7.0250042403561075,
          -1.992335613823606,
          -2.6296602253340966,
          -0.136560089796021,
          7.094222711887093,
          -2.2621382875146456,
          -4.1617211592954,
          -1.1022873956786527,
          5.399019107300633,
          1.2992925866624252,
          -0.8536969567251954,
          -1.4089284188681246,
          0.8091427963260015,
          -1.0411881048341376,
          -0.34976968575000666,
          -2.036086481338862,
          -2.743396908717953,
          5.2046215007170105,
          0.08195418398813648,
          -0.29065543450240305,
          -1.7304829955926162,
          -2.561427541002214,
          0.2615478738270341,
          0.2836914892785913,
          6.686088541747568,
          -3.5809666937449913,
          6.010471060401871,
          4.871795894869041,
          -1.5445175746155477,
          1.341300685598995,
          5.371984885793265,
          0.018383043710158555,
          -2.5649994784035703,
          -2.6907134809224242,
          5.007365930162433,
          -2.75454772601351,
          -0.6458972483008395,
          -1.4612289952443192,
          -1.7744564429410208,
          1.620962558003774,
          -2.9965857364040813,
          -3.156300717191464,
          -1.4448673620695545,
          -1.017322837518041,
          6.6277322127401606,
          -2.791195402715748,
          0.7327848004507511,
          -3.3145119018229976,
          4.862264048624029,
          -1.3840176679770904,
          -3.178212845734284,
          -2.9967814783765014,
          -2.4418769619641743,
          -2.4733596640812365,
          -1.553963883200915,
          -0.32737678098051154,
          -0.9255083097602184,
          5.9269515032126945,
          5.795403651650558,
          -1.5046880475614968,
          -0.9516589032255773,
          -0.9020145710585001,
          -2.8467849016066515,
          -0.6713874293148028,
          -0.2500244520287734,
          -1.4116212274953555,
          7.16352483220231,
          -1.6967129616308754,
          -0.4418418993220444,
          7.155450178425033,
          -2.341352430314938,
          4.54897695537358,
          0.7280408724746255,
          -2.327777491418256,
          -0.39672582479495605,
          4.900933098732774,
          -1.9747677591763586,
          5.285784084714175,
          0.028716582283257405,
          0.8571070487451922,
          6.712229971973011,
          -1.4166886082009218,
          1.126762696254959,
          -0.33161456019188024,
          -3.135007029858759,
          6.478531223424572,
          -0.4037790523688075,
          -0.5877509014135198,
          0.13186669325473632,
          -3.1718587901866027,
          5.284151062478358,
          -2.222420662111216,
          -1.4640363982230198,
          0.6180668837064641,
          -2.838170204203222,
          -1.4950891749845379,
          -3.0475605557629746,
          -3.1694753229554173,
          6.521861532508088,
          -1.5528123456639311,
          5.263449477849634,
          6.587628055609924,
          -1.9191181250080027,
          0.377325804538631,
          0.7947834223038598,
          0.5160784028567067,
          -1.0593313416570591,
          -4.084090948476819,
          4.82772038313588,
          -1.8830130850680122,
          1.5092885670166967,
          4.518168542400017,
          -2.9122615674174037,
          -2.9956000706566,
          -1.6740745532550414,
          4.473644024868527,
          4.693106631610422,
          -1.8720269139219887,
          -2.4411605602042274,
          -3.2245005176713026,
          -1.6162290643015154,
          5.644386507818636,
          0.5245897611851726,
          -2.4012266704616256,
          -2.508068229712423,
          -2.0080308872483177,
          -3.0825451725232806,
          6.198626385965091,
          5.197308431954405,
          -0.7307565407494586,
          -1.9112475760433199,
          -2.107821057673083,
          -1.4561087923652063,
          -3.0446650859642714,
          5.093858534370444,
          4.827299949731126,
          -2.625480341081265,
          -1.7624903349022183,
          -0.19440526528303856,
          0.38891225978974947,
          -2.2125584486262375,
          1.3158725154695154,
          -1.497549289591823,
          -2.966998506600082,
          -2.95589913372395,
          -2.870293516471079,
          -2.443568181233745,
          -1.2030761708731619,
          0.4240792925604551,
          7.296477503510062,
          -0.40520270336023234,
          -2.4878293412784203,
          1.1945354484852844,
          -0.4723686532589149,
          4.654649656514219,
          0.42495343576522904,
          -1.6934164310586897,
          -1.9954837619323296,
          -1.2545578838547422,
          1.4430906204148488,
          -2.2830400779895186,
          0.6071514570566153,
          -2.404704500672071,
          -0.9636205392075354,
          -3.1741290224540673,
          -1.1639245142794625,
          0.704542651131707,
          -2.871665666884618,
          -1.6325668484027454,
          6.971173633987943,
          5.963825363245293,
          -1.5528198793095964,
          -0.362899154760591,
          0.8549638881222208,
          -2.1476605151182717,
          -0.4666673744027266,
          -2.794240248690031,
          -2.4052428875257332,
          -2.056699652705863,
          4.918192829635454,
          1.2872227447339846,
          0.11133948017217997,
          -2.1961595015804263,
          -0.6567701070485399,
          4.462793905405423,
          -0.005386584737336475,
          -1.533416584166869,
          5.651461869769064,
          -3.171901650725847,
          -1.6696859816867022,
          -1.3035922937633804,
          6.403677381395155,
          7.504327146599961,
          -0.004208921469306048,
          -3.389416815478921,
          -2.3056842816035026,
          6.527417597693818,
          7.325455345792739,
          -1.459106479562929,
          -3.201135328411439,
          -2.0900484696268053,
          -2.7613535882435296,
          -1.9800996126531119,
          -2.3451402158336774,
          -0.5754068939586842,
          5.711746288952482,
          -2.3012871622441438,
          -2.9796078055438846,
          -2.179445787411768,
          -3.0903371666205173,
          0.06352917598202504,
          -2.341114312626713,
          -1.9911857978550251,
          4.922375908028727,
          -1.52167533798274,
          5.296672512974787,
          6.497886845036495,
          -1.1641633669402134,
          -0.6478486498709835,
          5.1262297049313785,
          -1.7566140687685003,
          1.50663866031236,
          -3.0258421830074904,
          4.50005304303609,
          -2.6076448404609156,
          -3.036114284082365,
          -1.683458022217935,
          -3.0406942953076537,
          -0.38877738048827676,
          4.739677550393559,
          -0.9228624453067618,
          -2.0115043668561743,
          -1.1774792661208098,
          -2.303735499654512,
          -1.4558234176056124,
          -1.8105068632227037,
          -0.1450278405648375,
          4.8804994054905935,
          5.7231608211298735,
          -1.418939305637347,
          -1.4638261218998805,
          1.3595200161843604,
          1.3819321515496883,
          5.394461472986424,
          -0.5238408995370508,
          -2.221312520413394,
          5.286478108328491,
          -0.21189818867324506,
          0.702733798055067,
          -2.9549798797176687,
          -1.514298422269484,
          4.637730776296375,
          0.15039233834731827,
          -1.96780444706083,
          -3.0916149740265024,
          1.5870822136065463,
          -2.4229116800313513,
          -2.774338445241128,
          6.341951455572726,
          -0.771678706534437,
          -2.664893342093723,
          6.134231431641161,
          7.065111250962135,
          4.943426545191443,
          -3.373921906661738,
          -3.270895320093689,
          -4.076843218943242,
          -0.25306306474747164,
          -1.2650373774878163,
          -0.061423923799022846,
          -1.0962925683526008,
          -2.4721122124514627,
          -2.6291194889028904,
          7.026886986426112,
          -0.1105200784397134,
          -2.560819656902939,
          6.610076183377479,
          6.357303876288663,
          -2.094662599545269,
          0.603223322017707,
          -1.8685448884754943,
          -2.7386252310602592,
          -0.7162199118597545,
          -2.600833432323233,
          -0.997116026805411,
          -0.032639700400995224,
          -1.079061422882952,
          -1.1921014339484344,
          -2.965057784021614,
          -1.1729236155680307,
          -1.0807491700014284,
          -1.8215451233156028,
          -1.7522848360787715,
          6.024761553744659,
          1.8746744314773942,
          -1.8977387537814348,
          -0.24473275656363186,
          -0.3597806413403277,
          -0.6151426863140353,
          -0.31584208168316236,
          5.875568722297515,
          -0.6710629480858025,
          -0.7930527279168773,
          -3.85377949872703,
          -2.8323184599374573,
          0.5659943991000854,
          -4.035858217171154,
          -2.4228535458974574,
          0.5350731167236484,
          -1.4777551346107198,
          -2.212297216251004,
          -2.6348437744277637,
          -1.355611521954596,
          -1.183916808405285,
          -1.82541983944317,
          -1.0620569794436294,
          -4.171583696151764,
          5.636444699472184,
          0.602865444652348,
          1.171423918907854,
          4.890833537919236,
          -1.2502384721575568,
          -2.505138519543968,
          -2.162498335131139,
          -1.5337900627521097,
          -3.1347838811061797,
          4.160613944450497,
          1.4558734040370118,
          0.039014867722915125,
          -0.32332537289853297,
          -1.6715627723579454,
          -1.814548862370726,
          -1.2644318848856237,
          -1.2775470003742373,
          6.099981827694984,
          6.107259866232503,
          -1.6458634617239034,
          -3.028606579407195,
          -0.9241831524756652,
          -3.1637873611163094,
          -1.5988694427493018,
          -3.6259555600072098,
          -1.6616973937615602,
          5.250214569571387,
          0.18543074015767347,
          -1.4522678597595438,
          -2.1531041724909215,
          1.2088123181910622,
          -1.372122483485634,
          1.4945987675258807,
          1.3629201669670843,
          -1.241934066504575,
          4.893479468766595,
          5.5662403232144095,
          -0.9476711209851131,
          5.029052421580855,
          -3.313743208273644,
          0.26511784746956524,
          4.79093946968708,
          5.171279564437688,
          -0.32632420143392254,
          -2.7187916369449754,
          -3.0368769763819734,
          -3.207453799783434,
          -0.8457262746987041,
          -3.078657325603003,
          -0.47588412380846334,
          -1.761605990027684,
          -1.2605559371448036,
          4.84345110820194,
          -2.595967923082961,
          -2.952488015859383,
          -0.542931728278452,
          5.7396347069531055,
          -1.0152734011785585,
          -0.7255912630502418,
          1.2809388506062722,
          -0.7731764325353929,
          -1.1918134570473318,
          -1.097604131442021,
          6.517610460050979,
          -2.3291097179721185,
          -0.333795048011647,
          0.05231782363267645,
          -2.771415782010391,
          -2.3414691962023166,
          4.471070590129344,
          -2.612156247656466,
          -2.239908592736606,
          -1.2292183099845546,
          -3.4864819960099087,
          0.019895488845914768,
          -2.8130093293588327,
          -2.136033770545228,
          -2.658299085080303,
          1.3642981376435341,
          -1.5967710397159158,
          -2.4842623338900447,
          -2.6164028131937416,
          6.414660328939194,
          6.793846895352389,
          -2.5469578681361584,
          -1.1556277460257547,
          1.2161475531591348,
          -2.659739467999404,
          -1.179890541338483,
          -0.13236793304974023,
          0.09069491871848938,
          -1.5301335320920921,
          -1.8383863868147918,
          1.7060028043975348,
          -2.466599157046505,
          -1.164547331419677,
          -2.672874398356817,
          -0.6984241042894342,
          -1.3030080620644742,
          0.04704901166644762,
          -2.713116777889978,
          -2.02327807660508,
          -2.291487869633281,
          5.929543928211391,
          -1.532988677906463,
          1.2969320019114499,
          -2.5993371127577864,
          -2.653278729882843,
          -0.3951582905025359,
          -0.7477214107387221,
          -1.1104307001892173,
          -1.823802037151653,
          -0.3767232836651692,
          0.598511732676751,
          0.284689742819197,
          5.468591099378788,
          -2.1148348232891947,
          -3.546930558510313,
          -1.4681847884446886,
          -0.31068690019545353,
          -0.9222482070214768,
          -2.0846979459914525,
          7.203690974621272,
          -2.206824308422318,
          -1.8691284622519804,
          -2.7522423317058777,
          -4.002204542466504,
          -1.7501461189397929,
          -3.120873568787329,
          -1.2282629442067106,
          -1.1361478050712397,
          7.057846438506476,
          4.922259232735069,
          -2.6633886760834566,
          5.197203083114016,
          -0.32340419742290655,
          0.10511279420089469,
          -1.1058936192253441,
          0.8742757902138147,
          -0.4862392221342743,
          -2.063005288679244,
          -3.4060161198405847,
          -2.392881563242555,
          5.4426804038932355,
          -0.20533030225119414,
          -1.7775228424653393,
          -2.9615664855647945,
          -2.0725995242713675,
          0.4328450444852411,
          -1.9670609927241893,
          -1.7035941312005372,
          -1.4928191803692425,
          -2.9849747441556342,
          -2.737658895450648,
          5.393686100045336,
          -0.818512575689932,
          7.120354704996821,
          -2.68980379220157,
          -0.38547380186084024,
          -3.1144002255574406,
          -1.1475927481654586,
          4.9400935193067195,
          -0.9566113480499868,
          -0.10568569960637482,
          -2.6150336225801603,
          0.378592576854056,
          1.194726545379655,
          -0.18347688104728527,
          3.7855541074118935,
          -0.3971322562705251,
          -2.780900708634869,
          -3.347057749921279,
          5.412964243665821,
          -0.48954448914952514,
          -1.9552487963471996,
          -1.6666744131306541,
          -1.0850525476806212,
          -0.5905900384583165,
          0.6254304575667012,
          -0.579361140428447,
          4.425586340228152,
          -2.521939248849967,
          -2.2084409678489614,
          -2.811841216896618,
          -2.2953540245239137,
          7.045677322313303,
          -3.3094827823904316,
          -2.3781682273887834,
          -1.778374659272388,
          -0.7947698035184364,
          2.05408162044153,
          0.08200400858462166,
          -2.101049353718865,
          4.779571868266205,
          -3.190634408144777,
          -3.6250091287951975,
          -1.3365530635433098,
          5.580355491634693,
          5.444078657742314,
          -1.571608071326392,
          -0.09799043135381158,
          -1.7483042460680778,
          -2.7564107415673673,
          0.9486922613614248,
          -1.8099276547524497,
          -0.6107461386099646,
          -1.202357266538111,
          -2.4946421738012643,
          5.132358928040117,
          6.764197684620779,
          -1.7235738084774963,
          -3.422487374709343,
          -1.6961405075549967,
          -1.1710930451881696,
          6.019365803810961,
          -0.9145906719440321,
          -1.3365626583586074,
          -3.403645529227843,
          -2.5589081555186,
          -1.9197710810882556,
          -1.4215035108100949,
          -1.8470391827217376,
          -3.102687084254295,
          1.271639466644582,
          6.416859527181162,
          -2.9452401712407648,
          -2.888697185334176,
          -0.3793553403389413,
          6.799743526145941,
          7.118616789317577,
          0.37371991009765587,
          -0.2746690356243207,
          -0.5963893489173651,
          0.5648360040963214,
          -3.3314118977248874,
          -0.7140508437784473,
          -1.331586908266439,
          -1.6651522867078294,
          -1.4873664058258975,
          -2.8612987366651543,
          -2.2844960275239754,
          -1.9636905283615307,
          -1.9863617614537885,
          -1.353775723872053,
          -0.854151209661533,
          -0.1106947295937138,
          -0.8850823127192504,
          -1.7451487959600842,
          -1.2879868742453062,
          0.11886380732352379,
          6.039958615342919,
          -0.8716708374817175,
          4.87918862819101,
          -2.865263831416311,
          5.541050078854362,
          -1.6320945330584746,
          -2.0205416384251853,
          7.004051197523832,
          -0.625200522498942,
          5.641567148121517,
          -3.974632002178054,
          -2.070809002059977,
          -1.7668776404104367,
          -2.8220620215740158,
          5.0295970262725795,
          5.410532206566069,
          -1.5028922968664273,
          -1.9854472754446464,
          0.40653342891304195,
          6.7558235334393935,
          4.801794034904575,
          -1.2026132198880224,
          -0.5092713334258486,
          -0.05546923941007333,
          -2.257141023737558,
          -1.5539663480200314,
          -2.716422084868799,
          6.403485899950247,
          -0.8651536877999859,
          6.634849411735848,
          1.9288406712596917,
          -2.079599304170196,
          -0.09225030545574922,
          -3.625095538111545,
          -1.5675221622163131,
          0.17351778063863646,
          -1.8804007845500528,
          1.0133773699051098,
          -3.041842547274502,
          -2.154231755222639,
          -2.7580845124883564,
          -0.6996336035685573,
          -1.0933508919697013,
          0.9238319439484917,
          -2.3311700741471784,
          4.338124493927427,
          -3.7460478024595556,
          -1.0791532869891318,
          -3.2941538554483016,
          -2.188809419883951,
          -3.122402371969616,
          5.8942563388597815,
          5.035767626550267,
          -3.304316681490623,
          5.936443985811031,
          -0.2860320515646512,
          1.2199425513447428,
          -0.16385793240676197,
          -1.4894984440361072,
          -2.248784288079866,
          -0.32257897863115237,
          4.90484477324443,
          -3.2886183794352104,
          -0.11694395104247698,
          -1.7198626635893326,
          -0.5055198384353587,
          -2.048661642241607,
          4.619468647684755,
          -1.7462522577889663,
          -1.2816813585892748,
          7.204805934020177,
          -1.4373326227730048,
          1.460846747400881,
          -2.7250766076094557,
          -1.660362261835884,
          -0.6826399982223396,
          -0.4989916959501574,
          -1.6376033590633792,
          5.580164715011928,
          -1.5146399704890308,
          0.9881019749223093,
          1.8744070316904113,
          -0.4521456136757294,
          -2.3742729233736393,
          -1.5449245302921153,
          6.728530447353833,
          5.7239675756945765,
          -0.3841635368736103,
          -0.2953597234220437,
          -1.8461460704432924,
          5.056025419144424,
          6.110167983209145,
          -0.12578726974697518,
          -1.096857493176746,
          -2.658214952974669,
          -1.934230577381913,
          0.5745972489921026,
          -3.2558638167314413,
          4.7230171691024685,
          -0.5282970410007609,
          -1.4672432934136521,
          -1.9475036017834826,
          -2.738883823130179,
          -1.6795185677551951,
          -0.7778182705079084,
          -2.824749677369979,
          5.508699844330435,
          4.733250238716083,
          -1.9246247799745242,
          -2.674270462795017,
          -0.556758033741441,
          -2.202717170639339,
          4.648734491015142,
          -1.0718344498665169,
          -0.9672456639190814,
          -2.2323072468252896,
          0.5278900970018127,
          0.4772466327398304,
          -0.6433055431942428,
          0.3452798476538014,
          7.095212639600045,
          -1.1112523503958271,
          -2.6598787703494513,
          -2.323583716912981,
          -0.5507321809933309,
          -3.3541841092846143,
          -2.8585325890593567,
          0.5605306148086759,
          4.8640725625592856,
          -0.4541584437751505,
          0.22751080861120934,
          -3.425721887482843,
          -0.9590493468643186,
          -0.4860542008197993,
          -1.2932801483283412,
          5.312206153428313,
          -1.0518625379954605,
          -0.8240952856806937,
          -2.319201717332937,
          -3.131929303759243,
          -1.6556356110271346,
          -3.5733966643249353,
          -1.546960912250897,
          -0.013104791215747903,
          -0.1904682022256169,
          0.1964300075790398,
          1.1979925998840921,
          -0.24237565258836313,
          6.507926910490467,
          4.994877755977897,
          -2.4987196186704144,
          4.74427105371888,
          -0.47089154870764377,
          -2.424409193172532,
          -1.3933209804134856,
          -1.11046655946581,
          -2.7566738337008707,
          -0.5972859033911244,
          -3.4185716819625083,
          4.63514251018452,
          -0.1351601761805332,
          -3.1603241035464706,
          1.4188739743085939,
          -4.098551237010852,
          -1.5824181616056832,
          0.9558001271798163,
          -1.8236178611694103,
          -3.007666126084642,
          -0.6361666085344607,
          -0.8928895405309791,
          -2.029829099025992,
          -0.8635274239288062,
          6.114781580285781,
          -0.07677192254148031,
          4.474286638774149,
          -3.2003662468248484,
          5.429802369903588,
          -0.03837598156130739,
          -1.6036786571751944,
          -1.6863595006202752,
          -1.5342003476666752,
          -1.6032065161207996,
          -1.906331662431886,
          -2.6198034668885684,
          -0.21630721869735303,
          -2.481829426663237,
          4.716721960639469,
          -2.4976345359908723,
          5.809953368183352,
          5.626817565918917,
          -2.397758769732764,
          -1.170739669785459,
          0.2792354573135493,
          -0.5770669479782946,
          -2.666026153806186,
          5.220973713724978,
          6.247846616591961,
          -1.9439389934644349,
          -0.3140302822600323,
          -1.6997314606011684,
          -3.581873898500099,
          7.3438877198854895,
          -0.5056350862904,
          -2.6844933671267612,
          6.347928944252413,
          -1.7667274723889406,
          0.8654045349870789,
          -2.8496794782835173,
          0.017900755313726507,
          -0.3570224025350739,
          1.1611768217825764,
          5.132565273327188,
          5.15359135839437,
          -0.3749303591665452,
          -1.4041605193185833,
          5.719344581689856,
          0.18921433478806696,
          -1.1538399540640243,
          5.899336566581247,
          -0.5010472327532604,
          -0.8321923088189017,
          -2.760165902218884,
          -3.408326900303973,
          -1.5637516831797054,
          -0.8850672437504574,
          -0.4813696112667533,
          -0.007096604761056035,
          -2.8171460973199176,
          1.1667652558010866,
          -0.8933060530487971,
          -2.589393541794785,
          -1.8216918472673163,
          -3.141327665267009,
          0.12778645694109933,
          -1.9598335516904395,
          -0.29905948474705524,
          -1.0008643847938472,
          -2.4329579707112963,
          -2.872550024149541,
          -2.855298849490097,
          -2.8244973055787366,
          -2.887840941148909,
          -0.061064844949109943,
          -3.1058566220535013,
          -0.5428488188592138,
          -3.7339038489168956,
          4.984591064646302,
          -0.6527422047698512,
          -1.9537638238185286,
          -2.8319206491620506,
          4.146136121020129,
          6.696908288142668,
          0.0043657280617038115,
          -2.5615525975413966,
          -0.5206366793701471,
          -2.3841188121235706,
          -2.1046622108977213,
          4.950814320819997,
          1.369636236073493,
          -1.619603947389611,
          -3.287556923777115,
          -1.692178776874623,
          -2.6466468746094804,
          0.10100570527627835,
          -1.7956675298358278,
          -2.5624347895767663,
          7.453727028309424,
          7.10924367489043,
          -0.5181491405313888,
          -0.40356488211825375,
          -2.6588890957252915,
          -1.2253519414173077,
          6.610338006490496,
          -2.9535168331717587,
          6.532517969479514,
          -2.93594823089295,
          -1.5319608236377842,
          -0.02671927029652094,
          -3.6739500601052546,
          -1.5168045732592128,
          6.612074724914264,
          -3.5988539620513786,
          -1.4810038333359778,
          0.2332700356801508,
          -0.28405447103496473,
          -3.7507259936365798,
          5.2081478256206974,
          -1.1492421058261992,
          0.028322990295217936,
          -2.1512913205911155,
          -2.7285567002941944,
          -2.533891439854123,
          -0.7439724763360114,
          5.439828277815595,
          -2.5982794643129306,
          5.055068055425057,
          -0.7302247637252695,
          1.1653433636601545,
          -2.3849772886384906,
          -0.22107498074689644,
          -2.76585200054196,
          5.406875828819299,
          -0.9365624060422932,
          4.827616764721609,
          1.149541374921423,
          4.360375610277534,
          -2.592943875817736,
          -1.9753568390179326,
          -4.02081130573772,
          -0.7895367106013563,
          -1.3325755213943933,
          -2.6550897827976963,
          5.516620521813699,
          -0.9395543066237582,
          -1.177306247230738,
          -3.0100782851375607,
          -2.5682559101976077,
          -2.4699203396382714,
          -0.6632285711506765,
          -2.4153586922862154,
          -3.6345423765652023,
          4.709854881887963,
          6.241225861366581,
          -2.2916541483744335,
          -1.3913655241315934,
          -2.2921772197436963,
          -0.2707781248259946,
          -1.368411029782343,
          -0.2517008432730888,
          -0.4751023120565058,
          -1.6206143377356392,
          -3.125771104059811,
          -1.3303437297499012,
          -3.222018695621559,
          -0.5082062381126151,
          0.8265377700073121,
          -1.7602664307990037,
          0.6571262581877062,
          -2.346962739738542,
          -0.33858086313784624,
          5.4231763692856,
          -0.5049262308727018,
          -2.4139086595626464,
          -2.7608881501807936,
          6.312617041138185,
          -1.842927205830606,
          -3.1336852029354256,
          -1.2026745187430319,
          0.35182495677104886,
          5.558282481535182,
          4.901096088802549,
          -3.5024567733410015,
          0.4284635934686015,
          -0.9022696656476051,
          -1.5972137609442332,
          -0.9948084865305624,
          -0.06479693303841419,
          -0.2202086675988723,
          -3.096166529901227,
          4.548726503701344,
          5.505980766690164,
          5.595080263989661,
          0.09322929100800176,
          -2.0003670750725,
          7.111554934055086,
          -2.629244607218606,
          -0.37126643874993887,
          -3.7268038089422144,
          -0.5141950044161404,
          1.6393147392606564,
          -2.644798767451833,
          -0.7023161013775822,
          -2.8427895390834634,
          -1.3385412017408653,
          -2.1127207348285473,
          -2.4422686683999753,
          -1.0233259239859498,
          -1.2036851911865332,
          -1.8372632930118036,
          -1.6047152967780303,
          -3.015634470907786,
          -1.8399630695456213,
          -2.194041873808582,
          -2.0844824962788353,
          -2.538934205825989,
          -2.6026605449882396,
          -0.9745024804152511,
          0.04081688567165306,
          0.45656203321799993,
          -0.0482773398185502,
          6.302745319768767,
          0.4398363832100012,
          -1.5819942241974347,
          -3.7384545138009737,
          0.38959894836010617,
          -2.1451259114631043,
          -3.3832587593200754,
          0.8117510035444124,
          -2.531603222373383,
          -0.33805044129583933,
          1.0979729674110543,
          5.278805183633243,
          5.110546771121802,
          0.3859351769772945,
          5.204115034413889,
          5.409464275573829,
          1.9457141704995227,
          6.974597412715207,
          5.638672372927227,
          -2.0630878707585216,
          -1.2804451162377422,
          0.25651005058738846,
          -1.4593578744016482,
          -0.39677662618505266,
          -0.4650858674713389,
          -1.0333700420785499,
          -1.3665523698171316,
          -2.0427781466140846,
          0.07141266542123076,
          7.0976981312539955,
          -2.106934303044165,
          -1.743122744872201,
          -0.705800920040708,
          -1.6921132603189202,
          -0.726146979142124,
          -1.5951090197853484,
          -2.355243716205105,
          -3.026575425174894,
          -3.014930397485432,
          -2.5622028100913843,
          -1.162391602759158,
          -2.1671706540959597,
          -3.50432441484738,
          -1.22051641357501,
          -1.0982335316706084,
          1.4286978942385307,
          7.391842365734055,
          -2.0093037878786753,
          3.9245530672569386,
          -1.4985327078001196,
          -2.432714540042205,
          -1.5636963475290773,
          -2.0369887943904827,
          -2.951001288474791,
          -2.882147780099513,
          0.7269795346032115,
          5.516261573964638,
          -0.3367366127521572,
          -2.0899004127467076,
          -1.8483823483802342,
          1.6799768493411897,
          0.021083197219529035,
          6.396478981861067,
          0.39577508772601144,
          -0.10631714210217204,
          4.191733705342004,
          -1.8011727798902593,
          5.483266404971832,
          -2.8201302947446494,
          -2.3076951124492884,
          -0.7607468759707053,
          -2.8764460007086816,
          -1.882400957650956,
          -1.4193301219566863,
          -1.1621292033637356,
          5.563353942952576,
          -0.12991637207715184,
          0.01075543855925511,
          -1.169658751755218,
          -2.444780989068796,
          -3.5577052999898795,
          0.09044370069207401,
          -1.6981009577179653,
          -0.9632878461349221,
          -2.244602449276367,
          4.0334639655860745,
          -0.9233574237982805,
          -3.9337717958946814,
          -0.03880166190412679,
          -0.4410676580395562,
          -1.1489826961039598,
          5.639140852191032,
          -2.4045283896964573,
          1.9735198223979273,
          -3.7429441479709378,
          5.61828879251301,
          -2.96459354470285,
          -2.4408306183099073,
          5.149715360575516,
          -1.7686665389586071,
          -0.391824014326178,
          1.4118897208035255,
          4.572817365869235,
          -3.10862881577353,
          -3.5358475534050435,
          -1.6147254743888686,
          -3.1399990813290173,
          -2.0527682003849383,
          -0.39674093092052237,
          7.236324584917567,
          -2.4521392541677067,
          -1.7745996027445605,
          5.630291891631436,
          4.785418601408615,
          -1.3614263277495806,
          4.629833782719818,
          -3.1664702551211015,
          6.113412375331604,
          -2.870568257799774,
          -0.18896035266912703,
          -2.9445291411139305,
          -1.2777613259618887,
          -1.7106100188614795,
          0.005294830893179094,
          -2.1144956649328384,
          -0.327504905594526,
          5.04909090570318,
          -2.5242692770056854,
          -1.5698146552969567,
          0.7388950686084929,
          -2.3037676673244043,
          4.810150985118621,
          4.596454827817492,
          -0.6518882961605246,
          -1.8546986628869617,
          -2.004329713215077,
          6.236934611333883,
          -2.22667768036565,
          5.0499326099769,
          -2.7818139330502025,
          1.341120909334336,
          -3.7996139969245424,
          -3.118537466578498,
          -0.582346630779008,
          -2.751720400341042,
          -0.545085694074415,
          1.0303610828252174,
          5.561797371384993,
          -2.506087793153047,
          5.7731989945638915,
          -1.727903582452187,
          -2.605759686080544,
          5.774229244338539,
          7.046002197048427,
          5.962863930315201,
          -0.3120390959192619,
          -1.62361135869622,
          -0.7006286738020346,
          1.4470058082325392,
          6.606040700903347,
          -1.291722671811397,
          -1.969388721291483,
          -2.33723168688707,
          -1.950089095879033,
          5.542354166902793,
          -0.7296834949717004,
          -0.5708531498211636,
          -2.9467358480127817,
          5.8289228538054205,
          1.5739093085533165,
          -0.5040934186329412,
          4.572536737768467,
          -1.7695015799791898,
          -1.041679826871313,
          -1.255503070003502,
          5.755186518584442,
          -2.917699491533096,
          1.2497071139817257,
          -2.877007085539648,
          -0.9880231806527026,
          -1.396755785589662,
          -0.7726778216465894,
          4.936392175238952,
          -1.4717996855544062,
          5.614145291877559,
          5.047707504239097,
          -0.05131403351258068,
          -3.785888786440973,
          -2.6578316136254534,
          -2.9691870729909913,
          -2.416286616890103,
          0.08924809119737379,
          -0.7305281112551001,
          -2.013766409328858,
          -1.05742926719566,
          -3.9403269780193146,
          1.6548596265763291,
          -1.7777307314196995,
          0.32472303379857087,
          -3.0582095591531906,
          -0.983680836275828,
          1.2225330947250246,
          -1.4910495681874218,
          5.634999856426433,
          0.03924208065752374,
          -1.6450924279098622,
          6.250041791451737,
          -1.7257508351639013,
          -2.1141039510836293,
          -2.0144638984636454,
          0.2844965455598922,
          -1.5688956348415515,
          -3.303931389639629,
          -2.528072472026536,
          6.37165915770283,
          -4.295742209051324,
          1.1615159028140676,
          3.593802915085362,
          -2.783689017989332,
          -1.335713169854568,
          -0.3317632205667684,
          -1.927076446752157,
          -1.8372086901703966,
          -1.1775068049076791,
          1.2250501193514327,
          -1.6034941402453176,
          5.282517986656293,
          -0.6175906661545805,
          -3.258616069320835,
          -3.6640840052484447,
          -2.866411936678439,
          -0.5073621872785077,
          -1.9414484993006642,
          -0.4914794824886285,
          -2.539630391003365,
          -2.206184618225249,
          -1.5804784887646586,
          1.8267901948775864,
          4.683070198443733,
          -2.7272641438470933,
          -1.3611649003574986,
          -0.7304178112139874,
          -1.989799676242796,
          4.546176679666788,
          -2.006308286002561,
          5.979114000988962,
          -1.0963526325680883,
          -0.6346149042422446,
          -1.5547649940660375,
          -1.5129011166202968,
          -3.1253731066906387,
          -0.4552614836088537,
          0.12433662873584586,
          0.8845138470744914,
          -2.6113064583027894,
          6.2460422764697565,
          -1.092905032466509,
          4.640009379961528,
          4.123191053421583,
          -1.318582954889058,
          6.869204139148951,
          -2.602905395840624,
          -2.9007215997176488,
          -0.927092003680547,
          -2.266609526864391,
          -1.829160994101683,
          -1.7532866821094917,
          -3.713324516967689,
          0.7226266446324365,
          -0.07278046794038874,
          5.5812860864572915,
          -0.9761646076347186,
          -3.0408608623487896,
          -2.4191454743611294,
          4.635544189954569,
          -1.0854657218330361,
          5.563337216384314,
          6.440118743023188,
          5.449013059883057,
          -1.881141655353742,
          5.514150078872369,
          -0.5633902267546165,
          5.053310403431186,
          -2.3916449223292036,
          5.481390547133332,
          6.256616112846034,
          4.613677946476657,
          -1.764711049502796,
          -1.5563306210382253,
          -0.48240380615565537,
          -0.5019586296518451,
          0.17482453381132806,
          1.3909879340848856,
          -1.384089132571476,
          -1.813600503146215,
          -1.434306142883019,
          6.1603124632077595,
          6.848235217411553,
          1.7776806912908152,
          -0.5712895617656055,
          -2.922334438269001,
          -2.7371229363929928,
          -0.5866888402737447,
          -2.9623136984891825,
          -2.543090223206836,
          -2.037569196206042,
          -2.569258992236281,
          -0.04062095287635659,
          -1.8717455219574963,
          -0.4253593661978892,
          4.865367188615935,
          -3.3613551736610603,
          -1.6353509030098643,
          5.589176693904823,
          5.31167690919109,
          0.7404753116820161,
          -3.1456284721326395,
          -3.1661338324854524,
          -2.2775159570302623,
          -1.4877508033925169,
          -1.0684292062963177,
          0.6808888278636769,
          -0.8094223240541855,
          -1.824544347874343,
          -1.9098688877303724,
          -1.1618494791790315,
          1.7717277329799888,
          -1.134322406312883,
          6.767477921149755,
          -0.5128347711895002,
          -0.4933001388935517,
          -0.7910518627238596,
          -3.304821380754845,
          5.481557716780672,
          -2.1093414649482938,
          -2.797825425879621,
          -2.905237991350064,
          -0.11415369138570756,
          1.3920773139270992,
          -2.9323672991659886,
          7.086092449809189,
          0.9115791889483466,
          -1.8739768678857653,
          5.734597002885877,
          -1.3915301709002827,
          -3.08280254536795,
          -1.8907620809504715,
          -0.03926871162540018,
          7.504870730705356,
          -1.7249425770936655,
          -1.9972654316006564,
          -0.7149360641854984,
          -2.3432309205660076,
          0.18196456310278464,
          -0.727497283210995,
          0.26754495201583456,
          -2.7650947033589737,
          -2.0644035869206254,
          -1.09795684513317,
          -1.6663590428088138,
          -0.7109844961433541,
          4.798704108671101,
          -0.6680946627966943,
          6.599955073514735,
          -2.8380500926860552,
          -0.7462436119298885,
          5.5236880460108075,
          -1.045676203668187,
          -1.5398987249649072,
          -2.394556999302067,
          -2.337346171362993,
          -2.57542936768623,
          5.1521888029113025,
          -3.6312843058206052,
          5.410988834452451,
          -1.9355511908486487,
          -1.6311945751934342,
          -0.23679044725655557,
          -3.019339314993555,
          -1.9752969089720442,
          -1.2865251890514067,
          -2.4120884059961925,
          -1.4906775903696867,
          5.849391981647306,
          -1.5327732643687102,
          6.503646268887919,
          -1.0718266659016293,
          -3.057981628966535,
          -1.042348587202488,
          5.149829857715862,
          -2.7702102679411134,
          -0.33367341545095813,
          0.1576273475753612,
          -1.5403137295099811,
          -2.219194106190677,
          -0.34942199267602775,
          -2.913254270120788,
          -0.03209531958856618,
          -1.9177979706930877,
          4.904362234672416,
          -0.6570162481519033,
          -3.114164696084894,
          -1.035873939781961,
          -2.3519836585065192,
          -2.003687030471729,
          -0.8763843094838586,
          6.68752227978061,
          0.7316864027279291,
          5.660549823128912,
          0.5430481762599099,
          -1.7670888311590371,
          -1.3574488124030226,
          -3.467126345480785,
          -2.648254120475767,
          6.401051754216536,
          -1.840983619328991,
          0.2159066859910879,
          4.347455035206862,
          -1.74644829932053,
          -1.2932436334535804,
          -1.7573727581321412,
          5.370004486011669,
          5.612431586485315,
          -2.106915639015987,
          1.0911611917391473,
          -1.2254697577553413,
          -2.0440169539510453,
          -2.5101366640211746,
          -1.115379504815314,
          -2.466172915515148,
          -2.91219114374734,
          -0.2130676051063072,
          -0.9191478199007608,
          -2.5841732090154284,
          -3.0014681485195824,
          -2.372845330389691,
          0.8092122874129717,
          -2.670784917375651,
          -2.92963648586394,
          -1.0602423346970304,
          -3.664406093417889,
          -1.2424170206686127,
          4.449690777943471,
          -3.5425997511118297,
          -1.6684683914764993,
          -0.0038316702535478916,
          5.133146342974236,
          -2.7065279828117097,
          -1.3656558436096755,
          4.7608732433151,
          -2.692747544771096,
          6.680103453830163,
          -2.9665113324039503,
          -2.2962454254846443,
          -3.0827992407749525,
          -3.6038744029365177,
          4.623924030640219,
          -0.18200842276747373,
          -0.8405535776928821,
          -1.7141225057884153,
          6.82546050042755,
          -3.1473417347943933,
          4.929690220230891,
          6.618001669279835,
          6.020823709571448,
          -2.2354986967697683,
          -1.920888553545605,
          -1.7004370160955056,
          0.4634937990425201,
          -0.7757592552014214,
          -1.1915344057375665,
          -1.58036358965594,
          -1.5468411740953147,
          0.9946068805741425,
          -1.031896493189842,
          -2.508140272869564,
          3.8072927748696612,
          -1.5346491639774873,
          -1.9272886074422948,
          5.29563393771011,
          6.529947720068249,
          -1.7379526762807407,
          -0.9047400131121567,
          -2.7278220254454753,
          -0.6041190552918668,
          -2.9850238357750847,
          -2.6498215914539935,
          -1.5390337042839548,
          -2.979731350513976,
          -2.1462693932894457,
          6.9241687493868,
          -0.33133638784841424,
          -1.879445167332476,
          -0.9611332067840346,
          6.170237340073662,
          -0.401934836617686,
          -1.7098191156851046,
          5.274859232354388,
          6.111264400671934,
          -2.258398133137671,
          6.4490941145256,
          -0.08077054536353112,
          -2.219860353299688,
          5.195886233885545,
          0.6541021995049625,
          -2.700088405965661,
          -2.9598508923175837,
          -3.3253746814671814,
          -1.9406537968644224,
          6.681523948277962,
          -2.6656930294624264,
          -2.2221750176482766,
          -2.4605786396287175,
          -0.6420248883916493,
          -0.5754845410539029,
          6.249302623018571,
          -1.0158311724488058,
          -1.846148046118249,
          -0.9938878861046251,
          5.327791950640614,
          7.057508284504563,
          -2.4821983082275607,
          -1.9974299808808214,
          7.184488227811862,
          -1.798751450895809,
          1.1129015465547345,
          -2.4737526825593603,
          5.396226207391605,
          4.763686685019944,
          -0.29386936235932176,
          -1.8646423527413574,
          -2.985062256039749,
          5.371569133311892,
          -0.9888081401317229,
          1.3422879844468212,
          -1.2956217731735689,
          -2.582993533354034,
          -0.3149786526465668,
          -3.4606968998273793,
          0.36774203943063066,
          6.168118017520996,
          -2.0677579983715817,
          -2.3007771873974665,
          -0.23291116979824922,
          -1.3017718522962565,
          -3.7883410897517003,
          5.288545907052372,
          -3.402758130008381,
          -1.9559244452192461,
          -2.1369465533031717,
          -0.291921569985226,
          -0.6247264169249652,
          -1.6841968390676878,
          -2.328584593896556,
          -0.6601286157420242,
          5.709845648222499,
          0.6559641485683804,
          -2.7099684409956377,
          -1.0115169237250363,
          -3.5308117604766593,
          -1.9980516105492379,
          1.3153342704761644,
          0.2696215101407989,
          -1.5943400079393475,
          -0.40274217074491353,
          0.09446638951583845,
          -1.5716320254408924,
          -0.09377031532483107,
          0.7280637354415266,
          0.5543510808507264,
          5.765683586520707,
          -0.8534124757331336,
          -0.41125344091274124,
          5.642998234305929,
          -2.2131078888203315,
          5.940669751662058,
          -1.7001167417187117,
          -1.714296914034663,
          6.515767852999058,
          4.844094661816635,
          -1.1007954872063528,
          -0.13170493300228656,
          -2.764478297550538,
          -2.8658268079102633,
          -2.3719694424051223,
          -1.7212337137858251,
          -2.1842187944044973,
          -2.4686889511974455,
          -1.6055626840878174,
          -2.3156734468569597,
          0.7349431764146741,
          -2.1229481521157365,
          -0.0637754361215656,
          6.598374346584112,
          -1.0695374395418458,
          5.401372795941406,
          4.970887045041064,
          -0.5258623402861377,
          0.24279341744622793,
          0.13334201872513696,
          -2.6781464239777435,
          -1.654611395414274,
          -2.9654596952110586,
          0.6701322750617241,
          -2.267178991334574,
          4.9719546472944955,
          -1.38792143951057,
          6.049500743587549,
          -1.3952686629262228,
          5.579473569392768,
          4.898592127629697,
          4.3814801312275025,
          -2.3142429353830085,
          0.0003024099396061197,
          5.1348292403387745,
          -1.1537192123383118,
          -3.6330592619371562,
          -2.0829953261818783,
          1.0917697096684302,
          -2.858877954643241,
          -0.2059598476739322,
          -3.48713653550952,
          -1.3085465272103505,
          -0.6396761229169194,
          6.630030779523797,
          5.2734551462420285,
          -0.1739937749999963,
          -1.1045652645190704,
          -1.709026152530168,
          -0.02106531268215941,
          -1.3461059755867344,
          4.7651724105982485,
          -1.5155163308241653,
          -2.648574885763383,
          0.7143210883068111,
          5.833110770940747,
          0.3003893590350691,
          6.440380661866009,
          6.570719876211469,
          -2.0160945401655397,
          6.044028682384191,
          6.508008626790808,
          -1.0080359746275556,
          -2.2963881360785217,
          -2.267566441338975,
          -2.3235381299821856,
          -1.429127575945378,
          -2.916027189427157,
          4.909947214320172,
          -0.7587894147291901,
          -3.4421044672530825,
          4.1956986270882375,
          -2.730734617981161,
          -3.135325879281138,
          -2.553455011673542,
          6.5928348464794855,
          -3.10279880063323,
          -2.4353212779039723,
          -1.6327689431320624,
          -0.4906987379554028,
          -0.6267558475295317,
          6.9580346323933275,
          -3.6758138320397205,
          0.6157798794774592,
          -1.7959228127748816,
          6.604868660675743,
          4.5731573542307284,
          -1.8297297217738646,
          5.377029420167055,
          -2.822459795894877,
          -2.854256723700426,
          -0.6715553557459802,
          0.5785740362784315,
          -3.7133732339717653,
          5.39116792830524,
          1.6737550253711035,
          -2.093999641405528,
          -2.934866894421553,
          5.4704686775697615,
          4.772410367324049,
          -1.439387451270496,
          4.578675501081915,
          -1.4395882753847826,
          -1.4376922880215026,
          -2.999509184378517,
          6.229447150151896,
          -0.737782537562374,
          1.6216482323496573,
          0.1279230998476523,
          -1.6154788571622698,
          -2.8282241324769837,
          -4.0360509626958505,
          -2.067943802180812,
          -2.0290463286864657,
          6.077078551849261,
          6.302060866613619,
          0.21056203640953133,
          -2.3205144247546157,
          -1.742437000158968,
          -0.03091125041590376,
          -3.0654113376983014,
          6.424197087878374,
          -2.8364118547108452,
          -1.343931247387527,
          1.2766434877694606,
          -2.4030943253042674,
          -1.7286204856626455,
          -0.7276696481874377,
          -1.6174886268829483,
          -0.1072331493919983,
          -1.7352293395091472,
          -2.510321380218814,
          5.538164898794106,
          1.14515314186649,
          -0.2911459785897767,
          -3.31308379061094,
          0.30477964216126613,
          -1.3587523078082515,
          -2.324793762146679,
          0.8514163163321392,
          0.06504252078339669,
          -1.6914327701725544,
          0.43447471581940705,
          5.986314958606928,
          6.5049118152243075,
          -0.35549337901606726,
          -0.5742120361392551,
          -2.2509159818438738,
          5.372607167680733,
          0.09737352806710932,
          -1.413790510560026,
          -0.74992814829729,
          -2.7576924921004613,
          -3.0271361071753873,
          -2.488157588451005,
          -0.41047975641996853,
          -2.672230008275235,
          -1.632284408647956,
          -0.8300173134572093,
          -2.0186081145593366,
          1.3152742966544493,
          -1.7535302971261382,
          -1.8102845560580418,
          -2.7746776150326973,
          -3.3449664880972496,
          1.0448047013867139,
          5.200604390726621,
          -3.3746927742514043,
          -3.2034500684656675,
          -2.905713377538152,
          -0.5235619037940673,
          -2.5256837456573344,
          -1.0179955318714804,
          -1.2276243965465448,
          -2.1764280593219474,
          -1.2760027629567083,
          -0.8957548112337003,
          0.08376734378912136,
          -3.0840989138374355,
          -2.556012914194037,
          -2.468023824913397,
          -0.29115459401571636,
          -2.7207670399928836,
          0.18803605619217395,
          -1.2144358166873825,
          -0.5655582856638223,
          -1.808987361616791,
          -2.12120596120504,
          -1.0881316092404067,
          0.11849936195977802,
          5.289790139402742,
          6.476428153056227,
          5.755729382198052,
          5.31671058901976,
          -0.21474785077994593,
          -0.36879502433863104,
          -1.1017121033608568,
          -1.6401177590640188,
          -3.107212709394443,
          5.707264911023612,
          0.6413778981287471,
          1.0350775353266934,
          6.530403054649436,
          6.022477118857333,
          -3.749575541752212,
          -1.9965166905072984,
          0.920225440091771,
          5.554010319700556,
          -0.44664124874818606,
          0.7973750188598759,
          -2.840352553554762,
          -0.9810970607934851,
          -0.7255712500103124,
          7.035424274039447,
          -2.0594405064045125,
          7.025389397714445,
          5.451671772137689,
          -2.757140513314755,
          -2.6670140435921192,
          -1.1923206381328793,
          -3.248410589528246,
          -1.5777149654120044,
          -3.468731691981219,
          -0.8560778436109437,
          6.3785336871965335,
          3.7783266002437816,
          -0.14624454285115443,
          -2.6644367055654885,
          -3.599598365583029,
          -1.465126703526942,
          -3.16764758862333,
          -0.610389964656348,
          -1.257297987040309,
          -2.5510661716801133,
          -0.48238440847932257,
          6.7029591188046185,
          -1.9845784028660491,
          5.26826030712381,
          -1.1969852145551385,
          -2.695044525095276,
          0.40242104703379966,
          5.940147671245401,
          -0.22490188670415773,
          -3.5605320391112274,
          0.13039791529113368,
          -0.6606202488049199,
          -3.05879337542762,
          -1.6992470445505474,
          -3.766626620889164,
          -1.4358134516465695,
          0.671001804578134,
          -1.6806962053973138,
          1.1043497105859148,
          -1.2494234215631035,
          -3.728503464925072,
          -2.693628412581763,
          -1.845878589478936,
          0.9309958303453199,
          -1.625833023240552,
          5.178831272615181,
          -2.7945942575959375,
          -3.1806465548437592,
          -3.6340465124831502,
          -1.2018506861443783,
          -0.44064065323361196,
          -2.423136761261539,
          -2.2324231113754887,
          1.1648393252452822,
          -0.8552093695663684,
          6.561430588695512,
          -1.0051418338930684,
          -3.9043656367872535,
          -0.9066399752862819,
          -0.3622569882848164,
          6.2254933397861,
          1.2236505926559855,
          5.507049763549634,
          1.0122748450726347,
          -0.40710545641839685,
          -1.6888270200935422,
          -1.841683228757617,
          -0.4811048819442377,
          -0.004436831041361679,
          -1.8574583142874186,
          5.790361001372211,
          -3.144292921576507,
          -0.5299698107396892,
          1.4964924908874737,
          -2.8389022716769263,
          0.3407652621860719,
          -1.305989838932234,
          3.9443008734685567,
          -3.8998299002716306,
          -1.0979637890582397,
          -2.0650418168097686,
          -2.951642184689931,
          -1.3857640901827073,
          -1.0695427667182862,
          -1.7828284505404521,
          -3.3984224401845355,
          -1.6581395454857508,
          0.5313888650487071,
          -1.1258538861783343,
          -0.8566302535565158,
          -0.04604978719892841,
          -3.4207862526921367,
          -1.1104876381200137,
          6.179649716728267,
          -1.0295673376446972,
          -3.12943390353266,
          -2.9618052653084574,
          0.5988371758821065,
          5.484653468133107,
          -1.0615136823945268,
          -1.7662465238696996,
          -0.9923928924904708,
          -1.7440729753743527,
          -0.4853062902979011,
          -0.4469260849343171,
          5.15015719988011,
          -1.1007151638103132,
          4.7097920801868485,
          -2.5703579040912077,
          -1.6361294242743645,
          0.06287660405619637,
          -1.9481636303210415,
          0.33763089378663363,
          -0.41768514838357335,
          -1.3173743926292953,
          -2.965734041031087,
          0.5784881967392215,
          -2.9786652856969345,
          -0.4022348626001177,
          -0.9042622406189548,
          4.156046466340862,
          -1.7170259042424172,
          -3.027593972718605,
          -0.4179232502128531,
          6.133572076277196,
          -0.04986954151602089,
          0.5349814311147955
         ],
         "xaxis": "x",
         "y": [
          3.6590815420264784,
          -1.8900791943786832,
          -3.386726210195893,
          -1.8689022366870203,
          -0.1571069738569668,
          -0.5350986771857474,
          -3.4320619340992864,
          -0.40444945017006106,
          3.1470061211542317,
          -0.04211436058701982,
          4.122033966428048,
          -2.4275394040553575,
          -0.24883047054596236,
          0.8231145959664573,
          -0.9811267468014064,
          -3.309694891866929,
          0.24920066095774063,
          -2.9751546953528094,
          0.8061613070635738,
          -1.6756842248750001,
          4.235336949731334,
          -2.947789715667005,
          -1.0698914742353882,
          -1.645694804132517,
          -1.4852314356614655,
          -1.1418573174291908,
          -1.7764148858222946,
          5.73434023116806,
          -2.42519662323582,
          0.6100391234989385,
          -3.1144511522721596,
          4.175910742625971,
          -1.886078533213755,
          -3.193834404921434,
          -3.4730925586247228,
          -1.794881908989675,
          1.5639789282561116,
          -0.4349825343563133,
          -3.9162386938587486,
          -1.8054605442174987,
          -1.2762668839465467,
          -2.2125274984717214,
          -0.7126978233142804,
          -3.1194325228567767,
          -0.41006021433957085,
          6.672497479869992,
          0.3759570774645829,
          -1.2636604490724206,
          -0.7920354441358759,
          0.546889795327515,
          -2.0855146262914643,
          -3.3996056348817407,
          -0.41359996578759656,
          -3.2376873938116604,
          -1.0171728275783969,
          5.36414398071902,
          8.400844856393194,
          3.2623044158569625,
          0.224522321500858,
          -3.5000288808682156,
          -0.44976373718536455,
          -0.3643468990338282,
          -0.816639072633696,
          4.625553540625626,
          -0.5045844426496556,
          0.42586198971200995,
          6.859994416964991,
          -0.34835629453368866,
          -1.9154845928943591,
          -2.0014514386245295,
          0.816102513675573,
          -3.9482849709164873,
          0.07534887638251608,
          -0.9725876780439793,
          -2.6560604281009494,
          6.7683568492797175,
          -2.7892388449649954,
          -0.5209684095113448,
          -0.8265707903552353,
          5.277070502367038,
          5.379025936246166,
          -0.9430090570613368,
          4.167307970781385,
          1.1890743810843207,
          -0.05537145916633867,
          -0.9163411526938268,
          0.32709283505302217,
          1.8040121438982573,
          0.41820623823091774,
          3.5814489200934707,
          2.007164560469313,
          0.35260884669964127,
          6.124285416227158,
          0.971541148425499,
          -0.471870710695684,
          0.9353098131165298,
          0.2855821170806371,
          -1.9882432932993266,
          0.5092400896754753,
          -2.2870177412126047,
          -1.9173368254083343,
          -0.6608754496478702,
          -2.1396484938771603,
          -1.8292420827766598,
          -1.903815600035241,
          4.715008624395774,
          -0.7070865069739078,
          -2.511454560304504,
          -3.0371202630770013,
          -1.819189233544545,
          4.0570611565851,
          -1.7588442932082617,
          -0.46736015434374156,
          -1.2024253946027572,
          -0.4070990969204823,
          5.233922026418612,
          -0.7544828569696922,
          2.945203894703904,
          -1.9433799264272513,
          -2.5849485009345616,
          4.2998308341480325,
          -1.484783424214738,
          -2.132355011431481,
          0.3100340396214734,
          -1.893833692732655,
          1.3317693877630616,
          -2.218667449362573,
          1.6027197156202513,
          -3.153045249812611,
          -1.0891277277647793,
          -2.65125655670484,
          0.9866917459682807,
          -0.6499681528688358,
          -1.2673638524141575,
          -0.8181157502423914,
          -1.2811625560149769,
          -0.7767383280997401,
          -3.813643640823055,
          2.9316179323249787,
          5.279303353554965,
          -0.722579544560265,
          -0.07370744981666104,
          -1.278872332346056,
          -1.4843451837346096,
          -2.428858794226389,
          0.5013164195630211,
          -0.14139207456774366,
          5.531546251920888,
          0.05878236935844828,
          -0.0573772671727019,
          -2.1380828213463103,
          -0.9782195640458844,
          3.25364970382161,
          -1.4184038541705892,
          3.4482529673480125,
          -0.24990128279362162,
          -3.074285701633967,
          -3.098505651311683,
          0.16014369076897528,
          -3.7741235180173702,
          -2.272058242596713,
          0.8375109123291478,
          -1.7169296715185296,
          -2.879044743513812,
          0.7245996669253588,
          -1.0579424565367976,
          -0.9564329040943933,
          5.042325136901422,
          0.7024131351443462,
          6.106193932741472,
          -0.24856575387489277,
          -1.9342815770256536,
          5.175447381723094,
          1.7132978757774995,
          0.23991101517354083,
          4.665186780310748,
          -1.6157281226902411,
          4.879960461514542,
          -1.3736679145659176,
          -0.6756185658163316,
          -1.127415146438008,
          0.6948083673657973,
          -1.1553698510583752,
          -2.1723137427383117,
          -1.2649187481505695,
          -3.8316052057875942,
          5.755563358361027,
          0.48016841084736767,
          0.4188441924454922,
          -3.042110969759221,
          1.3137501889774827,
          -1.8448820154792642,
          2.5572227415137183,
          -1.181133429032368,
          -0.47769673280852404,
          -1.0341227868366654,
          -0.712197436464192,
          -0.5249560052579689,
          -0.9292941837490939,
          -0.6098117040121002,
          7.281032961276957,
          -0.39432517048298943,
          -0.07893799098756438,
          -2.827942593928856,
          0.2506032555453091,
          2.7668869564111676,
          -2.0073924232166984,
          0.5406567662377076,
          -1.4926665634172172,
          -2.417455826528914,
          1.0781733313758572,
          -2.805167230298742,
          -1.5639216531164144,
          -3.1493993763792285,
          3.546116310296337,
          1.5377261901412609,
          5.422188588918856,
          4.774357869380063,
          -4.841744064587075,
          -0.33548182914749225,
          -1.2800390280952607,
          4.72799535448507,
          4.071474672430777,
          -0.894621855451852,
          4.122651830684617,
          -0.3323931146295133,
          0.45017875731917323,
          -1.3784045398676354,
          -2.914750531460853,
          -0.9770315016231814,
          -1.6975316150415702,
          -2.2931549331057353,
          -1.4007460249251256,
          -1.9301832510413295,
          0.23297040389025828,
          4.922204365862273,
          -1.6495493458229258,
          -2.1617883268853086,
          -3.0097913399458,
          -2.884059972781129,
          4.964188191107301,
          -2.431283402631104,
          -1.1203906697285841,
          -2.5825081025094967,
          -0.9440210785494283,
          5.558604467583128,
          3.547344076978162,
          6.168165471948636,
          -1.1058468142643287,
          -0.6616075360784879,
          5.312153506970821,
          -0.25463493288811445,
          0.972348389731165,
          0.25385337247592826,
          -1.146664756941489,
          0.017459565073587025,
          4.203056309338006,
          -1.2153814619233756,
          -4.851225229173756,
          0.21033778819746599,
          -0.23504154951063358,
          -1.3311862298292383,
          -0.9462865829236143,
          0.4664361588021253,
          0.6363234316477052,
          -1.9471108232550565,
          0.5373006116303243,
          -3.830940534839779,
          6.305732454011632,
          -1.8398520164667005,
          0.8249076714014983,
          -1.6771926880969077,
          5.831620514106417,
          3.0792841034437224,
          2.935208497383209,
          -3.3349754168930197,
          -1.6469002934058263,
          1.2735829213766832,
          3.8336684052221752,
          -2.879543805004865,
          -1.0023972539003931,
          -1.5851613893471816,
          -0.4755212501261913,
          -1.2891003876444926,
          3.006435357196592,
          -3.628346253193359,
          -4.141928667863899,
          5.903684733371192,
          1.949401170231089,
          -3.9220370640602438,
          0.9650992409245036,
          -2.3393921443155707,
          -1.354516699447804,
          -0.9417519220793324,
          1.6157675293500864,
          1.0119181012336829,
          0.9167266143053935,
          -0.36265768322764613,
          -0.3785154025532114,
          -3.853318352678699,
          -2.7224978088477596,
          -2.1724083356304464,
          0.6710454877017752,
          0.6621735779199927,
          -2.8072124023964062,
          -2.590306648847948,
          3.9054064944237803,
          -0.7771330127238135,
          1.2174280343133703,
          -0.21346737641230995,
          -4.985129594406203,
          1.745669053010989,
          -3.013361852788369,
          -1.1668571473963962,
          -1.4067486562129525,
          5.8312114042721355,
          -2.9774350136664034,
          4.7840648294377255,
          -1.2765808060002781,
          -2.57912163303297,
          -3.8128427626803036,
          -4.246262076646694,
          -0.35026957801226344,
          -3.149081325722065,
          -1.9229426066806314,
          1.2977568087662048,
          -1.8359946883032034,
          -2.6015448429670758,
          -1.5684205881923154,
          2.8600394343047193,
          -2.6749223243544473,
          -1.6725287645899933,
          -1.8434628769395425,
          -1.8740618488799345,
          -1.609981109948565,
          3.6743966060083775,
          -1.708918893950342,
          4.8118664052579225,
          -1.9620517643350546,
          -2.3045481866261697,
          -0.5097352097567596,
          4.422974263238077,
          -3.960415309897448,
          -1.2517296364933586,
          -2.0865258875691195,
          -2.8050171632184635,
          0.7008645105915774,
          -4.635453614337867,
          -3.6021227942520606,
          -2.194544030294046,
          -1.556480018989953,
          -2.9822475560132706,
          -3.4336589607998587,
          7.489698787762961,
          -1.0363272726128259,
          -2.1762576138270417,
          0.7000824383805211,
          4.590758141675489,
          -0.14153057029990448,
          -2.925572062967367,
          -1.7361148543950193,
          -0.7153346996392749,
          -2.8467250846324994,
          1.1564096915810036,
          -1.6706939854320557,
          -0.6169134735904706,
          -1.0795065586655619,
          -3.9185598419444663,
          -3.2923584859928905,
          -0.25332776952497343,
          1.3075025490100638,
          -4.232427169812215,
          5.19800536702392,
          4.933209340523908,
          0.27281282117267514,
          -3.378166435624264,
          -4.8070541257254105,
          -0.08785788678994244,
          5.279302157159002,
          4.889276077515027,
          0.19809771527252054,
          -0.48347368665676493,
          5.281583660874886,
          -0.6215730437648579,
          -0.22694638662453456,
          -2.7999111743420277,
          0.07859213211674322,
          0.5159586506297548,
          -2.884373749732124,
          -1.2103140325925426,
          -0.8312663012941038,
          1.5915219991886618,
          -0.3297734413455566,
          -2.5947380600642767,
          6.819689077279075,
          0.3039400908097058,
          5.757631079819583,
          -2.505871129121911,
          -1.6842251824093037,
          6.524743659936661,
          -0.2560867751478058,
          0.16342877977861442,
          0.9500382969223281,
          3.230099705899144,
          -2.933117614785312,
          -0.1553600401843407,
          5.134149326721365,
          -2.0476983207162216,
          -2.3686282188840067,
          0.2798438004169646,
          -3.3587081474759897,
          0.2701493697678709,
          -0.7882695898647301,
          5.470471035152332,
          -0.1405165860125334,
          -0.8542061906138166,
          -0.6954218708498981,
          -0.98728814323004,
          5.354872945028713,
          -1.6056895711038113,
          -0.9784857824406575,
          5.961879638010825,
          -2.543124891214616,
          -2.117171246527492,
          0.09935833122401606,
          -0.2857128958485357,
          5.31249185317714,
          0.9172630690437497,
          -0.5231587254048455,
          4.60110279314458,
          -0.7685123950520059,
          -0.283619149328102,
          -2.492893291219213,
          -3.5734972450359246,
          0.1459973462460789,
          -0.12539687564668767,
          -3.4995144233883924,
          -1.013566015700498,
          -0.7952801773791016,
          -0.9054810747079979,
          -1.219777658958349,
          0.14063986977878304,
          -2.1396088293530764,
          0.6660727348473148,
          -1.2364721990612104,
          0.8252644372245932,
          -3.9235577302105944,
          -3.551260927297953,
          3.8508695848818157,
          0.5131403047950732,
          4.783851811455026,
          0.6029839711344506,
          -0.5973089986653526,
          -0.45547518896569955,
          -2.0342865186429457,
          2.5481866657320222,
          -0.8930042609124917,
          -0.6809080411036742,
          -1.1550122889514167,
          -3.4795552765582514,
          -2.0952497386665723,
          -1.5857561683510206,
          -4.13677320123139,
          5.2392493699328835,
          -1.9688513918850463,
          4.36920252757441,
          5.638656458310432,
          -0.7768156282380224,
          0.7783664865791365,
          -0.12571020782399095,
          -2.310783382750895,
          -1.2220859201384102,
          -0.6760505025506748,
          0.1978537203595036,
          -2.3052995622725727,
          6.263246319249522,
          -1.3207688419181756,
          0.2991926888294892,
          -1.7805005227072654,
          5.095686523986038,
          0.39831032244797404,
          4.955469757793717,
          6.455013792554486,
          -2.68555724709257,
          -2.634492418504245,
          0.531112617035042,
          -1.8385925562199426,
          -2.566029754612569,
          0.03914145528634322,
          1.6450617317192244,
          0.1977910808888807,
          -0.4962911907865768,
          -4.792602060455116,
          -2.518677477135561,
          -0.867564891691845,
          -2.5850263730174743,
          -1.650120181050698,
          0.23924526123779846,
          0.6141844898389023,
          1.2609933129482758,
          -0.47968954721024426,
          5.080110201922823,
          -2.4411992149561303,
          0.3329110801601132,
          0.4253280934000288,
          1.2029995034943974,
          6.330367425589418,
          -2.097554252334062,
          -2.9804569231335942,
          5.892211885069175,
          -0.7760720420395084,
          0.022389965026723836,
          -0.9040028079172026,
          6.93575993744837,
          2.5449902501749975,
          4.117684144603067,
          0.8646717612501671,
          1.107477935450479,
          -1.4136196670650023,
          5.945479186214553,
          -0.9528859791044629,
          -1.1334285985562707,
          -1.4095187246932546,
          6.73167950954248,
          -2.532317440511358,
          2.676166902859259,
          3.4984291570022794,
          0.966199351023991,
          0.08784583484608655,
          -1.8659934790716894,
          -1.4472243500410782,
          -2.849243563512828,
          -1.0196614985100807,
          0.0243092410199354,
          2.279363947844967,
          -1.1766490988419103,
          -0.2533574125023803,
          5.294780662339455,
          -2.0615666147993865,
          2.7458026754384024,
          -0.062868876428921,
          -1.551285421389304,
          -1.6498136212783276,
          -2.7755926820834396,
          2.0629494534257025,
          4.352712831657924,
          -3.367351653787333,
          -2.47610211404245,
          5.580672117184466,
          -0.9201907240553364,
          -1.8095117730934067,
          -0.47153494763651144,
          5.776432507132608,
          -2.1329829046023243,
          -0.15666823039695468,
          -2.4242931512655455,
          -1.2097687629366902,
          -3.1846356757274683,
          -2.069199840614693,
          -4.0528428069549856,
          3.9746015767719745,
          -0.13058896713326143,
          8.429939708612832,
          1.368247927970498,
          -3.6460651001579913,
          -3.2571900439906503,
          0.24664470856932308,
          -4.53850451992236,
          -0.5391107289480165,
          0.6933862214882405,
          -0.04797928796857284,
          -1.3088556432561826,
          -4.5966735878584695,
          -2.017032374019659,
          -0.2778766925307119,
          -0.8759413689171616,
          -0.5275718522441029,
          1.383812193232995,
          -2.3083138359439217,
          -1.1478333694998266,
          -3.389532216959123,
          4.513792257353045,
          4.463289138620474,
          -1.0502728908461567,
          -2.284958340231024,
          2.525680087037067,
          -2.1056914312700266,
          -1.3684253898401206,
          -1.5870095432489262,
          -0.6381405821129583,
          -0.28264917012494967,
          -1.3999031885290503,
          -2.043801681884302,
          -3.493626253490028,
          0.5313486179520568,
          -0.6890579443942476,
          -0.3982755521977059,
          -0.6159602934833824,
          -4.044054849828127,
          0.49433282035201315,
          4.321181709024998,
          -2.9319146959636018,
          -0.002400563376495729,
          -3.714827686322302,
          0.6424909183345806,
          -0.5913050794760144,
          -2.5365981658044037,
          -1.8173864932685195,
          -2.055108278371405,
          -0.4296582539797279,
          -1.0752667507966027,
          0.5787232336295149,
          1.6760287279775157,
          -4.501974998787665,
          -0.6857997790111588,
          0.9620075752241284,
          -3.490146001923853,
          -1.7971738857216493,
          0.3169327139596862,
          -2.1120779064323565,
          -1.0508834151746,
          -3.1615575804906335,
          1.5394864158318713,
          -1.188054473910236,
          0.6433102505499968,
          -1.8067994621341295,
          -4.087115249524486,
          4.163129148986855,
          -1.3784562817638883,
          -0.3782037096859073,
          -2.6993329264334194,
          -0.8820710201326698,
          -2.517300286064609,
          -2.512825864554115,
          2.6730806512545313,
          1.5200743743357366,
          5.436986847967894,
          5.061702744291003,
          -1.9858642902651522,
          1.0462117491338159,
          3.680325744905625,
          -0.5345448580441382,
          -0.8482803683687727,
          4.133016009174762,
          -2.4870719685500595,
          -2.8694356416272266,
          5.893232413989606,
          -2.8269107258927963,
          -0.42125938851899986,
          -1.4869117510683383,
          -0.9311069738930831,
          -0.6006532176556943,
          4.737081327860708,
          -0.9495598254875139,
          5.627345378339053,
          5.797691887638371,
          -0.8526979438822422,
          -4.074145521520834,
          -2.1176889511127013,
          7.04918759071858,
          -2.8392932297845213,
          4.437512588013087,
          1.4123153383249825,
          0.5991564086805438,
          2.303469409748757,
          -3.888383071319989,
          -1.3183601081653016,
          -1.9402667126213786,
          -2.004863362115102,
          6.373880420144385,
          -1.1429019554998903,
          -1.4893082871645165,
          1.2468974372311004,
          -3.410964831517982,
          0.25069965677381867,
          -2.588439165214929,
          0.7200817640058312,
          -3.5486088680756556,
          6.330685559427519,
          0.24708088896503697,
          -2.1659115123328996,
          -0.1516006814866807,
          -2.542714964320397,
          -0.22424776983211367,
          -2.2344471052507116,
          -0.5292580228206938,
          -1.8554906468940067,
          -0.7461233210296945,
          -1.8356255425867962,
          -0.6352254843970893,
          5.836995065835962,
          4.093926225790139,
          2.0272059224725596,
          3.629758261181815,
          -3.058565266252188,
          2.544115225086578,
          -2.582832716335117,
          -1.8226621920183328,
          -2.9463442497088392,
          -1.8625829111312382,
          -3.2931112756017598,
          -1.4269095533777458,
          0.3099864033809853,
          -2.841174786590213,
          -2.2976981098248506,
          -0.5424767320805614,
          -0.3913330140332194,
          1.3122548054663865,
          -1.7382551321843582,
          -0.8449206691494483,
          -1.0643386200383187,
          -0.38203565877703827,
          -0.29470997735772525,
          -3.6152920712279117,
          -1.9695782045647603,
          -0.40968893143029855,
          -0.6160757681889534,
          -0.7750368187093655,
          -1.107956002283858,
          0.8463807809154794,
          5.475608789416382,
          6.297729255137219,
          -3.8314422299227497,
          -4.038060403464075,
          -2.3490252195428045,
          -0.9517482008133258,
          -0.5245529904201275,
          -3.611517644400492,
          3.398538292439966,
          6.425234949772743,
          -0.7155295393412144,
          -1.7297081636768168,
          1.9188982702296287,
          5.476693752853969,
          4.792142700636503,
          5.672417192193096,
          -0.655249127507627,
          -2.583796395217455,
          4.38623538385598,
          -1.861094300283784,
          6.876226479012411,
          -3.2239739498580313,
          -1.855665826062198,
          0.4148674271320001,
          -0.24563105819716632,
          0.5022306234042849,
          -0.5345283227715619,
          -0.7811203786793994,
          -1.3939341008692139,
          -0.4915774898805468,
          4.906109241446006,
          4.522611000297561,
          1.052236418214479,
          1.4953261243162135,
          4.861656885973596,
          3.8890444637965564,
          -1.7275858943971174,
          -4.123572055703348,
          1.7744201191400046,
          1.1237645194633714,
          4.965255916477637,
          3.55093267909825,
          -0.19128802505082504,
          -2.5490339542250724,
          -1.7295050035124073,
          1.569055945510236,
          0.7895490757421887,
          -0.1265503945832903,
          -0.3922881169771135,
          -0.8517208995912008,
          -0.9244190610352707,
          -2.419871743916603,
          7.8129259197655,
          -3.2856628353680404,
          -1.5364982623838228,
          -0.4291343922071289,
          0.29906193639891354,
          -2.7333174805087657,
          -3.0621153912440358,
          4.928839391303747,
          -0.4670486164180062,
          -2.9526336649538245,
          -0.9470902671645512,
          -1.225143052625719,
          -1.6664329800114732,
          -0.034020251008280385,
          -2.8120113885835227,
          3.3416515059006904,
          -2.4752630560363515,
          -1.1051127526434683,
          -2.146404253343524,
          -0.45483738973648813,
          -3.0156778023529243,
          -0.2320388747311855,
          -1.200916639596976,
          -1.3376805936288045,
          -3.51662135931044,
          -1.2083969281146192,
          -0.38995493102888906,
          0.6296728150106566,
          3.340052987594344,
          -3.010091097978216,
          -2.1678168354366996,
          4.3731630366199985,
          -3.8387724332093818,
          5.453200342077063,
          5.820189002828734,
          0.32006001856009686,
          -2.1179539523582704,
          -1.2940076993875707,
          -1.3498957993705154,
          -2.021995383716719,
          5.201617325481824,
          1.5830143498130926,
          0.59385695227545,
          5.63991852187306,
          1.3528599311146376,
          3.9559678354649925,
          -0.38274027951759343,
          8.402256721028118,
          -4.090494879928123,
          -3.8773631384553524,
          5.700853410638838,
          5.600743296676401,
          -1.2437758776749241,
          0.16096600992049057,
          -1.5941419529928245,
          -3.648584700536818,
          6.704973904082904,
          -3.88607633636359,
          -3.7058583470902384,
          -0.5053503267157625,
          7.019259474757331,
          -0.7470775650646558,
          -2.103459877072227,
          0.17826704946054137,
          -2.0842680826514974,
          -2.1223629454862487,
          -0.7005181049079114,
          -4.7090110602535065,
          -1.3463570263465119,
          -1.6459322868099957,
          -1.9677405109241475,
          -0.8681161474626901,
          -2.8342993817842825,
          -5.164545504741329,
          -1.456434461885148,
          -3.0016592563970756,
          4.666945569952645,
          1.806017449757607,
          -4.780462173235529,
          0.44875540081735893,
          -2.7033298119973743,
          2.7794512636433546,
          -1.2556630956685646,
          0.1452777964518028,
          -1.9578790810769167,
          5.78397977867115,
          -0.2462174739135864,
          -1.0496095632897304,
          -0.04484824805282536,
          -1.0951850795970302,
          5.95715181022746,
          -2.3227618603423554,
          0.6182432166853291,
          0.24377059002826673,
          6.530036336068456,
          -1.7309342375200443,
          7.287811406631596,
          -1.0794542324162157,
          -1.2210532641037535,
          -1.898670352735359,
          0.4767807617792373,
          -1.0155958556782674,
          -4.126025135744121,
          -2.8846883657089037,
          2.0093986833012396,
          4.635656492685495,
          -0.8807342965808614,
          0.3822281935079957,
          -0.9611324945331763,
          7.297673203180277,
          1.1567160388790296,
          -0.7805313564967732,
          -0.6352978287514264,
          -2.0852823117095753,
          6.104611077741178,
          6.03003870817743,
          -3.0624763170956473,
          2.597906024921588,
          -2.2113908570315433,
          0.744309380851764,
          6.6890587865500395,
          -2.3649820048963504,
          -1.541522158486411,
          1.619578500815057,
          -4.295598973125625,
          0.1362017527664479,
          -2.323418602055211,
          -1.7566776255913363,
          -1.3996997586995839,
          5.0081633009737985,
          0.7598476391836989,
          -0.15999506963431392,
          5.212357893000331,
          1.588423815942273,
          3.8788331920496204,
          -1.4551254551499373,
          -1.8444943957389233,
          2.2972496350159775,
          -2.5680325330449056,
          -0.17405862317179854,
          -0.7803413966718175,
          5.810220062465573,
          6.1555399011877325,
          -1.896792373545457,
          3.223016800593314,
          -1.4743047589384577,
          -3.5674302293190565,
          -3.5100797308250056,
          -2.273331729958844,
          -0.7764985905272349,
          5.595189892455492,
          0.39812585002324063,
          -2.1716603520155755,
          0.3832316642842919,
          7.426939654836684,
          -3.8366430801860236,
          5.100375677409382,
          1.1149184154820346,
          -1.4313261899944412,
          -0.5632881970926903,
          -2.597978906128269,
          -1.1443194690322809,
          -1.7489324743042394,
          -1.5581302567398299,
          -1.1090116782333879,
          7.12021435355127,
          -1.191661677804595,
          -3.245739242998272,
          -3.2638438829560354,
          1.1495411444687966,
          -2.7493302631044174,
          -0.4052851455230018,
          -1.9736056658620313,
          0.6160403890478139,
          4.914104734867007,
          1.3125134394614977,
          -1.9471368843032644,
          -4.24156682098177,
          -1.479533770208328,
          -2.919921446962792,
          -2.5277100252583904,
          -2.769257819474227,
          3.7996874892273973,
          0.24629042385414318,
          -0.18212274262705955,
          -1.188167032243311,
          -1.2927970960372814,
          -1.6045974911005214,
          -3.9378571663457747,
          -1.1653521787393353,
          2.046226730367165,
          -1.97731576105704,
          -4.578254114958445,
          -1.6522422340543914,
          -1.3604972931054247,
          -3.035396069531661,
          -1.772381033156492,
          -1.1526907674496218,
          -3.747797732020444,
          6.206998303890008,
          -0.6786928319948805,
          0.3169234109156481,
          -4.616254199198065,
          -1.4696138581392248,
          -2.649094617617249,
          5.070960213285245,
          5.664064106864157,
          4.334153594810515,
          -2.2118934425481767,
          -0.6278708385372966,
          -0.20040667831658812,
          5.944574603962612,
          -2.4425126328663236,
          -2.228743930348979,
          0.30706117781792625,
          -2.255006036686669,
          -0.31367879807498944,
          -5.098217582271408,
          0.3145439010098976,
          1.8509101312570047,
          -2.3584757968646253,
          1.0292289960672594,
          -1.3135212971914088,
          -2.5270011748750694,
          -0.8704095684660418,
          -1.2315844707066796,
          -0.2845682512910972,
          -3.2022795007984364,
          -2.9626309528744224,
          4.900428469952927,
          -0.33778412388105067,
          4.937780028670634,
          -1.8109711722113297,
          -0.3358581661006932,
          -2.0368378554719304,
          -1.9845194429754465,
          -3.841491732794998,
          -3.771276720529108,
          -2.262069254631979,
          6.502061623372582,
          4.4474536795932496,
          -1.6057130942320326,
          -1.8554808892080228,
          -1.0492504589736384,
          -2.3709387379681264,
          -1.74309581709291,
          1.1221384498928844,
          4.4650437263500224,
          -0.37268904372346445,
          0.030035118379836915,
          -3.969801613058788,
          -0.4101336613451521,
          -1.8690819120492503,
          4.750878107499744,
          1.2991579039389358,
          -1.6795983208259624,
          5.795125808889407,
          4.714714706454644,
          0.7258945940571273,
          6.637827304430781,
          -1.4241773303612895,
          -2.1990505744816105,
          0.8369520554946359,
          -1.857649644707109,
          -2.9844730025762862,
          -0.4087738246255399,
          -2.562644073465746,
          -1.4634659070136267,
          -2.7598058536521033,
          0.13979075804639154,
          0.7361743645910354,
          -1.7278326886462512,
          -0.17600674981151546,
          -2.8310106648550137,
          -0.5726632970783532,
          -1.4351099775368525,
          4.347621074020115,
          -3.6156258212871086,
          -0.33980954817444675,
          -0.27631394235386747,
          -1.0043036226772404,
          -2.3312531205696843,
          -0.8010163182317251,
          6.084302714467383,
          -0.5109902723011843,
          -0.375141431884634,
          2.380185161509276,
          -0.279874421391074,
          0.37135661698626515,
          3.2200147484043744,
          -3.1446067523721255,
          -3.1188022781556777,
          -0.11280118263428751,
          0.15803299692174438,
          -1.4147313002209103,
          -0.7666575176056418,
          0.2618340308028634,
          5.236667407099736,
          -2.163290342882959,
          -3.7749367357699732,
          6.346081095125485,
          -2.683604864729772,
          -0.8216060025503823,
          -0.5886666101196932,
          -0.6158874212440543,
          -0.17944502474674573,
          7.499524886339735,
          -1.685590317149805,
          -1.6760761542274965,
          -2.601091234018441,
          5.64702810267454,
          6.019534561961577,
          -0.269246144368768,
          0.02104452063362381,
          0.7061649860770062,
          0.8757516441050984,
          5.678195087784654,
          0.23178499082818674,
          -1.778967639007064,
          -1.0024628988397375,
          7.480160575244743,
          5.045951230708358,
          -1.2460283889509118,
          -1.0793231252732116,
          -2.508559305054541,
          -2.277357501008858,
          0.1887233477986521,
          5.5156160988560545,
          -1.7598169078892751,
          -2.9228021488473366,
          -2.402886731442174,
          -2.1052146199574557,
          0.2713864119414197,
          -1.0902373166151798,
          -0.10928570856200744,
          6.9004871354376345,
          0.9626578372428796,
          -0.35547579551283737,
          -0.7746298460349066,
          4.6394537504353615,
          1.835180150649171,
          0.17761297849765606,
          -2.013608573764298,
          -1.5671346664238837,
          3.4869323870700604,
          -1.2321396433102416,
          -2.556725356151162,
          0.6993894372865901,
          0.17942203707692836,
          -1.167603984358387,
          6.004034738510475,
          -0.36274683944279,
          3.644777498643484,
          -1.0142834239925842,
          -1.1365591448680874,
          -1.9292303850508747,
          -0.03692867283823747,
          6.246619363827622,
          -4.084215948226558,
          -0.24094181465182396,
          -1.0941337629268397,
          1.371293648086612,
          0.7500772999023998,
          -2.9989647352166706,
          -0.5200354520303991,
          4.136549585267515,
          7.928608469575211,
          -0.08370530493184786,
          -1.0670819477522382,
          -1.3944401362135945,
          1.072290769372218,
          -2.5414045945636605,
          -2.844512014009194,
          5.442664463024943,
          5.17306886455471,
          -4.039446463423644,
          -0.3787429904979734,
          -3.2590957237676514,
          2.465043529121012,
          -0.694523441182378,
          6.250752374228427,
          5.269340707006273,
          4.387800443563666,
          -2.515830336302648,
          -0.7916775839137279,
          -2.458662906361751,
          -2.821816422983857,
          -0.11339835641280174,
          -2.611430751499235,
          3.6164218830953807,
          -1.4461895626580146,
          7.010179392446374,
          -3.3606014824664325,
          -1.1833771840231757,
          -2.2615297492645725,
          -2.087257650580492,
          -1.1187310166694882,
          -1.9172133048129198,
          -0.49322187928026673,
          0.8536729073344052,
          0.6696329973881026,
          -2.041612779913211,
          6.903392745053448,
          -2.084202842862427,
          -0.44951334924519754,
          -1.7208136661835054,
          -4.274970245573084,
          -0.9624311396158173,
          0.3011718953578758,
          -1.5050660449885915,
          -2.822363433713493,
          -1.1330889008099507,
          -2.440916733648798,
          -1.1360098973065398,
          4.747647066583374,
          1.1271171670032643,
          -1.4876348412806728,
          6.645440839933031,
          -4.355084285078593,
          5.796161172247907,
          -2.423700554115928,
          -2.5788447934831202,
          -1.5822310647140077,
          -2.051626745667127,
          -0.3875138778708864,
          5.232711366297005,
          0.4588004993069371,
          -3.918426129165012,
          -0.33675785751020654,
          0.7904099749832203,
          5.067393595149085,
          3.8550785448678693,
          -2.3937662688243564,
          3.720219151119451,
          3.616610661210642,
          -3.499533797097061,
          1.7699707096169912,
          -0.8660190091814249,
          -1.2348555709444924,
          -0.3766378322705997,
          5.84190394492313,
          4.046214162130647,
          1.2132156297789405,
          -2.0277634905406834,
          -3.489673472268656,
          5.21878370599643,
          5.4490171390729945,
          0.38746524062279336,
          -0.2551411939032678,
          -1.9053109779961175,
          -1.5975734753888886,
          6.413615840524569,
          -1.7883502462241887,
          7.7804609227314865,
          0.23325554896427406,
          5.6915883576792,
          4.7637887351785295,
          4.9854579356443365,
          -2.9163864046968944,
          -2.176514041633644,
          -2.245105322165754,
          5.31373931060809,
          1.094401214509069,
          -0.6528743595275236,
          4.251688848356817,
          0.785290778850341,
          -0.9950142945671988,
          0.04271764849555477,
          5.601466368827858,
          -1.4176630186212305,
          6.640235914094632,
          3.618044606832342,
          -0.13838049885838666,
          -1.0338891582848164,
          2.8934992597130686,
          -2.1260521409545765,
          2.827370356259168,
          -0.40700644346682996,
          -1.683202414862558,
          0.13444734853092016,
          -3.28873365342377,
          -3.4229349002540377,
          3.7551114663150567,
          -4.431697843973007,
          0.6200585352654123,
          3.092481043629498,
          -1.6359220726547705,
          -0.8283204956095037,
          -3.088461977548213,
          -2.8781424990957047,
          -1.275683796755598,
          -2.6617137026660083,
          4.991422315010861,
          -1.6234006546082531,
          -4.173544974887108,
          0.3767525490075215,
          2.8737656752792713,
          6.5679736768440495,
          4.8883266004045565,
          1.6029717955157057,
          -2.9172462498258818,
          4.327774668712905,
          -2.5172737122706272,
          -0.9430755879652616,
          -2.50060935348893,
          -1.6329704643444076,
          -3.279315216070132,
          -1.275341319323875,
          -0.4362980081309617,
          -0.40252117318736247,
          -1.1385629917740268,
          -0.3537515536834909,
          4.438138992737003,
          -2.488801472723824,
          4.8213640720664905,
          -2.543500483620579,
          -2.4460130033804335,
          -1.855038711376139,
          -1.7641185045084837,
          -0.5924659629083868,
          -2.308966666858273,
          -0.6535208767515038,
          -0.42107935876846825,
          -1.7169382056161762,
          -2.457514442175517,
          -1.6459839517304855,
          -2.511587706653723,
          0.4046347755529432,
          3.7230995537369966,
          -2.503307718924423,
          -2.966834009021579,
          0.15669450459867404,
          -3.17602319465296,
          4.784196870306317,
          4.843263322226779,
          -3.3288569591040704,
          -4.2092022556800215,
          -2.8772539713260334,
          -0.8584605802062698,
          -1.3058180249412548,
          -2.850175720822672,
          3.441838976627271,
          -3.4782611087088804,
          -0.4225848238832981,
          0.01384257437060529,
          -3.8162771554820862,
          -0.5679615606069615,
          -2.386036422024859,
          -0.8368942654624154,
          -0.128434645035774,
          -2.3104723677080314,
          5.893063256301084,
          -1.3436431712155854,
          0.5716180271740744,
          0.09019625114713332,
          -4.388150516465101,
          -1.6448299850946133,
          -1.1038456212982286,
          -2.9041321044941695,
          8.128426468006575,
          0.8741833333585781,
          -2.7841362135171464,
          -2.979420711778055,
          -1.5259722737961956,
          -0.969875066609935,
          -1.059111164121,
          0.9120870772240177,
          0.13492504107757727,
          6.068217832559795,
          0.605620721978094,
          -0.675189906996788,
          -2.020049565525887,
          3.062851967225078,
          -1.664492809758629,
          -0.6698953828307288,
          7.362838335470437,
          -2.545192072470447,
          6.169525543273945,
          2.122202983011609,
          0.23562242280442167,
          7.814078911082095,
          -1.580505628458017,
          -2.070522884690092,
          -1.4159836760284992,
          -2.2275483821447937,
          4.0131405328861645,
          0.6840004146781756,
          0.28139585887022145,
          0.1742462856237898,
          -0.03949409528513592,
          -3.976525218106963,
          -1.86281690492061,
          -0.31459880760194775,
          -3.7055841024197704,
          4.481104464799272,
          4.752322418670722,
          -0.42662308841186103,
          -2.2540860996364964,
          5.4227823160694415,
          -1.2552090092146972,
          -2.621386663750269,
          0.054908746413487204,
          -0.2129748008548667,
          -3.0326483550988104,
          -0.4371352531076412,
          -0.4045231865954085,
          -2.813175754520283,
          -0.8066170488153,
          -3.70226461960427,
          -1.0839289164931043,
          3.673947687909996,
          -2.5634197385834088,
          3.649443848544565,
          -4.1586822737594655,
          -0.5351304571791444,
          1.3383266867209755,
          6.05302563349989,
          3.7109316616897043,
          -0.8110127384782815,
          1.1202554559235112,
          -3.0536808930694153,
          5.460958482680518,
          0.01966725492106042,
          -4.152867771464972,
          -0.46522967012810124,
          3.932193461573894,
          -0.1701776651618086,
          -2.0073470094041963,
          -0.9370677536044525,
          -0.9073065654480637,
          -1.57620460414564,
          -1.7254796487061217,
          -2.6080845171895537,
          2.0204661955898797,
          -1.8814996864119675,
          -2.678645974461867,
          -2.245550955264782,
          1.4728992992959902,
          -0.10129051624937971,
          -0.3626318767923506,
          -3.256155133274962,
          3.21559056578374,
          -2.8823434670439636,
          -1.8957706507787144,
          -0.1237849447822757,
          1.4907838197142096,
          3.461900531247964,
          -2.6022910657963805,
          -0.8766317126784146,
          -2.161646788479448,
          -0.7844446076185317,
          -1.7380970915760168,
          -2.6113219117043767,
          1.2590683910799123,
          -0.1739535855821841,
          -1.4363776124130327,
          1.4908166000695575,
          -1.0141457754728493,
          2.172153495168346,
          -1.0101833258978665,
          5.564602251714456,
          -0.41649567459489956,
          7.555080933116249,
          2.855062760913879,
          -0.370233981789967,
          -4.429398505172938,
          -3.0291534575314016,
          -2.4316154163333965,
          -2.622008900664478,
          -0.6081712277034568,
          2.045248689848838,
          -1.6454393152479736,
          4.82459290982879,
          -2.7658615323327287,
          0.7488390450481575,
          1.0082717620335662,
          -2.4876173492646476,
          -2.1408449725536216,
          0.0699651937565972,
          -1.0316793706186642,
          -1.4161061078868493,
          -3.1176859761950766,
          -2.5848810298661156,
          -2.1105681520233994,
          -0.8813557128585483,
          0.5210017135710447,
          -1.863629874563853,
          1.3234512875824795,
          -1.429319968575127,
          -4.0199042278673724,
          -0.6133301157968166,
          6.1796293727112666,
          -2.092981224087539,
          4.564528626188193,
          5.479307738058536,
          -0.5408275007857077,
          -1.7471064587309488,
          -2.791911373034589,
          -0.513347159936874,
          -1.6165648540819093,
          0.2579264233009613,
          -2.6402786750050917,
          5.0570200387837705,
          -3.9386404998629327,
          6.189181413519154,
          -0.8633190517312126,
          3.7503592461473065,
          -2.5821381831428156,
          -1.787241955090696,
          0.41309266995189675,
          0.46264775267317954,
          3.63652469671806,
          -0.7136497232452288,
          -3.1270047679910933,
          -1.2445975807966312,
          3.802568921351631,
          1.338443613711073,
          3.669326279696393,
          -3.218274410099152,
          -0.8805768483244752,
          -1.243356619081404,
          -1.7251262384279755,
          -1.6909489826884612,
          -2.4538210219939907,
          -2.499109660991983,
          4.932891747128231,
          0.35549102044063,
          4.771912813616669,
          0.8119896357390363,
          -1.7465331731291174,
          5.282678757397394,
          -0.06277696262058795,
          0.2546645372165552,
          5.4365758535971915,
          -4.719226319006755,
          4.52620401242637,
          4.900215725245861,
          -3.4831754578105767,
          -1.5736858746239375,
          -0.12211743264937247,
          -1.371552515497148,
          -1.8699323567249855,
          6.016787883697134,
          0.9115309493508732,
          -2.2515010099319825,
          1.775162777673602,
          -1.4092736214245867,
          -3.0671516061683217,
          -0.28187544895807193,
          -1.884935557623366,
          2.8884706241878026,
          0.0722371713848606,
          6.668571744419351,
          -1.510169064047132,
          -1.155829072426885,
          -3.2636967898826,
          4.179197560850159,
          3.178505575115317,
          0.18152754336188817,
          -2.083205853410649,
          -2.4985012333245282,
          -0.805081102281277,
          4.642733301404604,
          -0.8696925400360151,
          -1.977910231883769,
          -0.0575772590086976,
          1.3974935887524662,
          0.9305327281665152,
          -2.145167736545025,
          -2.6742337910760967,
          -0.9707413642396128,
          -0.24892671376772268,
          -1.9604861489082985,
          -2.181400409010812,
          4.459621299635747,
          0.06653780742526894,
          0.1806300626276496,
          -1.4558401762972175,
          -2.7092962433927306,
          -2.430965556045637,
          -0.1502364474233854,
          -0.8266813294307552,
          3.846010363819132,
          -2.3464580226718663,
          0.5938461184249674,
          -0.4039374667438528,
          4.6064283119292115,
          -1.2655961635909925,
          -0.20260930697295326,
          -1.1843697768504158,
          2.864218711515085,
          -2.2555768701144996,
          -2.163138795654348,
          5.2004874987561855,
          -3.329860444276129,
          2.193812926092846,
          0.6697508241651405,
          -0.2991948843622615,
          -1.555599420595116,
          -3.2897139309605756,
          -1.552996140518403,
          0.3823878042842069,
          -0.4880567512282835,
          6.169967691903969,
          -1.6811051281617662,
          -1.2015170841782834,
          -2.621231727521824,
          0.40290334639525055,
          7.558362523703865,
          6.502373275810115,
          -0.13291441218573993,
          -2.1906986230717282,
          -0.39929710909689525,
          -0.007706517742355097,
          -1.4678236236979354,
          -2.962827614535784,
          0.7716773306645164,
          -0.1437713354255267,
          5.2058949979918685,
          3.882250385837468,
          -1.7945872031347445,
          5.067305463178286,
          -1.9717957895090354,
          -1.6770887338910694,
          6.918747739217687,
          -1.570969036848746,
          -1.3413448630559588,
          1.8410415266179347,
          -1.62262960444987,
          -2.948010008562721,
          0.04757814777846836,
          -1.6958907847285787,
          0.08069807314905621,
          -0.13652271528791327,
          -1.3519330530940525,
          4.523368744821807,
          -1.028956261997701,
          0.24608452073161496,
          -1.7897269517405974,
          -3.4923223153793685,
          5.116502277987241,
          -1.3261637776979933,
          -2.088077739547798,
          -1.711485522415441,
          -0.4596427338951149,
          -3.33298579145823,
          7.993566410642926,
          -0.2547173551896064,
          -2.1529899986151393,
          -2.2339873533152894,
          -0.8238702363300837,
          -0.23137145175975923,
          2.054887959066757,
          -2.095589589823203,
          5.409496189653638,
          -1.7132382014314402,
          -3.153368907869347,
          -0.8766311840666077,
          -0.5444325737050447,
          -2.4158465643087337,
          -1.4260838030117624,
          -0.8933382442773878,
          -0.2560129804810161,
          0.33621302297272576,
          -0.766424199766496,
          4.765419299839384,
          -3.5833109885684924,
          -4.447414227549414,
          2.1080832467955104,
          -0.27970903749302106,
          -2.264521502452421,
          1.5522409841902216,
          6.902756681859627,
          -1.383410188554887,
          0.010939328107731319,
          1.0298961867183547,
          5.778659442865008,
          -1.7683172159731901,
          -3.2498303095018968,
          -1.5589758212009783,
          -1.7639018269531024,
          8.100368834187204,
          -2.090881603474431,
          -4.4290584039846514,
          -1.9036428974462962,
          0.2116100281204902,
          -3.2869144364070126,
          -1.5919620372055612,
          -0.23368913536177602,
          -2.805121360802657,
          -1.4342017681513441,
          -1.595574387762047,
          7.4605099480636765,
          -0.5847602811705046,
          0.6894476234494087,
          -3.7372971990422292,
          4.497117019878691,
          -0.46654236606585126,
          -3.0696617751464195,
          -0.649880288681817,
          -0.9328501556902635,
          -1.4655059847176384,
          5.251708695249198,
          -0.5112000236569748,
          -0.6717521609015922,
          -2.0374121722608183,
          -1.535224509111431,
          5.830773969970223,
          -1.8353570745192418,
          -4.296148457575788,
          0.2292676413136647,
          -2.495641571692009,
          3.7930002322341445,
          -3.4129168113794055,
          0.6852905679426357,
          4.273042200082961,
          -1.8066180238661003,
          -0.5385757525719663,
          4.231341931047401,
          -4.386779957078919,
          -0.9480533147629102,
          -1.7484226208785538,
          0.4405306963222911,
          -1.7195048819204655,
          -2.7358862806372084,
          -0.17754588068921692,
          2.8377385106300888,
          6.893989546901584,
          -3.733862293404314,
          -0.3815209820195987,
          -1.5949215942782744,
          -0.9021317278648241,
          -0.7354455429641803,
          -0.8263820576806544,
          -0.6851741320322898,
          -2.4519717732072412,
          -2.5657815240366486,
          -0.23277750723577295,
          -2.7345561878049356,
          -0.15492033425140786,
          -1.4371873607923717,
          6.288938673172803,
          -0.24456225800918985,
          -0.3160498579706766,
          -2.5737096781165114,
          -1.2580765437183774,
          -1.4218783680042504,
          -0.5389413933269674,
          -2.401411170825743,
          0.1299975739315102,
          -1.0340143852776118,
          -2.1251267709616983,
          2.3872378428188465,
          -3.264013430039764,
          5.026310564570036,
          4.01214627520296,
          0.5126491008310575,
          -3.9740039604611987,
          -3.1454639052871545,
          5.250087650521443,
          -4.843149933576274,
          -1.6764282784571989,
          -1.24626762095566,
          5.22386030461645,
          6.2582265435154625,
          4.453563833204602,
          -1.6881952168972751,
          -0.06949622899401599,
          -2.4355881653925597,
          2.154164338586919,
          5.740278124493397,
          3.2983532413427366,
          1.8614509207763548,
          -0.8018442541900666,
          -3.3708028300517068,
          -1.698716370131034,
          -1.98586851243607,
          2.646396752270751,
          -0.8087554881239327,
          6.884930528549302,
          -4.198472022790257,
          4.751322163077686,
          1.476462364304053,
          -2.1765187422791668,
          -3.594670280347274,
          5.4988714512592285,
          -1.596284986677021,
          -0.9748645613264694,
          -1.9640714731796374,
          -0.13133200087271182,
          -0.985796598027575,
          -1.0171624460606254,
          -3.0204994695953777,
          -1.0162757768483894,
          1.1048470195624438,
          0.3372041549923285,
          -1.6899646159794541,
          -0.6152832081223661,
          -5.068520171390307,
          -0.28714586548513793,
          0.0094443411488476,
          -0.7115956001595882,
          -2.043819694237726,
          5.134621989276459,
          -4.29295578654116,
          -1.4964896306203388,
          6.972681476352115,
          -1.7247394328287475,
          -2.2537455401973174,
          2.98124430698245,
          0.16891798407692432,
          1.4257843285831848,
          -3.627053505337103,
          -1.5953732419912916,
          4.927744607348236,
          -1.7324192845884852,
          -0.5030559996092493,
          3.9333461586070575,
          5.456833005006284,
          3.4246322586285562,
          -0.7444666803920512,
          6.516824260178126,
          -2.6982217390715277,
          5.77091689604037,
          -1.1303084170406998,
          -0.5237359654406512,
          -1.191226145330913,
          -0.25417361855235554,
          5.172232004644537,
          0.8843051514882987,
          0.1985066918637194,
          -2.645059112707132,
          -1.3424820904101273,
          -0.880110773050335,
          -3.566095303580936,
          5.295605330098486,
          0.9325101539061628,
          0.544197018673505,
          -0.597513172672792,
          -3.1511815572662822,
          -1.8125078901200204,
          3.274662012571052,
          5.938950784037809,
          -0.8366584054097613,
          -3.5700267823356913,
          -0.04239471426397809,
          -1.6923194434094606,
          0.5047628273585146,
          -0.8802275418642931,
          0.5635371515150843,
          -2.567815305305884,
          -5.122936345439623,
          -0.08533499682247246,
          4.082007475809163,
          -0.402415470444574,
          -3.0276830101865455,
          -4.153481770627587,
          -0.8338028031480077,
          -3.1739228316558954,
          4.754567593877051,
          -1.4131647604390458,
          1.8009905084824487,
          -1.1746580978375054,
          -1.2826393288570939,
          5.157578976515421,
          5.738899944687051,
          5.898157459363225,
          6.002629893415765,
          6.111942117086226,
          -1.1858924400124888,
          1.67241046286967,
          -0.8761438983467127,
          6.390113373091669,
          -1.0799618729727116,
          0.010710032047504862,
          -2.269851437956416,
          -1.7218598426618164,
          -3.411616707053948,
          1.193779671427044,
          4.6765858779917,
          -1.2793436017442616,
          -1.4533301664905838,
          -1.8778540991049573,
          0.7534386854014437,
          -1.4629097991105267,
          -4.200830784467295,
          -2.3751025460532493,
          1.6472122152060635,
          -0.1219375183325554,
          -1.2153724720748358,
          -1.2030582759758106,
          -2.4188425333842196,
          -4.106707376516172,
          -1.0204563510220248,
          -0.42239026028072807,
          6.126446738452753,
          -0.6697545517048918,
          -1.8501971353007105,
          -0.8309688344088927,
          -1.4170516407600304,
          -0.7383216904737291,
          -3.0681502862775183,
          -0.05739857092344631,
          3.2614003979425985,
          6.416453067022397,
          -2.582727059481428,
          2.809494264211626,
          5.304243319947262,
          -1.8652523735352657,
          -0.36158275489586017,
          -2.2161072665876036,
          -1.6632489158991375,
          -2.112276122981743,
          6.415025754817441,
          -2.0112963981534024,
          -0.6396356460599055,
          -4.076849606167094,
          0.20154690953260787,
          -1.8240647430052817,
          -3.555711232879624,
          3.2535409301415545,
          -0.4651135317070695,
          1.2277654174030967,
          1.0560071531052608,
          -2.5385116288098857,
          -0.40174707142162114,
          -0.4122661484831946,
          0.2788875035576577,
          -0.2871237077915091,
          0.3408553318313461,
          -0.9775054522782035,
          0.5764031258487992,
          -2.10550939021642,
          -1.832944282377424,
          -3.791831350649248,
          -3.7569925100056984,
          4.72272892712409,
          1.7010169727448299,
          1.8129706985393392,
          -0.7033692775045636,
          -3.219020277145728,
          -4.221508187403815,
          -2.58071937254205,
          -2.933114737016124,
          -0.5464546935446278,
          -0.6682605015421149,
          -2.145423973464068,
          5.5944893102139055,
          2.7578385759120083,
          2.1765696279843043,
          -0.6827668260989742,
          -1.738385450687877,
          -1.1974174262554729,
          -2.912482886625366,
          2.4921481605748856,
          -0.9325838153563057,
          -2.140929575101738,
          -0.4335464851372144,
          -1.8230947670945366,
          0.9921510981418977,
          -1.4185475608639915,
          -1.0636927078303011,
          0.011558569222389898,
          4.744569771868385,
          0.2754641714604919,
          0.14577457115917475,
          4.948742863123098,
          7.918617425305353,
          0.40001328764543864,
          6.342796932440418,
          -0.407819176339443,
          -0.9380349241073226,
          1.9482140748063277,
          4.985441774479827,
          -1.3114002906347078,
          -1.356176656162769,
          -1.075735109055998,
          3.5979515501951043,
          -1.6209557825422534,
          -0.3470957330202843,
          -1.0906189661660612,
          -2.507162107010441,
          -0.7366847020083865,
          -0.18381163744261975,
          -2.978306753364854,
          3.8173699479607435,
          -2.0680666729618236,
          4.500802926920129,
          0.2720727632083986,
          4.100656689471034,
          -0.5026880946331405,
          6.721504690735857,
          -3.9743474947658997,
          6.292926849322428,
          -3.1808894492453756,
          -4.1728239726541245,
          1.0377140917945986,
          3.0564088473495965,
          -1.6863643855368453,
          -1.7398710504611228,
          -2.1107848440946833,
          0.8948504314535769,
          -0.7214833131760076,
          -1.8555989158243156,
          -0.3978024971801246,
          4.797195232623633,
          -0.6660499361364506,
          -0.8226312152996701,
          -0.4309448869244817,
          0.20195190805117083,
          4.04859634536611,
          -1.8219323051654053,
          -2.9534469330626676,
          -0.4256792015942364,
          0.2086867664053672,
          -1.146831637379049,
          -4.109615871846838,
          0.516003699356577,
          -0.0005921521525802952,
          -2.3710484303820625,
          1.9570954465986987,
          -1.7088287881571322,
          0.2576243584220054,
          -3.5945072541315297,
          5.767022858440057,
          -1.9857713864113655,
          0.8951515626918864,
          1.2066243292115957
         ],
         "yaxis": "y"
        }
       ],
       "layout": {
        "legend": {
         "tracegroupgap": 0
        },
        "template": {
         "data": {
          "bar": [
           {
            "error_x": {
             "color": "#2a3f5f"
            },
            "error_y": {
             "color": "#2a3f5f"
            },
            "marker": {
             "line": {
              "color": "#E5ECF6",
              "width": 0.5
             },
             "pattern": {
              "fillmode": "overlay",
              "size": 10,
              "solidity": 0.2
             }
            },
            "type": "bar"
           }
          ],
          "barpolar": [
           {
            "marker": {
             "line": {
              "color": "#E5ECF6",
              "width": 0.5
             },
             "pattern": {
              "fillmode": "overlay",
              "size": 10,
              "solidity": 0.2
             }
            },
            "type": "barpolar"
           }
          ],
          "carpet": [
           {
            "aaxis": {
             "endlinecolor": "#2a3f5f",
             "gridcolor": "white",
             "linecolor": "white",
             "minorgridcolor": "white",
             "startlinecolor": "#2a3f5f"
            },
            "baxis": {
             "endlinecolor": "#2a3f5f",
             "gridcolor": "white",
             "linecolor": "white",
             "minorgridcolor": "white",
             "startlinecolor": "#2a3f5f"
            },
            "type": "carpet"
           }
          ],
          "choropleth": [
           {
            "colorbar": {
             "outlinewidth": 0,
             "ticks": ""
            },
            "type": "choropleth"
           }
          ],
          "contour": [
           {
            "colorbar": {
             "outlinewidth": 0,
             "ticks": ""
            },
            "colorscale": [
             [
              0,
              "#0d0887"
             ],
             [
              0.1111111111111111,
              "#46039f"
             ],
             [
              0.2222222222222222,
              "#7201a8"
             ],
             [
              0.3333333333333333,
              "#9c179e"
             ],
             [
              0.4444444444444444,
              "#bd3786"
             ],
             [
              0.5555555555555556,
              "#d8576b"
             ],
             [
              0.6666666666666666,
              "#ed7953"
             ],
             [
              0.7777777777777778,
              "#fb9f3a"
             ],
             [
              0.8888888888888888,
              "#fdca26"
             ],
             [
              1,
              "#f0f921"
             ]
            ],
            "type": "contour"
           }
          ],
          "contourcarpet": [
           {
            "colorbar": {
             "outlinewidth": 0,
             "ticks": ""
            },
            "type": "contourcarpet"
           }
          ],
          "heatmap": [
           {
            "colorbar": {
             "outlinewidth": 0,
             "ticks": ""
            },
            "colorscale": [
             [
              0,
              "#0d0887"
             ],
             [
              0.1111111111111111,
              "#46039f"
             ],
             [
              0.2222222222222222,
              "#7201a8"
             ],
             [
              0.3333333333333333,
              "#9c179e"
             ],
             [
              0.4444444444444444,
              "#bd3786"
             ],
             [
              0.5555555555555556,
              "#d8576b"
             ],
             [
              0.6666666666666666,
              "#ed7953"
             ],
             [
              0.7777777777777778,
              "#fb9f3a"
             ],
             [
              0.8888888888888888,
              "#fdca26"
             ],
             [
              1,
              "#f0f921"
             ]
            ],
            "type": "heatmap"
           }
          ],
          "heatmapgl": [
           {
            "colorbar": {
             "outlinewidth": 0,
             "ticks": ""
            },
            "colorscale": [
             [
              0,
              "#0d0887"
             ],
             [
              0.1111111111111111,
              "#46039f"
             ],
             [
              0.2222222222222222,
              "#7201a8"
             ],
             [
              0.3333333333333333,
              "#9c179e"
             ],
             [
              0.4444444444444444,
              "#bd3786"
             ],
             [
              0.5555555555555556,
              "#d8576b"
             ],
             [
              0.6666666666666666,
              "#ed7953"
             ],
             [
              0.7777777777777778,
              "#fb9f3a"
             ],
             [
              0.8888888888888888,
              "#fdca26"
             ],
             [
              1,
              "#f0f921"
             ]
            ],
            "type": "heatmapgl"
           }
          ],
          "histogram": [
           {
            "marker": {
             "pattern": {
              "fillmode": "overlay",
              "size": 10,
              "solidity": 0.2
             }
            },
            "type": "histogram"
           }
          ],
          "histogram2d": [
           {
            "colorbar": {
             "outlinewidth": 0,
             "ticks": ""
            },
            "colorscale": [
             [
              0,
              "#0d0887"
             ],
             [
              0.1111111111111111,
              "#46039f"
             ],
             [
              0.2222222222222222,
              "#7201a8"
             ],
             [
              0.3333333333333333,
              "#9c179e"
             ],
             [
              0.4444444444444444,
              "#bd3786"
             ],
             [
              0.5555555555555556,
              "#d8576b"
             ],
             [
              0.6666666666666666,
              "#ed7953"
             ],
             [
              0.7777777777777778,
              "#fb9f3a"
             ],
             [
              0.8888888888888888,
              "#fdca26"
             ],
             [
              1,
              "#f0f921"
             ]
            ],
            "type": "histogram2d"
           }
          ],
          "histogram2dcontour": [
           {
            "colorbar": {
             "outlinewidth": 0,
             "ticks": ""
            },
            "colorscale": [
             [
              0,
              "#0d0887"
             ],
             [
              0.1111111111111111,
              "#46039f"
             ],
             [
              0.2222222222222222,
              "#7201a8"
             ],
             [
              0.3333333333333333,
              "#9c179e"
             ],
             [
              0.4444444444444444,
              "#bd3786"
             ],
             [
              0.5555555555555556,
              "#d8576b"
             ],
             [
              0.6666666666666666,
              "#ed7953"
             ],
             [
              0.7777777777777778,
              "#fb9f3a"
             ],
             [
              0.8888888888888888,
              "#fdca26"
             ],
             [
              1,
              "#f0f921"
             ]
            ],
            "type": "histogram2dcontour"
           }
          ],
          "mesh3d": [
           {
            "colorbar": {
             "outlinewidth": 0,
             "ticks": ""
            },
            "type": "mesh3d"
           }
          ],
          "parcoords": [
           {
            "line": {
             "colorbar": {
              "outlinewidth": 0,
              "ticks": ""
             }
            },
            "type": "parcoords"
           }
          ],
          "pie": [
           {
            "automargin": true,
            "type": "pie"
           }
          ],
          "scatter": [
           {
            "fillpattern": {
             "fillmode": "overlay",
             "size": 10,
             "solidity": 0.2
            },
            "type": "scatter"
           }
          ],
          "scatter3d": [
           {
            "line": {
             "colorbar": {
              "outlinewidth": 0,
              "ticks": ""
             }
            },
            "marker": {
             "colorbar": {
              "outlinewidth": 0,
              "ticks": ""
             }
            },
            "type": "scatter3d"
           }
          ],
          "scattercarpet": [
           {
            "marker": {
             "colorbar": {
              "outlinewidth": 0,
              "ticks": ""
             }
            },
            "type": "scattercarpet"
           }
          ],
          "scattergeo": [
           {
            "marker": {
             "colorbar": {
              "outlinewidth": 0,
              "ticks": ""
             }
            },
            "type": "scattergeo"
           }
          ],
          "scattergl": [
           {
            "marker": {
             "colorbar": {
              "outlinewidth": 0,
              "ticks": ""
             }
            },
            "type": "scattergl"
           }
          ],
          "scattermapbox": [
           {
            "marker": {
             "colorbar": {
              "outlinewidth": 0,
              "ticks": ""
             }
            },
            "type": "scattermapbox"
           }
          ],
          "scatterpolar": [
           {
            "marker": {
             "colorbar": {
              "outlinewidth": 0,
              "ticks": ""
             }
            },
            "type": "scatterpolar"
           }
          ],
          "scatterpolargl": [
           {
            "marker": {
             "colorbar": {
              "outlinewidth": 0,
              "ticks": ""
             }
            },
            "type": "scatterpolargl"
           }
          ],
          "scatterternary": [
           {
            "marker": {
             "colorbar": {
              "outlinewidth": 0,
              "ticks": ""
             }
            },
            "type": "scatterternary"
           }
          ],
          "surface": [
           {
            "colorbar": {
             "outlinewidth": 0,
             "ticks": ""
            },
            "colorscale": [
             [
              0,
              "#0d0887"
             ],
             [
              0.1111111111111111,
              "#46039f"
             ],
             [
              0.2222222222222222,
              "#7201a8"
             ],
             [
              0.3333333333333333,
              "#9c179e"
             ],
             [
              0.4444444444444444,
              "#bd3786"
             ],
             [
              0.5555555555555556,
              "#d8576b"
             ],
             [
              0.6666666666666666,
              "#ed7953"
             ],
             [
              0.7777777777777778,
              "#fb9f3a"
             ],
             [
              0.8888888888888888,
              "#fdca26"
             ],
             [
              1,
              "#f0f921"
             ]
            ],
            "type": "surface"
           }
          ],
          "table": [
           {
            "cells": {
             "fill": {
              "color": "#EBF0F8"
             },
             "line": {
              "color": "white"
             }
            },
            "header": {
             "fill": {
              "color": "#C8D4E3"
             },
             "line": {
              "color": "white"
             }
            },
            "type": "table"
           }
          ]
         },
         "layout": {
          "annotationdefaults": {
           "arrowcolor": "#2a3f5f",
           "arrowhead": 0,
           "arrowwidth": 1
          },
          "autotypenumbers": "strict",
          "coloraxis": {
           "colorbar": {
            "outlinewidth": 0,
            "ticks": ""
           }
          },
          "colorscale": {
           "diverging": [
            [
             0,
             "#8e0152"
            ],
            [
             0.1,
             "#c51b7d"
            ],
            [
             0.2,
             "#de77ae"
            ],
            [
             0.3,
             "#f1b6da"
            ],
            [
             0.4,
             "#fde0ef"
            ],
            [
             0.5,
             "#f7f7f7"
            ],
            [
             0.6,
             "#e6f5d0"
            ],
            [
             0.7,
             "#b8e186"
            ],
            [
             0.8,
             "#7fbc41"
            ],
            [
             0.9,
             "#4d9221"
            ],
            [
             1,
             "#276419"
            ]
           ],
           "sequential": [
            [
             0,
             "#0d0887"
            ],
            [
             0.1111111111111111,
             "#46039f"
            ],
            [
             0.2222222222222222,
             "#7201a8"
            ],
            [
             0.3333333333333333,
             "#9c179e"
            ],
            [
             0.4444444444444444,
             "#bd3786"
            ],
            [
             0.5555555555555556,
             "#d8576b"
            ],
            [
             0.6666666666666666,
             "#ed7953"
            ],
            [
             0.7777777777777778,
             "#fb9f3a"
            ],
            [
             0.8888888888888888,
             "#fdca26"
            ],
            [
             1,
             "#f0f921"
            ]
           ],
           "sequentialminus": [
            [
             0,
             "#0d0887"
            ],
            [
             0.1111111111111111,
             "#46039f"
            ],
            [
             0.2222222222222222,
             "#7201a8"
            ],
            [
             0.3333333333333333,
             "#9c179e"
            ],
            [
             0.4444444444444444,
             "#bd3786"
            ],
            [
             0.5555555555555556,
             "#d8576b"
            ],
            [
             0.6666666666666666,
             "#ed7953"
            ],
            [
             0.7777777777777778,
             "#fb9f3a"
            ],
            [
             0.8888888888888888,
             "#fdca26"
            ],
            [
             1,
             "#f0f921"
            ]
           ]
          },
          "colorway": [
           "#636efa",
           "#EF553B",
           "#00cc96",
           "#ab63fa",
           "#FFA15A",
           "#19d3f3",
           "#FF6692",
           "#B6E880",
           "#FF97FF",
           "#FECB52"
          ],
          "font": {
           "color": "#2a3f5f"
          },
          "geo": {
           "bgcolor": "white",
           "lakecolor": "white",
           "landcolor": "#E5ECF6",
           "showlakes": true,
           "showland": true,
           "subunitcolor": "white"
          },
          "hoverlabel": {
           "align": "left"
          },
          "hovermode": "closest",
          "mapbox": {
           "style": "light"
          },
          "paper_bgcolor": "white",
          "plot_bgcolor": "#E5ECF6",
          "polar": {
           "angularaxis": {
            "gridcolor": "white",
            "linecolor": "white",
            "ticks": ""
           },
           "bgcolor": "#E5ECF6",
           "radialaxis": {
            "gridcolor": "white",
            "linecolor": "white",
            "ticks": ""
           }
          },
          "scene": {
           "xaxis": {
            "backgroundcolor": "#E5ECF6",
            "gridcolor": "white",
            "gridwidth": 2,
            "linecolor": "white",
            "showbackground": true,
            "ticks": "",
            "zerolinecolor": "white"
           },
           "yaxis": {
            "backgroundcolor": "#E5ECF6",
            "gridcolor": "white",
            "gridwidth": 2,
            "linecolor": "white",
            "showbackground": true,
            "ticks": "",
            "zerolinecolor": "white"
           },
           "zaxis": {
            "backgroundcolor": "#E5ECF6",
            "gridcolor": "white",
            "gridwidth": 2,
            "linecolor": "white",
            "showbackground": true,
            "ticks": "",
            "zerolinecolor": "white"
           }
          },
          "shapedefaults": {
           "line": {
            "color": "#2a3f5f"
           }
          },
          "ternary": {
           "aaxis": {
            "gridcolor": "white",
            "linecolor": "white",
            "ticks": ""
           },
           "baxis": {
            "gridcolor": "white",
            "linecolor": "white",
            "ticks": ""
           },
           "bgcolor": "#E5ECF6",
           "caxis": {
            "gridcolor": "white",
            "linecolor": "white",
            "ticks": ""
           }
          },
          "title": {
           "x": 0.05
          },
          "xaxis": {
           "automargin": true,
           "gridcolor": "white",
           "linecolor": "white",
           "ticks": "",
           "title": {
            "standoff": 15
           },
           "zerolinecolor": "white",
           "zerolinewidth": 2
          },
          "yaxis": {
           "automargin": true,
           "gridcolor": "white",
           "linecolor": "white",
           "ticks": "",
           "title": {
            "standoff": 15
           },
           "zerolinecolor": "white",
           "zerolinewidth": 2
          }
         }
        },
        "title": {
         "text": "PCA - 2 Components"
        },
        "xaxis": {
         "anchor": "y",
         "domain": [
          0,
          1
         ],
         "title": {
          "text": "Principal Component 1"
         }
        },
        "yaxis": {
         "anchor": "x",
         "domain": [
          0,
          1
         ],
         "title": {
          "text": "Principal Component 2"
         }
        }
       }
      }
     },
     "metadata": {},
     "output_type": "display_data"
    }
   ],
   "source": [
    "import matplotlib.pyplot as plt\n",
    "\n",
    "# Create a scatter plot using Plotly Express\n",
    "fig_pca = px.scatter(df_pca_2, \n",
    "                     x='PCA1', \n",
    "                     y='PCA2', \n",
    "                     title=\"PCA - 2 Components\",\n",
    "                     labels={'PCA1': 'Principal Component 1', 'PCA2': 'Principal Component 2'})\n",
    "fig_pca.show()"
   ]
  },
  {
   "cell_type": "markdown",
   "metadata": {},
   "source": [
    "Visualizing Cumulative Variance to see many components would explain 95% of the variance."
   ]
  },
  {
   "cell_type": "code",
   "execution_count": 205,
   "metadata": {},
   "outputs": [
    {
     "data": {
      "application/vnd.plotly.v1+json": {
       "config": {
        "plotlyServerURL": "https://plot.ly"
       },
       "data": [
        {
         "hovertemplate": "Number of Components=%{x}<br>Cumulative Explained Variance=%{y}<extra></extra>",
         "legendgroup": "",
         "line": {
          "color": "#636efa",
          "dash": "solid"
         },
         "marker": {
          "symbol": "circle"
         },
         "mode": "lines",
         "name": "",
         "orientation": "v",
         "showlegend": false,
         "type": "scatter",
         "x": [
          1,
          2,
          3,
          4,
          5,
          6,
          7,
          8,
          9,
          10,
          11,
          12,
          13,
          14,
          15,
          16,
          17,
          18,
          19,
          20,
          21,
          22,
          23,
          24,
          25,
          26,
          27,
          28,
          29,
          30,
          31,
          32,
          33,
          34,
          35,
          36,
          37,
          38,
          39,
          40,
          41,
          42,
          43,
          44,
          45,
          46,
          47,
          48,
          49,
          50,
          51,
          52,
          53,
          54,
          55,
          56,
          57,
          58,
          59,
          60,
          61,
          62,
          63,
          64,
          65,
          66,
          67,
          68,
          69,
          70,
          71,
          72,
          73,
          74,
          75,
          76,
          77,
          78,
          79,
          80,
          81,
          82,
          83,
          84,
          85,
          86,
          87,
          88,
          89,
          90,
          91,
          92,
          93,
          94,
          95,
          96,
          97,
          98,
          99,
          100,
          101,
          102,
          103,
          104,
          105,
          106,
          107,
          108,
          109,
          110,
          111,
          112,
          113,
          114,
          115,
          116,
          117,
          118,
          119,
          120,
          121,
          122,
          123,
          124,
          125,
          126,
          127,
          128,
          129,
          130,
          131,
          132,
          133,
          134,
          135,
          136,
          137,
          138,
          139,
          140,
          141,
          142,
          143,
          144,
          145,
          146,
          147,
          148,
          149,
          150,
          151,
          152,
          153,
          154,
          155,
          156,
          157,
          158,
          159,
          160,
          161
         ],
         "xaxis": "x",
         "y": [
          0.05930269499326816,
          0.11159287661966896,
          0.16117051032835739,
          0.20839178290601992,
          0.2544003243650497,
          0.29856615514714724,
          0.3402595130266524,
          0.3812221017366224,
          0.42051703221221687,
          0.4580423136664171,
          0.49425020621369975,
          0.5293917422640659,
          0.5638064979166547,
          0.5978088158573398,
          0.6307100858127129,
          0.6622728317603891,
          0.6931279652380226,
          0.7228460727061391,
          0.7502490912878037,
          0.7766103944113623,
          0.7987054988088316,
          0.8182929038501316,
          0.8345254842993607,
          0.8424143985428179,
          0.8501871544134184,
          0.8578106035161626,
          0.8652775383443667,
          0.8725724961483031,
          0.8797394146744506,
          0.886819767246925,
          0.8937675890418816,
          0.9006450634131654,
          0.9074223961382955,
          0.9141160380753252,
          0.9206671715975628,
          0.9271568144546826,
          0.9335155161511527,
          0.9398553583362061,
          0.9461335068149015,
          0.9522368748363869,
          0.9582509243294174,
          0.9641747065649038,
          0.9700351479224965,
          0.9758345711269422,
          0.9814771101870183,
          0.986971148903491,
          0.9923305724824251,
          0.9951218726697272,
          0.9976154435647506,
          0.9999999999999941,
          0.9999999999999946,
          0.999999999999995,
          0.9999999999999953,
          0.9999999999999957,
          0.999999999999996,
          0.9999999999999963,
          0.9999999999999967,
          0.9999999999999969,
          0.9999999999999971,
          0.9999999999999973,
          0.9999999999999976,
          0.9999999999999978,
          0.999999999999998,
          0.9999999999999981,
          0.9999999999999982,
          0.9999999999999983,
          0.9999999999999984,
          0.9999999999999986,
          0.9999999999999987,
          0.9999999999999988,
          0.9999999999999989,
          0.999999999999999,
          0.9999999999999991,
          0.9999999999999992,
          0.9999999999999993,
          0.9999999999999994,
          0.9999999999999996,
          0.9999999999999997,
          0.9999999999999997,
          0.9999999999999997,
          0.9999999999999997,
          0.9999999999999997,
          0.9999999999999997,
          0.9999999999999997,
          0.9999999999999997,
          0.9999999999999997,
          0.9999999999999997,
          0.9999999999999997,
          0.9999999999999997,
          0.9999999999999997,
          0.9999999999999997,
          0.9999999999999997,
          0.9999999999999997,
          0.9999999999999997,
          0.9999999999999997,
          0.9999999999999997,
          0.9999999999999997,
          0.9999999999999997,
          0.9999999999999997,
          0.9999999999999997,
          0.9999999999999997,
          0.9999999999999997,
          0.9999999999999997,
          0.9999999999999997,
          0.9999999999999997,
          0.9999999999999997,
          0.9999999999999997,
          0.9999999999999997,
          0.9999999999999997,
          0.9999999999999997,
          0.9999999999999997,
          0.9999999999999997,
          0.9999999999999997,
          0.9999999999999997,
          0.9999999999999997,
          0.9999999999999997,
          0.9999999999999997,
          0.9999999999999997,
          0.9999999999999997,
          0.9999999999999997,
          0.9999999999999997,
          0.9999999999999997,
          0.9999999999999997,
          0.9999999999999997,
          0.9999999999999997,
          0.9999999999999997,
          0.9999999999999997,
          0.9999999999999997,
          0.9999999999999997,
          0.9999999999999997,
          0.9999999999999997,
          0.9999999999999997,
          0.9999999999999997,
          0.9999999999999997,
          0.9999999999999997,
          0.9999999999999997,
          0.9999999999999997,
          0.9999999999999997,
          0.9999999999999997,
          0.9999999999999997,
          0.9999999999999997,
          0.9999999999999997,
          0.9999999999999997,
          0.9999999999999997,
          0.9999999999999997,
          0.9999999999999997,
          0.9999999999999997,
          0.9999999999999997,
          0.9999999999999997,
          0.9999999999999997,
          0.9999999999999997,
          0.9999999999999997,
          0.9999999999999997,
          0.9999999999999997,
          0.9999999999999997,
          0.9999999999999997,
          0.9999999999999997,
          0.9999999999999997,
          0.9999999999999997,
          0.9999999999999997,
          0.9999999999999997
         ],
         "yaxis": "y"
        }
       ],
       "layout": {
        "legend": {
         "tracegroupgap": 0
        },
        "shapes": [
         {
          "line": {
           "color": "red",
           "dash": "dash"
          },
          "type": "line",
          "x0": 0,
          "x1": 1,
          "xref": "x domain",
          "y0": 0.95,
          "y1": 0.95,
          "yref": "y"
         },
         {
          "line": {
           "color": "red",
           "dash": "dash"
          },
          "type": "line",
          "x0": 40,
          "x1": 40,
          "xref": "x",
          "y0": 0,
          "y1": 1,
          "yref": "y domain"
         }
        ],
        "template": {
         "data": {
          "bar": [
           {
            "error_x": {
             "color": "#2a3f5f"
            },
            "error_y": {
             "color": "#2a3f5f"
            },
            "marker": {
             "line": {
              "color": "#E5ECF6",
              "width": 0.5
             },
             "pattern": {
              "fillmode": "overlay",
              "size": 10,
              "solidity": 0.2
             }
            },
            "type": "bar"
           }
          ],
          "barpolar": [
           {
            "marker": {
             "line": {
              "color": "#E5ECF6",
              "width": 0.5
             },
             "pattern": {
              "fillmode": "overlay",
              "size": 10,
              "solidity": 0.2
             }
            },
            "type": "barpolar"
           }
          ],
          "carpet": [
           {
            "aaxis": {
             "endlinecolor": "#2a3f5f",
             "gridcolor": "white",
             "linecolor": "white",
             "minorgridcolor": "white",
             "startlinecolor": "#2a3f5f"
            },
            "baxis": {
             "endlinecolor": "#2a3f5f",
             "gridcolor": "white",
             "linecolor": "white",
             "minorgridcolor": "white",
             "startlinecolor": "#2a3f5f"
            },
            "type": "carpet"
           }
          ],
          "choropleth": [
           {
            "colorbar": {
             "outlinewidth": 0,
             "ticks": ""
            },
            "type": "choropleth"
           }
          ],
          "contour": [
           {
            "colorbar": {
             "outlinewidth": 0,
             "ticks": ""
            },
            "colorscale": [
             [
              0,
              "#0d0887"
             ],
             [
              0.1111111111111111,
              "#46039f"
             ],
             [
              0.2222222222222222,
              "#7201a8"
             ],
             [
              0.3333333333333333,
              "#9c179e"
             ],
             [
              0.4444444444444444,
              "#bd3786"
             ],
             [
              0.5555555555555556,
              "#d8576b"
             ],
             [
              0.6666666666666666,
              "#ed7953"
             ],
             [
              0.7777777777777778,
              "#fb9f3a"
             ],
             [
              0.8888888888888888,
              "#fdca26"
             ],
             [
              1,
              "#f0f921"
             ]
            ],
            "type": "contour"
           }
          ],
          "contourcarpet": [
           {
            "colorbar": {
             "outlinewidth": 0,
             "ticks": ""
            },
            "type": "contourcarpet"
           }
          ],
          "heatmap": [
           {
            "colorbar": {
             "outlinewidth": 0,
             "ticks": ""
            },
            "colorscale": [
             [
              0,
              "#0d0887"
             ],
             [
              0.1111111111111111,
              "#46039f"
             ],
             [
              0.2222222222222222,
              "#7201a8"
             ],
             [
              0.3333333333333333,
              "#9c179e"
             ],
             [
              0.4444444444444444,
              "#bd3786"
             ],
             [
              0.5555555555555556,
              "#d8576b"
             ],
             [
              0.6666666666666666,
              "#ed7953"
             ],
             [
              0.7777777777777778,
              "#fb9f3a"
             ],
             [
              0.8888888888888888,
              "#fdca26"
             ],
             [
              1,
              "#f0f921"
             ]
            ],
            "type": "heatmap"
           }
          ],
          "heatmapgl": [
           {
            "colorbar": {
             "outlinewidth": 0,
             "ticks": ""
            },
            "colorscale": [
             [
              0,
              "#0d0887"
             ],
             [
              0.1111111111111111,
              "#46039f"
             ],
             [
              0.2222222222222222,
              "#7201a8"
             ],
             [
              0.3333333333333333,
              "#9c179e"
             ],
             [
              0.4444444444444444,
              "#bd3786"
             ],
             [
              0.5555555555555556,
              "#d8576b"
             ],
             [
              0.6666666666666666,
              "#ed7953"
             ],
             [
              0.7777777777777778,
              "#fb9f3a"
             ],
             [
              0.8888888888888888,
              "#fdca26"
             ],
             [
              1,
              "#f0f921"
             ]
            ],
            "type": "heatmapgl"
           }
          ],
          "histogram": [
           {
            "marker": {
             "pattern": {
              "fillmode": "overlay",
              "size": 10,
              "solidity": 0.2
             }
            },
            "type": "histogram"
           }
          ],
          "histogram2d": [
           {
            "colorbar": {
             "outlinewidth": 0,
             "ticks": ""
            },
            "colorscale": [
             [
              0,
              "#0d0887"
             ],
             [
              0.1111111111111111,
              "#46039f"
             ],
             [
              0.2222222222222222,
              "#7201a8"
             ],
             [
              0.3333333333333333,
              "#9c179e"
             ],
             [
              0.4444444444444444,
              "#bd3786"
             ],
             [
              0.5555555555555556,
              "#d8576b"
             ],
             [
              0.6666666666666666,
              "#ed7953"
             ],
             [
              0.7777777777777778,
              "#fb9f3a"
             ],
             [
              0.8888888888888888,
              "#fdca26"
             ],
             [
              1,
              "#f0f921"
             ]
            ],
            "type": "histogram2d"
           }
          ],
          "histogram2dcontour": [
           {
            "colorbar": {
             "outlinewidth": 0,
             "ticks": ""
            },
            "colorscale": [
             [
              0,
              "#0d0887"
             ],
             [
              0.1111111111111111,
              "#46039f"
             ],
             [
              0.2222222222222222,
              "#7201a8"
             ],
             [
              0.3333333333333333,
              "#9c179e"
             ],
             [
              0.4444444444444444,
              "#bd3786"
             ],
             [
              0.5555555555555556,
              "#d8576b"
             ],
             [
              0.6666666666666666,
              "#ed7953"
             ],
             [
              0.7777777777777778,
              "#fb9f3a"
             ],
             [
              0.8888888888888888,
              "#fdca26"
             ],
             [
              1,
              "#f0f921"
             ]
            ],
            "type": "histogram2dcontour"
           }
          ],
          "mesh3d": [
           {
            "colorbar": {
             "outlinewidth": 0,
             "ticks": ""
            },
            "type": "mesh3d"
           }
          ],
          "parcoords": [
           {
            "line": {
             "colorbar": {
              "outlinewidth": 0,
              "ticks": ""
             }
            },
            "type": "parcoords"
           }
          ],
          "pie": [
           {
            "automargin": true,
            "type": "pie"
           }
          ],
          "scatter": [
           {
            "fillpattern": {
             "fillmode": "overlay",
             "size": 10,
             "solidity": 0.2
            },
            "type": "scatter"
           }
          ],
          "scatter3d": [
           {
            "line": {
             "colorbar": {
              "outlinewidth": 0,
              "ticks": ""
             }
            },
            "marker": {
             "colorbar": {
              "outlinewidth": 0,
              "ticks": ""
             }
            },
            "type": "scatter3d"
           }
          ],
          "scattercarpet": [
           {
            "marker": {
             "colorbar": {
              "outlinewidth": 0,
              "ticks": ""
             }
            },
            "type": "scattercarpet"
           }
          ],
          "scattergeo": [
           {
            "marker": {
             "colorbar": {
              "outlinewidth": 0,
              "ticks": ""
             }
            },
            "type": "scattergeo"
           }
          ],
          "scattergl": [
           {
            "marker": {
             "colorbar": {
              "outlinewidth": 0,
              "ticks": ""
             }
            },
            "type": "scattergl"
           }
          ],
          "scattermapbox": [
           {
            "marker": {
             "colorbar": {
              "outlinewidth": 0,
              "ticks": ""
             }
            },
            "type": "scattermapbox"
           }
          ],
          "scatterpolar": [
           {
            "marker": {
             "colorbar": {
              "outlinewidth": 0,
              "ticks": ""
             }
            },
            "type": "scatterpolar"
           }
          ],
          "scatterpolargl": [
           {
            "marker": {
             "colorbar": {
              "outlinewidth": 0,
              "ticks": ""
             }
            },
            "type": "scatterpolargl"
           }
          ],
          "scatterternary": [
           {
            "marker": {
             "colorbar": {
              "outlinewidth": 0,
              "ticks": ""
             }
            },
            "type": "scatterternary"
           }
          ],
          "surface": [
           {
            "colorbar": {
             "outlinewidth": 0,
             "ticks": ""
            },
            "colorscale": [
             [
              0,
              "#0d0887"
             ],
             [
              0.1111111111111111,
              "#46039f"
             ],
             [
              0.2222222222222222,
              "#7201a8"
             ],
             [
              0.3333333333333333,
              "#9c179e"
             ],
             [
              0.4444444444444444,
              "#bd3786"
             ],
             [
              0.5555555555555556,
              "#d8576b"
             ],
             [
              0.6666666666666666,
              "#ed7953"
             ],
             [
              0.7777777777777778,
              "#fb9f3a"
             ],
             [
              0.8888888888888888,
              "#fdca26"
             ],
             [
              1,
              "#f0f921"
             ]
            ],
            "type": "surface"
           }
          ],
          "table": [
           {
            "cells": {
             "fill": {
              "color": "#EBF0F8"
             },
             "line": {
              "color": "white"
             }
            },
            "header": {
             "fill": {
              "color": "#C8D4E3"
             },
             "line": {
              "color": "white"
             }
            },
            "type": "table"
           }
          ]
         },
         "layout": {
          "annotationdefaults": {
           "arrowcolor": "#2a3f5f",
           "arrowhead": 0,
           "arrowwidth": 1
          },
          "autotypenumbers": "strict",
          "coloraxis": {
           "colorbar": {
            "outlinewidth": 0,
            "ticks": ""
           }
          },
          "colorscale": {
           "diverging": [
            [
             0,
             "#8e0152"
            ],
            [
             0.1,
             "#c51b7d"
            ],
            [
             0.2,
             "#de77ae"
            ],
            [
             0.3,
             "#f1b6da"
            ],
            [
             0.4,
             "#fde0ef"
            ],
            [
             0.5,
             "#f7f7f7"
            ],
            [
             0.6,
             "#e6f5d0"
            ],
            [
             0.7,
             "#b8e186"
            ],
            [
             0.8,
             "#7fbc41"
            ],
            [
             0.9,
             "#4d9221"
            ],
            [
             1,
             "#276419"
            ]
           ],
           "sequential": [
            [
             0,
             "#0d0887"
            ],
            [
             0.1111111111111111,
             "#46039f"
            ],
            [
             0.2222222222222222,
             "#7201a8"
            ],
            [
             0.3333333333333333,
             "#9c179e"
            ],
            [
             0.4444444444444444,
             "#bd3786"
            ],
            [
             0.5555555555555556,
             "#d8576b"
            ],
            [
             0.6666666666666666,
             "#ed7953"
            ],
            [
             0.7777777777777778,
             "#fb9f3a"
            ],
            [
             0.8888888888888888,
             "#fdca26"
            ],
            [
             1,
             "#f0f921"
            ]
           ],
           "sequentialminus": [
            [
             0,
             "#0d0887"
            ],
            [
             0.1111111111111111,
             "#46039f"
            ],
            [
             0.2222222222222222,
             "#7201a8"
            ],
            [
             0.3333333333333333,
             "#9c179e"
            ],
            [
             0.4444444444444444,
             "#bd3786"
            ],
            [
             0.5555555555555556,
             "#d8576b"
            ],
            [
             0.6666666666666666,
             "#ed7953"
            ],
            [
             0.7777777777777778,
             "#fb9f3a"
            ],
            [
             0.8888888888888888,
             "#fdca26"
            ],
            [
             1,
             "#f0f921"
            ]
           ]
          },
          "colorway": [
           "#636efa",
           "#EF553B",
           "#00cc96",
           "#ab63fa",
           "#FFA15A",
           "#19d3f3",
           "#FF6692",
           "#B6E880",
           "#FF97FF",
           "#FECB52"
          ],
          "font": {
           "color": "#2a3f5f"
          },
          "geo": {
           "bgcolor": "white",
           "lakecolor": "white",
           "landcolor": "#E5ECF6",
           "showlakes": true,
           "showland": true,
           "subunitcolor": "white"
          },
          "hoverlabel": {
           "align": "left"
          },
          "hovermode": "closest",
          "mapbox": {
           "style": "light"
          },
          "paper_bgcolor": "white",
          "plot_bgcolor": "#E5ECF6",
          "polar": {
           "angularaxis": {
            "gridcolor": "white",
            "linecolor": "white",
            "ticks": ""
           },
           "bgcolor": "#E5ECF6",
           "radialaxis": {
            "gridcolor": "white",
            "linecolor": "white",
            "ticks": ""
           }
          },
          "scene": {
           "xaxis": {
            "backgroundcolor": "#E5ECF6",
            "gridcolor": "white",
            "gridwidth": 2,
            "linecolor": "white",
            "showbackground": true,
            "ticks": "",
            "zerolinecolor": "white"
           },
           "yaxis": {
            "backgroundcolor": "#E5ECF6",
            "gridcolor": "white",
            "gridwidth": 2,
            "linecolor": "white",
            "showbackground": true,
            "ticks": "",
            "zerolinecolor": "white"
           },
           "zaxis": {
            "backgroundcolor": "#E5ECF6",
            "gridcolor": "white",
            "gridwidth": 2,
            "linecolor": "white",
            "showbackground": true,
            "ticks": "",
            "zerolinecolor": "white"
           }
          },
          "shapedefaults": {
           "line": {
            "color": "#2a3f5f"
           }
          },
          "ternary": {
           "aaxis": {
            "gridcolor": "white",
            "linecolor": "white",
            "ticks": ""
           },
           "baxis": {
            "gridcolor": "white",
            "linecolor": "white",
            "ticks": ""
           },
           "bgcolor": "#E5ECF6",
           "caxis": {
            "gridcolor": "white",
            "linecolor": "white",
            "ticks": ""
           }
          },
          "title": {
           "x": 0.05
          },
          "xaxis": {
           "automargin": true,
           "gridcolor": "white",
           "linecolor": "white",
           "ticks": "",
           "title": {
            "standoff": 15
           },
           "zerolinecolor": "white",
           "zerolinewidth": 2
          },
          "yaxis": {
           "automargin": true,
           "gridcolor": "white",
           "linecolor": "white",
           "ticks": "",
           "title": {
            "standoff": 15
           },
           "zerolinecolor": "white",
           "zerolinewidth": 2
          }
         }
        },
        "title": {
         "text": "Explained Variance vs Number of Principal Components"
        },
        "xaxis": {
         "anchor": "y",
         "domain": [
          0,
          1
         ],
         "title": {
          "text": "Number of Components"
         }
        },
        "yaxis": {
         "anchor": "x",
         "domain": [
          0,
          1
         ],
         "title": {
          "text": "Cumulative Explained Variance"
         }
        }
       }
      }
     },
     "metadata": {},
     "output_type": "display_data"
    }
   ],
   "source": [
    "import plotly.express as px\n",
    "from sklearn.decomposition import PCA\n",
    "from sklearn.preprocessing import StandardScaler\n",
    "\n",
    "pca_plot = PCA()\n",
    "pca_plot.fit(df_scaled)\n",
    "\n",
    "# Get the explained variance ratio for each component\n",
    "explained_variance_ratio = pca_plot.explained_variance_ratio_\n",
    "\n",
    "# Create a cumulative sum of the explained variance ratio\n",
    "cumulative_variance = explained_variance_ratio.cumsum()\n",
    "\n",
    "variance_df = pd.DataFrame({\n",
    "    'Number of Components': range(1, len(cumulative_variance) + 1),\n",
    "    'Cumulative Explained Variance': cumulative_variance\n",
    "})\n",
    "\n",
    "# Plot using Plotly\n",
    "fig = px.line(variance_df, \n",
    "              x='Number of Components', \n",
    "              y='Cumulative Explained Variance', \n",
    "              title=\"Explained Variance vs Number of Principal Components\",\n",
    "              labels={'Cumulative Explained Variance': 'Cumulative Explained Variance', \n",
    "                      'Number of Components': 'Number of Components'})\n",
    "\n",
    "# Add a horizontal line at 95%\n",
    "fig.add_hline(y=0.95, line_dash=\"dash\", line_color=\"red\")\n",
    "\n",
    "# Add a vertical line at the 74th component\n",
    "fig.add_vline(x=40, line_dash=\"dash\", line_color=\"red\")\n",
    "\n",
    "# Show the plot\n",
    "fig.show()\n"
   ]
  },
  {
   "cell_type": "markdown",
   "metadata": {},
   "source": [
    "The number of features that account for 95% of the variance is 40. With that number in mind, we can apply it to our PCA function to reduce the number of Principal Components or Features in the latest DataFrame from 161 to 40. These features will then be used to fit to our clustering algorithm."
   ]
  },
  {
   "cell_type": "code",
   "execution_count": 214,
   "metadata": {},
   "outputs": [],
   "source": [
    "# Perform PCA to reduce to 40 components\n",
    "pca = PCA(n_components=40)\n",
    "pca_result = pca.fit_transform(df_scaled)  # df_scaled is your original numerical data\n",
    "\n",
    "# Convert the PCA result into a DataFrame with the reduced components\n",
    "df_pca_40 = pd.DataFrame(pca_result, columns=[f'PCA{i+1}' for i in range(40)])"
   ]
  },
  {
   "cell_type": "code",
   "execution_count": 215,
   "metadata": {},
   "outputs": [
    {
     "data": {
      "text/html": [
       "<div>\n",
       "<style scoped>\n",
       "    .dataframe tbody tr th:only-of-type {\n",
       "        vertical-align: middle;\n",
       "    }\n",
       "\n",
       "    .dataframe tbody tr th {\n",
       "        vertical-align: top;\n",
       "    }\n",
       "\n",
       "    .dataframe thead th {\n",
       "        text-align: right;\n",
       "    }\n",
       "</style>\n",
       "<table border=\"1\" class=\"dataframe\">\n",
       "  <thead>\n",
       "    <tr style=\"text-align: right;\">\n",
       "      <th></th>\n",
       "      <th>PCA1</th>\n",
       "      <th>PCA2</th>\n",
       "      <th>PCA3</th>\n",
       "      <th>PCA4</th>\n",
       "      <th>PCA5</th>\n",
       "      <th>PCA6</th>\n",
       "      <th>PCA7</th>\n",
       "      <th>PCA8</th>\n",
       "      <th>PCA9</th>\n",
       "      <th>PCA10</th>\n",
       "      <th>...</th>\n",
       "      <th>PCA31</th>\n",
       "      <th>PCA32</th>\n",
       "      <th>PCA33</th>\n",
       "      <th>PCA34</th>\n",
       "      <th>PCA35</th>\n",
       "      <th>PCA36</th>\n",
       "      <th>PCA37</th>\n",
       "      <th>PCA38</th>\n",
       "      <th>PCA39</th>\n",
       "      <th>PCA40</th>\n",
       "    </tr>\n",
       "  </thead>\n",
       "  <tbody>\n",
       "    <tr>\n",
       "      <th>0</th>\n",
       "      <td>5.187192</td>\n",
       "      <td>3.659082</td>\n",
       "      <td>0.174686</td>\n",
       "      <td>-5.752395</td>\n",
       "      <td>2.603250</td>\n",
       "      <td>0.638839</td>\n",
       "      <td>0.845764</td>\n",
       "      <td>-0.210882</td>\n",
       "      <td>0.320199</td>\n",
       "      <td>-0.447290</td>\n",
       "      <td>...</td>\n",
       "      <td>-1.012301</td>\n",
       "      <td>0.416979</td>\n",
       "      <td>-1.446479</td>\n",
       "      <td>1.383183</td>\n",
       "      <td>-0.234876</td>\n",
       "      <td>0.817970</td>\n",
       "      <td>0.754962</td>\n",
       "      <td>0.834388</td>\n",
       "      <td>0.636184</td>\n",
       "      <td>0.665026</td>\n",
       "    </tr>\n",
       "    <tr>\n",
       "      <th>1</th>\n",
       "      <td>7.138440</td>\n",
       "      <td>-1.890079</td>\n",
       "      <td>0.095859</td>\n",
       "      <td>3.634908</td>\n",
       "      <td>1.700343</td>\n",
       "      <td>2.348592</td>\n",
       "      <td>-0.558099</td>\n",
       "      <td>1.581892</td>\n",
       "      <td>-0.960252</td>\n",
       "      <td>-0.932219</td>\n",
       "      <td>...</td>\n",
       "      <td>0.760789</td>\n",
       "      <td>0.902998</td>\n",
       "      <td>0.660334</td>\n",
       "      <td>2.062975</td>\n",
       "      <td>1.666638</td>\n",
       "      <td>-1.572496</td>\n",
       "      <td>-1.101906</td>\n",
       "      <td>1.893527</td>\n",
       "      <td>-2.153031</td>\n",
       "      <td>-0.017041</td>\n",
       "    </tr>\n",
       "    <tr>\n",
       "      <th>2</th>\n",
       "      <td>-1.407393</td>\n",
       "      <td>-3.386726</td>\n",
       "      <td>0.714348</td>\n",
       "      <td>-2.453546</td>\n",
       "      <td>-1.329421</td>\n",
       "      <td>-4.442581</td>\n",
       "      <td>-2.006528</td>\n",
       "      <td>2.352723</td>\n",
       "      <td>1.197954</td>\n",
       "      <td>0.744944</td>\n",
       "      <td>...</td>\n",
       "      <td>-1.279575</td>\n",
       "      <td>-0.777200</td>\n",
       "      <td>0.372014</td>\n",
       "      <td>1.352929</td>\n",
       "      <td>-1.034593</td>\n",
       "      <td>1.572843</td>\n",
       "      <td>0.815738</td>\n",
       "      <td>0.966731</td>\n",
       "      <td>-1.517491</td>\n",
       "      <td>-0.306835</td>\n",
       "    </tr>\n",
       "    <tr>\n",
       "      <th>3</th>\n",
       "      <td>-2.407946</td>\n",
       "      <td>-1.868902</td>\n",
       "      <td>4.260049</td>\n",
       "      <td>-3.418426</td>\n",
       "      <td>0.476538</td>\n",
       "      <td>-1.065112</td>\n",
       "      <td>0.339711</td>\n",
       "      <td>1.359524</td>\n",
       "      <td>-0.235829</td>\n",
       "      <td>-1.228741</td>\n",
       "      <td>...</td>\n",
       "      <td>-0.082886</td>\n",
       "      <td>1.146244</td>\n",
       "      <td>0.259863</td>\n",
       "      <td>-0.409992</td>\n",
       "      <td>0.905334</td>\n",
       "      <td>-0.538470</td>\n",
       "      <td>-2.265444</td>\n",
       "      <td>1.550717</td>\n",
       "      <td>-0.581484</td>\n",
       "      <td>0.851727</td>\n",
       "    </tr>\n",
       "    <tr>\n",
       "      <th>4</th>\n",
       "      <td>2.064395</td>\n",
       "      <td>-0.157107</td>\n",
       "      <td>-2.835847</td>\n",
       "      <td>6.391229</td>\n",
       "      <td>-0.941148</td>\n",
       "      <td>0.163001</td>\n",
       "      <td>-2.268146</td>\n",
       "      <td>1.579483</td>\n",
       "      <td>2.491674</td>\n",
       "      <td>-1.192268</td>\n",
       "      <td>...</td>\n",
       "      <td>-0.885186</td>\n",
       "      <td>1.116832</td>\n",
       "      <td>-1.552432</td>\n",
       "      <td>-1.668064</td>\n",
       "      <td>0.387952</td>\n",
       "      <td>2.156851</td>\n",
       "      <td>0.971230</td>\n",
       "      <td>0.903079</td>\n",
       "      <td>-1.364435</td>\n",
       "      <td>0.055165</td>\n",
       "    </tr>\n",
       "  </tbody>\n",
       "</table>\n",
       "<p>5 rows × 40 columns</p>\n",
       "</div>"
      ],
      "text/plain": [
       "       PCA1      PCA2      PCA3      PCA4      PCA5      PCA6      PCA7  \\\n",
       "0  5.187192  3.659082  0.174686 -5.752395  2.603250  0.638839  0.845764   \n",
       "1  7.138440 -1.890079  0.095859  3.634908  1.700343  2.348592 -0.558099   \n",
       "2 -1.407393 -3.386726  0.714348 -2.453546 -1.329421 -4.442581 -2.006528   \n",
       "3 -2.407946 -1.868902  4.260049 -3.418426  0.476538 -1.065112  0.339711   \n",
       "4  2.064395 -0.157107 -2.835847  6.391229 -0.941148  0.163001 -2.268146   \n",
       "\n",
       "       PCA8      PCA9     PCA10  ...     PCA31     PCA32     PCA33     PCA34  \\\n",
       "0 -0.210882  0.320199 -0.447290  ... -1.012301  0.416979 -1.446479  1.383183   \n",
       "1  1.581892 -0.960252 -0.932219  ...  0.760789  0.902998  0.660334  2.062975   \n",
       "2  2.352723  1.197954  0.744944  ... -1.279575 -0.777200  0.372014  1.352929   \n",
       "3  1.359524 -0.235829 -1.228741  ... -0.082886  1.146244  0.259863 -0.409992   \n",
       "4  1.579483  2.491674 -1.192268  ... -0.885186  1.116832 -1.552432 -1.668064   \n",
       "\n",
       "      PCA35     PCA36     PCA37     PCA38     PCA39     PCA40  \n",
       "0 -0.234876  0.817970  0.754962  0.834388  0.636184  0.665026  \n",
       "1  1.666638 -1.572496 -1.101906  1.893527 -2.153031 -0.017041  \n",
       "2 -1.034593  1.572843  0.815738  0.966731 -1.517491 -0.306835  \n",
       "3  0.905334 -0.538470 -2.265444  1.550717 -0.581484  0.851727  \n",
       "4  0.387952  2.156851  0.971230  0.903079 -1.364435  0.055165  \n",
       "\n",
       "[5 rows x 40 columns]"
      ]
     },
     "execution_count": 215,
     "metadata": {},
     "output_type": "execute_result"
    }
   ],
   "source": [
    "df_pca_40.head()"
   ]
  },
  {
   "cell_type": "code",
   "execution_count": 216,
   "metadata": {},
   "outputs": [],
   "source": [
    "df_pca_40.to_csv('df_pca_40.csv', index=False)"
   ]
  },
  {
   "cell_type": "markdown",
   "metadata": {},
   "source": [
    "### Clustering Dating Profiles"
   ]
  },
  {
   "cell_type": "markdown",
   "metadata": {},
   "source": [
    "To cluster profiles together, the optimum number of clusters must be found first."
   ]
  },
  {
   "cell_type": "markdown",
   "metadata": {},
   "source": [
    "#### Evaluation Metrics for Clustering"
   ]
  },
  {
   "cell_type": "markdown",
   "metadata": {},
   "source": [
    "##### Silhouette Coefficient: (higher score = better defined clusters)"
   ]
  },
  {
   "cell_type": "markdown",
   "metadata": {},
   "source": [
    "Measures both cohesion (how similar points are to their own cluster) and separation (how distinct a cluster is from others)."
   ]
  },
  {
   "cell_type": "markdown",
   "metadata": {},
   "source": [
    "\n",
    "Values range from -1 to +1:\n",
    "* +1: Well-clustered points (far from neighboring clusters).\n",
    "* 0: Overlapping clusters.\n",
    "* -1: Points might be wrongly assigned to the cluster.\n"
   ]
  },
  {
   "cell_type": "markdown",
   "metadata": {},
   "source": [
    "\n",
    "Advantages:\n",
    "Intuitive and easy to interpret.\n",
    "Works well for compact, well-separated clusters.\n",
    "\n",
    "Disadvantages:\n",
    "May not perform well with non-spherical clusters.\n",
    "Sensitive to noise and outliers.\n"
   ]
  },
  {
   "cell_type": "markdown",
   "metadata": {},
   "source": [
    "##### Davies-Bouldin Score: (lower score = better)"
   ]
  },
  {
   "cell_type": "markdown",
   "metadata": {},
   "source": [
    "Calculates the ratio of intra-cluster dispersion (compactness) to inter-cluster separation."
   ]
  },
  {
   "cell_type": "markdown",
   "metadata": {},
   "source": [
    "Lower values are better (indicating compact, well-separated clusters)."
   ]
  },
  {
   "cell_type": "markdown",
   "metadata": {},
   "source": [
    "Advantages:\n",
    "Better for clusters with non-spherical shapes and different densities.\n",
    "Balances both cohesion and separation.\n",
    "\n",
    "Disadvantages:\n",
    "Sensitive to the number of clusters.\n",
    "Sensitive to data scaling, so data should be standardized or normalized."
   ]
  },
  {
   "cell_type": "markdown",
   "metadata": {},
   "source": [
    "##### Finding the right number of clusters"
   ]
  },
  {
   "cell_type": "code",
   "execution_count": 209,
   "metadata": {},
   "outputs": [],
   "source": [
    "from sklearn.cluster import KMeans\n",
    "from sklearn.cluster import AgglomerativeClustering\n",
    "from sklearn.metrics import silhouette_score, davies_bouldin_score\n",
    "import plotly.express as px"
   ]
  },
  {
   "cell_type": "code",
   "execution_count": 217,
   "metadata": {},
   "outputs": [],
   "source": [
    "df_pca_40 = pd.read_csv('df_pca_40.csv')"
   ]
  },
  {
   "cell_type": "code",
   "execution_count": 218,
   "metadata": {},
   "outputs": [
    {
     "data": {
      "application/vnd.plotly.v1+json": {
       "config": {
        "plotlyServerURL": "https://plot.ly"
       },
       "data": [
        {
         "hovertemplate": "Algorithm=KMeans<br>Number of Clusters=%{x}<br>Silhouette Score=%{y}<extra></extra>",
         "legendgroup": "KMeans",
         "line": {
          "color": "#636efa",
          "dash": "solid"
         },
         "marker": {
          "symbol": "circle"
         },
         "mode": "lines",
         "name": "KMeans",
         "orientation": "v",
         "showlegend": true,
         "type": "scatter",
         "x": [
          2,
          3,
          4,
          5,
          6,
          7,
          8,
          9,
          10
         ],
         "xaxis": "x",
         "y": [
          0.043603701171080145,
          0.07999926281515735,
          0.09766980591712919,
          0.11609209112064428,
          0.10849945293921742,
          0.08366889975403062,
          0.0846237239854517,
          0.07357182478718235,
          0.06690947996001993
         ],
         "yaxis": "y"
        },
        {
         "hovertemplate": "Algorithm=Agglomerative<br>Number of Clusters=%{x}<br>Silhouette Score=%{y}<extra></extra>",
         "legendgroup": "Agglomerative",
         "line": {
          "color": "#EF553B",
          "dash": "solid"
         },
         "marker": {
          "symbol": "circle"
         },
         "mode": "lines",
         "name": "Agglomerative",
         "orientation": "v",
         "showlegend": true,
         "type": "scatter",
         "x": [
          2,
          3,
          4,
          5,
          6,
          7,
          8,
          9,
          10
         ],
         "xaxis": "x",
         "y": [
          0.05510905631497958,
          0.0681862286005213,
          0.07058563803689902,
          0.06595286152313624,
          0.06617111155346511,
          0.06566781026030281,
          0.061572351494479156,
          0.058594920600431026,
          0.05174191691861787
         ],
         "yaxis": "y"
        }
       ],
       "layout": {
        "legend": {
         "title": {
          "text": "Algorithm"
         },
         "tracegroupgap": 0
        },
        "template": {
         "data": {
          "bar": [
           {
            "error_x": {
             "color": "#2a3f5f"
            },
            "error_y": {
             "color": "#2a3f5f"
            },
            "marker": {
             "line": {
              "color": "#E5ECF6",
              "width": 0.5
             },
             "pattern": {
              "fillmode": "overlay",
              "size": 10,
              "solidity": 0.2
             }
            },
            "type": "bar"
           }
          ],
          "barpolar": [
           {
            "marker": {
             "line": {
              "color": "#E5ECF6",
              "width": 0.5
             },
             "pattern": {
              "fillmode": "overlay",
              "size": 10,
              "solidity": 0.2
             }
            },
            "type": "barpolar"
           }
          ],
          "carpet": [
           {
            "aaxis": {
             "endlinecolor": "#2a3f5f",
             "gridcolor": "white",
             "linecolor": "white",
             "minorgridcolor": "white",
             "startlinecolor": "#2a3f5f"
            },
            "baxis": {
             "endlinecolor": "#2a3f5f",
             "gridcolor": "white",
             "linecolor": "white",
             "minorgridcolor": "white",
             "startlinecolor": "#2a3f5f"
            },
            "type": "carpet"
           }
          ],
          "choropleth": [
           {
            "colorbar": {
             "outlinewidth": 0,
             "ticks": ""
            },
            "type": "choropleth"
           }
          ],
          "contour": [
           {
            "colorbar": {
             "outlinewidth": 0,
             "ticks": ""
            },
            "colorscale": [
             [
              0,
              "#0d0887"
             ],
             [
              0.1111111111111111,
              "#46039f"
             ],
             [
              0.2222222222222222,
              "#7201a8"
             ],
             [
              0.3333333333333333,
              "#9c179e"
             ],
             [
              0.4444444444444444,
              "#bd3786"
             ],
             [
              0.5555555555555556,
              "#d8576b"
             ],
             [
              0.6666666666666666,
              "#ed7953"
             ],
             [
              0.7777777777777778,
              "#fb9f3a"
             ],
             [
              0.8888888888888888,
              "#fdca26"
             ],
             [
              1,
              "#f0f921"
             ]
            ],
            "type": "contour"
           }
          ],
          "contourcarpet": [
           {
            "colorbar": {
             "outlinewidth": 0,
             "ticks": ""
            },
            "type": "contourcarpet"
           }
          ],
          "heatmap": [
           {
            "colorbar": {
             "outlinewidth": 0,
             "ticks": ""
            },
            "colorscale": [
             [
              0,
              "#0d0887"
             ],
             [
              0.1111111111111111,
              "#46039f"
             ],
             [
              0.2222222222222222,
              "#7201a8"
             ],
             [
              0.3333333333333333,
              "#9c179e"
             ],
             [
              0.4444444444444444,
              "#bd3786"
             ],
             [
              0.5555555555555556,
              "#d8576b"
             ],
             [
              0.6666666666666666,
              "#ed7953"
             ],
             [
              0.7777777777777778,
              "#fb9f3a"
             ],
             [
              0.8888888888888888,
              "#fdca26"
             ],
             [
              1,
              "#f0f921"
             ]
            ],
            "type": "heatmap"
           }
          ],
          "heatmapgl": [
           {
            "colorbar": {
             "outlinewidth": 0,
             "ticks": ""
            },
            "colorscale": [
             [
              0,
              "#0d0887"
             ],
             [
              0.1111111111111111,
              "#46039f"
             ],
             [
              0.2222222222222222,
              "#7201a8"
             ],
             [
              0.3333333333333333,
              "#9c179e"
             ],
             [
              0.4444444444444444,
              "#bd3786"
             ],
             [
              0.5555555555555556,
              "#d8576b"
             ],
             [
              0.6666666666666666,
              "#ed7953"
             ],
             [
              0.7777777777777778,
              "#fb9f3a"
             ],
             [
              0.8888888888888888,
              "#fdca26"
             ],
             [
              1,
              "#f0f921"
             ]
            ],
            "type": "heatmapgl"
           }
          ],
          "histogram": [
           {
            "marker": {
             "pattern": {
              "fillmode": "overlay",
              "size": 10,
              "solidity": 0.2
             }
            },
            "type": "histogram"
           }
          ],
          "histogram2d": [
           {
            "colorbar": {
             "outlinewidth": 0,
             "ticks": ""
            },
            "colorscale": [
             [
              0,
              "#0d0887"
             ],
             [
              0.1111111111111111,
              "#46039f"
             ],
             [
              0.2222222222222222,
              "#7201a8"
             ],
             [
              0.3333333333333333,
              "#9c179e"
             ],
             [
              0.4444444444444444,
              "#bd3786"
             ],
             [
              0.5555555555555556,
              "#d8576b"
             ],
             [
              0.6666666666666666,
              "#ed7953"
             ],
             [
              0.7777777777777778,
              "#fb9f3a"
             ],
             [
              0.8888888888888888,
              "#fdca26"
             ],
             [
              1,
              "#f0f921"
             ]
            ],
            "type": "histogram2d"
           }
          ],
          "histogram2dcontour": [
           {
            "colorbar": {
             "outlinewidth": 0,
             "ticks": ""
            },
            "colorscale": [
             [
              0,
              "#0d0887"
             ],
             [
              0.1111111111111111,
              "#46039f"
             ],
             [
              0.2222222222222222,
              "#7201a8"
             ],
             [
              0.3333333333333333,
              "#9c179e"
             ],
             [
              0.4444444444444444,
              "#bd3786"
             ],
             [
              0.5555555555555556,
              "#d8576b"
             ],
             [
              0.6666666666666666,
              "#ed7953"
             ],
             [
              0.7777777777777778,
              "#fb9f3a"
             ],
             [
              0.8888888888888888,
              "#fdca26"
             ],
             [
              1,
              "#f0f921"
             ]
            ],
            "type": "histogram2dcontour"
           }
          ],
          "mesh3d": [
           {
            "colorbar": {
             "outlinewidth": 0,
             "ticks": ""
            },
            "type": "mesh3d"
           }
          ],
          "parcoords": [
           {
            "line": {
             "colorbar": {
              "outlinewidth": 0,
              "ticks": ""
             }
            },
            "type": "parcoords"
           }
          ],
          "pie": [
           {
            "automargin": true,
            "type": "pie"
           }
          ],
          "scatter": [
           {
            "fillpattern": {
             "fillmode": "overlay",
             "size": 10,
             "solidity": 0.2
            },
            "type": "scatter"
           }
          ],
          "scatter3d": [
           {
            "line": {
             "colorbar": {
              "outlinewidth": 0,
              "ticks": ""
             }
            },
            "marker": {
             "colorbar": {
              "outlinewidth": 0,
              "ticks": ""
             }
            },
            "type": "scatter3d"
           }
          ],
          "scattercarpet": [
           {
            "marker": {
             "colorbar": {
              "outlinewidth": 0,
              "ticks": ""
             }
            },
            "type": "scattercarpet"
           }
          ],
          "scattergeo": [
           {
            "marker": {
             "colorbar": {
              "outlinewidth": 0,
              "ticks": ""
             }
            },
            "type": "scattergeo"
           }
          ],
          "scattergl": [
           {
            "marker": {
             "colorbar": {
              "outlinewidth": 0,
              "ticks": ""
             }
            },
            "type": "scattergl"
           }
          ],
          "scattermapbox": [
           {
            "marker": {
             "colorbar": {
              "outlinewidth": 0,
              "ticks": ""
             }
            },
            "type": "scattermapbox"
           }
          ],
          "scatterpolar": [
           {
            "marker": {
             "colorbar": {
              "outlinewidth": 0,
              "ticks": ""
             }
            },
            "type": "scatterpolar"
           }
          ],
          "scatterpolargl": [
           {
            "marker": {
             "colorbar": {
              "outlinewidth": 0,
              "ticks": ""
             }
            },
            "type": "scatterpolargl"
           }
          ],
          "scatterternary": [
           {
            "marker": {
             "colorbar": {
              "outlinewidth": 0,
              "ticks": ""
             }
            },
            "type": "scatterternary"
           }
          ],
          "surface": [
           {
            "colorbar": {
             "outlinewidth": 0,
             "ticks": ""
            },
            "colorscale": [
             [
              0,
              "#0d0887"
             ],
             [
              0.1111111111111111,
              "#46039f"
             ],
             [
              0.2222222222222222,
              "#7201a8"
             ],
             [
              0.3333333333333333,
              "#9c179e"
             ],
             [
              0.4444444444444444,
              "#bd3786"
             ],
             [
              0.5555555555555556,
              "#d8576b"
             ],
             [
              0.6666666666666666,
              "#ed7953"
             ],
             [
              0.7777777777777778,
              "#fb9f3a"
             ],
             [
              0.8888888888888888,
              "#fdca26"
             ],
             [
              1,
              "#f0f921"
             ]
            ],
            "type": "surface"
           }
          ],
          "table": [
           {
            "cells": {
             "fill": {
              "color": "#EBF0F8"
             },
             "line": {
              "color": "white"
             }
            },
            "header": {
             "fill": {
              "color": "#C8D4E3"
             },
             "line": {
              "color": "white"
             }
            },
            "type": "table"
           }
          ]
         },
         "layout": {
          "annotationdefaults": {
           "arrowcolor": "#2a3f5f",
           "arrowhead": 0,
           "arrowwidth": 1
          },
          "autotypenumbers": "strict",
          "coloraxis": {
           "colorbar": {
            "outlinewidth": 0,
            "ticks": ""
           }
          },
          "colorscale": {
           "diverging": [
            [
             0,
             "#8e0152"
            ],
            [
             0.1,
             "#c51b7d"
            ],
            [
             0.2,
             "#de77ae"
            ],
            [
             0.3,
             "#f1b6da"
            ],
            [
             0.4,
             "#fde0ef"
            ],
            [
             0.5,
             "#f7f7f7"
            ],
            [
             0.6,
             "#e6f5d0"
            ],
            [
             0.7,
             "#b8e186"
            ],
            [
             0.8,
             "#7fbc41"
            ],
            [
             0.9,
             "#4d9221"
            ],
            [
             1,
             "#276419"
            ]
           ],
           "sequential": [
            [
             0,
             "#0d0887"
            ],
            [
             0.1111111111111111,
             "#46039f"
            ],
            [
             0.2222222222222222,
             "#7201a8"
            ],
            [
             0.3333333333333333,
             "#9c179e"
            ],
            [
             0.4444444444444444,
             "#bd3786"
            ],
            [
             0.5555555555555556,
             "#d8576b"
            ],
            [
             0.6666666666666666,
             "#ed7953"
            ],
            [
             0.7777777777777778,
             "#fb9f3a"
            ],
            [
             0.8888888888888888,
             "#fdca26"
            ],
            [
             1,
             "#f0f921"
            ]
           ],
           "sequentialminus": [
            [
             0,
             "#0d0887"
            ],
            [
             0.1111111111111111,
             "#46039f"
            ],
            [
             0.2222222222222222,
             "#7201a8"
            ],
            [
             0.3333333333333333,
             "#9c179e"
            ],
            [
             0.4444444444444444,
             "#bd3786"
            ],
            [
             0.5555555555555556,
             "#d8576b"
            ],
            [
             0.6666666666666666,
             "#ed7953"
            ],
            [
             0.7777777777777778,
             "#fb9f3a"
            ],
            [
             0.8888888888888888,
             "#fdca26"
            ],
            [
             1,
             "#f0f921"
            ]
           ]
          },
          "colorway": [
           "#636efa",
           "#EF553B",
           "#00cc96",
           "#ab63fa",
           "#FFA15A",
           "#19d3f3",
           "#FF6692",
           "#B6E880",
           "#FF97FF",
           "#FECB52"
          ],
          "font": {
           "color": "#2a3f5f"
          },
          "geo": {
           "bgcolor": "white",
           "lakecolor": "white",
           "landcolor": "#E5ECF6",
           "showlakes": true,
           "showland": true,
           "subunitcolor": "white"
          },
          "hoverlabel": {
           "align": "left"
          },
          "hovermode": "closest",
          "mapbox": {
           "style": "light"
          },
          "paper_bgcolor": "white",
          "plot_bgcolor": "#E5ECF6",
          "polar": {
           "angularaxis": {
            "gridcolor": "white",
            "linecolor": "white",
            "ticks": ""
           },
           "bgcolor": "#E5ECF6",
           "radialaxis": {
            "gridcolor": "white",
            "linecolor": "white",
            "ticks": ""
           }
          },
          "scene": {
           "xaxis": {
            "backgroundcolor": "#E5ECF6",
            "gridcolor": "white",
            "gridwidth": 2,
            "linecolor": "white",
            "showbackground": true,
            "ticks": "",
            "zerolinecolor": "white"
           },
           "yaxis": {
            "backgroundcolor": "#E5ECF6",
            "gridcolor": "white",
            "gridwidth": 2,
            "linecolor": "white",
            "showbackground": true,
            "ticks": "",
            "zerolinecolor": "white"
           },
           "zaxis": {
            "backgroundcolor": "#E5ECF6",
            "gridcolor": "white",
            "gridwidth": 2,
            "linecolor": "white",
            "showbackground": true,
            "ticks": "",
            "zerolinecolor": "white"
           }
          },
          "shapedefaults": {
           "line": {
            "color": "#2a3f5f"
           }
          },
          "ternary": {
           "aaxis": {
            "gridcolor": "white",
            "linecolor": "white",
            "ticks": ""
           },
           "baxis": {
            "gridcolor": "white",
            "linecolor": "white",
            "ticks": ""
           },
           "bgcolor": "#E5ECF6",
           "caxis": {
            "gridcolor": "white",
            "linecolor": "white",
            "ticks": ""
           }
          },
          "title": {
           "x": 0.05
          },
          "xaxis": {
           "automargin": true,
           "gridcolor": "white",
           "linecolor": "white",
           "ticks": "",
           "title": {
            "standoff": 15
           },
           "zerolinecolor": "white",
           "zerolinewidth": 2
          },
          "yaxis": {
           "automargin": true,
           "gridcolor": "white",
           "linecolor": "white",
           "ticks": "",
           "title": {
            "standoff": 15
           },
           "zerolinecolor": "white",
           "zerolinewidth": 2
          }
         }
        },
        "title": {
         "text": "Silhouette Score vs Number of Clusters"
        },
        "xaxis": {
         "anchor": "y",
         "domain": [
          0,
          1
         ],
         "title": {
          "text": "Number of Clusters"
         }
        },
        "yaxis": {
         "anchor": "x",
         "domain": [
          0,
          1
         ],
         "title": {
          "text": "Silhouette Score"
         }
        }
       }
      }
     },
     "metadata": {},
     "output_type": "display_data"
    },
    {
     "data": {
      "application/vnd.plotly.v1+json": {
       "config": {
        "plotlyServerURL": "https://plot.ly"
       },
       "data": [
        {
         "hovertemplate": "Algorithm=KMeans<br>Number of Clusters=%{x}<br>Davies-Bouldin Score=%{y}<extra></extra>",
         "legendgroup": "KMeans",
         "line": {
          "color": "#636efa",
          "dash": "solid"
         },
         "marker": {
          "symbol": "circle"
         },
         "mode": "lines",
         "name": "KMeans",
         "orientation": "v",
         "showlegend": true,
         "type": "scatter",
         "x": [
          2,
          3,
          4,
          5,
          6,
          7,
          8,
          9,
          10
         ],
         "xaxis": "x",
         "y": [
          4.24565998941649,
          3.1599184956000173,
          3.0684966519573607,
          2.6493512468381994,
          2.5825617424989766,
          2.7476263761768656,
          2.854367935519565,
          3.034763010858033,
          2.652531463066214
         ],
         "yaxis": "y"
        },
        {
         "hovertemplate": "Algorithm=Agglomerative<br>Number of Clusters=%{x}<br>Davies-Bouldin Score=%{y}<extra></extra>",
         "legendgroup": "Agglomerative",
         "line": {
          "color": "#EF553B",
          "dash": "solid"
         },
         "marker": {
          "symbol": "circle"
         },
         "mode": "lines",
         "name": "Agglomerative",
         "orientation": "v",
         "showlegend": true,
         "type": "scatter",
         "x": [
          2,
          3,
          4,
          5,
          6,
          7,
          8,
          9,
          10
         ],
         "xaxis": "x",
         "y": [
          3.2128143516387597,
          3.121247608514013,
          3.208622028861521,
          3.2990094924227096,
          3.467110238497535,
          3.3147311301599367,
          3.1533906556976516,
          3.0552437061159776,
          2.9394856162790637
         ],
         "yaxis": "y"
        }
       ],
       "layout": {
        "legend": {
         "title": {
          "text": "Algorithm"
         },
         "tracegroupgap": 0
        },
        "template": {
         "data": {
          "bar": [
           {
            "error_x": {
             "color": "#2a3f5f"
            },
            "error_y": {
             "color": "#2a3f5f"
            },
            "marker": {
             "line": {
              "color": "#E5ECF6",
              "width": 0.5
             },
             "pattern": {
              "fillmode": "overlay",
              "size": 10,
              "solidity": 0.2
             }
            },
            "type": "bar"
           }
          ],
          "barpolar": [
           {
            "marker": {
             "line": {
              "color": "#E5ECF6",
              "width": 0.5
             },
             "pattern": {
              "fillmode": "overlay",
              "size": 10,
              "solidity": 0.2
             }
            },
            "type": "barpolar"
           }
          ],
          "carpet": [
           {
            "aaxis": {
             "endlinecolor": "#2a3f5f",
             "gridcolor": "white",
             "linecolor": "white",
             "minorgridcolor": "white",
             "startlinecolor": "#2a3f5f"
            },
            "baxis": {
             "endlinecolor": "#2a3f5f",
             "gridcolor": "white",
             "linecolor": "white",
             "minorgridcolor": "white",
             "startlinecolor": "#2a3f5f"
            },
            "type": "carpet"
           }
          ],
          "choropleth": [
           {
            "colorbar": {
             "outlinewidth": 0,
             "ticks": ""
            },
            "type": "choropleth"
           }
          ],
          "contour": [
           {
            "colorbar": {
             "outlinewidth": 0,
             "ticks": ""
            },
            "colorscale": [
             [
              0,
              "#0d0887"
             ],
             [
              0.1111111111111111,
              "#46039f"
             ],
             [
              0.2222222222222222,
              "#7201a8"
             ],
             [
              0.3333333333333333,
              "#9c179e"
             ],
             [
              0.4444444444444444,
              "#bd3786"
             ],
             [
              0.5555555555555556,
              "#d8576b"
             ],
             [
              0.6666666666666666,
              "#ed7953"
             ],
             [
              0.7777777777777778,
              "#fb9f3a"
             ],
             [
              0.8888888888888888,
              "#fdca26"
             ],
             [
              1,
              "#f0f921"
             ]
            ],
            "type": "contour"
           }
          ],
          "contourcarpet": [
           {
            "colorbar": {
             "outlinewidth": 0,
             "ticks": ""
            },
            "type": "contourcarpet"
           }
          ],
          "heatmap": [
           {
            "colorbar": {
             "outlinewidth": 0,
             "ticks": ""
            },
            "colorscale": [
             [
              0,
              "#0d0887"
             ],
             [
              0.1111111111111111,
              "#46039f"
             ],
             [
              0.2222222222222222,
              "#7201a8"
             ],
             [
              0.3333333333333333,
              "#9c179e"
             ],
             [
              0.4444444444444444,
              "#bd3786"
             ],
             [
              0.5555555555555556,
              "#d8576b"
             ],
             [
              0.6666666666666666,
              "#ed7953"
             ],
             [
              0.7777777777777778,
              "#fb9f3a"
             ],
             [
              0.8888888888888888,
              "#fdca26"
             ],
             [
              1,
              "#f0f921"
             ]
            ],
            "type": "heatmap"
           }
          ],
          "heatmapgl": [
           {
            "colorbar": {
             "outlinewidth": 0,
             "ticks": ""
            },
            "colorscale": [
             [
              0,
              "#0d0887"
             ],
             [
              0.1111111111111111,
              "#46039f"
             ],
             [
              0.2222222222222222,
              "#7201a8"
             ],
             [
              0.3333333333333333,
              "#9c179e"
             ],
             [
              0.4444444444444444,
              "#bd3786"
             ],
             [
              0.5555555555555556,
              "#d8576b"
             ],
             [
              0.6666666666666666,
              "#ed7953"
             ],
             [
              0.7777777777777778,
              "#fb9f3a"
             ],
             [
              0.8888888888888888,
              "#fdca26"
             ],
             [
              1,
              "#f0f921"
             ]
            ],
            "type": "heatmapgl"
           }
          ],
          "histogram": [
           {
            "marker": {
             "pattern": {
              "fillmode": "overlay",
              "size": 10,
              "solidity": 0.2
             }
            },
            "type": "histogram"
           }
          ],
          "histogram2d": [
           {
            "colorbar": {
             "outlinewidth": 0,
             "ticks": ""
            },
            "colorscale": [
             [
              0,
              "#0d0887"
             ],
             [
              0.1111111111111111,
              "#46039f"
             ],
             [
              0.2222222222222222,
              "#7201a8"
             ],
             [
              0.3333333333333333,
              "#9c179e"
             ],
             [
              0.4444444444444444,
              "#bd3786"
             ],
             [
              0.5555555555555556,
              "#d8576b"
             ],
             [
              0.6666666666666666,
              "#ed7953"
             ],
             [
              0.7777777777777778,
              "#fb9f3a"
             ],
             [
              0.8888888888888888,
              "#fdca26"
             ],
             [
              1,
              "#f0f921"
             ]
            ],
            "type": "histogram2d"
           }
          ],
          "histogram2dcontour": [
           {
            "colorbar": {
             "outlinewidth": 0,
             "ticks": ""
            },
            "colorscale": [
             [
              0,
              "#0d0887"
             ],
             [
              0.1111111111111111,
              "#46039f"
             ],
             [
              0.2222222222222222,
              "#7201a8"
             ],
             [
              0.3333333333333333,
              "#9c179e"
             ],
             [
              0.4444444444444444,
              "#bd3786"
             ],
             [
              0.5555555555555556,
              "#d8576b"
             ],
             [
              0.6666666666666666,
              "#ed7953"
             ],
             [
              0.7777777777777778,
              "#fb9f3a"
             ],
             [
              0.8888888888888888,
              "#fdca26"
             ],
             [
              1,
              "#f0f921"
             ]
            ],
            "type": "histogram2dcontour"
           }
          ],
          "mesh3d": [
           {
            "colorbar": {
             "outlinewidth": 0,
             "ticks": ""
            },
            "type": "mesh3d"
           }
          ],
          "parcoords": [
           {
            "line": {
             "colorbar": {
              "outlinewidth": 0,
              "ticks": ""
             }
            },
            "type": "parcoords"
           }
          ],
          "pie": [
           {
            "automargin": true,
            "type": "pie"
           }
          ],
          "scatter": [
           {
            "fillpattern": {
             "fillmode": "overlay",
             "size": 10,
             "solidity": 0.2
            },
            "type": "scatter"
           }
          ],
          "scatter3d": [
           {
            "line": {
             "colorbar": {
              "outlinewidth": 0,
              "ticks": ""
             }
            },
            "marker": {
             "colorbar": {
              "outlinewidth": 0,
              "ticks": ""
             }
            },
            "type": "scatter3d"
           }
          ],
          "scattercarpet": [
           {
            "marker": {
             "colorbar": {
              "outlinewidth": 0,
              "ticks": ""
             }
            },
            "type": "scattercarpet"
           }
          ],
          "scattergeo": [
           {
            "marker": {
             "colorbar": {
              "outlinewidth": 0,
              "ticks": ""
             }
            },
            "type": "scattergeo"
           }
          ],
          "scattergl": [
           {
            "marker": {
             "colorbar": {
              "outlinewidth": 0,
              "ticks": ""
             }
            },
            "type": "scattergl"
           }
          ],
          "scattermapbox": [
           {
            "marker": {
             "colorbar": {
              "outlinewidth": 0,
              "ticks": ""
             }
            },
            "type": "scattermapbox"
           }
          ],
          "scatterpolar": [
           {
            "marker": {
             "colorbar": {
              "outlinewidth": 0,
              "ticks": ""
             }
            },
            "type": "scatterpolar"
           }
          ],
          "scatterpolargl": [
           {
            "marker": {
             "colorbar": {
              "outlinewidth": 0,
              "ticks": ""
             }
            },
            "type": "scatterpolargl"
           }
          ],
          "scatterternary": [
           {
            "marker": {
             "colorbar": {
              "outlinewidth": 0,
              "ticks": ""
             }
            },
            "type": "scatterternary"
           }
          ],
          "surface": [
           {
            "colorbar": {
             "outlinewidth": 0,
             "ticks": ""
            },
            "colorscale": [
             [
              0,
              "#0d0887"
             ],
             [
              0.1111111111111111,
              "#46039f"
             ],
             [
              0.2222222222222222,
              "#7201a8"
             ],
             [
              0.3333333333333333,
              "#9c179e"
             ],
             [
              0.4444444444444444,
              "#bd3786"
             ],
             [
              0.5555555555555556,
              "#d8576b"
             ],
             [
              0.6666666666666666,
              "#ed7953"
             ],
             [
              0.7777777777777778,
              "#fb9f3a"
             ],
             [
              0.8888888888888888,
              "#fdca26"
             ],
             [
              1,
              "#f0f921"
             ]
            ],
            "type": "surface"
           }
          ],
          "table": [
           {
            "cells": {
             "fill": {
              "color": "#EBF0F8"
             },
             "line": {
              "color": "white"
             }
            },
            "header": {
             "fill": {
              "color": "#C8D4E3"
             },
             "line": {
              "color": "white"
             }
            },
            "type": "table"
           }
          ]
         },
         "layout": {
          "annotationdefaults": {
           "arrowcolor": "#2a3f5f",
           "arrowhead": 0,
           "arrowwidth": 1
          },
          "autotypenumbers": "strict",
          "coloraxis": {
           "colorbar": {
            "outlinewidth": 0,
            "ticks": ""
           }
          },
          "colorscale": {
           "diverging": [
            [
             0,
             "#8e0152"
            ],
            [
             0.1,
             "#c51b7d"
            ],
            [
             0.2,
             "#de77ae"
            ],
            [
             0.3,
             "#f1b6da"
            ],
            [
             0.4,
             "#fde0ef"
            ],
            [
             0.5,
             "#f7f7f7"
            ],
            [
             0.6,
             "#e6f5d0"
            ],
            [
             0.7,
             "#b8e186"
            ],
            [
             0.8,
             "#7fbc41"
            ],
            [
             0.9,
             "#4d9221"
            ],
            [
             1,
             "#276419"
            ]
           ],
           "sequential": [
            [
             0,
             "#0d0887"
            ],
            [
             0.1111111111111111,
             "#46039f"
            ],
            [
             0.2222222222222222,
             "#7201a8"
            ],
            [
             0.3333333333333333,
             "#9c179e"
            ],
            [
             0.4444444444444444,
             "#bd3786"
            ],
            [
             0.5555555555555556,
             "#d8576b"
            ],
            [
             0.6666666666666666,
             "#ed7953"
            ],
            [
             0.7777777777777778,
             "#fb9f3a"
            ],
            [
             0.8888888888888888,
             "#fdca26"
            ],
            [
             1,
             "#f0f921"
            ]
           ],
           "sequentialminus": [
            [
             0,
             "#0d0887"
            ],
            [
             0.1111111111111111,
             "#46039f"
            ],
            [
             0.2222222222222222,
             "#7201a8"
            ],
            [
             0.3333333333333333,
             "#9c179e"
            ],
            [
             0.4444444444444444,
             "#bd3786"
            ],
            [
             0.5555555555555556,
             "#d8576b"
            ],
            [
             0.6666666666666666,
             "#ed7953"
            ],
            [
             0.7777777777777778,
             "#fb9f3a"
            ],
            [
             0.8888888888888888,
             "#fdca26"
            ],
            [
             1,
             "#f0f921"
            ]
           ]
          },
          "colorway": [
           "#636efa",
           "#EF553B",
           "#00cc96",
           "#ab63fa",
           "#FFA15A",
           "#19d3f3",
           "#FF6692",
           "#B6E880",
           "#FF97FF",
           "#FECB52"
          ],
          "font": {
           "color": "#2a3f5f"
          },
          "geo": {
           "bgcolor": "white",
           "lakecolor": "white",
           "landcolor": "#E5ECF6",
           "showlakes": true,
           "showland": true,
           "subunitcolor": "white"
          },
          "hoverlabel": {
           "align": "left"
          },
          "hovermode": "closest",
          "mapbox": {
           "style": "light"
          },
          "paper_bgcolor": "white",
          "plot_bgcolor": "#E5ECF6",
          "polar": {
           "angularaxis": {
            "gridcolor": "white",
            "linecolor": "white",
            "ticks": ""
           },
           "bgcolor": "#E5ECF6",
           "radialaxis": {
            "gridcolor": "white",
            "linecolor": "white",
            "ticks": ""
           }
          },
          "scene": {
           "xaxis": {
            "backgroundcolor": "#E5ECF6",
            "gridcolor": "white",
            "gridwidth": 2,
            "linecolor": "white",
            "showbackground": true,
            "ticks": "",
            "zerolinecolor": "white"
           },
           "yaxis": {
            "backgroundcolor": "#E5ECF6",
            "gridcolor": "white",
            "gridwidth": 2,
            "linecolor": "white",
            "showbackground": true,
            "ticks": "",
            "zerolinecolor": "white"
           },
           "zaxis": {
            "backgroundcolor": "#E5ECF6",
            "gridcolor": "white",
            "gridwidth": 2,
            "linecolor": "white",
            "showbackground": true,
            "ticks": "",
            "zerolinecolor": "white"
           }
          },
          "shapedefaults": {
           "line": {
            "color": "#2a3f5f"
           }
          },
          "ternary": {
           "aaxis": {
            "gridcolor": "white",
            "linecolor": "white",
            "ticks": ""
           },
           "baxis": {
            "gridcolor": "white",
            "linecolor": "white",
            "ticks": ""
           },
           "bgcolor": "#E5ECF6",
           "caxis": {
            "gridcolor": "white",
            "linecolor": "white",
            "ticks": ""
           }
          },
          "title": {
           "x": 0.05
          },
          "xaxis": {
           "automargin": true,
           "gridcolor": "white",
           "linecolor": "white",
           "ticks": "",
           "title": {
            "standoff": 15
           },
           "zerolinecolor": "white",
           "zerolinewidth": 2
          },
          "yaxis": {
           "automargin": true,
           "gridcolor": "white",
           "linecolor": "white",
           "ticks": "",
           "title": {
            "standoff": 15
           },
           "zerolinecolor": "white",
           "zerolinewidth": 2
          }
         }
        },
        "title": {
         "text": "Davies-Bouldin Score vs Number of Clusters"
        },
        "xaxis": {
         "anchor": "y",
         "domain": [
          0,
          1
         ],
         "title": {
          "text": "Number of Clusters"
         }
        },
        "yaxis": {
         "anchor": "x",
         "domain": [
          0,
          1
         ],
         "title": {
          "text": "Davies-Bouldin Score"
         }
        }
       }
      }
     },
     "metadata": {},
     "output_type": "display_data"
    }
   ],
   "source": [
    "# Create lists to store the results for both clustering algorithms and metrics\n",
    "silhouette_results = []\n",
    "davies_bouldin_results = []\n",
    "cluster_numbers = []\n",
    "\n",
    "# Number of clusters to test (from 2 to 10 for example)\n",
    "cluster_range = range(2, 11)\n",
    "\n",
    "# Loop through both KMeans and Agglomerative Clustering\n",
    "for algorithm in ['KMeans', 'Agglomerative']:\n",
    "    for n_clusters in cluster_range:\n",
    "        \n",
    "        # Fit the selected clustering algorithm\n",
    "        if algorithm == 'KMeans':\n",
    "            model = KMeans(n_clusters=n_clusters)\n",
    "        elif algorithm == 'Agglomerative':\n",
    "            model = AgglomerativeClustering(n_clusters=n_clusters)\n",
    "        \n",
    "        # Fit the model to the PCA data (assumed PCA data in df_pca)\n",
    "        model.fit(df_pca_40)\n",
    "        \n",
    "        # Get the predicted labels (clusters)\n",
    "        labels = model.labels_\n",
    "        \n",
    "        # Compute the evaluation metrics\n",
    "        silhouette = silhouette_score(df_pca_40, labels)\n",
    "        davies_bouldin = davies_bouldin_score(df_pca_40, labels)\n",
    "        \n",
    "        # Store the results for plotting\n",
    "        silhouette_results.append(silhouette)\n",
    "        davies_bouldin_results.append(davies_bouldin)\n",
    "        cluster_numbers.append(n_clusters)\n",
    "\n",
    "# Create a DataFrame for the results\n",
    "results_df = pd.DataFrame({\n",
    "    'Cluster Number': cluster_numbers,\n",
    "    'Silhouette Score': silhouette_results,\n",
    "    'Davies-Bouldin Score': davies_bouldin_results,\n",
    "    'Algorithm': ['KMeans']*len(cluster_range) + ['Agglomerative']*len(cluster_range)\n",
    "})\n",
    "\n",
    "# Plotting the results using Plotly Express\n",
    "fig = px.line(results_df, x='Cluster Number', y='Silhouette Score', color='Algorithm', \n",
    "              title=\"Silhouette Score vs Number of Clusters\", labels={'Silhouette Score': 'Silhouette Score', 'Cluster Number': 'Number of Clusters'})\n",
    "\n",
    "fig.show()\n",
    "\n",
    "# Plotting the Davies-Bouldin Score using Plotly Express\n",
    "fig2 = px.line(results_df, x='Cluster Number', y='Davies-Bouldin Score', color='Algorithm', \n",
    "               title=\"Davies-Bouldin Score vs Number of Clusters\", labels={'Davies-Bouldin Score': 'Davies-Bouldin Score', 'Cluster Number': 'Number of Clusters'})\n",
    "\n",
    "fig2.show()\n"
   ]
  },
  {
   "cell_type": "markdown",
   "metadata": {},
   "source": [
    "Based on both of these charts and evaluation metrics, the optimum number of clusters seem to be 5."
   ]
  },
  {
   "cell_type": "markdown",
   "metadata": {},
   "source": [
    "### Choosing Clustering Algorithm"
   ]
  },
  {
   "cell_type": "markdown",
   "metadata": {},
   "source": [
    "#### Choosing Between Agglomerative Clustering and KMeans"
   ]
  },
  {
   "cell_type": "markdown",
   "metadata": {},
   "source": [
    "depends on the characteristics of your data and the goals of your analysis."
   ]
  },
  {
   "cell_type": "markdown",
   "metadata": {},
   "source": [
    "##### **KMeans Clustering**"
   ]
  },
  {
   "cell_type": "markdown",
   "metadata": {},
   "source": [
    "**Best For**:\n",
    "- **Spherical/Globular Clusters**: KMeans assumes that clusters are **spherical** and of roughly equal size. If data is organized in this way (i.e., clusters that are well-separated and round), KMeans will likely perform well.\n",
    "- **Scalability**: KMeans is faster for large datasets, especially if you have many data points. It has **O(n * k)** complexity, where **n** is the number of data points and **k** is the number of clusters.\n",
    "- **Well-Defined Cluster Centers**: KMeans is useful when you're interested in finding the **centroids** or **centers** of your clusters, as the algorithm explicitly calculates the center of each cluster.\n",
    "\n",
    "**Advantages**:\n",
    "- Fast and efficient, especially with large datasets.\n",
    "- Works well with **compact** and **globular clusters**.\n",
    "- Simple to understand and implement.\n",
    "\n",
    "**Disadvantages**:\n",
    "- Assumes clusters are **spherical** and **of equal size** (may struggle with non-spherical clusters or clusters with varying densities).\n",
    "- Sensitive to **initialization** of cluster centroids (can result in different results each time).\n",
    "- The number of clusters **k** must be specified in advance, which can be challenging without domain knowledge."
   ]
  },
  {
   "cell_type": "markdown",
   "metadata": {},
   "source": [
    "##### **Agglomerative Clustering** (Hierarchical)"
   ]
  },
  {
   "cell_type": "markdown",
   "metadata": {},
   "source": [
    "**Best For**:\n",
    "- **Non-Spherical Clusters**: Agglomerative Clustering does not assume a specific shape for the clusters, so it works well for **non-spherical clusters** with complex shapes.\n",
    "- **Dendrogram Visualization**: If you're interested in visualizing the **hierarchical structure** of the data, Agglomerative Clustering can produce a **dendrogram**, which helps understand the relationships between clusters at various levels of granularity.\n",
    "- **Unequal Cluster Sizes**: Unlike KMeans, Agglomerative Clustering does not assume that the clusters are the same size or density, making it more suitable for datasets with **heterogeneous clusters**.\n",
    "\n",
    "**Advantages**:\n",
    "- Works well for **non-spherical clusters** or clusters with varying sizes and densities.\n",
    "- Produces a **dendrogram**, which can be useful for exploring the hierarchy of data and making decisions about the number of clusters.\n",
    "- Does not require specifying the number of clusters in advance (though it’s still often useful to do so after inspecting the dendrogram).\n",
    "\n",
    "**Disadvantages**:\n",
    "- **Computationally expensive** for large datasets, especially when you have a lot of data points (O(n²) complexity).\n",
    "- Can be slower than KMeans for large datasets.\n",
    "- More complex and harder to interpret in some cases."
   ]
  },
  {
   "cell_type": "markdown",
   "metadata": {},
   "source": [
    "\n",
    "##### **When to Use KMeans**:\n",
    "- **Data is large**, and you need an **efficient clustering algorithm**.\n",
    "- You expect **globular clusters** that are well-separated.\n",
    "- You need to define **cluster centroids** for each cluster.\n",
    "- You’re working with **structured and well-distributed** data, where clusters are approximately the same size and shape.\n",
    "\n",
    "##### **When to Use Agglomerative Clustering**:\n",
    "- You suspect the clusters are **non-spherical**, **differently shaped**, or have **different densities**.\n",
    "- You want to create a **dendrogram** to understand the hierarchy and explore various levels of clustering.\n",
    "- You don’t know how many clusters are present, but you can explore different cluster numbers based on the dendrogram.\n",
    "\n",
    "##### **Summary**:\n",
    "- **Choose KMeans** if your data is large and you expect well-separated, spherical clusters.\n",
    "- **Choose Agglomerative Clustering** if your data has more complex or non-spherical cluster shapes or if you want to explore the hierarchical relationships between clusters."
   ]
  },
  {
   "cell_type": "markdown",
   "metadata": {},
   "source": [
    "#### Agglomerative Clustering"
   ]
  },
  {
   "cell_type": "markdown",
   "metadata": {},
   "source": [
    "This is chosen because it is assumed that dating profiles have complex, non-spherical cluster shapes."
   ]
  },
  {
   "cell_type": "code",
   "execution_count": 229,
   "metadata": {},
   "outputs": [],
   "source": [
    "df_pca_40 = pd.read_csv('df_pca_40.csv')"
   ]
  },
  {
   "cell_type": "code",
   "execution_count": 230,
   "metadata": {},
   "outputs": [],
   "source": [
    "df_profiles = pd.read_csv('random_chulalongkorn_profiles.csv')"
   ]
  },
  {
   "cell_type": "code",
   "execution_count": 231,
   "metadata": {},
   "outputs": [
    {
     "data": {
      "text/html": [
       "<div>\n",
       "<style scoped>\n",
       "    .dataframe tbody tr th:only-of-type {\n",
       "        vertical-align: middle;\n",
       "    }\n",
       "\n",
       "    .dataframe tbody tr th {\n",
       "        vertical-align: top;\n",
       "    }\n",
       "\n",
       "    .dataframe thead th {\n",
       "        text-align: right;\n",
       "    }\n",
       "</style>\n",
       "<table border=\"1\" class=\"dataframe\">\n",
       "  <thead>\n",
       "    <tr style=\"text-align: right;\">\n",
       "      <th></th>\n",
       "      <th>BirthDate</th>\n",
       "      <th>Gender</th>\n",
       "      <th>PreferredGender</th>\n",
       "      <th>LookingFor</th>\n",
       "      <th>Faculty</th>\n",
       "      <th>PersonalTraits</th>\n",
       "      <th>Interests</th>\n",
       "      <th>Values</th>\n",
       "      <th>Bio</th>\n",
       "    </tr>\n",
       "  </thead>\n",
       "  <tbody>\n",
       "    <tr>\n",
       "      <th>0</th>\n",
       "      <td>2006-02-18</td>\n",
       "      <td>f</td>\n",
       "      <td>others</td>\n",
       "      <td>new friends</td>\n",
       "      <td>Engineering</td>\n",
       "      <td>adventurous, shy</td>\n",
       "      <td>traveling, technology</td>\n",
       "      <td>spirituality, empathy, responsibility</td>\n",
       "      <td>I make the best coffee in town. Don't @ me. No...</td>\n",
       "    </tr>\n",
       "    <tr>\n",
       "      <th>1</th>\n",
       "      <td>2002-08-29</td>\n",
       "      <td>m</td>\n",
       "      <td>m</td>\n",
       "      <td>still figuring it out</td>\n",
       "      <td>Arts</td>\n",
       "      <td>curious, shy, ambitious</td>\n",
       "      <td>technology, photography</td>\n",
       "      <td>respect, independence</td>\n",
       "      <td>I’ve got a collection of 90’s comic books. I'm...</td>\n",
       "    </tr>\n",
       "    <tr>\n",
       "      <th>2</th>\n",
       "      <td>1999-08-11</td>\n",
       "      <td>others</td>\n",
       "      <td>f</td>\n",
       "      <td>new friends</td>\n",
       "      <td>Business</td>\n",
       "      <td>shy, creative, thoughtful</td>\n",
       "      <td>sports, cooking, technology</td>\n",
       "      <td>independence, loyalty</td>\n",
       "      <td>I can speak three languages, and one of them i...</td>\n",
       "    </tr>\n",
       "    <tr>\n",
       "      <th>3</th>\n",
       "      <td>1995-06-21</td>\n",
       "      <td>m</td>\n",
       "      <td>any</td>\n",
       "      <td>long-term partner</td>\n",
       "      <td>Law</td>\n",
       "      <td>outgoing, ambitious, adventurous</td>\n",
       "      <td>fashion, photography</td>\n",
       "      <td>loyalty, respect, spirituality</td>\n",
       "      <td>I’ve got a collection of 90’s comic books. I e...</td>\n",
       "    </tr>\n",
       "    <tr>\n",
       "      <th>4</th>\n",
       "      <td>1995-05-05</td>\n",
       "      <td>f</td>\n",
       "      <td>f</td>\n",
       "      <td>short-term but long-term OK</td>\n",
       "      <td>Architecture</td>\n",
       "      <td>creative</td>\n",
       "      <td>reading, fashion, traveling</td>\n",
       "      <td>responsibility, loyalty</td>\n",
       "      <td>I’ve got a collection of 90’s comic books. I'm...</td>\n",
       "    </tr>\n",
       "  </tbody>\n",
       "</table>\n",
       "</div>"
      ],
      "text/plain": [
       "    BirthDate  Gender PreferredGender                   LookingFor  \\\n",
       "0  2006-02-18       f          others                  new friends   \n",
       "1  2002-08-29       m               m        still figuring it out   \n",
       "2  1999-08-11  others               f                  new friends   \n",
       "3  1995-06-21       m             any            long-term partner   \n",
       "4  1995-05-05       f               f  short-term but long-term OK   \n",
       "\n",
       "        Faculty                    PersonalTraits  \\\n",
       "0   Engineering                  adventurous, shy   \n",
       "1          Arts           curious, shy, ambitious   \n",
       "2      Business         shy, creative, thoughtful   \n",
       "3           Law  outgoing, ambitious, adventurous   \n",
       "4  Architecture                          creative   \n",
       "\n",
       "                     Interests                                 Values  \\\n",
       "0        traveling, technology  spirituality, empathy, responsibility   \n",
       "1      technology, photography                  respect, independence   \n",
       "2  sports, cooking, technology                  independence, loyalty   \n",
       "3         fashion, photography         loyalty, respect, spirituality   \n",
       "4  reading, fashion, traveling                responsibility, loyalty   \n",
       "\n",
       "                                                 Bio  \n",
       "0  I make the best coffee in town. Don't @ me. No...  \n",
       "1  I’ve got a collection of 90’s comic books. I'm...  \n",
       "2  I can speak three languages, and one of them i...  \n",
       "3  I’ve got a collection of 90’s comic books. I e...  \n",
       "4  I’ve got a collection of 90’s comic books. I'm...  "
      ]
     },
     "execution_count": 231,
     "metadata": {},
     "output_type": "execute_result"
    }
   ],
   "source": [
    "df_profiles.head()"
   ]
  },
  {
   "cell_type": "code",
   "execution_count": 232,
   "metadata": {},
   "outputs": [],
   "source": [
    "# Instantiating HAC\n",
    "hac = AgglomerativeClustering(n_clusters=5)\n",
    "\n",
    "# Fitting\n",
    "hac.fit(df_pca_40)\n",
    "\n",
    "# Assigning clusters\n",
    "cluster_assignments = hac.labels_"
   ]
  },
  {
   "cell_type": "code",
   "execution_count": 233,
   "metadata": {},
   "outputs": [
    {
     "data": {
      "text/plain": [
       "array([1, 1, 0, ..., 2, 0, 3])"
      ]
     },
     "execution_count": 233,
     "metadata": {},
     "output_type": "execute_result"
    }
   ],
   "source": [
    "cluster_assignments"
   ]
  },
  {
   "cell_type": "code",
   "execution_count": 234,
   "metadata": {},
   "outputs": [],
   "source": [
    "# Assigning the clusters to each profile\n",
    "df_profiles['Cluster'] = cluster_assignments"
   ]
  },
  {
   "cell_type": "code",
   "execution_count": 235,
   "metadata": {},
   "outputs": [
    {
     "data": {
      "text/html": [
       "<div>\n",
       "<style scoped>\n",
       "    .dataframe tbody tr th:only-of-type {\n",
       "        vertical-align: middle;\n",
       "    }\n",
       "\n",
       "    .dataframe tbody tr th {\n",
       "        vertical-align: top;\n",
       "    }\n",
       "\n",
       "    .dataframe thead th {\n",
       "        text-align: right;\n",
       "    }\n",
       "</style>\n",
       "<table border=\"1\" class=\"dataframe\">\n",
       "  <thead>\n",
       "    <tr style=\"text-align: right;\">\n",
       "      <th></th>\n",
       "      <th>BirthDate</th>\n",
       "      <th>Gender</th>\n",
       "      <th>PreferredGender</th>\n",
       "      <th>LookingFor</th>\n",
       "      <th>Faculty</th>\n",
       "      <th>PersonalTraits</th>\n",
       "      <th>Interests</th>\n",
       "      <th>Values</th>\n",
       "      <th>Bio</th>\n",
       "      <th>Cluster</th>\n",
       "    </tr>\n",
       "  </thead>\n",
       "  <tbody>\n",
       "    <tr>\n",
       "      <th>0</th>\n",
       "      <td>2006-02-18</td>\n",
       "      <td>f</td>\n",
       "      <td>others</td>\n",
       "      <td>new friends</td>\n",
       "      <td>Engineering</td>\n",
       "      <td>adventurous, shy</td>\n",
       "      <td>traveling, technology</td>\n",
       "      <td>spirituality, empathy, responsibility</td>\n",
       "      <td>I make the best coffee in town. Don't @ me. No...</td>\n",
       "      <td>1</td>\n",
       "    </tr>\n",
       "    <tr>\n",
       "      <th>1</th>\n",
       "      <td>2002-08-29</td>\n",
       "      <td>m</td>\n",
       "      <td>m</td>\n",
       "      <td>still figuring it out</td>\n",
       "      <td>Arts</td>\n",
       "      <td>curious, shy, ambitious</td>\n",
       "      <td>technology, photography</td>\n",
       "      <td>respect, independence</td>\n",
       "      <td>I’ve got a collection of 90’s comic books. I'm...</td>\n",
       "      <td>1</td>\n",
       "    </tr>\n",
       "    <tr>\n",
       "      <th>2</th>\n",
       "      <td>1999-08-11</td>\n",
       "      <td>others</td>\n",
       "      <td>f</td>\n",
       "      <td>new friends</td>\n",
       "      <td>Business</td>\n",
       "      <td>shy, creative, thoughtful</td>\n",
       "      <td>sports, cooking, technology</td>\n",
       "      <td>independence, loyalty</td>\n",
       "      <td>I can speak three languages, and one of them i...</td>\n",
       "      <td>0</td>\n",
       "    </tr>\n",
       "    <tr>\n",
       "      <th>3</th>\n",
       "      <td>1995-06-21</td>\n",
       "      <td>m</td>\n",
       "      <td>any</td>\n",
       "      <td>long-term partner</td>\n",
       "      <td>Law</td>\n",
       "      <td>outgoing, ambitious, adventurous</td>\n",
       "      <td>fashion, photography</td>\n",
       "      <td>loyalty, respect, spirituality</td>\n",
       "      <td>I’ve got a collection of 90’s comic books. I e...</td>\n",
       "      <td>1</td>\n",
       "    </tr>\n",
       "    <tr>\n",
       "      <th>4</th>\n",
       "      <td>1995-05-05</td>\n",
       "      <td>f</td>\n",
       "      <td>f</td>\n",
       "      <td>short-term but long-term OK</td>\n",
       "      <td>Architecture</td>\n",
       "      <td>creative</td>\n",
       "      <td>reading, fashion, traveling</td>\n",
       "      <td>responsibility, loyalty</td>\n",
       "      <td>I’ve got a collection of 90’s comic books. I'm...</td>\n",
       "      <td>3</td>\n",
       "    </tr>\n",
       "  </tbody>\n",
       "</table>\n",
       "</div>"
      ],
      "text/plain": [
       "    BirthDate  Gender PreferredGender                   LookingFor  \\\n",
       "0  2006-02-18       f          others                  new friends   \n",
       "1  2002-08-29       m               m        still figuring it out   \n",
       "2  1999-08-11  others               f                  new friends   \n",
       "3  1995-06-21       m             any            long-term partner   \n",
       "4  1995-05-05       f               f  short-term but long-term OK   \n",
       "\n",
       "        Faculty                    PersonalTraits  \\\n",
       "0   Engineering                  adventurous, shy   \n",
       "1          Arts           curious, shy, ambitious   \n",
       "2      Business         shy, creative, thoughtful   \n",
       "3           Law  outgoing, ambitious, adventurous   \n",
       "4  Architecture                          creative   \n",
       "\n",
       "                     Interests                                 Values  \\\n",
       "0        traveling, technology  spirituality, empathy, responsibility   \n",
       "1      technology, photography                  respect, independence   \n",
       "2  sports, cooking, technology                  independence, loyalty   \n",
       "3         fashion, photography         loyalty, respect, spirituality   \n",
       "4  reading, fashion, traveling                responsibility, loyalty   \n",
       "\n",
       "                                                 Bio  Cluster  \n",
       "0  I make the best coffee in town. Don't @ me. No...        1  \n",
       "1  I’ve got a collection of 90’s comic books. I'm...        1  \n",
       "2  I can speak three languages, and one of them i...        0  \n",
       "3  I’ve got a collection of 90’s comic books. I e...        1  \n",
       "4  I’ve got a collection of 90’s comic books. I'm...        3  "
      ]
     },
     "execution_count": 235,
     "metadata": {},
     "output_type": "execute_result"
    }
   ],
   "source": [
    "df_profiles.head()"
   ]
  },
  {
   "cell_type": "code",
   "execution_count": 236,
   "metadata": {},
   "outputs": [],
   "source": [
    "df_profiles.to_csv('df_profiles_clustered.csv', index=False)"
   ]
  },
  {
   "cell_type": "markdown",
   "metadata": {},
   "source": [
    "### Organizing Dating Profiles"
   ]
  },
  {
   "cell_type": "code",
   "execution_count": 247,
   "metadata": {},
   "outputs": [],
   "source": [
    "df_profiles_clustered = pd.read_csv('df_profiles_clustered.csv')"
   ]
  },
  {
   "cell_type": "code",
   "execution_count": 255,
   "metadata": {},
   "outputs": [],
   "source": [
    "# df_profiles_clustered"
   ]
  },
  {
   "cell_type": "code",
   "execution_count": 249,
   "metadata": {},
   "outputs": [
    {
     "data": {
      "text/plain": [
       "Index(['BirthDate', 'Gender', 'PreferredGender', 'LookingFor', 'Faculty',\n",
       "       'PersonalTraits', 'Interests', 'Values', 'Bio', 'Cluster'],\n",
       "      dtype='object')"
      ]
     },
     "execution_count": 249,
     "metadata": {},
     "output_type": "execute_result"
    }
   ],
   "source": [
    "df_profiles_clustered.columns"
   ]
  },
  {
   "cell_type": "code",
   "execution_count": 250,
   "metadata": {},
   "outputs": [],
   "source": [
    "df_tokenized_binarized_vectorized = pd.read_csv('random_chulalongkorn_profiles_bioTokenized_binarized_vectorized.csv')"
   ]
  },
  {
   "cell_type": "code",
   "execution_count": 256,
   "metadata": {},
   "outputs": [],
   "source": [
    "# df_tokenized_binarized_vectorized.head()"
   ]
  },
  {
   "cell_type": "code",
   "execution_count": 252,
   "metadata": {},
   "outputs": [],
   "source": [
    "df_tokenized_binarized_vectorized.drop(columns=['BirthDate', 'Gender', 'PreferredGender', 'LookingFor', 'Faculty', 'PersonalTraits', 'Interests', 'Values', 'Bio', 'Bio_processed'], inplace=True)"
   ]
  },
  {
   "cell_type": "code",
   "execution_count": 253,
   "metadata": {},
   "outputs": [
    {
     "data": {
      "text/html": [
       "<div>\n",
       "<style scoped>\n",
       "    .dataframe tbody tr th:only-of-type {\n",
       "        vertical-align: middle;\n",
       "    }\n",
       "\n",
       "    .dataframe tbody tr th {\n",
       "        vertical-align: top;\n",
       "    }\n",
       "\n",
       "    .dataframe thead th {\n",
       "        text-align: right;\n",
       "    }\n",
       "</style>\n",
       "<table border=\"1\" class=\"dataframe\">\n",
       "  <thead>\n",
       "    <tr style=\"text-align: right;\">\n",
       "      <th></th>\n",
       "      <th>adventurous</th>\n",
       "      <th>ambitious</th>\n",
       "      <th>creative</th>\n",
       "      <th>curious</th>\n",
       "      <th>funny</th>\n",
       "      <th>introverted</th>\n",
       "      <th>outgoing</th>\n",
       "      <th>shy</th>\n",
       "      <th>thoughtful</th>\n",
       "      <th>cooking</th>\n",
       "      <th>...</th>\n",
       "      <th>town</th>\n",
       "      <th>trip</th>\n",
       "      <th>trust</th>\n",
       "      <th>trying</th>\n",
       "      <th>value</th>\n",
       "      <th>visited</th>\n",
       "      <th>want</th>\n",
       "      <th>weekend</th>\n",
       "      <th>working</th>\n",
       "      <th>year</th>\n",
       "    </tr>\n",
       "  </thead>\n",
       "  <tbody>\n",
       "    <tr>\n",
       "      <th>0</th>\n",
       "      <td>1</td>\n",
       "      <td>0</td>\n",
       "      <td>0</td>\n",
       "      <td>0</td>\n",
       "      <td>0</td>\n",
       "      <td>0</td>\n",
       "      <td>0</td>\n",
       "      <td>1</td>\n",
       "      <td>0</td>\n",
       "      <td>0</td>\n",
       "      <td>...</td>\n",
       "      <td>1</td>\n",
       "      <td>1</td>\n",
       "      <td>1</td>\n",
       "      <td>0</td>\n",
       "      <td>0</td>\n",
       "      <td>0</td>\n",
       "      <td>0</td>\n",
       "      <td>0</td>\n",
       "      <td>0</td>\n",
       "      <td>0</td>\n",
       "    </tr>\n",
       "    <tr>\n",
       "      <th>1</th>\n",
       "      <td>0</td>\n",
       "      <td>1</td>\n",
       "      <td>0</td>\n",
       "      <td>1</td>\n",
       "      <td>0</td>\n",
       "      <td>0</td>\n",
       "      <td>0</td>\n",
       "      <td>1</td>\n",
       "      <td>0</td>\n",
       "      <td>0</td>\n",
       "      <td>...</td>\n",
       "      <td>0</td>\n",
       "      <td>0</td>\n",
       "      <td>1</td>\n",
       "      <td>0</td>\n",
       "      <td>0</td>\n",
       "      <td>0</td>\n",
       "      <td>0</td>\n",
       "      <td>0</td>\n",
       "      <td>0</td>\n",
       "      <td>0</td>\n",
       "    </tr>\n",
       "    <tr>\n",
       "      <th>2</th>\n",
       "      <td>0</td>\n",
       "      <td>0</td>\n",
       "      <td>1</td>\n",
       "      <td>0</td>\n",
       "      <td>0</td>\n",
       "      <td>0</td>\n",
       "      <td>0</td>\n",
       "      <td>1</td>\n",
       "      <td>1</td>\n",
       "      <td>1</td>\n",
       "      <td>...</td>\n",
       "      <td>0</td>\n",
       "      <td>0</td>\n",
       "      <td>1</td>\n",
       "      <td>0</td>\n",
       "      <td>0</td>\n",
       "      <td>0</td>\n",
       "      <td>0</td>\n",
       "      <td>0</td>\n",
       "      <td>1</td>\n",
       "      <td>0</td>\n",
       "    </tr>\n",
       "    <tr>\n",
       "      <th>3</th>\n",
       "      <td>1</td>\n",
       "      <td>1</td>\n",
       "      <td>0</td>\n",
       "      <td>0</td>\n",
       "      <td>0</td>\n",
       "      <td>0</td>\n",
       "      <td>1</td>\n",
       "      <td>0</td>\n",
       "      <td>0</td>\n",
       "      <td>0</td>\n",
       "      <td>...</td>\n",
       "      <td>0</td>\n",
       "      <td>0</td>\n",
       "      <td>0</td>\n",
       "      <td>1</td>\n",
       "      <td>0</td>\n",
       "      <td>0</td>\n",
       "      <td>0</td>\n",
       "      <td>1</td>\n",
       "      <td>1</td>\n",
       "      <td>0</td>\n",
       "    </tr>\n",
       "    <tr>\n",
       "      <th>4</th>\n",
       "      <td>0</td>\n",
       "      <td>0</td>\n",
       "      <td>1</td>\n",
       "      <td>0</td>\n",
       "      <td>0</td>\n",
       "      <td>0</td>\n",
       "      <td>0</td>\n",
       "      <td>0</td>\n",
       "      <td>0</td>\n",
       "      <td>0</td>\n",
       "      <td>...</td>\n",
       "      <td>0</td>\n",
       "      <td>0</td>\n",
       "      <td>0</td>\n",
       "      <td>0</td>\n",
       "      <td>1</td>\n",
       "      <td>0</td>\n",
       "      <td>0</td>\n",
       "      <td>0</td>\n",
       "      <td>0</td>\n",
       "      <td>0</td>\n",
       "    </tr>\n",
       "  </tbody>\n",
       "</table>\n",
       "<p>5 rows × 161 columns</p>\n",
       "</div>"
      ],
      "text/plain": [
       "   adventurous  ambitious  creative  curious  funny  introverted  outgoing  \\\n",
       "0            1          0         0        0      0            0         0   \n",
       "1            0          1         0        1      0            0         0   \n",
       "2            0          0         1        0      0            0         0   \n",
       "3            1          1         0        0      0            0         1   \n",
       "4            0          0         1        0      0            0         0   \n",
       "\n",
       "   shy  thoughtful  cooking  ...  town  trip  trust  trying  value  visited  \\\n",
       "0    1           0        0  ...     1     1      1       0      0        0   \n",
       "1    1           0        0  ...     0     0      1       0      0        0   \n",
       "2    1           1        1  ...     0     0      1       0      0        0   \n",
       "3    0           0        0  ...     0     0      0       1      0        0   \n",
       "4    0           0        0  ...     0     0      0       0      1        0   \n",
       "\n",
       "   want  weekend  working  year  \n",
       "0     0        0        0     0  \n",
       "1     0        0        0     0  \n",
       "2     0        0        1     0  \n",
       "3     0        1        1     0  \n",
       "4     0        0        0     0  \n",
       "\n",
       "[5 rows x 161 columns]"
      ]
     },
     "execution_count": 253,
     "metadata": {},
     "output_type": "execute_result"
    }
   ],
   "source": [
    "df_tokenized_binarized_vectorized.head()"
   ]
  },
  {
   "cell_type": "code",
   "execution_count": 257,
   "metadata": {},
   "outputs": [],
   "source": [
    "df_corr = df_tokenized_binarized_vectorized.T.corr()"
   ]
  },
  {
   "cell_type": "code",
   "execution_count": 258,
   "metadata": {},
   "outputs": [
    {
     "data": {
      "text/html": [
       "<div>\n",
       "<style scoped>\n",
       "    .dataframe tbody tr th:only-of-type {\n",
       "        vertical-align: middle;\n",
       "    }\n",
       "\n",
       "    .dataframe tbody tr th {\n",
       "        vertical-align: top;\n",
       "    }\n",
       "\n",
       "    .dataframe thead th {\n",
       "        text-align: right;\n",
       "    }\n",
       "</style>\n",
       "<table border=\"1\" class=\"dataframe\">\n",
       "  <thead>\n",
       "    <tr style=\"text-align: right;\">\n",
       "      <th></th>\n",
       "      <th>0</th>\n",
       "      <th>1</th>\n",
       "      <th>2</th>\n",
       "      <th>3</th>\n",
       "      <th>4</th>\n",
       "      <th>5</th>\n",
       "      <th>6</th>\n",
       "      <th>7</th>\n",
       "      <th>8</th>\n",
       "      <th>9</th>\n",
       "      <th>...</th>\n",
       "      <th>1990</th>\n",
       "      <th>1991</th>\n",
       "      <th>1992</th>\n",
       "      <th>1993</th>\n",
       "      <th>1994</th>\n",
       "      <th>1995</th>\n",
       "      <th>1996</th>\n",
       "      <th>1997</th>\n",
       "      <th>1998</th>\n",
       "      <th>1999</th>\n",
       "    </tr>\n",
       "  </thead>\n",
       "  <tbody>\n",
       "    <tr>\n",
       "      <th>0</th>\n",
       "      <td>1.000000</td>\n",
       "      <td>0.254205</td>\n",
       "      <td>0.028530</td>\n",
       "      <td>-0.079921</td>\n",
       "      <td>-0.112853</td>\n",
       "      <td>-0.198485</td>\n",
       "      <td>-0.094630</td>\n",
       "      <td>0.048041</td>\n",
       "      <td>0.027587</td>\n",
       "      <td>-0.006195</td>\n",
       "      <td>...</td>\n",
       "      <td>-0.133103</td>\n",
       "      <td>-0.086185</td>\n",
       "      <td>-0.159529</td>\n",
       "      <td>0.274178</td>\n",
       "      <td>-0.156621</td>\n",
       "      <td>-0.124329</td>\n",
       "      <td>0.300914</td>\n",
       "      <td>0.304467</td>\n",
       "      <td>0.090524</td>\n",
       "      <td>0.163137</td>\n",
       "    </tr>\n",
       "    <tr>\n",
       "      <th>1</th>\n",
       "      <td>0.254205</td>\n",
       "      <td>1.000000</td>\n",
       "      <td>-0.032539</td>\n",
       "      <td>0.054043</td>\n",
       "      <td>0.465584</td>\n",
       "      <td>-0.079415</td>\n",
       "      <td>0.038817</td>\n",
       "      <td>-0.034144</td>\n",
       "      <td>-0.281582</td>\n",
       "      <td>-0.057148</td>\n",
       "      <td>...</td>\n",
       "      <td>-0.088329</td>\n",
       "      <td>0.057125</td>\n",
       "      <td>0.126975</td>\n",
       "      <td>0.231523</td>\n",
       "      <td>-0.104796</td>\n",
       "      <td>0.108946</td>\n",
       "      <td>-0.061663</td>\n",
       "      <td>0.401351</td>\n",
       "      <td>-0.018742</td>\n",
       "      <td>-0.080719</td>\n",
       "    </tr>\n",
       "    <tr>\n",
       "      <th>2</th>\n",
       "      <td>0.028530</td>\n",
       "      <td>-0.032539</td>\n",
       "      <td>1.000000</td>\n",
       "      <td>0.077496</td>\n",
       "      <td>-0.130767</td>\n",
       "      <td>0.254634</td>\n",
       "      <td>0.268979</td>\n",
       "      <td>0.204879</td>\n",
       "      <td>-0.167642</td>\n",
       "      <td>0.141341</td>\n",
       "      <td>...</td>\n",
       "      <td>0.006775</td>\n",
       "      <td>0.114266</td>\n",
       "      <td>-0.220322</td>\n",
       "      <td>-0.107268</td>\n",
       "      <td>0.038869</td>\n",
       "      <td>0.173795</td>\n",
       "      <td>0.088364</td>\n",
       "      <td>0.053012</td>\n",
       "      <td>0.025355</td>\n",
       "      <td>0.090532</td>\n",
       "    </tr>\n",
       "    <tr>\n",
       "      <th>3</th>\n",
       "      <td>-0.079921</td>\n",
       "      <td>0.054043</td>\n",
       "      <td>0.077496</td>\n",
       "      <td>1.000000</td>\n",
       "      <td>0.023936</td>\n",
       "      <td>0.025352</td>\n",
       "      <td>0.176239</td>\n",
       "      <td>0.152593</td>\n",
       "      <td>0.008981</td>\n",
       "      <td>0.190561</td>\n",
       "      <td>...</td>\n",
       "      <td>0.207415</td>\n",
       "      <td>0.207120</td>\n",
       "      <td>-0.142816</td>\n",
       "      <td>0.348162</td>\n",
       "      <td>0.241784</td>\n",
       "      <td>-0.107976</td>\n",
       "      <td>-0.058275</td>\n",
       "      <td>0.070936</td>\n",
       "      <td>-0.012832</td>\n",
       "      <td>0.047737</td>\n",
       "    </tr>\n",
       "    <tr>\n",
       "      <th>4</th>\n",
       "      <td>-0.112853</td>\n",
       "      <td>0.465584</td>\n",
       "      <td>-0.130767</td>\n",
       "      <td>0.023936</td>\n",
       "      <td>1.000000</td>\n",
       "      <td>-0.015326</td>\n",
       "      <td>0.305386</td>\n",
       "      <td>-0.175823</td>\n",
       "      <td>-0.218748</td>\n",
       "      <td>-0.143137</td>\n",
       "      <td>...</td>\n",
       "      <td>0.104591</td>\n",
       "      <td>0.089509</td>\n",
       "      <td>0.215987</td>\n",
       "      <td>0.174353</td>\n",
       "      <td>-0.007644</td>\n",
       "      <td>0.170816</td>\n",
       "      <td>0.032588</td>\n",
       "      <td>0.059007</td>\n",
       "      <td>0.171548</td>\n",
       "      <td>0.037964</td>\n",
       "    </tr>\n",
       "    <tr>\n",
       "      <th>...</th>\n",
       "      <td>...</td>\n",
       "      <td>...</td>\n",
       "      <td>...</td>\n",
       "      <td>...</td>\n",
       "      <td>...</td>\n",
       "      <td>...</td>\n",
       "      <td>...</td>\n",
       "      <td>...</td>\n",
       "      <td>...</td>\n",
       "      <td>...</td>\n",
       "      <td>...</td>\n",
       "      <td>...</td>\n",
       "      <td>...</td>\n",
       "      <td>...</td>\n",
       "      <td>...</td>\n",
       "      <td>...</td>\n",
       "      <td>...</td>\n",
       "      <td>...</td>\n",
       "      <td>...</td>\n",
       "      <td>...</td>\n",
       "      <td>...</td>\n",
       "    </tr>\n",
       "    <tr>\n",
       "      <th>1995</th>\n",
       "      <td>-0.124329</td>\n",
       "      <td>0.108946</td>\n",
       "      <td>0.173795</td>\n",
       "      <td>-0.107976</td>\n",
       "      <td>0.170816</td>\n",
       "      <td>0.295742</td>\n",
       "      <td>0.335672</td>\n",
       "      <td>-0.070459</td>\n",
       "      <td>0.240372</td>\n",
       "      <td>0.026042</td>\n",
       "      <td>...</td>\n",
       "      <td>-0.068530</td>\n",
       "      <td>-0.120789</td>\n",
       "      <td>-0.124856</td>\n",
       "      <td>-0.056044</td>\n",
       "      <td>-0.085172</td>\n",
       "      <td>1.000000</td>\n",
       "      <td>0.136712</td>\n",
       "      <td>0.002728</td>\n",
       "      <td>-0.140391</td>\n",
       "      <td>-0.157488</td>\n",
       "    </tr>\n",
       "    <tr>\n",
       "      <th>1996</th>\n",
       "      <td>0.300914</td>\n",
       "      <td>-0.061663</td>\n",
       "      <td>0.088364</td>\n",
       "      <td>-0.058275</td>\n",
       "      <td>0.032588</td>\n",
       "      <td>0.034237</td>\n",
       "      <td>0.026713</td>\n",
       "      <td>-0.054847</td>\n",
       "      <td>0.263078</td>\n",
       "      <td>0.109370</td>\n",
       "      <td>...</td>\n",
       "      <td>-0.022562</td>\n",
       "      <td>-0.174120</td>\n",
       "      <td>-0.075339</td>\n",
       "      <td>-0.138622</td>\n",
       "      <td>-0.174120</td>\n",
       "      <td>0.136712</td>\n",
       "      <td>1.000000</td>\n",
       "      <td>0.145869</td>\n",
       "      <td>-0.005846</td>\n",
       "      <td>0.256070</td>\n",
       "    </tr>\n",
       "    <tr>\n",
       "      <th>1997</th>\n",
       "      <td>0.304467</td>\n",
       "      <td>0.401351</td>\n",
       "      <td>0.053012</td>\n",
       "      <td>0.070936</td>\n",
       "      <td>0.059007</td>\n",
       "      <td>0.035328</td>\n",
       "      <td>0.054485</td>\n",
       "      <td>-0.048198</td>\n",
       "      <td>-0.013459</td>\n",
       "      <td>0.017335</td>\n",
       "      <td>...</td>\n",
       "      <td>0.009028</td>\n",
       "      <td>0.241147</td>\n",
       "      <td>-0.005047</td>\n",
       "      <td>0.189628</td>\n",
       "      <td>-0.153012</td>\n",
       "      <td>0.002728</td>\n",
       "      <td>0.145869</td>\n",
       "      <td>1.000000</td>\n",
       "      <td>-0.032710</td>\n",
       "      <td>0.235706</td>\n",
       "    </tr>\n",
       "    <tr>\n",
       "      <th>1998</th>\n",
       "      <td>0.090524</td>\n",
       "      <td>-0.018742</td>\n",
       "      <td>0.025355</td>\n",
       "      <td>-0.012832</td>\n",
       "      <td>0.171548</td>\n",
       "      <td>0.226219</td>\n",
       "      <td>0.087655</td>\n",
       "      <td>0.097467</td>\n",
       "      <td>-0.157665</td>\n",
       "      <td>-0.088612</td>\n",
       "      <td>...</td>\n",
       "      <td>0.121434</td>\n",
       "      <td>0.079899</td>\n",
       "      <td>0.173658</td>\n",
       "      <td>0.243666</td>\n",
       "      <td>0.267691</td>\n",
       "      <td>-0.140391</td>\n",
       "      <td>-0.005846</td>\n",
       "      <td>-0.032710</td>\n",
       "      <td>1.000000</td>\n",
       "      <td>0.144982</td>\n",
       "    </tr>\n",
       "    <tr>\n",
       "      <th>1999</th>\n",
       "      <td>0.163137</td>\n",
       "      <td>-0.080719</td>\n",
       "      <td>0.090532</td>\n",
       "      <td>0.047737</td>\n",
       "      <td>0.037964</td>\n",
       "      <td>-0.163137</td>\n",
       "      <td>0.001747</td>\n",
       "      <td>0.104710</td>\n",
       "      <td>-0.075339</td>\n",
       "      <td>-0.011456</td>\n",
       "      <td>...</td>\n",
       "      <td>0.014626</td>\n",
       "      <td>0.047741</td>\n",
       "      <td>-0.032854</td>\n",
       "      <td>-0.001873</td>\n",
       "      <td>-0.157227</td>\n",
       "      <td>-0.157488</td>\n",
       "      <td>0.256070</td>\n",
       "      <td>0.235706</td>\n",
       "      <td>0.144982</td>\n",
       "      <td>1.000000</td>\n",
       "    </tr>\n",
       "  </tbody>\n",
       "</table>\n",
       "<p>2000 rows × 2000 columns</p>\n",
       "</div>"
      ],
      "text/plain": [
       "          0         1         2         3         4         5         6     \\\n",
       "0     1.000000  0.254205  0.028530 -0.079921 -0.112853 -0.198485 -0.094630   \n",
       "1     0.254205  1.000000 -0.032539  0.054043  0.465584 -0.079415  0.038817   \n",
       "2     0.028530 -0.032539  1.000000  0.077496 -0.130767  0.254634  0.268979   \n",
       "3    -0.079921  0.054043  0.077496  1.000000  0.023936  0.025352  0.176239   \n",
       "4    -0.112853  0.465584 -0.130767  0.023936  1.000000 -0.015326  0.305386   \n",
       "...        ...       ...       ...       ...       ...       ...       ...   \n",
       "1995 -0.124329  0.108946  0.173795 -0.107976  0.170816  0.295742  0.335672   \n",
       "1996  0.300914 -0.061663  0.088364 -0.058275  0.032588  0.034237  0.026713   \n",
       "1997  0.304467  0.401351  0.053012  0.070936  0.059007  0.035328  0.054485   \n",
       "1998  0.090524 -0.018742  0.025355 -0.012832  0.171548  0.226219  0.087655   \n",
       "1999  0.163137 -0.080719  0.090532  0.047737  0.037964 -0.163137  0.001747   \n",
       "\n",
       "          7         8         9     ...      1990      1991      1992  \\\n",
       "0     0.048041  0.027587 -0.006195  ... -0.133103 -0.086185 -0.159529   \n",
       "1    -0.034144 -0.281582 -0.057148  ... -0.088329  0.057125  0.126975   \n",
       "2     0.204879 -0.167642  0.141341  ...  0.006775  0.114266 -0.220322   \n",
       "3     0.152593  0.008981  0.190561  ...  0.207415  0.207120 -0.142816   \n",
       "4    -0.175823 -0.218748 -0.143137  ...  0.104591  0.089509  0.215987   \n",
       "...        ...       ...       ...  ...       ...       ...       ...   \n",
       "1995 -0.070459  0.240372  0.026042  ... -0.068530 -0.120789 -0.124856   \n",
       "1996 -0.054847  0.263078  0.109370  ... -0.022562 -0.174120 -0.075339   \n",
       "1997 -0.048198 -0.013459  0.017335  ...  0.009028  0.241147 -0.005047   \n",
       "1998  0.097467 -0.157665 -0.088612  ...  0.121434  0.079899  0.173658   \n",
       "1999  0.104710 -0.075339 -0.011456  ...  0.014626  0.047741 -0.032854   \n",
       "\n",
       "          1993      1994      1995      1996      1997      1998      1999  \n",
       "0     0.274178 -0.156621 -0.124329  0.300914  0.304467  0.090524  0.163137  \n",
       "1     0.231523 -0.104796  0.108946 -0.061663  0.401351 -0.018742 -0.080719  \n",
       "2    -0.107268  0.038869  0.173795  0.088364  0.053012  0.025355  0.090532  \n",
       "3     0.348162  0.241784 -0.107976 -0.058275  0.070936 -0.012832  0.047737  \n",
       "4     0.174353 -0.007644  0.170816  0.032588  0.059007  0.171548  0.037964  \n",
       "...        ...       ...       ...       ...       ...       ...       ...  \n",
       "1995 -0.056044 -0.085172  1.000000  0.136712  0.002728 -0.140391 -0.157488  \n",
       "1996 -0.138622 -0.174120  0.136712  1.000000  0.145869 -0.005846  0.256070  \n",
       "1997  0.189628 -0.153012  0.002728  0.145869  1.000000 -0.032710  0.235706  \n",
       "1998  0.243666  0.267691 -0.140391 -0.005846 -0.032710  1.000000  0.144982  \n",
       "1999 -0.001873 -0.157227 -0.157488  0.256070  0.235706  0.144982  1.000000  \n",
       "\n",
       "[2000 rows x 2000 columns]"
      ]
     },
     "execution_count": 258,
     "metadata": {},
     "output_type": "execute_result"
    }
   ],
   "source": [
    "df_corr"
   ]
  },
  {
   "cell_type": "code",
   "execution_count": null,
   "metadata": {},
   "outputs": [],
   "source": [
    "import random"
   ]
  },
  {
   "cell_type": "code",
   "execution_count": 272,
   "metadata": {},
   "outputs": [
    {
     "name": "stdout",
     "output_type": "stream",
     "text": [
      "Top 15 most similar users to User #176,\n",
      "\n",
      "           176\n",
      "1321  0.703229\n",
      "1898  0.671366\n",
      "1106  0.653505\n",
      "638   0.653505\n",
      "1549  0.653492\n",
      "464   0.633058\n",
      "968   0.620857\n",
      "1290  0.605933\n",
      "1070  0.599770\n",
      "453   0.569327\n",
      "1707  0.533910\n",
      "1520  0.533910\n",
      "174   0.533826\n",
      "1706  0.527798\n",
      "1276  0.525771\n",
      "\n",
      "The most similar user to User #176 is User #1321\n"
     ]
    }
   ],
   "source": [
    "## Finding the Top 10 Similar Users\n",
    "\n",
    "# Select a random user\n",
    "random_user = random.choice(df_corr.index)\n",
    "\n",
    "print(f\"Top 15 most similar users to User #{random_user},\" + \"\\n\")\n",
    "\n",
    "# Creating a DF with the top 10 most similar users to the selected user\n",
    "top_15_similar = df_corr[[random_user]].sort_values(by=[random_user],axis=0, ascending=False)[1:16]\n",
    "\n",
    "# Printing out the results\n",
    "print(top_15_similar)\n",
    "\n",
    "print(f\"\\nThe most similar user to User #{random_user} is User #{top_15_similar.index[0]}\")"
   ]
  },
  {
   "cell_type": "code",
   "execution_count": null,
   "metadata": {},
   "outputs": [],
   "source": []
  }
 ],
 "metadata": {
  "kernelspec": {
   "display_name": "Python 3",
   "language": "python",
   "name": "python3"
  },
  "language_info": {
   "codemirror_mode": {
    "name": "ipython",
    "version": 3
   },
   "file_extension": ".py",
   "mimetype": "text/x-python",
   "name": "python",
   "nbconvert_exporter": "python",
   "pygments_lexer": "ipython3",
   "version": "3.12.1"
  }
 },
 "nbformat": 4,
 "nbformat_minor": 2
}
