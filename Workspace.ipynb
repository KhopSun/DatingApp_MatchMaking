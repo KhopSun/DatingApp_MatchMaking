{
 "cells": [
  {
   "cell_type": "markdown",
   "metadata": {},
   "source": [
    "## Main Library"
   ]
  },
  {
   "cell_type": "code",
   "execution_count": 2,
   "metadata": {},
   "outputs": [],
   "source": [
    "import pandas as pd"
   ]
  },
  {
   "cell_type": "markdown",
   "metadata": {},
   "source": [
    "## OkCupid Example csv"
   ]
  },
  {
   "cell_type": "code",
   "execution_count": 150,
   "metadata": {},
   "outputs": [],
   "source": [
    "okcupid_df = pd.read_csv('okcupid_profiles_1.csv')"
   ]
  },
  {
   "cell_type": "code",
   "execution_count": 151,
   "metadata": {},
   "outputs": [
    {
     "data": {
      "text/plain": [
       "(19999, 31)"
      ]
     },
     "execution_count": 151,
     "metadata": {},
     "output_type": "execute_result"
    }
   ],
   "source": [
    "okcupid_df.shape"
   ]
  },
  {
   "cell_type": "code",
   "execution_count": 152,
   "metadata": {},
   "outputs": [
    {
     "data": {
      "text/plain": [
       "Index(['age', 'status', 'sex', 'orientation', 'body_type', 'diet', 'drinks',\n",
       "       'drugs', 'education', 'ethnicity', 'height', 'income', 'job',\n",
       "       'last_online', 'location', 'offspring', 'pets', 'religion', 'sign',\n",
       "       'smokes', 'speaks', 'essay0', 'essay1', 'essay2', 'essay3', 'essay4',\n",
       "       'essay5', 'essay6', 'essay7', 'essay8', 'essay9'],\n",
       "      dtype='object')"
      ]
     },
     "execution_count": 152,
     "metadata": {},
     "output_type": "execute_result"
    }
   ],
   "source": [
    "okcupid_df.columns"
   ]
  },
  {
   "cell_type": "code",
   "execution_count": 153,
   "metadata": {},
   "outputs": [
    {
     "data": {
      "text/html": [
       "<div>\n",
       "<style scoped>\n",
       "    .dataframe tbody tr th:only-of-type {\n",
       "        vertical-align: middle;\n",
       "    }\n",
       "\n",
       "    .dataframe tbody tr th {\n",
       "        vertical-align: top;\n",
       "    }\n",
       "\n",
       "    .dataframe thead th {\n",
       "        text-align: right;\n",
       "    }\n",
       "</style>\n",
       "<table border=\"1\" class=\"dataframe\">\n",
       "  <thead>\n",
       "    <tr style=\"text-align: right;\">\n",
       "      <th></th>\n",
       "      <th>age</th>\n",
       "      <th>status</th>\n",
       "      <th>sex</th>\n",
       "      <th>orientation</th>\n",
       "      <th>body_type</th>\n",
       "      <th>diet</th>\n",
       "      <th>drinks</th>\n",
       "      <th>drugs</th>\n",
       "      <th>education</th>\n",
       "      <th>ethnicity</th>\n",
       "      <th>...</th>\n",
       "      <th>essay0</th>\n",
       "      <th>essay1</th>\n",
       "      <th>essay2</th>\n",
       "      <th>essay3</th>\n",
       "      <th>essay4</th>\n",
       "      <th>essay5</th>\n",
       "      <th>essay6</th>\n",
       "      <th>essay7</th>\n",
       "      <th>essay8</th>\n",
       "      <th>essay9</th>\n",
       "    </tr>\n",
       "  </thead>\n",
       "  <tbody>\n",
       "    <tr>\n",
       "      <th>0</th>\n",
       "      <td>22</td>\n",
       "      <td>single</td>\n",
       "      <td>m</td>\n",
       "      <td>straight</td>\n",
       "      <td>a little extra</td>\n",
       "      <td>strictly anything</td>\n",
       "      <td>socially</td>\n",
       "      <td>never</td>\n",
       "      <td>working on college/university</td>\n",
       "      <td>asian, white</td>\n",
       "      <td>...</td>\n",
       "      <td>about me:  i would love to think that i was so...</td>\n",
       "      <td>currently working as an international agent fo...</td>\n",
       "      <td>making people laugh. ranting about a good salt...</td>\n",
       "      <td>the way i look. i am a six foot half asian, ha...</td>\n",
       "      <td>books: absurdistan, the republic, of mice and ...</td>\n",
       "      <td>food. water. cell phone. shelter.</td>\n",
       "      <td>duality and humorous things</td>\n",
       "      <td>trying to find someone to hang out with. i am ...</td>\n",
       "      <td>i am new to california and looking for someone...</td>\n",
       "      <td>you want to be swept off your feet! you are ti...</td>\n",
       "    </tr>\n",
       "    <tr>\n",
       "      <th>1</th>\n",
       "      <td>35</td>\n",
       "      <td>single</td>\n",
       "      <td>m</td>\n",
       "      <td>straight</td>\n",
       "      <td>average</td>\n",
       "      <td>mostly other</td>\n",
       "      <td>often</td>\n",
       "      <td>sometimes</td>\n",
       "      <td>working on space camp</td>\n",
       "      <td>white</td>\n",
       "      <td>...</td>\n",
       "      <td>i am a chef: this is what that means. 1. i am ...</td>\n",
       "      <td>dedicating everyday to being an unbelievable b...</td>\n",
       "      <td>being silly. having ridiculous amonts of fun w...</td>\n",
       "      <td>NaN</td>\n",
       "      <td>i am die hard christopher moore fan. i don't r...</td>\n",
       "      <td>delicious porkness in all of its glories. my b...</td>\n",
       "      <td>NaN</td>\n",
       "      <td>NaN</td>\n",
       "      <td>i am very open and will share just about anyth...</td>\n",
       "      <td>NaN</td>\n",
       "    </tr>\n",
       "    <tr>\n",
       "      <th>2</th>\n",
       "      <td>38</td>\n",
       "      <td>available</td>\n",
       "      <td>m</td>\n",
       "      <td>straight</td>\n",
       "      <td>thin</td>\n",
       "      <td>anything</td>\n",
       "      <td>socially</td>\n",
       "      <td>NaN</td>\n",
       "      <td>graduated from masters program</td>\n",
       "      <td>NaN</td>\n",
       "      <td>...</td>\n",
       "      <td>i'm not ashamed of much, but writing public te...</td>\n",
       "      <td>i make nerdy software for musicians, artists, ...</td>\n",
       "      <td>improvising in different contexts. alternating...</td>\n",
       "      <td>my large jaw and large glasses are the physica...</td>\n",
       "      <td>okay this is where the cultural matrix gets so...</td>\n",
       "      <td>movement conversation creation contemplation t...</td>\n",
       "      <td>NaN</td>\n",
       "      <td>viewing. listening. dancing. talking. drinking...</td>\n",
       "      <td>when i was five years old, i was known as \"the...</td>\n",
       "      <td>you are bright, open, intense, silly, ironic, ...</td>\n",
       "    </tr>\n",
       "    <tr>\n",
       "      <th>3</th>\n",
       "      <td>23</td>\n",
       "      <td>single</td>\n",
       "      <td>m</td>\n",
       "      <td>straight</td>\n",
       "      <td>thin</td>\n",
       "      <td>vegetarian</td>\n",
       "      <td>socially</td>\n",
       "      <td>NaN</td>\n",
       "      <td>working on college/university</td>\n",
       "      <td>white</td>\n",
       "      <td>...</td>\n",
       "      <td>i work in a library and go to school. . .</td>\n",
       "      <td>reading things written by old dead people</td>\n",
       "      <td>playing synthesizers and organizing books acco...</td>\n",
       "      <td>socially awkward but i do my best</td>\n",
       "      <td>bataille, celine, beckett. . . lynch, jarmusch...</td>\n",
       "      <td>NaN</td>\n",
       "      <td>cats and german philosophy</td>\n",
       "      <td>NaN</td>\n",
       "      <td>NaN</td>\n",
       "      <td>you feel so inclined.</td>\n",
       "    </tr>\n",
       "    <tr>\n",
       "      <th>4</th>\n",
       "      <td>29</td>\n",
       "      <td>single</td>\n",
       "      <td>m</td>\n",
       "      <td>straight</td>\n",
       "      <td>athletic</td>\n",
       "      <td>NaN</td>\n",
       "      <td>socially</td>\n",
       "      <td>never</td>\n",
       "      <td>graduated from college/university</td>\n",
       "      <td>asian, black, other</td>\n",
       "      <td>...</td>\n",
       "      <td>hey how's it going? currently vague on the pro...</td>\n",
       "      <td>work work work work + play</td>\n",
       "      <td>creating imagery to look at: http://bagsbrown....</td>\n",
       "      <td>i smile a lot and my inquisitive nature</td>\n",
       "      <td>music: bands, rappers, musicians at the moment...</td>\n",
       "      <td>NaN</td>\n",
       "      <td>NaN</td>\n",
       "      <td>NaN</td>\n",
       "      <td>NaN</td>\n",
       "      <td>NaN</td>\n",
       "    </tr>\n",
       "  </tbody>\n",
       "</table>\n",
       "<p>5 rows × 31 columns</p>\n",
       "</div>"
      ],
      "text/plain": [
       "   age     status sex orientation       body_type               diet  \\\n",
       "0   22     single   m    straight  a little extra  strictly anything   \n",
       "1   35     single   m    straight         average       mostly other   \n",
       "2   38  available   m    straight            thin           anything   \n",
       "3   23     single   m    straight            thin         vegetarian   \n",
       "4   29     single   m    straight        athletic                NaN   \n",
       "\n",
       "     drinks      drugs                          education  \\\n",
       "0  socially      never      working on college/university   \n",
       "1     often  sometimes              working on space camp   \n",
       "2  socially        NaN     graduated from masters program   \n",
       "3  socially        NaN      working on college/university   \n",
       "4  socially      never  graduated from college/university   \n",
       "\n",
       "             ethnicity  ...  \\\n",
       "0         asian, white  ...   \n",
       "1                white  ...   \n",
       "2                  NaN  ...   \n",
       "3                white  ...   \n",
       "4  asian, black, other  ...   \n",
       "\n",
       "                                              essay0  \\\n",
       "0  about me:  i would love to think that i was so...   \n",
       "1  i am a chef: this is what that means. 1. i am ...   \n",
       "2  i'm not ashamed of much, but writing public te...   \n",
       "3          i work in a library and go to school. . .   \n",
       "4  hey how's it going? currently vague on the pro...   \n",
       "\n",
       "                                              essay1  \\\n",
       "0  currently working as an international agent fo...   \n",
       "1  dedicating everyday to being an unbelievable b...   \n",
       "2  i make nerdy software for musicians, artists, ...   \n",
       "3          reading things written by old dead people   \n",
       "4                         work work work work + play   \n",
       "\n",
       "                                              essay2  \\\n",
       "0  making people laugh. ranting about a good salt...   \n",
       "1  being silly. having ridiculous amonts of fun w...   \n",
       "2  improvising in different contexts. alternating...   \n",
       "3  playing synthesizers and organizing books acco...   \n",
       "4  creating imagery to look at: http://bagsbrown....   \n",
       "\n",
       "                                              essay3  \\\n",
       "0  the way i look. i am a six foot half asian, ha...   \n",
       "1                                                NaN   \n",
       "2  my large jaw and large glasses are the physica...   \n",
       "3                  socially awkward but i do my best   \n",
       "4            i smile a lot and my inquisitive nature   \n",
       "\n",
       "                                              essay4  \\\n",
       "0  books: absurdistan, the republic, of mice and ...   \n",
       "1  i am die hard christopher moore fan. i don't r...   \n",
       "2  okay this is where the cultural matrix gets so...   \n",
       "3  bataille, celine, beckett. . . lynch, jarmusch...   \n",
       "4  music: bands, rappers, musicians at the moment...   \n",
       "\n",
       "                                              essay5  \\\n",
       "0                  food. water. cell phone. shelter.   \n",
       "1  delicious porkness in all of its glories. my b...   \n",
       "2  movement conversation creation contemplation t...   \n",
       "3                                                NaN   \n",
       "4                                                NaN   \n",
       "\n",
       "                        essay6  \\\n",
       "0  duality and humorous things   \n",
       "1                          NaN   \n",
       "2                          NaN   \n",
       "3   cats and german philosophy   \n",
       "4                          NaN   \n",
       "\n",
       "                                              essay7  \\\n",
       "0  trying to find someone to hang out with. i am ...   \n",
       "1                                                NaN   \n",
       "2  viewing. listening. dancing. talking. drinking...   \n",
       "3                                                NaN   \n",
       "4                                                NaN   \n",
       "\n",
       "                                              essay8  \\\n",
       "0  i am new to california and looking for someone...   \n",
       "1  i am very open and will share just about anyth...   \n",
       "2  when i was five years old, i was known as \"the...   \n",
       "3                                                NaN   \n",
       "4                                                NaN   \n",
       "\n",
       "                                              essay9  \n",
       "0  you want to be swept off your feet! you are ti...  \n",
       "1                                                NaN  \n",
       "2  you are bright, open, intense, silly, ironic, ...  \n",
       "3                              you feel so inclined.  \n",
       "4                                                NaN  \n",
       "\n",
       "[5 rows x 31 columns]"
      ]
     },
     "execution_count": 153,
     "metadata": {},
     "output_type": "execute_result"
    }
   ],
   "source": [
    "okcupid_df.head()"
   ]
  },
  {
   "cell_type": "code",
   "execution_count": 154,
   "metadata": {},
   "outputs": [],
   "source": [
    "okcupid_df.head().to_csv('okcupid_profiles_1_head.csv', index=False)"
   ]
  },
  {
   "cell_type": "markdown",
   "metadata": {},
   "source": [
    "## Use ChatGPT to help Generate Fake Profiles."
   ]
  },
  {
   "cell_type": "code",
   "execution_count": 155,
   "metadata": {},
   "outputs": [],
   "source": [
    "import random\n",
    "from faker import Faker\n",
    "\n",
    "# Initialize Faker instance\n",
    "fake = Faker()\n",
    "\n",
    "# Function to generate a dating app bio\n",
    "def generate_dating_bio():\n",
    "    fun_facts = [\n",
    "        \"I once met a celebrity on a hiking trip.\",\n",
    "        \"I can cook a mean spaghetti carbonara.\",\n",
    "        \"I’ve visited 10 countries in the past 5 years.\",\n",
    "        \"I can speak three languages, and one of them is sarcasm.\",\n",
    "        \"My cat thinks she's the queen of the house.\",\n",
    "        \"I’ve got a collection of 90’s comic books.\",\n",
    "        \"I make the best coffee in town. Don't @ me.\"\n",
    "    ]\n",
    "    \n",
    "    relationship_goals = [\n",
    "        \"Looking for someone who can make me laugh and is up for adventures.\",\n",
    "        \"I'm ready for something serious, but I’m open to seeing where things go.\",\n",
    "        \"Not just looking for a date, but someone to share memories with.\",\n",
    "        \"I’m searching for a genuine connection and deep conversations.\",\n",
    "        \"Casual fun, but always open to something deeper if we click.\",\n",
    "        \"I enjoy spontaneous weekends away, and I need someone who’s up for the ride.\"\n",
    "    ]\n",
    "    \n",
    "    personality_traits = [\n",
    "        \"I'm adventurous, spontaneous, and love trying new things.\",\n",
    "        \"I'm a bit introverted, but once I open up, you'll find I'm a total nerd.\",\n",
    "        \"A good sense of humor is key, and I’m always up for a good laugh.\",\n",
    "        \"I’m thoughtful and love making meaningful connections with people.\",\n",
    "        \"My friends say I’m loyal, easygoing, and always down for an impromptu road trip.\"\n",
    "    ]\n",
    "    \n",
    "    interests = [\n",
    "        \"In my free time, you’ll probably find me reading a good book or binge-watching my favorite shows.\",\n",
    "        \"I love hiking, playing sports, and spending time outdoors.\",\n",
    "        \"On weekends, I’m either trying out new recipes or exploring a new city.\",\n",
    "        \"I’m a tech geek who loves coding, gaming, and anything digital.\",\n",
    "        \"If I’m not working out, I’m catching up on the latest movies and podcasts.\"\n",
    "    ]\n",
    "    \n",
    "    values = [\n",
    "        \"Honesty and trust are the cornerstones of any relationship for me.\",\n",
    "        \"I value open communication and believe it’s key to a lasting relationship.\",\n",
    "        \"I’m all about loyalty, and I believe in supporting each other’s growth.\",\n",
    "        \"Mutual respect and shared goals make for the best relationships.\",\n",
    "        \"I’m into personal growth and want a partner who values that too.\"\n",
    "    ]\n",
    "\n",
    "    # Construct the bio by combining parts randomly\n",
    "    bio = f\"{random.choice(fun_facts)} {random.choice(relationship_goals)} {random.choice(personality_traits)} {random.choice(interests)} {random.choice(values)}\"\n",
    "    \n",
    "    return bio"
   ]
  },
  {
   "cell_type": "code",
   "execution_count": 156,
   "metadata": {},
   "outputs": [],
   "source": [
    "# Function to generate random profiles\n",
    "def generate_random_profile():\n",
    "    # Random profile data\n",
    "    birth_date = fake.date_of_birth(minimum_age=18, maximum_age=30)\n",
    "    gender = random.choice(['m', 'f', 'others'])\n",
    "    preferred_gender = random.choice(['m', 'f', 'others', 'any'])\n",
    "    looking_for = random.choice([\n",
    "        'long-term partner', 'long-term but short-term OK', 'short-term but long-term OK', 'casual fun', 'new friends', 'still figuring it out'\n",
    "    ])\n",
    "    faculty = random.choice([\n",
    "        'Engineering', 'Business', 'Architecture', 'Law', 'Science', 'Medicine', 'Arts'\n",
    "    ])\n",
    "    personal_traits = random.sample([\n",
    "        'outgoing', 'shy', 'funny', 'adventurous', 'thoughtful', 'introverted', 'creative', 'ambitious', 'curious'\n",
    "    ], k=random.randint(1, 3))\n",
    "    interests = random.sample([\n",
    "        'reading', 'traveling', 'sports', 'music', 'cooking', 'hiking', 'gaming', 'photography', 'technology', 'fashion'\n",
    "    ], k=random.randint(1, 3))\n",
    "    values = random.sample([\n",
    "        'honesty', 'loyalty', 'creativity', 'responsibility', 'empathy', 'respect', 'independence', 'spirituality'\n",
    "    ], k=random.randint(1, 3))\n",
    "    \n",
    "    # Generate a dating-related bio\n",
    "    bio = generate_dating_bio()\n",
    "\n",
    "    # Return profile\n",
    "    return {\n",
    "        'BirthDate': birth_date,\n",
    "        'Gender': gender,\n",
    "        'PreferredGender': preferred_gender,\n",
    "        'LookingFor': looking_for,\n",
    "        'Faculty': faculty,\n",
    "        'PersonalTraits': ', '.join(personal_traits),\n",
    "        'Interests': ', '.join(interests),\n",
    "        'Values': ', '.join(values),\n",
    "        'Bio': bio\n",
    "    }\n",
    "\n",
    "# Generate random profiles\n",
    "num_profiles = 2000  # Generate 2000 profiles\n",
    "profiles = [generate_random_profile() for _ in range(num_profiles)]\n",
    "\n",
    "# Convert to DataFrame\n",
    "import pandas as pd\n",
    "df_profiles = pd.DataFrame(profiles)"
   ]
  },
  {
   "cell_type": "code",
   "execution_count": 157,
   "metadata": {},
   "outputs": [],
   "source": [
    "# Save to CSV\n",
    "df_profiles.to_csv('random_chulalongkorn_profiles.csv', index=False)\n",
    "df_profiles.head().to_csv('random_chulalongkorn_profiles_head.csv', index=False)\n",
    "\n",
    "# Save to .pkl\n",
    "df_profiles.to_pickle('random_chulalongkorn_profiles.pkl')"
   ]
  },
  {
   "cell_type": "code",
   "execution_count": 158,
   "metadata": {},
   "outputs": [
    {
     "data": {
      "text/html": [
       "<div>\n",
       "<style scoped>\n",
       "    .dataframe tbody tr th:only-of-type {\n",
       "        vertical-align: middle;\n",
       "    }\n",
       "\n",
       "    .dataframe tbody tr th {\n",
       "        vertical-align: top;\n",
       "    }\n",
       "\n",
       "    .dataframe thead th {\n",
       "        text-align: right;\n",
       "    }\n",
       "</style>\n",
       "<table border=\"1\" class=\"dataframe\">\n",
       "  <thead>\n",
       "    <tr style=\"text-align: right;\">\n",
       "      <th></th>\n",
       "      <th>BirthDate</th>\n",
       "      <th>Gender</th>\n",
       "      <th>PreferredGender</th>\n",
       "      <th>LookingFor</th>\n",
       "      <th>Faculty</th>\n",
       "      <th>PersonalTraits</th>\n",
       "      <th>Interests</th>\n",
       "      <th>Values</th>\n",
       "      <th>Bio</th>\n",
       "    </tr>\n",
       "  </thead>\n",
       "  <tbody>\n",
       "    <tr>\n",
       "      <th>0</th>\n",
       "      <td>2006-02-18</td>\n",
       "      <td>f</td>\n",
       "      <td>others</td>\n",
       "      <td>new friends</td>\n",
       "      <td>Engineering</td>\n",
       "      <td>adventurous, shy</td>\n",
       "      <td>traveling, technology</td>\n",
       "      <td>spirituality, empathy, responsibility</td>\n",
       "      <td>I make the best coffee in town. Don't @ me. No...</td>\n",
       "    </tr>\n",
       "    <tr>\n",
       "      <th>1</th>\n",
       "      <td>2002-08-29</td>\n",
       "      <td>m</td>\n",
       "      <td>m</td>\n",
       "      <td>still figuring it out</td>\n",
       "      <td>Arts</td>\n",
       "      <td>curious, shy, ambitious</td>\n",
       "      <td>technology, photography</td>\n",
       "      <td>respect, independence</td>\n",
       "      <td>I’ve got a collection of 90’s comic books. I'm...</td>\n",
       "    </tr>\n",
       "    <tr>\n",
       "      <th>2</th>\n",
       "      <td>1999-08-11</td>\n",
       "      <td>others</td>\n",
       "      <td>f</td>\n",
       "      <td>new friends</td>\n",
       "      <td>Business</td>\n",
       "      <td>shy, creative, thoughtful</td>\n",
       "      <td>sports, cooking, technology</td>\n",
       "      <td>independence, loyalty</td>\n",
       "      <td>I can speak three languages, and one of them i...</td>\n",
       "    </tr>\n",
       "    <tr>\n",
       "      <th>3</th>\n",
       "      <td>1995-06-21</td>\n",
       "      <td>m</td>\n",
       "      <td>any</td>\n",
       "      <td>long-term partner</td>\n",
       "      <td>Law</td>\n",
       "      <td>outgoing, ambitious, adventurous</td>\n",
       "      <td>fashion, photography</td>\n",
       "      <td>loyalty, respect, spirituality</td>\n",
       "      <td>I’ve got a collection of 90’s comic books. I e...</td>\n",
       "    </tr>\n",
       "    <tr>\n",
       "      <th>4</th>\n",
       "      <td>1995-05-05</td>\n",
       "      <td>f</td>\n",
       "      <td>f</td>\n",
       "      <td>short-term but long-term OK</td>\n",
       "      <td>Architecture</td>\n",
       "      <td>creative</td>\n",
       "      <td>reading, fashion, traveling</td>\n",
       "      <td>responsibility, loyalty</td>\n",
       "      <td>I’ve got a collection of 90’s comic books. I'm...</td>\n",
       "    </tr>\n",
       "    <tr>\n",
       "      <th>...</th>\n",
       "      <td>...</td>\n",
       "      <td>...</td>\n",
       "      <td>...</td>\n",
       "      <td>...</td>\n",
       "      <td>...</td>\n",
       "      <td>...</td>\n",
       "      <td>...</td>\n",
       "      <td>...</td>\n",
       "      <td>...</td>\n",
       "    </tr>\n",
       "    <tr>\n",
       "      <th>1995</th>\n",
       "      <td>2000-08-08</td>\n",
       "      <td>others</td>\n",
       "      <td>m</td>\n",
       "      <td>short-term but long-term OK</td>\n",
       "      <td>Arts</td>\n",
       "      <td>funny, creative</td>\n",
       "      <td>fashion</td>\n",
       "      <td>creativity, empathy</td>\n",
       "      <td>I’ve visited 10 countries in the past 5 years....</td>\n",
       "    </tr>\n",
       "    <tr>\n",
       "      <th>1996</th>\n",
       "      <td>2005-07-09</td>\n",
       "      <td>others</td>\n",
       "      <td>f</td>\n",
       "      <td>long-term partner</td>\n",
       "      <td>Engineering</td>\n",
       "      <td>curious, outgoing, adventurous</td>\n",
       "      <td>music, reading</td>\n",
       "      <td>respect, responsibility</td>\n",
       "      <td>I’ve visited 10 countries in the past 5 years....</td>\n",
       "    </tr>\n",
       "    <tr>\n",
       "      <th>1997</th>\n",
       "      <td>1998-02-20</td>\n",
       "      <td>m</td>\n",
       "      <td>others</td>\n",
       "      <td>short-term but long-term OK</td>\n",
       "      <td>Arts</td>\n",
       "      <td>introverted, shy, funny</td>\n",
       "      <td>photography, technology, cooking</td>\n",
       "      <td>spirituality</td>\n",
       "      <td>I’ve visited 10 countries in the past 5 years....</td>\n",
       "    </tr>\n",
       "    <tr>\n",
       "      <th>1998</th>\n",
       "      <td>1999-03-06</td>\n",
       "      <td>others</td>\n",
       "      <td>others</td>\n",
       "      <td>long-term partner</td>\n",
       "      <td>Medicine</td>\n",
       "      <td>adventurous, thoughtful, curious</td>\n",
       "      <td>music, hiking</td>\n",
       "      <td>honesty, responsibility</td>\n",
       "      <td>I make the best coffee in town. Don't @ me. Ca...</td>\n",
       "    </tr>\n",
       "    <tr>\n",
       "      <th>1999</th>\n",
       "      <td>2003-04-03</td>\n",
       "      <td>f</td>\n",
       "      <td>others</td>\n",
       "      <td>casual fun</td>\n",
       "      <td>Science</td>\n",
       "      <td>outgoing, shy, introverted</td>\n",
       "      <td>cooking, sports</td>\n",
       "      <td>independence</td>\n",
       "      <td>I once met a celebrity on a hiking trip. Not j...</td>\n",
       "    </tr>\n",
       "  </tbody>\n",
       "</table>\n",
       "<p>2000 rows × 9 columns</p>\n",
       "</div>"
      ],
      "text/plain": [
       "       BirthDate  Gender PreferredGender                   LookingFor  \\\n",
       "0     2006-02-18       f          others                  new friends   \n",
       "1     2002-08-29       m               m        still figuring it out   \n",
       "2     1999-08-11  others               f                  new friends   \n",
       "3     1995-06-21       m             any            long-term partner   \n",
       "4     1995-05-05       f               f  short-term but long-term OK   \n",
       "...          ...     ...             ...                          ...   \n",
       "1995  2000-08-08  others               m  short-term but long-term OK   \n",
       "1996  2005-07-09  others               f            long-term partner   \n",
       "1997  1998-02-20       m          others  short-term but long-term OK   \n",
       "1998  1999-03-06  others          others            long-term partner   \n",
       "1999  2003-04-03       f          others                   casual fun   \n",
       "\n",
       "           Faculty                    PersonalTraits  \\\n",
       "0      Engineering                  adventurous, shy   \n",
       "1             Arts           curious, shy, ambitious   \n",
       "2         Business         shy, creative, thoughtful   \n",
       "3              Law  outgoing, ambitious, adventurous   \n",
       "4     Architecture                          creative   \n",
       "...            ...                               ...   \n",
       "1995          Arts                   funny, creative   \n",
       "1996   Engineering    curious, outgoing, adventurous   \n",
       "1997          Arts           introverted, shy, funny   \n",
       "1998      Medicine  adventurous, thoughtful, curious   \n",
       "1999       Science        outgoing, shy, introverted   \n",
       "\n",
       "                             Interests                                 Values  \\\n",
       "0                traveling, technology  spirituality, empathy, responsibility   \n",
       "1              technology, photography                  respect, independence   \n",
       "2          sports, cooking, technology                  independence, loyalty   \n",
       "3                 fashion, photography         loyalty, respect, spirituality   \n",
       "4          reading, fashion, traveling                responsibility, loyalty   \n",
       "...                                ...                                    ...   \n",
       "1995                           fashion                    creativity, empathy   \n",
       "1996                    music, reading                respect, responsibility   \n",
       "1997  photography, technology, cooking                           spirituality   \n",
       "1998                     music, hiking                honesty, responsibility   \n",
       "1999                   cooking, sports                           independence   \n",
       "\n",
       "                                                    Bio  \n",
       "0     I make the best coffee in town. Don't @ me. No...  \n",
       "1     I’ve got a collection of 90’s comic books. I'm...  \n",
       "2     I can speak three languages, and one of them i...  \n",
       "3     I’ve got a collection of 90’s comic books. I e...  \n",
       "4     I’ve got a collection of 90’s comic books. I'm...  \n",
       "...                                                 ...  \n",
       "1995  I’ve visited 10 countries in the past 5 years....  \n",
       "1996  I’ve visited 10 countries in the past 5 years....  \n",
       "1997  I’ve visited 10 countries in the past 5 years....  \n",
       "1998  I make the best coffee in town. Don't @ me. Ca...  \n",
       "1999  I once met a celebrity on a hiking trip. Not j...  \n",
       "\n",
       "[2000 rows x 9 columns]"
      ]
     },
     "execution_count": 158,
     "metadata": {},
     "output_type": "execute_result"
    }
   ],
   "source": [
    "df_profiles"
   ]
  },
  {
   "cell_type": "markdown",
   "metadata": {},
   "source": [
    "## NLP Data Exploration and Analysis on Dating Profile Bio"
   ]
  },
  {
   "cell_type": "markdown",
   "metadata": {},
   "source": [
    "### Importing Libraries"
   ]
  },
  {
   "cell_type": "code",
   "execution_count": 159,
   "metadata": {},
   "outputs": [],
   "source": [
    "import pandas as pd\n",
    "# pd.set_option('display.max_colwidth', 500)\n",
    "import numpy as np\n",
    "import plotly.express as px\n",
    "import _pickle as pickle\n",
    "from nltk.stem import WordNetLemmatizer\n",
    "from nltk import FreqDist\n",
    "from nltk.corpus import stopwords\n",
    "from nltk.collocations import BigramAssocMeasures, BigramCollocationFinder\n",
    "\n",
    "# Also, in terminals: python -m nltk.downloader all\n",
    "# May take a while\n"
   ]
  },
  {
   "cell_type": "markdown",
   "metadata": {},
   "source": [
    "### Loading .pkl file"
   ]
  },
  {
   "cell_type": "code",
   "execution_count": 160,
   "metadata": {},
   "outputs": [],
   "source": [
    "with open(\"random_chulalongkorn_profiles.pkl\",'rb') as file: # rb is read binary, to read as binary\n",
    "    df_pkl = pickle.load(file)"
   ]
  },
  {
   "cell_type": "code",
   "execution_count": 161,
   "metadata": {},
   "outputs": [
    {
     "data": {
      "text/html": [
       "<div>\n",
       "<style scoped>\n",
       "    .dataframe tbody tr th:only-of-type {\n",
       "        vertical-align: middle;\n",
       "    }\n",
       "\n",
       "    .dataframe tbody tr th {\n",
       "        vertical-align: top;\n",
       "    }\n",
       "\n",
       "    .dataframe thead th {\n",
       "        text-align: right;\n",
       "    }\n",
       "</style>\n",
       "<table border=\"1\" class=\"dataframe\">\n",
       "  <thead>\n",
       "    <tr style=\"text-align: right;\">\n",
       "      <th></th>\n",
       "      <th>BirthDate</th>\n",
       "      <th>Gender</th>\n",
       "      <th>PreferredGender</th>\n",
       "      <th>LookingFor</th>\n",
       "      <th>Faculty</th>\n",
       "      <th>PersonalTraits</th>\n",
       "      <th>Interests</th>\n",
       "      <th>Values</th>\n",
       "      <th>Bio</th>\n",
       "    </tr>\n",
       "  </thead>\n",
       "  <tbody>\n",
       "    <tr>\n",
       "      <th>0</th>\n",
       "      <td>2006-02-18</td>\n",
       "      <td>f</td>\n",
       "      <td>others</td>\n",
       "      <td>new friends</td>\n",
       "      <td>Engineering</td>\n",
       "      <td>adventurous, shy</td>\n",
       "      <td>traveling, technology</td>\n",
       "      <td>spirituality, empathy, responsibility</td>\n",
       "      <td>I make the best coffee in town. Don't @ me. No...</td>\n",
       "    </tr>\n",
       "    <tr>\n",
       "      <th>1</th>\n",
       "      <td>2002-08-29</td>\n",
       "      <td>m</td>\n",
       "      <td>m</td>\n",
       "      <td>still figuring it out</td>\n",
       "      <td>Arts</td>\n",
       "      <td>curious, shy, ambitious</td>\n",
       "      <td>technology, photography</td>\n",
       "      <td>respect, independence</td>\n",
       "      <td>I’ve got a collection of 90’s comic books. I'm...</td>\n",
       "    </tr>\n",
       "    <tr>\n",
       "      <th>2</th>\n",
       "      <td>1999-08-11</td>\n",
       "      <td>others</td>\n",
       "      <td>f</td>\n",
       "      <td>new friends</td>\n",
       "      <td>Business</td>\n",
       "      <td>shy, creative, thoughtful</td>\n",
       "      <td>sports, cooking, technology</td>\n",
       "      <td>independence, loyalty</td>\n",
       "      <td>I can speak three languages, and one of them i...</td>\n",
       "    </tr>\n",
       "    <tr>\n",
       "      <th>3</th>\n",
       "      <td>1995-06-21</td>\n",
       "      <td>m</td>\n",
       "      <td>any</td>\n",
       "      <td>long-term partner</td>\n",
       "      <td>Law</td>\n",
       "      <td>outgoing, ambitious, adventurous</td>\n",
       "      <td>fashion, photography</td>\n",
       "      <td>loyalty, respect, spirituality</td>\n",
       "      <td>I’ve got a collection of 90’s comic books. I e...</td>\n",
       "    </tr>\n",
       "    <tr>\n",
       "      <th>4</th>\n",
       "      <td>1995-05-05</td>\n",
       "      <td>f</td>\n",
       "      <td>f</td>\n",
       "      <td>short-term but long-term OK</td>\n",
       "      <td>Architecture</td>\n",
       "      <td>creative</td>\n",
       "      <td>reading, fashion, traveling</td>\n",
       "      <td>responsibility, loyalty</td>\n",
       "      <td>I’ve got a collection of 90’s comic books. I'm...</td>\n",
       "    </tr>\n",
       "  </tbody>\n",
       "</table>\n",
       "</div>"
      ],
      "text/plain": [
       "    BirthDate  Gender PreferredGender                   LookingFor  \\\n",
       "0  2006-02-18       f          others                  new friends   \n",
       "1  2002-08-29       m               m        still figuring it out   \n",
       "2  1999-08-11  others               f                  new friends   \n",
       "3  1995-06-21       m             any            long-term partner   \n",
       "4  1995-05-05       f               f  short-term but long-term OK   \n",
       "\n",
       "        Faculty                    PersonalTraits  \\\n",
       "0   Engineering                  adventurous, shy   \n",
       "1          Arts           curious, shy, ambitious   \n",
       "2      Business         shy, creative, thoughtful   \n",
       "3           Law  outgoing, ambitious, adventurous   \n",
       "4  Architecture                          creative   \n",
       "\n",
       "                     Interests                                 Values  \\\n",
       "0        traveling, technology  spirituality, empathy, responsibility   \n",
       "1      technology, photography                  respect, independence   \n",
       "2  sports, cooking, technology                  independence, loyalty   \n",
       "3         fashion, photography         loyalty, respect, spirituality   \n",
       "4  reading, fashion, traveling                responsibility, loyalty   \n",
       "\n",
       "                                                 Bio  \n",
       "0  I make the best coffee in town. Don't @ me. No...  \n",
       "1  I’ve got a collection of 90’s comic books. I'm...  \n",
       "2  I can speak three languages, and one of them i...  \n",
       "3  I’ve got a collection of 90’s comic books. I e...  \n",
       "4  I’ve got a collection of 90’s comic books. I'm...  "
      ]
     },
     "execution_count": 161,
     "metadata": {},
     "output_type": "execute_result"
    }
   ],
   "source": [
    "df_pkl.head()"
   ]
  },
  {
   "cell_type": "markdown",
   "metadata": {},
   "source": [
    "### Tokenization"
   ]
  },
  {
   "cell_type": "markdown",
   "metadata": {},
   "source": [
    "the process of splitting up sentences into individual tokens.\n",
    "\n",
    "i.e. “Take this sentence for an example of tokenization.”\n",
    "\n",
    "Tokenization: [‘Take’, ‘this’, ‘sentence’, ‘for’, ‘an’, ‘example’, ‘of’, ‘tokenization.’]"
   ]
  },
  {
   "cell_type": "markdown",
   "metadata": {},
   "source": [
    "### Stemming vs Lemmatization"
   ]
  },
  {
   "cell_type": "markdown",
   "metadata": {},
   "source": [
    "Both are the act of breaking down a word to its most basic components."
   ]
  },
  {
   "cell_type": "markdown",
   "metadata": {},
   "source": [
    "i.e. “tokenization”\n",
    "* Stemming: “tokeniza” by simply removing -tion\n",
    "* Lemmatizing: “tokenize” by returning the base form of the word."
   ]
  },
  {
   "cell_type": "markdown",
   "metadata": {},
   "source": [
    "### Tokenization and Lemmatization"
   ]
  },
  {
   "cell_type": "code",
   "execution_count": 296,
   "metadata": {},
   "outputs": [],
   "source": [
    "# Instantiating the lemmatizer\n",
    "lemmatizer = WordNetLemmatizer()\n",
    "\n",
    "# Tokenizing Function\n",
    "def tokenizeAndLemmatize(text):\n",
    "    \"\"\"\n",
    "    Tokenizing the bios of users, then lemmatizing them\n",
    "    \"\"\"\n",
    "    \n",
    "    # Creating a library of stopwords\n",
    "    # stops = stopwords.words('english')\n",
    "    stops = [\n",
    "    'i', 'me', 'my', 'myself', 'we', 'our', 'ours', 'ourselves', 'you', 'your', 'yours', 'yourself', 'yourselves', \n",
    "    'he', 'him', 'his', 'himself', 'she', 'her', 'hers', 'herself', 'it', 'its', 'itself', 'they', 'them', 'their', \n",
    "    'theirs', 'themselves', 'what', 'which', 'who', 'whom', 'this', 'that', 'these', 'those', 'am', 'is', 'are', 'was', \n",
    "    'were', 'be', 'been', 'being', 'have', 'has', 'had', 'having', 'do', 'does', 'did', 'doing', 'a', 'an', 'the', 'and', \n",
    "    'but', 'if', 'or', 'because', 'as', 'until', 'while', 'of', 'at', 'by', 'for', 'with', 'about', 'against', 'between', \n",
    "    'into', 'through', 'during', 'before', 'after', 'above', 'below', 'to', 'from', 'up', 'down', 'in', 'out', 'on', 'off', \n",
    "    'over', 'under', 'again', 'further', 'then', 'once', 'here', 'there', 'when', 'where', 'why', 'how', 'all', 'any', \n",
    "    'both', 'each', 'few', 'more', 'most', 'other', 'some', 'such', 'no', 'nor', 'not', 'only', 'own', 'same', 'so', \n",
    "    'than', 'too', 'very', 's', 't', 'can', 'will', 'just', 'don', 'should', 'now', 'd', 'll', 'm', 'o', 're', 've', 'y', \n",
    "    'ain', 'aren', 'couldn', 'didn', 'doesn', 'hadn', 'hasn', 'haven', 'isn', 'ma', 'mightn', 'mustn', 'needn', 'shan', \n",
    "    'shouldn', 'wasn', 'weren', 'won', 'wouldn', 'mr', \"i'm\", \"i've\", \"i’m\", \"i’ve\", \"you'll\", \"you’ll\", \"who's\", \"who’s\",\n",
    "    \"@\"\n",
    "    ]\n",
    "\n",
    "    \n",
    "    # Lowercasing the words\n",
    "    text = text.lower()\n",
    "    \n",
    "    # Removing the punctuations (periods)\n",
    "    text = text.replace('.', '')\n",
    "    text = text.replace(',', '')\n",
    "\n",
    "    # Removing the \\n\n",
    "    text = text.replace('\\n', ' ')\n",
    "    \n",
    "    # Splitting on spaces between words\n",
    "    text = text.split(' ')\n",
    "    \n",
    "    # Lemmatizing the words and removing stop words\n",
    "    text = [lemmatizer.lemmatize(i) for i in text if i not in stops]\n",
    "    \n",
    "    return text"
   ]
  },
  {
   "cell_type": "code",
   "execution_count": 297,
   "metadata": {},
   "outputs": [],
   "source": [
    "# Applying the function to each user bio\n",
    "df_pkl.loc[:,'Bio_processed'] = df_pkl.loc[:, 'Bio'].apply(tokenizeAndLemmatize)"
   ]
  },
  {
   "cell_type": "code",
   "execution_count": 298,
   "metadata": {},
   "outputs": [
    {
     "data": {
      "text/html": [
       "<div>\n",
       "<style scoped>\n",
       "    .dataframe tbody tr th:only-of-type {\n",
       "        vertical-align: middle;\n",
       "    }\n",
       "\n",
       "    .dataframe tbody tr th {\n",
       "        vertical-align: top;\n",
       "    }\n",
       "\n",
       "    .dataframe thead th {\n",
       "        text-align: right;\n",
       "    }\n",
       "</style>\n",
       "<table border=\"1\" class=\"dataframe\">\n",
       "  <thead>\n",
       "    <tr style=\"text-align: right;\">\n",
       "      <th></th>\n",
       "      <th>BirthDate</th>\n",
       "      <th>Gender</th>\n",
       "      <th>PreferredGender</th>\n",
       "      <th>LookingFor</th>\n",
       "      <th>Faculty</th>\n",
       "      <th>PersonalTraits</th>\n",
       "      <th>Interests</th>\n",
       "      <th>Values</th>\n",
       "      <th>Bio</th>\n",
       "      <th>Bio_processed</th>\n",
       "    </tr>\n",
       "  </thead>\n",
       "  <tbody>\n",
       "    <tr>\n",
       "      <th>0</th>\n",
       "      <td>2006-02-18</td>\n",
       "      <td>f</td>\n",
       "      <td>others</td>\n",
       "      <td>new friends</td>\n",
       "      <td>Engineering</td>\n",
       "      <td>adventurous, shy</td>\n",
       "      <td>traveling, technology</td>\n",
       "      <td>spirituality, empathy, responsibility</td>\n",
       "      <td>I make the best coffee in town. Don't @ me. No...</td>\n",
       "      <td>[make, best, coffee, town, don't, looking, dat...</td>\n",
       "    </tr>\n",
       "    <tr>\n",
       "      <th>1</th>\n",
       "      <td>2002-08-29</td>\n",
       "      <td>m</td>\n",
       "      <td>m</td>\n",
       "      <td>still figuring it out</td>\n",
       "      <td>Arts</td>\n",
       "      <td>curious, shy, ambitious</td>\n",
       "      <td>technology, photography</td>\n",
       "      <td>respect, independence</td>\n",
       "      <td>I’ve got a collection of 90’s comic books. I'm...</td>\n",
       "      <td>[got, collection, 90’s, comic, book, ready, so...</td>\n",
       "    </tr>\n",
       "    <tr>\n",
       "      <th>2</th>\n",
       "      <td>1999-08-11</td>\n",
       "      <td>others</td>\n",
       "      <td>f</td>\n",
       "      <td>new friends</td>\n",
       "      <td>Business</td>\n",
       "      <td>shy, creative, thoughtful</td>\n",
       "      <td>sports, cooking, technology</td>\n",
       "      <td>independence, loyalty</td>\n",
       "      <td>I can speak three languages, and one of them i...</td>\n",
       "      <td>[speak, three, language, one, sarcasm, looking...</td>\n",
       "    </tr>\n",
       "    <tr>\n",
       "      <th>3</th>\n",
       "      <td>1995-06-21</td>\n",
       "      <td>m</td>\n",
       "      <td>any</td>\n",
       "      <td>long-term partner</td>\n",
       "      <td>Law</td>\n",
       "      <td>outgoing, ambitious, adventurous</td>\n",
       "      <td>fashion, photography</td>\n",
       "      <td>loyalty, respect, spirituality</td>\n",
       "      <td>I’ve got a collection of 90’s comic books. I e...</td>\n",
       "      <td>[got, collection, 90’s, comic, book, enjoy, sp...</td>\n",
       "    </tr>\n",
       "    <tr>\n",
       "      <th>4</th>\n",
       "      <td>1995-05-05</td>\n",
       "      <td>f</td>\n",
       "      <td>f</td>\n",
       "      <td>short-term but long-term OK</td>\n",
       "      <td>Architecture</td>\n",
       "      <td>creative</td>\n",
       "      <td>reading, fashion, traveling</td>\n",
       "      <td>responsibility, loyalty</td>\n",
       "      <td>I’ve got a collection of 90’s comic books. I'm...</td>\n",
       "      <td>[got, collection, 90’s, comic, book, ready, so...</td>\n",
       "    </tr>\n",
       "    <tr>\n",
       "      <th>...</th>\n",
       "      <td>...</td>\n",
       "      <td>...</td>\n",
       "      <td>...</td>\n",
       "      <td>...</td>\n",
       "      <td>...</td>\n",
       "      <td>...</td>\n",
       "      <td>...</td>\n",
       "      <td>...</td>\n",
       "      <td>...</td>\n",
       "      <td>...</td>\n",
       "    </tr>\n",
       "    <tr>\n",
       "      <th>1995</th>\n",
       "      <td>2000-08-08</td>\n",
       "      <td>others</td>\n",
       "      <td>m</td>\n",
       "      <td>short-term but long-term OK</td>\n",
       "      <td>Arts</td>\n",
       "      <td>funny, creative</td>\n",
       "      <td>fashion</td>\n",
       "      <td>creativity, empathy</td>\n",
       "      <td>I’ve visited 10 countries in the past 5 years....</td>\n",
       "      <td>[visited, 10, country, past, 5, year, ready, s...</td>\n",
       "    </tr>\n",
       "    <tr>\n",
       "      <th>1996</th>\n",
       "      <td>2005-07-09</td>\n",
       "      <td>others</td>\n",
       "      <td>f</td>\n",
       "      <td>long-term partner</td>\n",
       "      <td>Engineering</td>\n",
       "      <td>curious, outgoing, adventurous</td>\n",
       "      <td>music, reading</td>\n",
       "      <td>respect, responsibility</td>\n",
       "      <td>I’ve visited 10 countries in the past 5 years....</td>\n",
       "      <td>[visited, 10, country, past, 5, year, looking,...</td>\n",
       "    </tr>\n",
       "    <tr>\n",
       "      <th>1997</th>\n",
       "      <td>1998-02-20</td>\n",
       "      <td>m</td>\n",
       "      <td>others</td>\n",
       "      <td>short-term but long-term OK</td>\n",
       "      <td>Arts</td>\n",
       "      <td>introverted, shy, funny</td>\n",
       "      <td>photography, technology, cooking</td>\n",
       "      <td>spirituality</td>\n",
       "      <td>I’ve visited 10 countries in the past 5 years....</td>\n",
       "      <td>[visited, 10, country, past, 5, year, looking,...</td>\n",
       "    </tr>\n",
       "    <tr>\n",
       "      <th>1998</th>\n",
       "      <td>1999-03-06</td>\n",
       "      <td>others</td>\n",
       "      <td>others</td>\n",
       "      <td>long-term partner</td>\n",
       "      <td>Medicine</td>\n",
       "      <td>adventurous, thoughtful, curious</td>\n",
       "      <td>music, hiking</td>\n",
       "      <td>honesty, responsibility</td>\n",
       "      <td>I make the best coffee in town. Don't @ me. Ca...</td>\n",
       "      <td>[make, best, coffee, town, don't, casual, fun,...</td>\n",
       "    </tr>\n",
       "    <tr>\n",
       "      <th>1999</th>\n",
       "      <td>2003-04-03</td>\n",
       "      <td>f</td>\n",
       "      <td>others</td>\n",
       "      <td>casual fun</td>\n",
       "      <td>Science</td>\n",
       "      <td>outgoing, shy, introverted</td>\n",
       "      <td>cooking, sports</td>\n",
       "      <td>independence</td>\n",
       "      <td>I once met a celebrity on a hiking trip. Not j...</td>\n",
       "      <td>[met, celebrity, hiking, trip, looking, date, ...</td>\n",
       "    </tr>\n",
       "  </tbody>\n",
       "</table>\n",
       "<p>2000 rows × 10 columns</p>\n",
       "</div>"
      ],
      "text/plain": [
       "       BirthDate  Gender PreferredGender                   LookingFor  \\\n",
       "0     2006-02-18       f          others                  new friends   \n",
       "1     2002-08-29       m               m        still figuring it out   \n",
       "2     1999-08-11  others               f                  new friends   \n",
       "3     1995-06-21       m             any            long-term partner   \n",
       "4     1995-05-05       f               f  short-term but long-term OK   \n",
       "...          ...     ...             ...                          ...   \n",
       "1995  2000-08-08  others               m  short-term but long-term OK   \n",
       "1996  2005-07-09  others               f            long-term partner   \n",
       "1997  1998-02-20       m          others  short-term but long-term OK   \n",
       "1998  1999-03-06  others          others            long-term partner   \n",
       "1999  2003-04-03       f          others                   casual fun   \n",
       "\n",
       "           Faculty                    PersonalTraits  \\\n",
       "0      Engineering                  adventurous, shy   \n",
       "1             Arts           curious, shy, ambitious   \n",
       "2         Business         shy, creative, thoughtful   \n",
       "3              Law  outgoing, ambitious, adventurous   \n",
       "4     Architecture                          creative   \n",
       "...            ...                               ...   \n",
       "1995          Arts                   funny, creative   \n",
       "1996   Engineering    curious, outgoing, adventurous   \n",
       "1997          Arts           introverted, shy, funny   \n",
       "1998      Medicine  adventurous, thoughtful, curious   \n",
       "1999       Science        outgoing, shy, introverted   \n",
       "\n",
       "                             Interests                                 Values  \\\n",
       "0                traveling, technology  spirituality, empathy, responsibility   \n",
       "1              technology, photography                  respect, independence   \n",
       "2          sports, cooking, technology                  independence, loyalty   \n",
       "3                 fashion, photography         loyalty, respect, spirituality   \n",
       "4          reading, fashion, traveling                responsibility, loyalty   \n",
       "...                                ...                                    ...   \n",
       "1995                           fashion                    creativity, empathy   \n",
       "1996                    music, reading                respect, responsibility   \n",
       "1997  photography, technology, cooking                           spirituality   \n",
       "1998                     music, hiking                honesty, responsibility   \n",
       "1999                   cooking, sports                           independence   \n",
       "\n",
       "                                                    Bio  \\\n",
       "0     I make the best coffee in town. Don't @ me. No...   \n",
       "1     I’ve got a collection of 90’s comic books. I'm...   \n",
       "2     I can speak three languages, and one of them i...   \n",
       "3     I’ve got a collection of 90’s comic books. I e...   \n",
       "4     I’ve got a collection of 90’s comic books. I'm...   \n",
       "...                                                 ...   \n",
       "1995  I’ve visited 10 countries in the past 5 years....   \n",
       "1996  I’ve visited 10 countries in the past 5 years....   \n",
       "1997  I’ve visited 10 countries in the past 5 years....   \n",
       "1998  I make the best coffee in town. Don't @ me. Ca...   \n",
       "1999  I once met a celebrity on a hiking trip. Not j...   \n",
       "\n",
       "                                          Bio_processed  \n",
       "0     [make, best, coffee, town, don't, looking, dat...  \n",
       "1     [got, collection, 90’s, comic, book, ready, so...  \n",
       "2     [speak, three, language, one, sarcasm, looking...  \n",
       "3     [got, collection, 90’s, comic, book, enjoy, sp...  \n",
       "4     [got, collection, 90’s, comic, book, ready, so...  \n",
       "...                                                 ...  \n",
       "1995  [visited, 10, country, past, 5, year, ready, s...  \n",
       "1996  [visited, 10, country, past, 5, year, looking,...  \n",
       "1997  [visited, 10, country, past, 5, year, looking,...  \n",
       "1998  [make, best, coffee, town, don't, casual, fun,...  \n",
       "1999  [met, celebrity, hiking, trip, looking, date, ...  \n",
       "\n",
       "[2000 rows x 10 columns]"
      ]
     },
     "execution_count": 298,
     "metadata": {},
     "output_type": "execute_result"
    }
   ],
   "source": [
    "df_pkl"
   ]
  },
  {
   "cell_type": "code",
   "execution_count": 299,
   "metadata": {},
   "outputs": [],
   "source": [
    "df_pkl.to_csv('random_chulalongkorn_profiles_bioTokenized.csv', index=False)"
   ]
  },
  {
   "cell_type": "markdown",
   "metadata": {},
   "source": [
    "### Most Frequent Words"
   ]
  },
  {
   "cell_type": "markdown",
   "metadata": {},
   "source": [
    "#### Word by itself"
   ]
  },
  {
   "cell_type": "code",
   "execution_count": 300,
   "metadata": {},
   "outputs": [],
   "source": [
    "words = []\n",
    "\n",
    "for bio in df_pkl['Bio_processed']:\n",
    "    words.extend(bio)\n",
    "\n",
    "df_words = pd.DataFrame({'word':words})"
   ]
  },
  {
   "cell_type": "code",
   "execution_count": 301,
   "metadata": {},
   "outputs": [
    {
     "data": {
      "text/html": [
       "<div>\n",
       "<style scoped>\n",
       "    .dataframe tbody tr th:only-of-type {\n",
       "        vertical-align: middle;\n",
       "    }\n",
       "\n",
       "    .dataframe tbody tr th {\n",
       "        vertical-align: top;\n",
       "    }\n",
       "\n",
       "    .dataframe thead th {\n",
       "        text-align: right;\n",
       "    }\n",
       "</style>\n",
       "<table border=\"1\" class=\"dataframe\">\n",
       "  <thead>\n",
       "    <tr style=\"text-align: right;\">\n",
       "      <th></th>\n",
       "      <th>word</th>\n",
       "    </tr>\n",
       "  </thead>\n",
       "  <tbody>\n",
       "    <tr>\n",
       "      <th>0</th>\n",
       "      <td>make</td>\n",
       "    </tr>\n",
       "    <tr>\n",
       "      <th>1</th>\n",
       "      <td>best</td>\n",
       "    </tr>\n",
       "    <tr>\n",
       "      <th>2</th>\n",
       "      <td>coffee</td>\n",
       "    </tr>\n",
       "    <tr>\n",
       "      <th>3</th>\n",
       "      <td>town</td>\n",
       "    </tr>\n",
       "    <tr>\n",
       "      <th>4</th>\n",
       "      <td>don't</td>\n",
       "    </tr>\n",
       "    <tr>\n",
       "      <th>...</th>\n",
       "      <td>...</td>\n",
       "    </tr>\n",
       "    <tr>\n",
       "      <th>61099</th>\n",
       "      <td>shared</td>\n",
       "    </tr>\n",
       "    <tr>\n",
       "      <th>61100</th>\n",
       "      <td>goal</td>\n",
       "    </tr>\n",
       "    <tr>\n",
       "      <th>61101</th>\n",
       "      <td>make</td>\n",
       "    </tr>\n",
       "    <tr>\n",
       "      <th>61102</th>\n",
       "      <td>best</td>\n",
       "    </tr>\n",
       "    <tr>\n",
       "      <th>61103</th>\n",
       "      <td>relationship</td>\n",
       "    </tr>\n",
       "  </tbody>\n",
       "</table>\n",
       "<p>61104 rows × 1 columns</p>\n",
       "</div>"
      ],
      "text/plain": [
       "               word\n",
       "0              make\n",
       "1              best\n",
       "2            coffee\n",
       "3              town\n",
       "4             don't\n",
       "...             ...\n",
       "61099        shared\n",
       "61100          goal\n",
       "61101          make\n",
       "61102          best\n",
       "61103  relationship\n",
       "\n",
       "[61104 rows x 1 columns]"
      ]
     },
     "execution_count": 301,
     "metadata": {},
     "output_type": "execute_result"
    }
   ],
   "source": [
    "df_words"
   ]
  },
  {
   "cell_type": "code",
   "execution_count": 302,
   "metadata": {},
   "outputs": [],
   "source": [
    "df_words_count = df_words.value_counts().reset_index()"
   ]
  },
  {
   "cell_type": "code",
   "execution_count": 303,
   "metadata": {},
   "outputs": [
    {
     "data": {
      "text/html": [
       "<div>\n",
       "<style scoped>\n",
       "    .dataframe tbody tr th:only-of-type {\n",
       "        vertical-align: middle;\n",
       "    }\n",
       "\n",
       "    .dataframe tbody tr th {\n",
       "        vertical-align: top;\n",
       "    }\n",
       "\n",
       "    .dataframe thead th {\n",
       "        text-align: right;\n",
       "    }\n",
       "</style>\n",
       "<table border=\"1\" class=\"dataframe\">\n",
       "  <thead>\n",
       "    <tr style=\"text-align: right;\">\n",
       "      <th></th>\n",
       "      <th>word</th>\n",
       "      <th>count</th>\n",
       "    </tr>\n",
       "  </thead>\n",
       "  <tbody>\n",
       "    <tr>\n",
       "      <th>0</th>\n",
       "      <td>love</td>\n",
       "      <td>1539</td>\n",
       "    </tr>\n",
       "    <tr>\n",
       "      <th>1</th>\n",
       "      <td>open</td>\n",
       "      <td>1418</td>\n",
       "    </tr>\n",
       "    <tr>\n",
       "      <th>2</th>\n",
       "      <td>good</td>\n",
       "      <td>1242</td>\n",
       "    </tr>\n",
       "    <tr>\n",
       "      <th>3</th>\n",
       "      <td>relationship</td>\n",
       "      <td>1209</td>\n",
       "    </tr>\n",
       "    <tr>\n",
       "      <th>4</th>\n",
       "      <td>new</td>\n",
       "      <td>1196</td>\n",
       "    </tr>\n",
       "    <tr>\n",
       "      <th>...</th>\n",
       "      <td>...</td>\n",
       "      <td>...</td>\n",
       "    </tr>\n",
       "    <tr>\n",
       "      <th>128</th>\n",
       "      <td>5</td>\n",
       "      <td>273</td>\n",
       "    </tr>\n",
       "    <tr>\n",
       "      <th>129</th>\n",
       "      <td>country</td>\n",
       "      <td>273</td>\n",
       "    </tr>\n",
       "    <tr>\n",
       "      <th>130</th>\n",
       "      <td>year</td>\n",
       "      <td>273</td>\n",
       "    </tr>\n",
       "    <tr>\n",
       "      <th>131</th>\n",
       "      <td>met</td>\n",
       "      <td>252</td>\n",
       "    </tr>\n",
       "    <tr>\n",
       "      <th>132</th>\n",
       "      <td>celebrity</td>\n",
       "      <td>252</td>\n",
       "    </tr>\n",
       "  </tbody>\n",
       "</table>\n",
       "<p>133 rows × 2 columns</p>\n",
       "</div>"
      ],
      "text/plain": [
       "             word  count\n",
       "0            love   1539\n",
       "1            open   1418\n",
       "2            good   1242\n",
       "3    relationship   1209\n",
       "4             new   1196\n",
       "..            ...    ...\n",
       "128             5    273\n",
       "129       country    273\n",
       "130          year    273\n",
       "131           met    252\n",
       "132     celebrity    252\n",
       "\n",
       "[133 rows x 2 columns]"
      ]
     },
     "execution_count": 303,
     "metadata": {},
     "output_type": "execute_result"
    }
   ],
   "source": [
    "df_words_count"
   ]
  },
  {
   "cell_type": "code",
   "execution_count": 304,
   "metadata": {},
   "outputs": [
    {
     "data": {
      "application/vnd.plotly.v1+json": {
       "config": {
        "plotlyServerURL": "https://plot.ly"
       },
       "data": [
        {
         "alignmentgroup": "True",
         "hovertemplate": "word=%{x}<br>count=%{y}<extra></extra>",
         "legendgroup": "",
         "marker": {
          "color": "#636efa",
          "pattern": {
           "shape": ""
          }
         },
         "name": "",
         "offsetgroup": "",
         "orientation": "v",
         "showlegend": false,
         "textposition": "auto",
         "type": "bar",
         "x": [
          "love",
          "open",
          "good",
          "relationship",
          "new",
          "always",
          "someone",
          "make",
          "find",
          "growth",
          "key",
          "believe",
          "time",
          "trying",
          "weekend",
          "connection",
          "laugh",
          "value",
          "book",
          "spontaneous",
          "looking",
          "best",
          "thing",
          "trip",
          "something"
         ],
         "xaxis": "x",
         "y": [
          1539,
          1418,
          1242,
          1209,
          1196,
          1141,
          1023,
          1002,
          813,
          791,
          790,
          787,
          786,
          777,
          762,
          756,
          753,
          744,
          709,
          701,
          680,
          669,
          669,
          647,
          637
         ],
         "yaxis": "y"
        }
       ],
       "layout": {
        "barmode": "relative",
        "legend": {
         "tracegroupgap": 0
        },
        "template": {
         "data": {
          "bar": [
           {
            "error_x": {
             "color": "#2a3f5f"
            },
            "error_y": {
             "color": "#2a3f5f"
            },
            "marker": {
             "line": {
              "color": "#E5ECF6",
              "width": 0.5
             },
             "pattern": {
              "fillmode": "overlay",
              "size": 10,
              "solidity": 0.2
             }
            },
            "type": "bar"
           }
          ],
          "barpolar": [
           {
            "marker": {
             "line": {
              "color": "#E5ECF6",
              "width": 0.5
             },
             "pattern": {
              "fillmode": "overlay",
              "size": 10,
              "solidity": 0.2
             }
            },
            "type": "barpolar"
           }
          ],
          "carpet": [
           {
            "aaxis": {
             "endlinecolor": "#2a3f5f",
             "gridcolor": "white",
             "linecolor": "white",
             "minorgridcolor": "white",
             "startlinecolor": "#2a3f5f"
            },
            "baxis": {
             "endlinecolor": "#2a3f5f",
             "gridcolor": "white",
             "linecolor": "white",
             "minorgridcolor": "white",
             "startlinecolor": "#2a3f5f"
            },
            "type": "carpet"
           }
          ],
          "choropleth": [
           {
            "colorbar": {
             "outlinewidth": 0,
             "ticks": ""
            },
            "type": "choropleth"
           }
          ],
          "contour": [
           {
            "colorbar": {
             "outlinewidth": 0,
             "ticks": ""
            },
            "colorscale": [
             [
              0,
              "#0d0887"
             ],
             [
              0.1111111111111111,
              "#46039f"
             ],
             [
              0.2222222222222222,
              "#7201a8"
             ],
             [
              0.3333333333333333,
              "#9c179e"
             ],
             [
              0.4444444444444444,
              "#bd3786"
             ],
             [
              0.5555555555555556,
              "#d8576b"
             ],
             [
              0.6666666666666666,
              "#ed7953"
             ],
             [
              0.7777777777777778,
              "#fb9f3a"
             ],
             [
              0.8888888888888888,
              "#fdca26"
             ],
             [
              1,
              "#f0f921"
             ]
            ],
            "type": "contour"
           }
          ],
          "contourcarpet": [
           {
            "colorbar": {
             "outlinewidth": 0,
             "ticks": ""
            },
            "type": "contourcarpet"
           }
          ],
          "heatmap": [
           {
            "colorbar": {
             "outlinewidth": 0,
             "ticks": ""
            },
            "colorscale": [
             [
              0,
              "#0d0887"
             ],
             [
              0.1111111111111111,
              "#46039f"
             ],
             [
              0.2222222222222222,
              "#7201a8"
             ],
             [
              0.3333333333333333,
              "#9c179e"
             ],
             [
              0.4444444444444444,
              "#bd3786"
             ],
             [
              0.5555555555555556,
              "#d8576b"
             ],
             [
              0.6666666666666666,
              "#ed7953"
             ],
             [
              0.7777777777777778,
              "#fb9f3a"
             ],
             [
              0.8888888888888888,
              "#fdca26"
             ],
             [
              1,
              "#f0f921"
             ]
            ],
            "type": "heatmap"
           }
          ],
          "heatmapgl": [
           {
            "colorbar": {
             "outlinewidth": 0,
             "ticks": ""
            },
            "colorscale": [
             [
              0,
              "#0d0887"
             ],
             [
              0.1111111111111111,
              "#46039f"
             ],
             [
              0.2222222222222222,
              "#7201a8"
             ],
             [
              0.3333333333333333,
              "#9c179e"
             ],
             [
              0.4444444444444444,
              "#bd3786"
             ],
             [
              0.5555555555555556,
              "#d8576b"
             ],
             [
              0.6666666666666666,
              "#ed7953"
             ],
             [
              0.7777777777777778,
              "#fb9f3a"
             ],
             [
              0.8888888888888888,
              "#fdca26"
             ],
             [
              1,
              "#f0f921"
             ]
            ],
            "type": "heatmapgl"
           }
          ],
          "histogram": [
           {
            "marker": {
             "pattern": {
              "fillmode": "overlay",
              "size": 10,
              "solidity": 0.2
             }
            },
            "type": "histogram"
           }
          ],
          "histogram2d": [
           {
            "colorbar": {
             "outlinewidth": 0,
             "ticks": ""
            },
            "colorscale": [
             [
              0,
              "#0d0887"
             ],
             [
              0.1111111111111111,
              "#46039f"
             ],
             [
              0.2222222222222222,
              "#7201a8"
             ],
             [
              0.3333333333333333,
              "#9c179e"
             ],
             [
              0.4444444444444444,
              "#bd3786"
             ],
             [
              0.5555555555555556,
              "#d8576b"
             ],
             [
              0.6666666666666666,
              "#ed7953"
             ],
             [
              0.7777777777777778,
              "#fb9f3a"
             ],
             [
              0.8888888888888888,
              "#fdca26"
             ],
             [
              1,
              "#f0f921"
             ]
            ],
            "type": "histogram2d"
           }
          ],
          "histogram2dcontour": [
           {
            "colorbar": {
             "outlinewidth": 0,
             "ticks": ""
            },
            "colorscale": [
             [
              0,
              "#0d0887"
             ],
             [
              0.1111111111111111,
              "#46039f"
             ],
             [
              0.2222222222222222,
              "#7201a8"
             ],
             [
              0.3333333333333333,
              "#9c179e"
             ],
             [
              0.4444444444444444,
              "#bd3786"
             ],
             [
              0.5555555555555556,
              "#d8576b"
             ],
             [
              0.6666666666666666,
              "#ed7953"
             ],
             [
              0.7777777777777778,
              "#fb9f3a"
             ],
             [
              0.8888888888888888,
              "#fdca26"
             ],
             [
              1,
              "#f0f921"
             ]
            ],
            "type": "histogram2dcontour"
           }
          ],
          "mesh3d": [
           {
            "colorbar": {
             "outlinewidth": 0,
             "ticks": ""
            },
            "type": "mesh3d"
           }
          ],
          "parcoords": [
           {
            "line": {
             "colorbar": {
              "outlinewidth": 0,
              "ticks": ""
             }
            },
            "type": "parcoords"
           }
          ],
          "pie": [
           {
            "automargin": true,
            "type": "pie"
           }
          ],
          "scatter": [
           {
            "fillpattern": {
             "fillmode": "overlay",
             "size": 10,
             "solidity": 0.2
            },
            "type": "scatter"
           }
          ],
          "scatter3d": [
           {
            "line": {
             "colorbar": {
              "outlinewidth": 0,
              "ticks": ""
             }
            },
            "marker": {
             "colorbar": {
              "outlinewidth": 0,
              "ticks": ""
             }
            },
            "type": "scatter3d"
           }
          ],
          "scattercarpet": [
           {
            "marker": {
             "colorbar": {
              "outlinewidth": 0,
              "ticks": ""
             }
            },
            "type": "scattercarpet"
           }
          ],
          "scattergeo": [
           {
            "marker": {
             "colorbar": {
              "outlinewidth": 0,
              "ticks": ""
             }
            },
            "type": "scattergeo"
           }
          ],
          "scattergl": [
           {
            "marker": {
             "colorbar": {
              "outlinewidth": 0,
              "ticks": ""
             }
            },
            "type": "scattergl"
           }
          ],
          "scattermapbox": [
           {
            "marker": {
             "colorbar": {
              "outlinewidth": 0,
              "ticks": ""
             }
            },
            "type": "scattermapbox"
           }
          ],
          "scatterpolar": [
           {
            "marker": {
             "colorbar": {
              "outlinewidth": 0,
              "ticks": ""
             }
            },
            "type": "scatterpolar"
           }
          ],
          "scatterpolargl": [
           {
            "marker": {
             "colorbar": {
              "outlinewidth": 0,
              "ticks": ""
             }
            },
            "type": "scatterpolargl"
           }
          ],
          "scatterternary": [
           {
            "marker": {
             "colorbar": {
              "outlinewidth": 0,
              "ticks": ""
             }
            },
            "type": "scatterternary"
           }
          ],
          "surface": [
           {
            "colorbar": {
             "outlinewidth": 0,
             "ticks": ""
            },
            "colorscale": [
             [
              0,
              "#0d0887"
             ],
             [
              0.1111111111111111,
              "#46039f"
             ],
             [
              0.2222222222222222,
              "#7201a8"
             ],
             [
              0.3333333333333333,
              "#9c179e"
             ],
             [
              0.4444444444444444,
              "#bd3786"
             ],
             [
              0.5555555555555556,
              "#d8576b"
             ],
             [
              0.6666666666666666,
              "#ed7953"
             ],
             [
              0.7777777777777778,
              "#fb9f3a"
             ],
             [
              0.8888888888888888,
              "#fdca26"
             ],
             [
              1,
              "#f0f921"
             ]
            ],
            "type": "surface"
           }
          ],
          "table": [
           {
            "cells": {
             "fill": {
              "color": "#EBF0F8"
             },
             "line": {
              "color": "white"
             }
            },
            "header": {
             "fill": {
              "color": "#C8D4E3"
             },
             "line": {
              "color": "white"
             }
            },
            "type": "table"
           }
          ]
         },
         "layout": {
          "annotationdefaults": {
           "arrowcolor": "#2a3f5f",
           "arrowhead": 0,
           "arrowwidth": 1
          },
          "autotypenumbers": "strict",
          "coloraxis": {
           "colorbar": {
            "outlinewidth": 0,
            "ticks": ""
           }
          },
          "colorscale": {
           "diverging": [
            [
             0,
             "#8e0152"
            ],
            [
             0.1,
             "#c51b7d"
            ],
            [
             0.2,
             "#de77ae"
            ],
            [
             0.3,
             "#f1b6da"
            ],
            [
             0.4,
             "#fde0ef"
            ],
            [
             0.5,
             "#f7f7f7"
            ],
            [
             0.6,
             "#e6f5d0"
            ],
            [
             0.7,
             "#b8e186"
            ],
            [
             0.8,
             "#7fbc41"
            ],
            [
             0.9,
             "#4d9221"
            ],
            [
             1,
             "#276419"
            ]
           ],
           "sequential": [
            [
             0,
             "#0d0887"
            ],
            [
             0.1111111111111111,
             "#46039f"
            ],
            [
             0.2222222222222222,
             "#7201a8"
            ],
            [
             0.3333333333333333,
             "#9c179e"
            ],
            [
             0.4444444444444444,
             "#bd3786"
            ],
            [
             0.5555555555555556,
             "#d8576b"
            ],
            [
             0.6666666666666666,
             "#ed7953"
            ],
            [
             0.7777777777777778,
             "#fb9f3a"
            ],
            [
             0.8888888888888888,
             "#fdca26"
            ],
            [
             1,
             "#f0f921"
            ]
           ],
           "sequentialminus": [
            [
             0,
             "#0d0887"
            ],
            [
             0.1111111111111111,
             "#46039f"
            ],
            [
             0.2222222222222222,
             "#7201a8"
            ],
            [
             0.3333333333333333,
             "#9c179e"
            ],
            [
             0.4444444444444444,
             "#bd3786"
            ],
            [
             0.5555555555555556,
             "#d8576b"
            ],
            [
             0.6666666666666666,
             "#ed7953"
            ],
            [
             0.7777777777777778,
             "#fb9f3a"
            ],
            [
             0.8888888888888888,
             "#fdca26"
            ],
            [
             1,
             "#f0f921"
            ]
           ]
          },
          "colorway": [
           "#636efa",
           "#EF553B",
           "#00cc96",
           "#ab63fa",
           "#FFA15A",
           "#19d3f3",
           "#FF6692",
           "#B6E880",
           "#FF97FF",
           "#FECB52"
          ],
          "font": {
           "color": "#2a3f5f"
          },
          "geo": {
           "bgcolor": "white",
           "lakecolor": "white",
           "landcolor": "#E5ECF6",
           "showlakes": true,
           "showland": true,
           "subunitcolor": "white"
          },
          "hoverlabel": {
           "align": "left"
          },
          "hovermode": "closest",
          "mapbox": {
           "style": "light"
          },
          "paper_bgcolor": "white",
          "plot_bgcolor": "#E5ECF6",
          "polar": {
           "angularaxis": {
            "gridcolor": "white",
            "linecolor": "white",
            "ticks": ""
           },
           "bgcolor": "#E5ECF6",
           "radialaxis": {
            "gridcolor": "white",
            "linecolor": "white",
            "ticks": ""
           }
          },
          "scene": {
           "xaxis": {
            "backgroundcolor": "#E5ECF6",
            "gridcolor": "white",
            "gridwidth": 2,
            "linecolor": "white",
            "showbackground": true,
            "ticks": "",
            "zerolinecolor": "white"
           },
           "yaxis": {
            "backgroundcolor": "#E5ECF6",
            "gridcolor": "white",
            "gridwidth": 2,
            "linecolor": "white",
            "showbackground": true,
            "ticks": "",
            "zerolinecolor": "white"
           },
           "zaxis": {
            "backgroundcolor": "#E5ECF6",
            "gridcolor": "white",
            "gridwidth": 2,
            "linecolor": "white",
            "showbackground": true,
            "ticks": "",
            "zerolinecolor": "white"
           }
          },
          "shapedefaults": {
           "line": {
            "color": "#2a3f5f"
           }
          },
          "ternary": {
           "aaxis": {
            "gridcolor": "white",
            "linecolor": "white",
            "ticks": ""
           },
           "baxis": {
            "gridcolor": "white",
            "linecolor": "white",
            "ticks": ""
           },
           "bgcolor": "#E5ECF6",
           "caxis": {
            "gridcolor": "white",
            "linecolor": "white",
            "ticks": ""
           }
          },
          "title": {
           "x": 0.05
          },
          "xaxis": {
           "automargin": true,
           "gridcolor": "white",
           "linecolor": "white",
           "ticks": "",
           "title": {
            "standoff": 15
           },
           "zerolinecolor": "white",
           "zerolinewidth": 2
          },
          "yaxis": {
           "automargin": true,
           "gridcolor": "white",
           "linecolor": "white",
           "ticks": "",
           "title": {
            "standoff": 15
           },
           "zerolinecolor": "white",
           "zerolinewidth": 2
          }
         }
        },
        "title": {
         "text": "25 Most Frequently Used Words in User Bios"
        },
        "xaxis": {
         "anchor": "y",
         "domain": [
          0,
          1
         ],
         "title": {
          "text": "word"
         }
        },
        "yaxis": {
         "anchor": "x",
         "domain": [
          0,
          1
         ],
         "title": {
          "text": "count"
         }
        }
       }
      }
     },
     "metadata": {},
     "output_type": "display_data"
    }
   ],
   "source": [
    "fig = px.bar(df_words_count.iloc[0:25, :], x='word', y='count', title='25 Most Frequently Used Words in User Bios')\n",
    "fig.show()"
   ]
  },
  {
   "cell_type": "markdown",
   "metadata": {},
   "source": [
    "#### Bigram"
   ]
  },
  {
   "cell_type": "markdown",
   "metadata": {},
   "source": [
    "Examining words in pairs may give better insights."
   ]
  },
  {
   "cell_type": "code",
   "execution_count": 305,
   "metadata": {},
   "outputs": [],
   "source": [
    "# Instantiating the score of each bigram\n",
    "bigram_meas = BigramAssocMeasures()\n",
    "\n",
    "# Finding and ranking the Bigrams in each bio\n",
    "bio_finder = BigramCollocationFinder.from_words(words)\n",
    "\n",
    "# Finding the frequency scores of each bigram \n",
    "bio_scored = bio_finder.score_ngrams(bigram_meas.raw_freq)\n",
    "\n",
    "# Top 50 most common bigrams\n",
    "bio_scored[:50]\n",
    "\n",
    "# Creating a list of the bigrams\n",
    "bg = list(map(lambda x: x[0][0] + ' ' + x[0][1], bio_scored[:50]))\n",
    "\n",
    "# Creating a list of the frequency scores\n",
    "bio_scores = list(map(lambda x: x[1], bio_scored[:50]))\n",
    "\n",
    "# Combining both the scores and the bigrams\n",
    "bigrams = list(zip(bg, bio_scores))"
   ]
  },
  {
   "cell_type": "code",
   "execution_count": 306,
   "metadata": {},
   "outputs": [
    {
     "data": {
      "text/plain": [
       "[('trying new', 0.012716025137470542),\n",
       " ('make best', 0.010948546739984289),\n",
       " ('cornerstone relationship', 0.007544514270751506),\n",
       " ('honesty trust', 0.007544514270751506),\n",
       " ('trust cornerstone', 0.007544514270751506),\n",
       " ('always good', 0.006873527101335428),\n",
       " ('good laugh', 0.006873527101335428),\n",
       " ('good sense', 0.006873527101335428),\n",
       " ('humor key', 0.006873527101335428),\n",
       " ('key always', 0.006873527101335428),\n",
       " ('sense humor', 0.006873527101335428),\n",
       " ('either trying', 0.006857161560617963),\n",
       " ('exploring new', 0.006857161560617963),\n",
       " ('new city', 0.006857161560617963),\n",
       " ('new recipe', 0.006857161560617963),\n",
       " ('recipe exploring', 0.006857161560617963),\n",
       " ('weekend either', 0.006857161560617963),\n",
       " ('believe supporting', 0.006824430479183032),\n",
       " ('loyalty believe', 0.006824430479183032),\n",
       " ('other’s growth', 0.006824430479183032),\n",
       " ('supporting other’s', 0.006824430479183032),\n",
       " ('connection people', 0.0068080649384655665),\n",
       " ('love making', 0.0068080649384655665),\n",
       " ('making meaningful', 0.0068080649384655665),\n",
       " ('meaningful connection', 0.0068080649384655665),\n",
       " ('thoughtful love', 0.0068080649384655665),\n",
       " ('catching latest', 0.006775333857030636),\n",
       " ('latest movie', 0.006775333857030636),\n",
       " ('movie podcasts', 0.006775333857030636),\n",
       " ('working catching', 0.006775333857030636),\n",
       " ('bit introverted', 0.0067262372348782405),\n",
       " ('find total', 0.0067262372348782405),\n",
       " ('introverted open', 0.0067262372348782405),\n",
       " ('open find', 0.0067262372348782405),\n",
       " ('total nerd', 0.0067262372348782405),\n",
       " ('binge-watching favorite', 0.006578947368421052),\n",
       " ('book binge-watching', 0.006578947368421052),\n",
       " ('favorite show', 0.006578947368421052),\n",
       " ('find reading', 0.006578947368421052),\n",
       " ('free time', 0.006578947368421052),\n",
       " ('good book', 0.006578947368421052),\n",
       " ('probably find', 0.006578947368421052),\n",
       " ('reading good', 0.006578947368421052),\n",
       " ('time probably', 0.006578947368421052),\n",
       " ('always impromptu', 0.006464388583398795),\n",
       " ('easygoing always', 0.006464388583398795),\n",
       " ('friend say', 0.006464388583398795),\n",
       " ('impromptu road', 0.006464388583398795),\n",
       " ('loyal easygoing', 0.006464388583398795),\n",
       " ('road trip', 0.006464388583398795)]"
      ]
     },
     "execution_count": 306,
     "metadata": {},
     "output_type": "execute_result"
    }
   ],
   "source": [
    "bigrams"
   ]
  },
  {
   "cell_type": "code",
   "execution_count": 307,
   "metadata": {},
   "outputs": [
    {
     "data": {
      "application/vnd.plotly.v1+json": {
       "config": {
        "plotlyServerURL": "https://plot.ly"
       },
       "data": [
        {
         "alignmentgroup": "True",
         "hovertemplate": "Bigram=%{x}<br>Frequency=%{y}<extra></extra>",
         "legendgroup": "",
         "marker": {
          "color": "#636efa",
          "pattern": {
           "shape": ""
          }
         },
         "name": "",
         "offsetgroup": "",
         "orientation": "v",
         "showlegend": false,
         "textposition": "auto",
         "type": "bar",
         "x": [
          "trying new",
          "make best",
          "cornerstone relationship",
          "honesty trust",
          "trust cornerstone",
          "always good",
          "good laugh",
          "good sense",
          "humor key",
          "key always",
          "sense humor",
          "either trying",
          "exploring new",
          "new city",
          "new recipe",
          "recipe exploring",
          "weekend either",
          "believe supporting",
          "loyalty believe",
          "other’s growth",
          "supporting other’s",
          "connection people",
          "love making",
          "making meaningful",
          "meaningful connection",
          "thoughtful love",
          "catching latest",
          "latest movie",
          "movie podcasts",
          "working catching",
          "bit introverted",
          "find total",
          "introverted open",
          "open find",
          "total nerd",
          "binge-watching favorite",
          "book binge-watching",
          "favorite show",
          "find reading",
          "free time",
          "good book",
          "probably find",
          "reading good",
          "time probably",
          "always impromptu",
          "easygoing always",
          "friend say",
          "impromptu road",
          "loyal easygoing",
          "road trip"
         ],
         "xaxis": "x",
         "y": [
          0.012716025137470542,
          0.010948546739984289,
          0.007544514270751506,
          0.007544514270751506,
          0.007544514270751506,
          0.006873527101335428,
          0.006873527101335428,
          0.006873527101335428,
          0.006873527101335428,
          0.006873527101335428,
          0.006873527101335428,
          0.006857161560617963,
          0.006857161560617963,
          0.006857161560617963,
          0.006857161560617963,
          0.006857161560617963,
          0.006857161560617963,
          0.006824430479183032,
          0.006824430479183032,
          0.006824430479183032,
          0.006824430479183032,
          0.0068080649384655665,
          0.0068080649384655665,
          0.0068080649384655665,
          0.0068080649384655665,
          0.0068080649384655665,
          0.006775333857030636,
          0.006775333857030636,
          0.006775333857030636,
          0.006775333857030636,
          0.0067262372348782405,
          0.0067262372348782405,
          0.0067262372348782405,
          0.0067262372348782405,
          0.0067262372348782405,
          0.006578947368421052,
          0.006578947368421052,
          0.006578947368421052,
          0.006578947368421052,
          0.006578947368421052,
          0.006578947368421052,
          0.006578947368421052,
          0.006578947368421052,
          0.006578947368421052,
          0.006464388583398795,
          0.006464388583398795,
          0.006464388583398795,
          0.006464388583398795,
          0.006464388583398795,
          0.006464388583398795
         ],
         "yaxis": "y"
        }
       ],
       "layout": {
        "barmode": "relative",
        "height": 800,
        "legend": {
         "tracegroupgap": 0
        },
        "template": {
         "data": {
          "bar": [
           {
            "error_x": {
             "color": "#2a3f5f"
            },
            "error_y": {
             "color": "#2a3f5f"
            },
            "marker": {
             "line": {
              "color": "#E5ECF6",
              "width": 0.5
             },
             "pattern": {
              "fillmode": "overlay",
              "size": 10,
              "solidity": 0.2
             }
            },
            "type": "bar"
           }
          ],
          "barpolar": [
           {
            "marker": {
             "line": {
              "color": "#E5ECF6",
              "width": 0.5
             },
             "pattern": {
              "fillmode": "overlay",
              "size": 10,
              "solidity": 0.2
             }
            },
            "type": "barpolar"
           }
          ],
          "carpet": [
           {
            "aaxis": {
             "endlinecolor": "#2a3f5f",
             "gridcolor": "white",
             "linecolor": "white",
             "minorgridcolor": "white",
             "startlinecolor": "#2a3f5f"
            },
            "baxis": {
             "endlinecolor": "#2a3f5f",
             "gridcolor": "white",
             "linecolor": "white",
             "minorgridcolor": "white",
             "startlinecolor": "#2a3f5f"
            },
            "type": "carpet"
           }
          ],
          "choropleth": [
           {
            "colorbar": {
             "outlinewidth": 0,
             "ticks": ""
            },
            "type": "choropleth"
           }
          ],
          "contour": [
           {
            "colorbar": {
             "outlinewidth": 0,
             "ticks": ""
            },
            "colorscale": [
             [
              0,
              "#0d0887"
             ],
             [
              0.1111111111111111,
              "#46039f"
             ],
             [
              0.2222222222222222,
              "#7201a8"
             ],
             [
              0.3333333333333333,
              "#9c179e"
             ],
             [
              0.4444444444444444,
              "#bd3786"
             ],
             [
              0.5555555555555556,
              "#d8576b"
             ],
             [
              0.6666666666666666,
              "#ed7953"
             ],
             [
              0.7777777777777778,
              "#fb9f3a"
             ],
             [
              0.8888888888888888,
              "#fdca26"
             ],
             [
              1,
              "#f0f921"
             ]
            ],
            "type": "contour"
           }
          ],
          "contourcarpet": [
           {
            "colorbar": {
             "outlinewidth": 0,
             "ticks": ""
            },
            "type": "contourcarpet"
           }
          ],
          "heatmap": [
           {
            "colorbar": {
             "outlinewidth": 0,
             "ticks": ""
            },
            "colorscale": [
             [
              0,
              "#0d0887"
             ],
             [
              0.1111111111111111,
              "#46039f"
             ],
             [
              0.2222222222222222,
              "#7201a8"
             ],
             [
              0.3333333333333333,
              "#9c179e"
             ],
             [
              0.4444444444444444,
              "#bd3786"
             ],
             [
              0.5555555555555556,
              "#d8576b"
             ],
             [
              0.6666666666666666,
              "#ed7953"
             ],
             [
              0.7777777777777778,
              "#fb9f3a"
             ],
             [
              0.8888888888888888,
              "#fdca26"
             ],
             [
              1,
              "#f0f921"
             ]
            ],
            "type": "heatmap"
           }
          ],
          "heatmapgl": [
           {
            "colorbar": {
             "outlinewidth": 0,
             "ticks": ""
            },
            "colorscale": [
             [
              0,
              "#0d0887"
             ],
             [
              0.1111111111111111,
              "#46039f"
             ],
             [
              0.2222222222222222,
              "#7201a8"
             ],
             [
              0.3333333333333333,
              "#9c179e"
             ],
             [
              0.4444444444444444,
              "#bd3786"
             ],
             [
              0.5555555555555556,
              "#d8576b"
             ],
             [
              0.6666666666666666,
              "#ed7953"
             ],
             [
              0.7777777777777778,
              "#fb9f3a"
             ],
             [
              0.8888888888888888,
              "#fdca26"
             ],
             [
              1,
              "#f0f921"
             ]
            ],
            "type": "heatmapgl"
           }
          ],
          "histogram": [
           {
            "marker": {
             "pattern": {
              "fillmode": "overlay",
              "size": 10,
              "solidity": 0.2
             }
            },
            "type": "histogram"
           }
          ],
          "histogram2d": [
           {
            "colorbar": {
             "outlinewidth": 0,
             "ticks": ""
            },
            "colorscale": [
             [
              0,
              "#0d0887"
             ],
             [
              0.1111111111111111,
              "#46039f"
             ],
             [
              0.2222222222222222,
              "#7201a8"
             ],
             [
              0.3333333333333333,
              "#9c179e"
             ],
             [
              0.4444444444444444,
              "#bd3786"
             ],
             [
              0.5555555555555556,
              "#d8576b"
             ],
             [
              0.6666666666666666,
              "#ed7953"
             ],
             [
              0.7777777777777778,
              "#fb9f3a"
             ],
             [
              0.8888888888888888,
              "#fdca26"
             ],
             [
              1,
              "#f0f921"
             ]
            ],
            "type": "histogram2d"
           }
          ],
          "histogram2dcontour": [
           {
            "colorbar": {
             "outlinewidth": 0,
             "ticks": ""
            },
            "colorscale": [
             [
              0,
              "#0d0887"
             ],
             [
              0.1111111111111111,
              "#46039f"
             ],
             [
              0.2222222222222222,
              "#7201a8"
             ],
             [
              0.3333333333333333,
              "#9c179e"
             ],
             [
              0.4444444444444444,
              "#bd3786"
             ],
             [
              0.5555555555555556,
              "#d8576b"
             ],
             [
              0.6666666666666666,
              "#ed7953"
             ],
             [
              0.7777777777777778,
              "#fb9f3a"
             ],
             [
              0.8888888888888888,
              "#fdca26"
             ],
             [
              1,
              "#f0f921"
             ]
            ],
            "type": "histogram2dcontour"
           }
          ],
          "mesh3d": [
           {
            "colorbar": {
             "outlinewidth": 0,
             "ticks": ""
            },
            "type": "mesh3d"
           }
          ],
          "parcoords": [
           {
            "line": {
             "colorbar": {
              "outlinewidth": 0,
              "ticks": ""
             }
            },
            "type": "parcoords"
           }
          ],
          "pie": [
           {
            "automargin": true,
            "type": "pie"
           }
          ],
          "scatter": [
           {
            "fillpattern": {
             "fillmode": "overlay",
             "size": 10,
             "solidity": 0.2
            },
            "type": "scatter"
           }
          ],
          "scatter3d": [
           {
            "line": {
             "colorbar": {
              "outlinewidth": 0,
              "ticks": ""
             }
            },
            "marker": {
             "colorbar": {
              "outlinewidth": 0,
              "ticks": ""
             }
            },
            "type": "scatter3d"
           }
          ],
          "scattercarpet": [
           {
            "marker": {
             "colorbar": {
              "outlinewidth": 0,
              "ticks": ""
             }
            },
            "type": "scattercarpet"
           }
          ],
          "scattergeo": [
           {
            "marker": {
             "colorbar": {
              "outlinewidth": 0,
              "ticks": ""
             }
            },
            "type": "scattergeo"
           }
          ],
          "scattergl": [
           {
            "marker": {
             "colorbar": {
              "outlinewidth": 0,
              "ticks": ""
             }
            },
            "type": "scattergl"
           }
          ],
          "scattermapbox": [
           {
            "marker": {
             "colorbar": {
              "outlinewidth": 0,
              "ticks": ""
             }
            },
            "type": "scattermapbox"
           }
          ],
          "scatterpolar": [
           {
            "marker": {
             "colorbar": {
              "outlinewidth": 0,
              "ticks": ""
             }
            },
            "type": "scatterpolar"
           }
          ],
          "scatterpolargl": [
           {
            "marker": {
             "colorbar": {
              "outlinewidth": 0,
              "ticks": ""
             }
            },
            "type": "scatterpolargl"
           }
          ],
          "scatterternary": [
           {
            "marker": {
             "colorbar": {
              "outlinewidth": 0,
              "ticks": ""
             }
            },
            "type": "scatterternary"
           }
          ],
          "surface": [
           {
            "colorbar": {
             "outlinewidth": 0,
             "ticks": ""
            },
            "colorscale": [
             [
              0,
              "#0d0887"
             ],
             [
              0.1111111111111111,
              "#46039f"
             ],
             [
              0.2222222222222222,
              "#7201a8"
             ],
             [
              0.3333333333333333,
              "#9c179e"
             ],
             [
              0.4444444444444444,
              "#bd3786"
             ],
             [
              0.5555555555555556,
              "#d8576b"
             ],
             [
              0.6666666666666666,
              "#ed7953"
             ],
             [
              0.7777777777777778,
              "#fb9f3a"
             ],
             [
              0.8888888888888888,
              "#fdca26"
             ],
             [
              1,
              "#f0f921"
             ]
            ],
            "type": "surface"
           }
          ],
          "table": [
           {
            "cells": {
             "fill": {
              "color": "#EBF0F8"
             },
             "line": {
              "color": "white"
             }
            },
            "header": {
             "fill": {
              "color": "#C8D4E3"
             },
             "line": {
              "color": "white"
             }
            },
            "type": "table"
           }
          ]
         },
         "layout": {
          "annotationdefaults": {
           "arrowcolor": "#2a3f5f",
           "arrowhead": 0,
           "arrowwidth": 1
          },
          "autotypenumbers": "strict",
          "coloraxis": {
           "colorbar": {
            "outlinewidth": 0,
            "ticks": ""
           }
          },
          "colorscale": {
           "diverging": [
            [
             0,
             "#8e0152"
            ],
            [
             0.1,
             "#c51b7d"
            ],
            [
             0.2,
             "#de77ae"
            ],
            [
             0.3,
             "#f1b6da"
            ],
            [
             0.4,
             "#fde0ef"
            ],
            [
             0.5,
             "#f7f7f7"
            ],
            [
             0.6,
             "#e6f5d0"
            ],
            [
             0.7,
             "#b8e186"
            ],
            [
             0.8,
             "#7fbc41"
            ],
            [
             0.9,
             "#4d9221"
            ],
            [
             1,
             "#276419"
            ]
           ],
           "sequential": [
            [
             0,
             "#0d0887"
            ],
            [
             0.1111111111111111,
             "#46039f"
            ],
            [
             0.2222222222222222,
             "#7201a8"
            ],
            [
             0.3333333333333333,
             "#9c179e"
            ],
            [
             0.4444444444444444,
             "#bd3786"
            ],
            [
             0.5555555555555556,
             "#d8576b"
            ],
            [
             0.6666666666666666,
             "#ed7953"
            ],
            [
             0.7777777777777778,
             "#fb9f3a"
            ],
            [
             0.8888888888888888,
             "#fdca26"
            ],
            [
             1,
             "#f0f921"
            ]
           ],
           "sequentialminus": [
            [
             0,
             "#0d0887"
            ],
            [
             0.1111111111111111,
             "#46039f"
            ],
            [
             0.2222222222222222,
             "#7201a8"
            ],
            [
             0.3333333333333333,
             "#9c179e"
            ],
            [
             0.4444444444444444,
             "#bd3786"
            ],
            [
             0.5555555555555556,
             "#d8576b"
            ],
            [
             0.6666666666666666,
             "#ed7953"
            ],
            [
             0.7777777777777778,
             "#fb9f3a"
            ],
            [
             0.8888888888888888,
             "#fdca26"
            ],
            [
             1,
             "#f0f921"
            ]
           ]
          },
          "colorway": [
           "#636efa",
           "#EF553B",
           "#00cc96",
           "#ab63fa",
           "#FFA15A",
           "#19d3f3",
           "#FF6692",
           "#B6E880",
           "#FF97FF",
           "#FECB52"
          ],
          "font": {
           "color": "#2a3f5f"
          },
          "geo": {
           "bgcolor": "white",
           "lakecolor": "white",
           "landcolor": "#E5ECF6",
           "showlakes": true,
           "showland": true,
           "subunitcolor": "white"
          },
          "hoverlabel": {
           "align": "left"
          },
          "hovermode": "closest",
          "mapbox": {
           "style": "light"
          },
          "paper_bgcolor": "white",
          "plot_bgcolor": "#E5ECF6",
          "polar": {
           "angularaxis": {
            "gridcolor": "white",
            "linecolor": "white",
            "ticks": ""
           },
           "bgcolor": "#E5ECF6",
           "radialaxis": {
            "gridcolor": "white",
            "linecolor": "white",
            "ticks": ""
           }
          },
          "scene": {
           "xaxis": {
            "backgroundcolor": "#E5ECF6",
            "gridcolor": "white",
            "gridwidth": 2,
            "linecolor": "white",
            "showbackground": true,
            "ticks": "",
            "zerolinecolor": "white"
           },
           "yaxis": {
            "backgroundcolor": "#E5ECF6",
            "gridcolor": "white",
            "gridwidth": 2,
            "linecolor": "white",
            "showbackground": true,
            "ticks": "",
            "zerolinecolor": "white"
           },
           "zaxis": {
            "backgroundcolor": "#E5ECF6",
            "gridcolor": "white",
            "gridwidth": 2,
            "linecolor": "white",
            "showbackground": true,
            "ticks": "",
            "zerolinecolor": "white"
           }
          },
          "shapedefaults": {
           "line": {
            "color": "#2a3f5f"
           }
          },
          "ternary": {
           "aaxis": {
            "gridcolor": "white",
            "linecolor": "white",
            "ticks": ""
           },
           "baxis": {
            "gridcolor": "white",
            "linecolor": "white",
            "ticks": ""
           },
           "bgcolor": "#E5ECF6",
           "caxis": {
            "gridcolor": "white",
            "linecolor": "white",
            "ticks": ""
           }
          },
          "title": {
           "x": 0.05
          },
          "xaxis": {
           "automargin": true,
           "gridcolor": "white",
           "linecolor": "white",
           "ticks": "",
           "title": {
            "standoff": 15
           },
           "zerolinecolor": "white",
           "zerolinewidth": 2
          },
          "yaxis": {
           "automargin": true,
           "gridcolor": "white",
           "linecolor": "white",
           "ticks": "",
           "title": {
            "standoff": 15
           },
           "zerolinecolor": "white",
           "zerolinewidth": 2
          }
         }
        },
        "title": {
         "text": "Bigram Frequency"
        },
        "xaxis": {
         "anchor": "y",
         "domain": [
          0,
          1
         ],
         "title": {
          "text": "Bigram"
         }
        },
        "yaxis": {
         "anchor": "x",
         "domain": [
          0,
          1
         ],
         "title": {
          "text": "Frequency"
         }
        }
       }
      }
     },
     "metadata": {},
     "output_type": "display_data"
    }
   ],
   "source": [
    "# Create DataFrame\n",
    "df_bigrams = pd.DataFrame(bigrams, columns=['Bigram', 'Frequency'])\n",
    "\n",
    "# Create the bar chart\n",
    "fig = px.bar(df_bigrams, x='Bigram', y='Frequency', title=\"Bigram Frequency\", labels={'Bigram': 'Bigram', 'Frequency': 'Frequency'}, height=800)\n",
    "\n",
    "# Display the chart\n",
    "fig.show()"
   ]
  },
  {
   "cell_type": "markdown",
   "metadata": {},
   "source": [
    "## Dating Algorithms using ML"
   ]
  },
  {
   "cell_type": "markdown",
   "metadata": {},
   "source": [
    "### More Data Preparation"
   ]
  },
  {
   "cell_type": "code",
   "execution_count": 308,
   "metadata": {},
   "outputs": [],
   "source": [
    "df_profiles_2 = pd.read_csv('random_chulalongkorn_profiles_bioTokenized.csv')"
   ]
  },
  {
   "cell_type": "markdown",
   "metadata": {},
   "source": [
    "gotta try to make these column like the one in the medium. But use only some columns like looking for, personal traits etc so gotta also create a new df."
   ]
  },
  {
   "cell_type": "code",
   "execution_count": 309,
   "metadata": {},
   "outputs": [
    {
     "data": {
      "text/html": [
       "<div>\n",
       "<style scoped>\n",
       "    .dataframe tbody tr th:only-of-type {\n",
       "        vertical-align: middle;\n",
       "    }\n",
       "\n",
       "    .dataframe tbody tr th {\n",
       "        vertical-align: top;\n",
       "    }\n",
       "\n",
       "    .dataframe thead th {\n",
       "        text-align: right;\n",
       "    }\n",
       "</style>\n",
       "<table border=\"1\" class=\"dataframe\">\n",
       "  <thead>\n",
       "    <tr style=\"text-align: right;\">\n",
       "      <th></th>\n",
       "      <th>BirthDate</th>\n",
       "      <th>Gender</th>\n",
       "      <th>PreferredGender</th>\n",
       "      <th>LookingFor</th>\n",
       "      <th>Faculty</th>\n",
       "      <th>PersonalTraits</th>\n",
       "      <th>Interests</th>\n",
       "      <th>Values</th>\n",
       "      <th>Bio</th>\n",
       "      <th>Bio_processed</th>\n",
       "    </tr>\n",
       "  </thead>\n",
       "  <tbody>\n",
       "    <tr>\n",
       "      <th>0</th>\n",
       "      <td>2006-02-18</td>\n",
       "      <td>f</td>\n",
       "      <td>others</td>\n",
       "      <td>new friends</td>\n",
       "      <td>Engineering</td>\n",
       "      <td>adventurous, shy</td>\n",
       "      <td>traveling, technology</td>\n",
       "      <td>spirituality, empathy, responsibility</td>\n",
       "      <td>I make the best coffee in town. Don't @ me. No...</td>\n",
       "      <td>['make', 'best', 'coffee', 'town', \"don't\", 'l...</td>\n",
       "    </tr>\n",
       "    <tr>\n",
       "      <th>1</th>\n",
       "      <td>2002-08-29</td>\n",
       "      <td>m</td>\n",
       "      <td>m</td>\n",
       "      <td>still figuring it out</td>\n",
       "      <td>Arts</td>\n",
       "      <td>curious, shy, ambitious</td>\n",
       "      <td>technology, photography</td>\n",
       "      <td>respect, independence</td>\n",
       "      <td>I’ve got a collection of 90’s comic books. I'm...</td>\n",
       "      <td>['got', 'collection', '90’s', 'comic', 'book',...</td>\n",
       "    </tr>\n",
       "    <tr>\n",
       "      <th>2</th>\n",
       "      <td>1999-08-11</td>\n",
       "      <td>others</td>\n",
       "      <td>f</td>\n",
       "      <td>new friends</td>\n",
       "      <td>Business</td>\n",
       "      <td>shy, creative, thoughtful</td>\n",
       "      <td>sports, cooking, technology</td>\n",
       "      <td>independence, loyalty</td>\n",
       "      <td>I can speak three languages, and one of them i...</td>\n",
       "      <td>['speak', 'three', 'language', 'one', 'sarcasm...</td>\n",
       "    </tr>\n",
       "    <tr>\n",
       "      <th>3</th>\n",
       "      <td>1995-06-21</td>\n",
       "      <td>m</td>\n",
       "      <td>any</td>\n",
       "      <td>long-term partner</td>\n",
       "      <td>Law</td>\n",
       "      <td>outgoing, ambitious, adventurous</td>\n",
       "      <td>fashion, photography</td>\n",
       "      <td>loyalty, respect, spirituality</td>\n",
       "      <td>I’ve got a collection of 90’s comic books. I e...</td>\n",
       "      <td>['got', 'collection', '90’s', 'comic', 'book',...</td>\n",
       "    </tr>\n",
       "    <tr>\n",
       "      <th>4</th>\n",
       "      <td>1995-05-05</td>\n",
       "      <td>f</td>\n",
       "      <td>f</td>\n",
       "      <td>short-term but long-term OK</td>\n",
       "      <td>Architecture</td>\n",
       "      <td>creative</td>\n",
       "      <td>reading, fashion, traveling</td>\n",
       "      <td>responsibility, loyalty</td>\n",
       "      <td>I’ve got a collection of 90’s comic books. I'm...</td>\n",
       "      <td>['got', 'collection', '90’s', 'comic', 'book',...</td>\n",
       "    </tr>\n",
       "    <tr>\n",
       "      <th>...</th>\n",
       "      <td>...</td>\n",
       "      <td>...</td>\n",
       "      <td>...</td>\n",
       "      <td>...</td>\n",
       "      <td>...</td>\n",
       "      <td>...</td>\n",
       "      <td>...</td>\n",
       "      <td>...</td>\n",
       "      <td>...</td>\n",
       "      <td>...</td>\n",
       "    </tr>\n",
       "    <tr>\n",
       "      <th>1995</th>\n",
       "      <td>2000-08-08</td>\n",
       "      <td>others</td>\n",
       "      <td>m</td>\n",
       "      <td>short-term but long-term OK</td>\n",
       "      <td>Arts</td>\n",
       "      <td>funny, creative</td>\n",
       "      <td>fashion</td>\n",
       "      <td>creativity, empathy</td>\n",
       "      <td>I’ve visited 10 countries in the past 5 years....</td>\n",
       "      <td>['visited', '10', 'country', 'past', '5', 'yea...</td>\n",
       "    </tr>\n",
       "    <tr>\n",
       "      <th>1996</th>\n",
       "      <td>2005-07-09</td>\n",
       "      <td>others</td>\n",
       "      <td>f</td>\n",
       "      <td>long-term partner</td>\n",
       "      <td>Engineering</td>\n",
       "      <td>curious, outgoing, adventurous</td>\n",
       "      <td>music, reading</td>\n",
       "      <td>respect, responsibility</td>\n",
       "      <td>I’ve visited 10 countries in the past 5 years....</td>\n",
       "      <td>['visited', '10', 'country', 'past', '5', 'yea...</td>\n",
       "    </tr>\n",
       "    <tr>\n",
       "      <th>1997</th>\n",
       "      <td>1998-02-20</td>\n",
       "      <td>m</td>\n",
       "      <td>others</td>\n",
       "      <td>short-term but long-term OK</td>\n",
       "      <td>Arts</td>\n",
       "      <td>introverted, shy, funny</td>\n",
       "      <td>photography, technology, cooking</td>\n",
       "      <td>spirituality</td>\n",
       "      <td>I’ve visited 10 countries in the past 5 years....</td>\n",
       "      <td>['visited', '10', 'country', 'past', '5', 'yea...</td>\n",
       "    </tr>\n",
       "    <tr>\n",
       "      <th>1998</th>\n",
       "      <td>1999-03-06</td>\n",
       "      <td>others</td>\n",
       "      <td>others</td>\n",
       "      <td>long-term partner</td>\n",
       "      <td>Medicine</td>\n",
       "      <td>adventurous, thoughtful, curious</td>\n",
       "      <td>music, hiking</td>\n",
       "      <td>honesty, responsibility</td>\n",
       "      <td>I make the best coffee in town. Don't @ me. Ca...</td>\n",
       "      <td>['make', 'best', 'coffee', 'town', \"don't\", 'c...</td>\n",
       "    </tr>\n",
       "    <tr>\n",
       "      <th>1999</th>\n",
       "      <td>2003-04-03</td>\n",
       "      <td>f</td>\n",
       "      <td>others</td>\n",
       "      <td>casual fun</td>\n",
       "      <td>Science</td>\n",
       "      <td>outgoing, shy, introverted</td>\n",
       "      <td>cooking, sports</td>\n",
       "      <td>independence</td>\n",
       "      <td>I once met a celebrity on a hiking trip. Not j...</td>\n",
       "      <td>['met', 'celebrity', 'hiking', 'trip', 'lookin...</td>\n",
       "    </tr>\n",
       "  </tbody>\n",
       "</table>\n",
       "<p>2000 rows × 10 columns</p>\n",
       "</div>"
      ],
      "text/plain": [
       "       BirthDate  Gender PreferredGender                   LookingFor  \\\n",
       "0     2006-02-18       f          others                  new friends   \n",
       "1     2002-08-29       m               m        still figuring it out   \n",
       "2     1999-08-11  others               f                  new friends   \n",
       "3     1995-06-21       m             any            long-term partner   \n",
       "4     1995-05-05       f               f  short-term but long-term OK   \n",
       "...          ...     ...             ...                          ...   \n",
       "1995  2000-08-08  others               m  short-term but long-term OK   \n",
       "1996  2005-07-09  others               f            long-term partner   \n",
       "1997  1998-02-20       m          others  short-term but long-term OK   \n",
       "1998  1999-03-06  others          others            long-term partner   \n",
       "1999  2003-04-03       f          others                   casual fun   \n",
       "\n",
       "           Faculty                    PersonalTraits  \\\n",
       "0      Engineering                  adventurous, shy   \n",
       "1             Arts           curious, shy, ambitious   \n",
       "2         Business         shy, creative, thoughtful   \n",
       "3              Law  outgoing, ambitious, adventurous   \n",
       "4     Architecture                          creative   \n",
       "...            ...                               ...   \n",
       "1995          Arts                   funny, creative   \n",
       "1996   Engineering    curious, outgoing, adventurous   \n",
       "1997          Arts           introverted, shy, funny   \n",
       "1998      Medicine  adventurous, thoughtful, curious   \n",
       "1999       Science        outgoing, shy, introverted   \n",
       "\n",
       "                             Interests                                 Values  \\\n",
       "0                traveling, technology  spirituality, empathy, responsibility   \n",
       "1              technology, photography                  respect, independence   \n",
       "2          sports, cooking, technology                  independence, loyalty   \n",
       "3                 fashion, photography         loyalty, respect, spirituality   \n",
       "4          reading, fashion, traveling                responsibility, loyalty   \n",
       "...                                ...                                    ...   \n",
       "1995                           fashion                    creativity, empathy   \n",
       "1996                    music, reading                respect, responsibility   \n",
       "1997  photography, technology, cooking                           spirituality   \n",
       "1998                     music, hiking                honesty, responsibility   \n",
       "1999                   cooking, sports                           independence   \n",
       "\n",
       "                                                    Bio  \\\n",
       "0     I make the best coffee in town. Don't @ me. No...   \n",
       "1     I’ve got a collection of 90’s comic books. I'm...   \n",
       "2     I can speak three languages, and one of them i...   \n",
       "3     I’ve got a collection of 90’s comic books. I e...   \n",
       "4     I’ve got a collection of 90’s comic books. I'm...   \n",
       "...                                                 ...   \n",
       "1995  I’ve visited 10 countries in the past 5 years....   \n",
       "1996  I’ve visited 10 countries in the past 5 years....   \n",
       "1997  I’ve visited 10 countries in the past 5 years....   \n",
       "1998  I make the best coffee in town. Don't @ me. Ca...   \n",
       "1999  I once met a celebrity on a hiking trip. Not j...   \n",
       "\n",
       "                                          Bio_processed  \n",
       "0     ['make', 'best', 'coffee', 'town', \"don't\", 'l...  \n",
       "1     ['got', 'collection', '90’s', 'comic', 'book',...  \n",
       "2     ['speak', 'three', 'language', 'one', 'sarcasm...  \n",
       "3     ['got', 'collection', '90’s', 'comic', 'book',...  \n",
       "4     ['got', 'collection', '90’s', 'comic', 'book',...  \n",
       "...                                                 ...  \n",
       "1995  ['visited', '10', 'country', 'past', '5', 'yea...  \n",
       "1996  ['visited', '10', 'country', 'past', '5', 'yea...  \n",
       "1997  ['visited', '10', 'country', 'past', '5', 'yea...  \n",
       "1998  ['make', 'best', 'coffee', 'town', \"don't\", 'c...  \n",
       "1999  ['met', 'celebrity', 'hiking', 'trip', 'lookin...  \n",
       "\n",
       "[2000 rows x 10 columns]"
      ]
     },
     "execution_count": 309,
     "metadata": {},
     "output_type": "execute_result"
    }
   ],
   "source": [
    "df_profiles_2"
   ]
  },
  {
   "cell_type": "code",
   "execution_count": 310,
   "metadata": {},
   "outputs": [],
   "source": [
    "# Checking the head of the DataFrame\n",
    "df_profiles_2.head().to_csv('random_chulalongkorn_profiles_bioTokenized_head.csv', index=False)"
   ]
  },
  {
   "cell_type": "code",
   "execution_count": 311,
   "metadata": {},
   "outputs": [],
   "source": [
    "df_profiles_2['PersonalTraits'] = df_profiles_2['PersonalTraits'].apply(lambda x: x.split(', '))\n",
    "df_profiles_2['Interests'] = df_profiles_2['Interests'].apply(lambda x: x.split(', '))\n",
    "df_profiles_2['Values'] = df_profiles_2['Values'].apply(lambda x: x.split(', '))"
   ]
  },
  {
   "cell_type": "code",
   "execution_count": 312,
   "metadata": {},
   "outputs": [
    {
     "data": {
      "text/html": [
       "<div>\n",
       "<style scoped>\n",
       "    .dataframe tbody tr th:only-of-type {\n",
       "        vertical-align: middle;\n",
       "    }\n",
       "\n",
       "    .dataframe tbody tr th {\n",
       "        vertical-align: top;\n",
       "    }\n",
       "\n",
       "    .dataframe thead th {\n",
       "        text-align: right;\n",
       "    }\n",
       "</style>\n",
       "<table border=\"1\" class=\"dataframe\">\n",
       "  <thead>\n",
       "    <tr style=\"text-align: right;\">\n",
       "      <th></th>\n",
       "      <th>BirthDate</th>\n",
       "      <th>Gender</th>\n",
       "      <th>PreferredGender</th>\n",
       "      <th>LookingFor</th>\n",
       "      <th>Faculty</th>\n",
       "      <th>PersonalTraits</th>\n",
       "      <th>Interests</th>\n",
       "      <th>Values</th>\n",
       "      <th>Bio</th>\n",
       "      <th>Bio_processed</th>\n",
       "    </tr>\n",
       "  </thead>\n",
       "  <tbody>\n",
       "    <tr>\n",
       "      <th>0</th>\n",
       "      <td>2006-02-18</td>\n",
       "      <td>f</td>\n",
       "      <td>others</td>\n",
       "      <td>new friends</td>\n",
       "      <td>Engineering</td>\n",
       "      <td>[adventurous, shy]</td>\n",
       "      <td>[traveling, technology]</td>\n",
       "      <td>[spirituality, empathy, responsibility]</td>\n",
       "      <td>I make the best coffee in town. Don't @ me. No...</td>\n",
       "      <td>['make', 'best', 'coffee', 'town', \"don't\", 'l...</td>\n",
       "    </tr>\n",
       "    <tr>\n",
       "      <th>1</th>\n",
       "      <td>2002-08-29</td>\n",
       "      <td>m</td>\n",
       "      <td>m</td>\n",
       "      <td>still figuring it out</td>\n",
       "      <td>Arts</td>\n",
       "      <td>[curious, shy, ambitious]</td>\n",
       "      <td>[technology, photography]</td>\n",
       "      <td>[respect, independence]</td>\n",
       "      <td>I’ve got a collection of 90’s comic books. I'm...</td>\n",
       "      <td>['got', 'collection', '90’s', 'comic', 'book',...</td>\n",
       "    </tr>\n",
       "    <tr>\n",
       "      <th>2</th>\n",
       "      <td>1999-08-11</td>\n",
       "      <td>others</td>\n",
       "      <td>f</td>\n",
       "      <td>new friends</td>\n",
       "      <td>Business</td>\n",
       "      <td>[shy, creative, thoughtful]</td>\n",
       "      <td>[sports, cooking, technology]</td>\n",
       "      <td>[independence, loyalty]</td>\n",
       "      <td>I can speak three languages, and one of them i...</td>\n",
       "      <td>['speak', 'three', 'language', 'one', 'sarcasm...</td>\n",
       "    </tr>\n",
       "    <tr>\n",
       "      <th>3</th>\n",
       "      <td>1995-06-21</td>\n",
       "      <td>m</td>\n",
       "      <td>any</td>\n",
       "      <td>long-term partner</td>\n",
       "      <td>Law</td>\n",
       "      <td>[outgoing, ambitious, adventurous]</td>\n",
       "      <td>[fashion, photography]</td>\n",
       "      <td>[loyalty, respect, spirituality]</td>\n",
       "      <td>I’ve got a collection of 90’s comic books. I e...</td>\n",
       "      <td>['got', 'collection', '90’s', 'comic', 'book',...</td>\n",
       "    </tr>\n",
       "    <tr>\n",
       "      <th>4</th>\n",
       "      <td>1995-05-05</td>\n",
       "      <td>f</td>\n",
       "      <td>f</td>\n",
       "      <td>short-term but long-term OK</td>\n",
       "      <td>Architecture</td>\n",
       "      <td>[creative]</td>\n",
       "      <td>[reading, fashion, traveling]</td>\n",
       "      <td>[responsibility, loyalty]</td>\n",
       "      <td>I’ve got a collection of 90’s comic books. I'm...</td>\n",
       "      <td>['got', 'collection', '90’s', 'comic', 'book',...</td>\n",
       "    </tr>\n",
       "  </tbody>\n",
       "</table>\n",
       "</div>"
      ],
      "text/plain": [
       "    BirthDate  Gender PreferredGender                   LookingFor  \\\n",
       "0  2006-02-18       f          others                  new friends   \n",
       "1  2002-08-29       m               m        still figuring it out   \n",
       "2  1999-08-11  others               f                  new friends   \n",
       "3  1995-06-21       m             any            long-term partner   \n",
       "4  1995-05-05       f               f  short-term but long-term OK   \n",
       "\n",
       "        Faculty                      PersonalTraits  \\\n",
       "0   Engineering                  [adventurous, shy]   \n",
       "1          Arts           [curious, shy, ambitious]   \n",
       "2      Business         [shy, creative, thoughtful]   \n",
       "3           Law  [outgoing, ambitious, adventurous]   \n",
       "4  Architecture                          [creative]   \n",
       "\n",
       "                       Interests                                   Values  \\\n",
       "0        [traveling, technology]  [spirituality, empathy, responsibility]   \n",
       "1      [technology, photography]                  [respect, independence]   \n",
       "2  [sports, cooking, technology]                  [independence, loyalty]   \n",
       "3         [fashion, photography]         [loyalty, respect, spirituality]   \n",
       "4  [reading, fashion, traveling]                [responsibility, loyalty]   \n",
       "\n",
       "                                                 Bio  \\\n",
       "0  I make the best coffee in town. Don't @ me. No...   \n",
       "1  I’ve got a collection of 90’s comic books. I'm...   \n",
       "2  I can speak three languages, and one of them i...   \n",
       "3  I’ve got a collection of 90’s comic books. I e...   \n",
       "4  I’ve got a collection of 90’s comic books. I'm...   \n",
       "\n",
       "                                       Bio_processed  \n",
       "0  ['make', 'best', 'coffee', 'town', \"don't\", 'l...  \n",
       "1  ['got', 'collection', '90’s', 'comic', 'book',...  \n",
       "2  ['speak', 'three', 'language', 'one', 'sarcasm...  \n",
       "3  ['got', 'collection', '90’s', 'comic', 'book',...  \n",
       "4  ['got', 'collection', '90’s', 'comic', 'book',...  "
      ]
     },
     "execution_count": 312,
     "metadata": {},
     "output_type": "execute_result"
    }
   ],
   "source": [
    "df_profiles_2.head()"
   ]
  },
  {
   "cell_type": "markdown",
   "metadata": {},
   "source": [
    "### Binarization of PersonalTraits, Interests and Values."
   ]
  },
  {
   "cell_type": "markdown",
   "metadata": {},
   "source": [
    "Use binzarization because these three columns have discrete categories, e.g. creative, adventurous."
   ]
  },
  {
   "cell_type": "code",
   "execution_count": 313,
   "metadata": {},
   "outputs": [],
   "source": [
    "from sklearn.preprocessing import MultiLabelBinarizer"
   ]
  },
  {
   "cell_type": "code",
   "execution_count": 314,
   "metadata": {},
   "outputs": [],
   "source": [
    "mlbPersonalTraits = MultiLabelBinarizer()\n",
    "mlbInterests = MultiLabelBinarizer()\n",
    "mlbValues = MultiLabelBinarizer()"
   ]
  },
  {
   "cell_type": "code",
   "execution_count": 315,
   "metadata": {},
   "outputs": [],
   "source": [
    "personal_traits_binarized = pd.DataFrame(mlbPersonalTraits.fit_transform(df_profiles_2['PersonalTraits']),\n",
    "                                         columns=mlbPersonalTraits.classes_,\n",
    "                                         index=df_profiles_2.index)\n",
    "\n",
    "interests_binarized = pd.DataFrame(mlbInterests.fit_transform(df_profiles_2['Interests']),\n",
    "                                   columns=mlbInterests.classes_,\n",
    "                                   index=df_profiles_2.index)\n",
    "\n",
    "values_binarized = pd.DataFrame(mlbValues.fit_transform(df_profiles_2['Values']),\n",
    "                                columns=mlbValues.classes_,\n",
    "                                index=df_profiles_2.index)"
   ]
  },
  {
   "cell_type": "code",
   "execution_count": 316,
   "metadata": {},
   "outputs": [
    {
     "data": {
      "text/html": [
       "<div>\n",
       "<style scoped>\n",
       "    .dataframe tbody tr th:only-of-type {\n",
       "        vertical-align: middle;\n",
       "    }\n",
       "\n",
       "    .dataframe tbody tr th {\n",
       "        vertical-align: top;\n",
       "    }\n",
       "\n",
       "    .dataframe thead th {\n",
       "        text-align: right;\n",
       "    }\n",
       "</style>\n",
       "<table border=\"1\" class=\"dataframe\">\n",
       "  <thead>\n",
       "    <tr style=\"text-align: right;\">\n",
       "      <th></th>\n",
       "      <th>adventurous</th>\n",
       "      <th>ambitious</th>\n",
       "      <th>creative</th>\n",
       "      <th>curious</th>\n",
       "      <th>funny</th>\n",
       "      <th>introverted</th>\n",
       "      <th>outgoing</th>\n",
       "      <th>shy</th>\n",
       "      <th>thoughtful</th>\n",
       "    </tr>\n",
       "  </thead>\n",
       "  <tbody>\n",
       "    <tr>\n",
       "      <th>0</th>\n",
       "      <td>1</td>\n",
       "      <td>0</td>\n",
       "      <td>0</td>\n",
       "      <td>0</td>\n",
       "      <td>0</td>\n",
       "      <td>0</td>\n",
       "      <td>0</td>\n",
       "      <td>1</td>\n",
       "      <td>0</td>\n",
       "    </tr>\n",
       "    <tr>\n",
       "      <th>1</th>\n",
       "      <td>0</td>\n",
       "      <td>1</td>\n",
       "      <td>0</td>\n",
       "      <td>1</td>\n",
       "      <td>0</td>\n",
       "      <td>0</td>\n",
       "      <td>0</td>\n",
       "      <td>1</td>\n",
       "      <td>0</td>\n",
       "    </tr>\n",
       "    <tr>\n",
       "      <th>2</th>\n",
       "      <td>0</td>\n",
       "      <td>0</td>\n",
       "      <td>1</td>\n",
       "      <td>0</td>\n",
       "      <td>0</td>\n",
       "      <td>0</td>\n",
       "      <td>0</td>\n",
       "      <td>1</td>\n",
       "      <td>1</td>\n",
       "    </tr>\n",
       "    <tr>\n",
       "      <th>3</th>\n",
       "      <td>1</td>\n",
       "      <td>1</td>\n",
       "      <td>0</td>\n",
       "      <td>0</td>\n",
       "      <td>0</td>\n",
       "      <td>0</td>\n",
       "      <td>1</td>\n",
       "      <td>0</td>\n",
       "      <td>0</td>\n",
       "    </tr>\n",
       "    <tr>\n",
       "      <th>4</th>\n",
       "      <td>0</td>\n",
       "      <td>0</td>\n",
       "      <td>1</td>\n",
       "      <td>0</td>\n",
       "      <td>0</td>\n",
       "      <td>0</td>\n",
       "      <td>0</td>\n",
       "      <td>0</td>\n",
       "      <td>0</td>\n",
       "    </tr>\n",
       "    <tr>\n",
       "      <th>...</th>\n",
       "      <td>...</td>\n",
       "      <td>...</td>\n",
       "      <td>...</td>\n",
       "      <td>...</td>\n",
       "      <td>...</td>\n",
       "      <td>...</td>\n",
       "      <td>...</td>\n",
       "      <td>...</td>\n",
       "      <td>...</td>\n",
       "    </tr>\n",
       "    <tr>\n",
       "      <th>1995</th>\n",
       "      <td>0</td>\n",
       "      <td>0</td>\n",
       "      <td>1</td>\n",
       "      <td>0</td>\n",
       "      <td>1</td>\n",
       "      <td>0</td>\n",
       "      <td>0</td>\n",
       "      <td>0</td>\n",
       "      <td>0</td>\n",
       "    </tr>\n",
       "    <tr>\n",
       "      <th>1996</th>\n",
       "      <td>1</td>\n",
       "      <td>0</td>\n",
       "      <td>0</td>\n",
       "      <td>1</td>\n",
       "      <td>0</td>\n",
       "      <td>0</td>\n",
       "      <td>1</td>\n",
       "      <td>0</td>\n",
       "      <td>0</td>\n",
       "    </tr>\n",
       "    <tr>\n",
       "      <th>1997</th>\n",
       "      <td>0</td>\n",
       "      <td>0</td>\n",
       "      <td>0</td>\n",
       "      <td>0</td>\n",
       "      <td>1</td>\n",
       "      <td>1</td>\n",
       "      <td>0</td>\n",
       "      <td>1</td>\n",
       "      <td>0</td>\n",
       "    </tr>\n",
       "    <tr>\n",
       "      <th>1998</th>\n",
       "      <td>1</td>\n",
       "      <td>0</td>\n",
       "      <td>0</td>\n",
       "      <td>1</td>\n",
       "      <td>0</td>\n",
       "      <td>0</td>\n",
       "      <td>0</td>\n",
       "      <td>0</td>\n",
       "      <td>1</td>\n",
       "    </tr>\n",
       "    <tr>\n",
       "      <th>1999</th>\n",
       "      <td>0</td>\n",
       "      <td>0</td>\n",
       "      <td>0</td>\n",
       "      <td>0</td>\n",
       "      <td>0</td>\n",
       "      <td>1</td>\n",
       "      <td>1</td>\n",
       "      <td>1</td>\n",
       "      <td>0</td>\n",
       "    </tr>\n",
       "  </tbody>\n",
       "</table>\n",
       "<p>2000 rows × 9 columns</p>\n",
       "</div>"
      ],
      "text/plain": [
       "      adventurous  ambitious  creative  curious  funny  introverted  outgoing  \\\n",
       "0               1          0         0        0      0            0         0   \n",
       "1               0          1         0        1      0            0         0   \n",
       "2               0          0         1        0      0            0         0   \n",
       "3               1          1         0        0      0            0         1   \n",
       "4               0          0         1        0      0            0         0   \n",
       "...           ...        ...       ...      ...    ...          ...       ...   \n",
       "1995            0          0         1        0      1            0         0   \n",
       "1996            1          0         0        1      0            0         1   \n",
       "1997            0          0         0        0      1            1         0   \n",
       "1998            1          0         0        1      0            0         0   \n",
       "1999            0          0         0        0      0            1         1   \n",
       "\n",
       "      shy  thoughtful  \n",
       "0       1           0  \n",
       "1       1           0  \n",
       "2       1           1  \n",
       "3       0           0  \n",
       "4       0           0  \n",
       "...   ...         ...  \n",
       "1995    0           0  \n",
       "1996    0           0  \n",
       "1997    1           0  \n",
       "1998    0           1  \n",
       "1999    1           0  \n",
       "\n",
       "[2000 rows x 9 columns]"
      ]
     },
     "execution_count": 316,
     "metadata": {},
     "output_type": "execute_result"
    }
   ],
   "source": [
    "personal_traits_binarized"
   ]
  },
  {
   "cell_type": "code",
   "execution_count": 317,
   "metadata": {},
   "outputs": [],
   "source": [
    "df_profiles_2_binarized = pd.concat([df_profiles_2, personal_traits_binarized, interests_binarized, values_binarized], axis=1)"
   ]
  },
  {
   "cell_type": "code",
   "execution_count": 318,
   "metadata": {},
   "outputs": [
    {
     "data": {
      "text/html": [
       "<div>\n",
       "<style scoped>\n",
       "    .dataframe tbody tr th:only-of-type {\n",
       "        vertical-align: middle;\n",
       "    }\n",
       "\n",
       "    .dataframe tbody tr th {\n",
       "        vertical-align: top;\n",
       "    }\n",
       "\n",
       "    .dataframe thead th {\n",
       "        text-align: right;\n",
       "    }\n",
       "</style>\n",
       "<table border=\"1\" class=\"dataframe\">\n",
       "  <thead>\n",
       "    <tr style=\"text-align: right;\">\n",
       "      <th></th>\n",
       "      <th>BirthDate</th>\n",
       "      <th>Gender</th>\n",
       "      <th>PreferredGender</th>\n",
       "      <th>LookingFor</th>\n",
       "      <th>Faculty</th>\n",
       "      <th>PersonalTraits</th>\n",
       "      <th>Interests</th>\n",
       "      <th>Values</th>\n",
       "      <th>Bio</th>\n",
       "      <th>Bio_processed</th>\n",
       "      <th>...</th>\n",
       "      <th>technology</th>\n",
       "      <th>traveling</th>\n",
       "      <th>creativity</th>\n",
       "      <th>empathy</th>\n",
       "      <th>honesty</th>\n",
       "      <th>independence</th>\n",
       "      <th>loyalty</th>\n",
       "      <th>respect</th>\n",
       "      <th>responsibility</th>\n",
       "      <th>spirituality</th>\n",
       "    </tr>\n",
       "  </thead>\n",
       "  <tbody>\n",
       "    <tr>\n",
       "      <th>0</th>\n",
       "      <td>2006-02-18</td>\n",
       "      <td>f</td>\n",
       "      <td>others</td>\n",
       "      <td>new friends</td>\n",
       "      <td>Engineering</td>\n",
       "      <td>[adventurous, shy]</td>\n",
       "      <td>[traveling, technology]</td>\n",
       "      <td>[spirituality, empathy, responsibility]</td>\n",
       "      <td>I make the best coffee in town. Don't @ me. No...</td>\n",
       "      <td>['make', 'best', 'coffee', 'town', \"don't\", 'l...</td>\n",
       "      <td>...</td>\n",
       "      <td>1</td>\n",
       "      <td>1</td>\n",
       "      <td>0</td>\n",
       "      <td>1</td>\n",
       "      <td>0</td>\n",
       "      <td>0</td>\n",
       "      <td>0</td>\n",
       "      <td>0</td>\n",
       "      <td>1</td>\n",
       "      <td>1</td>\n",
       "    </tr>\n",
       "    <tr>\n",
       "      <th>1</th>\n",
       "      <td>2002-08-29</td>\n",
       "      <td>m</td>\n",
       "      <td>m</td>\n",
       "      <td>still figuring it out</td>\n",
       "      <td>Arts</td>\n",
       "      <td>[curious, shy, ambitious]</td>\n",
       "      <td>[technology, photography]</td>\n",
       "      <td>[respect, independence]</td>\n",
       "      <td>I’ve got a collection of 90’s comic books. I'm...</td>\n",
       "      <td>['got', 'collection', '90’s', 'comic', 'book',...</td>\n",
       "      <td>...</td>\n",
       "      <td>1</td>\n",
       "      <td>0</td>\n",
       "      <td>0</td>\n",
       "      <td>0</td>\n",
       "      <td>0</td>\n",
       "      <td>1</td>\n",
       "      <td>0</td>\n",
       "      <td>1</td>\n",
       "      <td>0</td>\n",
       "      <td>0</td>\n",
       "    </tr>\n",
       "    <tr>\n",
       "      <th>2</th>\n",
       "      <td>1999-08-11</td>\n",
       "      <td>others</td>\n",
       "      <td>f</td>\n",
       "      <td>new friends</td>\n",
       "      <td>Business</td>\n",
       "      <td>[shy, creative, thoughtful]</td>\n",
       "      <td>[sports, cooking, technology]</td>\n",
       "      <td>[independence, loyalty]</td>\n",
       "      <td>I can speak three languages, and one of them i...</td>\n",
       "      <td>['speak', 'three', 'language', 'one', 'sarcasm...</td>\n",
       "      <td>...</td>\n",
       "      <td>1</td>\n",
       "      <td>0</td>\n",
       "      <td>0</td>\n",
       "      <td>0</td>\n",
       "      <td>0</td>\n",
       "      <td>1</td>\n",
       "      <td>1</td>\n",
       "      <td>0</td>\n",
       "      <td>0</td>\n",
       "      <td>0</td>\n",
       "    </tr>\n",
       "    <tr>\n",
       "      <th>3</th>\n",
       "      <td>1995-06-21</td>\n",
       "      <td>m</td>\n",
       "      <td>any</td>\n",
       "      <td>long-term partner</td>\n",
       "      <td>Law</td>\n",
       "      <td>[outgoing, ambitious, adventurous]</td>\n",
       "      <td>[fashion, photography]</td>\n",
       "      <td>[loyalty, respect, spirituality]</td>\n",
       "      <td>I’ve got a collection of 90’s comic books. I e...</td>\n",
       "      <td>['got', 'collection', '90’s', 'comic', 'book',...</td>\n",
       "      <td>...</td>\n",
       "      <td>0</td>\n",
       "      <td>0</td>\n",
       "      <td>0</td>\n",
       "      <td>0</td>\n",
       "      <td>0</td>\n",
       "      <td>0</td>\n",
       "      <td>1</td>\n",
       "      <td>1</td>\n",
       "      <td>0</td>\n",
       "      <td>1</td>\n",
       "    </tr>\n",
       "    <tr>\n",
       "      <th>4</th>\n",
       "      <td>1995-05-05</td>\n",
       "      <td>f</td>\n",
       "      <td>f</td>\n",
       "      <td>short-term but long-term OK</td>\n",
       "      <td>Architecture</td>\n",
       "      <td>[creative]</td>\n",
       "      <td>[reading, fashion, traveling]</td>\n",
       "      <td>[responsibility, loyalty]</td>\n",
       "      <td>I’ve got a collection of 90’s comic books. I'm...</td>\n",
       "      <td>['got', 'collection', '90’s', 'comic', 'book',...</td>\n",
       "      <td>...</td>\n",
       "      <td>0</td>\n",
       "      <td>1</td>\n",
       "      <td>0</td>\n",
       "      <td>0</td>\n",
       "      <td>0</td>\n",
       "      <td>0</td>\n",
       "      <td>1</td>\n",
       "      <td>0</td>\n",
       "      <td>1</td>\n",
       "      <td>0</td>\n",
       "    </tr>\n",
       "  </tbody>\n",
       "</table>\n",
       "<p>5 rows × 37 columns</p>\n",
       "</div>"
      ],
      "text/plain": [
       "    BirthDate  Gender PreferredGender                   LookingFor  \\\n",
       "0  2006-02-18       f          others                  new friends   \n",
       "1  2002-08-29       m               m        still figuring it out   \n",
       "2  1999-08-11  others               f                  new friends   \n",
       "3  1995-06-21       m             any            long-term partner   \n",
       "4  1995-05-05       f               f  short-term but long-term OK   \n",
       "\n",
       "        Faculty                      PersonalTraits  \\\n",
       "0   Engineering                  [adventurous, shy]   \n",
       "1          Arts           [curious, shy, ambitious]   \n",
       "2      Business         [shy, creative, thoughtful]   \n",
       "3           Law  [outgoing, ambitious, adventurous]   \n",
       "4  Architecture                          [creative]   \n",
       "\n",
       "                       Interests                                   Values  \\\n",
       "0        [traveling, technology]  [spirituality, empathy, responsibility]   \n",
       "1      [technology, photography]                  [respect, independence]   \n",
       "2  [sports, cooking, technology]                  [independence, loyalty]   \n",
       "3         [fashion, photography]         [loyalty, respect, spirituality]   \n",
       "4  [reading, fashion, traveling]                [responsibility, loyalty]   \n",
       "\n",
       "                                                 Bio  \\\n",
       "0  I make the best coffee in town. Don't @ me. No...   \n",
       "1  I’ve got a collection of 90’s comic books. I'm...   \n",
       "2  I can speak three languages, and one of them i...   \n",
       "3  I’ve got a collection of 90’s comic books. I e...   \n",
       "4  I’ve got a collection of 90’s comic books. I'm...   \n",
       "\n",
       "                                       Bio_processed  ...  technology  \\\n",
       "0  ['make', 'best', 'coffee', 'town', \"don't\", 'l...  ...           1   \n",
       "1  ['got', 'collection', '90’s', 'comic', 'book',...  ...           1   \n",
       "2  ['speak', 'three', 'language', 'one', 'sarcasm...  ...           1   \n",
       "3  ['got', 'collection', '90’s', 'comic', 'book',...  ...           0   \n",
       "4  ['got', 'collection', '90’s', 'comic', 'book',...  ...           0   \n",
       "\n",
       "   traveling  creativity  empathy  honesty  independence  loyalty  respect  \\\n",
       "0          1           0        1        0             0        0        0   \n",
       "1          0           0        0        0             1        0        1   \n",
       "2          0           0        0        0             1        1        0   \n",
       "3          0           0        0        0             0        1        1   \n",
       "4          1           0        0        0             0        1        0   \n",
       "\n",
       "   responsibility  spirituality  \n",
       "0               1             1  \n",
       "1               0             0  \n",
       "2               0             0  \n",
       "3               0             1  \n",
       "4               1             0  \n",
       "\n",
       "[5 rows x 37 columns]"
      ]
     },
     "execution_count": 318,
     "metadata": {},
     "output_type": "execute_result"
    }
   ],
   "source": [
    "df_profiles_2_binarized.head()"
   ]
  },
  {
   "cell_type": "markdown",
   "metadata": {},
   "source": [
    "### Vectorization"
   ]
  },
  {
   "cell_type": "markdown",
   "metadata": {},
   "source": [
    "Use vectorization for Bio_processed because the column contains collections of words from free-text data."
   ]
  },
  {
   "cell_type": "code",
   "execution_count": 319,
   "metadata": {},
   "outputs": [],
   "source": [
    "from sklearn.feature_extraction.text import CountVectorizer"
   ]
  },
  {
   "cell_type": "code",
   "execution_count": 320,
   "metadata": {},
   "outputs": [],
   "source": [
    "# Convert the 'Bio_processed' column from string list format to actual list of words for vectorization\n",
    "df_profiles_2_binarized['Bio_processed'] = df_profiles_2_binarized['Bio_processed'].apply(eval)"
   ]
  },
  {
   "cell_type": "code",
   "execution_count": 321,
   "metadata": {},
   "outputs": [
    {
     "name": "stderr",
     "output_type": "stream",
     "text": [
      "/Library/Frameworks/Python.framework/Versions/3.12/lib/python3.12/site-packages/sklearn/feature_extraction/text.py:521: UserWarning:\n",
      "\n",
      "The parameter 'token_pattern' will not be used since 'tokenizer' is not None'\n",
      "\n"
     ]
    }
   ],
   "source": [
    "# Apply CountVectorizer to the 'Bio_processed' column\n",
    "vectorizer = CountVectorizer(tokenizer=lambda x: x, lowercase=False)  # use tokenizer that doesn't alter the list\n",
    "bio_matrix = vectorizer.fit_transform(df_profiles_2_binarized['Bio_processed'])"
   ]
  },
  {
   "cell_type": "code",
   "execution_count": 322,
   "metadata": {},
   "outputs": [],
   "source": [
    "# Convert the result into a DataFrame with the words as columns\n",
    "df_bio_vectorized = pd.DataFrame(bio_matrix.toarray(), columns=vectorizer.get_feature_names_out(), index=df_profiles_2_binarized.index)"
   ]
  },
  {
   "cell_type": "code",
   "execution_count": 323,
   "metadata": {},
   "outputs": [],
   "source": [
    "df_profiles_2_binarized_vectorized = pd.concat([df_profiles_2_binarized, df_bio_vectorized], axis=1)"
   ]
  },
  {
   "cell_type": "code",
   "execution_count": 324,
   "metadata": {},
   "outputs": [
    {
     "data": {
      "text/html": [
       "<div>\n",
       "<style scoped>\n",
       "    .dataframe tbody tr th:only-of-type {\n",
       "        vertical-align: middle;\n",
       "    }\n",
       "\n",
       "    .dataframe tbody tr th {\n",
       "        vertical-align: top;\n",
       "    }\n",
       "\n",
       "    .dataframe thead th {\n",
       "        text-align: right;\n",
       "    }\n",
       "</style>\n",
       "<table border=\"1\" class=\"dataframe\">\n",
       "  <thead>\n",
       "    <tr style=\"text-align: right;\">\n",
       "      <th></th>\n",
       "      <th>BirthDate</th>\n",
       "      <th>Gender</th>\n",
       "      <th>PreferredGender</th>\n",
       "      <th>LookingFor</th>\n",
       "      <th>Faculty</th>\n",
       "      <th>PersonalTraits</th>\n",
       "      <th>Interests</th>\n",
       "      <th>Values</th>\n",
       "      <th>Bio</th>\n",
       "      <th>Bio_processed</th>\n",
       "      <th>...</th>\n",
       "      <th>town</th>\n",
       "      <th>trip</th>\n",
       "      <th>trust</th>\n",
       "      <th>trying</th>\n",
       "      <th>value</th>\n",
       "      <th>visited</th>\n",
       "      <th>want</th>\n",
       "      <th>weekend</th>\n",
       "      <th>working</th>\n",
       "      <th>year</th>\n",
       "    </tr>\n",
       "  </thead>\n",
       "  <tbody>\n",
       "    <tr>\n",
       "      <th>0</th>\n",
       "      <td>2006-02-18</td>\n",
       "      <td>f</td>\n",
       "      <td>others</td>\n",
       "      <td>new friends</td>\n",
       "      <td>Engineering</td>\n",
       "      <td>[adventurous, shy]</td>\n",
       "      <td>[traveling, technology]</td>\n",
       "      <td>[spirituality, empathy, responsibility]</td>\n",
       "      <td>I make the best coffee in town. Don't @ me. No...</td>\n",
       "      <td>[make, best, coffee, town, don't, looking, dat...</td>\n",
       "      <td>...</td>\n",
       "      <td>1</td>\n",
       "      <td>1</td>\n",
       "      <td>1</td>\n",
       "      <td>0</td>\n",
       "      <td>0</td>\n",
       "      <td>0</td>\n",
       "      <td>0</td>\n",
       "      <td>0</td>\n",
       "      <td>0</td>\n",
       "      <td>0</td>\n",
       "    </tr>\n",
       "    <tr>\n",
       "      <th>1</th>\n",
       "      <td>2002-08-29</td>\n",
       "      <td>m</td>\n",
       "      <td>m</td>\n",
       "      <td>still figuring it out</td>\n",
       "      <td>Arts</td>\n",
       "      <td>[curious, shy, ambitious]</td>\n",
       "      <td>[technology, photography]</td>\n",
       "      <td>[respect, independence]</td>\n",
       "      <td>I’ve got a collection of 90’s comic books. I'm...</td>\n",
       "      <td>[got, collection, 90’s, comic, book, ready, so...</td>\n",
       "      <td>...</td>\n",
       "      <td>0</td>\n",
       "      <td>0</td>\n",
       "      <td>1</td>\n",
       "      <td>0</td>\n",
       "      <td>0</td>\n",
       "      <td>0</td>\n",
       "      <td>0</td>\n",
       "      <td>0</td>\n",
       "      <td>0</td>\n",
       "      <td>0</td>\n",
       "    </tr>\n",
       "    <tr>\n",
       "      <th>2</th>\n",
       "      <td>1999-08-11</td>\n",
       "      <td>others</td>\n",
       "      <td>f</td>\n",
       "      <td>new friends</td>\n",
       "      <td>Business</td>\n",
       "      <td>[shy, creative, thoughtful]</td>\n",
       "      <td>[sports, cooking, technology]</td>\n",
       "      <td>[independence, loyalty]</td>\n",
       "      <td>I can speak three languages, and one of them i...</td>\n",
       "      <td>[speak, three, language, one, sarcasm, looking...</td>\n",
       "      <td>...</td>\n",
       "      <td>0</td>\n",
       "      <td>0</td>\n",
       "      <td>1</td>\n",
       "      <td>0</td>\n",
       "      <td>0</td>\n",
       "      <td>0</td>\n",
       "      <td>0</td>\n",
       "      <td>0</td>\n",
       "      <td>1</td>\n",
       "      <td>0</td>\n",
       "    </tr>\n",
       "    <tr>\n",
       "      <th>3</th>\n",
       "      <td>1995-06-21</td>\n",
       "      <td>m</td>\n",
       "      <td>any</td>\n",
       "      <td>long-term partner</td>\n",
       "      <td>Law</td>\n",
       "      <td>[outgoing, ambitious, adventurous]</td>\n",
       "      <td>[fashion, photography]</td>\n",
       "      <td>[loyalty, respect, spirituality]</td>\n",
       "      <td>I’ve got a collection of 90’s comic books. I e...</td>\n",
       "      <td>[got, collection, 90’s, comic, book, enjoy, sp...</td>\n",
       "      <td>...</td>\n",
       "      <td>0</td>\n",
       "      <td>0</td>\n",
       "      <td>0</td>\n",
       "      <td>1</td>\n",
       "      <td>0</td>\n",
       "      <td>0</td>\n",
       "      <td>0</td>\n",
       "      <td>1</td>\n",
       "      <td>1</td>\n",
       "      <td>0</td>\n",
       "    </tr>\n",
       "    <tr>\n",
       "      <th>4</th>\n",
       "      <td>1995-05-05</td>\n",
       "      <td>f</td>\n",
       "      <td>f</td>\n",
       "      <td>short-term but long-term OK</td>\n",
       "      <td>Architecture</td>\n",
       "      <td>[creative]</td>\n",
       "      <td>[reading, fashion, traveling]</td>\n",
       "      <td>[responsibility, loyalty]</td>\n",
       "      <td>I’ve got a collection of 90’s comic books. I'm...</td>\n",
       "      <td>[got, collection, 90’s, comic, book, ready, so...</td>\n",
       "      <td>...</td>\n",
       "      <td>0</td>\n",
       "      <td>0</td>\n",
       "      <td>0</td>\n",
       "      <td>0</td>\n",
       "      <td>1</td>\n",
       "      <td>0</td>\n",
       "      <td>0</td>\n",
       "      <td>0</td>\n",
       "      <td>0</td>\n",
       "      <td>0</td>\n",
       "    </tr>\n",
       "  </tbody>\n",
       "</table>\n",
       "<p>5 rows × 170 columns</p>\n",
       "</div>"
      ],
      "text/plain": [
       "    BirthDate  Gender PreferredGender                   LookingFor  \\\n",
       "0  2006-02-18       f          others                  new friends   \n",
       "1  2002-08-29       m               m        still figuring it out   \n",
       "2  1999-08-11  others               f                  new friends   \n",
       "3  1995-06-21       m             any            long-term partner   \n",
       "4  1995-05-05       f               f  short-term but long-term OK   \n",
       "\n",
       "        Faculty                      PersonalTraits  \\\n",
       "0   Engineering                  [adventurous, shy]   \n",
       "1          Arts           [curious, shy, ambitious]   \n",
       "2      Business         [shy, creative, thoughtful]   \n",
       "3           Law  [outgoing, ambitious, adventurous]   \n",
       "4  Architecture                          [creative]   \n",
       "\n",
       "                       Interests                                   Values  \\\n",
       "0        [traveling, technology]  [spirituality, empathy, responsibility]   \n",
       "1      [technology, photography]                  [respect, independence]   \n",
       "2  [sports, cooking, technology]                  [independence, loyalty]   \n",
       "3         [fashion, photography]         [loyalty, respect, spirituality]   \n",
       "4  [reading, fashion, traveling]                [responsibility, loyalty]   \n",
       "\n",
       "                                                 Bio  \\\n",
       "0  I make the best coffee in town. Don't @ me. No...   \n",
       "1  I’ve got a collection of 90’s comic books. I'm...   \n",
       "2  I can speak three languages, and one of them i...   \n",
       "3  I’ve got a collection of 90’s comic books. I e...   \n",
       "4  I’ve got a collection of 90’s comic books. I'm...   \n",
       "\n",
       "                                       Bio_processed  ...  town  trip  trust  \\\n",
       "0  [make, best, coffee, town, don't, looking, dat...  ...     1     1      1   \n",
       "1  [got, collection, 90’s, comic, book, ready, so...  ...     0     0      1   \n",
       "2  [speak, three, language, one, sarcasm, looking...  ...     0     0      1   \n",
       "3  [got, collection, 90’s, comic, book, enjoy, sp...  ...     0     0      0   \n",
       "4  [got, collection, 90’s, comic, book, ready, so...  ...     0     0      0   \n",
       "\n",
       "   trying  value  visited  want  weekend  working  year  \n",
       "0       0      0        0     0        0        0     0  \n",
       "1       0      0        0     0        0        0     0  \n",
       "2       0      0        0     0        0        1     0  \n",
       "3       1      0        0     0        1        1     0  \n",
       "4       0      1        0     0        0        0     0  \n",
       "\n",
       "[5 rows x 170 columns]"
      ]
     },
     "execution_count": 324,
     "metadata": {},
     "output_type": "execute_result"
    }
   ],
   "source": [
    "df_profiles_2_binarized_vectorized.head()"
   ]
  },
  {
   "cell_type": "code",
   "execution_count": 325,
   "metadata": {},
   "outputs": [],
   "source": [
    "df_profiles_2_binarized_vectorized.head().to_csv('random_chulalongkorn_profiles_bioTokenized_binarized_vectorized_head.csv', index=False)"
   ]
  },
  {
   "cell_type": "code",
   "execution_count": 326,
   "metadata": {},
   "outputs": [],
   "source": [
    "df_profiles_2_binarized_vectorized.to_csv('random_chulalongkorn_profiles_bioTokenized_binarized_vectorized.csv', index=False)"
   ]
  },
  {
   "cell_type": "markdown",
   "metadata": {},
   "source": [
    "### Principal Component Analysis (PCA)"
   ]
  },
  {
   "cell_type": "markdown",
   "metadata": {},
   "source": [
    "To reduce the dimensionality of the dataset but still retain much of the variability or valuable statistical information."
   ]
  },
  {
   "cell_type": "code",
   "execution_count": 327,
   "metadata": {},
   "outputs": [],
   "source": [
    "df_profiles_3 = pd.read_csv('random_chulalongkorn_profiles_bioTokenized_binarized_vectorized.csv')"
   ]
  },
  {
   "cell_type": "code",
   "execution_count": 328,
   "metadata": {},
   "outputs": [],
   "source": [
    "from sklearn.decomposition import PCA\n",
    "from sklearn.preprocessing import StandardScaler\n",
    "import tools\n",
    "\n",
    "# Standardize the data before applying PCA\n",
    "scaler = StandardScaler()\n",
    "df_scaled = scaler.fit_transform(df_profiles_3.drop(columns=['BirthDate', 'Gender', 'PreferredGender', 'LookingFor', 'Faculty', 'PersonalTraits', 'Interests', 'Values', 'Bio', 'Bio_processed']))\n",
    "\n",
    "# Apply PCA\n",
    "pca = PCA(n_components=2)  # Reduce to 2 components for easy visualization\n",
    "pca_result = pca.fit_transform(df_scaled)\n",
    "\n",
    "# Create a DataFrame with the PCA result\n",
    "df_pca_2 = pd.DataFrame(pca_result, columns=['PCA1', 'PCA2'])"
   ]
  },
  {
   "cell_type": "code",
   "execution_count": 329,
   "metadata": {},
   "outputs": [
    {
     "data": {
      "text/html": [
       "<div>\n",
       "<style scoped>\n",
       "    .dataframe tbody tr th:only-of-type {\n",
       "        vertical-align: middle;\n",
       "    }\n",
       "\n",
       "    .dataframe tbody tr th {\n",
       "        vertical-align: top;\n",
       "    }\n",
       "\n",
       "    .dataframe thead th {\n",
       "        text-align: right;\n",
       "    }\n",
       "</style>\n",
       "<table border=\"1\" class=\"dataframe\">\n",
       "  <thead>\n",
       "    <tr style=\"text-align: right;\">\n",
       "      <th></th>\n",
       "      <th>PCA1</th>\n",
       "      <th>PCA2</th>\n",
       "    </tr>\n",
       "  </thead>\n",
       "  <tbody>\n",
       "    <tr>\n",
       "      <th>0</th>\n",
       "      <td>5.232248</td>\n",
       "      <td>3.965358</td>\n",
       "    </tr>\n",
       "    <tr>\n",
       "      <th>1</th>\n",
       "      <td>7.133068</td>\n",
       "      <td>-1.927489</td>\n",
       "    </tr>\n",
       "    <tr>\n",
       "      <th>2</th>\n",
       "      <td>-1.413078</td>\n",
       "      <td>-3.447296</td>\n",
       "    </tr>\n",
       "    <tr>\n",
       "      <th>3</th>\n",
       "      <td>-2.404083</td>\n",
       "      <td>-1.849137</td>\n",
       "    </tr>\n",
       "    <tr>\n",
       "      <th>4</th>\n",
       "      <td>2.047827</td>\n",
       "      <td>-0.280041</td>\n",
       "    </tr>\n",
       "  </tbody>\n",
       "</table>\n",
       "</div>"
      ],
      "text/plain": [
       "       PCA1      PCA2\n",
       "0  5.232248  3.965358\n",
       "1  7.133068 -1.927489\n",
       "2 -1.413078 -3.447296\n",
       "3 -2.404083 -1.849137\n",
       "4  2.047827 -0.280041"
      ]
     },
     "execution_count": 329,
     "metadata": {},
     "output_type": "execute_result"
    }
   ],
   "source": [
    "df_pca_2.head()"
   ]
  },
  {
   "cell_type": "markdown",
   "metadata": {},
   "source": [
    "Visualizing the PCA results in 2 components to get a quick overview of the main trends in the data. "
   ]
  },
  {
   "cell_type": "code",
   "execution_count": 330,
   "metadata": {},
   "outputs": [
    {
     "data": {
      "application/vnd.plotly.v1+json": {
       "config": {
        "plotlyServerURL": "https://plot.ly"
       },
       "data": [
        {
         "hovertemplate": "Principal Component 1=%{x}<br>Principal Component 2=%{y}<extra></extra>",
         "legendgroup": "",
         "marker": {
          "color": "#636efa",
          "symbol": "circle"
         },
         "mode": "markers",
         "name": "",
         "showlegend": false,
         "type": "scattergl",
         "x": [
          5.23224815079944,
          7.133067717441055,
          -1.4130776795453739,
          -2.4040833463605304,
          2.0478266145630117,
          -1.5485781042245166,
          -1.9114006893212852,
          -2.1945840256164573,
          -3.7052983369049897,
          -3.127616213258087,
          5.195216562327655,
          -0.8754525169938984,
          -2.8229482391739307,
          2.0155254860929714,
          5.983740195400723,
          -3.5487286233279116,
          6.199578460901117,
          -1.9460514381155236,
          -2.422256948701402,
          6.470665260328944,
          4.989730483595239,
          4.697917332925304,
          1.852727359505654,
          4.541193251360047,
          -2.898112968491711,
          6.08848883578911,
          -1.322308753476464,
          -0.17646791904985826,
          -0.342852971080526,
          0.6630816523619781,
          0.05013148020843146,
          -2.718896594611886,
          5.514160671673363,
          5.384245515956098,
          -1.1941656546014874,
          5.203388248135048,
          -3.0848477633743614,
          7.529448284773499,
          -1.2047961981428885,
          -1.27469339416538,
          -2.7786465356876917,
          -2.466795081680312,
          -1.2935726482158627,
          -1.492673854361872,
          6.07175072211353,
          5.826756996699368,
          5.4082543390002344,
          -0.9324862303345112,
          -0.7044509504744069,
          1.4302810236411099,
          0.005821047561987448,
          -2.705915039597358,
          5.407430862789238,
          -2.7869483333288163,
          -1.1931317315015117,
          -2.417333535286099,
          0.14392593638544504,
          -3.768226637939966,
          1.7163621935555382,
          -3.505209955145447,
          5.649741188268439,
          0.8091875801313524,
          4.668819457873307,
          -0.48803550142547597,
          -0.2877231646533621,
          4.734181276448848,
          0.5597481244222092,
          -1.2394477081287918,
          -1.1122685676537307,
          5.852092225376215,
          -1.615450083277395,
          -1.457573204807651,
          -1.1039541440892329,
          5.917452302283241,
          -1.2779099943963608,
          -2.6536071850871648,
          3.885276237710987,
          4.6651852746127895,
          -0.5697224433532677,
          -2.714829642827802,
          -1.0988254803286412,
          -2.2025608026773815,
          5.02972788454548,
          0.7979869014907376,
          -0.07891872562722145,
          6.630098362719382,
          -1.7331523297572327,
          6.551124331276075,
          0.9745341148686241,
          -1.8228934441350189,
          -1.761382425434467,
          -0.7306346938274906,
          -1.0972223516699493,
          -2.0842759008751113,
          -1.56900069344702,
          -1.210455133801861,
          -0.17780529939327885,
          -1.854843397420032,
          -2.530876183389092,
          6.254720396878414,
          -1.9345881838918826,
          0.09163411661341309,
          3.867482103627109,
          -0.6152294108250616,
          -0.8268090230167047,
          5.4960523911220385,
          -2.8988536757530343,
          7.058019371417129,
          -3.5542641994429665,
          1.3249697116525596,
          -2.7018644852564577,
          4.2633705498028105,
          -1.4060640492572547,
          1.036957492817036,
          -0.33903066067140963,
          -2.275626910617172,
          -0.7507504639047121,
          1.0803083247911094,
          -2.426064943470891,
          3.6441682473189494,
          -2.5698142035729803,
          -3.1201118989562735,
          7.0340534089712685,
          -2.0025820919523536,
          -2.6351224892207,
          -0.09882286464043291,
          7.0854758631568995,
          -2.2781737294602897,
          -4.161356714779447,
          -1.1130027954023085,
          5.447785656821391,
          1.2802657857028374,
          -0.8680702096908697,
          -1.4122862888534438,
          0.7951920927704382,
          -1.055101169859929,
          -0.36455754116084016,
          -2.0352132770311355,
          -2.7515096819833467,
          5.193038108810733,
          0.06550213343692461,
          -0.30122783507551876,
          -1.7259327031986944,
          -2.560557397131978,
          0.24724520581807014,
          0.2662748268116968,
          6.679034321761949,
          -3.601460652888019,
          6.005496603428892,
          4.863179399626046,
          -1.5549554697120984,
          1.3453812414195343,
          5.377534114159452,
          0.010380526013018218,
          -2.5736235232350637,
          -2.703834580238779,
          5.0594349450688085,
          -2.7584716670659266,
          -0.6575144106431077,
          -1.4670352420290809,
          -1.7240823444973536,
          1.6064280015179528,
          -2.9451832673183618,
          -3.1548070443180776,
          -1.4629806242701366,
          -1.0180288370469586,
          6.618119953685367,
          -2.7545520185203465,
          0.716607096318895,
          -3.3382858929420607,
          4.854401024344505,
          -1.3726405787095477,
          -3.14106504034685,
          -3.014343691058634,
          -2.4573086603333807,
          -2.4980821471019863,
          -1.5695864227631944,
          -0.28995961497190775,
          -0.9403551268998059,
          5.920276676482372,
          5.8430460545299745,
          -1.522476722154971,
          -0.9623601424156727,
          -0.912381944370488,
          -2.854617825802607,
          -0.6712752467041082,
          -0.2669934784720286,
          -1.4075542151215608,
          7.148437922069882,
          -1.6986731764226648,
          -0.4622317690073294,
          7.151130383578509,
          -2.3469394620626507,
          4.5418802518608254,
          0.7155157290651856,
          -2.343930370178509,
          -0.35740643666190813,
          4.896531386724713,
          -1.9881487566910379,
          5.276240376001841,
          0.020688439674576082,
          0.8392638903747336,
          6.698721758947552,
          -1.410549405379741,
          1.1157175949877332,
          -0.35011518309435546,
          -3.1286799932065974,
          6.524169495504085,
          -0.4021558896173553,
          -0.5890923948516695,
          0.11400216258012442,
          -3.1722641687737685,
          5.335610305360009,
          -2.2097976335686353,
          -1.4649222997431233,
          0.6015473389163015,
          -2.8539039620144306,
          -1.5172635663414094,
          -2.9897655010123114,
          -3.129536715760426,
          6.5148778949962605,
          -1.571731557788306,
          5.251066292221799,
          6.578113040578031,
          -1.922899727391258,
          0.420225831141356,
          0.8367359592151357,
          0.55928104407173,
          -1.0689378423812517,
          -4.0399859370875655,
          4.874986523816974,
          -1.8325287979919083,
          1.4942421303157145,
          4.515836920594289,
          -2.915201833897447,
          -3.014298548108626,
          -1.674584561179971,
          4.463754009162769,
          4.704534264985555,
          -1.8799290136143791,
          -2.4456182674700817,
          -3.1646671747904325,
          -1.6284195990935122,
          5.643669714481248,
          0.5133560209479614,
          -2.36692868153509,
          -2.5192543116573574,
          -2.0308434794361085,
          -3.0966890683080086,
          6.1899215482155565,
          5.185454675212799,
          -0.7439455065989831,
          -1.9299182854127364,
          -2.1228738076470703,
          -1.4690191555925483,
          -3.058473531988328,
          5.097690243577958,
          4.824369744854033,
          -2.6235863382271507,
          -1.778514680129116,
          -0.2042230582906754,
          0.37768279527615845,
          -2.2295420013070157,
          1.3018379114866605,
          -1.5118473302393989,
          -2.973039200581038,
          -2.972570068720042,
          -2.8670062742681877,
          -2.4693920472050706,
          -1.207297775356842,
          0.4066875757967961,
          7.288051028569074,
          -0.4278844171562538,
          -2.442741471813287,
          1.170210283485392,
          -0.4762695659992217,
          4.651298815282332,
          0.4250963250120825,
          -1.6555607681888287,
          -2.0031671552827626,
          -1.2620968344977699,
          1.4295599589838306,
          -2.2798505746098563,
          0.6104925780569213,
          -2.358899327022624,
          -0.9609843850711115,
          -3.15947612222638,
          -1.1856005071955236,
          0.6861246598898278,
          -2.872433766962256,
          -1.6505026383442534,
          6.967339643006806,
          6.0269186592942585,
          -1.5645236914332556,
          -0.3867752845567179,
          0.8365939014148648,
          -2.168355760853042,
          -0.47757303918886257,
          -2.8060857106382646,
          -2.403467567031967,
          -2.001930696187992,
          4.930327740358493,
          1.2709909894382512,
          0.09522237645409869,
          -2.19794308861246,
          -0.6453833009547029,
          4.505653216903985,
          -0.01773068559825284,
          -1.5543793314762346,
          5.637905324270881,
          -3.1114884770072497,
          -1.6850849870794347,
          -1.3043174082368905,
          6.412653828390631,
          7.495875227866726,
          -0.02516597943087688,
          -3.3878534069143926,
          -2.320165343138647,
          6.513085989867834,
          7.321294903701143,
          -1.464834576185414,
          -3.186419732997646,
          -2.103620751148751,
          -2.7596310458417923,
          -1.9813349955842385,
          -2.344709456783111,
          -0.5713131181998761,
          5.761825505080626,
          -2.313623298782402,
          -2.971068489981174,
          -2.108968067741285,
          -3.1017976194773476,
          0.05347647255682885,
          -2.2929108518254755,
          -2.0011280439553185,
          4.981137526731199,
          -1.4764529774346047,
          5.280420367572485,
          6.493960086386882,
          -1.175288435050936,
          -0.6480273943438518,
          5.115560650262681,
          -1.6880618775747682,
          1.4977949944119469,
          -3.033378469257734,
          4.498043824019742,
          -2.6246026048059132,
          -2.978894975611894,
          -1.6695083150454326,
          -2.990961915148502,
          -0.38705613899076086,
          4.751739101287151,
          -0.9194485535885,
          -2.03338109466619,
          -1.135508926335848,
          -2.29387626969985,
          -1.4708552540139228,
          -1.8302212244068512,
          -0.16044630583789968,
          4.892819548817315,
          5.732070531183299,
          -1.4325790133597964,
          -1.4645164280391187,
          1.3371459655553408,
          1.3699792967773097,
          5.386700253457643,
          -0.537185049367604,
          -2.2204143865830543,
          5.296467784508343,
          -0.2253516613673865,
          0.6897949212587864,
          -2.9548949054351135,
          -1.5313280181327185,
          4.619834734725272,
          0.13656698881508306,
          -1.9724296468173403,
          -3.0340966821695017,
          1.5699080659144804,
          -2.44072463249407,
          -2.732148366625218,
          6.327579320860524,
          -0.7862558561117752,
          -2.679974851946031,
          6.125080620928312,
          7.058375662069454,
          4.93971804057397,
          -3.3900687957620823,
          -3.2921402199822842,
          -4.062864092757499,
          -0.2655873603562618,
          -1.2776137369656264,
          -0.07836383238624374,
          -1.0912592676937358,
          -2.473792315730144,
          -2.6335810581200416,
          7.019529469801122,
          -0.13044162160466785,
          -2.5645155867279676,
          6.601477202176288,
          6.339768242093126,
          -2.105934640497591,
          0.5898507110535075,
          -1.8847778877190415,
          -2.7488839604897923,
          -0.7087940951606698,
          -2.558799935202823,
          -1.0195255990843368,
          -0.044224888461270984,
          -1.0814153866013292,
          -1.2087124779065532,
          -2.952865330639061,
          -1.1815842045342044,
          -1.095987193568338,
          -1.8425207657790355,
          -1.770421776741642,
          6.074276096910854,
          1.8618718566583161,
          -1.9135227418822565,
          -0.2636614637148349,
          -0.36961919985973857,
          -0.6328580326700136,
          -0.331029810679957,
          5.8680442630422895,
          -0.6251799611802669,
          -0.791799444450633,
          -3.8660969681651847,
          -2.834596915191325,
          0.5560777341227627,
          -4.046381015449082,
          -2.430352681501578,
          0.5342774884173055,
          -1.483864581411677,
          -2.21324154407487,
          -2.6380154758186674,
          -1.3684844497439985,
          -1.1958069762550327,
          -1.7783254357325455,
          -1.0197533086014452,
          -4.180952920991175,
          5.630436967961806,
          0.6019046814364837,
          1.1540238439738342,
          4.888548014608248,
          -1.2597635905849067,
          -2.455157792275155,
          -2.167462118957846,
          -1.4778546175632672,
          -3.138905625366365,
          4.165538902816665,
          1.4376932211568316,
          0.0336084860900411,
          -0.3355900052016172,
          -1.6862287521772927,
          -1.835397929750373,
          -1.2804261435643207,
          -1.2950597639394963,
          6.1464844552858136,
          6.152156230828756,
          -1.642027499048055,
          -3.0126668936838397,
          -0.9346801372214791,
          -3.1643978962882637,
          -1.5940158699724232,
          -3.642831499018686,
          -1.6737885586793033,
          5.238838347260104,
          0.16539063932198642,
          -1.4651838022143964,
          -2.1578672905852776,
          1.1906971089782425,
          -1.3744915182887432,
          1.4819076092876102,
          1.349064104185167,
          -1.2512364546201789,
          4.88244425004321,
          5.56507138351107,
          -0.9557608300996024,
          5.035094448534334,
          -3.312123501457077,
          0.24300181932303452,
          4.79258807229105,
          5.163084103184008,
          -0.34560752358845664,
          -2.7314069366852665,
          -2.9866553992588223,
          -3.215089142519708,
          -0.8392679119694982,
          -3.077694739724457,
          -0.4939160538977321,
          -1.7736332446073897,
          -1.2699236593110066,
          4.906051293211925,
          -2.58066370642322,
          -2.9378383772367367,
          -0.5403199583609193,
          5.738563075992842,
          -1.018007129465562,
          -0.7397309037001423,
          1.2672172485714677,
          -0.7902423316193201,
          -1.2074884713216043,
          -1.1194381398401947,
          6.566829196580501,
          -2.341439921605652,
          -0.34828096484811044,
          0.03635739920787268,
          -2.7888586511745226,
          -2.332252608721703,
          4.522689548076123,
          -2.6347486414017265,
          -2.250235472738344,
          -1.1726856587927863,
          -3.4285916689001255,
          0.0004465315818374344,
          -2.765814770019167,
          -2.1423456274517005,
          -2.6558138791611263,
          1.3455960408798813,
          -1.6033964409958352,
          -2.505517930682878,
          -2.634148705258368,
          6.421065447705465,
          6.783929730254468,
          -2.5679003010596593,
          -1.1676591050029215,
          1.1954118779761735,
          -2.6723518947514306,
          -1.19354938090222,
          -0.1327715562099888,
          0.08262434659826869,
          -1.5429833179610792,
          -1.7961149879254696,
          1.6938339528412505,
          -2.481378815727524,
          -1.17929032885595,
          -2.6872195299293704,
          -0.7025852810336256,
          -1.3158986350168738,
          0.0939924464188523,
          -2.721322507297441,
          -2.035083848092338,
          -2.2984136535527946,
          5.925122897105653,
          -1.5389419274942717,
          1.3340255034230328,
          -2.620361760157968,
          -2.608104493075723,
          -0.35059048694695594,
          -0.7556231054792035,
          -1.0689600929418295,
          -1.8231801358060504,
          -0.3913901527916885,
          0.5784496710189833,
          0.2770403739916666,
          5.463849511569153,
          -2.1066985052759546,
          -3.5552598845206864,
          -1.4069166242791495,
          -0.32386301352165825,
          -0.9214715059645959,
          -2.0801712365342726,
          7.195418594807737,
          -2.2298456508021336,
          -1.8778729676782755,
          -2.703416311510043,
          -3.948316046634124,
          -1.750800400270699,
          -3.1041001436395677,
          -1.240660553414512,
          -1.1490826649962824,
          7.050762459777971,
          4.916651960348356,
          -2.6453413161962103,
          5.192463839144556,
          -0.3388540364000211,
          0.08741268333653661,
          -1.1209462756044437,
          0.850702548627836,
          -0.49270673847625346,
          -2.0752562330699766,
          -3.4014936558586957,
          -2.349667032739867,
          5.48294808991519,
          -0.22108469636636643,
          -1.7750508999860997,
          -2.9663554151797964,
          -2.0745386628893216,
          0.4210133227387042,
          -1.9750462129330022,
          -1.7088137343734444,
          -1.4991292153467695,
          -2.9957714319526465,
          -2.745485267828806,
          5.391244165310809,
          -0.8407976585674954,
          7.113319563328531,
          -2.702383234656314,
          -0.34677808919940994,
          -3.1179702359402817,
          -1.1608815525889271,
          4.926836831970399,
          -0.9686728860763282,
          -0.122760543179799,
          -2.5657923498638167,
          0.37273894323272644,
          1.1807665639186387,
          -0.13823725660799308,
          3.7816395484142418,
          -0.3925329979490636,
          -2.775687359297161,
          -3.2881085725149157,
          5.403996916650812,
          -0.5096490613645572,
          -1.9386669531833243,
          -1.6801274708476115,
          -1.1019504670179734,
          -0.5940648818045083,
          0.613946155082325,
          -0.5924131652185337,
          4.493022677437747,
          -2.5255647202624756,
          -2.195565126199339,
          -2.8133775724240753,
          -2.312770417356267,
          7.036120928860393,
          -3.307598228315561,
          -2.373780105950287,
          -1.7978349138814265,
          -0.7974143096408853,
          2.0386075828533543,
          0.07309626272082766,
          -2.1159703625545916,
          4.78469461253454,
          -3.179673979178063,
          -3.6315603921397592,
          -1.2948760622099678,
          5.623239426664481,
          5.427738649655908,
          -1.5832708407332876,
          -0.10875456902128272,
          -1.710379711819963,
          -2.76778198139598,
          0.9349365733136946,
          -1.8254562647211605,
          -0.5629097222869545,
          -1.20445342804108,
          -2.513858570831368,
          5.130960725161096,
          6.755618759281002,
          -1.720170349070534,
          -3.3646543635323174,
          -1.689009819763593,
          -1.1346578131493474,
          6.0662143334224945,
          -0.9350844316404366,
          -1.3545258025593356,
          -3.357890927137477,
          -2.5050808590630673,
          -1.935313768830869,
          -1.44395114120541,
          -1.857677031403008,
          -3.0481318863313733,
          1.2720527572475355,
          6.410598040546957,
          -2.8820681534200316,
          -2.8263661583873065,
          -0.3882832113931121,
          6.793909132945904,
          7.113122429209108,
          0.36730602354409464,
          -0.29139238783938853,
          -0.5915684612433657,
          0.5412210482328036,
          -3.275706108307646,
          -0.7266928805682308,
          -1.2640135943994293,
          -1.6756294552013375,
          -1.496202755463171,
          -2.865039266279431,
          -2.2854392596025637,
          -1.9634404107488068,
          -1.9942742416118953,
          -1.3624899089391584,
          -0.8689088758643577,
          -0.12074685412514137,
          -0.8454431983465852,
          -1.740453687529946,
          -1.2458757674389427,
          0.10716701697752316,
          6.033933147500024,
          -0.8933304673529855,
          4.885308401788976,
          -2.8130110262733963,
          5.543428696493162,
          -1.6398477903388458,
          -2.027616910931215,
          6.997854963507225,
          -0.583763363120418,
          5.634886704801711,
          -3.97611018280762,
          -2.0726601632300885,
          -1.726468488295933,
          -2.8257544907837233,
          5.027271941557875,
          5.406432526632328,
          -1.5190981170441733,
          -1.9409050085659962,
          0.40964956816594245,
          6.749550809504991,
          4.795379351361183,
          -1.1970963635587701,
          -0.4665349614571808,
          -0.07279120012098747,
          -2.2575604502969644,
          -1.5720981251128365,
          -2.728702550569711,
          6.449977666695243,
          -0.8759831487157457,
          6.697742776146679,
          1.9119707828591832,
          -2.0981242678473015,
          -0.11699206557647804,
          -3.552981082081837,
          -1.5116385767081548,
          0.16391527396356592,
          -1.8814481997722095,
          1.0027082713977136,
          -3.048045920975217,
          -2.1619799704265605,
          -2.771986391037572,
          -0.696478802232313,
          -1.0824127426729957,
          0.9604791952722377,
          -2.3325554421945696,
          4.320208435023736,
          -3.7691092847413703,
          -1.0915643044410601,
          -3.299348489460404,
          -2.1979276115602064,
          -3.124943471888502,
          5.8725595590137445,
          5.086446535168267,
          -3.298543974699381,
          5.927995297625068,
          -0.30034487219868555,
          1.205538155913778,
          -0.17787803405225072,
          -1.4990587294582045,
          -2.258974905329878,
          -0.3357247491067666,
          4.8906003425134745,
          -3.2899142296677026,
          -0.12839143394315494,
          -1.7321654160492155,
          -0.46545321256249367,
          -2.0480504364016356,
          4.615221734999652,
          -1.7470827532756628,
          -1.2962780742256903,
          7.196204154157281,
          -1.4577177369831626,
          1.4421478315100575,
          -2.7276935047487814,
          -1.66457538756726,
          -0.6911132456864783,
          -0.5185341625943797,
          -1.6532115579256035,
          5.566939044457926,
          -1.519386244594564,
          0.9885387909782689,
          1.8582336002720787,
          -0.45850346313792834,
          -2.402493343911898,
          -1.5295833748766168,
          6.719500752097427,
          5.713867157502563,
          -0.34245550791952334,
          -0.25012933417505606,
          -1.8542965476698345,
          5.0416398801516245,
          6.102828437404439,
          -0.11977229448307987,
          -1.0550640581047301,
          -2.6692858178175833,
          -1.9391364463810077,
          0.6141369867144797,
          -3.204750375004088,
          4.727728388147804,
          -0.5240280543352466,
          -1.4785829052930055,
          -1.9558377647301626,
          -2.7515151662298747,
          -1.662303517979202,
          -0.7872849105719993,
          -2.834445707174242,
          5.503015278586763,
          4.729688697629038,
          -1.9122352671739302,
          -2.6867351232155086,
          -0.5562890353272332,
          -2.20416486308517,
          4.700011392873646,
          -1.021200602029036,
          -0.9851452538585397,
          -2.232616580592525,
          0.5087934979208597,
          0.4545731524936725,
          -0.6578251489848321,
          0.3341068299944244,
          7.0866584578407466,
          -1.12255776381519,
          -2.6647129730276062,
          -2.3252586049646515,
          -0.5701536489983074,
          -3.35188282621016,
          -2.878008511915963,
          0.5502196439796112,
          4.87088650950771,
          -0.46827362148203067,
          0.2028221555011034,
          -3.4239783054289785,
          -0.9611771994028715,
          -0.49707802691262476,
          -1.3114945702183698,
          5.309700064228868,
          -1.0669117146316753,
          -0.8265201718456153,
          -2.318843678664437,
          -3.149894661867778,
          -1.6483548181645051,
          -3.5718694180759702,
          -1.5495521429310497,
          -0.035212406418121935,
          -0.209548679609765,
          0.18451116163911585,
          1.1871128428674251,
          -0.25545729575936815,
          6.503738671730961,
          4.984102089030767,
          -2.4942304219283455,
          4.73844611007206,
          -0.48139832822228784,
          -2.4282498539491493,
          -1.4056519192323544,
          -1.1194781446102364,
          -2.7382236702216454,
          -0.607733181665807,
          -3.418003233068241,
          4.621289221098755,
          -0.14934230278580413,
          -3.0896310330831436,
          1.4066944734668876,
          -4.102969079433421,
          -1.582595600124314,
          0.9456408554343694,
          -1.834976323438206,
          -3.015818406277435,
          -0.6478074921645081,
          -0.9098624043715076,
          -2.018439282062039,
          -0.8752859654097245,
          6.163487164993783,
          -0.09848230470699723,
          4.526374081192566,
          -3.208079330527671,
          5.42219327449572,
          -0.057052148621870614,
          -1.6145432386942136,
          -1.7056730638702178,
          -1.5451124463388175,
          -1.6110400086242482,
          -1.9022489603925732,
          -2.6348312873963318,
          -0.2321011731508967,
          -2.4670837510221633,
          4.72841054163331,
          -2.515800336277607,
          5.795222802587092,
          5.674832501873891,
          -2.409037196250051,
          -1.183403250249826,
          0.25741696393989544,
          -0.5837526045633633,
          -2.6833000703202643,
          5.211525390587946,
          6.239197952051765,
          -1.9561300913617858,
          -0.32954793094662477,
          -1.7044767104164231,
          -3.5347974340626673,
          7.3389874313017955,
          -0.4641283776962524,
          -2.7045491798510786,
          6.348588287870786,
          -1.7763571008657881,
          0.9031261123854596,
          -2.7958225977091065,
          0.05935356989717431,
          -0.3154172514237619,
          1.1658203773852762,
          5.128612545113843,
          5.133384808752349,
          -0.3877650743814177,
          -1.4131690481564059,
          5.705966550269056,
          0.17203629895038303,
          -1.1739376132588237,
          5.9494824194707325,
          -0.5184572630869447,
          -0.8488447686125214,
          -2.774980021075633,
          -3.4112629361813847,
          -1.5136520071677433,
          -0.906714198343436,
          -0.5062359281129375,
          -0.02121763613732381,
          -2.8258944958483285,
          1.2104520509905192,
          -0.8979418552251439,
          -2.54296654505624,
          -1.8217436694088256,
          -3.133724907245698,
          0.12143644692026408,
          -1.9715894519366888,
          -0.31132540412460674,
          -1.0150797757644157,
          -2.457387809381896,
          -2.8594264612953104,
          -2.816451177929526,
          -2.7851520820406255,
          -2.888431710374657,
          -0.07424238568287334,
          -3.108319499589422,
          -0.5544041369701944,
          -3.7288641478916973,
          5.050065632873322,
          -0.6662032659168118,
          -1.9593353173476251,
          -2.8416929840880925,
          4.1460341702052785,
          6.710041955492999,
          -0.011761994268629063,
          -2.5619065737180238,
          -0.5322162817070979,
          -2.390487758012167,
          -2.108544054190644,
          4.937087069211153,
          1.3467227673523987,
          -1.635209778668804,
          -3.2714408361539453,
          -1.7003443150883821,
          -2.6417592040225184,
          0.08803672506172446,
          -1.8051211995239775,
          -2.575424648294941,
          7.442922795995394,
          7.100055556876077,
          -0.534898434923246,
          -0.41297140681555217,
          -2.6675213261076176,
          -1.1691852639971054,
          6.604144605200084,
          -2.9520131660588165,
          6.54093566660781,
          -2.8797086638233043,
          -1.4852577101192643,
          -0.04575570195691883,
          -3.6631469145375917,
          -1.5313164337778908,
          6.675513637279172,
          -3.5964190709795965,
          -1.492554029140492,
          0.2342712812400094,
          -0.29859487304972715,
          -3.6945318948641632,
          5.216874488684611,
          -1.1589157782310588,
          0.009945989818026501,
          -2.1661614237395845,
          -2.736075529529619,
          -2.5449705170060266,
          -0.7574698107093463,
          5.435643653068797,
          -2.621290885594817,
          5.04938869457792,
          -0.6694514503011566,
          1.1467469500397032,
          -2.339884828404197,
          -0.22569823922640983,
          -2.747844517002412,
          5.3998947488366,
          -0.9518474023721879,
          4.82047292357822,
          1.1281774539232525,
          4.366401915337455,
          -2.5949239828583166,
          -1.991598441436231,
          -3.9737227866638687,
          -0.8098695565638062,
          -1.3308310450149958,
          -2.6650943101727886,
          5.502686634005921,
          -0.9513534573557378,
          -1.1927044689629476,
          -3.01531298328994,
          -2.5800972834369666,
          -2.4795495953189395,
          -0.662892385463815,
          -2.4023854311601247,
          -3.6322225397598817,
          4.714046162144451,
          6.223447921146416,
          -2.248511552263578,
          -1.3449522069249369,
          -2.2984431085665054,
          -0.2838260707003249,
          -1.32178929933939,
          -0.2614501527211803,
          -0.4887956028246618,
          -1.6257709439046788,
          -3.085149480337565,
          -1.344549911413577,
          -3.2256936611609177,
          -0.520006312871591,
          0.8713926806091431,
          -1.785555353027896,
          0.6438534770734804,
          -2.353649230600192,
          -0.3607336496143519,
          5.412312343876595,
          -0.5166769586822908,
          -2.4316071058174717,
          -2.773099589835178,
          6.309851132438,
          -1.8507627709953003,
          -3.1341782486895053,
          -1.2068085487979445,
          0.3398241628577672,
          5.558290764020101,
          4.897002945991708,
          -3.50753624277926,
          0.429279351191225,
          -0.9159658038314884,
          -1.6061693439958367,
          -1.0096138853463377,
          -0.061942479665519655,
          -0.17644210824333992,
          -3.1126005874323663,
          4.53861956635763,
          5.506089483031838,
          5.58854084905428,
          0.07717947579632363,
          -2.0124265100683645,
          7.104069208994936,
          -2.64695573178289,
          -0.3885047979825675,
          -3.7265408300970697,
          -0.5285632710229442,
          1.620194062158148,
          -2.656897993657259,
          -0.7144932699019347,
          -2.849477871060654,
          -1.2777034045288271,
          -2.1068301583867144,
          -2.4515073115206434,
          -1.0407110830560342,
          -1.1435175556721404,
          -1.851083401361024,
          -1.6167036829747354,
          -3.0154929064257057,
          -1.8376863420914122,
          -2.1306184759294533,
          -2.1068140831894246,
          -2.539260535070109,
          -2.6172002893743866,
          -0.9822282585041455,
          0.02802011494386601,
          0.5020796940502633,
          -0.07463219087505951,
          6.295723655025104,
          0.426489151902238,
          -1.5684124960030024,
          -3.761567226002759,
          0.3663035497153844,
          -2.1574128780595796,
          -3.396814020474031,
          0.7971129296877317,
          -2.529184954530386,
          -0.36060880226516895,
          1.0829622954586955,
          5.269543784857132,
          5.104810705534698,
          0.3628536937401866,
          5.1833932758796735,
          5.403353795386879,
          1.9310046299694814,
          6.967893771851941,
          5.634054048149143,
          -2.06047076161142,
          -1.2469145689697492,
          0.2451954454281653,
          -1.4154869497243132,
          -0.4056027655599443,
          -0.4773186331561918,
          -1.0464981739951205,
          -1.3807114024389713,
          -2.0585625053642,
          0.052531210365751875,
          7.089252939994602,
          -2.1182149037111238,
          -1.758145229582876,
          -0.7246001958125513,
          -1.691732802088588,
          -0.7387615482242368,
          -1.5457018224432522,
          -2.368876851380136,
          -3.0353427635987407,
          -3.018329395234053,
          -2.5678703414887623,
          -1.1756263114469028,
          -2.1621935266260053,
          -3.512826454616804,
          -1.2273667151188712,
          -1.1135240142584648,
          1.4089296220145227,
          7.386252935357202,
          -2.02081041045087,
          3.9739468914843377,
          -1.4977570888541154,
          -2.45871795079462,
          -1.5044788186167537,
          -1.9797313022110403,
          -2.9685602559869215,
          -2.8970147626988556,
          0.7113790316261651,
          5.51235904907916,
          -0.347848763107852,
          -2.0959436524254964,
          -1.872051086235439,
          1.6800549349868465,
          0.006177547405895868,
          6.385476449725296,
          0.38350023602729577,
          -0.061973537646394135,
          4.188298701250019,
          -1.8216984885484069,
          5.466223217689161,
          -2.8191379604871094,
          -2.3214515884887867,
          -0.761202836411364,
          -2.8240472486725143,
          -1.9019450612735516,
          -1.4439525094486905,
          -1.1665478863326995,
          5.60463903563936,
          -0.08478421153625633,
          0.0005525649596111038,
          -1.1827890739179656,
          -2.4553169551812966,
          -3.5574959451249892,
          0.07745141274166208,
          -1.708692473578314,
          -0.9728935146064648,
          -2.2652815097313876,
          4.046914764029629,
          -0.934099386702171,
          -3.931786031585187,
          -0.05020128828074028,
          -0.4484296610232649,
          -1.1520332833679598,
          5.629458358273006,
          -2.4147129976613755,
          1.959726241279815,
          -3.750951414800445,
          5.60579670853319,
          -2.9555957030902698,
          -2.4521705967630605,
          5.145142161390679,
          -1.7686836894548446,
          -0.40125670518149575,
          1.39743433818877,
          4.567129941829793,
          -3.1076862680070385,
          -3.544939700103717,
          -1.6226391331748224,
          -3.1539260739540764,
          -2.0093739377042175,
          -0.3591964524187101,
          7.227458824333562,
          -2.4179625473168214,
          -1.7720509564914528,
          5.61635956094077,
          4.789682224511161,
          -1.3646350576887287,
          4.680071193141495,
          -3.173299157935315,
          6.118538565334641,
          -2.8722253498825134,
          -0.20943690852206912,
          -2.9463530296284666,
          -1.2935401334171384,
          -1.7328275797317203,
          -0.013446244364929505,
          -2.1090505102763997,
          -0.33636476059754067,
          5.097368604586373,
          -2.4859929485414023,
          -1.5686096860788894,
          0.7209043397095765,
          -2.319435688235549,
          4.807305102793278,
          4.592798335232355,
          -0.653327953624659,
          -1.8581679498011583,
          -1.9994707245296828,
          6.228383789816323,
          -2.2184032345305,
          5.055124992732202,
          -2.8006222243378396,
          1.329215082257982,
          -3.81178716240279,
          -3.1122510538875456,
          -0.5928856375449236,
          -2.7695513281777675,
          -0.538836205834578,
          1.0059068830297908,
          5.553241189242381,
          -2.521837564049892,
          5.758839987683782,
          -1.744434828237235,
          -2.615664494975411,
          5.767045116279966,
          7.041909556313226,
          5.963427219981595,
          -0.32780544759501395,
          -1.6396818526984278,
          -0.721732750019299,
          1.4450376684026356,
          6.603272191600543,
          -1.3022405285359189,
          -1.987329406321042,
          -2.3473450856512676,
          -1.9709358604430403,
          5.545227851328348,
          -0.7436221872529498,
          -0.5840283892889012,
          -2.9514161840562076,
          5.823641918484846,
          1.5531411933455743,
          -0.5184250228984407,
          4.572249783102589,
          -1.7830632296435678,
          -1.051253819185671,
          -1.2644050173516164,
          5.74406028197659,
          -2.917320989709547,
          1.235249257353425,
          -2.8858364142866773,
          -1.001695951234171,
          -1.3948457192930381,
          -0.7762612607669359,
          4.934931663544534,
          -1.4820031793857111,
          5.614034114892024,
          5.037722705831683,
          -0.04602146896597798,
          -3.7849779448487673,
          -2.673287762822746,
          -2.973922372269669,
          -2.379180578487354,
          0.06914597821866918,
          -0.7378238100246881,
          -1.9568804944057352,
          -1.0722409649856401,
          -3.878676069111882,
          1.6423586603095595,
          -1.785287679030301,
          0.30988880161345367,
          -3.066104836581787,
          -0.9948716729427209,
          1.2061648223163328,
          -1.4964699611384784,
          5.629550779831798,
          0.023489934952171183,
          -1.6475235381108433,
          6.261299259644087,
          -1.7395760880449018,
          -2.115196024124697,
          -1.9600472482614466,
          0.2731161886607836,
          -1.5832089546709374,
          -3.3103921252292046,
          -2.5233327815000215,
          6.420657632125685,
          -4.296193438514893,
          1.1663800743493369,
          3.6610744094470826,
          -2.792011070943749,
          -1.337347302342524,
          -0.34832185206040106,
          -1.8763364564040153,
          -1.835127294074398,
          -1.1798853052055374,
          1.2651536731450146,
          -1.6088402167660771,
          5.26775575528619,
          -0.6374647703468234,
          -3.202783999748504,
          -3.6638401670364855,
          -2.8678993552829883,
          -0.5218064982657021,
          -1.9418961488965978,
          -0.4459763297219959,
          -2.499317814358145,
          -2.2099190397299946,
          -1.5965174386332233,
          1.8132645028505583,
          4.752834747956263,
          -2.668961285176292,
          -1.3639197748966074,
          -0.7242999294978361,
          -2.0053003592202314,
          4.597983068723083,
          -2.0274961631051,
          5.970474698688775,
          -1.109064892009958,
          -0.6527063855529117,
          -1.495665561422481,
          -1.468019354820484,
          -3.139613064746487,
          -0.45565181628622725,
          0.10120534467352464,
          0.8666930336502037,
          -2.624279045908407,
          6.244687693661647,
          -1.0327601710758039,
          4.627105778710561,
          4.115556966044312,
          -1.3326601787166261,
          6.8544584896964995,
          -2.624989540411017,
          -2.9210337256751115,
          -0.9385399360387219,
          -2.2737020212102195,
          -1.839754847343924,
          -1.7460618217728119,
          -3.669932403735646,
          0.6989658957402417,
          -0.0801486091549284,
          5.5660177526722014,
          -0.9769027533950903,
          -3.0563563093693493,
          -2.447272929104546,
          4.631981513485793,
          -1.0347127513662762,
          5.554972911707208,
          6.436705498424678,
          5.454489527226775,
          -1.898105506076114,
          5.519966650826522,
          -0.5758250223651747,
          5.098869895605354,
          -2.387184894380937,
          5.476764202724345,
          6.251496413922348,
          4.682803119655121,
          -1.767246897423206,
          -1.5744157656043247,
          -0.4965518116716136,
          -0.5109274593162237,
          0.1519405770274799,
          1.3781026516419663,
          -1.3807717832987163,
          -1.7707119418511268,
          -1.4435655517033035,
          6.159161028738182,
          6.840509077771406,
          1.7609208510968186,
          -0.5770287614040741,
          -2.933127188359771,
          -2.6877251274810527,
          -0.5822033215011527,
          -2.9752834306352742,
          -2.481501807834502,
          -2.0489967449246276,
          -2.5521055414754135,
          -0.055597349920076394,
          -1.8943365908072813,
          -0.4429597896855136,
          4.926172008153327,
          -3.315847076570934,
          -1.6498808763216917,
          5.585720251632835,
          5.297779981646205,
          0.7822424347052198,
          -3.1467811966972246,
          -3.1748854300430702,
          -2.2861489208158488,
          -1.5080277119013246,
          -1.070635119299299,
          0.6644572251435239,
          -0.8202102983158311,
          -1.8339160534832775,
          -1.9172017047196295,
          -1.171052781209895,
          1.7524545043403204,
          -1.137377752818953,
          6.7762373775379885,
          -0.5238969750769324,
          -0.5099480427769135,
          -0.8062521770925429,
          -3.317642760037544,
          5.481852784825318,
          -2.1166244234609635,
          -2.799539516462815,
          -2.86165370611053,
          -0.13444315023532766,
          1.3786374486331505,
          -2.9440784998911655,
          7.081614133354464,
          0.8948436430552608,
          -1.8238560347738584,
          5.726385761075237,
          -1.385334259669353,
          -3.032717763091318,
          -1.8889860876921714,
          -0.053710388937739426,
          7.496842459734075,
          -1.73734170986799,
          -2.0125684476708527,
          -0.7297930544883399,
          -2.3564226657634317,
          0.17530608623441732,
          -0.743865227974856,
          0.24272246046013035,
          -2.7724314332123536,
          -2.07800521095758,
          -1.0950360534982149,
          -1.6709215902274062,
          -0.665439735014784,
          4.790495647772855,
          -0.6832012354447297,
          6.5899578180302845,
          -2.8479164700764446,
          -0.7474861914955488,
          5.5342482507529915,
          -1.045473465256777,
          -1.5615242247595351,
          -2.3968083863518337,
          -2.3391044714148577,
          -2.588138407014771,
          5.148941262597821,
          -3.5698887760637183,
          5.408885180980338,
          -1.8824478077942415,
          -1.6426845033569533,
          -0.2485219564728866,
          -3.0363364972414604,
          -1.9308397100130972,
          -1.3009205780847926,
          -2.4146936644150006,
          -1.4343920462039728,
          5.838298322854337,
          -1.5445764338996684,
          6.499091373844903,
          -1.089412987241222,
          -3.0789385118487713,
          -1.0465247671052949,
          5.214449851312961,
          -2.716200025523634,
          -0.34496400681162037,
          0.14189284323292564,
          -1.5501907723416728,
          -2.2175536788604466,
          -0.3144628247670681,
          -2.8989458437713713,
          -0.056442299837647765,
          -1.928188294615747,
          4.89796918535477,
          -0.6085617378398488,
          -3.109556028737491,
          -1.048707689227002,
          -2.366530955647691,
          -1.948618588262345,
          -0.8897939721314904,
          6.70009579319869,
          0.7338276977346239,
          5.64968675481409,
          0.5421210954894325,
          -1.7751631119666431,
          -1.3693401440824868,
          -3.408855071953946,
          -2.6496774232375366,
          6.4009004652544785,
          -1.7785465762729904,
          0.2025914984896211,
          4.415008885523966,
          -1.7580350781853633,
          -1.3053322286622955,
          -1.7665974829015154,
          5.358576062063894,
          5.624668780354084,
          -2.1284492083335786,
          1.0768458100128777,
          -1.2384057381681388,
          -2.06276769635336,
          -2.5054085120256007,
          -1.1210736987767933,
          -2.4700889674876674,
          -2.898799409464728,
          -0.22830095866636904,
          -0.9314516384392495,
          -2.584229835259971,
          -3.0101607574887863,
          -2.3933798753353823,
          0.7933503953209762,
          -2.6574834273988435,
          -2.9504637226536565,
          -1.053993644054065,
          -3.6105340173663363,
          -1.2577662970162569,
          4.446618753594601,
          -3.549543682400603,
          -1.6881007314395449,
          0.028866845655943694,
          5.126984206358729,
          -2.7204401986965268,
          -1.3772265917471382,
          4.764890682821332,
          -2.6873156188954193,
          6.6690866015220855,
          -2.921718649565782,
          -2.248157024379972,
          -3.0757218614795683,
          -3.563283715142533,
          4.610240100811676,
          -0.17715965878196957,
          -0.8471492464089202,
          -1.6593480300617813,
          6.869684793982381,
          -3.0883026766434796,
          4.925261796099739,
          6.60904762778696,
          6.007471457846799,
          -2.190159746726091,
          -1.9290410340469653,
          -1.7177712039335302,
          0.5058986167467826,
          -0.7839515557999239,
          -1.2062802754504611,
          -1.5684560482363388,
          -1.532098268756402,
          0.984103428235824,
          -1.048583608796417,
          -2.5246691560327497,
          3.8608563080195966,
          -1.547948080011953,
          -1.929560229808268,
          5.28262792062127,
          6.523863975970552,
          -1.7340765109190985,
          -0.9123459159455527,
          -2.7339314261933976,
          -0.6150064134717774,
          -2.9905899424762556,
          -2.6682011298661212,
          -1.5385922631810856,
          -2.9168683696139577,
          -2.1505772047122425,
          6.9157706483038455,
          -0.350764772127857,
          -1.8827971290091863,
          -0.9720196340258285,
          6.1642645944065535,
          -0.4152443676001207,
          -1.7304162808777872,
          5.2713642908660265,
          6.161422124401815,
          -2.242722569077659,
          6.433472587031988,
          -0.10984010776634376,
          -2.242620289879036,
          5.205465255311252,
          0.6398670883073827,
          -2.6975925697744785,
          -2.9724975394228474,
          -3.335253306010473,
          -1.9506949624315824,
          6.672703537334126,
          -2.623394156327992,
          -2.2402443955902025,
          -2.4739796125603544,
          -0.637621143266898,
          -0.5790007212819375,
          6.2530299865321926,
          -1.0255310623666054,
          -1.8693346788618728,
          -0.9496074494890936,
          5.3253930035528105,
          7.044969454374963,
          -2.4755497310320327,
          -2.0032237612905197,
          7.174643738522062,
          -1.7892508838237902,
          1.098163355386955,
          -2.4329278131715104,
          5.443258413278439,
          4.763561042359806,
          -0.3068952994805436,
          -1.872752708882086,
          -2.9392611178562373,
          5.368835638230932,
          -1.0109265473019466,
          1.3462916416029238,
          -1.3029040316810168,
          -2.592767434451281,
          -0.3290511018895796,
          -3.462653841497866,
          0.3381984810858791,
          6.1615234378514945,
          -2.0699663907058907,
          -2.242861334249885,
          -0.23049644998524124,
          -1.3175377112772624,
          -3.7235241220651893,
          5.28101356357049,
          -3.4185114757944,
          -1.9684624619148696,
          -2.128408330524124,
          -0.3032035834268751,
          -0.6385886298040016,
          -1.6942385875675892,
          -2.3374385159668702,
          -0.6214916922464493,
          5.695328193559312,
          0.6443302254095995,
          -2.718700313707604,
          -1.0308584656294153,
          -3.5294661190398626,
          -1.982265333457058,
          1.3519562745514053,
          0.25539655835099745,
          -1.5879277476083429,
          -0.4200763199242114,
          0.1260810818228478,
          -1.525131442351146,
          -0.10796893544307251,
          0.7124108569833415,
          0.534388307533013,
          5.7745241951512485,
          -0.8476391615237521,
          -0.43072426164305655,
          5.634523745478692,
          -2.2338044279201066,
          5.93683124218748,
          -1.64065154835208,
          -1.7231329412196235,
          6.507815819950691,
          4.8964142864116145,
          -1.0979113964502136,
          -0.1453058801561821,
          -2.776557727909023,
          -2.862014022942756,
          -2.383333394228085,
          -1.7435554305935717,
          -2.2017376508884623,
          -2.4682455555154474,
          -1.590165423731302,
          -2.3297173207482786,
          0.721211108165677,
          -2.114814177671635,
          -0.07726089294686113,
          6.588990901401153,
          -1.0096850325075861,
          5.390596584348361,
          4.959441573441189,
          -0.5365482248595663,
          0.23282228249512948,
          0.17588011179745272,
          -2.683992622971306,
          -1.6658854015999425,
          -2.9626480113871727,
          0.7086839381593417,
          -2.2147249182391784,
          5.028943985137072,
          -1.393755509335514,
          6.042869150059682,
          -1.4117160255463637,
          5.5716277590075505,
          4.887703139839872,
          4.37030051848258,
          -2.2556536345683083,
          -0.016730242980500895,
          5.129844051004663,
          -1.1667201710183397,
          -3.6279095117870193,
          -2.0148189360758137,
          1.0802399972584988,
          -2.865363209357241,
          -0.21255587271282744,
          -3.485263629576952,
          -1.324211078886605,
          -0.6512670624804876,
          6.626936248669594,
          5.281735091234207,
          -0.19368787841744253,
          -1.1205194290762792,
          -1.7219133019814385,
          -0.0150410691260348,
          -1.355491920591773,
          4.759570724203322,
          -1.5149695797331908,
          -2.659601681606055,
          0.6906655600047125,
          5.843747500492873,
          0.2870482635212933,
          6.491732953085686,
          6.634607415417888,
          -2.026362090062475,
          6.035793799931986,
          6.556610988068478,
          -1.0037665455135165,
          -2.310277145493469,
          -2.2196220350866196,
          -2.3290185864247865,
          -1.4313804950930498,
          -2.874699290554871,
          4.916311972043918,
          -0.7717801983143486,
          -3.4409226393868586,
          4.195864009642114,
          -2.6957227890767714,
          -3.0773787593804993,
          -2.5456671162355207,
          6.590035687201151,
          -3.104799056919377,
          -2.4584101017193425,
          -1.638429030158674,
          -0.4502038090268235,
          -0.6415168736175049,
          6.9514418190399025,
          -3.623834377887712,
          0.5960220385975362,
          -1.8035401804274054,
          6.59758863991492,
          4.562426897165273,
          -1.8320994985175858,
          5.374006856370379,
          -2.8325343185385177,
          -2.8082685451315252,
          -0.6818762249558679,
          0.554073083479568,
          -3.6972922663406536,
          5.376888654384266,
          1.6512596998928935,
          -2.1062137448240543,
          -2.9397095538134623,
          5.4593808465403795,
          4.8202011454480145,
          -1.4516815820361604,
          4.629873225837251,
          -1.4526225872043086,
          -1.4366457390212952,
          -3.0175375609857626,
          6.227695232219884,
          -0.7509388834819176,
          1.6066701076179382,
          0.11512406527579198,
          -1.5702484261947285,
          -2.83779638510017,
          -3.9627806387721076,
          -2.079914107125875,
          -2.0394872689857095,
          6.069857294501389,
          6.293402744969194,
          0.19493409379733184,
          -2.2646410073075933,
          -1.7519587452366197,
          -0.050884393557138814,
          -3.0766514306783357,
          6.435009461718382,
          -2.8442039400416266,
          -1.3567942438149654,
          1.2745238367684648,
          -2.4036962712151975,
          -1.7405490037763687,
          -0.7464038775347351,
          -1.625984251970846,
          -0.11762863022381331,
          -1.7504238469045685,
          -2.5057054148641744,
          5.530612842144669,
          1.1349729983147088,
          -0.3116214510441534,
          -3.3153716758340592,
          0.285086329079101,
          -1.3738205252994926,
          -2.322987341311746,
          0.8543413141398408,
          0.05131188953217393,
          -1.7041001324759166,
          0.41463933124647834,
          5.97614781459484,
          6.554746127940267,
          -0.35428214717452833,
          -0.5889594213683749,
          -2.2363223739104248,
          5.355363945756571,
          0.07647869298313968,
          -1.4276552848309858,
          -0.7632910637821672,
          -2.7659506360072115,
          -3.0342770951608022,
          -2.496266084958055,
          -0.4361892233649845,
          -2.685231265010647,
          -1.632390564034215,
          -0.8363398558258676,
          -2.030822326705739,
          1.3000946262715465,
          -1.7585372150961394,
          -1.8250400881334579,
          -2.7672925129706103,
          -3.2713079062102306,
          1.0316306088815543,
          5.188269526829184,
          -3.384003743825265,
          -3.2027670064354137,
          -2.9039321426076206,
          -0.5445212079356603,
          -2.52595838613113,
          -1.0370734883651689,
          -1.167637323443723,
          -2.193576546551312,
          -1.2881129077944682,
          -0.9066851641191338,
          0.08081827361302794,
          -3.0939194436214357,
          -2.5768637368413723,
          -2.489502513512121,
          -0.31907747240597234,
          -2.7310346287002396,
          0.17276633862767443,
          -1.226119320343635,
          -0.5896026633355147,
          -1.8119958873747246,
          -2.1325617559718495,
          -1.0372281555871807,
          0.10606015100596942,
          5.303094788574259,
          6.4803076816720875,
          5.74420188830569,
          5.313402257547946,
          -0.22664337468598675,
          -0.3680793544980303,
          -1.115500983926525,
          -1.6371244619998446,
          -3.1038386160912297,
          5.7006390319022175,
          0.6248291339783504,
          1.0265892890164376,
          6.522783980281657,
          6.072823824829367,
          -3.7535393794800402,
          -1.99884307923776,
          0.9595440616060203,
          5.54770359077085,
          -0.4717917988680855,
          0.7829494219993727,
          -2.7967696567724754,
          -0.995712676142975,
          -0.7300658164151602,
          7.026708615499612,
          -2.0016752131940443,
          7.015902520063831,
          5.456992668254863,
          -2.7749258542354958,
          -2.6679315680207503,
          -1.2117682350020278,
          -3.2538440942869067,
          -1.5313475955025402,
          -3.4803626112511985,
          -0.8660291236292956,
          6.3665090263537225,
          3.8288735819739625,
          -0.1648326100797097,
          -2.6689919657589947,
          -3.595612742676044,
          -1.4086983869236027,
          -3.1749828329249796,
          -0.6269074491940788,
          -1.2561568430821068,
          -2.5567589381329556,
          -0.4935441116107108,
          6.694266936655376,
          -2.0031165660940142,
          5.264413125547527,
          -1.2100568712675692,
          -2.710315237022881,
          0.38921551944571564,
          5.927829907652835,
          -0.23972680066707985,
          -3.4986799238122903,
          0.11590163919053267,
          -0.6625679487756554,
          -3.065976908842293,
          -1.6836868597844863,
          -3.7727151685772813,
          -1.4550292558898217,
          0.6697597074462621,
          -1.6801009439288914,
          1.0902967537595212,
          -1.2500890735934516,
          -3.727067980193938,
          -2.6417091163431863,
          -1.85425425741075,
          0.9227457370766511,
          -1.6385896923686634,
          5.1747216291002065,
          -2.8139283998288844,
          -3.133345819263879,
          -3.582592185719921,
          -1.2111313999570141,
          -0.44241884469146026,
          -2.417412168169568,
          -2.230328044500251,
          1.1454612465079124,
          -0.8523315012207549,
          6.556829092464276,
          -1.0102147038546112,
          -3.9063401224414496,
          -0.9220556203892946,
          -0.36084043633938756,
          6.218318178427925,
          1.201983810349032,
          5.496455286131027,
          0.9996621171955046,
          -0.4209715030391213,
          -1.7007759282822679,
          -1.8657696255239786,
          -0.48815639101508873,
          -0.03234408523222195,
          -1.8687507104888739,
          5.799271179250049,
          -3.078741433398847,
          -0.5467129813066902,
          1.481644384319427,
          -2.8366674464639177,
          0.32994097971312764,
          -1.309843056799053,
          3.9389959371335426,
          -3.9098814364540773,
          -1.0574411957126233,
          -1.9983023664068191,
          -2.9707864468074523,
          -1.3981148517069242,
          -1.0725659757388135,
          -1.7440154029689101,
          -3.4049547611718123,
          -1.6610892967933222,
          0.5188935819771824,
          -1.1406846297766857,
          -0.8748969703512429,
          -0.013704232266878535,
          -3.420315286996686,
          -1.129266120833607,
          6.248192697115811,
          -1.0254329700750768,
          -3.1277120417567126,
          -2.9698507745308094,
          0.6593089478418674,
          5.49461803907641,
          -1.0619881259173833,
          -1.779411204314171,
          -1.0034133757636003,
          -1.7538848937374163,
          -0.4966502358837514,
          -0.4616240546955343,
          5.1438381024422934,
          -1.1133072362074807,
          4.706392248196756,
          -2.5824973865670398,
          -1.651643247657602,
          0.04867161785361956,
          -1.9420767908222927,
          0.3283801327161618,
          -0.4218579210359739,
          -1.3207942439445401,
          -2.9130770144545934,
          0.5615018386810888,
          -2.9889464483777997,
          -0.3972230726136452,
          -0.9200852770400075,
          4.2051831477182775,
          -1.732937280346606,
          -3.032178538649699,
          -0.4393405143267594,
          6.140326629165756,
          -0.011907925853605091,
          0.5352133884124981
         ],
         "xaxis": "x",
         "y": [
          3.9653581980130053,
          -1.9274890285910857,
          -3.4472958612941884,
          -1.8491368606879448,
          -0.28004113051662355,
          -0.6897808411876887,
          -3.4459180840679227,
          -0.47093544076973554,
          3.126389323173557,
          -0.10326583192319372,
          4.407436786106798,
          -2.27114315255112,
          -0.33025427859471757,
          0.7200284544768095,
          -0.9668787516148337,
          -3.322650023040673,
          0.24903421339463763,
          -3.0487516713268787,
          0.6994145696301138,
          -1.7674153619830657,
          4.27729187652059,
          -2.8343124113417177,
          -1.1643467822543407,
          -1.5475869398442625,
          -1.5889252437375534,
          -0.91152625373789,
          -1.9414401981501568,
          5.688762983522479,
          -2.292258432401632,
          0.5088616416076518,
          -3.1873719084842818,
          4.211262156097768,
          -1.9320836762623617,
          -3.219813965076988,
          -3.226755122404507,
          -1.8139312534382062,
          1.5503798564305535,
          -0.45086854753592087,
          -3.667380670489878,
          -1.9700340526296594,
          -1.3614479514645887,
          -2.3057277421812894,
          -0.8113102448429415,
          -3.0410490534203967,
          -0.3366975770198444,
          6.6721279894623,
          0.3398917473692285,
          -1.0540855273205483,
          -0.9073737799872138,
          0.43254866050385254,
          -2.173998824223563,
          -3.406751728871452,
          -0.5050426398875036,
          -3.2279315218718936,
          -0.8516776274700782,
          5.33620626810652,
          8.358727304955606,
          3.2416213071499183,
          0.11994630712708644,
          -3.1153474265910486,
          -0.49776404562490406,
          -0.5074324051153526,
          -0.9161289292871683,
          4.860561145833538,
          -0.5951701343279786,
          0.4743574108974907,
          6.803789332460659,
          -0.44656645768675435,
          -1.917599741371839,
          -2.051503303702412,
          0.7445256856122239,
          -3.704851010944927,
          -0.005020668433031027,
          -0.9582672729292959,
          -2.747973883228821,
          6.863865757083144,
          -2.736157368961874,
          -0.5409772739090977,
          -0.9161532261513475,
          5.27171819894236,
          5.46287575432955,
          -1.1113469824599829,
          4.22786748352186,
          1.0467241354023629,
          -0.15795075053034388,
          -0.9677127166510848,
          0.2700723180639546,
          1.8114749798008163,
          0.5890931131664789,
          3.925977494047721,
          1.9042310039754478,
          0.2420246327685221,
          6.119179771670674,
          0.8733317954599047,
          -0.5549602915249259,
          0.8434573052838217,
          0.31982253732865923,
          -2.0272518306965117,
          0.537666253180401,
          -2.213247520789869,
          -1.9303552408070106,
          -0.6241619385529455,
          -1.916103471604244,
          -1.8717505611630432,
          -1.868275865226547,
          4.726138012956168,
          -0.7506750984868141,
          -2.5482941951500266,
          -2.920106102616376,
          -1.91582155211655,
          4.10045609073352,
          -1.79061938561476,
          -0.5366265495145063,
          -1.0470140403101016,
          -0.5142548269331466,
          5.1925947354849,
          -0.8636222414741198,
          2.8948000461699563,
          -1.9455082698626065,
          -2.2263769721280244,
          4.232727803678573,
          -1.377265527061235,
          -2.0504154783371487,
          0.24595906400702447,
          -1.9365532186520298,
          1.49955228133784,
          -2.294463693961382,
          1.4981340963485783,
          -3.180973930039903,
          -1.1633169765325542,
          -2.4398429527208085,
          0.8608440229632437,
          -0.7671837126343116,
          -1.2840427880399086,
          -0.9198944663795996,
          -1.390796800010653,
          -0.8856174470480368,
          -3.829269807841943,
          2.9543107772253405,
          5.305729050075596,
          -0.8428997994935233,
          -0.13269966298620098,
          -1.2518410412492644,
          -1.4701987548952302,
          -2.558193350365349,
          0.3793553439936497,
          -0.17208408718609491,
          5.474022823892492,
          0.04557651257456668,
          -0.11457733935226765,
          -2.2219197194214897,
          -0.9362949759743788,
          3.408563233611543,
          -1.4702205937657629,
          3.478781366430434,
          -0.36080996601201376,
          -2.832857484138244,
          -3.155794848975791,
          0.09443859848414976,
          -3.8389221327954783,
          -2.0432848661183205,
          0.7631454472828699,
          -1.4806075209288518,
          -2.873376732759576,
          0.601566251469655,
          -1.0497090748720932,
          -1.017510515398509,
          5.262566811520564,
          0.604717090811633,
          6.020015366297265,
          -0.29290335971821924,
          -1.8324733671557154,
          5.398310338422988,
          1.6052997407778533,
          0.11220930779332113,
          4.5579786310339925,
          -1.7567894365663759,
          5.13067401749534,
          -1.48841023928967,
          -0.7144264433913042,
          -0.8965073081090839,
          0.5738850605981285,
          -1.2432695293426446,
          -2.2672063496157064,
          -1.3264699991919222,
          -3.8554308778766164,
          5.750446351591887,
          0.5340704174707152,
          0.32926551969776763,
          -3.0739947318811605,
          1.193107683445858,
          -1.8829588181416246,
          2.593559061590775,
          -1.2243022774438654,
          -0.5610631828393388,
          -1.176435359248772,
          -0.5675684077091552,
          -0.5329175538192469,
          -1.0411817049979852,
          -0.6619881852860964,
          7.368096891496778,
          -0.5344473253276759,
          -0.1671646116872183,
          -2.801686176267055,
          0.197900955876949,
          2.6683809650474775,
          -1.9642467960032635,
          0.7735800114616292,
          -1.4682727105381914,
          -2.4228925251307327,
          0.9688627661817208,
          -2.828322392711726,
          -1.304848906327645,
          -3.0466365291134125,
          3.6353133134924467,
          1.434267105180153,
          5.395006472410003,
          4.692853982854061,
          -4.589629542860614,
          -0.19643095012960335,
          -1.3166079027390074,
          4.677060885137126,
          4.081712911370713,
          -0.9462781816173567,
          4.187283970799203,
          -0.14485673612463354,
          0.641992309123702,
          -1.2099245484539387,
          -3.0090185442039497,
          -0.8125291986292668,
          -1.4855216819271322,
          -2.074168862062859,
          -1.527189031465832,
          -1.9531764344263698,
          0.22771662230910455,
          4.867127901347537,
          -1.6515417658422349,
          -2.2440463989423898,
          -2.9216438957764024,
          -2.9720321333686766,
          5.0320277195865835,
          -2.1421997728485334,
          -1.2229618534819338,
          -2.590054960184384,
          -1.0248411778396778,
          5.762068153555477,
          3.5556777726414217,
          6.09017172739611,
          -1.2327656539136138,
          -0.7077741790003582,
          5.336556969925778,
          -0.3473676297629897,
          0.8445451430170429,
          0.1442896071668825,
          -1.251433875427428,
          -0.08872419396404779,
          4.353542419778101,
          -1.2194881020631667,
          -4.8720559240850765,
          0.09447642987645463,
          -0.29348844311744254,
          -1.4148653511208442,
          -1.094731182288307,
          0.3959752267380512,
          0.542038606532333,
          -2.0090245953503314,
          0.40827698441289456,
          -3.8192920328994475,
          6.214448867010752,
          -1.871499542668914,
          0.7251055237753257,
          -1.739003720402749,
          5.774420963736661,
          3.3514313987118753,
          2.8010254308433953,
          -3.391126860611983,
          -1.65750505498919,
          1.319941442721741,
          4.057987762672994,
          -2.9558673814651693,
          -1.0530545466656265,
          -1.6927096815493814,
          -0.4386490841802196,
          -1.2604914641978753,
          3.2939032103245274,
          -3.625603965626248,
          -4.0523434580058995,
          5.838873036868825,
          1.8473133187895006,
          -3.9535662580114637,
          0.8409573317740567,
          -2.377199364994221,
          -0.9949259834585535,
          -1.0315504510608746,
          1.4597213809485443,
          0.9028687164009837,
          0.7741436898890984,
          -0.4403797356839072,
          -0.48158386737869113,
          -3.878556626501518,
          -2.4679396595576137,
          -2.0691364759446613,
          0.5717626452445433,
          0.5492387920501716,
          -2.8363849752649677,
          -2.4971022212614917,
          4.17772661231456,
          -0.8613400319406151,
          1.074592210176197,
          -0.29306435800384695,
          -4.70244936005149,
          1.6518374885883367,
          -3.041149701736639,
          -1.0869105233347847,
          -1.4727466466527952,
          5.789219421912934,
          -2.9803207321607514,
          4.771423223536341,
          -1.3940237576076147,
          -2.613177514702218,
          -3.877631700796407,
          -4.156216386771255,
          -0.4489661468746409,
          -3.14051629231596,
          -1.937134717054269,
          1.3301671781500943,
          -1.7985541704693977,
          -2.38710645181569,
          -1.6848020094887066,
          3.023250509057159,
          -2.285979372182064,
          -1.7700875355030912,
          -1.9285940835772228,
          -1.6758805694469285,
          -1.7010473610895789,
          4.0868023769948065,
          -1.5393881967298209,
          4.795778480073957,
          -1.9965648014729926,
          -2.4208716972491686,
          -0.4875132266319874,
          4.446712983517181,
          -3.6130131819257714,
          -1.312094289680711,
          -2.1600858779422922,
          -2.8176184020753055,
          0.5745517854892741,
          -4.385898542998634,
          -3.516568727996409,
          -1.9785068761498317,
          -1.5313540001118398,
          -2.88928654024479,
          -3.425218863542552,
          7.449409080675207,
          -0.8719893158238027,
          -2.097386949367649,
          0.6032141781839346,
          4.536299514012021,
          -0.25062255100044123,
          -2.8223492402434327,
          -1.6403482623465138,
          -0.823297229622321,
          -2.8623805883407134,
          1.0041370597070647,
          -1.7700337234296746,
          -0.660969228631785,
          -1.188348112704051,
          -3.923541161864846,
          -3.217816703048294,
          -0.35196293347335644,
          1.252665337286363,
          -4.261069111882936,
          5.178880734570042,
          4.90225240725372,
          0.19861413496936298,
          -3.4333743426852092,
          -4.556391161962537,
          -0.21302233420246303,
          5.251369805186388,
          5.1604753797523895,
          0.1175664060671585,
          -0.6136402699146217,
          5.2741940670893595,
          -0.6689189113912568,
          -0.24276818981585285,
          -2.833796214202004,
          -0.04938817414871947,
          0.34280168049821336,
          -2.786607316316623,
          -1.2983405164952155,
          -0.9112972248688257,
          1.4967185949464628,
          -0.274762706642032,
          -2.615955540806348,
          6.915632039910856,
          0.29773100155136456,
          5.734645165341581,
          -2.5487809630052616,
          -1.7552922462807496,
          6.526088539608915,
          -0.3491667897275204,
          0.09509818009229948,
          0.8496723761406552,
          3.2303315020798355,
          -2.894668907148999,
          0.010476324364505938,
          5.068979592395591,
          -2.140624297896786,
          -2.3860648865801326,
          0.15621880985229392,
          -3.2810913627580938,
          0.23212889018627708,
          -0.9168294553479438,
          5.416602520129318,
          -0.2844316791299205,
          -0.6133935366288269,
          -0.7892907184090999,
          -1.1146398507205615,
          5.323710600638593,
          -1.6823673255916711,
          -1.1170439389882971,
          5.969286619154471,
          -2.6046801590158752,
          -1.9317869384567596,
          0.13507304842134357,
          -0.3903352226242357,
          5.406542668333308,
          0.8776299102596284,
          -0.6207755651416887,
          4.645862030017126,
          -0.7671458892531757,
          -0.3109471139750863,
          -2.5247123000685017,
          -3.616544104273709,
          0.03536781205660623,
          -0.19455085496430763,
          -3.3100579487971262,
          -0.8506496872835615,
          -0.8879352594744921,
          -0.9175043722172752,
          -1.2226146051596798,
          0.03128265822365798,
          -2.159528822889468,
          0.615365536470117,
          -1.0015618415655085,
          0.8018080580887207,
          -3.6756299919811726,
          -3.6126653002749323,
          3.9991572365389914,
          0.39602816147939013,
          4.8654682661383974,
          0.5238989760557485,
          -0.7281148560267121,
          -0.6286693540628544,
          -2.1895489297250026,
          2.452232871011331,
          -0.6718428869694059,
          -0.4773144118878472,
          -1.1354122319213633,
          -3.3684197921012964,
          -2.190634812814938,
          -1.6017214427280169,
          -4.123172549214925,
          5.198291434112126,
          -2.0734113317620997,
          4.389838631219595,
          5.595468895642256,
          -0.8927509808644232,
          0.7555607354661406,
          -0.2597580761734158,
          -2.3530128484572947,
          -1.3225875491876373,
          -0.7752107203266579,
          0.14542390235835786,
          -2.395434425151536,
          6.403695102139633,
          -1.3771485382121236,
          0.38826044536168736,
          -1.777429186789714,
          5.036287534348347,
          0.4474379863435569,
          5.017685360896052,
          6.425258572801355,
          -2.803264461285675,
          -2.4183428504336337,
          0.48446102692142795,
          -1.7828574067327798,
          -2.575962850132117,
          -0.09484700215819593,
          1.5708596430803592,
          0.1446869721484618,
          -0.1377751106329211,
          -4.691753210132015,
          -2.4059052368650886,
          -0.8273262042107864,
          -2.5855212257664335,
          -1.666648418220777,
          0.1415886348222766,
          0.5469397783114032,
          1.1443253626614753,
          -0.5983927878560052,
          5.0181713035136095,
          -2.225696348039885,
          0.2641637434321696,
          0.33291428651543753,
          1.0993321880477396,
          6.299740048296938,
          -2.0220024854642147,
          -2.748999201311336,
          5.818337467614958,
          -0.8656453063519282,
          0.31816571830832824,
          -0.6209674429501428,
          6.928334368583702,
          2.8326088850602997,
          4.164188073308195,
          0.9130090939135176,
          0.9851456198081197,
          -1.4657669776905642,
          5.878576702285185,
          -1.106145040804753,
          -1.0585031673369916,
          -1.4876912858412101,
          6.682116216023956,
          -2.644658947196494,
          2.5704926571615343,
          3.4896821008212346,
          0.8750648393302503,
          0.12059868557209856,
          -1.9217664356208304,
          -1.5610689759049385,
          -2.711645266047638,
          -1.1098650581233838,
          -0.09029125717721917,
          2.215183025743226,
          -1.3012869524522395,
          -0.25117439669901026,
          5.315016855858997,
          -1.8635473735650092,
          2.76544373339938,
          -0.1652451253514409,
          -1.6183960847594712,
          -1.6566890442160347,
          -2.8478502016298872,
          2.2409782054014302,
          4.282862906898516,
          -3.211328025309536,
          -2.3159610541424147,
          5.637404594989484,
          -0.7745809683630419,
          -1.7928219401498513,
          -0.5755609616004045,
          5.739929815219861,
          -2.2027704792025724,
          -0.1549257412575584,
          -2.371025177974342,
          -1.2800727475242064,
          -2.894257431129544,
          -2.190837523124458,
          -4.0623727026319525,
          4.127594071652814,
          -0.1686563798120931,
          8.385409965957962,
          1.3283396836655956,
          -3.453184019694453,
          -3.0281271990094045,
          0.2662296320716521,
          -4.4277337184509955,
          -0.6352929927706659,
          0.6109750471448744,
          -0.07371712109993486,
          -1.3304408734365762,
          -4.479488553860635,
          -2.038592768207659,
          -0.3935346162232964,
          -1.0239999410237417,
          -0.647873501244726,
          1.2266676778597208,
          -2.370852779872477,
          -1.2530443724738713,
          -3.3697482311068625,
          4.797758558461069,
          4.7222942338589045,
          -1.168854145549308,
          -2.2690531297448757,
          2.5654369539094266,
          -2.1314202533414566,
          -1.4561153255278907,
          -1.6468815890412543,
          -0.6766105131520996,
          -0.31124673507373085,
          -1.5025869544100436,
          -2.112269893645084,
          -3.523026163404242,
          0.36279314647980243,
          -0.7277476611390352,
          -0.4966722498709547,
          -0.4737884328279633,
          -4.10554436958413,
          0.39833369459226925,
          4.332767049074201,
          -3.0424568958185856,
          -0.1154945641795701,
          -3.5181879659517046,
          0.6335581259252502,
          -0.6883981974401839,
          -2.3671696167690257,
          -1.8558456987084089,
          -2.0266031720835906,
          -0.38517420328841123,
          -0.7764488581349867,
          0.5432835115195533,
          1.5613418241982524,
          -4.401686673209135,
          -0.7911400285258844,
          0.8401667542655886,
          -3.5452914068501555,
          -1.8993260929984703,
          0.23368769184175675,
          -1.740129615429408,
          -1.0786890870275223,
          -3.059371582983613,
          1.563251496555544,
          -1.3384054447490263,
          0.5983359797704713,
          -1.8014809773092768,
          -4.081958880649911,
          4.106942642748269,
          -1.3883905665631926,
          -0.4863109769504502,
          -2.796992376318174,
          -1.0110416637894082,
          -2.469789892732433,
          -2.435365438859015,
          2.6972954807112863,
          1.724965369896098,
          5.748928025518725,
          5.055900743606109,
          -2.0867770745553904,
          0.9970515903507358,
          3.898415089370979,
          -0.629919060513955,
          -0.9608029018653557,
          4.0965320443379785,
          -2.2742998973455215,
          -2.9043273817633355,
          5.845209487077398,
          -2.8297862286980235,
          -0.4631422306956175,
          -1.4517570710524752,
          -0.6490979224281249,
          -0.5443519692453682,
          4.957655905512941,
          -0.7363839201350096,
          5.578139128740045,
          5.781894712436968,
          -0.6720695187022827,
          -3.8380900173747827,
          -2.2614754632403455,
          7.002540192519218,
          -2.9449576723151716,
          4.802118382335857,
          1.4574763668054251,
          0.5996324669644013,
          2.7266831470404345,
          -3.591777011330392,
          -1.3736754075218747,
          -1.9829509735478228,
          -2.0496989048797487,
          6.4640073327260925,
          -1.2708216855825676,
          -1.440715476412205,
          1.0835057986675594,
          -3.149918243365952,
          0.1680231424307299,
          -2.2223685362706056,
          0.665336716192393,
          -3.646364082229951,
          6.412764153751826,
          0.2558201581553241,
          -2.1618810305719065,
          -0.19753630628379074,
          -2.6347336169122384,
          -0.3388860732544889,
          -2.331809373416807,
          -0.3837696499211028,
          -1.8242156605607254,
          -0.5788342428958642,
          -1.9394009319683658,
          -0.6558801793120708,
          5.780769987398679,
          4.257122796054219,
          2.359618032577138,
          3.7680799355059835,
          -3.1555058417407555,
          2.576083790865527,
          -2.6347380046356386,
          -1.6718972134962302,
          -3.0003091781975426,
          -1.8922047280062293,
          -3.3356390068811668,
          -1.2894286537372341,
          0.30152801321983874,
          -2.8609299263010595,
          -2.324833378987164,
          -0.6770860163463345,
          -0.20571560941759434,
          1.3785246614878173,
          -1.7885997368562185,
          -0.8845536921177839,
          -1.0120261810592237,
          -0.20080668282811842,
          -0.4188208936356939,
          -3.6529704988658414,
          -2.1245897162136607,
          -0.5060203529827892,
          -0.38791516530015197,
          -0.8601002778904051,
          -0.7523947544445196,
          0.7382426401934029,
          5.4296334187502024,
          6.2227216095395415,
          -3.449635239279328,
          -3.7972769737439176,
          -2.4496103513454854,
          -0.9560198979411764,
          -0.5797552102742802,
          -3.6861756657693134,
          3.4251520044430666,
          6.434974413596112,
          -0.6814846840425309,
          -1.6324094652485557,
          2.0879669708060566,
          5.575101708194322,
          4.755288819575503,
          5.582812310420177,
          -0.7551979168532401,
          -2.632032699400113,
          4.418646586689682,
          -1.889868424240292,
          6.847585103287955,
          -2.9982845537918763,
          -1.821638663244153,
          0.3865703713643944,
          -0.3427283047325204,
          0.4134866244416533,
          -0.6390207898812674,
          -0.8691043299863704,
          -1.4799375230454208,
          -0.586950868316397,
          4.911239770955233,
          4.6102714015586495,
          0.9983873403761105,
          1.424962551512201,
          5.127402783358779,
          3.9884272069664553,
          -1.761669996536533,
          -4.167512813123379,
          1.6896939697770952,
          1.115137295758087,
          4.907024235968939,
          3.46905717097126,
          -0.1858402191486819,
          -2.581137512799807,
          -1.802997841722015,
          1.4564923366203617,
          0.6864977358495592,
          -0.2090673838837083,
          -0.4100768137043242,
          -0.8298402658815571,
          -1.0490270263089236,
          -2.483451292074166,
          7.718068500755276,
          -3.178041134397557,
          -1.6000112749970543,
          -0.47889415080590747,
          0.4947894650431338,
          -2.5530268790031965,
          -3.137556653943866,
          4.9340644973951475,
          -0.5010065039614927,
          -2.921161550148442,
          -0.7983703832835309,
          -1.314604480252646,
          -1.6971806142172725,
          0.13460405146645563,
          -2.601093116679788,
          3.4855400644109586,
          -2.4526531342202205,
          -1.207447634614482,
          -2.2308775779103085,
          -0.5625092795634837,
          -2.893477454278001,
          -0.2859020326248419,
          -1.2871829081975015,
          -1.3679563737664093,
          -3.560325105460068,
          -1.0929268555668086,
          -0.4868322026500758,
          0.6555836143267181,
          3.41888124012526,
          -2.780097039894508,
          -1.9432122119800204,
          4.3399316710023195,
          -3.8616992677286746,
          5.4210478556921835,
          5.760858564350107,
          0.2210249420519855,
          -2.210356811269972,
          -1.3461596615194575,
          -1.458976850170346,
          -2.061615588026826,
          5.297073528394462,
          1.4715715243267538,
          0.6189681483272333,
          5.583201006742793,
          1.3134571381823026,
          4.122954468095915,
          -0.478789528564799,
          8.357452538241649,
          -4.108550010365439,
          -3.9196931444783805,
          5.7401836357928655,
          5.580735332000676,
          -1.2464214571855634,
          0.05694593489271541,
          -1.60012371716407,
          -3.6726952835123465,
          6.673907391194059,
          -3.848547029943355,
          -3.712384823893757,
          -0.494643235124376,
          6.97943669050155,
          -0.8866772372264983,
          -2.2168532272773978,
          0.1256208206843531,
          -2.204077543486129,
          -2.1580300782835,
          -0.7766479245698205,
          -4.6961269488494315,
          -1.3848070855175316,
          -1.7247748524177307,
          -2.0031446436784988,
          -0.9739870150481853,
          -2.913733171566958,
          -5.046301736505179,
          -1.5402433067413213,
          -3.021182290349009,
          4.667382375040998,
          1.7420320029735195,
          -4.411367866567552,
          0.36950459165040367,
          -2.7532539900360558,
          2.829226346093321,
          -1.324569726745627,
          0.0773274781980471,
          -2.033904482786609,
          5.80958346270897,
          -0.3780083501924796,
          -0.9502773376845411,
          -0.1300616773791977,
          -0.8541008608842433,
          5.899868710091815,
          -2.0858171816050453,
          0.5709103985081311,
          0.2079559403034562,
          6.508032205522457,
          -1.8337793020981215,
          7.273699258093843,
          -1.1543788743436338,
          -1.2806352946874753,
          -1.8763558907144606,
          0.37138743316109074,
          -1.134166333438682,
          -4.025802385891693,
          -2.791966760109531,
          1.8968197795663873,
          4.624557497586989,
          -0.6501719971564782,
          0.3136447610045565,
          -1.0417675882391257,
          7.2789176699760105,
          1.1424063171224934,
          -0.9202741025974427,
          -0.6860874637011369,
          -2.1627548455582555,
          6.136001588229064,
          6.03764322515562,
          -3.129968043495536,
          2.8798312431059676,
          -2.2484989682877305,
          0.9434164782861123,
          6.6344712265476415,
          -2.356975293400128,
          -1.6296305980767958,
          1.7934675667319055,
          -4.064322954797686,
          0.31591400063249936,
          -2.190296549692985,
          -1.7152608900757493,
          -1.4230808230435308,
          4.9644952115693775,
          0.68327379075096,
          -0.21274221407749944,
          5.230498577877383,
          1.4867980649969612,
          3.8146050933404885,
          -1.2144867532327333,
          -2.002541173497618,
          2.2023236291387684,
          -2.7151518640659904,
          -0.1898491295644069,
          -0.5357184258016321,
          5.753254059581577,
          6.073735556353235,
          -2.0169542404902105,
          3.2367224659768183,
          -1.2968890634118344,
          -3.6350713659176552,
          -3.346089026727016,
          -2.2663503594966294,
          -0.7144245833712087,
          5.663288782142201,
          0.3210066513154945,
          -2.2880713578871172,
          0.2906399817686737,
          7.369965973662676,
          -3.742170477000418,
          5.335585788134716,
          1.2771806329829656,
          -1.4242514585465107,
          -0.6568630829360557,
          -2.633344035664327,
          -1.2352105186802929,
          -1.715920614874067,
          -1.1921313809232583,
          -1.21410737937303,
          7.210260706686322,
          -1.2784698532961776,
          -3.250726576875833,
          -3.1633820894857116,
          1.054547672284964,
          -2.7565495173738057,
          -0.48747883741984227,
          -2.0307455577299494,
          0.6088491089475134,
          4.923715269549715,
          1.1591810357980794,
          -2.0864575483529806,
          -4.138518146698091,
          -1.5645672009924865,
          -2.896113946018282,
          -2.6604016214238344,
          -2.8602996219183368,
          3.788071463036923,
          0.1964042161215967,
          -0.22999020502201015,
          -1.3155920164108426,
          -1.3548518364475894,
          -1.683627149656312,
          -3.6906164346411607,
          -1.1902836892031328,
          2.092702519226975,
          -1.8959644758417808,
          -4.329766953787374,
          -1.4562520569217645,
          -1.5200365608284432,
          -2.9665665699668153,
          -1.8959950147264208,
          -0.795124380144358,
          -3.751337586943143,
          6.242893772762159,
          -0.6413299212355698,
          0.21867510450435648,
          -4.381067644711126,
          -1.3844080566575774,
          -2.731759862535095,
          5.035767153827483,
          5.659155111421994,
          4.372047649462341,
          -2.32332192633411,
          -0.7279804892137971,
          -0.19637501494035672,
          5.867744407001038,
          -2.497728846609286,
          -1.9125470876687853,
          0.1805894106678355,
          -2.0877952851001442,
          -0.336901395662887,
          -4.982629069149596,
          0.2835880073588709,
          1.7518501009782184,
          -2.423848845909455,
          0.8821931579638597,
          -1.2557570934977198,
          -2.54973516080917,
          -1.0088983828678462,
          -1.0341870419920303,
          -0.4382826336939346,
          -3.1997933093843076,
          -3.0712788811236877,
          4.902084375811916,
          -0.4264480938161391,
          4.929745697684233,
          -1.858554325841131,
          -0.43330528915931926,
          -2.1340059287018347,
          -1.9948785384785808,
          -3.7596178154753765,
          -3.773787710277583,
          -2.2292273210763733,
          6.5008379498863285,
          4.730250428348737,
          -1.4101983661019455,
          -1.9097819870609372,
          -1.1615122664656503,
          -2.1712345480789277,
          -1.819905262876403,
          1.0559155607604291,
          4.535113922774886,
          -0.22965872156859024,
          -0.06872941106788201,
          -4.032218705471213,
          -0.4947660979503593,
          -1.6917074248520676,
          4.646808882620353,
          1.2415762932485501,
          -1.7387402907432057,
          5.729816978971807,
          4.744501181150097,
          0.6530303152079011,
          6.6137106231514355,
          -1.5376022052997118,
          -2.217320057909523,
          0.7996273170755372,
          -1.8678494901788596,
          -3.0441817081203175,
          -0.47654854119002493,
          -2.555943552270298,
          -1.488999329209924,
          -2.8240108166673106,
          0.18094643270180114,
          0.6468266404294711,
          -1.801528681878589,
          -0.28300003610955027,
          -2.8293131961853075,
          -0.36647545523576047,
          -1.5881357976886548,
          4.3859930034745584,
          -3.6138438317262915,
          -0.35465679773966874,
          -0.39399153235562384,
          -1.1144455890451277,
          -2.389695423299838,
          -0.9439869784508769,
          6.064553668992077,
          -0.5091588465357255,
          -0.48201278979752105,
          2.280942167528417,
          -0.37885130141445117,
          0.2868827116252803,
          3.253386306888638,
          -2.8563020119629488,
          -3.093078215602132,
          -0.18206747254863273,
          0.027446282358226767,
          -1.1000290338663368,
          -0.8832113107216166,
          0.1723401157819371,
          5.344776798849169,
          -2.159524013424881,
          -3.462810881521336,
          6.290711322874159,
          -2.689719175732352,
          -0.9457055322949012,
          -0.6354081074474671,
          -0.6951492841360012,
          0.04137167108453233,
          7.441437357372311,
          -1.7329174406411727,
          -1.7737383773594086,
          -2.5096433946155945,
          5.55662498410054,
          5.947466295361753,
          -0.3647672364482768,
          -0.08079456758759564,
          0.634936569007451,
          0.9232758387228118,
          5.608341597864451,
          0.13869626230098073,
          -1.8472127197901063,
          -1.033456585060945,
          7.442882130753865,
          4.998447908968488,
          -1.2818645257201322,
          -1.1857346860991418,
          -2.5748130228310173,
          -2.325167781401726,
          0.23153192703992534,
          5.725641708924862,
          -1.8679807462189342,
          -2.760576571585455,
          -2.4823318132971544,
          -2.227399714969577,
          0.19220455687494736,
          -1.1991922141787164,
          -0.24022987439347032,
          6.879894154121133,
          0.952554969358755,
          -0.4494362866123664,
          -0.8896660108810095,
          4.591933240352269,
          1.8822383793004593,
          0.08980822908021258,
          -1.8035732611380846,
          -1.6800794103307097,
          3.50939500693158,
          -1.258415294778163,
          -2.6115093938235496,
          0.6157564893985341,
          0.23782357470433493,
          -1.2387132816233597,
          6.080067965227123,
          -0.4823135273934273,
          3.55752878484627,
          -1.0284195526485878,
          -1.2374342022995781,
          -1.7122644917892873,
          -0.016265601198790423,
          6.1531479849199995,
          -3.80697676064663,
          0.06301952020906901,
          -1.2531951300613628,
          1.2725100707876575,
          0.6579543463108507,
          -3.0353529188030013,
          -0.5933998967164265,
          4.185464849140847,
          7.88100579102992,
          -0.05308235505206856,
          -1.183291568102255,
          -1.4818919060285936,
          1.001915204132799,
          -2.37791427359336,
          -2.884254335040213,
          5.391130078539183,
          5.152802586838775,
          -4.058580279152191,
          -0.48272433329954983,
          -3.2826049900035863,
          2.801011381327914,
          -0.8504954583007002,
          6.184346415155616,
          5.352738403240545,
          4.664027309077861,
          -2.3470877765307985,
          -0.8787801105134185,
          -2.5886385000305294,
          -2.932177043156069,
          -0.10878333998569252,
          -2.7441126184677427,
          3.6322900975603245,
          -1.5379702047810493,
          6.958759192059683,
          -3.260955824160757,
          -1.2708891088566066,
          -2.2549244878155013,
          -2.174828255141779,
          -1.1618413131569343,
          -1.9472829430624405,
          -0.5424227969943615,
          0.8010863786148495,
          0.5960778534523378,
          -2.1302220353658585,
          6.957837939468457,
          -2.0161217094608532,
          -0.5400612311050835,
          -1.754922873252436,
          -4.314958383286293,
          -1.023087692469738,
          0.2059986839706897,
          -1.5530248752961806,
          -2.8339786815074963,
          -1.2085854107913465,
          -2.5080493729053637,
          -1.2614502690176097,
          5.038992566235979,
          1.2861569639767416,
          -1.5609221285880128,
          6.867231513903002,
          -4.361785718073966,
          5.8163738964453575,
          -2.3917438167194685,
          -2.608522935981669,
          -1.351040448386919,
          -2.128295143628285,
          -0.31536400264918735,
          5.329559240285715,
          0.31944420883809077,
          -3.967721501642216,
          -0.4540598981159928,
          0.6288785269868215,
          5.029340445223391,
          4.0118218578690685,
          -2.472047226997759,
          4.04630169101737,
          3.83184008611455,
          -3.5134667937726043,
          1.6597886562508872,
          -1.0110032353381744,
          -1.2390780458289827,
          -0.39484923581715464,
          5.954843807749087,
          4.111342086209387,
          1.2780154685147664,
          -2.1043223322111526,
          -3.44373783790255,
          5.38629090657448,
          5.402719647864711,
          0.3254345128438999,
          -0.35885299153266303,
          -1.8605608296654608,
          -1.6769514119235571,
          6.381712360655247,
          -1.7471267869283196,
          7.734717189943257,
          0.1969617275841053,
          5.683322844905822,
          4.756660911805236,
          4.951999174742551,
          -3.0238008627497646,
          -2.228731172277195,
          -2.283623948815188,
          5.458284220151406,
          0.9854369912911325,
          -0.7716759114444509,
          4.187309182313171,
          0.8098593767624588,
          -0.9894900384133264,
          -0.03727661411492277,
          5.5779934113908425,
          -1.5097417331490999,
          6.5957053694960655,
          3.759257441132419,
          -0.23611362201504535,
          -1.1414472505316706,
          2.9473453794745224,
          -2.175365167548704,
          2.7275253065369816,
          -0.514099435555769,
          -1.6743356670844678,
          0.038241786495752245,
          -3.385188024134026,
          -3.503870377061811,
          3.7890750209317927,
          -4.459982603763065,
          0.538376659035711,
          3.1004824474092363,
          -1.7443242287973892,
          -0.8070251791429471,
          -3.1380828177423132,
          -2.888992923987399,
          -1.3479895960215191,
          -2.6672792331940856,
          5.02524811350753,
          -1.583437503228169,
          -4.202091408039837,
          0.26756918533969637,
          2.926043530085153,
          6.824194600742817,
          4.840657084091634,
          1.5875118696033914,
          -2.634828843756904,
          4.313561089357834,
          -2.2139601610463,
          -1.0256024157095343,
          -2.5703854272752857,
          -1.7719406897323977,
          -3.3744627756697416,
          -1.3825018346632887,
          -0.5539480791469533,
          -0.42510934164393277,
          -1.1700567806004918,
          -0.4597712566336217,
          4.524582578214711,
          -2.395744710411189,
          4.8194951189508135,
          -2.575768343552737,
          -2.19261343182648,
          -1.964865356015835,
          -1.8879555450888375,
          -0.6420656715554471,
          -2.2761445213976974,
          -0.4096319102134299,
          -0.4299991410687757,
          -1.674274223225954,
          -2.095615154228211,
          -1.7214509122481094,
          -2.5137251009194728,
          0.3001179312649484,
          4.047986506684864,
          -2.4990203842731904,
          -3.011122323656674,
          0.32426193473998444,
          -3.2471801531826148,
          4.785609966885962,
          4.789852960840265,
          -3.064198886902233,
          -4.242672869660517,
          -2.913793647127519,
          -0.9821354382201513,
          -1.3077290389654945,
          -2.6862779998416006,
          3.683124238603993,
          -3.536209085402773,
          -0.5615433334762838,
          -0.06015588326881536,
          -3.439018316769504,
          -0.2592877056637065,
          -2.405292837519293,
          -0.7740428167367558,
          -0.25772533150243476,
          -2.074508370470716,
          5.8341971317721875,
          -1.3923380438841892,
          0.4999244882967573,
          -0.04060224686754966,
          -4.112890949723563,
          -1.4757500100227103,
          -1.230935889289253,
          -2.9269576094743224,
          8.092449535460513,
          0.768937187313485,
          -2.9051783895602195,
          -2.993214722064793,
          -1.2138760108025601,
          -1.0748275057840264,
          -1.1136143850704352,
          0.8250901026347478,
          0.04038403467036594,
          5.997338252005365,
          0.4439704851562165,
          -0.7640047481403659,
          -2.082758066624551,
          3.0770903299374504,
          -1.616731964793149,
          -0.5028762517892552,
          7.315242067017602,
          -2.599207391586723,
          6.183139818623771,
          2.16287209958519,
          0.11049481157913853,
          7.720384569920438,
          -1.6025938885553836,
          -1.843160214101504,
          -1.4676505151214465,
          -2.2547858140308668,
          4.171251138077173,
          0.5757873171140132,
          0.3677648360542609,
          0.10366670476478296,
          0.17918147618415373,
          -3.9697388036840224,
          -1.8944538147020493,
          -0.3301988361595385,
          -3.331236495773592,
          4.567230728191815,
          4.706008898193503,
          -0.511430413993907,
          -2.349266943529488,
          5.3514262886343005,
          -1.3571099480394984,
          -2.604323901198238,
          0.2406601020616541,
          -0.2674171028929502,
          -3.046535401072124,
          -0.4681370465584946,
          -0.5358683141632294,
          -2.8752003909614747,
          -0.9060885359231151,
          -3.505481189357943,
          -1.0375841602821314,
          3.658445277478056,
          -2.258331619534239,
          3.655744295423746,
          -4.053973587125657,
          -0.6464136808237287,
          1.1711377204234503,
          6.029893770836097,
          4.136380033137534,
          -0.6315823777682544,
          1.0264332208847828,
          -3.0884357557004973,
          5.463346086367524,
          0.20595341935909445,
          -4.184200102088464,
          -0.5269446202919499,
          3.964729807418886,
          -0.3444608750998471,
          -2.022254148334462,
          -1.07125171631971,
          -0.9853623324678978,
          -1.6642336878516477,
          -1.770471779765384,
          -2.706213560696055,
          1.922449206565284,
          -1.9110226343459946,
          -2.611478430562382,
          -2.3606965597035345,
          1.3679803435649636,
          -0.22439302680724438,
          -0.47820277472605116,
          -3.2505963538899025,
          3.2503912326946307,
          -2.911522417584877,
          -1.7336118505518652,
          -0.28181371088564977,
          1.428157560834113,
          3.45395865563784,
          -2.6376838773582576,
          -0.9967559921260628,
          -1.94456802017928,
          -0.8312293722299025,
          -1.68482063417875,
          -2.39625360252161,
          1.3060100968911899,
          -0.2785743308777947,
          -1.4894821178608264,
          1.4196787559154478,
          -1.1482112848700343,
          2.1042302490538196,
          -1.1247523492093876,
          5.630213040422765,
          -0.5444199295182489,
          7.503683354099595,
          2.8825342962352556,
          -0.48769740975792286,
          -4.4282569263188405,
          -3.093880124415304,
          -2.2501691775464026,
          -2.6957914406048937,
          -0.7194973935148675,
          2.0208659758056395,
          -1.7354981394206745,
          4.931096008730337,
          -2.6747724889589533,
          0.7765157030983995,
          0.8563548384200774,
          -2.522106029339307,
          -2.1411974171147325,
          -0.0210393773258849,
          -1.033818948184062,
          -1.103907754613103,
          -3.1424881675211256,
          -2.3403155461909155,
          -2.214014320626041,
          -0.9824142770429466,
          0.3896533352655135,
          -1.6932717142324711,
          1.2369332666478663,
          -1.4474972750595998,
          -3.7608639681586666,
          -0.6844287574248832,
          6.212979864395127,
          -2.1306620690007065,
          4.517915476530658,
          5.4074850358328685,
          -0.5592059437905702,
          -1.3809748386509153,
          -2.550083002608356,
          -0.587592264350469,
          -1.744703729385083,
          0.19956375012067565,
          -2.6433293106012017,
          5.278129354944122,
          -3.8377184322863425,
          6.114058264644993,
          -0.948159582364919,
          3.8118673934546248,
          -2.3663228132951453,
          -1.7631725312662154,
          0.3298067689187764,
          0.36455632522835824,
          3.9989338959665695,
          -0.8212394484099577,
          -3.02933853500364,
          -1.226288498987702,
          3.838920521702852,
          1.3684446966509418,
          3.701002046428865,
          -3.333621871772907,
          -0.593764702367102,
          -1.2580984092826526,
          -1.7170545720213481,
          -1.3771875731328187,
          -2.5775164680667877,
          -2.1287648531940984,
          4.953016029552792,
          0.2707782861724416,
          4.821593440418642,
          0.7579025120371732,
          -1.6465445360968105,
          5.217880955074442,
          -0.1485882783360564,
          0.15494212526386972,
          5.390160477279439,
          -4.70464181628818,
          4.581802578281637,
          4.970467937177655,
          -3.387514082600129,
          -1.7122232230654013,
          -0.21216431538188793,
          -1.3791318452814714,
          -1.9568124091230736,
          5.958096138201093,
          0.8251849357104133,
          -2.1444183376499475,
          1.6300931642964567,
          -1.3666934152532486,
          -2.832485686387034,
          -0.393134030577968,
          -1.9111861497853102,
          2.911384954830633,
          -0.07891134183938554,
          6.891575150617097,
          -1.549489262238545,
          -1.2780879259399702,
          -3.3769747610187966,
          4.323501396723392,
          3.3260085337052123,
          0.13438892282900758,
          -1.9138373331323422,
          -2.297676700014983,
          -0.7461258784057611,
          4.895060992296078,
          -0.9771687782851334,
          -1.9337094657626166,
          -0.08568968548428155,
          1.7039913355887404,
          1.1615033094397251,
          -1.8606750599363484,
          -2.7218091562830926,
          -1.0271583004152032,
          -0.33197713192235917,
          -1.7888144417213054,
          -2.2650815519383576,
          4.41504295793613,
          0.2538147476079004,
          0.14297805180700593,
          -1.584709255623633,
          -2.608915220231726,
          -2.312241196923404,
          -0.20144596522026362,
          -0.9622227684016419,
          3.796268738879648,
          -2.0899055904603716,
          0.4989359843776957,
          -0.41436532112876423,
          4.6186986960869865,
          -1.297028666589599,
          -0.14221125983605024,
          -1.2469394644862684,
          2.9043537796461045,
          -2.3691593383905003,
          -2.21341816266631,
          5.155209551691551,
          -3.3542893670054865,
          2.6140115363578205,
          0.648867038081198,
          -0.3439569995810926,
          -1.7239331644226175,
          -3.339357702451316,
          -1.641571697313671,
          0.3705800908187892,
          -0.5913164186896447,
          6.122276622657727,
          -1.7009027352727775,
          -0.9420234750176101,
          -2.497866096538614,
          0.30449101047182636,
          7.466858582508721,
          6.433222224531525,
          -0.027379695015851725,
          -2.312021874430032,
          -0.37187082766455243,
          -0.11027386239951091,
          -1.5592867392997902,
          -3.0650842360383477,
          0.7436818722453236,
          0.023073126948465934,
          5.16372958422351,
          3.869558548557835,
          -1.7493659573932436,
          5.160495314828333,
          -1.9334545674343382,
          -1.7508491251331575,
          6.861299601444925,
          -1.395215086431813,
          -1.3442264216248665,
          1.8033332557365391,
          -1.5749107271217408,
          -3.0218686065438494,
          0.005703928116620665,
          -1.613326114942848,
          -0.03254759714340295,
          0.027633437336560956,
          -1.1315818447164405,
          4.637168768805098,
          -1.1493466816167015,
          0.20205590044773702,
          -1.6112272162689363,
          -3.5253981838737536,
          5.052291494469249,
          -1.2866236617948426,
          -2.145912079820646,
          -1.7893023020683696,
          -0.557514134935072,
          -3.375562635670674,
          7.907176219263437,
          -0.28213153696039084,
          -2.1812079073143353,
          -1.9498166424913106,
          -0.7944830293496085,
          -0.3461149508570976,
          2.481362204655591,
          -2.1473330983193666,
          5.392681209299813,
          -1.8168561529323006,
          -3.104323824673904,
          -0.9752007941170829,
          -0.6584512914847049,
          -2.5123178907772257,
          -1.510650011362444,
          -0.7589635066715601,
          -0.34236920201825105,
          0.2818662761623979,
          -0.826585472404379,
          4.709305762161297,
          -3.5903002029099733,
          -4.3525245438259805,
          2.2841779225567436,
          -0.3788052335094768,
          -2.2187090616084264,
          1.4493809291318187,
          7.119846552956365,
          -1.2027117263157394,
          -0.07974957959406115,
          0.9376596171658138,
          5.741961351395152,
          -1.6724494181701846,
          -3.229182943904654,
          -1.7280880719053116,
          -1.8255293253372222,
          8.068923742072442,
          -2.1272094644457074,
          -4.15307682824266,
          -1.9738659790684276,
          0.1835522727892389,
          -3.051572856226708,
          -1.580948490366205,
          -0.33212130671652146,
          -2.9215336397230907,
          -1.4003848380098196,
          -1.7063023811050184,
          7.41198858943396,
          -0.7395593320441612,
          0.720285312192205,
          -3.6324669225957287,
          4.491265646103282,
          -0.5578285282143328,
          -3.022713629558231,
          -0.7465641389226529,
          -0.9917676173392451,
          -1.1545956238441246,
          5.299546310265127,
          -0.5875466990771796,
          -0.761164554857897,
          -2.1389295564900164,
          -1.3770163196634395,
          5.896151973897659,
          -1.9364090522939896,
          -4.291502903717336,
          0.39280508846728157,
          -2.2508342548192206,
          4.183848126941154,
          -3.474038822178581,
          0.6640216007485934,
          4.237210178621586,
          -1.8639455001823184,
          -0.6122796766911275,
          4.2444636133255855,
          -4.120978173919892,
          -1.0927107984568147,
          -1.7815252619508624,
          0.3683195492385768,
          -1.6851135288541856,
          -2.36165333030435,
          -0.2456224845531389,
          2.8686667533240664,
          6.987476766169116,
          -3.7395072830713576,
          -0.4995474730453253,
          -1.6925567055512813,
          -0.8971522334517402,
          -0.6418314723764699,
          -0.9713159882962429,
          -0.8179293704101254,
          -2.5781119171769986,
          -2.533166882788607,
          -0.29890228355452997,
          -2.7758690972489313,
          -0.13772057683284167,
          -1.5391024509054079,
          6.221525400689539,
          -0.12627964935979008,
          -0.4006705818300717,
          -2.338580532670405,
          -0.8992696958602455,
          -1.5107448170343765,
          -0.5892592183555662,
          -2.1981939453417176,
          0.18328570348073303,
          -1.1493020272425607,
          -1.9233330931629495,
          2.4390728549752487,
          -3.314959819900595,
          5.292437307250275,
          4.176706033341919,
          0.42363045018473355,
          -3.994144282472584,
          -3.1469706308533247,
          5.451683548282709,
          -4.591169501074237,
          -1.622186589742728,
          -1.2399993572810795,
          5.310490333037587,
          6.180218763303106,
          4.51986573924547,
          -1.5431984999104984,
          -0.1730289209590097,
          -2.500256901910666,
          2.479365725987613,
          5.703886464845223,
          3.3305790437223948,
          1.8686497875049635,
          -0.8817052051012526,
          -3.4045348768739716,
          -1.7149013904058918,
          -2.082195769590563,
          2.916593006105675,
          -0.8723716454520809,
          6.829940922312347,
          -4.093862159636861,
          4.757828080024481,
          1.3325268931253467,
          -2.2863823854542904,
          -3.6544994997047637,
          5.53522926754184,
          -1.3794856855088005,
          -1.0917579964867543,
          -1.7134980385529532,
          -0.22510554191385612,
          -0.9605355856154102,
          -1.1789017323127213,
          -3.037027108261959,
          -1.113180106610957,
          1.0210103773983057,
          0.2532573431671635,
          -1.520581558984506,
          -0.6908953477804577,
          -4.691700323351773,
          -0.38425658658192513,
          -0.06667215504938422,
          -0.7468021108577333,
          -2.1207529885867955,
          5.130900874628441,
          -4.060276497942935,
          -1.5839257941682725,
          6.9621046315832,
          -1.8207541859563494,
          -2.158928944410402,
          3.0064511976009314,
          0.06727578451905304,
          1.4644048465098203,
          -3.6490882753329266,
          -1.708006884780954,
          4.881037992888154,
          -1.8038098107829545,
          -0.5671933571538265,
          3.9135099442445127,
          5.620568768310103,
          3.4775619889580223,
          -0.8082677351744761,
          6.480510341987352,
          -2.7408282393085837,
          5.737012902559084,
          -1.2555522215077175,
          -0.5099086033772234,
          -1.1557331341223627,
          -0.35484347882988415,
          5.1876952633305375,
          0.7588278045395801,
          0.15431815858084108,
          -2.4255228669577535,
          -1.3181612086556411,
          -1.006393279146932,
          -3.4700334238542965,
          5.27734183619076,
          0.7930992715901014,
          0.44523016081474226,
          -0.7087654169117705,
          -3.2487426230527148,
          -1.8788353235630877,
          3.31741055557774,
          5.856288292415578,
          -0.9438090317664044,
          -3.606314481175292,
          -0.06805199709743281,
          -1.7938971526407235,
          0.4061485173970842,
          -0.9195715483696177,
          0.4630188849196317,
          -2.5195548197342914,
          -4.73783012103464,
          -0.1792411110810977,
          4.092631062254123,
          -0.4855692117114698,
          -3.029908485991554,
          -4.164870568260005,
          -1.0025059752554375,
          -3.194151687170951,
          4.700721387419808,
          -1.1002268516627567,
          1.6906352050377544,
          -1.2760865123897813,
          -1.3823640925054945,
          5.255147171935795,
          5.76403866653862,
          5.8441423670963,
          5.934821209060705,
          6.010674852728588,
          -1.2752533979049354,
          1.5872269901607459,
          -0.978855078970005,
          6.322194166811861,
          -1.0973139850860152,
          -0.08748801338029381,
          -2.042457004908482,
          -1.82746279753677,
          -3.306312373181968,
          1.2857251804919538,
          4.694732654846752,
          -1.2782839688017353,
          -1.5338726480826974,
          -1.8818853788406975,
          0.6664025778756607,
          -1.4298320361393222,
          -4.198255897995572,
          -2.4369304695937872,
          1.5452058922412653,
          -0.17052874513275287,
          -1.2562083335408796,
          -0.9424469529373523,
          -2.46734791228893,
          -4.142561988990687,
          -0.8832108858800395,
          -0.4358702428603238,
          6.042455506073968,
          -0.7736346660417919,
          -1.686350809100048,
          -0.9363557280837724,
          -1.447079742738454,
          -0.7772832421599762,
          -2.7821157385027235,
          -0.10687066292251336,
          3.415910480193518,
          6.383780273359456,
          -2.6088724393932496,
          2.70298080836322,
          5.365515595811688,
          -1.6888811134521853,
          -0.46539014545089635,
          -2.319387205652899,
          -1.75853602478939,
          -1.8885361799550007,
          6.406025432543744,
          -2.048660795028202,
          -0.6106428109329668,
          -3.8163913168662624,
          0.15505006134908003,
          -1.9763925621938196,
          -3.573268723305405,
          3.2978551028114778,
          -0.546724494480001,
          1.220686156790703,
          0.9297902688386938,
          -2.554814830081707,
          -0.48364365111972574,
          -0.5422999650322227,
          0.1971952774405866,
          -0.3631737037714786,
          0.24245806808342427,
          -0.6597704015802631,
          0.487165351802179,
          -2.1326072362877255,
          -1.8991685156675226,
          -3.687850465045304,
          -3.8396247323937676,
          4.66800039808728,
          1.7453939876843754,
          1.860530567210876,
          -0.8075751150644848,
          -3.2312119719141847,
          -4.247333173560537,
          -2.3511230509424257,
          -3.0085118209451815,
          -0.5968859740668284,
          -0.7681120244556232,
          -2.1642834832297972,
          5.538651806920472,
          3.0471032458277305,
          2.49958189940606,
          -0.7641455843709829,
          -1.7427755432976912,
          -1.1535421075688486,
          -2.913478510421895,
          2.3943132813573373,
          -0.8944558136748214,
          -2.1789088129840746,
          -0.46605942562711605,
          -1.8539995628217085,
          0.88612507292854,
          -1.393915050138621,
          -1.1021640054219795,
          -0.1547177754790477,
          4.776126394534196,
          0.18667306440436762,
          0.055443721585299977,
          4.967258760978293,
          7.867734385138397,
          0.3769741365172615,
          6.248446940456303,
          -0.49617796474870407,
          -0.8439282003067916,
          2.38305030697026,
          4.959115672041901,
          -1.426171770672249,
          -1.3427437446044936,
          -1.1528601401573944,
          3.6700257456313077,
          -1.66627324550976,
          -0.42337123204040256,
          -0.9295559628217276,
          -2.1500443936533356,
          -0.9034459549471743,
          -0.2737149520208221,
          -3.027458560109441,
          4.04203569799642,
          -2.137636697991483,
          4.585108238558447,
          0.21085032015131955,
          4.085505620804378,
          -0.6451432309971483,
          6.943120085093939,
          -3.999591231970603,
          6.259078420683883,
          -2.81076573471122,
          -4.162802199861545,
          1.0765115864313533,
          3.0739243946834844,
          -1.373876559684315,
          -1.6438642714846847,
          -2.1085958815826746,
          0.8082436372120484,
          -0.8068105097135216,
          -1.9584210203260848,
          -0.4790553101886392,
          4.79880727936689,
          -0.699336050640068,
          -0.924137754312416,
          -0.4481976942342644,
          0.10507027568448829,
          4.028704927382056,
          -1.931538511902695,
          -2.9166381761814844,
          -0.4870149527091416,
          0.20671708554532686,
          -1.162112253352547,
          -3.8958440510113848,
          0.40969306440734576,
          -0.08262769161676263,
          -2.3407980460906854,
          1.8558630470593664,
          -1.4868456148873745,
          0.1435595132720355,
          -3.653312582270422,
          5.721118243319828,
          -1.929236933738429,
          1.0594758540376719,
          1.2530663711916072
         ],
         "yaxis": "y"
        }
       ],
       "layout": {
        "legend": {
         "tracegroupgap": 0
        },
        "template": {
         "data": {
          "bar": [
           {
            "error_x": {
             "color": "#2a3f5f"
            },
            "error_y": {
             "color": "#2a3f5f"
            },
            "marker": {
             "line": {
              "color": "#E5ECF6",
              "width": 0.5
             },
             "pattern": {
              "fillmode": "overlay",
              "size": 10,
              "solidity": 0.2
             }
            },
            "type": "bar"
           }
          ],
          "barpolar": [
           {
            "marker": {
             "line": {
              "color": "#E5ECF6",
              "width": 0.5
             },
             "pattern": {
              "fillmode": "overlay",
              "size": 10,
              "solidity": 0.2
             }
            },
            "type": "barpolar"
           }
          ],
          "carpet": [
           {
            "aaxis": {
             "endlinecolor": "#2a3f5f",
             "gridcolor": "white",
             "linecolor": "white",
             "minorgridcolor": "white",
             "startlinecolor": "#2a3f5f"
            },
            "baxis": {
             "endlinecolor": "#2a3f5f",
             "gridcolor": "white",
             "linecolor": "white",
             "minorgridcolor": "white",
             "startlinecolor": "#2a3f5f"
            },
            "type": "carpet"
           }
          ],
          "choropleth": [
           {
            "colorbar": {
             "outlinewidth": 0,
             "ticks": ""
            },
            "type": "choropleth"
           }
          ],
          "contour": [
           {
            "colorbar": {
             "outlinewidth": 0,
             "ticks": ""
            },
            "colorscale": [
             [
              0,
              "#0d0887"
             ],
             [
              0.1111111111111111,
              "#46039f"
             ],
             [
              0.2222222222222222,
              "#7201a8"
             ],
             [
              0.3333333333333333,
              "#9c179e"
             ],
             [
              0.4444444444444444,
              "#bd3786"
             ],
             [
              0.5555555555555556,
              "#d8576b"
             ],
             [
              0.6666666666666666,
              "#ed7953"
             ],
             [
              0.7777777777777778,
              "#fb9f3a"
             ],
             [
              0.8888888888888888,
              "#fdca26"
             ],
             [
              1,
              "#f0f921"
             ]
            ],
            "type": "contour"
           }
          ],
          "contourcarpet": [
           {
            "colorbar": {
             "outlinewidth": 0,
             "ticks": ""
            },
            "type": "contourcarpet"
           }
          ],
          "heatmap": [
           {
            "colorbar": {
             "outlinewidth": 0,
             "ticks": ""
            },
            "colorscale": [
             [
              0,
              "#0d0887"
             ],
             [
              0.1111111111111111,
              "#46039f"
             ],
             [
              0.2222222222222222,
              "#7201a8"
             ],
             [
              0.3333333333333333,
              "#9c179e"
             ],
             [
              0.4444444444444444,
              "#bd3786"
             ],
             [
              0.5555555555555556,
              "#d8576b"
             ],
             [
              0.6666666666666666,
              "#ed7953"
             ],
             [
              0.7777777777777778,
              "#fb9f3a"
             ],
             [
              0.8888888888888888,
              "#fdca26"
             ],
             [
              1,
              "#f0f921"
             ]
            ],
            "type": "heatmap"
           }
          ],
          "heatmapgl": [
           {
            "colorbar": {
             "outlinewidth": 0,
             "ticks": ""
            },
            "colorscale": [
             [
              0,
              "#0d0887"
             ],
             [
              0.1111111111111111,
              "#46039f"
             ],
             [
              0.2222222222222222,
              "#7201a8"
             ],
             [
              0.3333333333333333,
              "#9c179e"
             ],
             [
              0.4444444444444444,
              "#bd3786"
             ],
             [
              0.5555555555555556,
              "#d8576b"
             ],
             [
              0.6666666666666666,
              "#ed7953"
             ],
             [
              0.7777777777777778,
              "#fb9f3a"
             ],
             [
              0.8888888888888888,
              "#fdca26"
             ],
             [
              1,
              "#f0f921"
             ]
            ],
            "type": "heatmapgl"
           }
          ],
          "histogram": [
           {
            "marker": {
             "pattern": {
              "fillmode": "overlay",
              "size": 10,
              "solidity": 0.2
             }
            },
            "type": "histogram"
           }
          ],
          "histogram2d": [
           {
            "colorbar": {
             "outlinewidth": 0,
             "ticks": ""
            },
            "colorscale": [
             [
              0,
              "#0d0887"
             ],
             [
              0.1111111111111111,
              "#46039f"
             ],
             [
              0.2222222222222222,
              "#7201a8"
             ],
             [
              0.3333333333333333,
              "#9c179e"
             ],
             [
              0.4444444444444444,
              "#bd3786"
             ],
             [
              0.5555555555555556,
              "#d8576b"
             ],
             [
              0.6666666666666666,
              "#ed7953"
             ],
             [
              0.7777777777777778,
              "#fb9f3a"
             ],
             [
              0.8888888888888888,
              "#fdca26"
             ],
             [
              1,
              "#f0f921"
             ]
            ],
            "type": "histogram2d"
           }
          ],
          "histogram2dcontour": [
           {
            "colorbar": {
             "outlinewidth": 0,
             "ticks": ""
            },
            "colorscale": [
             [
              0,
              "#0d0887"
             ],
             [
              0.1111111111111111,
              "#46039f"
             ],
             [
              0.2222222222222222,
              "#7201a8"
             ],
             [
              0.3333333333333333,
              "#9c179e"
             ],
             [
              0.4444444444444444,
              "#bd3786"
             ],
             [
              0.5555555555555556,
              "#d8576b"
             ],
             [
              0.6666666666666666,
              "#ed7953"
             ],
             [
              0.7777777777777778,
              "#fb9f3a"
             ],
             [
              0.8888888888888888,
              "#fdca26"
             ],
             [
              1,
              "#f0f921"
             ]
            ],
            "type": "histogram2dcontour"
           }
          ],
          "mesh3d": [
           {
            "colorbar": {
             "outlinewidth": 0,
             "ticks": ""
            },
            "type": "mesh3d"
           }
          ],
          "parcoords": [
           {
            "line": {
             "colorbar": {
              "outlinewidth": 0,
              "ticks": ""
             }
            },
            "type": "parcoords"
           }
          ],
          "pie": [
           {
            "automargin": true,
            "type": "pie"
           }
          ],
          "scatter": [
           {
            "fillpattern": {
             "fillmode": "overlay",
             "size": 10,
             "solidity": 0.2
            },
            "type": "scatter"
           }
          ],
          "scatter3d": [
           {
            "line": {
             "colorbar": {
              "outlinewidth": 0,
              "ticks": ""
             }
            },
            "marker": {
             "colorbar": {
              "outlinewidth": 0,
              "ticks": ""
             }
            },
            "type": "scatter3d"
           }
          ],
          "scattercarpet": [
           {
            "marker": {
             "colorbar": {
              "outlinewidth": 0,
              "ticks": ""
             }
            },
            "type": "scattercarpet"
           }
          ],
          "scattergeo": [
           {
            "marker": {
             "colorbar": {
              "outlinewidth": 0,
              "ticks": ""
             }
            },
            "type": "scattergeo"
           }
          ],
          "scattergl": [
           {
            "marker": {
             "colorbar": {
              "outlinewidth": 0,
              "ticks": ""
             }
            },
            "type": "scattergl"
           }
          ],
          "scattermapbox": [
           {
            "marker": {
             "colorbar": {
              "outlinewidth": 0,
              "ticks": ""
             }
            },
            "type": "scattermapbox"
           }
          ],
          "scatterpolar": [
           {
            "marker": {
             "colorbar": {
              "outlinewidth": 0,
              "ticks": ""
             }
            },
            "type": "scatterpolar"
           }
          ],
          "scatterpolargl": [
           {
            "marker": {
             "colorbar": {
              "outlinewidth": 0,
              "ticks": ""
             }
            },
            "type": "scatterpolargl"
           }
          ],
          "scatterternary": [
           {
            "marker": {
             "colorbar": {
              "outlinewidth": 0,
              "ticks": ""
             }
            },
            "type": "scatterternary"
           }
          ],
          "surface": [
           {
            "colorbar": {
             "outlinewidth": 0,
             "ticks": ""
            },
            "colorscale": [
             [
              0,
              "#0d0887"
             ],
             [
              0.1111111111111111,
              "#46039f"
             ],
             [
              0.2222222222222222,
              "#7201a8"
             ],
             [
              0.3333333333333333,
              "#9c179e"
             ],
             [
              0.4444444444444444,
              "#bd3786"
             ],
             [
              0.5555555555555556,
              "#d8576b"
             ],
             [
              0.6666666666666666,
              "#ed7953"
             ],
             [
              0.7777777777777778,
              "#fb9f3a"
             ],
             [
              0.8888888888888888,
              "#fdca26"
             ],
             [
              1,
              "#f0f921"
             ]
            ],
            "type": "surface"
           }
          ],
          "table": [
           {
            "cells": {
             "fill": {
              "color": "#EBF0F8"
             },
             "line": {
              "color": "white"
             }
            },
            "header": {
             "fill": {
              "color": "#C8D4E3"
             },
             "line": {
              "color": "white"
             }
            },
            "type": "table"
           }
          ]
         },
         "layout": {
          "annotationdefaults": {
           "arrowcolor": "#2a3f5f",
           "arrowhead": 0,
           "arrowwidth": 1
          },
          "autotypenumbers": "strict",
          "coloraxis": {
           "colorbar": {
            "outlinewidth": 0,
            "ticks": ""
           }
          },
          "colorscale": {
           "diverging": [
            [
             0,
             "#8e0152"
            ],
            [
             0.1,
             "#c51b7d"
            ],
            [
             0.2,
             "#de77ae"
            ],
            [
             0.3,
             "#f1b6da"
            ],
            [
             0.4,
             "#fde0ef"
            ],
            [
             0.5,
             "#f7f7f7"
            ],
            [
             0.6,
             "#e6f5d0"
            ],
            [
             0.7,
             "#b8e186"
            ],
            [
             0.8,
             "#7fbc41"
            ],
            [
             0.9,
             "#4d9221"
            ],
            [
             1,
             "#276419"
            ]
           ],
           "sequential": [
            [
             0,
             "#0d0887"
            ],
            [
             0.1111111111111111,
             "#46039f"
            ],
            [
             0.2222222222222222,
             "#7201a8"
            ],
            [
             0.3333333333333333,
             "#9c179e"
            ],
            [
             0.4444444444444444,
             "#bd3786"
            ],
            [
             0.5555555555555556,
             "#d8576b"
            ],
            [
             0.6666666666666666,
             "#ed7953"
            ],
            [
             0.7777777777777778,
             "#fb9f3a"
            ],
            [
             0.8888888888888888,
             "#fdca26"
            ],
            [
             1,
             "#f0f921"
            ]
           ],
           "sequentialminus": [
            [
             0,
             "#0d0887"
            ],
            [
             0.1111111111111111,
             "#46039f"
            ],
            [
             0.2222222222222222,
             "#7201a8"
            ],
            [
             0.3333333333333333,
             "#9c179e"
            ],
            [
             0.4444444444444444,
             "#bd3786"
            ],
            [
             0.5555555555555556,
             "#d8576b"
            ],
            [
             0.6666666666666666,
             "#ed7953"
            ],
            [
             0.7777777777777778,
             "#fb9f3a"
            ],
            [
             0.8888888888888888,
             "#fdca26"
            ],
            [
             1,
             "#f0f921"
            ]
           ]
          },
          "colorway": [
           "#636efa",
           "#EF553B",
           "#00cc96",
           "#ab63fa",
           "#FFA15A",
           "#19d3f3",
           "#FF6692",
           "#B6E880",
           "#FF97FF",
           "#FECB52"
          ],
          "font": {
           "color": "#2a3f5f"
          },
          "geo": {
           "bgcolor": "white",
           "lakecolor": "white",
           "landcolor": "#E5ECF6",
           "showlakes": true,
           "showland": true,
           "subunitcolor": "white"
          },
          "hoverlabel": {
           "align": "left"
          },
          "hovermode": "closest",
          "mapbox": {
           "style": "light"
          },
          "paper_bgcolor": "white",
          "plot_bgcolor": "#E5ECF6",
          "polar": {
           "angularaxis": {
            "gridcolor": "white",
            "linecolor": "white",
            "ticks": ""
           },
           "bgcolor": "#E5ECF6",
           "radialaxis": {
            "gridcolor": "white",
            "linecolor": "white",
            "ticks": ""
           }
          },
          "scene": {
           "xaxis": {
            "backgroundcolor": "#E5ECF6",
            "gridcolor": "white",
            "gridwidth": 2,
            "linecolor": "white",
            "showbackground": true,
            "ticks": "",
            "zerolinecolor": "white"
           },
           "yaxis": {
            "backgroundcolor": "#E5ECF6",
            "gridcolor": "white",
            "gridwidth": 2,
            "linecolor": "white",
            "showbackground": true,
            "ticks": "",
            "zerolinecolor": "white"
           },
           "zaxis": {
            "backgroundcolor": "#E5ECF6",
            "gridcolor": "white",
            "gridwidth": 2,
            "linecolor": "white",
            "showbackground": true,
            "ticks": "",
            "zerolinecolor": "white"
           }
          },
          "shapedefaults": {
           "line": {
            "color": "#2a3f5f"
           }
          },
          "ternary": {
           "aaxis": {
            "gridcolor": "white",
            "linecolor": "white",
            "ticks": ""
           },
           "baxis": {
            "gridcolor": "white",
            "linecolor": "white",
            "ticks": ""
           },
           "bgcolor": "#E5ECF6",
           "caxis": {
            "gridcolor": "white",
            "linecolor": "white",
            "ticks": ""
           }
          },
          "title": {
           "x": 0.05
          },
          "xaxis": {
           "automargin": true,
           "gridcolor": "white",
           "linecolor": "white",
           "ticks": "",
           "title": {
            "standoff": 15
           },
           "zerolinecolor": "white",
           "zerolinewidth": 2
          },
          "yaxis": {
           "automargin": true,
           "gridcolor": "white",
           "linecolor": "white",
           "ticks": "",
           "title": {
            "standoff": 15
           },
           "zerolinecolor": "white",
           "zerolinewidth": 2
          }
         }
        },
        "title": {
         "text": "PCA - 2 Components"
        },
        "xaxis": {
         "anchor": "y",
         "domain": [
          0,
          1
         ],
         "title": {
          "text": "Principal Component 1"
         }
        },
        "yaxis": {
         "anchor": "x",
         "domain": [
          0,
          1
         ],
         "title": {
          "text": "Principal Component 2"
         }
        }
       }
      }
     },
     "metadata": {},
     "output_type": "display_data"
    }
   ],
   "source": [
    "import matplotlib.pyplot as plt\n",
    "\n",
    "# Create a scatter plot using Plotly Express\n",
    "fig_pca = px.scatter(df_pca_2, \n",
    "                     x='PCA1', \n",
    "                     y='PCA2', \n",
    "                     title=\"PCA - 2 Components\",\n",
    "                     labels={'PCA1': 'Principal Component 1', 'PCA2': 'Principal Component 2'})\n",
    "fig_pca.show()"
   ]
  },
  {
   "cell_type": "markdown",
   "metadata": {},
   "source": [
    "Visualizing Cumulative Variance to see many components would explain 95% of the variance."
   ]
  },
  {
   "cell_type": "code",
   "execution_count": 331,
   "metadata": {},
   "outputs": [
    {
     "data": {
      "application/vnd.plotly.v1+json": {
       "config": {
        "plotlyServerURL": "https://plot.ly"
       },
       "data": [
        {
         "hovertemplate": "Number of Components=%{x}<br>Cumulative Explained Variance=%{y}<extra></extra>",
         "legendgroup": "",
         "line": {
          "color": "#636efa",
          "dash": "solid"
         },
         "marker": {
          "symbol": "circle"
         },
         "mode": "lines",
         "name": "",
         "orientation": "v",
         "showlegend": false,
         "type": "scatter",
         "x": [
          1,
          2,
          3,
          4,
          5,
          6,
          7,
          8,
          9,
          10,
          11,
          12,
          13,
          14,
          15,
          16,
          17,
          18,
          19,
          20,
          21,
          22,
          23,
          24,
          25,
          26,
          27,
          28,
          29,
          30,
          31,
          32,
          33,
          34,
          35,
          36,
          37,
          38,
          39,
          40,
          41,
          42,
          43,
          44,
          45,
          46,
          47,
          48,
          49,
          50,
          51,
          52,
          53,
          54,
          55,
          56,
          57,
          58,
          59,
          60,
          61,
          62,
          63,
          64,
          65,
          66,
          67,
          68,
          69,
          70,
          71,
          72,
          73,
          74,
          75,
          76,
          77,
          78,
          79,
          80,
          81,
          82,
          83,
          84,
          85,
          86,
          87,
          88,
          89,
          90,
          91,
          92,
          93,
          94,
          95,
          96,
          97,
          98,
          99,
          100,
          101,
          102,
          103,
          104,
          105,
          106,
          107,
          108,
          109,
          110,
          111,
          112,
          113,
          114,
          115,
          116,
          117,
          118,
          119,
          120,
          121,
          122,
          123,
          124,
          125,
          126,
          127,
          128,
          129,
          130,
          131,
          132,
          133,
          134,
          135,
          136,
          137,
          138,
          139,
          140,
          141,
          142,
          143,
          144,
          145,
          146,
          147,
          148,
          149,
          150,
          151,
          152,
          153,
          154,
          155,
          156,
          157,
          158,
          159,
          160
         ],
         "xaxis": "x",
         "y": [
          0.05966901119200305,
          0.11223405232100454,
          0.16211827026574716,
          0.2095061957932171,
          0.25508336194306597,
          0.2995134976324891,
          0.341459952210134,
          0.38267337813367835,
          0.422210201547891,
          0.4598552650266075,
          0.49616062833190994,
          0.5314409846289309,
          0.565840186303588,
          0.5992997495812575,
          0.6316400253626476,
          0.6631440992811192,
          0.6937026049574894,
          0.7233787071175459,
          0.75093585953182,
          0.7756258549709691,
          0.7978079677462211,
          0.8172073571202423,
          0.8334985551400654,
          0.8414365113933615,
          0.849257846970352,
          0.856928530191105,
          0.8644421308132051,
          0.8717826233477922,
          0.8789940995281742,
          0.8861186118973972,
          0.8931096967572434,
          0.900030006403528,
          0.9068493837283952,
          0.913584860916333,
          0.9201750421197469,
          0.9267052015829738,
          0.9331035432546266,
          0.9394829790765592,
          0.9458003616362115,
          0.9519415151445028,
          0.9579929555492999,
          0.963953139655951,
          0.9698500868328673,
          0.9756847983639704,
          0.981362075821202,
          0.9868900932560888,
          0.9922826457180928,
          0.9950913875189041,
          0.99760054320504,
          0.9999999999999943,
          0.9999999999999948,
          0.9999999999999952,
          0.9999999999999956,
          0.9999999999999959,
          0.9999999999999962,
          0.9999999999999966,
          0.9999999999999969,
          0.9999999999999971,
          0.9999999999999973,
          0.9999999999999976,
          0.9999999999999978,
          0.999999999999998,
          0.9999999999999982,
          0.9999999999999984,
          0.9999999999999986,
          0.9999999999999987,
          0.9999999999999988,
          0.9999999999999989,
          0.999999999999999,
          0.9999999999999991,
          0.9999999999999992,
          0.9999999999999993,
          0.9999999999999994,
          0.9999999999999996,
          0.9999999999999997,
          0.9999999999999998,
          0.9999999999999999,
          1,
          1,
          1,
          1,
          1,
          1,
          1,
          1,
          1,
          1,
          1,
          1,
          1,
          1,
          1,
          1,
          1,
          1,
          1,
          1,
          1,
          1,
          1,
          1,
          1,
          1,
          1,
          1,
          1,
          1,
          1,
          1,
          1,
          1,
          1,
          1,
          1,
          1,
          1,
          1,
          1,
          1,
          1,
          1,
          1,
          1,
          1,
          1,
          1,
          1,
          1,
          1,
          1,
          1,
          1,
          1,
          1,
          1,
          1,
          1,
          1,
          1,
          1,
          1,
          1,
          1,
          1,
          1,
          1,
          1,
          1,
          1,
          1,
          1,
          1,
          1,
          1,
          1,
          1,
          1,
          1,
          1,
          1
         ],
         "yaxis": "y"
        }
       ],
       "layout": {
        "legend": {
         "tracegroupgap": 0
        },
        "shapes": [
         {
          "line": {
           "color": "red",
           "dash": "dash"
          },
          "type": "line",
          "x0": 0,
          "x1": 1,
          "xref": "x domain",
          "y0": 0.95,
          "y1": 0.95,
          "yref": "y"
         },
         {
          "line": {
           "color": "red",
           "dash": "dash"
          },
          "type": "line",
          "x0": 40,
          "x1": 40,
          "xref": "x",
          "y0": 0,
          "y1": 1,
          "yref": "y domain"
         }
        ],
        "template": {
         "data": {
          "bar": [
           {
            "error_x": {
             "color": "#2a3f5f"
            },
            "error_y": {
             "color": "#2a3f5f"
            },
            "marker": {
             "line": {
              "color": "#E5ECF6",
              "width": 0.5
             },
             "pattern": {
              "fillmode": "overlay",
              "size": 10,
              "solidity": 0.2
             }
            },
            "type": "bar"
           }
          ],
          "barpolar": [
           {
            "marker": {
             "line": {
              "color": "#E5ECF6",
              "width": 0.5
             },
             "pattern": {
              "fillmode": "overlay",
              "size": 10,
              "solidity": 0.2
             }
            },
            "type": "barpolar"
           }
          ],
          "carpet": [
           {
            "aaxis": {
             "endlinecolor": "#2a3f5f",
             "gridcolor": "white",
             "linecolor": "white",
             "minorgridcolor": "white",
             "startlinecolor": "#2a3f5f"
            },
            "baxis": {
             "endlinecolor": "#2a3f5f",
             "gridcolor": "white",
             "linecolor": "white",
             "minorgridcolor": "white",
             "startlinecolor": "#2a3f5f"
            },
            "type": "carpet"
           }
          ],
          "choropleth": [
           {
            "colorbar": {
             "outlinewidth": 0,
             "ticks": ""
            },
            "type": "choropleth"
           }
          ],
          "contour": [
           {
            "colorbar": {
             "outlinewidth": 0,
             "ticks": ""
            },
            "colorscale": [
             [
              0,
              "#0d0887"
             ],
             [
              0.1111111111111111,
              "#46039f"
             ],
             [
              0.2222222222222222,
              "#7201a8"
             ],
             [
              0.3333333333333333,
              "#9c179e"
             ],
             [
              0.4444444444444444,
              "#bd3786"
             ],
             [
              0.5555555555555556,
              "#d8576b"
             ],
             [
              0.6666666666666666,
              "#ed7953"
             ],
             [
              0.7777777777777778,
              "#fb9f3a"
             ],
             [
              0.8888888888888888,
              "#fdca26"
             ],
             [
              1,
              "#f0f921"
             ]
            ],
            "type": "contour"
           }
          ],
          "contourcarpet": [
           {
            "colorbar": {
             "outlinewidth": 0,
             "ticks": ""
            },
            "type": "contourcarpet"
           }
          ],
          "heatmap": [
           {
            "colorbar": {
             "outlinewidth": 0,
             "ticks": ""
            },
            "colorscale": [
             [
              0,
              "#0d0887"
             ],
             [
              0.1111111111111111,
              "#46039f"
             ],
             [
              0.2222222222222222,
              "#7201a8"
             ],
             [
              0.3333333333333333,
              "#9c179e"
             ],
             [
              0.4444444444444444,
              "#bd3786"
             ],
             [
              0.5555555555555556,
              "#d8576b"
             ],
             [
              0.6666666666666666,
              "#ed7953"
             ],
             [
              0.7777777777777778,
              "#fb9f3a"
             ],
             [
              0.8888888888888888,
              "#fdca26"
             ],
             [
              1,
              "#f0f921"
             ]
            ],
            "type": "heatmap"
           }
          ],
          "heatmapgl": [
           {
            "colorbar": {
             "outlinewidth": 0,
             "ticks": ""
            },
            "colorscale": [
             [
              0,
              "#0d0887"
             ],
             [
              0.1111111111111111,
              "#46039f"
             ],
             [
              0.2222222222222222,
              "#7201a8"
             ],
             [
              0.3333333333333333,
              "#9c179e"
             ],
             [
              0.4444444444444444,
              "#bd3786"
             ],
             [
              0.5555555555555556,
              "#d8576b"
             ],
             [
              0.6666666666666666,
              "#ed7953"
             ],
             [
              0.7777777777777778,
              "#fb9f3a"
             ],
             [
              0.8888888888888888,
              "#fdca26"
             ],
             [
              1,
              "#f0f921"
             ]
            ],
            "type": "heatmapgl"
           }
          ],
          "histogram": [
           {
            "marker": {
             "pattern": {
              "fillmode": "overlay",
              "size": 10,
              "solidity": 0.2
             }
            },
            "type": "histogram"
           }
          ],
          "histogram2d": [
           {
            "colorbar": {
             "outlinewidth": 0,
             "ticks": ""
            },
            "colorscale": [
             [
              0,
              "#0d0887"
             ],
             [
              0.1111111111111111,
              "#46039f"
             ],
             [
              0.2222222222222222,
              "#7201a8"
             ],
             [
              0.3333333333333333,
              "#9c179e"
             ],
             [
              0.4444444444444444,
              "#bd3786"
             ],
             [
              0.5555555555555556,
              "#d8576b"
             ],
             [
              0.6666666666666666,
              "#ed7953"
             ],
             [
              0.7777777777777778,
              "#fb9f3a"
             ],
             [
              0.8888888888888888,
              "#fdca26"
             ],
             [
              1,
              "#f0f921"
             ]
            ],
            "type": "histogram2d"
           }
          ],
          "histogram2dcontour": [
           {
            "colorbar": {
             "outlinewidth": 0,
             "ticks": ""
            },
            "colorscale": [
             [
              0,
              "#0d0887"
             ],
             [
              0.1111111111111111,
              "#46039f"
             ],
             [
              0.2222222222222222,
              "#7201a8"
             ],
             [
              0.3333333333333333,
              "#9c179e"
             ],
             [
              0.4444444444444444,
              "#bd3786"
             ],
             [
              0.5555555555555556,
              "#d8576b"
             ],
             [
              0.6666666666666666,
              "#ed7953"
             ],
             [
              0.7777777777777778,
              "#fb9f3a"
             ],
             [
              0.8888888888888888,
              "#fdca26"
             ],
             [
              1,
              "#f0f921"
             ]
            ],
            "type": "histogram2dcontour"
           }
          ],
          "mesh3d": [
           {
            "colorbar": {
             "outlinewidth": 0,
             "ticks": ""
            },
            "type": "mesh3d"
           }
          ],
          "parcoords": [
           {
            "line": {
             "colorbar": {
              "outlinewidth": 0,
              "ticks": ""
             }
            },
            "type": "parcoords"
           }
          ],
          "pie": [
           {
            "automargin": true,
            "type": "pie"
           }
          ],
          "scatter": [
           {
            "fillpattern": {
             "fillmode": "overlay",
             "size": 10,
             "solidity": 0.2
            },
            "type": "scatter"
           }
          ],
          "scatter3d": [
           {
            "line": {
             "colorbar": {
              "outlinewidth": 0,
              "ticks": ""
             }
            },
            "marker": {
             "colorbar": {
              "outlinewidth": 0,
              "ticks": ""
             }
            },
            "type": "scatter3d"
           }
          ],
          "scattercarpet": [
           {
            "marker": {
             "colorbar": {
              "outlinewidth": 0,
              "ticks": ""
             }
            },
            "type": "scattercarpet"
           }
          ],
          "scattergeo": [
           {
            "marker": {
             "colorbar": {
              "outlinewidth": 0,
              "ticks": ""
             }
            },
            "type": "scattergeo"
           }
          ],
          "scattergl": [
           {
            "marker": {
             "colorbar": {
              "outlinewidth": 0,
              "ticks": ""
             }
            },
            "type": "scattergl"
           }
          ],
          "scattermapbox": [
           {
            "marker": {
             "colorbar": {
              "outlinewidth": 0,
              "ticks": ""
             }
            },
            "type": "scattermapbox"
           }
          ],
          "scatterpolar": [
           {
            "marker": {
             "colorbar": {
              "outlinewidth": 0,
              "ticks": ""
             }
            },
            "type": "scatterpolar"
           }
          ],
          "scatterpolargl": [
           {
            "marker": {
             "colorbar": {
              "outlinewidth": 0,
              "ticks": ""
             }
            },
            "type": "scatterpolargl"
           }
          ],
          "scatterternary": [
           {
            "marker": {
             "colorbar": {
              "outlinewidth": 0,
              "ticks": ""
             }
            },
            "type": "scatterternary"
           }
          ],
          "surface": [
           {
            "colorbar": {
             "outlinewidth": 0,
             "ticks": ""
            },
            "colorscale": [
             [
              0,
              "#0d0887"
             ],
             [
              0.1111111111111111,
              "#46039f"
             ],
             [
              0.2222222222222222,
              "#7201a8"
             ],
             [
              0.3333333333333333,
              "#9c179e"
             ],
             [
              0.4444444444444444,
              "#bd3786"
             ],
             [
              0.5555555555555556,
              "#d8576b"
             ],
             [
              0.6666666666666666,
              "#ed7953"
             ],
             [
              0.7777777777777778,
              "#fb9f3a"
             ],
             [
              0.8888888888888888,
              "#fdca26"
             ],
             [
              1,
              "#f0f921"
             ]
            ],
            "type": "surface"
           }
          ],
          "table": [
           {
            "cells": {
             "fill": {
              "color": "#EBF0F8"
             },
             "line": {
              "color": "white"
             }
            },
            "header": {
             "fill": {
              "color": "#C8D4E3"
             },
             "line": {
              "color": "white"
             }
            },
            "type": "table"
           }
          ]
         },
         "layout": {
          "annotationdefaults": {
           "arrowcolor": "#2a3f5f",
           "arrowhead": 0,
           "arrowwidth": 1
          },
          "autotypenumbers": "strict",
          "coloraxis": {
           "colorbar": {
            "outlinewidth": 0,
            "ticks": ""
           }
          },
          "colorscale": {
           "diverging": [
            [
             0,
             "#8e0152"
            ],
            [
             0.1,
             "#c51b7d"
            ],
            [
             0.2,
             "#de77ae"
            ],
            [
             0.3,
             "#f1b6da"
            ],
            [
             0.4,
             "#fde0ef"
            ],
            [
             0.5,
             "#f7f7f7"
            ],
            [
             0.6,
             "#e6f5d0"
            ],
            [
             0.7,
             "#b8e186"
            ],
            [
             0.8,
             "#7fbc41"
            ],
            [
             0.9,
             "#4d9221"
            ],
            [
             1,
             "#276419"
            ]
           ],
           "sequential": [
            [
             0,
             "#0d0887"
            ],
            [
             0.1111111111111111,
             "#46039f"
            ],
            [
             0.2222222222222222,
             "#7201a8"
            ],
            [
             0.3333333333333333,
             "#9c179e"
            ],
            [
             0.4444444444444444,
             "#bd3786"
            ],
            [
             0.5555555555555556,
             "#d8576b"
            ],
            [
             0.6666666666666666,
             "#ed7953"
            ],
            [
             0.7777777777777778,
             "#fb9f3a"
            ],
            [
             0.8888888888888888,
             "#fdca26"
            ],
            [
             1,
             "#f0f921"
            ]
           ],
           "sequentialminus": [
            [
             0,
             "#0d0887"
            ],
            [
             0.1111111111111111,
             "#46039f"
            ],
            [
             0.2222222222222222,
             "#7201a8"
            ],
            [
             0.3333333333333333,
             "#9c179e"
            ],
            [
             0.4444444444444444,
             "#bd3786"
            ],
            [
             0.5555555555555556,
             "#d8576b"
            ],
            [
             0.6666666666666666,
             "#ed7953"
            ],
            [
             0.7777777777777778,
             "#fb9f3a"
            ],
            [
             0.8888888888888888,
             "#fdca26"
            ],
            [
             1,
             "#f0f921"
            ]
           ]
          },
          "colorway": [
           "#636efa",
           "#EF553B",
           "#00cc96",
           "#ab63fa",
           "#FFA15A",
           "#19d3f3",
           "#FF6692",
           "#B6E880",
           "#FF97FF",
           "#FECB52"
          ],
          "font": {
           "color": "#2a3f5f"
          },
          "geo": {
           "bgcolor": "white",
           "lakecolor": "white",
           "landcolor": "#E5ECF6",
           "showlakes": true,
           "showland": true,
           "subunitcolor": "white"
          },
          "hoverlabel": {
           "align": "left"
          },
          "hovermode": "closest",
          "mapbox": {
           "style": "light"
          },
          "paper_bgcolor": "white",
          "plot_bgcolor": "#E5ECF6",
          "polar": {
           "angularaxis": {
            "gridcolor": "white",
            "linecolor": "white",
            "ticks": ""
           },
           "bgcolor": "#E5ECF6",
           "radialaxis": {
            "gridcolor": "white",
            "linecolor": "white",
            "ticks": ""
           }
          },
          "scene": {
           "xaxis": {
            "backgroundcolor": "#E5ECF6",
            "gridcolor": "white",
            "gridwidth": 2,
            "linecolor": "white",
            "showbackground": true,
            "ticks": "",
            "zerolinecolor": "white"
           },
           "yaxis": {
            "backgroundcolor": "#E5ECF6",
            "gridcolor": "white",
            "gridwidth": 2,
            "linecolor": "white",
            "showbackground": true,
            "ticks": "",
            "zerolinecolor": "white"
           },
           "zaxis": {
            "backgroundcolor": "#E5ECF6",
            "gridcolor": "white",
            "gridwidth": 2,
            "linecolor": "white",
            "showbackground": true,
            "ticks": "",
            "zerolinecolor": "white"
           }
          },
          "shapedefaults": {
           "line": {
            "color": "#2a3f5f"
           }
          },
          "ternary": {
           "aaxis": {
            "gridcolor": "white",
            "linecolor": "white",
            "ticks": ""
           },
           "baxis": {
            "gridcolor": "white",
            "linecolor": "white",
            "ticks": ""
           },
           "bgcolor": "#E5ECF6",
           "caxis": {
            "gridcolor": "white",
            "linecolor": "white",
            "ticks": ""
           }
          },
          "title": {
           "x": 0.05
          },
          "xaxis": {
           "automargin": true,
           "gridcolor": "white",
           "linecolor": "white",
           "ticks": "",
           "title": {
            "standoff": 15
           },
           "zerolinecolor": "white",
           "zerolinewidth": 2
          },
          "yaxis": {
           "automargin": true,
           "gridcolor": "white",
           "linecolor": "white",
           "ticks": "",
           "title": {
            "standoff": 15
           },
           "zerolinecolor": "white",
           "zerolinewidth": 2
          }
         }
        },
        "title": {
         "text": "Explained Variance vs Number of Principal Components"
        },
        "xaxis": {
         "anchor": "y",
         "domain": [
          0,
          1
         ],
         "title": {
          "text": "Number of Components"
         }
        },
        "yaxis": {
         "anchor": "x",
         "domain": [
          0,
          1
         ],
         "title": {
          "text": "Cumulative Explained Variance"
         }
        }
       }
      }
     },
     "metadata": {},
     "output_type": "display_data"
    }
   ],
   "source": [
    "import plotly.express as px\n",
    "from sklearn.decomposition import PCA\n",
    "from sklearn.preprocessing import StandardScaler\n",
    "\n",
    "pca_plot = PCA()\n",
    "pca_plot.fit(df_scaled)\n",
    "\n",
    "# Get the explained variance ratio for each component\n",
    "explained_variance_ratio = pca_plot.explained_variance_ratio_\n",
    "\n",
    "# Create a cumulative sum of the explained variance ratio\n",
    "cumulative_variance = explained_variance_ratio.cumsum()\n",
    "\n",
    "variance_df = pd.DataFrame({\n",
    "    'Number of Components': range(1, len(cumulative_variance) + 1),\n",
    "    'Cumulative Explained Variance': cumulative_variance\n",
    "})\n",
    "\n",
    "# Plot using Plotly\n",
    "fig = px.line(variance_df, \n",
    "              x='Number of Components', \n",
    "              y='Cumulative Explained Variance', \n",
    "              title=\"Explained Variance vs Number of Principal Components\",\n",
    "              labels={'Cumulative Explained Variance': 'Cumulative Explained Variance', \n",
    "                      'Number of Components': 'Number of Components'})\n",
    "\n",
    "# Add a horizontal line at 95%\n",
    "fig.add_hline(y=0.95, line_dash=\"dash\", line_color=\"red\")\n",
    "\n",
    "# Add a vertical line at the 74th component\n",
    "fig.add_vline(x=40, line_dash=\"dash\", line_color=\"red\")\n",
    "\n",
    "# Show the plot\n",
    "fig.show()\n"
   ]
  },
  {
   "cell_type": "markdown",
   "metadata": {},
   "source": [
    "The number of features that account for 95% of the variance is 40. With that number in mind, we can apply it to our PCA function to reduce the number of Principal Components or Features in the latest DataFrame from 161 to 40. These features will then be used to fit to our clustering algorithm."
   ]
  },
  {
   "cell_type": "code",
   "execution_count": 332,
   "metadata": {},
   "outputs": [],
   "source": [
    "# Perform PCA to reduce to 40 components\n",
    "pca = PCA(n_components=40)\n",
    "pca_result = pca.fit_transform(df_scaled)  # df_scaled is your original numerical data\n",
    "\n",
    "# Convert the PCA result into a DataFrame with the reduced components\n",
    "df_pca_40 = pd.DataFrame(pca_result, columns=[f'PCA{i+1}' for i in range(40)])"
   ]
  },
  {
   "cell_type": "code",
   "execution_count": 333,
   "metadata": {},
   "outputs": [
    {
     "data": {
      "text/html": [
       "<div>\n",
       "<style scoped>\n",
       "    .dataframe tbody tr th:only-of-type {\n",
       "        vertical-align: middle;\n",
       "    }\n",
       "\n",
       "    .dataframe tbody tr th {\n",
       "        vertical-align: top;\n",
       "    }\n",
       "\n",
       "    .dataframe thead th {\n",
       "        text-align: right;\n",
       "    }\n",
       "</style>\n",
       "<table border=\"1\" class=\"dataframe\">\n",
       "  <thead>\n",
       "    <tr style=\"text-align: right;\">\n",
       "      <th></th>\n",
       "      <th>PCA1</th>\n",
       "      <th>PCA2</th>\n",
       "      <th>PCA3</th>\n",
       "      <th>PCA4</th>\n",
       "      <th>PCA5</th>\n",
       "      <th>PCA6</th>\n",
       "      <th>PCA7</th>\n",
       "      <th>PCA8</th>\n",
       "      <th>PCA9</th>\n",
       "      <th>PCA10</th>\n",
       "      <th>...</th>\n",
       "      <th>PCA31</th>\n",
       "      <th>PCA32</th>\n",
       "      <th>PCA33</th>\n",
       "      <th>PCA34</th>\n",
       "      <th>PCA35</th>\n",
       "      <th>PCA36</th>\n",
       "      <th>PCA37</th>\n",
       "      <th>PCA38</th>\n",
       "      <th>PCA39</th>\n",
       "      <th>PCA40</th>\n",
       "    </tr>\n",
       "  </thead>\n",
       "  <tbody>\n",
       "    <tr>\n",
       "      <th>0</th>\n",
       "      <td>5.232248</td>\n",
       "      <td>3.965358</td>\n",
       "      <td>0.310278</td>\n",
       "      <td>-4.852657</td>\n",
       "      <td>2.922807</td>\n",
       "      <td>0.790690</td>\n",
       "      <td>0.852547</td>\n",
       "      <td>-0.211716</td>\n",
       "      <td>0.344947</td>\n",
       "      <td>-0.272907</td>\n",
       "      <td>...</td>\n",
       "      <td>-1.015458</td>\n",
       "      <td>0.413892</td>\n",
       "      <td>-1.452817</td>\n",
       "      <td>1.383256</td>\n",
       "      <td>-0.214208</td>\n",
       "      <td>0.816649</td>\n",
       "      <td>0.755516</td>\n",
       "      <td>0.833232</td>\n",
       "      <td>0.635904</td>\n",
       "      <td>0.667259</td>\n",
       "    </tr>\n",
       "    <tr>\n",
       "      <th>1</th>\n",
       "      <td>7.133068</td>\n",
       "      <td>-1.927489</td>\n",
       "      <td>0.066129</td>\n",
       "      <td>3.852859</td>\n",
       "      <td>0.998987</td>\n",
       "      <td>2.410178</td>\n",
       "      <td>-0.531155</td>\n",
       "      <td>1.608886</td>\n",
       "      <td>-0.991723</td>\n",
       "      <td>-1.308195</td>\n",
       "      <td>...</td>\n",
       "      <td>0.760532</td>\n",
       "      <td>0.906709</td>\n",
       "      <td>0.670764</td>\n",
       "      <td>2.062882</td>\n",
       "      <td>1.648062</td>\n",
       "      <td>-1.578412</td>\n",
       "      <td>-1.099454</td>\n",
       "      <td>1.898146</td>\n",
       "      <td>-2.154161</td>\n",
       "      <td>-0.012207</td>\n",
       "    </tr>\n",
       "    <tr>\n",
       "      <th>2</th>\n",
       "      <td>-1.413078</td>\n",
       "      <td>-3.447296</td>\n",
       "      <td>0.687223</td>\n",
       "      <td>-2.857447</td>\n",
       "      <td>-0.012037</td>\n",
       "      <td>-4.374719</td>\n",
       "      <td>-1.967987</td>\n",
       "      <td>2.395321</td>\n",
       "      <td>1.124047</td>\n",
       "      <td>0.039113</td>\n",
       "      <td>...</td>\n",
       "      <td>-1.281199</td>\n",
       "      <td>-0.783510</td>\n",
       "      <td>0.363805</td>\n",
       "      <td>1.352975</td>\n",
       "      <td>-1.023946</td>\n",
       "      <td>1.577226</td>\n",
       "      <td>0.821668</td>\n",
       "      <td>0.962725</td>\n",
       "      <td>-1.517082</td>\n",
       "      <td>-0.312376</td>\n",
       "    </tr>\n",
       "    <tr>\n",
       "      <th>3</th>\n",
       "      <td>-2.404083</td>\n",
       "      <td>-1.849137</td>\n",
       "      <td>4.280500</td>\n",
       "      <td>-3.295439</td>\n",
       "      <td>1.366247</td>\n",
       "      <td>-0.942284</td>\n",
       "      <td>0.375662</td>\n",
       "      <td>1.397106</td>\n",
       "      <td>-0.257758</td>\n",
       "      <td>-1.350365</td>\n",
       "      <td>...</td>\n",
       "      <td>-0.081287</td>\n",
       "      <td>1.149620</td>\n",
       "      <td>0.268877</td>\n",
       "      <td>-0.410057</td>\n",
       "      <td>0.889540</td>\n",
       "      <td>-0.540343</td>\n",
       "      <td>-2.262134</td>\n",
       "      <td>1.557930</td>\n",
       "      <td>-0.582535</td>\n",
       "      <td>0.861582</td>\n",
       "    </tr>\n",
       "    <tr>\n",
       "      <th>4</th>\n",
       "      <td>2.047827</td>\n",
       "      <td>-0.280041</td>\n",
       "      <td>-2.906783</td>\n",
       "      <td>6.056485</td>\n",
       "      <td>-2.243191</td>\n",
       "      <td>-0.030029</td>\n",
       "      <td>-2.358562</td>\n",
       "      <td>1.502075</td>\n",
       "      <td>2.548371</td>\n",
       "      <td>-0.865494</td>\n",
       "      <td>...</td>\n",
       "      <td>-0.881486</td>\n",
       "      <td>1.121624</td>\n",
       "      <td>-1.546709</td>\n",
       "      <td>-1.668060</td>\n",
       "      <td>0.393998</td>\n",
       "      <td>2.155727</td>\n",
       "      <td>0.976285</td>\n",
       "      <td>0.898836</td>\n",
       "      <td>-1.363882</td>\n",
       "      <td>0.047994</td>\n",
       "    </tr>\n",
       "  </tbody>\n",
       "</table>\n",
       "<p>5 rows × 40 columns</p>\n",
       "</div>"
      ],
      "text/plain": [
       "       PCA1      PCA2      PCA3      PCA4      PCA5      PCA6      PCA7  \\\n",
       "0  5.232248  3.965358  0.310278 -4.852657  2.922807  0.790690  0.852547   \n",
       "1  7.133068 -1.927489  0.066129  3.852859  0.998987  2.410178 -0.531155   \n",
       "2 -1.413078 -3.447296  0.687223 -2.857447 -0.012037 -4.374719 -1.967987   \n",
       "3 -2.404083 -1.849137  4.280500 -3.295439  1.366247 -0.942284  0.375662   \n",
       "4  2.047827 -0.280041 -2.906783  6.056485 -2.243191 -0.030029 -2.358562   \n",
       "\n",
       "       PCA8      PCA9     PCA10  ...     PCA31     PCA32     PCA33     PCA34  \\\n",
       "0 -0.211716  0.344947 -0.272907  ... -1.015458  0.413892 -1.452817  1.383256   \n",
       "1  1.608886 -0.991723 -1.308195  ...  0.760532  0.906709  0.670764  2.062882   \n",
       "2  2.395321  1.124047  0.039113  ... -1.281199 -0.783510  0.363805  1.352975   \n",
       "3  1.397106 -0.257758 -1.350365  ... -0.081287  1.149620  0.268877 -0.410057   \n",
       "4  1.502075  2.548371 -0.865494  ... -0.881486  1.121624 -1.546709 -1.668060   \n",
       "\n",
       "      PCA35     PCA36     PCA37     PCA38     PCA39     PCA40  \n",
       "0 -0.214208  0.816649  0.755516  0.833232  0.635904  0.667259  \n",
       "1  1.648062 -1.578412 -1.099454  1.898146 -2.154161 -0.012207  \n",
       "2 -1.023946  1.577226  0.821668  0.962725 -1.517082 -0.312376  \n",
       "3  0.889540 -0.540343 -2.262134  1.557930 -0.582535  0.861582  \n",
       "4  0.393998  2.155727  0.976285  0.898836 -1.363882  0.047994  \n",
       "\n",
       "[5 rows x 40 columns]"
      ]
     },
     "execution_count": 333,
     "metadata": {},
     "output_type": "execute_result"
    }
   ],
   "source": [
    "df_pca_40.head()"
   ]
  },
  {
   "cell_type": "code",
   "execution_count": 334,
   "metadata": {},
   "outputs": [],
   "source": [
    "df_pca_40.to_csv('df_pca_40.csv', index=False)"
   ]
  },
  {
   "cell_type": "markdown",
   "metadata": {},
   "source": [
    "### Clustering Dating Profiles"
   ]
  },
  {
   "cell_type": "markdown",
   "metadata": {},
   "source": [
    "To cluster profiles together, the optimum number of clusters must be found first."
   ]
  },
  {
   "cell_type": "markdown",
   "metadata": {},
   "source": [
    "#### Evaluation Metrics for Clustering"
   ]
  },
  {
   "cell_type": "markdown",
   "metadata": {},
   "source": [
    "##### Silhouette Coefficient: (higher score = better defined clusters)"
   ]
  },
  {
   "cell_type": "markdown",
   "metadata": {},
   "source": [
    "Measures both cohesion (how similar points are to their own cluster) and separation (how distinct a cluster is from others)."
   ]
  },
  {
   "cell_type": "markdown",
   "metadata": {},
   "source": [
    "\n",
    "Values range from -1 to +1:\n",
    "* +1: Well-clustered points (far from neighboring clusters).\n",
    "* 0: Overlapping clusters.\n",
    "* -1: Points might be wrongly assigned to the cluster.\n"
   ]
  },
  {
   "cell_type": "markdown",
   "metadata": {},
   "source": [
    "\n",
    "Advantages:\n",
    "Intuitive and easy to interpret.\n",
    "Works well for compact, well-separated clusters.\n",
    "\n",
    "Disadvantages:\n",
    "May not perform well with non-spherical clusters.\n",
    "Sensitive to noise and outliers.\n"
   ]
  },
  {
   "cell_type": "markdown",
   "metadata": {},
   "source": [
    "##### Davies-Bouldin Score: (lower score = better)"
   ]
  },
  {
   "cell_type": "markdown",
   "metadata": {},
   "source": [
    "Calculates the ratio of intra-cluster dispersion (compactness) to inter-cluster separation."
   ]
  },
  {
   "cell_type": "markdown",
   "metadata": {},
   "source": [
    "Lower values are better (indicating compact, well-separated clusters)."
   ]
  },
  {
   "cell_type": "markdown",
   "metadata": {},
   "source": [
    "Advantages:\n",
    "Better for clusters with non-spherical shapes and different densities.\n",
    "Balances both cohesion and separation.\n",
    "\n",
    "Disadvantages:\n",
    "Sensitive to the number of clusters.\n",
    "Sensitive to data scaling, so data should be standardized or normalized."
   ]
  },
  {
   "cell_type": "markdown",
   "metadata": {},
   "source": [
    "##### Finding the right number of clusters"
   ]
  },
  {
   "cell_type": "code",
   "execution_count": 335,
   "metadata": {},
   "outputs": [],
   "source": [
    "from sklearn.cluster import KMeans\n",
    "from sklearn.cluster import AgglomerativeClustering\n",
    "from sklearn.metrics import silhouette_score, davies_bouldin_score\n",
    "import plotly.express as px"
   ]
  },
  {
   "cell_type": "code",
   "execution_count": 336,
   "metadata": {},
   "outputs": [],
   "source": [
    "df_pca_40 = pd.read_csv('df_pca_40.csv')"
   ]
  },
  {
   "cell_type": "code",
   "execution_count": 337,
   "metadata": {},
   "outputs": [
    {
     "data": {
      "text/plain": [
       "(2000, 40)"
      ]
     },
     "execution_count": 337,
     "metadata": {},
     "output_type": "execute_result"
    }
   ],
   "source": [
    "df_pca_40.shape"
   ]
  },
  {
   "cell_type": "code",
   "execution_count": 338,
   "metadata": {},
   "outputs": [
    {
     "data": {
      "application/vnd.plotly.v1+json": {
       "config": {
        "plotlyServerURL": "https://plot.ly"
       },
       "data": [
        {
         "hovertemplate": "Algorithm=KMeans<br>Number of Clusters=%{x}<br>Silhouette Score=%{y}<extra></extra>",
         "legendgroup": "KMeans",
         "line": {
          "color": "#636efa",
          "dash": "solid"
         },
         "marker": {
          "symbol": "circle"
         },
         "mode": "lines",
         "name": "KMeans",
         "orientation": "v",
         "showlegend": true,
         "type": "scatter",
         "x": [
          2,
          3,
          4,
          5,
          6,
          7,
          8,
          9,
          10,
          11,
          12,
          13,
          14,
          15,
          16,
          17,
          18,
          19,
          20
         ],
         "xaxis": "x",
         "y": [
          0.06635309729058841,
          0.0747714229290793,
          0.09782076208247802,
          0.11705033600761697,
          0.10960477788503874,
          0.07596447823162958,
          0.0778547569353442,
          0.06926170387574265,
          0.06994750689613004,
          0.0680541788752012,
          0.057116461529368175,
          0.06410154015269032,
          0.06384566800941059,
          0.07070925154571459,
          0.06689436856005915,
          0.07249733127103598,
          0.068225920713954,
          0.07335830851170165,
          0.07721216383266646
         ],
         "yaxis": "y"
        },
        {
         "hovertemplate": "Algorithm=Agglomerative<br>Number of Clusters=%{x}<br>Silhouette Score=%{y}<extra></extra>",
         "legendgroup": "Agglomerative",
         "line": {
          "color": "#EF553B",
          "dash": "solid"
         },
         "marker": {
          "symbol": "circle"
         },
         "mode": "lines",
         "name": "Agglomerative",
         "orientation": "v",
         "showlegend": true,
         "type": "scatter",
         "x": [
          2,
          3,
          4,
          5,
          6,
          7,
          8,
          9,
          10,
          11,
          12,
          13,
          14,
          15,
          16,
          17,
          18,
          19,
          20
         ],
         "xaxis": "x",
         "y": [
          0.04797527120370663,
          0.05981890723351058,
          0.0590946166609834,
          0.06141335096944378,
          0.062209065818533305,
          0.06250142891102722,
          0.05955282552114824,
          0.05832356521655613,
          0.055038941980976704,
          0.05436601076743034,
          0.05552316624466768,
          0.05344956214313037,
          0.052176897065987535,
          0.053956681389918985,
          0.05074906983118055,
          0.05338011516537556,
          0.050223908102329344,
          0.05235203381055713,
          0.0520913210961345
         ],
         "yaxis": "y"
        }
       ],
       "layout": {
        "legend": {
         "title": {
          "text": "Algorithm"
         },
         "tracegroupgap": 0
        },
        "template": {
         "data": {
          "bar": [
           {
            "error_x": {
             "color": "#2a3f5f"
            },
            "error_y": {
             "color": "#2a3f5f"
            },
            "marker": {
             "line": {
              "color": "#E5ECF6",
              "width": 0.5
             },
             "pattern": {
              "fillmode": "overlay",
              "size": 10,
              "solidity": 0.2
             }
            },
            "type": "bar"
           }
          ],
          "barpolar": [
           {
            "marker": {
             "line": {
              "color": "#E5ECF6",
              "width": 0.5
             },
             "pattern": {
              "fillmode": "overlay",
              "size": 10,
              "solidity": 0.2
             }
            },
            "type": "barpolar"
           }
          ],
          "carpet": [
           {
            "aaxis": {
             "endlinecolor": "#2a3f5f",
             "gridcolor": "white",
             "linecolor": "white",
             "minorgridcolor": "white",
             "startlinecolor": "#2a3f5f"
            },
            "baxis": {
             "endlinecolor": "#2a3f5f",
             "gridcolor": "white",
             "linecolor": "white",
             "minorgridcolor": "white",
             "startlinecolor": "#2a3f5f"
            },
            "type": "carpet"
           }
          ],
          "choropleth": [
           {
            "colorbar": {
             "outlinewidth": 0,
             "ticks": ""
            },
            "type": "choropleth"
           }
          ],
          "contour": [
           {
            "colorbar": {
             "outlinewidth": 0,
             "ticks": ""
            },
            "colorscale": [
             [
              0,
              "#0d0887"
             ],
             [
              0.1111111111111111,
              "#46039f"
             ],
             [
              0.2222222222222222,
              "#7201a8"
             ],
             [
              0.3333333333333333,
              "#9c179e"
             ],
             [
              0.4444444444444444,
              "#bd3786"
             ],
             [
              0.5555555555555556,
              "#d8576b"
             ],
             [
              0.6666666666666666,
              "#ed7953"
             ],
             [
              0.7777777777777778,
              "#fb9f3a"
             ],
             [
              0.8888888888888888,
              "#fdca26"
             ],
             [
              1,
              "#f0f921"
             ]
            ],
            "type": "contour"
           }
          ],
          "contourcarpet": [
           {
            "colorbar": {
             "outlinewidth": 0,
             "ticks": ""
            },
            "type": "contourcarpet"
           }
          ],
          "heatmap": [
           {
            "colorbar": {
             "outlinewidth": 0,
             "ticks": ""
            },
            "colorscale": [
             [
              0,
              "#0d0887"
             ],
             [
              0.1111111111111111,
              "#46039f"
             ],
             [
              0.2222222222222222,
              "#7201a8"
             ],
             [
              0.3333333333333333,
              "#9c179e"
             ],
             [
              0.4444444444444444,
              "#bd3786"
             ],
             [
              0.5555555555555556,
              "#d8576b"
             ],
             [
              0.6666666666666666,
              "#ed7953"
             ],
             [
              0.7777777777777778,
              "#fb9f3a"
             ],
             [
              0.8888888888888888,
              "#fdca26"
             ],
             [
              1,
              "#f0f921"
             ]
            ],
            "type": "heatmap"
           }
          ],
          "heatmapgl": [
           {
            "colorbar": {
             "outlinewidth": 0,
             "ticks": ""
            },
            "colorscale": [
             [
              0,
              "#0d0887"
             ],
             [
              0.1111111111111111,
              "#46039f"
             ],
             [
              0.2222222222222222,
              "#7201a8"
             ],
             [
              0.3333333333333333,
              "#9c179e"
             ],
             [
              0.4444444444444444,
              "#bd3786"
             ],
             [
              0.5555555555555556,
              "#d8576b"
             ],
             [
              0.6666666666666666,
              "#ed7953"
             ],
             [
              0.7777777777777778,
              "#fb9f3a"
             ],
             [
              0.8888888888888888,
              "#fdca26"
             ],
             [
              1,
              "#f0f921"
             ]
            ],
            "type": "heatmapgl"
           }
          ],
          "histogram": [
           {
            "marker": {
             "pattern": {
              "fillmode": "overlay",
              "size": 10,
              "solidity": 0.2
             }
            },
            "type": "histogram"
           }
          ],
          "histogram2d": [
           {
            "colorbar": {
             "outlinewidth": 0,
             "ticks": ""
            },
            "colorscale": [
             [
              0,
              "#0d0887"
             ],
             [
              0.1111111111111111,
              "#46039f"
             ],
             [
              0.2222222222222222,
              "#7201a8"
             ],
             [
              0.3333333333333333,
              "#9c179e"
             ],
             [
              0.4444444444444444,
              "#bd3786"
             ],
             [
              0.5555555555555556,
              "#d8576b"
             ],
             [
              0.6666666666666666,
              "#ed7953"
             ],
             [
              0.7777777777777778,
              "#fb9f3a"
             ],
             [
              0.8888888888888888,
              "#fdca26"
             ],
             [
              1,
              "#f0f921"
             ]
            ],
            "type": "histogram2d"
           }
          ],
          "histogram2dcontour": [
           {
            "colorbar": {
             "outlinewidth": 0,
             "ticks": ""
            },
            "colorscale": [
             [
              0,
              "#0d0887"
             ],
             [
              0.1111111111111111,
              "#46039f"
             ],
             [
              0.2222222222222222,
              "#7201a8"
             ],
             [
              0.3333333333333333,
              "#9c179e"
             ],
             [
              0.4444444444444444,
              "#bd3786"
             ],
             [
              0.5555555555555556,
              "#d8576b"
             ],
             [
              0.6666666666666666,
              "#ed7953"
             ],
             [
              0.7777777777777778,
              "#fb9f3a"
             ],
             [
              0.8888888888888888,
              "#fdca26"
             ],
             [
              1,
              "#f0f921"
             ]
            ],
            "type": "histogram2dcontour"
           }
          ],
          "mesh3d": [
           {
            "colorbar": {
             "outlinewidth": 0,
             "ticks": ""
            },
            "type": "mesh3d"
           }
          ],
          "parcoords": [
           {
            "line": {
             "colorbar": {
              "outlinewidth": 0,
              "ticks": ""
             }
            },
            "type": "parcoords"
           }
          ],
          "pie": [
           {
            "automargin": true,
            "type": "pie"
           }
          ],
          "scatter": [
           {
            "fillpattern": {
             "fillmode": "overlay",
             "size": 10,
             "solidity": 0.2
            },
            "type": "scatter"
           }
          ],
          "scatter3d": [
           {
            "line": {
             "colorbar": {
              "outlinewidth": 0,
              "ticks": ""
             }
            },
            "marker": {
             "colorbar": {
              "outlinewidth": 0,
              "ticks": ""
             }
            },
            "type": "scatter3d"
           }
          ],
          "scattercarpet": [
           {
            "marker": {
             "colorbar": {
              "outlinewidth": 0,
              "ticks": ""
             }
            },
            "type": "scattercarpet"
           }
          ],
          "scattergeo": [
           {
            "marker": {
             "colorbar": {
              "outlinewidth": 0,
              "ticks": ""
             }
            },
            "type": "scattergeo"
           }
          ],
          "scattergl": [
           {
            "marker": {
             "colorbar": {
              "outlinewidth": 0,
              "ticks": ""
             }
            },
            "type": "scattergl"
           }
          ],
          "scattermapbox": [
           {
            "marker": {
             "colorbar": {
              "outlinewidth": 0,
              "ticks": ""
             }
            },
            "type": "scattermapbox"
           }
          ],
          "scatterpolar": [
           {
            "marker": {
             "colorbar": {
              "outlinewidth": 0,
              "ticks": ""
             }
            },
            "type": "scatterpolar"
           }
          ],
          "scatterpolargl": [
           {
            "marker": {
             "colorbar": {
              "outlinewidth": 0,
              "ticks": ""
             }
            },
            "type": "scatterpolargl"
           }
          ],
          "scatterternary": [
           {
            "marker": {
             "colorbar": {
              "outlinewidth": 0,
              "ticks": ""
             }
            },
            "type": "scatterternary"
           }
          ],
          "surface": [
           {
            "colorbar": {
             "outlinewidth": 0,
             "ticks": ""
            },
            "colorscale": [
             [
              0,
              "#0d0887"
             ],
             [
              0.1111111111111111,
              "#46039f"
             ],
             [
              0.2222222222222222,
              "#7201a8"
             ],
             [
              0.3333333333333333,
              "#9c179e"
             ],
             [
              0.4444444444444444,
              "#bd3786"
             ],
             [
              0.5555555555555556,
              "#d8576b"
             ],
             [
              0.6666666666666666,
              "#ed7953"
             ],
             [
              0.7777777777777778,
              "#fb9f3a"
             ],
             [
              0.8888888888888888,
              "#fdca26"
             ],
             [
              1,
              "#f0f921"
             ]
            ],
            "type": "surface"
           }
          ],
          "table": [
           {
            "cells": {
             "fill": {
              "color": "#EBF0F8"
             },
             "line": {
              "color": "white"
             }
            },
            "header": {
             "fill": {
              "color": "#C8D4E3"
             },
             "line": {
              "color": "white"
             }
            },
            "type": "table"
           }
          ]
         },
         "layout": {
          "annotationdefaults": {
           "arrowcolor": "#2a3f5f",
           "arrowhead": 0,
           "arrowwidth": 1
          },
          "autotypenumbers": "strict",
          "coloraxis": {
           "colorbar": {
            "outlinewidth": 0,
            "ticks": ""
           }
          },
          "colorscale": {
           "diverging": [
            [
             0,
             "#8e0152"
            ],
            [
             0.1,
             "#c51b7d"
            ],
            [
             0.2,
             "#de77ae"
            ],
            [
             0.3,
             "#f1b6da"
            ],
            [
             0.4,
             "#fde0ef"
            ],
            [
             0.5,
             "#f7f7f7"
            ],
            [
             0.6,
             "#e6f5d0"
            ],
            [
             0.7,
             "#b8e186"
            ],
            [
             0.8,
             "#7fbc41"
            ],
            [
             0.9,
             "#4d9221"
            ],
            [
             1,
             "#276419"
            ]
           ],
           "sequential": [
            [
             0,
             "#0d0887"
            ],
            [
             0.1111111111111111,
             "#46039f"
            ],
            [
             0.2222222222222222,
             "#7201a8"
            ],
            [
             0.3333333333333333,
             "#9c179e"
            ],
            [
             0.4444444444444444,
             "#bd3786"
            ],
            [
             0.5555555555555556,
             "#d8576b"
            ],
            [
             0.6666666666666666,
             "#ed7953"
            ],
            [
             0.7777777777777778,
             "#fb9f3a"
            ],
            [
             0.8888888888888888,
             "#fdca26"
            ],
            [
             1,
             "#f0f921"
            ]
           ],
           "sequentialminus": [
            [
             0,
             "#0d0887"
            ],
            [
             0.1111111111111111,
             "#46039f"
            ],
            [
             0.2222222222222222,
             "#7201a8"
            ],
            [
             0.3333333333333333,
             "#9c179e"
            ],
            [
             0.4444444444444444,
             "#bd3786"
            ],
            [
             0.5555555555555556,
             "#d8576b"
            ],
            [
             0.6666666666666666,
             "#ed7953"
            ],
            [
             0.7777777777777778,
             "#fb9f3a"
            ],
            [
             0.8888888888888888,
             "#fdca26"
            ],
            [
             1,
             "#f0f921"
            ]
           ]
          },
          "colorway": [
           "#636efa",
           "#EF553B",
           "#00cc96",
           "#ab63fa",
           "#FFA15A",
           "#19d3f3",
           "#FF6692",
           "#B6E880",
           "#FF97FF",
           "#FECB52"
          ],
          "font": {
           "color": "#2a3f5f"
          },
          "geo": {
           "bgcolor": "white",
           "lakecolor": "white",
           "landcolor": "#E5ECF6",
           "showlakes": true,
           "showland": true,
           "subunitcolor": "white"
          },
          "hoverlabel": {
           "align": "left"
          },
          "hovermode": "closest",
          "mapbox": {
           "style": "light"
          },
          "paper_bgcolor": "white",
          "plot_bgcolor": "#E5ECF6",
          "polar": {
           "angularaxis": {
            "gridcolor": "white",
            "linecolor": "white",
            "ticks": ""
           },
           "bgcolor": "#E5ECF6",
           "radialaxis": {
            "gridcolor": "white",
            "linecolor": "white",
            "ticks": ""
           }
          },
          "scene": {
           "xaxis": {
            "backgroundcolor": "#E5ECF6",
            "gridcolor": "white",
            "gridwidth": 2,
            "linecolor": "white",
            "showbackground": true,
            "ticks": "",
            "zerolinecolor": "white"
           },
           "yaxis": {
            "backgroundcolor": "#E5ECF6",
            "gridcolor": "white",
            "gridwidth": 2,
            "linecolor": "white",
            "showbackground": true,
            "ticks": "",
            "zerolinecolor": "white"
           },
           "zaxis": {
            "backgroundcolor": "#E5ECF6",
            "gridcolor": "white",
            "gridwidth": 2,
            "linecolor": "white",
            "showbackground": true,
            "ticks": "",
            "zerolinecolor": "white"
           }
          },
          "shapedefaults": {
           "line": {
            "color": "#2a3f5f"
           }
          },
          "ternary": {
           "aaxis": {
            "gridcolor": "white",
            "linecolor": "white",
            "ticks": ""
           },
           "baxis": {
            "gridcolor": "white",
            "linecolor": "white",
            "ticks": ""
           },
           "bgcolor": "#E5ECF6",
           "caxis": {
            "gridcolor": "white",
            "linecolor": "white",
            "ticks": ""
           }
          },
          "title": {
           "x": 0.05
          },
          "xaxis": {
           "automargin": true,
           "gridcolor": "white",
           "linecolor": "white",
           "ticks": "",
           "title": {
            "standoff": 15
           },
           "zerolinecolor": "white",
           "zerolinewidth": 2
          },
          "yaxis": {
           "automargin": true,
           "gridcolor": "white",
           "linecolor": "white",
           "ticks": "",
           "title": {
            "standoff": 15
           },
           "zerolinecolor": "white",
           "zerolinewidth": 2
          }
         }
        },
        "title": {
         "text": "Silhouette Score vs Number of Clusters"
        },
        "xaxis": {
         "anchor": "y",
         "domain": [
          0,
          1
         ],
         "title": {
          "text": "Number of Clusters"
         }
        },
        "yaxis": {
         "anchor": "x",
         "domain": [
          0,
          1
         ],
         "title": {
          "text": "Silhouette Score"
         }
        }
       }
      }
     },
     "metadata": {},
     "output_type": "display_data"
    },
    {
     "data": {
      "application/vnd.plotly.v1+json": {
       "config": {
        "plotlyServerURL": "https://plot.ly"
       },
       "data": [
        {
         "hovertemplate": "Algorithm=KMeans<br>Number of Clusters=%{x}<br>Davies-Bouldin Score=%{y}<extra></extra>",
         "legendgroup": "KMeans",
         "line": {
          "color": "#636efa",
          "dash": "solid"
         },
         "marker": {
          "symbol": "circle"
         },
         "mode": "lines",
         "name": "KMeans",
         "orientation": "v",
         "showlegend": true,
         "type": "scatter",
         "x": [
          2,
          3,
          4,
          5,
          6,
          7,
          8,
          9,
          10,
          11,
          12,
          13,
          14,
          15,
          16,
          17,
          18,
          19,
          20
         ],
         "xaxis": "x",
         "y": [
          3.0875915495074864,
          3.5146739890845375,
          3.009460863663689,
          2.6393413506395005,
          2.571205211187626,
          3.6415926044349574,
          2.569529520248401,
          3.4114566104560966,
          3.2790031158093944,
          3.329579820485813,
          3.1450107216407424,
          3.455136700206047,
          3.31138695229335,
          2.845595947116931,
          3.269831545094957,
          3.023338210881181,
          3.402890642792477,
          3.130757677606661,
          3.088063161630024
         ],
         "yaxis": "y"
        },
        {
         "hovertemplate": "Algorithm=Agglomerative<br>Number of Clusters=%{x}<br>Davies-Bouldin Score=%{y}<extra></extra>",
         "legendgroup": "Agglomerative",
         "line": {
          "color": "#EF553B",
          "dash": "solid"
         },
         "marker": {
          "symbol": "circle"
         },
         "mode": "lines",
         "name": "Agglomerative",
         "orientation": "v",
         "showlegend": true,
         "type": "scatter",
         "x": [
          2,
          3,
          4,
          5,
          6,
          7,
          8,
          9,
          10,
          11,
          12,
          13,
          14,
          15,
          16,
          17,
          18,
          19,
          20
         ],
         "xaxis": "x",
         "y": [
          3.3353268460800227,
          3.2265315834437485,
          3.283080174945973,
          3.3618777725624547,
          3.507717627031274,
          3.341393010795712,
          3.0818706275293115,
          2.9384926049954663,
          2.6926151252788406,
          2.703723547340786,
          2.84555588171562,
          2.904880245648404,
          2.906485559307478,
          2.9240053903334835,
          2.927008039198123,
          2.9193806747785436,
          2.9614213566386534,
          2.9463265294723024,
          2.9713609051397865
         ],
         "yaxis": "y"
        }
       ],
       "layout": {
        "legend": {
         "title": {
          "text": "Algorithm"
         },
         "tracegroupgap": 0
        },
        "template": {
         "data": {
          "bar": [
           {
            "error_x": {
             "color": "#2a3f5f"
            },
            "error_y": {
             "color": "#2a3f5f"
            },
            "marker": {
             "line": {
              "color": "#E5ECF6",
              "width": 0.5
             },
             "pattern": {
              "fillmode": "overlay",
              "size": 10,
              "solidity": 0.2
             }
            },
            "type": "bar"
           }
          ],
          "barpolar": [
           {
            "marker": {
             "line": {
              "color": "#E5ECF6",
              "width": 0.5
             },
             "pattern": {
              "fillmode": "overlay",
              "size": 10,
              "solidity": 0.2
             }
            },
            "type": "barpolar"
           }
          ],
          "carpet": [
           {
            "aaxis": {
             "endlinecolor": "#2a3f5f",
             "gridcolor": "white",
             "linecolor": "white",
             "minorgridcolor": "white",
             "startlinecolor": "#2a3f5f"
            },
            "baxis": {
             "endlinecolor": "#2a3f5f",
             "gridcolor": "white",
             "linecolor": "white",
             "minorgridcolor": "white",
             "startlinecolor": "#2a3f5f"
            },
            "type": "carpet"
           }
          ],
          "choropleth": [
           {
            "colorbar": {
             "outlinewidth": 0,
             "ticks": ""
            },
            "type": "choropleth"
           }
          ],
          "contour": [
           {
            "colorbar": {
             "outlinewidth": 0,
             "ticks": ""
            },
            "colorscale": [
             [
              0,
              "#0d0887"
             ],
             [
              0.1111111111111111,
              "#46039f"
             ],
             [
              0.2222222222222222,
              "#7201a8"
             ],
             [
              0.3333333333333333,
              "#9c179e"
             ],
             [
              0.4444444444444444,
              "#bd3786"
             ],
             [
              0.5555555555555556,
              "#d8576b"
             ],
             [
              0.6666666666666666,
              "#ed7953"
             ],
             [
              0.7777777777777778,
              "#fb9f3a"
             ],
             [
              0.8888888888888888,
              "#fdca26"
             ],
             [
              1,
              "#f0f921"
             ]
            ],
            "type": "contour"
           }
          ],
          "contourcarpet": [
           {
            "colorbar": {
             "outlinewidth": 0,
             "ticks": ""
            },
            "type": "contourcarpet"
           }
          ],
          "heatmap": [
           {
            "colorbar": {
             "outlinewidth": 0,
             "ticks": ""
            },
            "colorscale": [
             [
              0,
              "#0d0887"
             ],
             [
              0.1111111111111111,
              "#46039f"
             ],
             [
              0.2222222222222222,
              "#7201a8"
             ],
             [
              0.3333333333333333,
              "#9c179e"
             ],
             [
              0.4444444444444444,
              "#bd3786"
             ],
             [
              0.5555555555555556,
              "#d8576b"
             ],
             [
              0.6666666666666666,
              "#ed7953"
             ],
             [
              0.7777777777777778,
              "#fb9f3a"
             ],
             [
              0.8888888888888888,
              "#fdca26"
             ],
             [
              1,
              "#f0f921"
             ]
            ],
            "type": "heatmap"
           }
          ],
          "heatmapgl": [
           {
            "colorbar": {
             "outlinewidth": 0,
             "ticks": ""
            },
            "colorscale": [
             [
              0,
              "#0d0887"
             ],
             [
              0.1111111111111111,
              "#46039f"
             ],
             [
              0.2222222222222222,
              "#7201a8"
             ],
             [
              0.3333333333333333,
              "#9c179e"
             ],
             [
              0.4444444444444444,
              "#bd3786"
             ],
             [
              0.5555555555555556,
              "#d8576b"
             ],
             [
              0.6666666666666666,
              "#ed7953"
             ],
             [
              0.7777777777777778,
              "#fb9f3a"
             ],
             [
              0.8888888888888888,
              "#fdca26"
             ],
             [
              1,
              "#f0f921"
             ]
            ],
            "type": "heatmapgl"
           }
          ],
          "histogram": [
           {
            "marker": {
             "pattern": {
              "fillmode": "overlay",
              "size": 10,
              "solidity": 0.2
             }
            },
            "type": "histogram"
           }
          ],
          "histogram2d": [
           {
            "colorbar": {
             "outlinewidth": 0,
             "ticks": ""
            },
            "colorscale": [
             [
              0,
              "#0d0887"
             ],
             [
              0.1111111111111111,
              "#46039f"
             ],
             [
              0.2222222222222222,
              "#7201a8"
             ],
             [
              0.3333333333333333,
              "#9c179e"
             ],
             [
              0.4444444444444444,
              "#bd3786"
             ],
             [
              0.5555555555555556,
              "#d8576b"
             ],
             [
              0.6666666666666666,
              "#ed7953"
             ],
             [
              0.7777777777777778,
              "#fb9f3a"
             ],
             [
              0.8888888888888888,
              "#fdca26"
             ],
             [
              1,
              "#f0f921"
             ]
            ],
            "type": "histogram2d"
           }
          ],
          "histogram2dcontour": [
           {
            "colorbar": {
             "outlinewidth": 0,
             "ticks": ""
            },
            "colorscale": [
             [
              0,
              "#0d0887"
             ],
             [
              0.1111111111111111,
              "#46039f"
             ],
             [
              0.2222222222222222,
              "#7201a8"
             ],
             [
              0.3333333333333333,
              "#9c179e"
             ],
             [
              0.4444444444444444,
              "#bd3786"
             ],
             [
              0.5555555555555556,
              "#d8576b"
             ],
             [
              0.6666666666666666,
              "#ed7953"
             ],
             [
              0.7777777777777778,
              "#fb9f3a"
             ],
             [
              0.8888888888888888,
              "#fdca26"
             ],
             [
              1,
              "#f0f921"
             ]
            ],
            "type": "histogram2dcontour"
           }
          ],
          "mesh3d": [
           {
            "colorbar": {
             "outlinewidth": 0,
             "ticks": ""
            },
            "type": "mesh3d"
           }
          ],
          "parcoords": [
           {
            "line": {
             "colorbar": {
              "outlinewidth": 0,
              "ticks": ""
             }
            },
            "type": "parcoords"
           }
          ],
          "pie": [
           {
            "automargin": true,
            "type": "pie"
           }
          ],
          "scatter": [
           {
            "fillpattern": {
             "fillmode": "overlay",
             "size": 10,
             "solidity": 0.2
            },
            "type": "scatter"
           }
          ],
          "scatter3d": [
           {
            "line": {
             "colorbar": {
              "outlinewidth": 0,
              "ticks": ""
             }
            },
            "marker": {
             "colorbar": {
              "outlinewidth": 0,
              "ticks": ""
             }
            },
            "type": "scatter3d"
           }
          ],
          "scattercarpet": [
           {
            "marker": {
             "colorbar": {
              "outlinewidth": 0,
              "ticks": ""
             }
            },
            "type": "scattercarpet"
           }
          ],
          "scattergeo": [
           {
            "marker": {
             "colorbar": {
              "outlinewidth": 0,
              "ticks": ""
             }
            },
            "type": "scattergeo"
           }
          ],
          "scattergl": [
           {
            "marker": {
             "colorbar": {
              "outlinewidth": 0,
              "ticks": ""
             }
            },
            "type": "scattergl"
           }
          ],
          "scattermapbox": [
           {
            "marker": {
             "colorbar": {
              "outlinewidth": 0,
              "ticks": ""
             }
            },
            "type": "scattermapbox"
           }
          ],
          "scatterpolar": [
           {
            "marker": {
             "colorbar": {
              "outlinewidth": 0,
              "ticks": ""
             }
            },
            "type": "scatterpolar"
           }
          ],
          "scatterpolargl": [
           {
            "marker": {
             "colorbar": {
              "outlinewidth": 0,
              "ticks": ""
             }
            },
            "type": "scatterpolargl"
           }
          ],
          "scatterternary": [
           {
            "marker": {
             "colorbar": {
              "outlinewidth": 0,
              "ticks": ""
             }
            },
            "type": "scatterternary"
           }
          ],
          "surface": [
           {
            "colorbar": {
             "outlinewidth": 0,
             "ticks": ""
            },
            "colorscale": [
             [
              0,
              "#0d0887"
             ],
             [
              0.1111111111111111,
              "#46039f"
             ],
             [
              0.2222222222222222,
              "#7201a8"
             ],
             [
              0.3333333333333333,
              "#9c179e"
             ],
             [
              0.4444444444444444,
              "#bd3786"
             ],
             [
              0.5555555555555556,
              "#d8576b"
             ],
             [
              0.6666666666666666,
              "#ed7953"
             ],
             [
              0.7777777777777778,
              "#fb9f3a"
             ],
             [
              0.8888888888888888,
              "#fdca26"
             ],
             [
              1,
              "#f0f921"
             ]
            ],
            "type": "surface"
           }
          ],
          "table": [
           {
            "cells": {
             "fill": {
              "color": "#EBF0F8"
             },
             "line": {
              "color": "white"
             }
            },
            "header": {
             "fill": {
              "color": "#C8D4E3"
             },
             "line": {
              "color": "white"
             }
            },
            "type": "table"
           }
          ]
         },
         "layout": {
          "annotationdefaults": {
           "arrowcolor": "#2a3f5f",
           "arrowhead": 0,
           "arrowwidth": 1
          },
          "autotypenumbers": "strict",
          "coloraxis": {
           "colorbar": {
            "outlinewidth": 0,
            "ticks": ""
           }
          },
          "colorscale": {
           "diverging": [
            [
             0,
             "#8e0152"
            ],
            [
             0.1,
             "#c51b7d"
            ],
            [
             0.2,
             "#de77ae"
            ],
            [
             0.3,
             "#f1b6da"
            ],
            [
             0.4,
             "#fde0ef"
            ],
            [
             0.5,
             "#f7f7f7"
            ],
            [
             0.6,
             "#e6f5d0"
            ],
            [
             0.7,
             "#b8e186"
            ],
            [
             0.8,
             "#7fbc41"
            ],
            [
             0.9,
             "#4d9221"
            ],
            [
             1,
             "#276419"
            ]
           ],
           "sequential": [
            [
             0,
             "#0d0887"
            ],
            [
             0.1111111111111111,
             "#46039f"
            ],
            [
             0.2222222222222222,
             "#7201a8"
            ],
            [
             0.3333333333333333,
             "#9c179e"
            ],
            [
             0.4444444444444444,
             "#bd3786"
            ],
            [
             0.5555555555555556,
             "#d8576b"
            ],
            [
             0.6666666666666666,
             "#ed7953"
            ],
            [
             0.7777777777777778,
             "#fb9f3a"
            ],
            [
             0.8888888888888888,
             "#fdca26"
            ],
            [
             1,
             "#f0f921"
            ]
           ],
           "sequentialminus": [
            [
             0,
             "#0d0887"
            ],
            [
             0.1111111111111111,
             "#46039f"
            ],
            [
             0.2222222222222222,
             "#7201a8"
            ],
            [
             0.3333333333333333,
             "#9c179e"
            ],
            [
             0.4444444444444444,
             "#bd3786"
            ],
            [
             0.5555555555555556,
             "#d8576b"
            ],
            [
             0.6666666666666666,
             "#ed7953"
            ],
            [
             0.7777777777777778,
             "#fb9f3a"
            ],
            [
             0.8888888888888888,
             "#fdca26"
            ],
            [
             1,
             "#f0f921"
            ]
           ]
          },
          "colorway": [
           "#636efa",
           "#EF553B",
           "#00cc96",
           "#ab63fa",
           "#FFA15A",
           "#19d3f3",
           "#FF6692",
           "#B6E880",
           "#FF97FF",
           "#FECB52"
          ],
          "font": {
           "color": "#2a3f5f"
          },
          "geo": {
           "bgcolor": "white",
           "lakecolor": "white",
           "landcolor": "#E5ECF6",
           "showlakes": true,
           "showland": true,
           "subunitcolor": "white"
          },
          "hoverlabel": {
           "align": "left"
          },
          "hovermode": "closest",
          "mapbox": {
           "style": "light"
          },
          "paper_bgcolor": "white",
          "plot_bgcolor": "#E5ECF6",
          "polar": {
           "angularaxis": {
            "gridcolor": "white",
            "linecolor": "white",
            "ticks": ""
           },
           "bgcolor": "#E5ECF6",
           "radialaxis": {
            "gridcolor": "white",
            "linecolor": "white",
            "ticks": ""
           }
          },
          "scene": {
           "xaxis": {
            "backgroundcolor": "#E5ECF6",
            "gridcolor": "white",
            "gridwidth": 2,
            "linecolor": "white",
            "showbackground": true,
            "ticks": "",
            "zerolinecolor": "white"
           },
           "yaxis": {
            "backgroundcolor": "#E5ECF6",
            "gridcolor": "white",
            "gridwidth": 2,
            "linecolor": "white",
            "showbackground": true,
            "ticks": "",
            "zerolinecolor": "white"
           },
           "zaxis": {
            "backgroundcolor": "#E5ECF6",
            "gridcolor": "white",
            "gridwidth": 2,
            "linecolor": "white",
            "showbackground": true,
            "ticks": "",
            "zerolinecolor": "white"
           }
          },
          "shapedefaults": {
           "line": {
            "color": "#2a3f5f"
           }
          },
          "ternary": {
           "aaxis": {
            "gridcolor": "white",
            "linecolor": "white",
            "ticks": ""
           },
           "baxis": {
            "gridcolor": "white",
            "linecolor": "white",
            "ticks": ""
           },
           "bgcolor": "#E5ECF6",
           "caxis": {
            "gridcolor": "white",
            "linecolor": "white",
            "ticks": ""
           }
          },
          "title": {
           "x": 0.05
          },
          "xaxis": {
           "automargin": true,
           "gridcolor": "white",
           "linecolor": "white",
           "ticks": "",
           "title": {
            "standoff": 15
           },
           "zerolinecolor": "white",
           "zerolinewidth": 2
          },
          "yaxis": {
           "automargin": true,
           "gridcolor": "white",
           "linecolor": "white",
           "ticks": "",
           "title": {
            "standoff": 15
           },
           "zerolinecolor": "white",
           "zerolinewidth": 2
          }
         }
        },
        "title": {
         "text": "Davies-Bouldin Score vs Number of Clusters"
        },
        "xaxis": {
         "anchor": "y",
         "domain": [
          0,
          1
         ],
         "title": {
          "text": "Number of Clusters"
         }
        },
        "yaxis": {
         "anchor": "x",
         "domain": [
          0,
          1
         ],
         "title": {
          "text": "Davies-Bouldin Score"
         }
        }
       }
      }
     },
     "metadata": {},
     "output_type": "display_data"
    }
   ],
   "source": [
    "# Create lists to store the results for both clustering algorithms and metrics\n",
    "silhouette_results = []\n",
    "davies_bouldin_results = []\n",
    "cluster_numbers = []\n",
    "\n",
    "# Number of clusters to test (from 2 to 10 for example)\n",
    "cluster_range = range(2, 21)\n",
    "\n",
    "# Loop through both KMeans and Agglomerative Clustering\n",
    "for algorithm in ['KMeans', 'Agglomerative']:\n",
    "    for n_clusters in cluster_range:\n",
    "        \n",
    "        # Fit the selected clustering algorithm\n",
    "        if algorithm == 'KMeans':\n",
    "            model = KMeans(n_clusters=n_clusters)\n",
    "        elif algorithm == 'Agglomerative':\n",
    "            model = AgglomerativeClustering(n_clusters=n_clusters)\n",
    "        \n",
    "        # Fit the model to the PCA data (assumed PCA data in df_pca)\n",
    "        model.fit(df_pca_40)\n",
    "        \n",
    "        # Get the predicted labels (clusters)\n",
    "        labels = model.labels_\n",
    "        \n",
    "        # Compute the evaluation metrics\n",
    "        silhouette = silhouette_score(df_pca_40, labels)\n",
    "        davies_bouldin = davies_bouldin_score(df_pca_40, labels)\n",
    "        \n",
    "        # Store the results for plotting\n",
    "        silhouette_results.append(silhouette)\n",
    "        davies_bouldin_results.append(davies_bouldin)\n",
    "        cluster_numbers.append(n_clusters)\n",
    "\n",
    "# Create a DataFrame for the results\n",
    "results_df = pd.DataFrame({\n",
    "    'Cluster Number': cluster_numbers,\n",
    "    'Silhouette Score': silhouette_results,\n",
    "    'Davies-Bouldin Score': davies_bouldin_results,\n",
    "    'Algorithm': ['KMeans']*len(cluster_range) + ['Agglomerative']*len(cluster_range)\n",
    "})\n",
    "\n",
    "# Plotting the results using Plotly Express\n",
    "fig = px.line(results_df, x='Cluster Number', y='Silhouette Score', color='Algorithm', \n",
    "              title=\"Silhouette Score vs Number of Clusters\", labels={'Silhouette Score': 'Silhouette Score', 'Cluster Number': 'Number of Clusters'})\n",
    "\n",
    "fig.show()\n",
    "\n",
    "# Plotting the Davies-Bouldin Score using Plotly Express\n",
    "fig2 = px.line(results_df, x='Cluster Number', y='Davies-Bouldin Score', color='Algorithm', \n",
    "               title=\"Davies-Bouldin Score vs Number of Clusters\", labels={'Davies-Bouldin Score': 'Davies-Bouldin Score', 'Cluster Number': 'Number of Clusters'})\n",
    "\n",
    "fig2.show()\n"
   ]
  },
  {
   "cell_type": "markdown",
   "metadata": {},
   "source": [
    "Based on both of these charts and evaluation metrics, the optimum number of clusters seem to be 5."
   ]
  },
  {
   "cell_type": "markdown",
   "metadata": {},
   "source": [
    "### Choosing Clustering Algorithm"
   ]
  },
  {
   "cell_type": "markdown",
   "metadata": {},
   "source": [
    "#### Choosing Between Agglomerative Clustering and KMeans"
   ]
  },
  {
   "cell_type": "markdown",
   "metadata": {},
   "source": [
    "depends on the characteristics of your data and the goals of your analysis."
   ]
  },
  {
   "cell_type": "markdown",
   "metadata": {},
   "source": [
    "##### **KMeans Clustering**"
   ]
  },
  {
   "cell_type": "markdown",
   "metadata": {},
   "source": [
    "**Best For**:\n",
    "- **Spherical/Globular Clusters**: KMeans assumes that clusters are **spherical** and of roughly equal size. If data is organized in this way (i.e., clusters that are well-separated and round), KMeans will likely perform well.\n",
    "- **Scalability**: KMeans is faster for large datasets, especially if you have many data points. It has **O(n * k)** complexity, where **n** is the number of data points and **k** is the number of clusters.\n",
    "- **Well-Defined Cluster Centers**: KMeans is useful when you're interested in finding the **centroids** or **centers** of your clusters, as the algorithm explicitly calculates the center of each cluster.\n",
    "\n",
    "**Advantages**:\n",
    "- Fast and efficient, especially with large datasets.\n",
    "- Works well with **compact** and **globular clusters**.\n",
    "- Simple to understand and implement.\n",
    "\n",
    "**Disadvantages**:\n",
    "- Assumes clusters are **spherical** and **of equal size** (may struggle with non-spherical clusters or clusters with varying densities).\n",
    "- Sensitive to **initialization** of cluster centroids (can result in different results each time).\n",
    "- The number of clusters **k** must be specified in advance, which can be challenging without domain knowledge."
   ]
  },
  {
   "cell_type": "markdown",
   "metadata": {},
   "source": [
    "##### **Agglomerative Clustering** (Hierarchical)"
   ]
  },
  {
   "cell_type": "markdown",
   "metadata": {},
   "source": [
    "**Best For**:\n",
    "- **Non-Spherical Clusters**: Agglomerative Clustering does not assume a specific shape for the clusters, so it works well for **non-spherical clusters** with complex shapes.\n",
    "- **Dendrogram Visualization**: If you're interested in visualizing the **hierarchical structure** of the data, Agglomerative Clustering can produce a **dendrogram**, which helps understand the relationships between clusters at various levels of granularity.\n",
    "- **Unequal Cluster Sizes**: Unlike KMeans, Agglomerative Clustering does not assume that the clusters are the same size or density, making it more suitable for datasets with **heterogeneous clusters**.\n",
    "\n",
    "**Advantages**:\n",
    "- Works well for **non-spherical clusters** or clusters with varying sizes and densities.\n",
    "- Produces a **dendrogram**, which can be useful for exploring the hierarchy of data and making decisions about the number of clusters.\n",
    "- Does not require specifying the number of clusters in advance (though it’s still often useful to do so after inspecting the dendrogram).\n",
    "\n",
    "**Disadvantages**:\n",
    "- **Computationally expensive** for large datasets, especially when you have a lot of data points (O(n²) complexity).\n",
    "- Can be slower than KMeans for large datasets.\n",
    "- More complex and harder to interpret in some cases."
   ]
  },
  {
   "cell_type": "markdown",
   "metadata": {},
   "source": [
    "\n",
    "##### **When to Use KMeans**:\n",
    "- **Data is large**, and you need an **efficient clustering algorithm**.\n",
    "- You expect **globular clusters** that are well-separated.\n",
    "- You need to define **cluster centroids** for each cluster.\n",
    "- You’re working with **structured and well-distributed** data, where clusters are approximately the same size and shape.\n",
    "\n",
    "##### **When to Use Agglomerative Clustering**:\n",
    "- You suspect the clusters are **non-spherical**, **differently shaped**, or have **different densities**.\n",
    "- You want to create a **dendrogram** to understand the hierarchy and explore various levels of clustering.\n",
    "- You don’t know how many clusters are present, but you can explore different cluster numbers based on the dendrogram.\n",
    "\n",
    "##### **Summary**:\n",
    "- **Choose KMeans** if your data is large and you expect well-separated, spherical clusters.\n",
    "- **Choose Agglomerative Clustering** if your data has more complex or non-spherical cluster shapes or if you want to explore the hierarchical relationships between clusters."
   ]
  },
  {
   "cell_type": "markdown",
   "metadata": {},
   "source": [
    "#### Agglomerative Clustering"
   ]
  },
  {
   "cell_type": "markdown",
   "metadata": {},
   "source": [
    "This is chosen because it is assumed that dating profiles have complex, non-spherical cluster shapes."
   ]
  },
  {
   "cell_type": "code",
   "execution_count": 339,
   "metadata": {},
   "outputs": [],
   "source": [
    "df_pca_40 = pd.read_csv('df_pca_40.csv')"
   ]
  },
  {
   "cell_type": "code",
   "execution_count": 375,
   "metadata": {},
   "outputs": [],
   "source": [
    "df_profiles = pd.read_csv('random_chulalongkorn_profiles.csv')"
   ]
  },
  {
   "cell_type": "code",
   "execution_count": 376,
   "metadata": {},
   "outputs": [
    {
     "data": {
      "text/html": [
       "<div>\n",
       "<style scoped>\n",
       "    .dataframe tbody tr th:only-of-type {\n",
       "        vertical-align: middle;\n",
       "    }\n",
       "\n",
       "    .dataframe tbody tr th {\n",
       "        vertical-align: top;\n",
       "    }\n",
       "\n",
       "    .dataframe thead th {\n",
       "        text-align: right;\n",
       "    }\n",
       "</style>\n",
       "<table border=\"1\" class=\"dataframe\">\n",
       "  <thead>\n",
       "    <tr style=\"text-align: right;\">\n",
       "      <th></th>\n",
       "      <th>BirthDate</th>\n",
       "      <th>Gender</th>\n",
       "      <th>PreferredGender</th>\n",
       "      <th>LookingFor</th>\n",
       "      <th>Faculty</th>\n",
       "      <th>PersonalTraits</th>\n",
       "      <th>Interests</th>\n",
       "      <th>Values</th>\n",
       "      <th>Bio</th>\n",
       "    </tr>\n",
       "  </thead>\n",
       "  <tbody>\n",
       "    <tr>\n",
       "      <th>0</th>\n",
       "      <td>2006-02-18</td>\n",
       "      <td>f</td>\n",
       "      <td>others</td>\n",
       "      <td>new friends</td>\n",
       "      <td>Engineering</td>\n",
       "      <td>adventurous, shy</td>\n",
       "      <td>traveling, technology</td>\n",
       "      <td>spirituality, empathy, responsibility</td>\n",
       "      <td>I make the best coffee in town. Don't @ me. No...</td>\n",
       "    </tr>\n",
       "    <tr>\n",
       "      <th>1</th>\n",
       "      <td>2002-08-29</td>\n",
       "      <td>m</td>\n",
       "      <td>m</td>\n",
       "      <td>still figuring it out</td>\n",
       "      <td>Arts</td>\n",
       "      <td>curious, shy, ambitious</td>\n",
       "      <td>technology, photography</td>\n",
       "      <td>respect, independence</td>\n",
       "      <td>I’ve got a collection of 90’s comic books. I'm...</td>\n",
       "    </tr>\n",
       "    <tr>\n",
       "      <th>2</th>\n",
       "      <td>1999-08-11</td>\n",
       "      <td>others</td>\n",
       "      <td>f</td>\n",
       "      <td>new friends</td>\n",
       "      <td>Business</td>\n",
       "      <td>shy, creative, thoughtful</td>\n",
       "      <td>sports, cooking, technology</td>\n",
       "      <td>independence, loyalty</td>\n",
       "      <td>I can speak three languages, and one of them i...</td>\n",
       "    </tr>\n",
       "    <tr>\n",
       "      <th>3</th>\n",
       "      <td>1995-06-21</td>\n",
       "      <td>m</td>\n",
       "      <td>any</td>\n",
       "      <td>long-term partner</td>\n",
       "      <td>Law</td>\n",
       "      <td>outgoing, ambitious, adventurous</td>\n",
       "      <td>fashion, photography</td>\n",
       "      <td>loyalty, respect, spirituality</td>\n",
       "      <td>I’ve got a collection of 90’s comic books. I e...</td>\n",
       "    </tr>\n",
       "    <tr>\n",
       "      <th>4</th>\n",
       "      <td>1995-05-05</td>\n",
       "      <td>f</td>\n",
       "      <td>f</td>\n",
       "      <td>short-term but long-term OK</td>\n",
       "      <td>Architecture</td>\n",
       "      <td>creative</td>\n",
       "      <td>reading, fashion, traveling</td>\n",
       "      <td>responsibility, loyalty</td>\n",
       "      <td>I’ve got a collection of 90’s comic books. I'm...</td>\n",
       "    </tr>\n",
       "  </tbody>\n",
       "</table>\n",
       "</div>"
      ],
      "text/plain": [
       "    BirthDate  Gender PreferredGender                   LookingFor  \\\n",
       "0  2006-02-18       f          others                  new friends   \n",
       "1  2002-08-29       m               m        still figuring it out   \n",
       "2  1999-08-11  others               f                  new friends   \n",
       "3  1995-06-21       m             any            long-term partner   \n",
       "4  1995-05-05       f               f  short-term but long-term OK   \n",
       "\n",
       "        Faculty                    PersonalTraits  \\\n",
       "0   Engineering                  adventurous, shy   \n",
       "1          Arts           curious, shy, ambitious   \n",
       "2      Business         shy, creative, thoughtful   \n",
       "3           Law  outgoing, ambitious, adventurous   \n",
       "4  Architecture                          creative   \n",
       "\n",
       "                     Interests                                 Values  \\\n",
       "0        traveling, technology  spirituality, empathy, responsibility   \n",
       "1      technology, photography                  respect, independence   \n",
       "2  sports, cooking, technology                  independence, loyalty   \n",
       "3         fashion, photography         loyalty, respect, spirituality   \n",
       "4  reading, fashion, traveling                responsibility, loyalty   \n",
       "\n",
       "                                                 Bio  \n",
       "0  I make the best coffee in town. Don't @ me. No...  \n",
       "1  I’ve got a collection of 90’s comic books. I'm...  \n",
       "2  I can speak three languages, and one of them i...  \n",
       "3  I’ve got a collection of 90’s comic books. I e...  \n",
       "4  I’ve got a collection of 90’s comic books. I'm...  "
      ]
     },
     "execution_count": 376,
     "metadata": {},
     "output_type": "execute_result"
    }
   ],
   "source": [
    "df_profiles.head()"
   ]
  },
  {
   "cell_type": "code",
   "execution_count": 377,
   "metadata": {},
   "outputs": [],
   "source": [
    "# Instantiating HAC\n",
    "hac = AgglomerativeClustering(n_clusters=5)\n",
    "\n",
    "# Fitting\n",
    "hac.fit(df_pca_40)\n",
    "\n",
    "# Assigning clusters\n",
    "cluster_assignments = hac.labels_"
   ]
  },
  {
   "cell_type": "code",
   "execution_count": 378,
   "metadata": {},
   "outputs": [
    {
     "data": {
      "text/plain": [
       "array([1, 1, 4, ..., 2, 0, 0])"
      ]
     },
     "execution_count": 378,
     "metadata": {},
     "output_type": "execute_result"
    }
   ],
   "source": [
    "cluster_assignments"
   ]
  },
  {
   "cell_type": "code",
   "execution_count": 379,
   "metadata": {},
   "outputs": [],
   "source": [
    "# Assigning the clusters to each profile\n",
    "df_profiles['Cluster'] = cluster_assignments"
   ]
  },
  {
   "cell_type": "code",
   "execution_count": 365,
   "metadata": {},
   "outputs": [
    {
     "data": {
      "text/html": [
       "<div>\n",
       "<style scoped>\n",
       "    .dataframe tbody tr th:only-of-type {\n",
       "        vertical-align: middle;\n",
       "    }\n",
       "\n",
       "    .dataframe tbody tr th {\n",
       "        vertical-align: top;\n",
       "    }\n",
       "\n",
       "    .dataframe thead th {\n",
       "        text-align: right;\n",
       "    }\n",
       "</style>\n",
       "<table border=\"1\" class=\"dataframe\">\n",
       "  <thead>\n",
       "    <tr style=\"text-align: right;\">\n",
       "      <th></th>\n",
       "      <th>BirthDate</th>\n",
       "      <th>Gender</th>\n",
       "      <th>PreferredGender</th>\n",
       "      <th>LookingFor</th>\n",
       "      <th>Faculty</th>\n",
       "      <th>PersonalTraits</th>\n",
       "      <th>Interests</th>\n",
       "      <th>Values</th>\n",
       "      <th>Bio</th>\n",
       "    </tr>\n",
       "  </thead>\n",
       "  <tbody>\n",
       "    <tr>\n",
       "      <th>0</th>\n",
       "      <td>2006-02-18</td>\n",
       "      <td>f</td>\n",
       "      <td>others</td>\n",
       "      <td>new friends</td>\n",
       "      <td>Engineering</td>\n",
       "      <td>adventurous, shy</td>\n",
       "      <td>traveling, technology</td>\n",
       "      <td>spirituality, empathy, responsibility</td>\n",
       "      <td>I make the best coffee in town. Don't @ me. No...</td>\n",
       "    </tr>\n",
       "    <tr>\n",
       "      <th>1</th>\n",
       "      <td>2002-08-29</td>\n",
       "      <td>m</td>\n",
       "      <td>m</td>\n",
       "      <td>still figuring it out</td>\n",
       "      <td>Arts</td>\n",
       "      <td>curious, shy, ambitious</td>\n",
       "      <td>technology, photography</td>\n",
       "      <td>respect, independence</td>\n",
       "      <td>I’ve got a collection of 90’s comic books. I'm...</td>\n",
       "    </tr>\n",
       "    <tr>\n",
       "      <th>2</th>\n",
       "      <td>1999-08-11</td>\n",
       "      <td>others</td>\n",
       "      <td>f</td>\n",
       "      <td>new friends</td>\n",
       "      <td>Business</td>\n",
       "      <td>shy, creative, thoughtful</td>\n",
       "      <td>sports, cooking, technology</td>\n",
       "      <td>independence, loyalty</td>\n",
       "      <td>I can speak three languages, and one of them i...</td>\n",
       "    </tr>\n",
       "    <tr>\n",
       "      <th>3</th>\n",
       "      <td>1995-06-21</td>\n",
       "      <td>m</td>\n",
       "      <td>any</td>\n",
       "      <td>long-term partner</td>\n",
       "      <td>Law</td>\n",
       "      <td>outgoing, ambitious, adventurous</td>\n",
       "      <td>fashion, photography</td>\n",
       "      <td>loyalty, respect, spirituality</td>\n",
       "      <td>I’ve got a collection of 90’s comic books. I e...</td>\n",
       "    </tr>\n",
       "    <tr>\n",
       "      <th>4</th>\n",
       "      <td>1995-05-05</td>\n",
       "      <td>f</td>\n",
       "      <td>f</td>\n",
       "      <td>short-term but long-term OK</td>\n",
       "      <td>Architecture</td>\n",
       "      <td>creative</td>\n",
       "      <td>reading, fashion, traveling</td>\n",
       "      <td>responsibility, loyalty</td>\n",
       "      <td>I’ve got a collection of 90’s comic books. I'm...</td>\n",
       "    </tr>\n",
       "  </tbody>\n",
       "</table>\n",
       "</div>"
      ],
      "text/plain": [
       "    BirthDate  Gender PreferredGender                   LookingFor  \\\n",
       "0  2006-02-18       f          others                  new friends   \n",
       "1  2002-08-29       m               m        still figuring it out   \n",
       "2  1999-08-11  others               f                  new friends   \n",
       "3  1995-06-21       m             any            long-term partner   \n",
       "4  1995-05-05       f               f  short-term but long-term OK   \n",
       "\n",
       "        Faculty                    PersonalTraits  \\\n",
       "0   Engineering                  adventurous, shy   \n",
       "1          Arts           curious, shy, ambitious   \n",
       "2      Business         shy, creative, thoughtful   \n",
       "3           Law  outgoing, ambitious, adventurous   \n",
       "4  Architecture                          creative   \n",
       "\n",
       "                     Interests                                 Values  \\\n",
       "0        traveling, technology  spirituality, empathy, responsibility   \n",
       "1      technology, photography                  respect, independence   \n",
       "2  sports, cooking, technology                  independence, loyalty   \n",
       "3         fashion, photography         loyalty, respect, spirituality   \n",
       "4  reading, fashion, traveling                responsibility, loyalty   \n",
       "\n",
       "                                                 Bio  \n",
       "0  I make the best coffee in town. Don't @ me. No...  \n",
       "1  I’ve got a collection of 90’s comic books. I'm...  \n",
       "2  I can speak three languages, and one of them i...  \n",
       "3  I’ve got a collection of 90’s comic books. I e...  \n",
       "4  I’ve got a collection of 90’s comic books. I'm...  "
      ]
     },
     "execution_count": 365,
     "metadata": {},
     "output_type": "execute_result"
    }
   ],
   "source": [
    "df_profiles.head()"
   ]
  },
  {
   "cell_type": "code",
   "execution_count": 236,
   "metadata": {},
   "outputs": [],
   "source": [
    "df_profiles.to_csv('df_profiles_clustered.csv', index=False)"
   ]
  },
  {
   "cell_type": "markdown",
   "metadata": {},
   "source": [
    "### Organizing Dating Profiles"
   ]
  },
  {
   "cell_type": "code",
   "execution_count": 345,
   "metadata": {},
   "outputs": [],
   "source": [
    "df_profiles_clustered = pd.read_csv('df_profiles_clustered.csv')"
   ]
  },
  {
   "cell_type": "code",
   "execution_count": 346,
   "metadata": {},
   "outputs": [],
   "source": [
    "# df_profiles_clustered"
   ]
  },
  {
   "cell_type": "code",
   "execution_count": 347,
   "metadata": {},
   "outputs": [
    {
     "data": {
      "text/plain": [
       "Index(['BirthDate', 'Gender', 'PreferredGender', 'LookingFor', 'Faculty',\n",
       "       'PersonalTraits', 'Interests', 'Values', 'Bio', 'Cluster'],\n",
       "      dtype='object')"
      ]
     },
     "execution_count": 347,
     "metadata": {},
     "output_type": "execute_result"
    }
   ],
   "source": [
    "df_profiles_clustered.columns"
   ]
  },
  {
   "cell_type": "code",
   "execution_count": 348,
   "metadata": {},
   "outputs": [],
   "source": [
    "df_tokenized_binarized_vectorized = pd.read_csv('random_chulalongkorn_profiles_bioTokenized_binarized_vectorized.csv')"
   ]
  },
  {
   "cell_type": "code",
   "execution_count": 349,
   "metadata": {},
   "outputs": [],
   "source": [
    "# df_tokenized_binarized_vectorized.head()"
   ]
  },
  {
   "cell_type": "code",
   "execution_count": 350,
   "metadata": {},
   "outputs": [],
   "source": [
    "df_tokenized_binarized_vectorized.drop(columns=['BirthDate', 'Gender', 'PreferredGender', 'LookingFor', 'Faculty', 'PersonalTraits', 'Interests', 'Values', 'Bio', 'Bio_processed'], inplace=True)"
   ]
  },
  {
   "cell_type": "code",
   "execution_count": 351,
   "metadata": {},
   "outputs": [
    {
     "data": {
      "text/html": [
       "<div>\n",
       "<style scoped>\n",
       "    .dataframe tbody tr th:only-of-type {\n",
       "        vertical-align: middle;\n",
       "    }\n",
       "\n",
       "    .dataframe tbody tr th {\n",
       "        vertical-align: top;\n",
       "    }\n",
       "\n",
       "    .dataframe thead th {\n",
       "        text-align: right;\n",
       "    }\n",
       "</style>\n",
       "<table border=\"1\" class=\"dataframe\">\n",
       "  <thead>\n",
       "    <tr style=\"text-align: right;\">\n",
       "      <th></th>\n",
       "      <th>adventurous</th>\n",
       "      <th>ambitious</th>\n",
       "      <th>creative</th>\n",
       "      <th>curious</th>\n",
       "      <th>funny</th>\n",
       "      <th>introverted</th>\n",
       "      <th>outgoing</th>\n",
       "      <th>shy</th>\n",
       "      <th>thoughtful</th>\n",
       "      <th>cooking</th>\n",
       "      <th>...</th>\n",
       "      <th>town</th>\n",
       "      <th>trip</th>\n",
       "      <th>trust</th>\n",
       "      <th>trying</th>\n",
       "      <th>value</th>\n",
       "      <th>visited</th>\n",
       "      <th>want</th>\n",
       "      <th>weekend</th>\n",
       "      <th>working</th>\n",
       "      <th>year</th>\n",
       "    </tr>\n",
       "  </thead>\n",
       "  <tbody>\n",
       "    <tr>\n",
       "      <th>0</th>\n",
       "      <td>1</td>\n",
       "      <td>0</td>\n",
       "      <td>0</td>\n",
       "      <td>0</td>\n",
       "      <td>0</td>\n",
       "      <td>0</td>\n",
       "      <td>0</td>\n",
       "      <td>1</td>\n",
       "      <td>0</td>\n",
       "      <td>0</td>\n",
       "      <td>...</td>\n",
       "      <td>1</td>\n",
       "      <td>1</td>\n",
       "      <td>1</td>\n",
       "      <td>0</td>\n",
       "      <td>0</td>\n",
       "      <td>0</td>\n",
       "      <td>0</td>\n",
       "      <td>0</td>\n",
       "      <td>0</td>\n",
       "      <td>0</td>\n",
       "    </tr>\n",
       "    <tr>\n",
       "      <th>1</th>\n",
       "      <td>0</td>\n",
       "      <td>1</td>\n",
       "      <td>0</td>\n",
       "      <td>1</td>\n",
       "      <td>0</td>\n",
       "      <td>0</td>\n",
       "      <td>0</td>\n",
       "      <td>1</td>\n",
       "      <td>0</td>\n",
       "      <td>0</td>\n",
       "      <td>...</td>\n",
       "      <td>0</td>\n",
       "      <td>0</td>\n",
       "      <td>1</td>\n",
       "      <td>0</td>\n",
       "      <td>0</td>\n",
       "      <td>0</td>\n",
       "      <td>0</td>\n",
       "      <td>0</td>\n",
       "      <td>0</td>\n",
       "      <td>0</td>\n",
       "    </tr>\n",
       "    <tr>\n",
       "      <th>2</th>\n",
       "      <td>0</td>\n",
       "      <td>0</td>\n",
       "      <td>1</td>\n",
       "      <td>0</td>\n",
       "      <td>0</td>\n",
       "      <td>0</td>\n",
       "      <td>0</td>\n",
       "      <td>1</td>\n",
       "      <td>1</td>\n",
       "      <td>1</td>\n",
       "      <td>...</td>\n",
       "      <td>0</td>\n",
       "      <td>0</td>\n",
       "      <td>1</td>\n",
       "      <td>0</td>\n",
       "      <td>0</td>\n",
       "      <td>0</td>\n",
       "      <td>0</td>\n",
       "      <td>0</td>\n",
       "      <td>1</td>\n",
       "      <td>0</td>\n",
       "    </tr>\n",
       "    <tr>\n",
       "      <th>3</th>\n",
       "      <td>1</td>\n",
       "      <td>1</td>\n",
       "      <td>0</td>\n",
       "      <td>0</td>\n",
       "      <td>0</td>\n",
       "      <td>0</td>\n",
       "      <td>1</td>\n",
       "      <td>0</td>\n",
       "      <td>0</td>\n",
       "      <td>0</td>\n",
       "      <td>...</td>\n",
       "      <td>0</td>\n",
       "      <td>0</td>\n",
       "      <td>0</td>\n",
       "      <td>1</td>\n",
       "      <td>0</td>\n",
       "      <td>0</td>\n",
       "      <td>0</td>\n",
       "      <td>1</td>\n",
       "      <td>1</td>\n",
       "      <td>0</td>\n",
       "    </tr>\n",
       "    <tr>\n",
       "      <th>4</th>\n",
       "      <td>0</td>\n",
       "      <td>0</td>\n",
       "      <td>1</td>\n",
       "      <td>0</td>\n",
       "      <td>0</td>\n",
       "      <td>0</td>\n",
       "      <td>0</td>\n",
       "      <td>0</td>\n",
       "      <td>0</td>\n",
       "      <td>0</td>\n",
       "      <td>...</td>\n",
       "      <td>0</td>\n",
       "      <td>0</td>\n",
       "      <td>0</td>\n",
       "      <td>0</td>\n",
       "      <td>1</td>\n",
       "      <td>0</td>\n",
       "      <td>0</td>\n",
       "      <td>0</td>\n",
       "      <td>0</td>\n",
       "      <td>0</td>\n",
       "    </tr>\n",
       "  </tbody>\n",
       "</table>\n",
       "<p>5 rows × 160 columns</p>\n",
       "</div>"
      ],
      "text/plain": [
       "   adventurous  ambitious  creative  curious  funny  introverted  outgoing  \\\n",
       "0            1          0         0        0      0            0         0   \n",
       "1            0          1         0        1      0            0         0   \n",
       "2            0          0         1        0      0            0         0   \n",
       "3            1          1         0        0      0            0         1   \n",
       "4            0          0         1        0      0            0         0   \n",
       "\n",
       "   shy  thoughtful  cooking  ...  town  trip  trust  trying  value  visited  \\\n",
       "0    1           0        0  ...     1     1      1       0      0        0   \n",
       "1    1           0        0  ...     0     0      1       0      0        0   \n",
       "2    1           1        1  ...     0     0      1       0      0        0   \n",
       "3    0           0        0  ...     0     0      0       1      0        0   \n",
       "4    0           0        0  ...     0     0      0       0      1        0   \n",
       "\n",
       "   want  weekend  working  year  \n",
       "0     0        0        0     0  \n",
       "1     0        0        0     0  \n",
       "2     0        0        1     0  \n",
       "3     0        1        1     0  \n",
       "4     0        0        0     0  \n",
       "\n",
       "[5 rows x 160 columns]"
      ]
     },
     "execution_count": 351,
     "metadata": {},
     "output_type": "execute_result"
    }
   ],
   "source": [
    "df_tokenized_binarized_vectorized.head()"
   ]
  },
  {
   "cell_type": "code",
   "execution_count": 352,
   "metadata": {},
   "outputs": [],
   "source": [
    "df_corr = df_tokenized_binarized_vectorized.T.corr()"
   ]
  },
  {
   "cell_type": "code",
   "execution_count": 353,
   "metadata": {},
   "outputs": [
    {
     "data": {
      "text/html": [
       "<div>\n",
       "<style scoped>\n",
       "    .dataframe tbody tr th:only-of-type {\n",
       "        vertical-align: middle;\n",
       "    }\n",
       "\n",
       "    .dataframe tbody tr th {\n",
       "        vertical-align: top;\n",
       "    }\n",
       "\n",
       "    .dataframe thead th {\n",
       "        text-align: right;\n",
       "    }\n",
       "</style>\n",
       "<table border=\"1\" class=\"dataframe\">\n",
       "  <thead>\n",
       "    <tr style=\"text-align: right;\">\n",
       "      <th></th>\n",
       "      <th>0</th>\n",
       "      <th>1</th>\n",
       "      <th>2</th>\n",
       "      <th>3</th>\n",
       "      <th>4</th>\n",
       "      <th>5</th>\n",
       "      <th>6</th>\n",
       "      <th>7</th>\n",
       "      <th>8</th>\n",
       "      <th>9</th>\n",
       "      <th>...</th>\n",
       "      <th>1990</th>\n",
       "      <th>1991</th>\n",
       "      <th>1992</th>\n",
       "      <th>1993</th>\n",
       "      <th>1994</th>\n",
       "      <th>1995</th>\n",
       "      <th>1996</th>\n",
       "      <th>1997</th>\n",
       "      <th>1998</th>\n",
       "      <th>1999</th>\n",
       "    </tr>\n",
       "  </thead>\n",
       "  <tbody>\n",
       "    <tr>\n",
       "      <th>0</th>\n",
       "      <td>1.000000</td>\n",
       "      <td>0.262518</td>\n",
       "      <td>0.034404</td>\n",
       "      <td>-0.074855</td>\n",
       "      <td>-0.108368</td>\n",
       "      <td>-0.194773</td>\n",
       "      <td>-8.951436e-02</td>\n",
       "      <td>0.054098</td>\n",
       "      <td>0.033878</td>\n",
       "      <td>-0.001378</td>\n",
       "      <td>...</td>\n",
       "      <td>-0.129076</td>\n",
       "      <td>-0.081401</td>\n",
       "      <td>-0.155673</td>\n",
       "      <td>0.261700</td>\n",
       "      <td>-0.152572</td>\n",
       "      <td>-0.120034</td>\n",
       "      <td>0.310083</td>\n",
       "      <td>0.313716</td>\n",
       "      <td>0.074991</td>\n",
       "      <td>0.170344</td>\n",
       "    </tr>\n",
       "    <tr>\n",
       "      <th>1</th>\n",
       "      <td>0.262518</td>\n",
       "      <td>1.000000</td>\n",
       "      <td>-0.034231</td>\n",
       "      <td>0.052401</td>\n",
       "      <td>0.464694</td>\n",
       "      <td>-0.081251</td>\n",
       "      <td>3.709019e-02</td>\n",
       "      <td>-0.035832</td>\n",
       "      <td>-0.283842</td>\n",
       "      <td>-0.058665</td>\n",
       "      <td>...</td>\n",
       "      <td>-0.090058</td>\n",
       "      <td>0.055551</td>\n",
       "      <td>0.125561</td>\n",
       "      <td>0.238557</td>\n",
       "      <td>-0.106641</td>\n",
       "      <td>0.107483</td>\n",
       "      <td>-0.063535</td>\n",
       "      <td>0.400291</td>\n",
       "      <td>-0.013877</td>\n",
       "      <td>-0.082469</td>\n",
       "    </tr>\n",
       "    <tr>\n",
       "      <th>2</th>\n",
       "      <td>0.034404</td>\n",
       "      <td>-0.034231</td>\n",
       "      <td>1.000000</td>\n",
       "      <td>0.075919</td>\n",
       "      <td>-0.132620</td>\n",
       "      <td>0.253386</td>\n",
       "      <td>2.676874e-01</td>\n",
       "      <td>0.203601</td>\n",
       "      <td>-0.169670</td>\n",
       "      <td>0.140130</td>\n",
       "      <td>...</td>\n",
       "      <td>0.005222</td>\n",
       "      <td>0.112809</td>\n",
       "      <td>-0.222269</td>\n",
       "      <td>-0.103192</td>\n",
       "      <td>0.037288</td>\n",
       "      <td>0.172459</td>\n",
       "      <td>0.086781</td>\n",
       "      <td>0.051358</td>\n",
       "      <td>0.030514</td>\n",
       "      <td>0.089081</td>\n",
       "    </tr>\n",
       "    <tr>\n",
       "      <th>3</th>\n",
       "      <td>-0.074855</td>\n",
       "      <td>0.052401</td>\n",
       "      <td>0.075919</td>\n",
       "      <td>1.000000</td>\n",
       "      <td>0.022242</td>\n",
       "      <td>0.023623</td>\n",
       "      <td>1.746956e-01</td>\n",
       "      <td>0.151150</td>\n",
       "      <td>0.007159</td>\n",
       "      <td>0.189355</td>\n",
       "      <td>...</td>\n",
       "      <td>0.206103</td>\n",
       "      <td>0.205740</td>\n",
       "      <td>-0.144747</td>\n",
       "      <td>0.356432</td>\n",
       "      <td>0.240464</td>\n",
       "      <td>-0.109873</td>\n",
       "      <td>-0.060221</td>\n",
       "      <td>0.069217</td>\n",
       "      <td>-0.007703</td>\n",
       "      <td>0.046128</td>\n",
       "    </tr>\n",
       "    <tr>\n",
       "      <th>4</th>\n",
       "      <td>-0.108368</td>\n",
       "      <td>0.464694</td>\n",
       "      <td>-0.132620</td>\n",
       "      <td>0.022242</td>\n",
       "      <td>1.000000</td>\n",
       "      <td>-0.017053</td>\n",
       "      <td>3.041396e-01</td>\n",
       "      <td>-0.177743</td>\n",
       "      <td>-0.220897</td>\n",
       "      <td>-0.144779</td>\n",
       "      <td>...</td>\n",
       "      <td>0.103169</td>\n",
       "      <td>0.087989</td>\n",
       "      <td>0.214717</td>\n",
       "      <td>0.180900</td>\n",
       "      <td>-0.009326</td>\n",
       "      <td>0.169455</td>\n",
       "      <td>0.030882</td>\n",
       "      <td>0.057338</td>\n",
       "      <td>0.178008</td>\n",
       "      <td>0.036405</td>\n",
       "    </tr>\n",
       "    <tr>\n",
       "      <th>...</th>\n",
       "      <td>...</td>\n",
       "      <td>...</td>\n",
       "      <td>...</td>\n",
       "      <td>...</td>\n",
       "      <td>...</td>\n",
       "      <td>...</td>\n",
       "      <td>...</td>\n",
       "      <td>...</td>\n",
       "      <td>...</td>\n",
       "      <td>...</td>\n",
       "      <td>...</td>\n",
       "      <td>...</td>\n",
       "      <td>...</td>\n",
       "      <td>...</td>\n",
       "      <td>...</td>\n",
       "      <td>...</td>\n",
       "      <td>...</td>\n",
       "      <td>...</td>\n",
       "      <td>...</td>\n",
       "      <td>...</td>\n",
       "      <td>...</td>\n",
       "    </tr>\n",
       "    <tr>\n",
       "      <th>1995</th>\n",
       "      <td>-0.120034</td>\n",
       "      <td>0.107483</td>\n",
       "      <td>0.172459</td>\n",
       "      <td>-0.109873</td>\n",
       "      <td>0.169455</td>\n",
       "      <td>0.294560</td>\n",
       "      <td>3.344961e-01</td>\n",
       "      <td>-0.072185</td>\n",
       "      <td>0.239051</td>\n",
       "      <td>0.024664</td>\n",
       "      <td>...</td>\n",
       "      <td>-0.070205</td>\n",
       "      <td>-0.122637</td>\n",
       "      <td>-0.126654</td>\n",
       "      <td>-0.051522</td>\n",
       "      <td>-0.086961</td>\n",
       "      <td>1.000000</td>\n",
       "      <td>0.135210</td>\n",
       "      <td>0.000982</td>\n",
       "      <td>-0.136609</td>\n",
       "      <td>-0.159339</td>\n",
       "    </tr>\n",
       "    <tr>\n",
       "      <th>1996</th>\n",
       "      <td>0.310083</td>\n",
       "      <td>-0.063535</td>\n",
       "      <td>0.086781</td>\n",
       "      <td>-0.060221</td>\n",
       "      <td>0.030882</td>\n",
       "      <td>0.032496</td>\n",
       "      <td>2.485953e-02</td>\n",
       "      <td>-0.056673</td>\n",
       "      <td>0.261701</td>\n",
       "      <td>0.108019</td>\n",
       "      <td>...</td>\n",
       "      <td>-0.024283</td>\n",
       "      <td>-0.176198</td>\n",
       "      <td>-0.077185</td>\n",
       "      <td>-0.134451</td>\n",
       "      <td>-0.176198</td>\n",
       "      <td>0.135210</td>\n",
       "      <td>1.000000</td>\n",
       "      <td>0.144263</td>\n",
       "      <td>-0.000574</td>\n",
       "      <td>0.254794</td>\n",
       "    </tr>\n",
       "    <tr>\n",
       "      <th>1997</th>\n",
       "      <td>0.313716</td>\n",
       "      <td>0.400291</td>\n",
       "      <td>0.051358</td>\n",
       "      <td>0.069217</td>\n",
       "      <td>0.057338</td>\n",
       "      <td>0.033579</td>\n",
       "      <td>5.267358e-02</td>\n",
       "      <td>-0.050024</td>\n",
       "      <td>-0.015364</td>\n",
       "      <td>0.015833</td>\n",
       "      <td>...</td>\n",
       "      <td>0.007350</td>\n",
       "      <td>0.239797</td>\n",
       "      <td>-0.006783</td>\n",
       "      <td>0.196663</td>\n",
       "      <td>-0.155066</td>\n",
       "      <td>0.000982</td>\n",
       "      <td>0.144263</td>\n",
       "      <td>1.000000</td>\n",
       "      <td>-0.027633</td>\n",
       "      <td>0.234388</td>\n",
       "    </tr>\n",
       "    <tr>\n",
       "      <th>1998</th>\n",
       "      <td>0.074991</td>\n",
       "      <td>-0.013877</td>\n",
       "      <td>0.030514</td>\n",
       "      <td>-0.007703</td>\n",
       "      <td>0.178008</td>\n",
       "      <td>0.233260</td>\n",
       "      <td>9.382724e-02</td>\n",
       "      <td>0.103210</td>\n",
       "      <td>-0.153682</td>\n",
       "      <td>-0.085007</td>\n",
       "      <td>...</td>\n",
       "      <td>0.127238</td>\n",
       "      <td>0.085610</td>\n",
       "      <td>0.179997</td>\n",
       "      <td>0.232107</td>\n",
       "      <td>0.274978</td>\n",
       "      <td>-0.136609</td>\n",
       "      <td>-0.000574</td>\n",
       "      <td>-0.027633</td>\n",
       "      <td>1.000000</td>\n",
       "      <td>0.151082</td>\n",
       "    </tr>\n",
       "    <tr>\n",
       "      <th>1999</th>\n",
       "      <td>0.170344</td>\n",
       "      <td>-0.082469</td>\n",
       "      <td>0.089081</td>\n",
       "      <td>0.046128</td>\n",
       "      <td>0.036405</td>\n",
       "      <td>-0.165063</td>\n",
       "      <td>3.927462e-17</td>\n",
       "      <td>0.103287</td>\n",
       "      <td>-0.077185</td>\n",
       "      <td>-0.012868</td>\n",
       "      <td>...</td>\n",
       "      <td>0.013103</td>\n",
       "      <td>0.046193</td>\n",
       "      <td>-0.034483</td>\n",
       "      <td>0.003041</td>\n",
       "      <td>-0.159108</td>\n",
       "      <td>-0.159339</td>\n",
       "      <td>0.254794</td>\n",
       "      <td>0.234388</td>\n",
       "      <td>0.151082</td>\n",
       "      <td>1.000000</td>\n",
       "    </tr>\n",
       "  </tbody>\n",
       "</table>\n",
       "<p>2000 rows × 2000 columns</p>\n",
       "</div>"
      ],
      "text/plain": [
       "          0         1         2         3         4         5     \\\n",
       "0     1.000000  0.262518  0.034404 -0.074855 -0.108368 -0.194773   \n",
       "1     0.262518  1.000000 -0.034231  0.052401  0.464694 -0.081251   \n",
       "2     0.034404 -0.034231  1.000000  0.075919 -0.132620  0.253386   \n",
       "3    -0.074855  0.052401  0.075919  1.000000  0.022242  0.023623   \n",
       "4    -0.108368  0.464694 -0.132620  0.022242  1.000000 -0.017053   \n",
       "...        ...       ...       ...       ...       ...       ...   \n",
       "1995 -0.120034  0.107483  0.172459 -0.109873  0.169455  0.294560   \n",
       "1996  0.310083 -0.063535  0.086781 -0.060221  0.030882  0.032496   \n",
       "1997  0.313716  0.400291  0.051358  0.069217  0.057338  0.033579   \n",
       "1998  0.074991 -0.013877  0.030514 -0.007703  0.178008  0.233260   \n",
       "1999  0.170344 -0.082469  0.089081  0.046128  0.036405 -0.165063   \n",
       "\n",
       "              6         7         8         9     ...      1990      1991  \\\n",
       "0    -8.951436e-02  0.054098  0.033878 -0.001378  ... -0.129076 -0.081401   \n",
       "1     3.709019e-02 -0.035832 -0.283842 -0.058665  ... -0.090058  0.055551   \n",
       "2     2.676874e-01  0.203601 -0.169670  0.140130  ...  0.005222  0.112809   \n",
       "3     1.746956e-01  0.151150  0.007159  0.189355  ...  0.206103  0.205740   \n",
       "4     3.041396e-01 -0.177743 -0.220897 -0.144779  ...  0.103169  0.087989   \n",
       "...            ...       ...       ...       ...  ...       ...       ...   \n",
       "1995  3.344961e-01 -0.072185  0.239051  0.024664  ... -0.070205 -0.122637   \n",
       "1996  2.485953e-02 -0.056673  0.261701  0.108019  ... -0.024283 -0.176198   \n",
       "1997  5.267358e-02 -0.050024 -0.015364  0.015833  ...  0.007350  0.239797   \n",
       "1998  9.382724e-02  0.103210 -0.153682 -0.085007  ...  0.127238  0.085610   \n",
       "1999  3.927462e-17  0.103287 -0.077185 -0.012868  ...  0.013103  0.046193   \n",
       "\n",
       "          1992      1993      1994      1995      1996      1997      1998  \\\n",
       "0    -0.155673  0.261700 -0.152572 -0.120034  0.310083  0.313716  0.074991   \n",
       "1     0.125561  0.238557 -0.106641  0.107483 -0.063535  0.400291 -0.013877   \n",
       "2    -0.222269 -0.103192  0.037288  0.172459  0.086781  0.051358  0.030514   \n",
       "3    -0.144747  0.356432  0.240464 -0.109873 -0.060221  0.069217 -0.007703   \n",
       "4     0.214717  0.180900 -0.009326  0.169455  0.030882  0.057338  0.178008   \n",
       "...        ...       ...       ...       ...       ...       ...       ...   \n",
       "1995 -0.126654 -0.051522 -0.086961  1.000000  0.135210  0.000982 -0.136609   \n",
       "1996 -0.077185 -0.134451 -0.176198  0.135210  1.000000  0.144263 -0.000574   \n",
       "1997 -0.006783  0.196663 -0.155066  0.000982  0.144263  1.000000 -0.027633   \n",
       "1998  0.179997  0.232107  0.274978 -0.136609 -0.000574 -0.027633  1.000000   \n",
       "1999 -0.034483  0.003041 -0.159108 -0.159339  0.254794  0.234388  0.151082   \n",
       "\n",
       "          1999  \n",
       "0     0.170344  \n",
       "1    -0.082469  \n",
       "2     0.089081  \n",
       "3     0.046128  \n",
       "4     0.036405  \n",
       "...        ...  \n",
       "1995 -0.159339  \n",
       "1996  0.254794  \n",
       "1997  0.234388  \n",
       "1998  0.151082  \n",
       "1999  1.000000  \n",
       "\n",
       "[2000 rows x 2000 columns]"
      ]
     },
     "execution_count": 353,
     "metadata": {},
     "output_type": "execute_result"
    }
   ],
   "source": [
    "df_corr"
   ]
  },
  {
   "cell_type": "code",
   "execution_count": 354,
   "metadata": {},
   "outputs": [],
   "source": [
    "import random"
   ]
  },
  {
   "cell_type": "code",
   "execution_count": 355,
   "metadata": {},
   "outputs": [
    {
     "name": "stdout",
     "output_type": "stream",
     "text": [
      "Top 15 most similar users to User #1996,\n",
      "\n",
      "          1996\n",
      "914   0.729705\n",
      "721   0.689865\n",
      "548   0.687780\n",
      "1867  0.669235\n",
      "822   0.648429\n",
      "357   0.642070\n",
      "186   0.636321\n",
      "754   0.633981\n",
      "1078  0.626768\n",
      "1814  0.613272\n",
      "1885  0.613035\n",
      "1941  0.578115\n",
      "1868  0.563049\n",
      "134   0.548524\n",
      "396   0.548524\n",
      "\n",
      "The most similar user to User #1996 is User #914\n"
     ]
    }
   ],
   "source": [
    "## Finding the Top 15 Similar Users\n",
    "\n",
    "# Select a random user\n",
    "random_user = random.choice(df_corr.index)\n",
    "\n",
    "print(f\"Top 15 most similar users to User #{random_user},\" + \"\\n\")\n",
    "\n",
    "# Creating a DF with the top 10 most similar users to the selected user\n",
    "top_15_similar = df_corr[[random_user]].sort_values(by=[random_user],axis=0, ascending=False)[1:16]\n",
    "\n",
    "# Printing out the results\n",
    "print(top_15_similar)\n",
    "\n",
    "print(f\"\\nThe most similar user to User #{random_user} is User #{top_15_similar.index[0]}\")"
   ]
  },
  {
   "cell_type": "markdown",
   "metadata": {},
   "source": [
    "## Handling New Users"
   ]
  },
  {
   "cell_type": "markdown",
   "metadata": {},
   "source": [
    "2 approaches: Clustering again and Classification Modeling"
   ]
  },
  {
   "cell_type": "code",
   "execution_count": 384,
   "metadata": {},
   "outputs": [],
   "source": [
    "df_profiles = pd.read_csv('random_chulalongkorn_profiles.csv')"
   ]
  },
  {
   "cell_type": "markdown",
   "metadata": {},
   "source": [
    "### 1) Clustering Again"
   ]
  },
  {
   "cell_type": "code",
   "execution_count": 505,
   "metadata": {},
   "outputs": [],
   "source": [
    "import pandas as pd\n",
    "# pd.set_option('display.max_colwidth', 500)\n",
    "import plotly.express as px\n",
    "from nltk.stem import WordNetLemmatizer\n",
    "from sklearn.preprocessing import MultiLabelBinarizer\n",
    "from sklearn.feature_extraction.text import CountVectorizer\n",
    "from sklearn.decomposition import PCA\n",
    "from sklearn.preprocessing import StandardScaler\n",
    "from sklearn.cluster import KMeans\n",
    "from sklearn.cluster import AgglomerativeClustering\n",
    "from sklearn.metrics import silhouette_score, davies_bouldin_score\n",
    "import random"
   ]
  },
  {
   "cell_type": "markdown",
   "metadata": {},
   "source": [
    "#### Generate extra profiles and combine with old DataFrame"
   ]
  },
  {
   "cell_type": "code",
   "execution_count": 386,
   "metadata": {},
   "outputs": [],
   "source": [
    "# Generate random profiles\n",
    "num_profiles = 1000\n",
    "profiles = [generate_random_profile() for _ in range(num_profiles)]\n",
    "\n",
    "# Convert to DataFrame\n",
    "df_new_profiles = pd.DataFrame(profiles)"
   ]
  },
  {
   "cell_type": "code",
   "execution_count": 387,
   "metadata": {},
   "outputs": [
    {
     "data": {
      "text/plain": [
       "(1000, 9)"
      ]
     },
     "execution_count": 387,
     "metadata": {},
     "output_type": "execute_result"
    }
   ],
   "source": [
    "df_new_profiles.shape"
   ]
  },
  {
   "cell_type": "code",
   "execution_count": 388,
   "metadata": {},
   "outputs": [],
   "source": [
    "df_profiles = pd.read_csv('random_chulalongkorn_profiles.csv')"
   ]
  },
  {
   "cell_type": "code",
   "execution_count": 389,
   "metadata": {},
   "outputs": [
    {
     "data": {
      "text/plain": [
       "(2000, 9)"
      ]
     },
     "execution_count": 389,
     "metadata": {},
     "output_type": "execute_result"
    }
   ],
   "source": [
    "df_profiles.shape"
   ]
  },
  {
   "cell_type": "code",
   "execution_count": 390,
   "metadata": {},
   "outputs": [],
   "source": [
    "df_profiles_withNew = pd.concat([df_profiles, df_new_profiles], axis=0)"
   ]
  },
  {
   "cell_type": "code",
   "execution_count": 391,
   "metadata": {},
   "outputs": [
    {
     "data": {
      "text/plain": [
       "(3000, 9)"
      ]
     },
     "execution_count": 391,
     "metadata": {},
     "output_type": "execute_result"
    }
   ],
   "source": [
    "df_profiles_withNew.shape"
   ]
  },
  {
   "cell_type": "code",
   "execution_count": 392,
   "metadata": {},
   "outputs": [],
   "source": [
    "df_profiles_withNew.to_csv('random_chulalongkorn_profiles_withNewUsers.csv', index=False)"
   ]
  },
  {
   "cell_type": "markdown",
   "metadata": {},
   "source": [
    "#### Tokenization of Bio"
   ]
  },
  {
   "cell_type": "code",
   "execution_count": 393,
   "metadata": {},
   "outputs": [],
   "source": [
    "# Instantiating the lemmatizer\n",
    "lemmatizer = WordNetLemmatizer()\n",
    "\n",
    "# Tokenizing Function\n",
    "def tokenizeAndLemmatize(text):\n",
    "    \"\"\"\n",
    "    Tokenizing the bios of users, then lemmatizing them\n",
    "    \"\"\"\n",
    "    \n",
    "    # Creating a library of stopwords\n",
    "    # stops = stopwords.words('english')\n",
    "    stops = [\n",
    "    'i', 'me', 'my', 'myself', 'we', 'our', 'ours', 'ourselves', 'you', 'your', 'yours', 'yourself', 'yourselves', \n",
    "    'he', 'him', 'his', 'himself', 'she', 'her', 'hers', 'herself', 'it', 'its', 'itself', 'they', 'them', 'their', \n",
    "    'theirs', 'themselves', 'what', 'which', 'who', 'whom', 'this', 'that', 'these', 'those', 'am', 'is', 'are', 'was', \n",
    "    'were', 'be', 'been', 'being', 'have', 'has', 'had', 'having', 'do', 'does', 'did', 'doing', 'a', 'an', 'the', 'and', \n",
    "    'but', 'if', 'or', 'because', 'as', 'until', 'while', 'of', 'at', 'by', 'for', 'with', 'about', 'against', 'between', \n",
    "    'into', 'through', 'during', 'before', 'after', 'above', 'below', 'to', 'from', 'up', 'down', 'in', 'out', 'on', 'off', \n",
    "    'over', 'under', 'again', 'further', 'then', 'once', 'here', 'there', 'when', 'where', 'why', 'how', 'all', 'any', \n",
    "    'both', 'each', 'few', 'more', 'most', 'other', 'some', 'such', 'no', 'nor', 'not', 'only', 'own', 'same', 'so', \n",
    "    'than', 'too', 'very', 's', 't', 'can', 'will', 'just', 'don', 'should', 'now', 'd', 'll', 'm', 'o', 're', 've', 'y', \n",
    "    'ain', 'aren', 'couldn', 'didn', 'doesn', 'hadn', 'hasn', 'haven', 'isn', 'ma', 'mightn', 'mustn', 'needn', 'shan', \n",
    "    'shouldn', 'wasn', 'weren', 'won', 'wouldn', 'mr', \"i'm\", \"i've\", \"i’m\", \"i’ve\", \"you'll\", \"you’ll\", \"who's\", \"who’s\",\n",
    "    \"@\"\n",
    "    ]\n",
    "\n",
    "    \n",
    "    # Lowercasing the words\n",
    "    text = text.lower()\n",
    "    \n",
    "    # Removing the punctuations (periods)\n",
    "    text = text.replace('.', '')\n",
    "    text = text.replace(',', '')\n",
    "\n",
    "    # Removing the \\n\n",
    "    text = text.replace('\\n', ' ')\n",
    "    \n",
    "    # Splitting on spaces between words\n",
    "    text = text.split(' ')\n",
    "    \n",
    "    # Lemmatizing the words and removing stop words\n",
    "    text = [lemmatizer.lemmatize(i) for i in text if i not in stops]\n",
    "    \n",
    "    return text\n"
   ]
  },
  {
   "cell_type": "code",
   "execution_count": 394,
   "metadata": {},
   "outputs": [],
   "source": [
    "# Applying the function to each user bio\n",
    "df_profiles_withNew.loc[:,'Bio_processed'] = df_profiles_withNew.loc[:, 'Bio'].apply(tokenizeAndLemmatize)"
   ]
  },
  {
   "cell_type": "code",
   "execution_count": 395,
   "metadata": {},
   "outputs": [
    {
     "data": {
      "text/html": [
       "<div>\n",
       "<style scoped>\n",
       "    .dataframe tbody tr th:only-of-type {\n",
       "        vertical-align: middle;\n",
       "    }\n",
       "\n",
       "    .dataframe tbody tr th {\n",
       "        vertical-align: top;\n",
       "    }\n",
       "\n",
       "    .dataframe thead th {\n",
       "        text-align: right;\n",
       "    }\n",
       "</style>\n",
       "<table border=\"1\" class=\"dataframe\">\n",
       "  <thead>\n",
       "    <tr style=\"text-align: right;\">\n",
       "      <th></th>\n",
       "      <th>BirthDate</th>\n",
       "      <th>Gender</th>\n",
       "      <th>PreferredGender</th>\n",
       "      <th>LookingFor</th>\n",
       "      <th>Faculty</th>\n",
       "      <th>PersonalTraits</th>\n",
       "      <th>Interests</th>\n",
       "      <th>Values</th>\n",
       "      <th>Bio</th>\n",
       "      <th>Bio_processed</th>\n",
       "    </tr>\n",
       "  </thead>\n",
       "  <tbody>\n",
       "    <tr>\n",
       "      <th>0</th>\n",
       "      <td>2006-02-18</td>\n",
       "      <td>f</td>\n",
       "      <td>others</td>\n",
       "      <td>new friends</td>\n",
       "      <td>Engineering</td>\n",
       "      <td>adventurous, shy</td>\n",
       "      <td>traveling, technology</td>\n",
       "      <td>spirituality, empathy, responsibility</td>\n",
       "      <td>I make the best coffee in town. Don't @ me. No...</td>\n",
       "      <td>[make, best, coffee, town, don't, looking, dat...</td>\n",
       "    </tr>\n",
       "    <tr>\n",
       "      <th>1</th>\n",
       "      <td>2002-08-29</td>\n",
       "      <td>m</td>\n",
       "      <td>m</td>\n",
       "      <td>still figuring it out</td>\n",
       "      <td>Arts</td>\n",
       "      <td>curious, shy, ambitious</td>\n",
       "      <td>technology, photography</td>\n",
       "      <td>respect, independence</td>\n",
       "      <td>I’ve got a collection of 90’s comic books. I'm...</td>\n",
       "      <td>[got, collection, 90’s, comic, book, ready, so...</td>\n",
       "    </tr>\n",
       "    <tr>\n",
       "      <th>2</th>\n",
       "      <td>1999-08-11</td>\n",
       "      <td>others</td>\n",
       "      <td>f</td>\n",
       "      <td>new friends</td>\n",
       "      <td>Business</td>\n",
       "      <td>shy, creative, thoughtful</td>\n",
       "      <td>sports, cooking, technology</td>\n",
       "      <td>independence, loyalty</td>\n",
       "      <td>I can speak three languages, and one of them i...</td>\n",
       "      <td>[speak, three, language, one, sarcasm, looking...</td>\n",
       "    </tr>\n",
       "    <tr>\n",
       "      <th>3</th>\n",
       "      <td>1995-06-21</td>\n",
       "      <td>m</td>\n",
       "      <td>any</td>\n",
       "      <td>long-term partner</td>\n",
       "      <td>Law</td>\n",
       "      <td>outgoing, ambitious, adventurous</td>\n",
       "      <td>fashion, photography</td>\n",
       "      <td>loyalty, respect, spirituality</td>\n",
       "      <td>I’ve got a collection of 90’s comic books. I e...</td>\n",
       "      <td>[got, collection, 90’s, comic, book, enjoy, sp...</td>\n",
       "    </tr>\n",
       "    <tr>\n",
       "      <th>4</th>\n",
       "      <td>1995-05-05</td>\n",
       "      <td>f</td>\n",
       "      <td>f</td>\n",
       "      <td>short-term but long-term OK</td>\n",
       "      <td>Architecture</td>\n",
       "      <td>creative</td>\n",
       "      <td>reading, fashion, traveling</td>\n",
       "      <td>responsibility, loyalty</td>\n",
       "      <td>I’ve got a collection of 90’s comic books. I'm...</td>\n",
       "      <td>[got, collection, 90’s, comic, book, ready, so...</td>\n",
       "    </tr>\n",
       "  </tbody>\n",
       "</table>\n",
       "</div>"
      ],
      "text/plain": [
       "    BirthDate  Gender PreferredGender                   LookingFor  \\\n",
       "0  2006-02-18       f          others                  new friends   \n",
       "1  2002-08-29       m               m        still figuring it out   \n",
       "2  1999-08-11  others               f                  new friends   \n",
       "3  1995-06-21       m             any            long-term partner   \n",
       "4  1995-05-05       f               f  short-term but long-term OK   \n",
       "\n",
       "        Faculty                    PersonalTraits  \\\n",
       "0   Engineering                  adventurous, shy   \n",
       "1          Arts           curious, shy, ambitious   \n",
       "2      Business         shy, creative, thoughtful   \n",
       "3           Law  outgoing, ambitious, adventurous   \n",
       "4  Architecture                          creative   \n",
       "\n",
       "                     Interests                                 Values  \\\n",
       "0        traveling, technology  spirituality, empathy, responsibility   \n",
       "1      technology, photography                  respect, independence   \n",
       "2  sports, cooking, technology                  independence, loyalty   \n",
       "3         fashion, photography         loyalty, respect, spirituality   \n",
       "4  reading, fashion, traveling                responsibility, loyalty   \n",
       "\n",
       "                                                 Bio  \\\n",
       "0  I make the best coffee in town. Don't @ me. No...   \n",
       "1  I’ve got a collection of 90’s comic books. I'm...   \n",
       "2  I can speak three languages, and one of them i...   \n",
       "3  I’ve got a collection of 90’s comic books. I e...   \n",
       "4  I’ve got a collection of 90’s comic books. I'm...   \n",
       "\n",
       "                                       Bio_processed  \n",
       "0  [make, best, coffee, town, don't, looking, dat...  \n",
       "1  [got, collection, 90’s, comic, book, ready, so...  \n",
       "2  [speak, three, language, one, sarcasm, looking...  \n",
       "3  [got, collection, 90’s, comic, book, enjoy, sp...  \n",
       "4  [got, collection, 90’s, comic, book, ready, so...  "
      ]
     },
     "execution_count": 395,
     "metadata": {},
     "output_type": "execute_result"
    }
   ],
   "source": [
    "df_profiles_withNew.head()"
   ]
  },
  {
   "cell_type": "markdown",
   "metadata": {},
   "source": [
    "#### More Data Prep"
   ]
  },
  {
   "cell_type": "code",
   "execution_count": 396,
   "metadata": {},
   "outputs": [],
   "source": [
    "df_profiles_withNew['PersonalTraits'] = df_profiles_withNew['PersonalTraits'].apply(lambda x: x.split(', '))\n",
    "df_profiles_withNew['Interests'] = df_profiles_withNew['Interests'].apply(lambda x: x.split(', '))\n",
    "df_profiles_withNew['Values'] = df_profiles_withNew['Values'].apply(lambda x: x.split(', '))"
   ]
  },
  {
   "cell_type": "markdown",
   "metadata": {},
   "source": [
    "#### Binarization of PersonalTraits, Interests, and Values"
   ]
  },
  {
   "cell_type": "code",
   "execution_count": 397,
   "metadata": {},
   "outputs": [],
   "source": [
    "mlbPersonalTraits = MultiLabelBinarizer()\n",
    "mlbInterests = MultiLabelBinarizer()\n",
    "mlbValues = MultiLabelBinarizer()\n",
    "\n",
    "personal_traits_binarized = pd.DataFrame(mlbPersonalTraits.fit_transform(df_profiles_withNew['PersonalTraits']),\n",
    "                                         columns=mlbPersonalTraits.classes_,\n",
    "                                         index=df_profiles_withNew.index)\n",
    "\n",
    "interests_binarized = pd.DataFrame(mlbInterests.fit_transform(df_profiles_withNew['Interests']),\n",
    "                                   columns=mlbInterests.classes_,\n",
    "                                   index=df_profiles_withNew.index)\n",
    "\n",
    "values_binarized = pd.DataFrame(mlbValues.fit_transform(df_profiles_withNew['Values']),\n",
    "                                columns=mlbValues.classes_,\n",
    "                                index=df_profiles_withNew.index)\n",
    "\n",
    "df_profiles_withNew = pd.concat([df_profiles_withNew, personal_traits_binarized, interests_binarized, values_binarized], axis=1)"
   ]
  },
  {
   "cell_type": "markdown",
   "metadata": {},
   "source": [
    "#### Vectorization of Bio_processed"
   ]
  },
  {
   "cell_type": "code",
   "execution_count": 401,
   "metadata": {},
   "outputs": [
    {
     "name": "stderr",
     "output_type": "stream",
     "text": [
      "/Library/Frameworks/Python.framework/Versions/3.12/lib/python3.12/site-packages/sklearn/feature_extraction/text.py:521: UserWarning:\n",
      "\n",
      "The parameter 'token_pattern' will not be used since 'tokenizer' is not None'\n",
      "\n"
     ]
    }
   ],
   "source": [
    "# (NOT NEEDED IF DID NOT LOAD FROM CSV) Convert the 'Bio_processed' column from string list format to actual list of words for vectorization\n",
    "# df_profiles_withNew['Bio_processed'] = df_profiles_withNew['Bio_processed'].apply(eval)\n",
    "\n",
    "# Apply CountVectorizer to the 'Bio_processed' column\n",
    "vectorizer = CountVectorizer(tokenizer=lambda x: x, lowercase=False)  # use tokenizer that doesn't alter the list\n",
    "bio_matrix = vectorizer.fit_transform(df_profiles_withNew['Bio_processed'])\n",
    "\n",
    "# Convert the result into a DataFrame with the words as columns\n",
    "df_bio_vectorized = pd.DataFrame(bio_matrix.toarray(), columns=vectorizer.get_feature_names_out(), index=df_profiles_withNew.index)\n",
    "\n",
    "df_profiles_withNew = pd.concat([df_profiles_withNew, df_bio_vectorized], axis=1)"
   ]
  },
  {
   "cell_type": "markdown",
   "metadata": {},
   "source": [
    "#### Principal Components Analysis"
   ]
  },
  {
   "cell_type": "code",
   "execution_count": 420,
   "metadata": {},
   "outputs": [],
   "source": [
    "# Standardize the data before applying PCA\n",
    "scaler = StandardScaler()\n",
    "df_scaled = scaler.fit_transform(df_profiles_withNew.drop(columns=['BirthDate', 'Gender', 'PreferredGender', 'LookingFor', 'Faculty', 'PersonalTraits', 'Interests', 'Values', 'Bio', 'Bio_processed']))\n",
    "\n",
    "pca_plot = PCA()\n",
    "pca_plot.fit(df_scaled)\n",
    "\n",
    "# Get the explained variance ratio for each component\n",
    "explained_variance_ratio = pca_plot.explained_variance_ratio_\n",
    "\n",
    "# Create a cumulative sum of the explained variance ratio\n",
    "cumulative_variance = explained_variance_ratio.cumsum()\n",
    "\n",
    "# Finding the exact number of features that explain at least 99% of the variance in the dataset\n",
    "nOver99 = len(cumulative_variance[cumulative_variance>=.99])\n",
    "nToReach99 = df_profiles_withNew.shape[1] - nOver99\n",
    "\n",
    "# Perform PCA to reduce to the number of components determined earlier\n",
    "pca = PCA(n_components=nToReach99)\n",
    "\n",
    "# Fitting and transforming the dataset to the stated number of features\n",
    "pca_result = pca.fit_transform(df_scaled)\n",
    "\n",
    "# Convert the PCA result into a DataFrame with the reduced components\n",
    "df_pca = pd.DataFrame(pca_result, columns=[f'PCA{i+1}' for i in range(nToReach99)])"
   ]
  },
  {
   "cell_type": "code",
   "execution_count": 421,
   "metadata": {},
   "outputs": [
    {
     "data": {
      "text/html": [
       "<div>\n",
       "<style scoped>\n",
       "    .dataframe tbody tr th:only-of-type {\n",
       "        vertical-align: middle;\n",
       "    }\n",
       "\n",
       "    .dataframe tbody tr th {\n",
       "        vertical-align: top;\n",
       "    }\n",
       "\n",
       "    .dataframe thead th {\n",
       "        text-align: right;\n",
       "    }\n",
       "</style>\n",
       "<table border=\"1\" class=\"dataframe\">\n",
       "  <thead>\n",
       "    <tr style=\"text-align: right;\">\n",
       "      <th></th>\n",
       "      <th>PCA1</th>\n",
       "      <th>PCA2</th>\n",
       "      <th>PCA3</th>\n",
       "      <th>PCA4</th>\n",
       "      <th>PCA5</th>\n",
       "      <th>PCA6</th>\n",
       "      <th>PCA7</th>\n",
       "      <th>PCA8</th>\n",
       "      <th>PCA9</th>\n",
       "      <th>PCA10</th>\n",
       "      <th>...</th>\n",
       "      <th>PCA46</th>\n",
       "      <th>PCA47</th>\n",
       "      <th>PCA48</th>\n",
       "      <th>PCA49</th>\n",
       "      <th>PCA50</th>\n",
       "      <th>PCA51</th>\n",
       "      <th>PCA52</th>\n",
       "      <th>PCA53</th>\n",
       "      <th>PCA54</th>\n",
       "      <th>PCA55</th>\n",
       "    </tr>\n",
       "  </thead>\n",
       "  <tbody>\n",
       "    <tr>\n",
       "      <th>0</th>\n",
       "      <td>7.351350</td>\n",
       "      <td>5.777555</td>\n",
       "      <td>4.065911</td>\n",
       "      <td>-5.936966</td>\n",
       "      <td>2.480981</td>\n",
       "      <td>1.874685</td>\n",
       "      <td>1.573155</td>\n",
       "      <td>-0.711071</td>\n",
       "      <td>-0.711909</td>\n",
       "      <td>-1.194904</td>\n",
       "      <td>...</td>\n",
       "      <td>0.716538</td>\n",
       "      <td>-3.078310</td>\n",
       "      <td>0.809673</td>\n",
       "      <td>0.064702</td>\n",
       "      <td>0.365116</td>\n",
       "      <td>-1.318379e-14</td>\n",
       "      <td>9.311464e-14</td>\n",
       "      <td>-4.807222e-14</td>\n",
       "      <td>-2.333764e-14</td>\n",
       "      <td>-1.043988e-15</td>\n",
       "    </tr>\n",
       "    <tr>\n",
       "      <th>1</th>\n",
       "      <td>10.477083</td>\n",
       "      <td>-3.528078</td>\n",
       "      <td>-1.416731</td>\n",
       "      <td>4.362166</td>\n",
       "      <td>1.431422</td>\n",
       "      <td>3.906051</td>\n",
       "      <td>-2.466350</td>\n",
       "      <td>-0.523600</td>\n",
       "      <td>1.498945</td>\n",
       "      <td>-3.989114</td>\n",
       "      <td>...</td>\n",
       "      <td>0.235730</td>\n",
       "      <td>-0.490039</td>\n",
       "      <td>-0.143076</td>\n",
       "      <td>0.793049</td>\n",
       "      <td>0.419210</td>\n",
       "      <td>-3.402823e-14</td>\n",
       "      <td>2.280977e-14</td>\n",
       "      <td>-8.729085e-14</td>\n",
       "      <td>-1.043130e-14</td>\n",
       "      <td>-5.484880e-15</td>\n",
       "    </tr>\n",
       "    <tr>\n",
       "      <th>2</th>\n",
       "      <td>-2.072034</td>\n",
       "      <td>-3.778219</td>\n",
       "      <td>-1.677605</td>\n",
       "      <td>-5.230971</td>\n",
       "      <td>0.650156</td>\n",
       "      <td>-6.645688</td>\n",
       "      <td>-2.467382</td>\n",
       "      <td>-0.792654</td>\n",
       "      <td>1.244501</td>\n",
       "      <td>-2.485830</td>\n",
       "      <td>...</td>\n",
       "      <td>-0.654186</td>\n",
       "      <td>1.944336</td>\n",
       "      <td>-0.397405</td>\n",
       "      <td>0.258123</td>\n",
       "      <td>0.979618</td>\n",
       "      <td>2.981654e-14</td>\n",
       "      <td>-5.034266e-14</td>\n",
       "      <td>-4.921367e-14</td>\n",
       "      <td>-4.208502e-14</td>\n",
       "      <td>2.881939e-14</td>\n",
       "    </tr>\n",
       "    <tr>\n",
       "      <th>3</th>\n",
       "      <td>-3.562889</td>\n",
       "      <td>-4.440197</td>\n",
       "      <td>4.179318</td>\n",
       "      <td>-4.950724</td>\n",
       "      <td>2.813001</td>\n",
       "      <td>-0.907102</td>\n",
       "      <td>-1.667072</td>\n",
       "      <td>2.065455</td>\n",
       "      <td>-0.969727</td>\n",
       "      <td>-2.614278</td>\n",
       "      <td>...</td>\n",
       "      <td>0.728145</td>\n",
       "      <td>-1.510883</td>\n",
       "      <td>0.771250</td>\n",
       "      <td>0.589293</td>\n",
       "      <td>0.521742</td>\n",
       "      <td>2.043515e-14</td>\n",
       "      <td>-6.888338e-14</td>\n",
       "      <td>-1.185987e-14</td>\n",
       "      <td>1.522678e-14</td>\n",
       "      <td>-2.493449e-14</td>\n",
       "    </tr>\n",
       "    <tr>\n",
       "      <th>4</th>\n",
       "      <td>3.570958</td>\n",
       "      <td>-1.193848</td>\n",
       "      <td>-4.785737</td>\n",
       "      <td>8.515946</td>\n",
       "      <td>-1.848989</td>\n",
       "      <td>-1.215578</td>\n",
       "      <td>-2.926977</td>\n",
       "      <td>-1.692120</td>\n",
       "      <td>-4.601682</td>\n",
       "      <td>-1.437521</td>\n",
       "      <td>...</td>\n",
       "      <td>-0.910333</td>\n",
       "      <td>0.145441</td>\n",
       "      <td>-0.339227</td>\n",
       "      <td>-1.108213</td>\n",
       "      <td>0.130805</td>\n",
       "      <td>5.551126e-14</td>\n",
       "      <td>-5.745936e-14</td>\n",
       "      <td>3.730393e-14</td>\n",
       "      <td>1.162051e-14</td>\n",
       "      <td>5.499389e-15</td>\n",
       "    </tr>\n",
       "    <tr>\n",
       "      <th>...</th>\n",
       "      <td>...</td>\n",
       "      <td>...</td>\n",
       "      <td>...</td>\n",
       "      <td>...</td>\n",
       "      <td>...</td>\n",
       "      <td>...</td>\n",
       "      <td>...</td>\n",
       "      <td>...</td>\n",
       "      <td>...</td>\n",
       "      <td>...</td>\n",
       "      <td>...</td>\n",
       "      <td>...</td>\n",
       "      <td>...</td>\n",
       "      <td>...</td>\n",
       "      <td>...</td>\n",
       "      <td>...</td>\n",
       "      <td>...</td>\n",
       "      <td>...</td>\n",
       "      <td>...</td>\n",
       "      <td>...</td>\n",
       "      <td>...</td>\n",
       "    </tr>\n",
       "    <tr>\n",
       "      <th>2995</th>\n",
       "      <td>6.560244</td>\n",
       "      <td>-3.266607</td>\n",
       "      <td>0.876144</td>\n",
       "      <td>-2.347044</td>\n",
       "      <td>1.664735</td>\n",
       "      <td>0.511679</td>\n",
       "      <td>0.573392</td>\n",
       "      <td>-3.668138</td>\n",
       "      <td>4.557139</td>\n",
       "      <td>5.021375</td>\n",
       "      <td>...</td>\n",
       "      <td>-0.246347</td>\n",
       "      <td>-0.054261</td>\n",
       "      <td>-0.001116</td>\n",
       "      <td>-0.647725</td>\n",
       "      <td>-0.363994</td>\n",
       "      <td>-9.393864e-14</td>\n",
       "      <td>6.748236e-14</td>\n",
       "      <td>-5.886914e-14</td>\n",
       "      <td>1.307767e-14</td>\n",
       "      <td>-3.633520e-14</td>\n",
       "    </tr>\n",
       "    <tr>\n",
       "      <th>2996</th>\n",
       "      <td>1.286917</td>\n",
       "      <td>4.497144</td>\n",
       "      <td>-3.375070</td>\n",
       "      <td>7.880866</td>\n",
       "      <td>-2.401286</td>\n",
       "      <td>-4.838856</td>\n",
       "      <td>4.970375</td>\n",
       "      <td>5.413321</td>\n",
       "      <td>-2.203069</td>\n",
       "      <td>2.219277</td>\n",
       "      <td>...</td>\n",
       "      <td>0.630378</td>\n",
       "      <td>-1.347281</td>\n",
       "      <td>-0.340210</td>\n",
       "      <td>-0.418818</td>\n",
       "      <td>0.595598</td>\n",
       "      <td>-3.283361e-15</td>\n",
       "      <td>-3.398150e-14</td>\n",
       "      <td>2.854888e-15</td>\n",
       "      <td>1.290299e-14</td>\n",
       "      <td>-1.601197e-14</td>\n",
       "    </tr>\n",
       "    <tr>\n",
       "      <th>2997</th>\n",
       "      <td>0.587834</td>\n",
       "      <td>8.417921</td>\n",
       "      <td>-1.790452</td>\n",
       "      <td>4.782596</td>\n",
       "      <td>1.677359</td>\n",
       "      <td>-1.479179</td>\n",
       "      <td>-1.590136</td>\n",
       "      <td>-2.366669</td>\n",
       "      <td>-4.273723</td>\n",
       "      <td>0.756618</td>\n",
       "      <td>...</td>\n",
       "      <td>1.114243</td>\n",
       "      <td>-1.947476</td>\n",
       "      <td>0.099128</td>\n",
       "      <td>0.046827</td>\n",
       "      <td>0.040188</td>\n",
       "      <td>7.130418e-14</td>\n",
       "      <td>1.970114e-14</td>\n",
       "      <td>2.553556e-14</td>\n",
       "      <td>-1.881348e-14</td>\n",
       "      <td>2.595525e-14</td>\n",
       "    </tr>\n",
       "    <tr>\n",
       "      <th>2998</th>\n",
       "      <td>-2.393300</td>\n",
       "      <td>-3.795563</td>\n",
       "      <td>4.877054</td>\n",
       "      <td>2.668644</td>\n",
       "      <td>-2.846419</td>\n",
       "      <td>2.341084</td>\n",
       "      <td>-1.634696</td>\n",
       "      <td>0.165156</td>\n",
       "      <td>-0.744430</td>\n",
       "      <td>-4.536765</td>\n",
       "      <td>...</td>\n",
       "      <td>-0.903826</td>\n",
       "      <td>1.296996</td>\n",
       "      <td>-0.012267</td>\n",
       "      <td>-0.156573</td>\n",
       "      <td>0.106914</td>\n",
       "      <td>-1.487688e-14</td>\n",
       "      <td>-1.809430e-15</td>\n",
       "      <td>4.224008e-14</td>\n",
       "      <td>3.255992e-14</td>\n",
       "      <td>-1.437794e-14</td>\n",
       "    </tr>\n",
       "    <tr>\n",
       "      <th>2999</th>\n",
       "      <td>-2.347392</td>\n",
       "      <td>-2.206325</td>\n",
       "      <td>2.574427</td>\n",
       "      <td>5.797775</td>\n",
       "      <td>5.876637</td>\n",
       "      <td>2.098903</td>\n",
       "      <td>-3.369024</td>\n",
       "      <td>-0.167614</td>\n",
       "      <td>-2.544137</td>\n",
       "      <td>2.204898</td>\n",
       "      <td>...</td>\n",
       "      <td>-0.224660</td>\n",
       "      <td>1.113843</td>\n",
       "      <td>0.895283</td>\n",
       "      <td>-0.555978</td>\n",
       "      <td>-0.796134</td>\n",
       "      <td>1.240685e-14</td>\n",
       "      <td>-5.032618e-14</td>\n",
       "      <td>-4.485691e-14</td>\n",
       "      <td>-1.576254e-14</td>\n",
       "      <td>1.823486e-14</td>\n",
       "    </tr>\n",
       "  </tbody>\n",
       "</table>\n",
       "<p>3000 rows × 55 columns</p>\n",
       "</div>"
      ],
      "text/plain": [
       "           PCA1      PCA2      PCA3      PCA4      PCA5      PCA6      PCA7  \\\n",
       "0      7.351350  5.777555  4.065911 -5.936966  2.480981  1.874685  1.573155   \n",
       "1     10.477083 -3.528078 -1.416731  4.362166  1.431422  3.906051 -2.466350   \n",
       "2     -2.072034 -3.778219 -1.677605 -5.230971  0.650156 -6.645688 -2.467382   \n",
       "3     -3.562889 -4.440197  4.179318 -4.950724  2.813001 -0.907102 -1.667072   \n",
       "4      3.570958 -1.193848 -4.785737  8.515946 -1.848989 -1.215578 -2.926977   \n",
       "...         ...       ...       ...       ...       ...       ...       ...   \n",
       "2995   6.560244 -3.266607  0.876144 -2.347044  1.664735  0.511679  0.573392   \n",
       "2996   1.286917  4.497144 -3.375070  7.880866 -2.401286 -4.838856  4.970375   \n",
       "2997   0.587834  8.417921 -1.790452  4.782596  1.677359 -1.479179 -1.590136   \n",
       "2998  -2.393300 -3.795563  4.877054  2.668644 -2.846419  2.341084 -1.634696   \n",
       "2999  -2.347392 -2.206325  2.574427  5.797775  5.876637  2.098903 -3.369024   \n",
       "\n",
       "          PCA8      PCA9     PCA10  ...     PCA46     PCA47     PCA48  \\\n",
       "0    -0.711071 -0.711909 -1.194904  ...  0.716538 -3.078310  0.809673   \n",
       "1    -0.523600  1.498945 -3.989114  ...  0.235730 -0.490039 -0.143076   \n",
       "2    -0.792654  1.244501 -2.485830  ... -0.654186  1.944336 -0.397405   \n",
       "3     2.065455 -0.969727 -2.614278  ...  0.728145 -1.510883  0.771250   \n",
       "4    -1.692120 -4.601682 -1.437521  ... -0.910333  0.145441 -0.339227   \n",
       "...        ...       ...       ...  ...       ...       ...       ...   \n",
       "2995 -3.668138  4.557139  5.021375  ... -0.246347 -0.054261 -0.001116   \n",
       "2996  5.413321 -2.203069  2.219277  ...  0.630378 -1.347281 -0.340210   \n",
       "2997 -2.366669 -4.273723  0.756618  ...  1.114243 -1.947476  0.099128   \n",
       "2998  0.165156 -0.744430 -4.536765  ... -0.903826  1.296996 -0.012267   \n",
       "2999 -0.167614 -2.544137  2.204898  ... -0.224660  1.113843  0.895283   \n",
       "\n",
       "         PCA49     PCA50         PCA51         PCA52         PCA53  \\\n",
       "0     0.064702  0.365116 -1.318379e-14  9.311464e-14 -4.807222e-14   \n",
       "1     0.793049  0.419210 -3.402823e-14  2.280977e-14 -8.729085e-14   \n",
       "2     0.258123  0.979618  2.981654e-14 -5.034266e-14 -4.921367e-14   \n",
       "3     0.589293  0.521742  2.043515e-14 -6.888338e-14 -1.185987e-14   \n",
       "4    -1.108213  0.130805  5.551126e-14 -5.745936e-14  3.730393e-14   \n",
       "...        ...       ...           ...           ...           ...   \n",
       "2995 -0.647725 -0.363994 -9.393864e-14  6.748236e-14 -5.886914e-14   \n",
       "2996 -0.418818  0.595598 -3.283361e-15 -3.398150e-14  2.854888e-15   \n",
       "2997  0.046827  0.040188  7.130418e-14  1.970114e-14  2.553556e-14   \n",
       "2998 -0.156573  0.106914 -1.487688e-14 -1.809430e-15  4.224008e-14   \n",
       "2999 -0.555978 -0.796134  1.240685e-14 -5.032618e-14 -4.485691e-14   \n",
       "\n",
       "             PCA54         PCA55  \n",
       "0    -2.333764e-14 -1.043988e-15  \n",
       "1    -1.043130e-14 -5.484880e-15  \n",
       "2    -4.208502e-14  2.881939e-14  \n",
       "3     1.522678e-14 -2.493449e-14  \n",
       "4     1.162051e-14  5.499389e-15  \n",
       "...            ...           ...  \n",
       "2995  1.307767e-14 -3.633520e-14  \n",
       "2996  1.290299e-14 -1.601197e-14  \n",
       "2997 -1.881348e-14  2.595525e-14  \n",
       "2998  3.255992e-14 -1.437794e-14  \n",
       "2999 -1.576254e-14  1.823486e-14  \n",
       "\n",
       "[3000 rows x 55 columns]"
      ]
     },
     "execution_count": 421,
     "metadata": {},
     "output_type": "execute_result"
    }
   ],
   "source": [
    "df_pca"
   ]
  },
  {
   "cell_type": "markdown",
   "metadata": {},
   "source": [
    "#### Clustering Dating Profiles"
   ]
  },
  {
   "cell_type": "code",
   "execution_count": 463,
   "metadata": {},
   "outputs": [],
   "source": [
    "# Create lists to store the results for both clustering algorithms and metrics\n",
    "silhouette_results = []\n",
    "davies_bouldin_results = []\n",
    "cluster_numbers = []\n",
    "\n",
    "# Number of clusters to test\n",
    "cluster_range = range(2, 11)\n",
    "\n",
    "# Loop through both KMeans and Agglomerative Clustering\n",
    "for algorithm in ['KMeans', 'Agglomerative']:\n",
    "    for n_clusters in cluster_range:\n",
    "        \n",
    "        # Fit the selected clustering algorithm\n",
    "        if algorithm == 'KMeans':\n",
    "            model = KMeans(n_clusters=n_clusters)\n",
    "        elif algorithm == 'Agglomerative':\n",
    "            model = AgglomerativeClustering(n_clusters=n_clusters)\n",
    "        \n",
    "        # Fit the model to the PCA data (assumed PCA data in df_pca)\n",
    "        model.fit(df_pca)\n",
    "        \n",
    "        # Get the predicted labels (clusters)\n",
    "        labels = model.labels_\n",
    "        \n",
    "        # Compute the evaluation metrics\n",
    "        silhouette = silhouette_score(df_pca, labels)\n",
    "        davies_bouldin = davies_bouldin_score(df_pca, labels)\n",
    "        \n",
    "        # Store the results\n",
    "        silhouette_results.append(silhouette)\n",
    "        davies_bouldin_results.append(davies_bouldin)\n",
    "        cluster_numbers.append(n_clusters)"
   ]
  },
  {
   "cell_type": "code",
   "execution_count": 461,
   "metadata": {},
   "outputs": [],
   "source": [
    "# def evaluate_cluster(y, x):\n",
    "#     \"\"\"\n",
    "#     Prints the top 3 clusters based on the evaluation score. \n",
    "#     Prints out the top 3 highest and lowest cluster scores.\n",
    "#     \"\"\"\n",
    "    \n",
    "#     # Creating a DataFrame for returning the cluster scores\n",
    "#     df = pd.DataFrame(columns=['Cluster_Score'], index=[i for i in range(2, len(y)+2)])\n",
    "#     df['Cluster_Score'] = y\n",
    "    \n",
    "#     # Get the top 3 maximum scores\n",
    "#     top_max = df.nlargest(3, 'Cluster_Score')\n",
    "#     print('Top 3 Max Values:')\n",
    "#     print(top_max)\n",
    "    \n",
    "#     # Get the top 3 minimum scores\n",
    "#     top_min = df.nsmallest(3, 'Cluster_Score')\n",
    "#     print('\\nTop 3 Min Values:')\n",
    "#     print(top_min)\n",
    "    \n",
    "    \n",
    "# print(\"\\nThe Silhouette Coefficient Score (find top 3 max and min scores):\")\n",
    "# evaluate_cluster(silhouette_results, cluster_numbers)\n",
    "\n",
    "# print(\"\\nThe Davies-Bouldin Score (find top 3 max and min scores):\")\n",
    "# evaluate_cluster(davies_bouldin_results, cluster_numbers)"
   ]
  },
  {
   "cell_type": "code",
   "execution_count": null,
   "metadata": {},
   "outputs": [
    {
     "name": "stdout",
     "output_type": "stream",
     "text": [
      "\n",
      "The Silhouette Score (top 3 max) and Davies-Bouldin Score (top 3 min):\n",
      "Top 3 Max Silhouette Scores:\n",
      "   Cluster_Score\n",
      "5       0.122357\n",
      "6       0.114993\n",
      "4       0.092650\n",
      "\n",
      "Top 3 Min Davies-Bouldin Scores:\n",
      "    Cluster_Score\n",
      "6        2.509046\n",
      "19       2.570958\n",
      "5        2.578469\n",
      "\n",
      "Common Clusters Between Top 3 Silhouette and Davies-Bouldin Scores: [5, 6]\n"
     ]
    }
   ],
   "source": [
    "def evaluate_cluster_and_find_common(y_silhouette, x_silhouette, y_db, x_db):\n",
    "    \"\"\"\n",
    "    Prints the top 3 clusters based on the evaluation score for Silhouette and Davies-Bouldin.\n",
    "    Also finds and prints the common cluster numbers between the top 3 Silhouette and top 3 Davies-Bouldin.\n",
    "    \"\"\"\n",
    "    \n",
    "    # Creating DataFrame for Silhouette Score (max scores)\n",
    "    df_silhouette = pd.DataFrame(columns=['Cluster_Score'], index=[i for i in range(2, len(y_silhouette)+2)])\n",
    "    df_silhouette['Cluster_Score'] = y_silhouette\n",
    "    \n",
    "    # Creating DataFrame for Davies-Bouldin Score (min scores)\n",
    "    df_db = pd.DataFrame(columns=['Cluster_Score'], index=[i for i in range(2, len(y_db)+2)])\n",
    "    df_db['Cluster_Score'] = y_db\n",
    "    \n",
    "    # Get the top 3 maximum scores for Silhouette Coefficient\n",
    "    top_max_silhouette = df_silhouette.nlargest(3, 'Cluster_Score')\n",
    "    print('Top 3 Max Silhouette Scores:')\n",
    "    print(top_max_silhouette)\n",
    "    \n",
    "    # Get the top 3 minimum scores for Davies-Bouldin\n",
    "    top_min_db = df_db.nsmallest(3, 'Cluster_Score')\n",
    "    print('\\nTop 3 Min Davies-Bouldin Scores:')\n",
    "    print(top_min_db)\n",
    "    \n",
    "    # Find the common cluster numbers between the top 3 Silhouette and top 3 Davies-Bouldin\n",
    "    common_clusters = list(set(top_max_silhouette.index).intersection(set(top_min_db.index)))\n",
    "    \n",
    "    if common_clusters:\n",
    "        print(\"\\nCommon Clusters Between Top 3 Silhouette and Davies-Bouldin Scores:\", common_clusters)\n",
    "        return common_clusters\n",
    "    else:\n",
    "        print(\"\\nNo common clusters found between the top 3 Silhouette and Davies-Bouldin Scores.\")\n",
    "\n",
    "# Call the function to print results and find common clusters\n",
    "print(\"\\nThe Silhouette Score (top 3 max) and Davies-Bouldin Score (top 3 min):\")\n",
    "common_clusters = evaluate_cluster_and_find_common(silhouette_results, cluster_numbers, davies_bouldin_results, cluster_numbers)"
   ]
  },
  {
   "cell_type": "markdown",
   "metadata": {},
   "source": [
    "#### Choosing Clustering Alogrithm"
   ]
  },
  {
   "cell_type": "code",
   "execution_count": 474,
   "metadata": {},
   "outputs": [],
   "source": [
    "# Instantiating HAC\n",
    "hac = AgglomerativeClustering(n_clusters=common_clusters[0])\n",
    "\n",
    "# Fitting\n",
    "hac.fit(df_pca)\n",
    "\n",
    "# Assigning clusters\n",
    "cluster_assignments = hac.labels_"
   ]
  },
  {
   "cell_type": "code",
   "execution_count": 495,
   "metadata": {},
   "outputs": [],
   "source": [
    "df_final = pd.read_csv('random_chulalongkorn_profiles_withNewUsers.csv')"
   ]
  },
  {
   "cell_type": "code",
   "execution_count": 496,
   "metadata": {},
   "outputs": [],
   "source": [
    "# Assigning the clusters to each profile\n",
    "df_final['Cluster_Number'] = cluster_assignments"
   ]
  },
  {
   "cell_type": "markdown",
   "metadata": {},
   "source": [
    "#### Organizing Dating Profiles"
   ]
  },
  {
   "cell_type": "code",
   "execution_count": 502,
   "metadata": {},
   "outputs": [],
   "source": [
    "df_corr = df_profiles_withNew.drop(columns=['BirthDate', 'Gender', 'PreferredGender', 'LookingFor', 'Faculty',\n",
    "       'PersonalTraits', 'Interests', 'Values', 'Bio', 'Bio_processed'])"
   ]
  },
  {
   "cell_type": "code",
   "execution_count": 503,
   "metadata": {},
   "outputs": [],
   "source": [
    "df_corr = df_corr.T.corr()"
   ]
  },
  {
   "cell_type": "code",
   "execution_count": 549,
   "metadata": {},
   "outputs": [],
   "source": [
    "# # Finding Top 15 most similar users without using Cluster_Number\n",
    "\n",
    "# # Select a random user\n",
    "# # random_user = random.choice(df_corr.index)\n",
    "# random_user=1131\n",
    "\n",
    "# print(f\"Top 15 most similar users to User #{random_user},\" + \"\\n\")\n",
    "\n",
    "# # Creating a DF with the top 10 most similar users to the selected user\n",
    "# top_15_similar = df_corr[[random_user]].sort_values(by=[random_user],axis=0, ascending=False)[1:16]\n",
    "\n",
    "# # Printing out the results\n",
    "# print(top_15_similar)\n",
    "\n",
    "# print(f\"\\nThe most similar user to User #{random_user} is User #{top_15_similar.index[0]}\")"
   ]
  },
  {
   "cell_type": "code",
   "execution_count": 550,
   "metadata": {},
   "outputs": [
    {
     "name": "stdout",
     "output_type": "stream",
     "text": [
      "Top 15 most similar users to User #68,\n",
      "\n",
      "            68\n",
      "269   0.796643\n",
      "680   0.782554\n",
      "171   0.778209\n",
      "920   0.760030\n",
      "1298  0.745547\n",
      "942   0.684194\n",
      "367   0.677161\n",
      "1073  0.674616\n",
      "550   0.667970\n",
      "1620  0.631104\n",
      "160   0.630616\n",
      "797   0.624935\n",
      "496   0.619916\n",
      "586   0.618860\n",
      "1845  0.617576\n",
      "\n",
      "The most similar user to User #68 in the same cluster is User #269\n"
     ]
    }
   ],
   "source": [
    "# Finding Top 15 most similar users from the same cluster\n",
    "\n",
    "# Remove duplicate indices and columns from df_corr if any\n",
    "df_corr = df_corr.loc[~df_corr.index.duplicated(keep='first')]\n",
    "df_corr = df_corr.loc[:, ~df_corr.columns.duplicated(keep='first')]\n",
    "\n",
    "# Now select a random user from df_corr (which now has unique labels)\n",
    "random_user = random.choice(df_corr.index)\n",
    "print(f\"Top 15 most similar users to User #{random_user},\\n\")\n",
    "\n",
    "# Get the cluster number of the selected random user from df_final\n",
    "random_user_cluster = df_final.loc[random_user, 'Cluster_Number']\n",
    "\n",
    "# Get indices for users in the same cluster from df_final\n",
    "cluster_indices = df_final[df_final['Cluster_Number'] == random_user_cluster].index\n",
    "\n",
    "# Compute the intersection of these indices with those in df_corr to ensure they exist in both DataFrames\n",
    "common_indices = df_corr.index.intersection(cluster_indices)\n",
    "\n",
    "# Filter the correlation matrix to only include users in the same cluster\n",
    "df_corr_cluster = df_corr.loc[common_indices, common_indices]\n",
    "\n",
    "# Find the top 15 most similar users within the same cluster (excluding the user itself)\n",
    "top_15_similar_cluster = df_corr_cluster[[random_user]].sort_values(by=[random_user], ascending=False)[1:16]\n",
    "\n",
    "# Print the results\n",
    "print(top_15_similar_cluster)\n",
    "print(f\"\\nThe most similar user to User #{random_user} in the same cluster is User #{top_15_similar_cluster.index[0]}\")\n"
   ]
  },
  {
   "cell_type": "markdown",
   "metadata": {},
   "source": [
    "### 2) Classification Modeling"
   ]
  },
  {
   "cell_type": "markdown",
   "metadata": {},
   "source": [
    "For this to work, we need 2 things: new user(s) and classification model(s)."
   ]
  },
  {
   "cell_type": "markdown",
   "metadata": {},
   "source": [
    "#### Creating a new user"
   ]
  },
  {
   "cell_type": "code",
   "execution_count": 4,
   "metadata": {},
   "outputs": [],
   "source": [
    "temp = pd.read_csv(\"random_chulalongkorn_profiles.csv\")"
   ]
  },
  {
   "cell_type": "code",
   "execution_count": 9,
   "metadata": {},
   "outputs": [
    {
     "data": {
      "text/html": [
       "<div>\n",
       "<style scoped>\n",
       "    .dataframe tbody tr th:only-of-type {\n",
       "        vertical-align: middle;\n",
       "    }\n",
       "\n",
       "    .dataframe tbody tr th {\n",
       "        vertical-align: top;\n",
       "    }\n",
       "\n",
       "    .dataframe thead th {\n",
       "        text-align: right;\n",
       "    }\n",
       "</style>\n",
       "<table border=\"1\" class=\"dataframe\">\n",
       "  <thead>\n",
       "    <tr style=\"text-align: right;\">\n",
       "      <th></th>\n",
       "      <th>BirthDate</th>\n",
       "      <th>Gender</th>\n",
       "      <th>PreferredGender</th>\n",
       "      <th>LookingFor</th>\n",
       "      <th>Faculty</th>\n",
       "      <th>PersonalTraits</th>\n",
       "      <th>Interests</th>\n",
       "      <th>Values</th>\n",
       "      <th>Bio</th>\n",
       "    </tr>\n",
       "  </thead>\n",
       "  <tbody>\n",
       "    <tr>\n",
       "      <th>0</th>\n",
       "      <td>2006-02-18</td>\n",
       "      <td>f</td>\n",
       "      <td>others</td>\n",
       "      <td>new friends</td>\n",
       "      <td>Engineering</td>\n",
       "      <td>adventurous, shy</td>\n",
       "      <td>traveling, technology</td>\n",
       "      <td>spirituality, empathy, responsibility</td>\n",
       "      <td>I make the best coffee in town. Don't @ me. No...</td>\n",
       "    </tr>\n",
       "    <tr>\n",
       "      <th>1</th>\n",
       "      <td>2002-08-29</td>\n",
       "      <td>m</td>\n",
       "      <td>m</td>\n",
       "      <td>still figuring it out</td>\n",
       "      <td>Arts</td>\n",
       "      <td>curious, shy, ambitious</td>\n",
       "      <td>technology, photography</td>\n",
       "      <td>respect, independence</td>\n",
       "      <td>I’ve got a collection of 90’s comic books. I'm...</td>\n",
       "    </tr>\n",
       "    <tr>\n",
       "      <th>2</th>\n",
       "      <td>1999-08-11</td>\n",
       "      <td>others</td>\n",
       "      <td>f</td>\n",
       "      <td>new friends</td>\n",
       "      <td>Business</td>\n",
       "      <td>shy, creative, thoughtful</td>\n",
       "      <td>sports, cooking, technology</td>\n",
       "      <td>independence, loyalty</td>\n",
       "      <td>I can speak three languages, and one of them i...</td>\n",
       "    </tr>\n",
       "    <tr>\n",
       "      <th>3</th>\n",
       "      <td>1995-06-21</td>\n",
       "      <td>m</td>\n",
       "      <td>any</td>\n",
       "      <td>long-term partner</td>\n",
       "      <td>Law</td>\n",
       "      <td>outgoing, ambitious, adventurous</td>\n",
       "      <td>fashion, photography</td>\n",
       "      <td>loyalty, respect, spirituality</td>\n",
       "      <td>I’ve got a collection of 90’s comic books. I e...</td>\n",
       "    </tr>\n",
       "    <tr>\n",
       "      <th>4</th>\n",
       "      <td>1995-05-05</td>\n",
       "      <td>f</td>\n",
       "      <td>f</td>\n",
       "      <td>short-term but long-term OK</td>\n",
       "      <td>Architecture</td>\n",
       "      <td>creative</td>\n",
       "      <td>reading, fashion, traveling</td>\n",
       "      <td>responsibility, loyalty</td>\n",
       "      <td>I’ve got a collection of 90’s comic books. I'm...</td>\n",
       "    </tr>\n",
       "  </tbody>\n",
       "</table>\n",
       "</div>"
      ],
      "text/plain": [
       "    BirthDate  Gender PreferredGender                   LookingFor  \\\n",
       "0  2006-02-18       f          others                  new friends   \n",
       "1  2002-08-29       m               m        still figuring it out   \n",
       "2  1999-08-11  others               f                  new friends   \n",
       "3  1995-06-21       m             any            long-term partner   \n",
       "4  1995-05-05       f               f  short-term but long-term OK   \n",
       "\n",
       "        Faculty                    PersonalTraits  \\\n",
       "0   Engineering                  adventurous, shy   \n",
       "1          Arts           curious, shy, ambitious   \n",
       "2      Business         shy, creative, thoughtful   \n",
       "3           Law  outgoing, ambitious, adventurous   \n",
       "4  Architecture                          creative   \n",
       "\n",
       "                     Interests                                 Values  \\\n",
       "0        traveling, technology  spirituality, empathy, responsibility   \n",
       "1      technology, photography                  respect, independence   \n",
       "2  sports, cooking, technology                  independence, loyalty   \n",
       "3         fashion, photography         loyalty, respect, spirituality   \n",
       "4  reading, fashion, traveling                responsibility, loyalty   \n",
       "\n",
       "                                                 Bio  \n",
       "0  I make the best coffee in town. Don't @ me. No...  \n",
       "1  I’ve got a collection of 90’s comic books. I'm...  \n",
       "2  I can speak three languages, and one of them i...  \n",
       "3  I’ve got a collection of 90’s comic books. I e...  \n",
       "4  I’ve got a collection of 90’s comic books. I'm...  "
      ]
     },
     "execution_count": 9,
     "metadata": {},
     "output_type": "execute_result"
    }
   ],
   "source": [
    "temp.head()"
   ]
  },
  {
   "cell_type": "code",
   "execution_count": 8,
   "metadata": {},
   "outputs": [],
   "source": [
    "def CreateNewUser(BirthDate, Gender, PreferredGender, LookingFor, Faculty, PersonalTraits, Interests, Values, Bio):\n",
    "    return pd.DataFrame(\n",
    "        {\n",
    "            'BirthDate': [BirthDate],\n",
    "            'Gender': [Gender],\n",
    "            'PreferredGender': [PreferredGender],\n",
    "            'LookingFor': [LookingFor],\n",
    "            'Faculty': [Faculty],\n",
    "            'PersonalTraits': [PersonalTraits],\n",
    "            'Interests': [Interests],\n",
    "            'Values': [Values],\n",
    "            'Bio': [Bio]\n",
    "        }\n",
    "    )"
   ]
  },
  {
   "cell_type": "code",
   "execution_count": 10,
   "metadata": {},
   "outputs": [],
   "source": [
    "NewUser = CreateNewUser(\"2005-03-16\", \n",
    "                        \"f\", \"m\", \n",
    "                        \"long-term partner\", \n",
    "                        \"Engineering\", \n",
    "                        \"creative, thoughtful\", \n",
    "                        \"fashion, traveling\", \n",
    "                        \"empathy, royalty, respect\",\n",
    "                        \"I like to watch series and sleep late.\"\n",
    "                        )"
   ]
  },
  {
   "cell_type": "code",
   "execution_count": 11,
   "metadata": {},
   "outputs": [
    {
     "data": {
      "text/html": [
       "<div>\n",
       "<style scoped>\n",
       "    .dataframe tbody tr th:only-of-type {\n",
       "        vertical-align: middle;\n",
       "    }\n",
       "\n",
       "    .dataframe tbody tr th {\n",
       "        vertical-align: top;\n",
       "    }\n",
       "\n",
       "    .dataframe thead th {\n",
       "        text-align: right;\n",
       "    }\n",
       "</style>\n",
       "<table border=\"1\" class=\"dataframe\">\n",
       "  <thead>\n",
       "    <tr style=\"text-align: right;\">\n",
       "      <th></th>\n",
       "      <th>BirthDate</th>\n",
       "      <th>Gender</th>\n",
       "      <th>PreferredGender</th>\n",
       "      <th>LookingFor</th>\n",
       "      <th>Faculty</th>\n",
       "      <th>PersonalTraits</th>\n",
       "      <th>Interests</th>\n",
       "      <th>Values</th>\n",
       "      <th>Bio</th>\n",
       "    </tr>\n",
       "  </thead>\n",
       "  <tbody>\n",
       "    <tr>\n",
       "      <th>0</th>\n",
       "      <td>2005-03-16</td>\n",
       "      <td>f</td>\n",
       "      <td>m</td>\n",
       "      <td>long-term partner</td>\n",
       "      <td>Engineering</td>\n",
       "      <td>creative, thoughtful</td>\n",
       "      <td>fashion, traveling</td>\n",
       "      <td>empathy, royalty, respect</td>\n",
       "      <td>I like to watch series and sleep late.</td>\n",
       "    </tr>\n",
       "  </tbody>\n",
       "</table>\n",
       "</div>"
      ],
      "text/plain": [
       "    BirthDate Gender PreferredGender         LookingFor      Faculty  \\\n",
       "0  2005-03-16      f               m  long-term partner  Engineering   \n",
       "\n",
       "         PersonalTraits           Interests                     Values  \\\n",
       "0  creative, thoughtful  fashion, traveling  empathy, royalty, respect   \n",
       "\n",
       "                                      Bio  \n",
       "0  I like to watch series and sleep late.  "
      ]
     },
     "execution_count": 11,
     "metadata": {},
     "output_type": "execute_result"
    }
   ],
   "source": [
    "NewUser"
   ]
  },
  {
   "cell_type": "markdown",
   "metadata": {},
   "source": [
    "#### Classification Models"
   ]
  },
  {
   "cell_type": "code",
   "execution_count": null,
   "metadata": {},
   "outputs": [],
   "source": []
  }
 ],
 "metadata": {
  "kernelspec": {
   "display_name": "Python 3",
   "language": "python",
   "name": "python3"
  },
  "language_info": {
   "codemirror_mode": {
    "name": "ipython",
    "version": 3
   },
   "file_extension": ".py",
   "mimetype": "text/x-python",
   "name": "python",
   "nbconvert_exporter": "python",
   "pygments_lexer": "ipython3",
   "version": "3.12.1"
  }
 },
 "nbformat": 4,
 "nbformat_minor": 2
}
