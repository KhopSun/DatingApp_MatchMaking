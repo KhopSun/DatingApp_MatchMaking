{
 "cells": [
  {
   "cell_type": "markdown",
   "metadata": {},
   "source": [
    "## Main Library"
   ]
  },
  {
   "cell_type": "code",
   "execution_count": 2,
   "metadata": {},
   "outputs": [],
   "source": [
    "import pandas as pd"
   ]
  },
  {
   "cell_type": "markdown",
   "metadata": {},
   "source": [
    "## OkCupid Example csv"
   ]
  },
  {
   "cell_type": "code",
   "execution_count": 3,
   "metadata": {},
   "outputs": [],
   "source": [
    "okcupid_df = pd.read_csv('okcupid_profiles_1.csv')"
   ]
  },
  {
   "cell_type": "code",
   "execution_count": 5,
   "metadata": {},
   "outputs": [
    {
     "data": {
      "text/plain": [
       "(19999, 31)"
      ]
     },
     "execution_count": 5,
     "metadata": {},
     "output_type": "execute_result"
    }
   ],
   "source": [
    "okcupid_df.shape"
   ]
  },
  {
   "cell_type": "code",
   "execution_count": 7,
   "metadata": {},
   "outputs": [
    {
     "data": {
      "text/plain": [
       "Index(['age', 'status', 'sex', 'orientation', 'body_type', 'diet', 'drinks',\n",
       "       'drugs', 'education', 'ethnicity', 'height', 'income', 'job',\n",
       "       'last_online', 'location', 'offspring', 'pets', 'religion', 'sign',\n",
       "       'smokes', 'speaks', 'essay0', 'essay1', 'essay2', 'essay3', 'essay4',\n",
       "       'essay5', 'essay6', 'essay7', 'essay8', 'essay9'],\n",
       "      dtype='object')"
      ]
     },
     "execution_count": 7,
     "metadata": {},
     "output_type": "execute_result"
    }
   ],
   "source": [
    "okcupid_df.columns"
   ]
  },
  {
   "cell_type": "code",
   "execution_count": 6,
   "metadata": {},
   "outputs": [
    {
     "data": {
      "text/html": [
       "<div>\n",
       "<style scoped>\n",
       "    .dataframe tbody tr th:only-of-type {\n",
       "        vertical-align: middle;\n",
       "    }\n",
       "\n",
       "    .dataframe tbody tr th {\n",
       "        vertical-align: top;\n",
       "    }\n",
       "\n",
       "    .dataframe thead th {\n",
       "        text-align: right;\n",
       "    }\n",
       "</style>\n",
       "<table border=\"1\" class=\"dataframe\">\n",
       "  <thead>\n",
       "    <tr style=\"text-align: right;\">\n",
       "      <th></th>\n",
       "      <th>age</th>\n",
       "      <th>status</th>\n",
       "      <th>sex</th>\n",
       "      <th>orientation</th>\n",
       "      <th>body_type</th>\n",
       "      <th>diet</th>\n",
       "      <th>drinks</th>\n",
       "      <th>drugs</th>\n",
       "      <th>education</th>\n",
       "      <th>ethnicity</th>\n",
       "      <th>...</th>\n",
       "      <th>essay0</th>\n",
       "      <th>essay1</th>\n",
       "      <th>essay2</th>\n",
       "      <th>essay3</th>\n",
       "      <th>essay4</th>\n",
       "      <th>essay5</th>\n",
       "      <th>essay6</th>\n",
       "      <th>essay7</th>\n",
       "      <th>essay8</th>\n",
       "      <th>essay9</th>\n",
       "    </tr>\n",
       "  </thead>\n",
       "  <tbody>\n",
       "    <tr>\n",
       "      <th>0</th>\n",
       "      <td>22</td>\n",
       "      <td>single</td>\n",
       "      <td>m</td>\n",
       "      <td>straight</td>\n",
       "      <td>a little extra</td>\n",
       "      <td>strictly anything</td>\n",
       "      <td>socially</td>\n",
       "      <td>never</td>\n",
       "      <td>working on college/university</td>\n",
       "      <td>asian, white</td>\n",
       "      <td>...</td>\n",
       "      <td>about me:  i would love to think that i was so...</td>\n",
       "      <td>currently working as an international agent fo...</td>\n",
       "      <td>making people laugh. ranting about a good salt...</td>\n",
       "      <td>the way i look. i am a six foot half asian, ha...</td>\n",
       "      <td>books: absurdistan, the republic, of mice and ...</td>\n",
       "      <td>food. water. cell phone. shelter.</td>\n",
       "      <td>duality and humorous things</td>\n",
       "      <td>trying to find someone to hang out with. i am ...</td>\n",
       "      <td>i am new to california and looking for someone...</td>\n",
       "      <td>you want to be swept off your feet! you are ti...</td>\n",
       "    </tr>\n",
       "    <tr>\n",
       "      <th>1</th>\n",
       "      <td>35</td>\n",
       "      <td>single</td>\n",
       "      <td>m</td>\n",
       "      <td>straight</td>\n",
       "      <td>average</td>\n",
       "      <td>mostly other</td>\n",
       "      <td>often</td>\n",
       "      <td>sometimes</td>\n",
       "      <td>working on space camp</td>\n",
       "      <td>white</td>\n",
       "      <td>...</td>\n",
       "      <td>i am a chef: this is what that means. 1. i am ...</td>\n",
       "      <td>dedicating everyday to being an unbelievable b...</td>\n",
       "      <td>being silly. having ridiculous amonts of fun w...</td>\n",
       "      <td>NaN</td>\n",
       "      <td>i am die hard christopher moore fan. i don't r...</td>\n",
       "      <td>delicious porkness in all of its glories. my b...</td>\n",
       "      <td>NaN</td>\n",
       "      <td>NaN</td>\n",
       "      <td>i am very open and will share just about anyth...</td>\n",
       "      <td>NaN</td>\n",
       "    </tr>\n",
       "    <tr>\n",
       "      <th>2</th>\n",
       "      <td>38</td>\n",
       "      <td>available</td>\n",
       "      <td>m</td>\n",
       "      <td>straight</td>\n",
       "      <td>thin</td>\n",
       "      <td>anything</td>\n",
       "      <td>socially</td>\n",
       "      <td>NaN</td>\n",
       "      <td>graduated from masters program</td>\n",
       "      <td>NaN</td>\n",
       "      <td>...</td>\n",
       "      <td>i'm not ashamed of much, but writing public te...</td>\n",
       "      <td>i make nerdy software for musicians, artists, ...</td>\n",
       "      <td>improvising in different contexts. alternating...</td>\n",
       "      <td>my large jaw and large glasses are the physica...</td>\n",
       "      <td>okay this is where the cultural matrix gets so...</td>\n",
       "      <td>movement conversation creation contemplation t...</td>\n",
       "      <td>NaN</td>\n",
       "      <td>viewing. listening. dancing. talking. drinking...</td>\n",
       "      <td>when i was five years old, i was known as \"the...</td>\n",
       "      <td>you are bright, open, intense, silly, ironic, ...</td>\n",
       "    </tr>\n",
       "    <tr>\n",
       "      <th>3</th>\n",
       "      <td>23</td>\n",
       "      <td>single</td>\n",
       "      <td>m</td>\n",
       "      <td>straight</td>\n",
       "      <td>thin</td>\n",
       "      <td>vegetarian</td>\n",
       "      <td>socially</td>\n",
       "      <td>NaN</td>\n",
       "      <td>working on college/university</td>\n",
       "      <td>white</td>\n",
       "      <td>...</td>\n",
       "      <td>i work in a library and go to school. . .</td>\n",
       "      <td>reading things written by old dead people</td>\n",
       "      <td>playing synthesizers and organizing books acco...</td>\n",
       "      <td>socially awkward but i do my best</td>\n",
       "      <td>bataille, celine, beckett. . . lynch, jarmusch...</td>\n",
       "      <td>NaN</td>\n",
       "      <td>cats and german philosophy</td>\n",
       "      <td>NaN</td>\n",
       "      <td>NaN</td>\n",
       "      <td>you feel so inclined.</td>\n",
       "    </tr>\n",
       "    <tr>\n",
       "      <th>4</th>\n",
       "      <td>29</td>\n",
       "      <td>single</td>\n",
       "      <td>m</td>\n",
       "      <td>straight</td>\n",
       "      <td>athletic</td>\n",
       "      <td>NaN</td>\n",
       "      <td>socially</td>\n",
       "      <td>never</td>\n",
       "      <td>graduated from college/university</td>\n",
       "      <td>asian, black, other</td>\n",
       "      <td>...</td>\n",
       "      <td>hey how's it going? currently vague on the pro...</td>\n",
       "      <td>work work work work + play</td>\n",
       "      <td>creating imagery to look at: http://bagsbrown....</td>\n",
       "      <td>i smile a lot and my inquisitive nature</td>\n",
       "      <td>music: bands, rappers, musicians at the moment...</td>\n",
       "      <td>NaN</td>\n",
       "      <td>NaN</td>\n",
       "      <td>NaN</td>\n",
       "      <td>NaN</td>\n",
       "      <td>NaN</td>\n",
       "    </tr>\n",
       "  </tbody>\n",
       "</table>\n",
       "<p>5 rows × 31 columns</p>\n",
       "</div>"
      ],
      "text/plain": [
       "   age     status sex orientation       body_type               diet  \\\n",
       "0   22     single   m    straight  a little extra  strictly anything   \n",
       "1   35     single   m    straight         average       mostly other   \n",
       "2   38  available   m    straight            thin           anything   \n",
       "3   23     single   m    straight            thin         vegetarian   \n",
       "4   29     single   m    straight        athletic                NaN   \n",
       "\n",
       "     drinks      drugs                          education  \\\n",
       "0  socially      never      working on college/university   \n",
       "1     often  sometimes              working on space camp   \n",
       "2  socially        NaN     graduated from masters program   \n",
       "3  socially        NaN      working on college/university   \n",
       "4  socially      never  graduated from college/university   \n",
       "\n",
       "             ethnicity  ...  \\\n",
       "0         asian, white  ...   \n",
       "1                white  ...   \n",
       "2                  NaN  ...   \n",
       "3                white  ...   \n",
       "4  asian, black, other  ...   \n",
       "\n",
       "                                              essay0  \\\n",
       "0  about me:  i would love to think that i was so...   \n",
       "1  i am a chef: this is what that means. 1. i am ...   \n",
       "2  i'm not ashamed of much, but writing public te...   \n",
       "3          i work in a library and go to school. . .   \n",
       "4  hey how's it going? currently vague on the pro...   \n",
       "\n",
       "                                              essay1  \\\n",
       "0  currently working as an international agent fo...   \n",
       "1  dedicating everyday to being an unbelievable b...   \n",
       "2  i make nerdy software for musicians, artists, ...   \n",
       "3          reading things written by old dead people   \n",
       "4                         work work work work + play   \n",
       "\n",
       "                                              essay2  \\\n",
       "0  making people laugh. ranting about a good salt...   \n",
       "1  being silly. having ridiculous amonts of fun w...   \n",
       "2  improvising in different contexts. alternating...   \n",
       "3  playing synthesizers and organizing books acco...   \n",
       "4  creating imagery to look at: http://bagsbrown....   \n",
       "\n",
       "                                              essay3  \\\n",
       "0  the way i look. i am a six foot half asian, ha...   \n",
       "1                                                NaN   \n",
       "2  my large jaw and large glasses are the physica...   \n",
       "3                  socially awkward but i do my best   \n",
       "4            i smile a lot and my inquisitive nature   \n",
       "\n",
       "                                              essay4  \\\n",
       "0  books: absurdistan, the republic, of mice and ...   \n",
       "1  i am die hard christopher moore fan. i don't r...   \n",
       "2  okay this is where the cultural matrix gets so...   \n",
       "3  bataille, celine, beckett. . . lynch, jarmusch...   \n",
       "4  music: bands, rappers, musicians at the moment...   \n",
       "\n",
       "                                              essay5  \\\n",
       "0                  food. water. cell phone. shelter.   \n",
       "1  delicious porkness in all of its glories. my b...   \n",
       "2  movement conversation creation contemplation t...   \n",
       "3                                                NaN   \n",
       "4                                                NaN   \n",
       "\n",
       "                        essay6  \\\n",
       "0  duality and humorous things   \n",
       "1                          NaN   \n",
       "2                          NaN   \n",
       "3   cats and german philosophy   \n",
       "4                          NaN   \n",
       "\n",
       "                                              essay7  \\\n",
       "0  trying to find someone to hang out with. i am ...   \n",
       "1                                                NaN   \n",
       "2  viewing. listening. dancing. talking. drinking...   \n",
       "3                                                NaN   \n",
       "4                                                NaN   \n",
       "\n",
       "                                              essay8  \\\n",
       "0  i am new to california and looking for someone...   \n",
       "1  i am very open and will share just about anyth...   \n",
       "2  when i was five years old, i was known as \"the...   \n",
       "3                                                NaN   \n",
       "4                                                NaN   \n",
       "\n",
       "                                              essay9  \n",
       "0  you want to be swept off your feet! you are ti...  \n",
       "1                                                NaN  \n",
       "2  you are bright, open, intense, silly, ironic, ...  \n",
       "3                              you feel so inclined.  \n",
       "4                                                NaN  \n",
       "\n",
       "[5 rows x 31 columns]"
      ]
     },
     "execution_count": 6,
     "metadata": {},
     "output_type": "execute_result"
    }
   ],
   "source": [
    "okcupid_df.head()"
   ]
  },
  {
   "cell_type": "code",
   "execution_count": 8,
   "metadata": {},
   "outputs": [],
   "source": [
    "okcupid_df.head().to_csv('okcupid_profiles_1_head.csv', index=False)"
   ]
  },
  {
   "cell_type": "markdown",
   "metadata": {},
   "source": [
    "## Use ChatGPT to help Generate Fake Profiles."
   ]
  },
  {
   "cell_type": "code",
   "execution_count": 174,
   "metadata": {},
   "outputs": [],
   "source": [
    "import random\n",
    "from faker import Faker\n",
    "\n",
    "# Initialize Faker instance\n",
    "fake = Faker()\n",
    "\n",
    "# Function to generate a dating app bio\n",
    "def generate_dating_bio():\n",
    "    fun_facts = [\n",
    "        \"I once met a celebrity on a hiking trip.\",\n",
    "        \"I can cook a mean spaghetti carbonara.\",\n",
    "        \"I’ve visited 10 countries in the past 5 years.\",\n",
    "        \"I can speak three languages, and one of them is sarcasm.\",\n",
    "        \"My cat thinks she's the queen of the house.\",\n",
    "        \"I’ve got a collection of 90’s comic books.\",\n",
    "        \"I make the best coffee in town. Don't @ me.\"\n",
    "    ]\n",
    "    \n",
    "    relationship_goals = [\n",
    "        \"Looking for someone who can make me laugh and is up for adventures.\",\n",
    "        \"I'm ready for something serious, but I’m open to seeing where things go.\",\n",
    "        \"Not just looking for a date, but someone to share memories with.\",\n",
    "        \"I’m searching for a genuine connection and deep conversations.\",\n",
    "        \"Casual fun, but always open to something deeper if we click.\",\n",
    "        \"I enjoy spontaneous weekends away, and I need someone who’s up for the ride.\"\n",
    "    ]\n",
    "    \n",
    "    personality_traits = [\n",
    "        \"I'm adventurous, spontaneous, and love trying new things.\",\n",
    "        \"I'm a bit introverted, but once I open up, you'll find I'm a total nerd.\",\n",
    "        \"A good sense of humor is key, and I’m always up for a good laugh.\",\n",
    "        \"I’m thoughtful and love making meaningful connections with people.\",\n",
    "        \"My friends say I’m loyal, easygoing, and always down for an impromptu road trip.\"\n",
    "    ]\n",
    "    \n",
    "    interests = [\n",
    "        \"In my free time, you’ll probably find me reading a good book or binge-watching my favorite shows.\",\n",
    "        \"I love hiking, playing sports, and spending time outdoors.\",\n",
    "        \"On weekends, I’m either trying out new recipes or exploring a new city.\",\n",
    "        \"I’m a tech geek who loves coding, gaming, and anything digital.\",\n",
    "        \"If I’m not working out, I’m catching up on the latest movies and podcasts.\"\n",
    "    ]\n",
    "    \n",
    "    values = [\n",
    "        \"Honesty and trust are the cornerstones of any relationship for me.\",\n",
    "        \"I value open communication and believe it’s key to a lasting relationship.\",\n",
    "        \"I’m all about loyalty, and I believe in supporting each other’s growth.\",\n",
    "        \"Mutual respect and shared goals make for the best relationships.\",\n",
    "        \"I’m into personal growth and want a partner who values that too.\"\n",
    "    ]\n",
    "\n",
    "    # Construct the bio by combining parts randomly\n",
    "    bio = f\"{random.choice(fun_facts)} {random.choice(relationship_goals)} {random.choice(personality_traits)} {random.choice(interests)} {random.choice(values)}\"\n",
    "    \n",
    "    return bio"
   ]
  },
  {
   "cell_type": "code",
   "execution_count": 107,
   "metadata": {},
   "outputs": [],
   "source": [
    "# Function to generate random profiles\n",
    "def generate_random_profile():\n",
    "    # Random profile data\n",
    "    birth_date = fake.date_of_birth(minimum_age=18, maximum_age=30)\n",
    "    gender = random.choice(['m', 'f', 'others'])\n",
    "    preferred_gender = random.choice(['m', 'f', 'others', 'any'])\n",
    "    looking_for = random.choice([\n",
    "        'long-term partner', 'long-term but short-term OK', 'short-term but long-term OK', 'casual fun', 'new friends', 'still figuring it out'\n",
    "    ])\n",
    "    faculty = random.choice([\n",
    "        'Engineering', 'Business', 'Architecture', 'Law', 'Science', 'Medicine', 'Arts'\n",
    "    ])\n",
    "    personal_traits = random.sample([\n",
    "        'outgoing', 'shy', 'funny', 'adventurous', 'thoughtful', 'introverted', 'creative', 'ambitious', 'curious'\n",
    "    ], k=random.randint(1, 3))\n",
    "    interests = random.sample([\n",
    "        'reading', 'traveling', 'sports', 'music', 'cooking', 'hiking', 'gaming', 'photography', 'technology', 'fashion'\n",
    "    ], k=random.randint(1, 3))\n",
    "    values = random.sample([\n",
    "        'honesty', 'loyalty', 'creativity', 'responsibility', 'empathy', 'respect', 'independence', 'spirituality'\n",
    "    ], k=random.randint(1, 3))\n",
    "    \n",
    "    # Generate a dating-related bio\n",
    "    bio = generate_dating_bio()\n",
    "\n",
    "    # Return profile\n",
    "    return {\n",
    "        'BirthDate': birth_date,\n",
    "        'Gender': gender,\n",
    "        'PreferredGender': preferred_gender,\n",
    "        'LookingFor': looking_for,\n",
    "        'Faculty': faculty,\n",
    "        'PersonalTraits': ', '.join(personal_traits),\n",
    "        'Interests': ', '.join(interests),\n",
    "        'Values': ', '.join(values),\n",
    "        'Bio': bio\n",
    "    }\n",
    "\n",
    "# Generate random profiles\n",
    "num_profiles = 2000  # Generate 2000 profiles\n",
    "profiles = [generate_random_profile() for _ in range(num_profiles)]\n",
    "\n",
    "# Convert to DataFrame\n",
    "import pandas as pd\n",
    "df_profiles = pd.DataFrame(profiles)"
   ]
  },
  {
   "cell_type": "code",
   "execution_count": 108,
   "metadata": {},
   "outputs": [],
   "source": [
    "# Save to CSV\n",
    "df_profiles.to_csv('random_chulalongkorn_profiles.csv', index=False)\n",
    "df_profiles.head().to_csv('random_chulalongkorn_profiles_head.csv', index=False)\n",
    "\n",
    "# Save to .pkl\n",
    "df_profiles.to_pickle('random_chulalongkorn_profiles.pkl')"
   ]
  },
  {
   "cell_type": "code",
   "execution_count": 109,
   "metadata": {},
   "outputs": [
    {
     "data": {
      "text/html": [
       "<div>\n",
       "<style scoped>\n",
       "    .dataframe tbody tr th:only-of-type {\n",
       "        vertical-align: middle;\n",
       "    }\n",
       "\n",
       "    .dataframe tbody tr th {\n",
       "        vertical-align: top;\n",
       "    }\n",
       "\n",
       "    .dataframe thead th {\n",
       "        text-align: right;\n",
       "    }\n",
       "</style>\n",
       "<table border=\"1\" class=\"dataframe\">\n",
       "  <thead>\n",
       "    <tr style=\"text-align: right;\">\n",
       "      <th></th>\n",
       "      <th>BirthDate</th>\n",
       "      <th>Gender</th>\n",
       "      <th>PreferredGender</th>\n",
       "      <th>LookingFor</th>\n",
       "      <th>Faculty</th>\n",
       "      <th>PersonalTraits</th>\n",
       "      <th>Interests</th>\n",
       "      <th>Values</th>\n",
       "      <th>Bio</th>\n",
       "    </tr>\n",
       "  </thead>\n",
       "  <tbody>\n",
       "    <tr>\n",
       "      <th>0</th>\n",
       "      <td>2000-06-08</td>\n",
       "      <td>m</td>\n",
       "      <td>any</td>\n",
       "      <td>short-term but long-term OK</td>\n",
       "      <td>Science</td>\n",
       "      <td>thoughtful, creative, curious</td>\n",
       "      <td>music, photography</td>\n",
       "      <td>empathy, responsibility</td>\n",
       "      <td>I can speak three languages, and one of them i...</td>\n",
       "    </tr>\n",
       "    <tr>\n",
       "      <th>1</th>\n",
       "      <td>1998-10-16</td>\n",
       "      <td>f</td>\n",
       "      <td>any</td>\n",
       "      <td>new friends</td>\n",
       "      <td>Business</td>\n",
       "      <td>curious, adventurous, thoughtful</td>\n",
       "      <td>traveling, reading, hiking</td>\n",
       "      <td>creativity, loyalty</td>\n",
       "      <td>I’ve got a collection of 90’s comic books. I e...</td>\n",
       "    </tr>\n",
       "    <tr>\n",
       "      <th>2</th>\n",
       "      <td>2000-02-16</td>\n",
       "      <td>f</td>\n",
       "      <td>any</td>\n",
       "      <td>long-term but short-term OK</td>\n",
       "      <td>Architecture</td>\n",
       "      <td>creative, shy, curious</td>\n",
       "      <td>fashion</td>\n",
       "      <td>empathy, honesty, respect</td>\n",
       "      <td>My cat thinks she's the queen of the house. Lo...</td>\n",
       "    </tr>\n",
       "    <tr>\n",
       "      <th>3</th>\n",
       "      <td>1999-03-18</td>\n",
       "      <td>f</td>\n",
       "      <td>f</td>\n",
       "      <td>still figuring it out</td>\n",
       "      <td>Arts</td>\n",
       "      <td>adventurous, shy</td>\n",
       "      <td>music</td>\n",
       "      <td>respect, spirituality, independence</td>\n",
       "      <td>My cat thinks she's the queen of the house. Lo...</td>\n",
       "    </tr>\n",
       "    <tr>\n",
       "      <th>4</th>\n",
       "      <td>1994-02-23</td>\n",
       "      <td>m</td>\n",
       "      <td>any</td>\n",
       "      <td>short-term but long-term OK</td>\n",
       "      <td>Science</td>\n",
       "      <td>thoughtful, creative, shy</td>\n",
       "      <td>fashion, hiking, gaming</td>\n",
       "      <td>independence</td>\n",
       "      <td>I’ve got a collection of 90’s comic books. Cas...</td>\n",
       "    </tr>\n",
       "    <tr>\n",
       "      <th>...</th>\n",
       "      <td>...</td>\n",
       "      <td>...</td>\n",
       "      <td>...</td>\n",
       "      <td>...</td>\n",
       "      <td>...</td>\n",
       "      <td>...</td>\n",
       "      <td>...</td>\n",
       "      <td>...</td>\n",
       "      <td>...</td>\n",
       "    </tr>\n",
       "    <tr>\n",
       "      <th>1995</th>\n",
       "      <td>1998-11-17</td>\n",
       "      <td>f</td>\n",
       "      <td>others</td>\n",
       "      <td>short-term but long-term OK</td>\n",
       "      <td>Architecture</td>\n",
       "      <td>funny</td>\n",
       "      <td>fashion, reading, traveling</td>\n",
       "      <td>spirituality, empathy</td>\n",
       "      <td>My cat thinks she's the queen of the house. I ...</td>\n",
       "    </tr>\n",
       "    <tr>\n",
       "      <th>1996</th>\n",
       "      <td>2004-05-23</td>\n",
       "      <td>f</td>\n",
       "      <td>m</td>\n",
       "      <td>short-term but long-term OK</td>\n",
       "      <td>Medicine</td>\n",
       "      <td>outgoing, thoughtful</td>\n",
       "      <td>sports</td>\n",
       "      <td>empathy</td>\n",
       "      <td>I’ve got a collection of 90’s comic books. I e...</td>\n",
       "    </tr>\n",
       "    <tr>\n",
       "      <th>1997</th>\n",
       "      <td>1995-02-13</td>\n",
       "      <td>m</td>\n",
       "      <td>m</td>\n",
       "      <td>new friends</td>\n",
       "      <td>Arts</td>\n",
       "      <td>creative, thoughtful, curious</td>\n",
       "      <td>fashion, reading</td>\n",
       "      <td>independence, creativity</td>\n",
       "      <td>I once met a celebrity on a hiking trip. Casua...</td>\n",
       "    </tr>\n",
       "    <tr>\n",
       "      <th>1998</th>\n",
       "      <td>2006-10-18</td>\n",
       "      <td>others</td>\n",
       "      <td>any</td>\n",
       "      <td>casual fun</td>\n",
       "      <td>Medicine</td>\n",
       "      <td>thoughtful, ambitious</td>\n",
       "      <td>photography, reading</td>\n",
       "      <td>honesty, independence</td>\n",
       "      <td>I once met a celebrity on a hiking trip. I'm r...</td>\n",
       "    </tr>\n",
       "    <tr>\n",
       "      <th>1999</th>\n",
       "      <td>1998-07-01</td>\n",
       "      <td>f</td>\n",
       "      <td>any</td>\n",
       "      <td>casual fun</td>\n",
       "      <td>Architecture</td>\n",
       "      <td>creative, ambitious</td>\n",
       "      <td>technology, gaming, sports</td>\n",
       "      <td>creativity</td>\n",
       "      <td>My cat thinks she's the queen of the house. Lo...</td>\n",
       "    </tr>\n",
       "  </tbody>\n",
       "</table>\n",
       "<p>2000 rows × 9 columns</p>\n",
       "</div>"
      ],
      "text/plain": [
       "       BirthDate  Gender PreferredGender                   LookingFor  \\\n",
       "0     2000-06-08       m             any  short-term but long-term OK   \n",
       "1     1998-10-16       f             any                  new friends   \n",
       "2     2000-02-16       f             any  long-term but short-term OK   \n",
       "3     1999-03-18       f               f        still figuring it out   \n",
       "4     1994-02-23       m             any  short-term but long-term OK   \n",
       "...          ...     ...             ...                          ...   \n",
       "1995  1998-11-17       f          others  short-term but long-term OK   \n",
       "1996  2004-05-23       f               m  short-term but long-term OK   \n",
       "1997  1995-02-13       m               m                  new friends   \n",
       "1998  2006-10-18  others             any                   casual fun   \n",
       "1999  1998-07-01       f             any                   casual fun   \n",
       "\n",
       "           Faculty                    PersonalTraits  \\\n",
       "0          Science     thoughtful, creative, curious   \n",
       "1         Business  curious, adventurous, thoughtful   \n",
       "2     Architecture            creative, shy, curious   \n",
       "3             Arts                  adventurous, shy   \n",
       "4          Science         thoughtful, creative, shy   \n",
       "...            ...                               ...   \n",
       "1995  Architecture                             funny   \n",
       "1996      Medicine              outgoing, thoughtful   \n",
       "1997          Arts     creative, thoughtful, curious   \n",
       "1998      Medicine             thoughtful, ambitious   \n",
       "1999  Architecture               creative, ambitious   \n",
       "\n",
       "                        Interests                               Values  \\\n",
       "0              music, photography              empathy, responsibility   \n",
       "1      traveling, reading, hiking                  creativity, loyalty   \n",
       "2                         fashion            empathy, honesty, respect   \n",
       "3                           music  respect, spirituality, independence   \n",
       "4         fashion, hiking, gaming                         independence   \n",
       "...                           ...                                  ...   \n",
       "1995  fashion, reading, traveling                spirituality, empathy   \n",
       "1996                       sports                              empathy   \n",
       "1997             fashion, reading             independence, creativity   \n",
       "1998         photography, reading                honesty, independence   \n",
       "1999   technology, gaming, sports                           creativity   \n",
       "\n",
       "                                                    Bio  \n",
       "0     I can speak three languages, and one of them i...  \n",
       "1     I’ve got a collection of 90’s comic books. I e...  \n",
       "2     My cat thinks she's the queen of the house. Lo...  \n",
       "3     My cat thinks she's the queen of the house. Lo...  \n",
       "4     I’ve got a collection of 90’s comic books. Cas...  \n",
       "...                                                 ...  \n",
       "1995  My cat thinks she's the queen of the house. I ...  \n",
       "1996  I’ve got a collection of 90’s comic books. I e...  \n",
       "1997  I once met a celebrity on a hiking trip. Casua...  \n",
       "1998  I once met a celebrity on a hiking trip. I'm r...  \n",
       "1999  My cat thinks she's the queen of the house. Lo...  \n",
       "\n",
       "[2000 rows x 9 columns]"
      ]
     },
     "execution_count": 109,
     "metadata": {},
     "output_type": "execute_result"
    }
   ],
   "source": [
    "df_profiles"
   ]
  },
  {
   "cell_type": "markdown",
   "metadata": {},
   "source": [
    "## NLP Data Exploration and Analysis on Dating Profile Bio"
   ]
  },
  {
   "cell_type": "markdown",
   "metadata": {},
   "source": [
    "### Importing Libraries"
   ]
  },
  {
   "cell_type": "code",
   "execution_count": 110,
   "metadata": {},
   "outputs": [],
   "source": [
    "import pandas as pd\n",
    "# pd.set_option('display.max_colwidth', 500)\n",
    "import numpy as np\n",
    "import plotly.express as px\n",
    "import _pickle as pickle\n",
    "from nltk.stem import WordNetLemmatizer\n",
    "from nltk import FreqDist\n",
    "from nltk.corpus import stopwords\n",
    "from nltk.collocations import BigramAssocMeasures, BigramCollocationFinder\n",
    "\n",
    "# Also, in terminals: python -m nltk.downloader all\n",
    "# May take a while\n"
   ]
  },
  {
   "cell_type": "markdown",
   "metadata": {},
   "source": [
    "### Loading .pkl file"
   ]
  },
  {
   "cell_type": "code",
   "execution_count": 111,
   "metadata": {},
   "outputs": [],
   "source": [
    "with open(\"random_chulalongkorn_profiles.pkl\",'rb') as file: # rb is read binary, to read as binary\n",
    "    df_pkl = pickle.load(file)"
   ]
  },
  {
   "cell_type": "code",
   "execution_count": 112,
   "metadata": {},
   "outputs": [
    {
     "data": {
      "text/html": [
       "<div>\n",
       "<style scoped>\n",
       "    .dataframe tbody tr th:only-of-type {\n",
       "        vertical-align: middle;\n",
       "    }\n",
       "\n",
       "    .dataframe tbody tr th {\n",
       "        vertical-align: top;\n",
       "    }\n",
       "\n",
       "    .dataframe thead th {\n",
       "        text-align: right;\n",
       "    }\n",
       "</style>\n",
       "<table border=\"1\" class=\"dataframe\">\n",
       "  <thead>\n",
       "    <tr style=\"text-align: right;\">\n",
       "      <th></th>\n",
       "      <th>BirthDate</th>\n",
       "      <th>Gender</th>\n",
       "      <th>PreferredGender</th>\n",
       "      <th>LookingFor</th>\n",
       "      <th>Faculty</th>\n",
       "      <th>PersonalTraits</th>\n",
       "      <th>Interests</th>\n",
       "      <th>Values</th>\n",
       "      <th>Bio</th>\n",
       "    </tr>\n",
       "  </thead>\n",
       "  <tbody>\n",
       "    <tr>\n",
       "      <th>0</th>\n",
       "      <td>2000-06-08</td>\n",
       "      <td>m</td>\n",
       "      <td>any</td>\n",
       "      <td>short-term but long-term OK</td>\n",
       "      <td>Science</td>\n",
       "      <td>thoughtful, creative, curious</td>\n",
       "      <td>music, photography</td>\n",
       "      <td>empathy, responsibility</td>\n",
       "      <td>I can speak three languages, and one of them i...</td>\n",
       "    </tr>\n",
       "    <tr>\n",
       "      <th>1</th>\n",
       "      <td>1998-10-16</td>\n",
       "      <td>f</td>\n",
       "      <td>any</td>\n",
       "      <td>new friends</td>\n",
       "      <td>Business</td>\n",
       "      <td>curious, adventurous, thoughtful</td>\n",
       "      <td>traveling, reading, hiking</td>\n",
       "      <td>creativity, loyalty</td>\n",
       "      <td>I’ve got a collection of 90’s comic books. I e...</td>\n",
       "    </tr>\n",
       "    <tr>\n",
       "      <th>2</th>\n",
       "      <td>2000-02-16</td>\n",
       "      <td>f</td>\n",
       "      <td>any</td>\n",
       "      <td>long-term but short-term OK</td>\n",
       "      <td>Architecture</td>\n",
       "      <td>creative, shy, curious</td>\n",
       "      <td>fashion</td>\n",
       "      <td>empathy, honesty, respect</td>\n",
       "      <td>My cat thinks she's the queen of the house. Lo...</td>\n",
       "    </tr>\n",
       "    <tr>\n",
       "      <th>3</th>\n",
       "      <td>1999-03-18</td>\n",
       "      <td>f</td>\n",
       "      <td>f</td>\n",
       "      <td>still figuring it out</td>\n",
       "      <td>Arts</td>\n",
       "      <td>adventurous, shy</td>\n",
       "      <td>music</td>\n",
       "      <td>respect, spirituality, independence</td>\n",
       "      <td>My cat thinks she's the queen of the house. Lo...</td>\n",
       "    </tr>\n",
       "    <tr>\n",
       "      <th>4</th>\n",
       "      <td>1994-02-23</td>\n",
       "      <td>m</td>\n",
       "      <td>any</td>\n",
       "      <td>short-term but long-term OK</td>\n",
       "      <td>Science</td>\n",
       "      <td>thoughtful, creative, shy</td>\n",
       "      <td>fashion, hiking, gaming</td>\n",
       "      <td>independence</td>\n",
       "      <td>I’ve got a collection of 90’s comic books. Cas...</td>\n",
       "    </tr>\n",
       "  </tbody>\n",
       "</table>\n",
       "</div>"
      ],
      "text/plain": [
       "    BirthDate Gender PreferredGender                   LookingFor  \\\n",
       "0  2000-06-08      m             any  short-term but long-term OK   \n",
       "1  1998-10-16      f             any                  new friends   \n",
       "2  2000-02-16      f             any  long-term but short-term OK   \n",
       "3  1999-03-18      f               f        still figuring it out   \n",
       "4  1994-02-23      m             any  short-term but long-term OK   \n",
       "\n",
       "        Faculty                    PersonalTraits                   Interests  \\\n",
       "0       Science     thoughtful, creative, curious          music, photography   \n",
       "1      Business  curious, adventurous, thoughtful  traveling, reading, hiking   \n",
       "2  Architecture            creative, shy, curious                     fashion   \n",
       "3          Arts                  adventurous, shy                       music   \n",
       "4       Science         thoughtful, creative, shy     fashion, hiking, gaming   \n",
       "\n",
       "                                Values  \\\n",
       "0              empathy, responsibility   \n",
       "1                  creativity, loyalty   \n",
       "2            empathy, honesty, respect   \n",
       "3  respect, spirituality, independence   \n",
       "4                         independence   \n",
       "\n",
       "                                                 Bio  \n",
       "0  I can speak three languages, and one of them i...  \n",
       "1  I’ve got a collection of 90’s comic books. I e...  \n",
       "2  My cat thinks she's the queen of the house. Lo...  \n",
       "3  My cat thinks she's the queen of the house. Lo...  \n",
       "4  I’ve got a collection of 90’s comic books. Cas...  "
      ]
     },
     "execution_count": 112,
     "metadata": {},
     "output_type": "execute_result"
    }
   ],
   "source": [
    "df_pkl.head()"
   ]
  },
  {
   "cell_type": "markdown",
   "metadata": {},
   "source": [
    "### Tokenization"
   ]
  },
  {
   "cell_type": "markdown",
   "metadata": {},
   "source": [
    "the process of splitting up sentences into individual tokens.\n",
    "\n",
    "i.e. “Take this sentence for an example of tokenization.”\n",
    "\n",
    "Tokenization: [‘Take’, ‘this’, ‘sentence’, ‘for’, ‘an’, ‘example’, ‘of’, ‘tokenization.’]"
   ]
  },
  {
   "cell_type": "markdown",
   "metadata": {},
   "source": [
    "### Stemming vs Lemmatization"
   ]
  },
  {
   "cell_type": "markdown",
   "metadata": {},
   "source": [
    "Both are the act of breaking down a word to its most basic components."
   ]
  },
  {
   "cell_type": "markdown",
   "metadata": {},
   "source": [
    "i.e. “tokenization”\n",
    "* Stemming: “tokeniza” by simply removing -tion\n",
    "* Lemmatizing: “tokenize” by returning the base form of the word."
   ]
  },
  {
   "cell_type": "markdown",
   "metadata": {},
   "source": [
    "### Tokenization and Lemmatization"
   ]
  },
  {
   "cell_type": "code",
   "execution_count": 145,
   "metadata": {},
   "outputs": [],
   "source": [
    "# Instantiating the lemmatizer\n",
    "lemmatizer = WordNetLemmatizer()\n",
    "\n",
    "# Tokenizing Function\n",
    "def tokenizeAndLemmatize(text):\n",
    "    \"\"\"\n",
    "    Tokenizing the bios of users, then lemmatizing them\n",
    "    \"\"\"\n",
    "    \n",
    "    # Creating a library of stopwords\n",
    "    # stops = stopwords.words('english')\n",
    "    stops = [\n",
    "    'i', 'me', 'my', 'myself', 'we', 'our', 'ours', 'ourselves', 'you', 'your', 'yours', 'yourself', 'yourselves', \n",
    "    'he', 'him', 'his', 'himself', 'she', 'her', 'hers', 'herself', 'it', 'its', 'itself', 'they', 'them', 'their', \n",
    "    'theirs', 'themselves', 'what', 'which', 'who', 'whom', 'this', 'that', 'these', 'those', 'am', 'is', 'are', 'was', \n",
    "    'were', 'be', 'been', 'being', 'have', 'has', 'had', 'having', 'do', 'does', 'did', 'doing', 'a', 'an', 'the', 'and', \n",
    "    'but', 'if', 'or', 'because', 'as', 'until', 'while', 'of', 'at', 'by', 'for', 'with', 'about', 'against', 'between', \n",
    "    'into', 'through', 'during', 'before', 'after', 'above', 'below', 'to', 'from', 'up', 'down', 'in', 'out', 'on', 'off', \n",
    "    'over', 'under', 'again', 'further', 'then', 'once', 'here', 'there', 'when', 'where', 'why', 'how', 'all', 'any', \n",
    "    'both', 'each', 'few', 'more', 'most', 'other', 'some', 'such', 'no', 'nor', 'not', 'only', 'own', 'same', 'so', \n",
    "    'than', 'too', 'very', 's', 't', 'can', 'will', 'just', 'don', 'should', 'now', 'd', 'll', 'm', 'o', 're', 've', 'y', \n",
    "    'ain', 'aren', 'couldn', 'didn', 'doesn', 'hadn', 'hasn', 'haven', 'isn', 'ma', 'mightn', 'mustn', 'needn', 'shan', \n",
    "    'shouldn', 'wasn', 'weren', 'won', 'wouldn', 'mr', \"i'm\", \"i've\", \"i’m\", \"i’ve\"\n",
    "    ]\n",
    "\n",
    "    \n",
    "    # Lowercasing the words\n",
    "    text = text.lower()\n",
    "    \n",
    "    # Removing the punctuations (periods)\n",
    "    text = text.replace('.', '')\n",
    "    text = text.replace(',', '')\n",
    "\n",
    "    # Removing the \\n\n",
    "    text = text.replace('\\n', ' ')\n",
    "    \n",
    "    # Splitting on spaces between words\n",
    "    text = text.split(' ')\n",
    "    \n",
    "    # Lemmatizing the words and removing stop words\n",
    "    text = [lemmatizer.lemmatize(i) for i in text if i not in stops]\n",
    "    \n",
    "    return text"
   ]
  },
  {
   "cell_type": "code",
   "execution_count": 146,
   "metadata": {},
   "outputs": [],
   "source": [
    "# Applying the function to each user bio\n",
    "df_pkl.loc[:,'Bio_processed'] = df_pkl.loc[:, 'Bio'].apply(tokenizeAndLemmatize)"
   ]
  },
  {
   "cell_type": "code",
   "execution_count": 147,
   "metadata": {},
   "outputs": [
    {
     "data": {
      "text/html": [
       "<div>\n",
       "<style scoped>\n",
       "    .dataframe tbody tr th:only-of-type {\n",
       "        vertical-align: middle;\n",
       "    }\n",
       "\n",
       "    .dataframe tbody tr th {\n",
       "        vertical-align: top;\n",
       "    }\n",
       "\n",
       "    .dataframe thead th {\n",
       "        text-align: right;\n",
       "    }\n",
       "</style>\n",
       "<table border=\"1\" class=\"dataframe\">\n",
       "  <thead>\n",
       "    <tr style=\"text-align: right;\">\n",
       "      <th></th>\n",
       "      <th>BirthDate</th>\n",
       "      <th>Gender</th>\n",
       "      <th>PreferredGender</th>\n",
       "      <th>LookingFor</th>\n",
       "      <th>Faculty</th>\n",
       "      <th>PersonalTraits</th>\n",
       "      <th>Interests</th>\n",
       "      <th>Values</th>\n",
       "      <th>Bio</th>\n",
       "      <th>Bio_processed</th>\n",
       "    </tr>\n",
       "  </thead>\n",
       "  <tbody>\n",
       "    <tr>\n",
       "      <th>0</th>\n",
       "      <td>2000-06-08</td>\n",
       "      <td>m</td>\n",
       "      <td>any</td>\n",
       "      <td>short-term but long-term OK</td>\n",
       "      <td>Science</td>\n",
       "      <td>thoughtful, creative, curious</td>\n",
       "      <td>music, photography</td>\n",
       "      <td>empathy, responsibility</td>\n",
       "      <td>I can speak three languages, and one of them i...</td>\n",
       "      <td>[speak, three, language, one, sarcasm, enjoy, ...</td>\n",
       "    </tr>\n",
       "    <tr>\n",
       "      <th>1</th>\n",
       "      <td>1998-10-16</td>\n",
       "      <td>f</td>\n",
       "      <td>any</td>\n",
       "      <td>new friends</td>\n",
       "      <td>Business</td>\n",
       "      <td>curious, adventurous, thoughtful</td>\n",
       "      <td>traveling, reading, hiking</td>\n",
       "      <td>creativity, loyalty</td>\n",
       "      <td>I’ve got a collection of 90’s comic books. I e...</td>\n",
       "      <td>[got, collection, 90’s, comic, book, enjoy, sp...</td>\n",
       "    </tr>\n",
       "    <tr>\n",
       "      <th>2</th>\n",
       "      <td>2000-02-16</td>\n",
       "      <td>f</td>\n",
       "      <td>any</td>\n",
       "      <td>long-term but short-term OK</td>\n",
       "      <td>Architecture</td>\n",
       "      <td>creative, shy, curious</td>\n",
       "      <td>fashion</td>\n",
       "      <td>empathy, honesty, respect</td>\n",
       "      <td>My cat thinks she's the queen of the house. Lo...</td>\n",
       "      <td>[cat, think, she's, queen, house, looking, som...</td>\n",
       "    </tr>\n",
       "    <tr>\n",
       "      <th>3</th>\n",
       "      <td>1999-03-18</td>\n",
       "      <td>f</td>\n",
       "      <td>f</td>\n",
       "      <td>still figuring it out</td>\n",
       "      <td>Arts</td>\n",
       "      <td>adventurous, shy</td>\n",
       "      <td>music</td>\n",
       "      <td>respect, spirituality, independence</td>\n",
       "      <td>My cat thinks she's the queen of the house. Lo...</td>\n",
       "      <td>[cat, think, she's, queen, house, looking, som...</td>\n",
       "    </tr>\n",
       "    <tr>\n",
       "      <th>4</th>\n",
       "      <td>1994-02-23</td>\n",
       "      <td>m</td>\n",
       "      <td>any</td>\n",
       "      <td>short-term but long-term OK</td>\n",
       "      <td>Science</td>\n",
       "      <td>thoughtful, creative, shy</td>\n",
       "      <td>fashion, hiking, gaming</td>\n",
       "      <td>independence</td>\n",
       "      <td>I’ve got a collection of 90’s comic books. Cas...</td>\n",
       "      <td>[got, collection, 90’s, comic, book, casual, f...</td>\n",
       "    </tr>\n",
       "    <tr>\n",
       "      <th>...</th>\n",
       "      <td>...</td>\n",
       "      <td>...</td>\n",
       "      <td>...</td>\n",
       "      <td>...</td>\n",
       "      <td>...</td>\n",
       "      <td>...</td>\n",
       "      <td>...</td>\n",
       "      <td>...</td>\n",
       "      <td>...</td>\n",
       "      <td>...</td>\n",
       "    </tr>\n",
       "    <tr>\n",
       "      <th>1995</th>\n",
       "      <td>1998-11-17</td>\n",
       "      <td>f</td>\n",
       "      <td>others</td>\n",
       "      <td>short-term but long-term OK</td>\n",
       "      <td>Architecture</td>\n",
       "      <td>funny</td>\n",
       "      <td>fashion, reading, traveling</td>\n",
       "      <td>spirituality, empathy</td>\n",
       "      <td>My cat thinks she's the queen of the house. I ...</td>\n",
       "      <td>[cat, think, she's, queen, house, enjoy, spont...</td>\n",
       "    </tr>\n",
       "    <tr>\n",
       "      <th>1996</th>\n",
       "      <td>2004-05-23</td>\n",
       "      <td>f</td>\n",
       "      <td>m</td>\n",
       "      <td>short-term but long-term OK</td>\n",
       "      <td>Medicine</td>\n",
       "      <td>outgoing, thoughtful</td>\n",
       "      <td>sports</td>\n",
       "      <td>empathy</td>\n",
       "      <td>I’ve got a collection of 90’s comic books. I e...</td>\n",
       "      <td>[got, collection, 90’s, comic, book, enjoy, sp...</td>\n",
       "    </tr>\n",
       "    <tr>\n",
       "      <th>1997</th>\n",
       "      <td>1995-02-13</td>\n",
       "      <td>m</td>\n",
       "      <td>m</td>\n",
       "      <td>new friends</td>\n",
       "      <td>Arts</td>\n",
       "      <td>creative, thoughtful, curious</td>\n",
       "      <td>fashion, reading</td>\n",
       "      <td>independence, creativity</td>\n",
       "      <td>I once met a celebrity on a hiking trip. Casua...</td>\n",
       "      <td>[met, celebrity, hiking, trip, casual, fun, al...</td>\n",
       "    </tr>\n",
       "    <tr>\n",
       "      <th>1998</th>\n",
       "      <td>2006-10-18</td>\n",
       "      <td>others</td>\n",
       "      <td>any</td>\n",
       "      <td>casual fun</td>\n",
       "      <td>Medicine</td>\n",
       "      <td>thoughtful, ambitious</td>\n",
       "      <td>photography, reading</td>\n",
       "      <td>honesty, independence</td>\n",
       "      <td>I once met a celebrity on a hiking trip. I'm r...</td>\n",
       "      <td>[met, celebrity, hiking, trip, ready, somethin...</td>\n",
       "    </tr>\n",
       "    <tr>\n",
       "      <th>1999</th>\n",
       "      <td>1998-07-01</td>\n",
       "      <td>f</td>\n",
       "      <td>any</td>\n",
       "      <td>casual fun</td>\n",
       "      <td>Architecture</td>\n",
       "      <td>creative, ambitious</td>\n",
       "      <td>technology, gaming, sports</td>\n",
       "      <td>creativity</td>\n",
       "      <td>My cat thinks she's the queen of the house. Lo...</td>\n",
       "      <td>[cat, think, she's, queen, house, looking, som...</td>\n",
       "    </tr>\n",
       "  </tbody>\n",
       "</table>\n",
       "<p>2000 rows × 10 columns</p>\n",
       "</div>"
      ],
      "text/plain": [
       "       BirthDate  Gender PreferredGender                   LookingFor  \\\n",
       "0     2000-06-08       m             any  short-term but long-term OK   \n",
       "1     1998-10-16       f             any                  new friends   \n",
       "2     2000-02-16       f             any  long-term but short-term OK   \n",
       "3     1999-03-18       f               f        still figuring it out   \n",
       "4     1994-02-23       m             any  short-term but long-term OK   \n",
       "...          ...     ...             ...                          ...   \n",
       "1995  1998-11-17       f          others  short-term but long-term OK   \n",
       "1996  2004-05-23       f               m  short-term but long-term OK   \n",
       "1997  1995-02-13       m               m                  new friends   \n",
       "1998  2006-10-18  others             any                   casual fun   \n",
       "1999  1998-07-01       f             any                   casual fun   \n",
       "\n",
       "           Faculty                    PersonalTraits  \\\n",
       "0          Science     thoughtful, creative, curious   \n",
       "1         Business  curious, adventurous, thoughtful   \n",
       "2     Architecture            creative, shy, curious   \n",
       "3             Arts                  adventurous, shy   \n",
       "4          Science         thoughtful, creative, shy   \n",
       "...            ...                               ...   \n",
       "1995  Architecture                             funny   \n",
       "1996      Medicine              outgoing, thoughtful   \n",
       "1997          Arts     creative, thoughtful, curious   \n",
       "1998      Medicine             thoughtful, ambitious   \n",
       "1999  Architecture               creative, ambitious   \n",
       "\n",
       "                        Interests                               Values  \\\n",
       "0              music, photography              empathy, responsibility   \n",
       "1      traveling, reading, hiking                  creativity, loyalty   \n",
       "2                         fashion            empathy, honesty, respect   \n",
       "3                           music  respect, spirituality, independence   \n",
       "4         fashion, hiking, gaming                         independence   \n",
       "...                           ...                                  ...   \n",
       "1995  fashion, reading, traveling                spirituality, empathy   \n",
       "1996                       sports                              empathy   \n",
       "1997             fashion, reading             independence, creativity   \n",
       "1998         photography, reading                honesty, independence   \n",
       "1999   technology, gaming, sports                           creativity   \n",
       "\n",
       "                                                    Bio  \\\n",
       "0     I can speak three languages, and one of them i...   \n",
       "1     I’ve got a collection of 90’s comic books. I e...   \n",
       "2     My cat thinks she's the queen of the house. Lo...   \n",
       "3     My cat thinks she's the queen of the house. Lo...   \n",
       "4     I’ve got a collection of 90’s comic books. Cas...   \n",
       "...                                                 ...   \n",
       "1995  My cat thinks she's the queen of the house. I ...   \n",
       "1996  I’ve got a collection of 90’s comic books. I e...   \n",
       "1997  I once met a celebrity on a hiking trip. Casua...   \n",
       "1998  I once met a celebrity on a hiking trip. I'm r...   \n",
       "1999  My cat thinks she's the queen of the house. Lo...   \n",
       "\n",
       "                                          Bio_processed  \n",
       "0     [speak, three, language, one, sarcasm, enjoy, ...  \n",
       "1     [got, collection, 90’s, comic, book, enjoy, sp...  \n",
       "2     [cat, think, she's, queen, house, looking, som...  \n",
       "3     [cat, think, she's, queen, house, looking, som...  \n",
       "4     [got, collection, 90’s, comic, book, casual, f...  \n",
       "...                                                 ...  \n",
       "1995  [cat, think, she's, queen, house, enjoy, spont...  \n",
       "1996  [got, collection, 90’s, comic, book, enjoy, sp...  \n",
       "1997  [met, celebrity, hiking, trip, casual, fun, al...  \n",
       "1998  [met, celebrity, hiking, trip, ready, somethin...  \n",
       "1999  [cat, think, she's, queen, house, looking, som...  \n",
       "\n",
       "[2000 rows x 10 columns]"
      ]
     },
     "execution_count": 147,
     "metadata": {},
     "output_type": "execute_result"
    }
   ],
   "source": [
    "df_pkl"
   ]
  },
  {
   "cell_type": "code",
   "execution_count": 178,
   "metadata": {},
   "outputs": [],
   "source": [
    "df_pkl.to_csv('randam_chulalongkorn_profiles_bioTokenized.csv', index=False)"
   ]
  },
  {
   "cell_type": "markdown",
   "metadata": {},
   "source": [
    "### Most Frequent Words"
   ]
  },
  {
   "cell_type": "markdown",
   "metadata": {},
   "source": [
    "#### Word by itself"
   ]
  },
  {
   "cell_type": "code",
   "execution_count": 148,
   "metadata": {},
   "outputs": [],
   "source": [
    "words = []\n",
    "\n",
    "for bio in df_pkl['Bio_processed']:\n",
    "    words.extend(bio)\n",
    "\n",
    "df_words = pd.DataFrame({'word':words})"
   ]
  },
  {
   "cell_type": "code",
   "execution_count": 149,
   "metadata": {},
   "outputs": [
    {
     "data": {
      "text/html": [
       "<div>\n",
       "<style scoped>\n",
       "    .dataframe tbody tr th:only-of-type {\n",
       "        vertical-align: middle;\n",
       "    }\n",
       "\n",
       "    .dataframe tbody tr th {\n",
       "        vertical-align: top;\n",
       "    }\n",
       "\n",
       "    .dataframe thead th {\n",
       "        text-align: right;\n",
       "    }\n",
       "</style>\n",
       "<table border=\"1\" class=\"dataframe\">\n",
       "  <thead>\n",
       "    <tr style=\"text-align: right;\">\n",
       "      <th></th>\n",
       "      <th>word</th>\n",
       "    </tr>\n",
       "  </thead>\n",
       "  <tbody>\n",
       "    <tr>\n",
       "      <th>0</th>\n",
       "      <td>speak</td>\n",
       "    </tr>\n",
       "    <tr>\n",
       "      <th>1</th>\n",
       "      <td>three</td>\n",
       "    </tr>\n",
       "    <tr>\n",
       "      <th>2</th>\n",
       "      <td>language</td>\n",
       "    </tr>\n",
       "    <tr>\n",
       "      <th>3</th>\n",
       "      <td>one</td>\n",
       "    </tr>\n",
       "    <tr>\n",
       "      <th>4</th>\n",
       "      <td>sarcasm</td>\n",
       "    </tr>\n",
       "    <tr>\n",
       "      <th>...</th>\n",
       "      <td>...</td>\n",
       "    </tr>\n",
       "    <tr>\n",
       "      <th>62486</th>\n",
       "      <td>believe</td>\n",
       "    </tr>\n",
       "    <tr>\n",
       "      <th>62487</th>\n",
       "      <td>it’s</td>\n",
       "    </tr>\n",
       "    <tr>\n",
       "      <th>62488</th>\n",
       "      <td>key</td>\n",
       "    </tr>\n",
       "    <tr>\n",
       "      <th>62489</th>\n",
       "      <td>lasting</td>\n",
       "    </tr>\n",
       "    <tr>\n",
       "      <th>62490</th>\n",
       "      <td>relationship</td>\n",
       "    </tr>\n",
       "  </tbody>\n",
       "</table>\n",
       "<p>62491 rows × 1 columns</p>\n",
       "</div>"
      ],
      "text/plain": [
       "               word\n",
       "0             speak\n",
       "1             three\n",
       "2          language\n",
       "3               one\n",
       "4           sarcasm\n",
       "...             ...\n",
       "62486       believe\n",
       "62487          it’s\n",
       "62488           key\n",
       "62489       lasting\n",
       "62490  relationship\n",
       "\n",
       "[62491 rows x 1 columns]"
      ]
     },
     "execution_count": 149,
     "metadata": {},
     "output_type": "execute_result"
    }
   ],
   "source": [
    "df_words"
   ]
  },
  {
   "cell_type": "code",
   "execution_count": 150,
   "metadata": {},
   "outputs": [],
   "source": [
    "df_words_count = df_words.value_counts().reset_index()"
   ]
  },
  {
   "cell_type": "code",
   "execution_count": 151,
   "metadata": {},
   "outputs": [
    {
     "data": {
      "text/html": [
       "<div>\n",
       "<style scoped>\n",
       "    .dataframe tbody tr th:only-of-type {\n",
       "        vertical-align: middle;\n",
       "    }\n",
       "\n",
       "    .dataframe tbody tr th {\n",
       "        vertical-align: top;\n",
       "    }\n",
       "\n",
       "    .dataframe thead th {\n",
       "        text-align: right;\n",
       "    }\n",
       "</style>\n",
       "<table border=\"1\" class=\"dataframe\">\n",
       "  <thead>\n",
       "    <tr style=\"text-align: right;\">\n",
       "      <th></th>\n",
       "      <th>word</th>\n",
       "      <th>count</th>\n",
       "    </tr>\n",
       "  </thead>\n",
       "  <tbody>\n",
       "    <tr>\n",
       "      <th>0</th>\n",
       "      <td>love</td>\n",
       "      <td>1563</td>\n",
       "    </tr>\n",
       "    <tr>\n",
       "      <th>1</th>\n",
       "      <td>open</td>\n",
       "      <td>1442</td>\n",
       "    </tr>\n",
       "    <tr>\n",
       "      <th>2</th>\n",
       "      <td>good</td>\n",
       "      <td>1210</td>\n",
       "    </tr>\n",
       "    <tr>\n",
       "      <th>3</th>\n",
       "      <td>new</td>\n",
       "      <td>1205</td>\n",
       "    </tr>\n",
       "    <tr>\n",
       "      <th>4</th>\n",
       "      <td>relationship</td>\n",
       "      <td>1194</td>\n",
       "    </tr>\n",
       "    <tr>\n",
       "      <th>...</th>\n",
       "      <td>...</td>\n",
       "      <td>...</td>\n",
       "    </tr>\n",
       "    <tr>\n",
       "      <th>132</th>\n",
       "      <td>past</td>\n",
       "      <td>255</td>\n",
       "    </tr>\n",
       "    <tr>\n",
       "      <th>133</th>\n",
       "      <td>visited</td>\n",
       "      <td>255</td>\n",
       "    </tr>\n",
       "    <tr>\n",
       "      <th>134</th>\n",
       "      <td>country</td>\n",
       "      <td>255</td>\n",
       "    </tr>\n",
       "    <tr>\n",
       "      <th>135</th>\n",
       "      <td>year</td>\n",
       "      <td>255</td>\n",
       "    </tr>\n",
       "    <tr>\n",
       "      <th>136</th>\n",
       "      <td>10</td>\n",
       "      <td>255</td>\n",
       "    </tr>\n",
       "  </tbody>\n",
       "</table>\n",
       "<p>137 rows × 2 columns</p>\n",
       "</div>"
      ],
      "text/plain": [
       "             word  count\n",
       "0            love   1563\n",
       "1            open   1442\n",
       "2            good   1210\n",
       "3             new   1205\n",
       "4    relationship   1194\n",
       "..            ...    ...\n",
       "132          past    255\n",
       "133       visited    255\n",
       "134       country    255\n",
       "135          year    255\n",
       "136            10    255\n",
       "\n",
       "[137 rows x 2 columns]"
      ]
     },
     "execution_count": 151,
     "metadata": {},
     "output_type": "execute_result"
    }
   ],
   "source": [
    "df_words_count"
   ]
  },
  {
   "cell_type": "code",
   "execution_count": 175,
   "metadata": {},
   "outputs": [
    {
     "data": {
      "application/vnd.plotly.v1+json": {
       "config": {
        "plotlyServerURL": "https://plot.ly"
       },
       "data": [
        {
         "alignmentgroup": "True",
         "hovertemplate": "word=%{x}<br>count=%{y}<extra></extra>",
         "legendgroup": "",
         "marker": {
          "color": "#636efa",
          "pattern": {
           "shape": ""
          }
         },
         "name": "",
         "offsetgroup": "",
         "orientation": "v",
         "showlegend": false,
         "textposition": "auto",
         "type": "bar",
         "x": [
          "love",
          "open",
          "good",
          "new",
          "relationship",
          "always",
          "make",
          "someone",
          "growth",
          "key",
          "trying",
          "value",
          "believe",
          "find",
          "connection",
          "laugh",
          "weekend",
          "time",
          "spontaneous",
          "trip",
          "thing",
          "best",
          "book",
          "hiking",
          "something"
         ],
         "xaxis": "x",
         "y": [
          1563,
          1442,
          1210,
          1205,
          1194,
          1159,
          1039,
          980,
          806,
          804,
          795,
          789,
          787,
          773,
          753,
          751,
          737,
          730,
          712,
          711,
          707,
          707,
          672,
          663,
          656
         ],
         "yaxis": "y"
        }
       ],
       "layout": {
        "barmode": "relative",
        "legend": {
         "tracegroupgap": 0
        },
        "template": {
         "data": {
          "bar": [
           {
            "error_x": {
             "color": "#2a3f5f"
            },
            "error_y": {
             "color": "#2a3f5f"
            },
            "marker": {
             "line": {
              "color": "#E5ECF6",
              "width": 0.5
             },
             "pattern": {
              "fillmode": "overlay",
              "size": 10,
              "solidity": 0.2
             }
            },
            "type": "bar"
           }
          ],
          "barpolar": [
           {
            "marker": {
             "line": {
              "color": "#E5ECF6",
              "width": 0.5
             },
             "pattern": {
              "fillmode": "overlay",
              "size": 10,
              "solidity": 0.2
             }
            },
            "type": "barpolar"
           }
          ],
          "carpet": [
           {
            "aaxis": {
             "endlinecolor": "#2a3f5f",
             "gridcolor": "white",
             "linecolor": "white",
             "minorgridcolor": "white",
             "startlinecolor": "#2a3f5f"
            },
            "baxis": {
             "endlinecolor": "#2a3f5f",
             "gridcolor": "white",
             "linecolor": "white",
             "minorgridcolor": "white",
             "startlinecolor": "#2a3f5f"
            },
            "type": "carpet"
           }
          ],
          "choropleth": [
           {
            "colorbar": {
             "outlinewidth": 0,
             "ticks": ""
            },
            "type": "choropleth"
           }
          ],
          "contour": [
           {
            "colorbar": {
             "outlinewidth": 0,
             "ticks": ""
            },
            "colorscale": [
             [
              0,
              "#0d0887"
             ],
             [
              0.1111111111111111,
              "#46039f"
             ],
             [
              0.2222222222222222,
              "#7201a8"
             ],
             [
              0.3333333333333333,
              "#9c179e"
             ],
             [
              0.4444444444444444,
              "#bd3786"
             ],
             [
              0.5555555555555556,
              "#d8576b"
             ],
             [
              0.6666666666666666,
              "#ed7953"
             ],
             [
              0.7777777777777778,
              "#fb9f3a"
             ],
             [
              0.8888888888888888,
              "#fdca26"
             ],
             [
              1,
              "#f0f921"
             ]
            ],
            "type": "contour"
           }
          ],
          "contourcarpet": [
           {
            "colorbar": {
             "outlinewidth": 0,
             "ticks": ""
            },
            "type": "contourcarpet"
           }
          ],
          "heatmap": [
           {
            "colorbar": {
             "outlinewidth": 0,
             "ticks": ""
            },
            "colorscale": [
             [
              0,
              "#0d0887"
             ],
             [
              0.1111111111111111,
              "#46039f"
             ],
             [
              0.2222222222222222,
              "#7201a8"
             ],
             [
              0.3333333333333333,
              "#9c179e"
             ],
             [
              0.4444444444444444,
              "#bd3786"
             ],
             [
              0.5555555555555556,
              "#d8576b"
             ],
             [
              0.6666666666666666,
              "#ed7953"
             ],
             [
              0.7777777777777778,
              "#fb9f3a"
             ],
             [
              0.8888888888888888,
              "#fdca26"
             ],
             [
              1,
              "#f0f921"
             ]
            ],
            "type": "heatmap"
           }
          ],
          "heatmapgl": [
           {
            "colorbar": {
             "outlinewidth": 0,
             "ticks": ""
            },
            "colorscale": [
             [
              0,
              "#0d0887"
             ],
             [
              0.1111111111111111,
              "#46039f"
             ],
             [
              0.2222222222222222,
              "#7201a8"
             ],
             [
              0.3333333333333333,
              "#9c179e"
             ],
             [
              0.4444444444444444,
              "#bd3786"
             ],
             [
              0.5555555555555556,
              "#d8576b"
             ],
             [
              0.6666666666666666,
              "#ed7953"
             ],
             [
              0.7777777777777778,
              "#fb9f3a"
             ],
             [
              0.8888888888888888,
              "#fdca26"
             ],
             [
              1,
              "#f0f921"
             ]
            ],
            "type": "heatmapgl"
           }
          ],
          "histogram": [
           {
            "marker": {
             "pattern": {
              "fillmode": "overlay",
              "size": 10,
              "solidity": 0.2
             }
            },
            "type": "histogram"
           }
          ],
          "histogram2d": [
           {
            "colorbar": {
             "outlinewidth": 0,
             "ticks": ""
            },
            "colorscale": [
             [
              0,
              "#0d0887"
             ],
             [
              0.1111111111111111,
              "#46039f"
             ],
             [
              0.2222222222222222,
              "#7201a8"
             ],
             [
              0.3333333333333333,
              "#9c179e"
             ],
             [
              0.4444444444444444,
              "#bd3786"
             ],
             [
              0.5555555555555556,
              "#d8576b"
             ],
             [
              0.6666666666666666,
              "#ed7953"
             ],
             [
              0.7777777777777778,
              "#fb9f3a"
             ],
             [
              0.8888888888888888,
              "#fdca26"
             ],
             [
              1,
              "#f0f921"
             ]
            ],
            "type": "histogram2d"
           }
          ],
          "histogram2dcontour": [
           {
            "colorbar": {
             "outlinewidth": 0,
             "ticks": ""
            },
            "colorscale": [
             [
              0,
              "#0d0887"
             ],
             [
              0.1111111111111111,
              "#46039f"
             ],
             [
              0.2222222222222222,
              "#7201a8"
             ],
             [
              0.3333333333333333,
              "#9c179e"
             ],
             [
              0.4444444444444444,
              "#bd3786"
             ],
             [
              0.5555555555555556,
              "#d8576b"
             ],
             [
              0.6666666666666666,
              "#ed7953"
             ],
             [
              0.7777777777777778,
              "#fb9f3a"
             ],
             [
              0.8888888888888888,
              "#fdca26"
             ],
             [
              1,
              "#f0f921"
             ]
            ],
            "type": "histogram2dcontour"
           }
          ],
          "mesh3d": [
           {
            "colorbar": {
             "outlinewidth": 0,
             "ticks": ""
            },
            "type": "mesh3d"
           }
          ],
          "parcoords": [
           {
            "line": {
             "colorbar": {
              "outlinewidth": 0,
              "ticks": ""
             }
            },
            "type": "parcoords"
           }
          ],
          "pie": [
           {
            "automargin": true,
            "type": "pie"
           }
          ],
          "scatter": [
           {
            "fillpattern": {
             "fillmode": "overlay",
             "size": 10,
             "solidity": 0.2
            },
            "type": "scatter"
           }
          ],
          "scatter3d": [
           {
            "line": {
             "colorbar": {
              "outlinewidth": 0,
              "ticks": ""
             }
            },
            "marker": {
             "colorbar": {
              "outlinewidth": 0,
              "ticks": ""
             }
            },
            "type": "scatter3d"
           }
          ],
          "scattercarpet": [
           {
            "marker": {
             "colorbar": {
              "outlinewidth": 0,
              "ticks": ""
             }
            },
            "type": "scattercarpet"
           }
          ],
          "scattergeo": [
           {
            "marker": {
             "colorbar": {
              "outlinewidth": 0,
              "ticks": ""
             }
            },
            "type": "scattergeo"
           }
          ],
          "scattergl": [
           {
            "marker": {
             "colorbar": {
              "outlinewidth": 0,
              "ticks": ""
             }
            },
            "type": "scattergl"
           }
          ],
          "scattermapbox": [
           {
            "marker": {
             "colorbar": {
              "outlinewidth": 0,
              "ticks": ""
             }
            },
            "type": "scattermapbox"
           }
          ],
          "scatterpolar": [
           {
            "marker": {
             "colorbar": {
              "outlinewidth": 0,
              "ticks": ""
             }
            },
            "type": "scatterpolar"
           }
          ],
          "scatterpolargl": [
           {
            "marker": {
             "colorbar": {
              "outlinewidth": 0,
              "ticks": ""
             }
            },
            "type": "scatterpolargl"
           }
          ],
          "scatterternary": [
           {
            "marker": {
             "colorbar": {
              "outlinewidth": 0,
              "ticks": ""
             }
            },
            "type": "scatterternary"
           }
          ],
          "surface": [
           {
            "colorbar": {
             "outlinewidth": 0,
             "ticks": ""
            },
            "colorscale": [
             [
              0,
              "#0d0887"
             ],
             [
              0.1111111111111111,
              "#46039f"
             ],
             [
              0.2222222222222222,
              "#7201a8"
             ],
             [
              0.3333333333333333,
              "#9c179e"
             ],
             [
              0.4444444444444444,
              "#bd3786"
             ],
             [
              0.5555555555555556,
              "#d8576b"
             ],
             [
              0.6666666666666666,
              "#ed7953"
             ],
             [
              0.7777777777777778,
              "#fb9f3a"
             ],
             [
              0.8888888888888888,
              "#fdca26"
             ],
             [
              1,
              "#f0f921"
             ]
            ],
            "type": "surface"
           }
          ],
          "table": [
           {
            "cells": {
             "fill": {
              "color": "#EBF0F8"
             },
             "line": {
              "color": "white"
             }
            },
            "header": {
             "fill": {
              "color": "#C8D4E3"
             },
             "line": {
              "color": "white"
             }
            },
            "type": "table"
           }
          ]
         },
         "layout": {
          "annotationdefaults": {
           "arrowcolor": "#2a3f5f",
           "arrowhead": 0,
           "arrowwidth": 1
          },
          "autotypenumbers": "strict",
          "coloraxis": {
           "colorbar": {
            "outlinewidth": 0,
            "ticks": ""
           }
          },
          "colorscale": {
           "diverging": [
            [
             0,
             "#8e0152"
            ],
            [
             0.1,
             "#c51b7d"
            ],
            [
             0.2,
             "#de77ae"
            ],
            [
             0.3,
             "#f1b6da"
            ],
            [
             0.4,
             "#fde0ef"
            ],
            [
             0.5,
             "#f7f7f7"
            ],
            [
             0.6,
             "#e6f5d0"
            ],
            [
             0.7,
             "#b8e186"
            ],
            [
             0.8,
             "#7fbc41"
            ],
            [
             0.9,
             "#4d9221"
            ],
            [
             1,
             "#276419"
            ]
           ],
           "sequential": [
            [
             0,
             "#0d0887"
            ],
            [
             0.1111111111111111,
             "#46039f"
            ],
            [
             0.2222222222222222,
             "#7201a8"
            ],
            [
             0.3333333333333333,
             "#9c179e"
            ],
            [
             0.4444444444444444,
             "#bd3786"
            ],
            [
             0.5555555555555556,
             "#d8576b"
            ],
            [
             0.6666666666666666,
             "#ed7953"
            ],
            [
             0.7777777777777778,
             "#fb9f3a"
            ],
            [
             0.8888888888888888,
             "#fdca26"
            ],
            [
             1,
             "#f0f921"
            ]
           ],
           "sequentialminus": [
            [
             0,
             "#0d0887"
            ],
            [
             0.1111111111111111,
             "#46039f"
            ],
            [
             0.2222222222222222,
             "#7201a8"
            ],
            [
             0.3333333333333333,
             "#9c179e"
            ],
            [
             0.4444444444444444,
             "#bd3786"
            ],
            [
             0.5555555555555556,
             "#d8576b"
            ],
            [
             0.6666666666666666,
             "#ed7953"
            ],
            [
             0.7777777777777778,
             "#fb9f3a"
            ],
            [
             0.8888888888888888,
             "#fdca26"
            ],
            [
             1,
             "#f0f921"
            ]
           ]
          },
          "colorway": [
           "#636efa",
           "#EF553B",
           "#00cc96",
           "#ab63fa",
           "#FFA15A",
           "#19d3f3",
           "#FF6692",
           "#B6E880",
           "#FF97FF",
           "#FECB52"
          ],
          "font": {
           "color": "#2a3f5f"
          },
          "geo": {
           "bgcolor": "white",
           "lakecolor": "white",
           "landcolor": "#E5ECF6",
           "showlakes": true,
           "showland": true,
           "subunitcolor": "white"
          },
          "hoverlabel": {
           "align": "left"
          },
          "hovermode": "closest",
          "mapbox": {
           "style": "light"
          },
          "paper_bgcolor": "white",
          "plot_bgcolor": "#E5ECF6",
          "polar": {
           "angularaxis": {
            "gridcolor": "white",
            "linecolor": "white",
            "ticks": ""
           },
           "bgcolor": "#E5ECF6",
           "radialaxis": {
            "gridcolor": "white",
            "linecolor": "white",
            "ticks": ""
           }
          },
          "scene": {
           "xaxis": {
            "backgroundcolor": "#E5ECF6",
            "gridcolor": "white",
            "gridwidth": 2,
            "linecolor": "white",
            "showbackground": true,
            "ticks": "",
            "zerolinecolor": "white"
           },
           "yaxis": {
            "backgroundcolor": "#E5ECF6",
            "gridcolor": "white",
            "gridwidth": 2,
            "linecolor": "white",
            "showbackground": true,
            "ticks": "",
            "zerolinecolor": "white"
           },
           "zaxis": {
            "backgroundcolor": "#E5ECF6",
            "gridcolor": "white",
            "gridwidth": 2,
            "linecolor": "white",
            "showbackground": true,
            "ticks": "",
            "zerolinecolor": "white"
           }
          },
          "shapedefaults": {
           "line": {
            "color": "#2a3f5f"
           }
          },
          "ternary": {
           "aaxis": {
            "gridcolor": "white",
            "linecolor": "white",
            "ticks": ""
           },
           "baxis": {
            "gridcolor": "white",
            "linecolor": "white",
            "ticks": ""
           },
           "bgcolor": "#E5ECF6",
           "caxis": {
            "gridcolor": "white",
            "linecolor": "white",
            "ticks": ""
           }
          },
          "title": {
           "x": 0.05
          },
          "xaxis": {
           "automargin": true,
           "gridcolor": "white",
           "linecolor": "white",
           "ticks": "",
           "title": {
            "standoff": 15
           },
           "zerolinecolor": "white",
           "zerolinewidth": 2
          },
          "yaxis": {
           "automargin": true,
           "gridcolor": "white",
           "linecolor": "white",
           "ticks": "",
           "title": {
            "standoff": 15
           },
           "zerolinecolor": "white",
           "zerolinewidth": 2
          }
         }
        },
        "title": {
         "text": "25 Most Frequently Used Words in User Bios"
        },
        "xaxis": {
         "anchor": "y",
         "domain": [
          0,
          1
         ],
         "title": {
          "text": "word"
         }
        },
        "yaxis": {
         "anchor": "x",
         "domain": [
          0,
          1
         ],
         "title": {
          "text": "count"
         }
        }
       }
      }
     },
     "metadata": {},
     "output_type": "display_data"
    }
   ],
   "source": [
    "fig = px.bar(df_words_count.iloc[0:25, :], x='word', y='count', title='25 Most Frequently Used Words in User Bios')\n",
    "fig.show()"
   ]
  },
  {
   "cell_type": "markdown",
   "metadata": {},
   "source": [
    "#### Bigram"
   ]
  },
  {
   "cell_type": "markdown",
   "metadata": {},
   "source": [
    "Examining words in pairs may give better insights."
   ]
  },
  {
   "cell_type": "code",
   "execution_count": 159,
   "metadata": {},
   "outputs": [],
   "source": [
    "# Instantiating the score of each bigram\n",
    "bigram_meas = BigramAssocMeasures()\n",
    "\n",
    "# Finding and ranking the Bigrams in each bio\n",
    "bio_finder = BigramCollocationFinder.from_words(words)\n",
    "\n",
    "# Finding the frequency scores of each bigram \n",
    "bio_scored = bio_finder.score_ngrams(bigram_meas.raw_freq)\n",
    "\n",
    "# Top 50 most common bigrams\n",
    "bio_scored[:50]\n",
    "\n",
    "# Creating a list of the bigrams\n",
    "bg = list(map(lambda x: x[0][0] + ' ' + x[0][1], bio_scored[:50]))\n",
    "\n",
    "# Creating a list of the frequency scores\n",
    "bio_scores = list(map(lambda x: x[1], bio_scored[:50]))\n",
    "\n",
    "# Combining both the scores and the bigrams\n",
    "bigrams = list(zip(bg, bio_scores))"
   ]
  },
  {
   "cell_type": "code",
   "execution_count": 160,
   "metadata": {},
   "outputs": [
    {
     "data": {
      "text/plain": [
       "[('trying new', 0.012721831943799907),\n",
       " ('make best', 0.011313629162599413),\n",
       " ('anything digital', 0.00689699316701605),\n",
       " ('coding gaming', 0.00689699316701605),\n",
       " ('gaming anything', 0.00689699316701605),\n",
       " ('geek love', 0.00689699316701605),\n",
       " ('love coding', 0.00689699316701605),\n",
       " ('tech geek', 0.00689699316701605),\n",
       " ('catching latest', 0.006864988558352402),\n",
       " ('latest movie', 0.006864988558352402),\n",
       " ('movie podcasts', 0.006864988558352402),\n",
       " ('working catching', 0.006864988558352402),\n",
       " ('always good', 0.006704965515034165),\n",
       " ('good laugh', 0.006704965515034165),\n",
       " ('good sense', 0.006704965515034165),\n",
       " ('humor key', 0.006704965515034165),\n",
       " ('key always', 0.006704965515034165),\n",
       " ('sense humor', 0.006704965515034165),\n",
       " ('either trying', 0.006560944776047751),\n",
       " ('exploring new', 0.006560944776047751),\n",
       " ('new city', 0.006560944776047751),\n",
       " ('new recipe', 0.006560944776047751),\n",
       " ('recipe exploring', 0.006560944776047751),\n",
       " ('weekend either', 0.006560944776047751),\n",
       " ('always impromptu', 0.006496935558720456),\n",
       " ('best relationship', 0.006496935558720456),\n",
       " ('easygoing always', 0.006496935558720456),\n",
       " ('friend say', 0.006496935558720456),\n",
       " ('goal make', 0.006496935558720456),\n",
       " ('impromptu road', 0.006496935558720456),\n",
       " ('loyal easygoing', 0.006496935558720456),\n",
       " ('mutual respect', 0.006496935558720456),\n",
       " ('respect shared', 0.006496935558720456),\n",
       " ('road trip', 0.006496935558720456),\n",
       " ('say loyal', 0.006496935558720456),\n",
       " ('shared goal', 0.006496935558720456),\n",
       " ('growth want', 0.006464930950056808),\n",
       " ('partner value', 0.006464930950056808),\n",
       " ('personal growth', 0.006464930950056808),\n",
       " ('want partner', 0.006464930950056808),\n",
       " ('cornerstone relationship', 0.006448928645724984),\n",
       " ('honesty trust', 0.006448928645724984),\n",
       " ('trust cornerstone', 0.006448928645724984),\n",
       " ('believe supporting', 0.0064329263413931605),\n",
       " ('loyalty believe', 0.0064329263413931605),\n",
       " ('other’s growth', 0.0064329263413931605),\n",
       " ('supporting other’s', 0.0064329263413931605),\n",
       " ('bit introverted', 0.006416924037061337),\n",
       " ('find total', 0.006416924037061337),\n",
       " ('introverted open', 0.006416924037061337)]"
      ]
     },
     "execution_count": 160,
     "metadata": {},
     "output_type": "execute_result"
    }
   ],
   "source": [
    "bigrams"
   ]
  },
  {
   "cell_type": "code",
   "execution_count": 176,
   "metadata": {},
   "outputs": [
    {
     "data": {
      "application/vnd.plotly.v1+json": {
       "config": {
        "plotlyServerURL": "https://plot.ly"
       },
       "data": [
        {
         "alignmentgroup": "True",
         "hovertemplate": "Bigram=%{x}<br>Frequency=%{y}<extra></extra>",
         "legendgroup": "",
         "marker": {
          "color": "#636efa",
          "pattern": {
           "shape": ""
          }
         },
         "name": "",
         "offsetgroup": "",
         "orientation": "v",
         "showlegend": false,
         "textposition": "auto",
         "type": "bar",
         "x": [
          "trying new",
          "make best",
          "anything digital",
          "coding gaming",
          "gaming anything",
          "geek love",
          "love coding",
          "tech geek",
          "catching latest",
          "latest movie",
          "movie podcasts",
          "working catching",
          "always good",
          "good laugh",
          "good sense",
          "humor key",
          "key always",
          "sense humor",
          "either trying",
          "exploring new",
          "new city",
          "new recipe",
          "recipe exploring",
          "weekend either",
          "always impromptu",
          "best relationship",
          "easygoing always",
          "friend say",
          "goal make",
          "impromptu road",
          "loyal easygoing",
          "mutual respect",
          "respect shared",
          "road trip",
          "say loyal",
          "shared goal",
          "growth want",
          "partner value",
          "personal growth",
          "want partner",
          "cornerstone relationship",
          "honesty trust",
          "trust cornerstone",
          "believe supporting",
          "loyalty believe",
          "other’s growth",
          "supporting other’s",
          "bit introverted",
          "find total",
          "introverted open"
         ],
         "xaxis": "x",
         "y": [
          0.012721831943799907,
          0.011313629162599413,
          0.00689699316701605,
          0.00689699316701605,
          0.00689699316701605,
          0.00689699316701605,
          0.00689699316701605,
          0.00689699316701605,
          0.006864988558352402,
          0.006864988558352402,
          0.006864988558352402,
          0.006864988558352402,
          0.006704965515034165,
          0.006704965515034165,
          0.006704965515034165,
          0.006704965515034165,
          0.006704965515034165,
          0.006704965515034165,
          0.006560944776047751,
          0.006560944776047751,
          0.006560944776047751,
          0.006560944776047751,
          0.006560944776047751,
          0.006560944776047751,
          0.006496935558720456,
          0.006496935558720456,
          0.006496935558720456,
          0.006496935558720456,
          0.006496935558720456,
          0.006496935558720456,
          0.006496935558720456,
          0.006496935558720456,
          0.006496935558720456,
          0.006496935558720456,
          0.006496935558720456,
          0.006496935558720456,
          0.006464930950056808,
          0.006464930950056808,
          0.006464930950056808,
          0.006464930950056808,
          0.006448928645724984,
          0.006448928645724984,
          0.006448928645724984,
          0.0064329263413931605,
          0.0064329263413931605,
          0.0064329263413931605,
          0.0064329263413931605,
          0.006416924037061337,
          0.006416924037061337,
          0.006416924037061337
         ],
         "yaxis": "y"
        }
       ],
       "layout": {
        "barmode": "relative",
        "height": 800,
        "legend": {
         "tracegroupgap": 0
        },
        "template": {
         "data": {
          "bar": [
           {
            "error_x": {
             "color": "#2a3f5f"
            },
            "error_y": {
             "color": "#2a3f5f"
            },
            "marker": {
             "line": {
              "color": "#E5ECF6",
              "width": 0.5
             },
             "pattern": {
              "fillmode": "overlay",
              "size": 10,
              "solidity": 0.2
             }
            },
            "type": "bar"
           }
          ],
          "barpolar": [
           {
            "marker": {
             "line": {
              "color": "#E5ECF6",
              "width": 0.5
             },
             "pattern": {
              "fillmode": "overlay",
              "size": 10,
              "solidity": 0.2
             }
            },
            "type": "barpolar"
           }
          ],
          "carpet": [
           {
            "aaxis": {
             "endlinecolor": "#2a3f5f",
             "gridcolor": "white",
             "linecolor": "white",
             "minorgridcolor": "white",
             "startlinecolor": "#2a3f5f"
            },
            "baxis": {
             "endlinecolor": "#2a3f5f",
             "gridcolor": "white",
             "linecolor": "white",
             "minorgridcolor": "white",
             "startlinecolor": "#2a3f5f"
            },
            "type": "carpet"
           }
          ],
          "choropleth": [
           {
            "colorbar": {
             "outlinewidth": 0,
             "ticks": ""
            },
            "type": "choropleth"
           }
          ],
          "contour": [
           {
            "colorbar": {
             "outlinewidth": 0,
             "ticks": ""
            },
            "colorscale": [
             [
              0,
              "#0d0887"
             ],
             [
              0.1111111111111111,
              "#46039f"
             ],
             [
              0.2222222222222222,
              "#7201a8"
             ],
             [
              0.3333333333333333,
              "#9c179e"
             ],
             [
              0.4444444444444444,
              "#bd3786"
             ],
             [
              0.5555555555555556,
              "#d8576b"
             ],
             [
              0.6666666666666666,
              "#ed7953"
             ],
             [
              0.7777777777777778,
              "#fb9f3a"
             ],
             [
              0.8888888888888888,
              "#fdca26"
             ],
             [
              1,
              "#f0f921"
             ]
            ],
            "type": "contour"
           }
          ],
          "contourcarpet": [
           {
            "colorbar": {
             "outlinewidth": 0,
             "ticks": ""
            },
            "type": "contourcarpet"
           }
          ],
          "heatmap": [
           {
            "colorbar": {
             "outlinewidth": 0,
             "ticks": ""
            },
            "colorscale": [
             [
              0,
              "#0d0887"
             ],
             [
              0.1111111111111111,
              "#46039f"
             ],
             [
              0.2222222222222222,
              "#7201a8"
             ],
             [
              0.3333333333333333,
              "#9c179e"
             ],
             [
              0.4444444444444444,
              "#bd3786"
             ],
             [
              0.5555555555555556,
              "#d8576b"
             ],
             [
              0.6666666666666666,
              "#ed7953"
             ],
             [
              0.7777777777777778,
              "#fb9f3a"
             ],
             [
              0.8888888888888888,
              "#fdca26"
             ],
             [
              1,
              "#f0f921"
             ]
            ],
            "type": "heatmap"
           }
          ],
          "heatmapgl": [
           {
            "colorbar": {
             "outlinewidth": 0,
             "ticks": ""
            },
            "colorscale": [
             [
              0,
              "#0d0887"
             ],
             [
              0.1111111111111111,
              "#46039f"
             ],
             [
              0.2222222222222222,
              "#7201a8"
             ],
             [
              0.3333333333333333,
              "#9c179e"
             ],
             [
              0.4444444444444444,
              "#bd3786"
             ],
             [
              0.5555555555555556,
              "#d8576b"
             ],
             [
              0.6666666666666666,
              "#ed7953"
             ],
             [
              0.7777777777777778,
              "#fb9f3a"
             ],
             [
              0.8888888888888888,
              "#fdca26"
             ],
             [
              1,
              "#f0f921"
             ]
            ],
            "type": "heatmapgl"
           }
          ],
          "histogram": [
           {
            "marker": {
             "pattern": {
              "fillmode": "overlay",
              "size": 10,
              "solidity": 0.2
             }
            },
            "type": "histogram"
           }
          ],
          "histogram2d": [
           {
            "colorbar": {
             "outlinewidth": 0,
             "ticks": ""
            },
            "colorscale": [
             [
              0,
              "#0d0887"
             ],
             [
              0.1111111111111111,
              "#46039f"
             ],
             [
              0.2222222222222222,
              "#7201a8"
             ],
             [
              0.3333333333333333,
              "#9c179e"
             ],
             [
              0.4444444444444444,
              "#bd3786"
             ],
             [
              0.5555555555555556,
              "#d8576b"
             ],
             [
              0.6666666666666666,
              "#ed7953"
             ],
             [
              0.7777777777777778,
              "#fb9f3a"
             ],
             [
              0.8888888888888888,
              "#fdca26"
             ],
             [
              1,
              "#f0f921"
             ]
            ],
            "type": "histogram2d"
           }
          ],
          "histogram2dcontour": [
           {
            "colorbar": {
             "outlinewidth": 0,
             "ticks": ""
            },
            "colorscale": [
             [
              0,
              "#0d0887"
             ],
             [
              0.1111111111111111,
              "#46039f"
             ],
             [
              0.2222222222222222,
              "#7201a8"
             ],
             [
              0.3333333333333333,
              "#9c179e"
             ],
             [
              0.4444444444444444,
              "#bd3786"
             ],
             [
              0.5555555555555556,
              "#d8576b"
             ],
             [
              0.6666666666666666,
              "#ed7953"
             ],
             [
              0.7777777777777778,
              "#fb9f3a"
             ],
             [
              0.8888888888888888,
              "#fdca26"
             ],
             [
              1,
              "#f0f921"
             ]
            ],
            "type": "histogram2dcontour"
           }
          ],
          "mesh3d": [
           {
            "colorbar": {
             "outlinewidth": 0,
             "ticks": ""
            },
            "type": "mesh3d"
           }
          ],
          "parcoords": [
           {
            "line": {
             "colorbar": {
              "outlinewidth": 0,
              "ticks": ""
             }
            },
            "type": "parcoords"
           }
          ],
          "pie": [
           {
            "automargin": true,
            "type": "pie"
           }
          ],
          "scatter": [
           {
            "fillpattern": {
             "fillmode": "overlay",
             "size": 10,
             "solidity": 0.2
            },
            "type": "scatter"
           }
          ],
          "scatter3d": [
           {
            "line": {
             "colorbar": {
              "outlinewidth": 0,
              "ticks": ""
             }
            },
            "marker": {
             "colorbar": {
              "outlinewidth": 0,
              "ticks": ""
             }
            },
            "type": "scatter3d"
           }
          ],
          "scattercarpet": [
           {
            "marker": {
             "colorbar": {
              "outlinewidth": 0,
              "ticks": ""
             }
            },
            "type": "scattercarpet"
           }
          ],
          "scattergeo": [
           {
            "marker": {
             "colorbar": {
              "outlinewidth": 0,
              "ticks": ""
             }
            },
            "type": "scattergeo"
           }
          ],
          "scattergl": [
           {
            "marker": {
             "colorbar": {
              "outlinewidth": 0,
              "ticks": ""
             }
            },
            "type": "scattergl"
           }
          ],
          "scattermapbox": [
           {
            "marker": {
             "colorbar": {
              "outlinewidth": 0,
              "ticks": ""
             }
            },
            "type": "scattermapbox"
           }
          ],
          "scatterpolar": [
           {
            "marker": {
             "colorbar": {
              "outlinewidth": 0,
              "ticks": ""
             }
            },
            "type": "scatterpolar"
           }
          ],
          "scatterpolargl": [
           {
            "marker": {
             "colorbar": {
              "outlinewidth": 0,
              "ticks": ""
             }
            },
            "type": "scatterpolargl"
           }
          ],
          "scatterternary": [
           {
            "marker": {
             "colorbar": {
              "outlinewidth": 0,
              "ticks": ""
             }
            },
            "type": "scatterternary"
           }
          ],
          "surface": [
           {
            "colorbar": {
             "outlinewidth": 0,
             "ticks": ""
            },
            "colorscale": [
             [
              0,
              "#0d0887"
             ],
             [
              0.1111111111111111,
              "#46039f"
             ],
             [
              0.2222222222222222,
              "#7201a8"
             ],
             [
              0.3333333333333333,
              "#9c179e"
             ],
             [
              0.4444444444444444,
              "#bd3786"
             ],
             [
              0.5555555555555556,
              "#d8576b"
             ],
             [
              0.6666666666666666,
              "#ed7953"
             ],
             [
              0.7777777777777778,
              "#fb9f3a"
             ],
             [
              0.8888888888888888,
              "#fdca26"
             ],
             [
              1,
              "#f0f921"
             ]
            ],
            "type": "surface"
           }
          ],
          "table": [
           {
            "cells": {
             "fill": {
              "color": "#EBF0F8"
             },
             "line": {
              "color": "white"
             }
            },
            "header": {
             "fill": {
              "color": "#C8D4E3"
             },
             "line": {
              "color": "white"
             }
            },
            "type": "table"
           }
          ]
         },
         "layout": {
          "annotationdefaults": {
           "arrowcolor": "#2a3f5f",
           "arrowhead": 0,
           "arrowwidth": 1
          },
          "autotypenumbers": "strict",
          "coloraxis": {
           "colorbar": {
            "outlinewidth": 0,
            "ticks": ""
           }
          },
          "colorscale": {
           "diverging": [
            [
             0,
             "#8e0152"
            ],
            [
             0.1,
             "#c51b7d"
            ],
            [
             0.2,
             "#de77ae"
            ],
            [
             0.3,
             "#f1b6da"
            ],
            [
             0.4,
             "#fde0ef"
            ],
            [
             0.5,
             "#f7f7f7"
            ],
            [
             0.6,
             "#e6f5d0"
            ],
            [
             0.7,
             "#b8e186"
            ],
            [
             0.8,
             "#7fbc41"
            ],
            [
             0.9,
             "#4d9221"
            ],
            [
             1,
             "#276419"
            ]
           ],
           "sequential": [
            [
             0,
             "#0d0887"
            ],
            [
             0.1111111111111111,
             "#46039f"
            ],
            [
             0.2222222222222222,
             "#7201a8"
            ],
            [
             0.3333333333333333,
             "#9c179e"
            ],
            [
             0.4444444444444444,
             "#bd3786"
            ],
            [
             0.5555555555555556,
             "#d8576b"
            ],
            [
             0.6666666666666666,
             "#ed7953"
            ],
            [
             0.7777777777777778,
             "#fb9f3a"
            ],
            [
             0.8888888888888888,
             "#fdca26"
            ],
            [
             1,
             "#f0f921"
            ]
           ],
           "sequentialminus": [
            [
             0,
             "#0d0887"
            ],
            [
             0.1111111111111111,
             "#46039f"
            ],
            [
             0.2222222222222222,
             "#7201a8"
            ],
            [
             0.3333333333333333,
             "#9c179e"
            ],
            [
             0.4444444444444444,
             "#bd3786"
            ],
            [
             0.5555555555555556,
             "#d8576b"
            ],
            [
             0.6666666666666666,
             "#ed7953"
            ],
            [
             0.7777777777777778,
             "#fb9f3a"
            ],
            [
             0.8888888888888888,
             "#fdca26"
            ],
            [
             1,
             "#f0f921"
            ]
           ]
          },
          "colorway": [
           "#636efa",
           "#EF553B",
           "#00cc96",
           "#ab63fa",
           "#FFA15A",
           "#19d3f3",
           "#FF6692",
           "#B6E880",
           "#FF97FF",
           "#FECB52"
          ],
          "font": {
           "color": "#2a3f5f"
          },
          "geo": {
           "bgcolor": "white",
           "lakecolor": "white",
           "landcolor": "#E5ECF6",
           "showlakes": true,
           "showland": true,
           "subunitcolor": "white"
          },
          "hoverlabel": {
           "align": "left"
          },
          "hovermode": "closest",
          "mapbox": {
           "style": "light"
          },
          "paper_bgcolor": "white",
          "plot_bgcolor": "#E5ECF6",
          "polar": {
           "angularaxis": {
            "gridcolor": "white",
            "linecolor": "white",
            "ticks": ""
           },
           "bgcolor": "#E5ECF6",
           "radialaxis": {
            "gridcolor": "white",
            "linecolor": "white",
            "ticks": ""
           }
          },
          "scene": {
           "xaxis": {
            "backgroundcolor": "#E5ECF6",
            "gridcolor": "white",
            "gridwidth": 2,
            "linecolor": "white",
            "showbackground": true,
            "ticks": "",
            "zerolinecolor": "white"
           },
           "yaxis": {
            "backgroundcolor": "#E5ECF6",
            "gridcolor": "white",
            "gridwidth": 2,
            "linecolor": "white",
            "showbackground": true,
            "ticks": "",
            "zerolinecolor": "white"
           },
           "zaxis": {
            "backgroundcolor": "#E5ECF6",
            "gridcolor": "white",
            "gridwidth": 2,
            "linecolor": "white",
            "showbackground": true,
            "ticks": "",
            "zerolinecolor": "white"
           }
          },
          "shapedefaults": {
           "line": {
            "color": "#2a3f5f"
           }
          },
          "ternary": {
           "aaxis": {
            "gridcolor": "white",
            "linecolor": "white",
            "ticks": ""
           },
           "baxis": {
            "gridcolor": "white",
            "linecolor": "white",
            "ticks": ""
           },
           "bgcolor": "#E5ECF6",
           "caxis": {
            "gridcolor": "white",
            "linecolor": "white",
            "ticks": ""
           }
          },
          "title": {
           "x": 0.05
          },
          "xaxis": {
           "automargin": true,
           "gridcolor": "white",
           "linecolor": "white",
           "ticks": "",
           "title": {
            "standoff": 15
           },
           "zerolinecolor": "white",
           "zerolinewidth": 2
          },
          "yaxis": {
           "automargin": true,
           "gridcolor": "white",
           "linecolor": "white",
           "ticks": "",
           "title": {
            "standoff": 15
           },
           "zerolinecolor": "white",
           "zerolinewidth": 2
          }
         }
        },
        "title": {
         "text": "Bigram Frequency"
        },
        "xaxis": {
         "anchor": "y",
         "domain": [
          0,
          1
         ],
         "title": {
          "text": "Bigram"
         }
        },
        "yaxis": {
         "anchor": "x",
         "domain": [
          0,
          1
         ],
         "title": {
          "text": "Frequency"
         }
        }
       }
      }
     },
     "metadata": {},
     "output_type": "display_data"
    }
   ],
   "source": [
    "# Create DataFrame\n",
    "df_bigrams = pd.DataFrame(bigrams, columns=['Bigram', 'Frequency'])\n",
    "\n",
    "# Create the bar chart\n",
    "fig = px.bar(df_bigrams, x='Bigram', y='Frequency', title=\"Bigram Frequency\", labels={'Bigram': 'Bigram', 'Frequency': 'Frequency'}, height=800)\n",
    "\n",
    "# Display the chart\n",
    "fig.show()"
   ]
  },
  {
   "cell_type": "markdown",
   "metadata": {},
   "source": [
    "## Dating Algorithms using ML"
   ]
  },
  {
   "cell_type": "code",
   "execution_count": 179,
   "metadata": {},
   "outputs": [],
   "source": [
    "df_profiles_2 = pd.read_csv('randam_chulalongkorn_profiles_bioTokenized.csv')"
   ]
  },
  {
   "cell_type": "markdown",
   "metadata": {},
   "source": [
    "gotta try to make these column like the one in the medium. But use only some columns like looking for, personal traits etc so gotta also create a new df."
   ]
  },
  {
   "cell_type": "code",
   "execution_count": 180,
   "metadata": {},
   "outputs": [
    {
     "data": {
      "text/html": [
       "<div>\n",
       "<style scoped>\n",
       "    .dataframe tbody tr th:only-of-type {\n",
       "        vertical-align: middle;\n",
       "    }\n",
       "\n",
       "    .dataframe tbody tr th {\n",
       "        vertical-align: top;\n",
       "    }\n",
       "\n",
       "    .dataframe thead th {\n",
       "        text-align: right;\n",
       "    }\n",
       "</style>\n",
       "<table border=\"1\" class=\"dataframe\">\n",
       "  <thead>\n",
       "    <tr style=\"text-align: right;\">\n",
       "      <th></th>\n",
       "      <th>BirthDate</th>\n",
       "      <th>Gender</th>\n",
       "      <th>PreferredGender</th>\n",
       "      <th>LookingFor</th>\n",
       "      <th>Faculty</th>\n",
       "      <th>PersonalTraits</th>\n",
       "      <th>Interests</th>\n",
       "      <th>Values</th>\n",
       "      <th>Bio</th>\n",
       "      <th>Bio_processed</th>\n",
       "    </tr>\n",
       "  </thead>\n",
       "  <tbody>\n",
       "    <tr>\n",
       "      <th>0</th>\n",
       "      <td>2000-06-08</td>\n",
       "      <td>m</td>\n",
       "      <td>any</td>\n",
       "      <td>short-term but long-term OK</td>\n",
       "      <td>Science</td>\n",
       "      <td>thoughtful, creative, curious</td>\n",
       "      <td>music, photography</td>\n",
       "      <td>empathy, responsibility</td>\n",
       "      <td>I can speak three languages, and one of them i...</td>\n",
       "      <td>['speak', 'three', 'language', 'one', 'sarcasm...</td>\n",
       "    </tr>\n",
       "    <tr>\n",
       "      <th>1</th>\n",
       "      <td>1998-10-16</td>\n",
       "      <td>f</td>\n",
       "      <td>any</td>\n",
       "      <td>new friends</td>\n",
       "      <td>Business</td>\n",
       "      <td>curious, adventurous, thoughtful</td>\n",
       "      <td>traveling, reading, hiking</td>\n",
       "      <td>creativity, loyalty</td>\n",
       "      <td>I’ve got a collection of 90’s comic books. I e...</td>\n",
       "      <td>['got', 'collection', '90’s', 'comic', 'book',...</td>\n",
       "    </tr>\n",
       "    <tr>\n",
       "      <th>2</th>\n",
       "      <td>2000-02-16</td>\n",
       "      <td>f</td>\n",
       "      <td>any</td>\n",
       "      <td>long-term but short-term OK</td>\n",
       "      <td>Architecture</td>\n",
       "      <td>creative, shy, curious</td>\n",
       "      <td>fashion</td>\n",
       "      <td>empathy, honesty, respect</td>\n",
       "      <td>My cat thinks she's the queen of the house. Lo...</td>\n",
       "      <td>['cat', 'think', \"she's\", 'queen', 'house', 'l...</td>\n",
       "    </tr>\n",
       "    <tr>\n",
       "      <th>3</th>\n",
       "      <td>1999-03-18</td>\n",
       "      <td>f</td>\n",
       "      <td>f</td>\n",
       "      <td>still figuring it out</td>\n",
       "      <td>Arts</td>\n",
       "      <td>adventurous, shy</td>\n",
       "      <td>music</td>\n",
       "      <td>respect, spirituality, independence</td>\n",
       "      <td>My cat thinks she's the queen of the house. Lo...</td>\n",
       "      <td>['cat', 'think', \"she's\", 'queen', 'house', 'l...</td>\n",
       "    </tr>\n",
       "    <tr>\n",
       "      <th>4</th>\n",
       "      <td>1994-02-23</td>\n",
       "      <td>m</td>\n",
       "      <td>any</td>\n",
       "      <td>short-term but long-term OK</td>\n",
       "      <td>Science</td>\n",
       "      <td>thoughtful, creative, shy</td>\n",
       "      <td>fashion, hiking, gaming</td>\n",
       "      <td>independence</td>\n",
       "      <td>I’ve got a collection of 90’s comic books. Cas...</td>\n",
       "      <td>['got', 'collection', '90’s', 'comic', 'book',...</td>\n",
       "    </tr>\n",
       "    <tr>\n",
       "      <th>...</th>\n",
       "      <td>...</td>\n",
       "      <td>...</td>\n",
       "      <td>...</td>\n",
       "      <td>...</td>\n",
       "      <td>...</td>\n",
       "      <td>...</td>\n",
       "      <td>...</td>\n",
       "      <td>...</td>\n",
       "      <td>...</td>\n",
       "      <td>...</td>\n",
       "    </tr>\n",
       "    <tr>\n",
       "      <th>1995</th>\n",
       "      <td>1998-11-17</td>\n",
       "      <td>f</td>\n",
       "      <td>others</td>\n",
       "      <td>short-term but long-term OK</td>\n",
       "      <td>Architecture</td>\n",
       "      <td>funny</td>\n",
       "      <td>fashion, reading, traveling</td>\n",
       "      <td>spirituality, empathy</td>\n",
       "      <td>My cat thinks she's the queen of the house. I ...</td>\n",
       "      <td>['cat', 'think', \"she's\", 'queen', 'house', 'e...</td>\n",
       "    </tr>\n",
       "    <tr>\n",
       "      <th>1996</th>\n",
       "      <td>2004-05-23</td>\n",
       "      <td>f</td>\n",
       "      <td>m</td>\n",
       "      <td>short-term but long-term OK</td>\n",
       "      <td>Medicine</td>\n",
       "      <td>outgoing, thoughtful</td>\n",
       "      <td>sports</td>\n",
       "      <td>empathy</td>\n",
       "      <td>I’ve got a collection of 90’s comic books. I e...</td>\n",
       "      <td>['got', 'collection', '90’s', 'comic', 'book',...</td>\n",
       "    </tr>\n",
       "    <tr>\n",
       "      <th>1997</th>\n",
       "      <td>1995-02-13</td>\n",
       "      <td>m</td>\n",
       "      <td>m</td>\n",
       "      <td>new friends</td>\n",
       "      <td>Arts</td>\n",
       "      <td>creative, thoughtful, curious</td>\n",
       "      <td>fashion, reading</td>\n",
       "      <td>independence, creativity</td>\n",
       "      <td>I once met a celebrity on a hiking trip. Casua...</td>\n",
       "      <td>['met', 'celebrity', 'hiking', 'trip', 'casual...</td>\n",
       "    </tr>\n",
       "    <tr>\n",
       "      <th>1998</th>\n",
       "      <td>2006-10-18</td>\n",
       "      <td>others</td>\n",
       "      <td>any</td>\n",
       "      <td>casual fun</td>\n",
       "      <td>Medicine</td>\n",
       "      <td>thoughtful, ambitious</td>\n",
       "      <td>photography, reading</td>\n",
       "      <td>honesty, independence</td>\n",
       "      <td>I once met a celebrity on a hiking trip. I'm r...</td>\n",
       "      <td>['met', 'celebrity', 'hiking', 'trip', 'ready'...</td>\n",
       "    </tr>\n",
       "    <tr>\n",
       "      <th>1999</th>\n",
       "      <td>1998-07-01</td>\n",
       "      <td>f</td>\n",
       "      <td>any</td>\n",
       "      <td>casual fun</td>\n",
       "      <td>Architecture</td>\n",
       "      <td>creative, ambitious</td>\n",
       "      <td>technology, gaming, sports</td>\n",
       "      <td>creativity</td>\n",
       "      <td>My cat thinks she's the queen of the house. Lo...</td>\n",
       "      <td>['cat', 'think', \"she's\", 'queen', 'house', 'l...</td>\n",
       "    </tr>\n",
       "  </tbody>\n",
       "</table>\n",
       "<p>2000 rows × 10 columns</p>\n",
       "</div>"
      ],
      "text/plain": [
       "       BirthDate  Gender PreferredGender                   LookingFor  \\\n",
       "0     2000-06-08       m             any  short-term but long-term OK   \n",
       "1     1998-10-16       f             any                  new friends   \n",
       "2     2000-02-16       f             any  long-term but short-term OK   \n",
       "3     1999-03-18       f               f        still figuring it out   \n",
       "4     1994-02-23       m             any  short-term but long-term OK   \n",
       "...          ...     ...             ...                          ...   \n",
       "1995  1998-11-17       f          others  short-term but long-term OK   \n",
       "1996  2004-05-23       f               m  short-term but long-term OK   \n",
       "1997  1995-02-13       m               m                  new friends   \n",
       "1998  2006-10-18  others             any                   casual fun   \n",
       "1999  1998-07-01       f             any                   casual fun   \n",
       "\n",
       "           Faculty                    PersonalTraits  \\\n",
       "0          Science     thoughtful, creative, curious   \n",
       "1         Business  curious, adventurous, thoughtful   \n",
       "2     Architecture            creative, shy, curious   \n",
       "3             Arts                  adventurous, shy   \n",
       "4          Science         thoughtful, creative, shy   \n",
       "...            ...                               ...   \n",
       "1995  Architecture                             funny   \n",
       "1996      Medicine              outgoing, thoughtful   \n",
       "1997          Arts     creative, thoughtful, curious   \n",
       "1998      Medicine             thoughtful, ambitious   \n",
       "1999  Architecture               creative, ambitious   \n",
       "\n",
       "                        Interests                               Values  \\\n",
       "0              music, photography              empathy, responsibility   \n",
       "1      traveling, reading, hiking                  creativity, loyalty   \n",
       "2                         fashion            empathy, honesty, respect   \n",
       "3                           music  respect, spirituality, independence   \n",
       "4         fashion, hiking, gaming                         independence   \n",
       "...                           ...                                  ...   \n",
       "1995  fashion, reading, traveling                spirituality, empathy   \n",
       "1996                       sports                              empathy   \n",
       "1997             fashion, reading             independence, creativity   \n",
       "1998         photography, reading                honesty, independence   \n",
       "1999   technology, gaming, sports                           creativity   \n",
       "\n",
       "                                                    Bio  \\\n",
       "0     I can speak three languages, and one of them i...   \n",
       "1     I’ve got a collection of 90’s comic books. I e...   \n",
       "2     My cat thinks she's the queen of the house. Lo...   \n",
       "3     My cat thinks she's the queen of the house. Lo...   \n",
       "4     I’ve got a collection of 90’s comic books. Cas...   \n",
       "...                                                 ...   \n",
       "1995  My cat thinks she's the queen of the house. I ...   \n",
       "1996  I’ve got a collection of 90’s comic books. I e...   \n",
       "1997  I once met a celebrity on a hiking trip. Casua...   \n",
       "1998  I once met a celebrity on a hiking trip. I'm r...   \n",
       "1999  My cat thinks she's the queen of the house. Lo...   \n",
       "\n",
       "                                          Bio_processed  \n",
       "0     ['speak', 'three', 'language', 'one', 'sarcasm...  \n",
       "1     ['got', 'collection', '90’s', 'comic', 'book',...  \n",
       "2     ['cat', 'think', \"she's\", 'queen', 'house', 'l...  \n",
       "3     ['cat', 'think', \"she's\", 'queen', 'house', 'l...  \n",
       "4     ['got', 'collection', '90’s', 'comic', 'book',...  \n",
       "...                                                 ...  \n",
       "1995  ['cat', 'think', \"she's\", 'queen', 'house', 'e...  \n",
       "1996  ['got', 'collection', '90’s', 'comic', 'book',...  \n",
       "1997  ['met', 'celebrity', 'hiking', 'trip', 'casual...  \n",
       "1998  ['met', 'celebrity', 'hiking', 'trip', 'ready'...  \n",
       "1999  ['cat', 'think', \"she's\", 'queen', 'house', 'l...  \n",
       "\n",
       "[2000 rows x 10 columns]"
      ]
     },
     "execution_count": 180,
     "metadata": {},
     "output_type": "execute_result"
    }
   ],
   "source": [
    "df_profiles_2"
   ]
  },
  {
   "cell_type": "code",
   "execution_count": 181,
   "metadata": {},
   "outputs": [
    {
     "ename": "",
     "evalue": "",
     "output_type": "error",
     "traceback": [
      "\u001b[1;31mThe Kernel crashed while executing code in the current cell or a previous cell. \n",
      "\u001b[1;31mPlease review the code in the cell(s) to identify a possible cause of the failure. \n",
      "\u001b[1;31mClick <a href='https://aka.ms/vscodeJupyterKernelCrash'>here</a> for more info. \n",
      "\u001b[1;31mView Jupyter <a href='command:jupyter.viewOutput'>log</a> for further details."
     ]
    }
   ],
   "source": [
    "df_profiles_2.head().to_csv('randam_chulalongkorn_profiles_bioTokenized_head.csv', index=False)"
   ]
  },
  {
   "cell_type": "code",
   "execution_count": null,
   "metadata": {},
   "outputs": [],
   "source": []
  }
 ],
 "metadata": {
  "kernelspec": {
   "display_name": "Python 3",
   "language": "python",
   "name": "python3"
  },
  "language_info": {
   "codemirror_mode": {
    "name": "ipython",
    "version": 3
   },
   "file_extension": ".py",
   "mimetype": "text/x-python",
   "name": "python",
   "nbconvert_exporter": "python",
   "pygments_lexer": "ipython3",
   "version": "3.12.1"
  }
 },
 "nbformat": 4,
 "nbformat_minor": 2
}
